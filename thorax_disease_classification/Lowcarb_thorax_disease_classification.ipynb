{
  "cells": [
    {
      "cell_type": "markdown",
      "metadata": {
        "id": "FLU2v46A66u2"
      },
      "source": [
        "# LowCarb thorax disease classification in Flower"
      ]
    },
    {
      "cell_type": "markdown",
      "source": [
        "This notebook follows adapts the official \"Introduction to Federated Learning\" from the Flower tutorial using PyTorch and the CIFAR10 dataset, to a real life Federated Learning scenario. Here, we simulate the decentralized model training of hospitals on a thorax disease classification problem."
      ],
      "metadata": {
        "id": "Ilnre4XrrLZP"
      }
    },
    {
      "cell_type": "markdown",
      "metadata": {
        "id": "8CowQiKO63e8"
      },
      "source": [
        "## 1. Install packages"
      ]
    },
    {
      "cell_type": "code",
      "execution_count": null,
      "metadata": {
        "id": "lHXOfCIZ6vey"
      },
      "outputs": [],
      "source": [
        "# First we install the Flwr package\n",
        "!pip install -q flwr[simulation]"
      ]
    },
    {
      "cell_type": "code",
      "source": [
        "# Next, we install our Lowcarb, powered by the carbon-aware SDK to enable carbon-aware Federated Learning!\n",
        "!pip install flwr-lowcarb"
      ],
      "metadata": {
        "id": "7E-GYRu2rCtJ"
      },
      "execution_count": null,
      "outputs": []
    },
    {
      "cell_type": "markdown",
      "metadata": {
        "id": "grNc2GELvjD3"
      },
      "source": [
        "## 2. Imports"
      ]
    },
    {
      "cell_type": "code",
      "execution_count": null,
      "metadata": {
        "colab": {
          "base_uri": "https://localhost:8080/"
        },
        "id": "RHQ-3tCTvlPv",
        "outputId": "1fb7e452-73a2-4d99-9eaf-d1e2a2899f72"
      },
      "outputs": [
        {
          "output_type": "stream",
          "name": "stdout",
          "text": [
            "Training on cuda:0\n"
          ]
        }
      ],
      "source": [
        "import os\n",
        "import sys\n",
        "import math\n",
        "import time\n",
        "from glob import glob\n",
        "from PIL import Image\n",
        "from random import sample\n",
        "from collections import OrderedDict\n",
        "from typing import Dict, List, Optional, Tuple\n",
        "\n",
        "import flwr as fl\n",
        "import numpy as np\n",
        "import pandas as pd\n",
        "import matplotlib.pyplot as plt\n",
        "from sklearn.model_selection import train_test_split\n",
        "\n",
        "import torch\n",
        "import torch.nn as nnqunt\n",
        "import torch.nn.functional as F\n",
        "from torch.utils.data import Dataset, DataLoader, random_split\n",
        "\n",
        "from torchvision.utils import make_grid\n",
        "from torchvision.datasets import CIFAR10\n",
        "from torchvision import transforms as T, models\n",
        "\n",
        "DEVICE = torch.device(\"cuda:0\" if torch.cuda.is_available() else \"cpu\")\n",
        "print(f\"Training on {DEVICE}\")"
      ]
    },
    {
      "cell_type": "markdown",
      "metadata": {
        "id": "G5XXXYdm6ic5"
      },
      "source": [
        "## 3. Prepare the data"
      ]
    },
    {
      "cell_type": "markdown",
      "source": [
        "### Download the data and prepare directories"
      ],
      "metadata": {
        "id": "cBQ0lhw9s0ld"
      }
    },
    {
      "cell_type": "code",
      "source": [
        "# Download & Unzip data.zip, create data set directory, needs to be done using kaggle, etc.\n",
        "!mkdir NIH\n",
        "# In order for this command to work, make sure your api token \"kaggle.json\" resides in /root/.kaggle/\n",
        "#!kaggle datasets download -d nih-chest-xrays/data\n",
        "!cp '/content/drive/MyDrive/carbonhack22/data.zip' '/content/'\n",
        "!unzip -q '/content/data.zip' -d '/content/NIH/'\n",
        "!rm '/content/data.zip'"
      ],
      "metadata": {
        "id": "za3gXsPIs3Ji"
      },
      "execution_count": null,
      "outputs": []
    },
    {
      "cell_type": "markdown",
      "source": [
        "### Main utility function for the used data set"
      ],
      "metadata": {
        "id": "O7Ros8Ftsxgs"
      }
    },
    {
      "cell_type": "code",
      "execution_count": null,
      "metadata": {
        "id": "u_JTNAxeF1QS"
      },
      "outputs": [],
      "source": [
        "from PIL import Image\n",
        "from itertools import chain\n",
        "\n",
        "import numpy as np\n",
        "import pandas as pd\n",
        "\n",
        "from torch.utils.data import Dataset\n",
        "\n",
        "class NIH_Dataset(Dataset):\n",
        "  \"\"\"\n",
        "  Main Dataset class to represent NIH Chest X-Ray data\n",
        "  ...\n",
        "  Attributes\n",
        "  ----------\n",
        "  data_df: pandas.DataFrame\n",
        "    A DataFrame that needs to at least have the following two columns:\n",
        "      1. \"path\": Holds chest x-ray image locations\n",
        "      2. \"disease_vec\": Holds multilabel one-hot encoded vector\n",
        "  transform: torchvision.transform.Compose\n",
        "    Image transformations that will be applied to each image when calling \"__getitem__\"\n",
        "  \"\"\"\n",
        "  def __init__(\n",
        "    self, \n",
        "    data_df,\n",
        "    transform=None\n",
        "    ) -> Dataset:\n",
        "    \"\"\"\n",
        "    Parameters\n",
        "    ----------\n",
        "    data_df: pandas.DataFrame\n",
        "      A DataFrame that needs to at least have the following two columns: \n",
        "        1. \"path\": Holds chest x-ray image locations\n",
        "        2. \"disease_vec\": Holds multilabel one-hot encoded vector\n",
        "    transform: torchvision.transform.Compose\n",
        "      Image transformations that will be applied to each image when calling \"__getitem__\"\n",
        "    \"\"\"\n",
        "    self.data_df = data_df\n",
        "    self.transform = transform \n",
        "\n",
        "  def __len__(\n",
        "    self\n",
        "    ) -> int:\n",
        "    return len(self.data_df)\n",
        "\n",
        "  def __getitem__(\n",
        "    self, \n",
        "    idx\n",
        "    ) -> Tuple[torch.Tensor, np.ndarray]:\n",
        "    img_file = self.data_df['path'].iloc[idx]\n",
        "    img = Image.open(img_file).convert('RGB')\n",
        "    label = np.array(self.data_df.iloc[:,-1].iloc[idx], dtype=float)\n",
        "    if self.transform:\n",
        "        img = self.transform(img)\n",
        "\n",
        "    return img, label"
      ]
    },
    {
      "cell_type": "code",
      "execution_count": null,
      "metadata": {
        "id": "c8Zx3mVnIF3h"
      },
      "outputs": [],
      "source": [
        "def load_and_preprocess_data_df(\n",
        "    data_df_root_path: str,\n",
        "    num_data_samples: int = 11000\n",
        "    ) -> Tuple[pd.DataFrame, List]:\n",
        "  \"\"\"\n",
        "  Loads and preprocesses NIH DataFrame that holds information of the data, e.g. image labels.\n",
        "\n",
        "  Parameters\n",
        "  ----------\n",
        "  data_df_root_path: str\n",
        "    This should be the path to the root directory of the NIH data set that, \n",
        "    at least, includes the img-file directories and the panda.DataFrame \n",
        "    \"Data_Entry_2017.csv\". The direcotry should have the following structure:\n",
        "\n",
        "    NIH\n",
        "      |\n",
        "      images_0**\n",
        "      ...\n",
        "      Data_Entry_2017.csv\n",
        "      ...\n",
        "      train_val_list.txt\n",
        "\n",
        "  num_data_samples: int\n",
        "    The total number of data points that we want to sample for our data set.\n",
        "    Maximum is 112120.\n",
        "  \n",
        "  Returns\n",
        "  -------\n",
        "  preprocessed_xray_df: pd.DataFrame\n",
        "    Preprocessed pandas DataFrame with column \"path\"\n",
        "\n",
        "  all_labels: List\n",
        "    List containing all labels as strings\n",
        "  \"\"\"\n",
        "  # Load the DataFrame\n",
        "  all_xray_df = pd.read_csv(\n",
        "      os.path.join(\n",
        "          data_df_root_path,\n",
        "          'Data_Entry_2017.csv'\n",
        "          )\n",
        "      )\n",
        "  # Extract all image paths\n",
        "  all_image_paths = {\n",
        "      os.path.basename(x): x for x in \n",
        "      glob(os.path.join(data_df_root_path, 'images*', '*', '*.png'))\n",
        "      }\n",
        "  # Add image file name column\n",
        "  all_xray_df['path'] = all_xray_df['Image Index'].map(all_image_paths.get)\n",
        "  # Count labels\n",
        "  all_xray_df['Finding Labels'] = all_xray_df['Finding Labels'].map(lambda x: x.replace('No Finding', ''))  \n",
        "  all_labels = np.unique(list(chain(*all_xray_df['Finding Labels'].map(lambda x: x.split('|')).tolist())))\n",
        "  all_labels = [x for x in all_labels if len(x)>0]\n",
        "  for c_label in all_labels:\n",
        "      if len(c_label)>1: # leave out empty labels\n",
        "          all_xray_df[c_label] = all_xray_df['Finding Labels'].map(lambda finding: 1.0 if c_label in finding else 0)\n",
        "  MIN_CASES = 1000\n",
        "  all_labels = [\n",
        "      c_label for c_label in all_labels if all_xray_df[c_label].sum() > MIN_CASES\n",
        "      ]\n",
        "  sample_weights = all_xray_df['Finding Labels'].map(lambda x: len(x.split('|')) if len(x)>0 else 0).values + 4e-2\n",
        "  sample_weights /= sample_weights.sum()\n",
        "  preprocessed_xray_df = all_xray_df.sample(num_data_samples, weights=sample_weights)\n",
        "  # Create one-hot encoding of the vector\n",
        "  preprocessed_xray_df['disease_vec'] = all_xray_df.apply(lambda x: [x[all_labels].values], 1).map(lambda x: x[0])\n",
        "  \n",
        "  return preprocessed_xray_df, all_labels"
      ]
    },
    {
      "cell_type": "code",
      "execution_count": null,
      "metadata": {
        "id": "WsANZ4VtIDlU"
      },
      "outputs": [],
      "source": [
        "def inv_data_transform(\n",
        "    img: torch.Tensor\n",
        "    ) -> torch.Tensor:\n",
        "  \"\"\"\n",
        "  Helper function that un-normalizes torch image tensor\n",
        "  \"\"\"\n",
        "  img = img.permute(1,2,0)\n",
        "  img = img * torch.Tensor([0.229, 0.224, 0.225]) + torch.Tensor([0.485, 0.456, 0.406])\n",
        "  return img\n",
        "\n",
        "def get_data_loaders(\n",
        "    data_df_root_path: str,\n",
        "    num_data_samples: int = 11000,\n",
        "    global_train_frac: float = 0.8,\n",
        "    local_train_frac: float = 0.8,\n",
        "    batch_size: int = 32,\n",
        "    num_clients: int = 10\n",
        "    ) -> Tuple[Tuple[DataLoader, ...], Tuple[DataLoader, ...], DataLoader, List]:\n",
        "\n",
        "  \"\"\"\n",
        "  Main function to create DataLoaders of the NIH X-Ray data set.\n",
        "  \n",
        "  Parameters\n",
        "  ----------\n",
        "  data_df_root_path: str\n",
        "    This should be the path to the root directory of the NIH data set that, \n",
        "    at least, includes the img-file directories and the panda.DataFrame \n",
        "    \"Data_Entry_2017.csv\". The direcotry should have the following structure:\n",
        "    NIHs\n",
        "      |\n",
        "      images_0**\n",
        "      ...\n",
        "      Data_Entry_2017.csv\n",
        "      ...\n",
        "      train_val_list.txt\n",
        "\n",
        "  num_data_samples: int\n",
        "    The total number of data points that we want to sample for our data set.\n",
        "    Maximum is 112120.\n",
        "\n",
        "  global_train_frac: float\n",
        "    The fraction of points used for the global training data set, e.g. the data set that will be later split into local client data sets.\n",
        "\n",
        "  local_train_frac: float\n",
        "      The fraction of points on each local client used for training.\n",
        "\n",
        "  batch_size: int\n",
        "    Batch size on each client\n",
        "\n",
        "  num_clients: int\n",
        "    Total number of clients in the FL setup\n",
        "\n",
        "  Returns\n",
        "  -------\n",
        "  trainloaders: List[torch.utils.data.DataLoader, ...]\n",
        "    List of local training DataLoaders, one for each client\n",
        "\n",
        "  valloaders: List[torch.utils.data.DataLoader, ...]\n",
        "    List of local calidation DataLoaders, one for each client\n",
        "\n",
        "  testloader: torch.utils.data.DataLoader\n",
        "    Global test DataLoader, for the central server\n",
        "  \n",
        "  all_labels: List[str, ...]\n",
        "    List of all string labels\n",
        "\n",
        "  preprocessed_data_df: pd.DataFrame\n",
        "    preprocessed Dataframe that represents the data\n",
        "  \"\"\"\n",
        "  \n",
        "  preprocessed_xray_df, all_labels = load_and_preprocess_data_df(\n",
        "      data_df_root_path,\n",
        "      num_data_samples\n",
        "  )\n",
        "\n",
        "  train_data_transform = T.Compose([\n",
        "    T.RandomRotation((-20,+20)),\n",
        "    T.Resize((224,224)),\n",
        "    T.ToTensor(),\n",
        "    T.Normalize(mean=[0.485, 0.456, 0.406],\n",
        "                std=[0.229, 0.224, 0.225])\n",
        "                ])\n",
        "\n",
        "  test_data_transform = T.Compose([\n",
        "    T.Resize((512,512)),\n",
        "    T.ToTensor(),\n",
        "    T.Normalize(mean=[0.485, 0.456, 0.406],\n",
        "                std=[0.229, 0.224, 0.225])\n",
        "                ])\n",
        "  \n",
        "  train_df, test_df = train_test_split(\n",
        "      preprocessed_xray_df,\n",
        "      test_size = 1 - global_train_frac,\n",
        "      random_state = 42,\n",
        "      stratify = preprocessed_xray_df['Finding Labels'].map( lambda x: x[:4])\n",
        "  )\n",
        "\n",
        "  trainset = NIH_Dataset(\n",
        "      train_df,\n",
        "      transform = train_data_transform\n",
        "      )\n",
        "  \n",
        "  testset = NIH_Dataset(\n",
        "      test_df,\n",
        "      transform = test_data_transform\n",
        "      )\n",
        "\n",
        "  # Split training set into `num_clients` partitions to simulate different local datasets\n",
        "  partition_size = len(trainset) // num_clients\n",
        "  lengths = [partition_size] * num_clients\n",
        "  lengths[-1] += len(trainset) - np.sum(lengths)\n",
        "  datasets = random_split(trainset, lengths, torch.Generator().manual_seed(42))\n",
        "\n",
        "  # Split each partition into train/val and create DataLoader\n",
        "  trainloaders = []\n",
        "  valloaders = []\n",
        "  for ds in datasets:      \n",
        "      len_train = math.ceil(len(ds) * local_train_frac)\n",
        "      len_val = len(ds) - math.ceil(len(ds) * local_train_frac)\n",
        "      lengths = [len_train, len_val]\n",
        "      ds_train, ds_val = random_split(ds, lengths, torch.Generator().manual_seed(42))\n",
        "      trainloaders.append(DataLoader(ds_train, batch_size=batch_size, shuffle=True, drop_last = True))\n",
        "      valloaders.append(DataLoader(ds_val, batch_size=batch_size, drop_last = True))\n",
        "  testloader = DataLoader(testset, batch_size=batch_size)\n",
        "\n",
        "  return trainloaders, valloaders, testloader, all_labels, preprocessed_xray_df"
      ]
    },
    {
      "cell_type": "markdown",
      "metadata": {
        "id": "1YKYlHhyS8wA"
      },
      "source": [
        "### Load the data"
      ]
    },
    {
      "cell_type": "code",
      "execution_count": null,
      "metadata": {
        "id": "rigzBUI_Wovp"
      },
      "outputs": [],
      "source": [
        "num_clients = 100\n",
        "\n",
        "data_df_root_path = '/content/NIH/'\n",
        "num_data_samples = 112120\n",
        "global_train_frac = 0.95\n",
        "local_train_frac = 0.9\n",
        "batch_size = 32\n",
        "\n",
        "trainloaders, valloaders, testloader, all_labels, preprocessed_xray_df = get_data_loaders(\n",
        "    data_df_root_path = data_df_root_path,\n",
        "    num_clients = num_clients,\n",
        "    num_data_samples = num_data_samples,\n",
        "    global_train_frac = global_train_frac,\n",
        "    local_train_frac = local_train_frac,\n",
        "    batch_size = batch_size\n",
        ")"
      ]
    },
    {
      "cell_type": "code",
      "execution_count": null,
      "metadata": {
        "colab": {
          "base_uri": "https://localhost:8080/",
          "height": 248
        },
        "id": "H5Oi7dIN3aWP",
        "outputId": "9ec5401a-e2fe-42d8-bf9c-29eb97a51554"
      },
      "outputs": [
        {
          "output_type": "display_data",
          "data": {
            "text/plain": [
              "<Figure size 432x288 with 1 Axes>"
            ],
            "image/png": "[encoded data removed]"
          },
          "metadata": {
            "needs_background": "light"
          }
        }
      ],
      "source": [
        "plt.imshow(\n",
        "    inv_data_transform(\n",
        "        testloader.dataset[0][0]\n",
        "    )\n",
        ")\n",
        "plt.axis('off');"
      ]
    },
    {
      "cell_type": "code",
      "execution_count": null,
      "metadata": {
        "colab": {
          "base_uri": "https://localhost:8080/"
        },
        "id": "mh6Nm_YzvJpo",
        "outputId": "fe485f30-5b3f-440f-a3fc-5c5b2f40e688"
      },
      "outputs": [
        {
          "output_type": "execute_result",
          "data": {
            "text/plain": [
              "(959, 106, 5607, 13)"
            ]
          },
          "metadata": {},
          "execution_count": 14
        }
      ],
      "source": [
        "len(trainloaders[0].dataset), len(valloaders[0].dataset) ,len(testloader.dataset), len(all_labels)"
      ]
    },
    {
      "cell_type": "markdown",
      "metadata": {
        "id": "UwdUHQgA5qt8"
      },
      "source": [
        "## 4. Training"
      ]
    },
    {
      "cell_type": "markdown",
      "source": [
        "### Train and test utils\n",
        "Here, we implement the main training util functions that we need for the multilabel, classification problem."
      ],
      "metadata": {
        "id": "S3bZ_awuzx9K"
      }
    },
    {
      "cell_type": "code",
      "execution_count": null,
      "metadata": {
        "id": "ZpaMF3WiAfkx"
      },
      "outputs": [],
      "source": [
        "def compute_class_freqs(labels):\n",
        "\n",
        "    labels = np.array(labels)\n",
        "    N = labels.shape[0]\n",
        "\n",
        "    positive_frequencies = np.sum(labels, axis = 0) / N\n",
        "    negative_frequencies = 1 - positive_frequencies\n",
        "\n",
        "    return positive_frequencies, negative_frequencies\n",
        "\n",
        "def weighted_loss(pos_weights, neg_weights, y_pred, y_true, epsilon = 1e-7):\n",
        "    y_pred = torch.sigmoid(y_pred)\n",
        "    loss = 0.0\n",
        "    for i in range(len(pos_weights)):\n",
        "        loss_pos = -1 * torch.mean(pos_weights[i] * y_true[:,i] * torch.log(y_pred[:,i] + epsilon))\n",
        "        loss_neg = -1 * torch.mean(neg_weights[i] * (1-y_true[:,i]) * torch.log((1-y_pred[:,i]) + epsilon))\n",
        "        loss += loss_pos + loss_neg\n",
        "    return loss\n",
        "\n",
        "def get_acc_data(\n",
        "    class_names,\n",
        "    acc_list\n",
        "    ):\n",
        "    df = pd.DataFrame(list(zip(class_names, acc_list)), columns =['Labels', 'Class Acc.']) \n",
        "    return df"
      ]
    },
    {
      "cell_type": "markdown",
      "source": [
        "### Client train and test function used in Flower training setup"
      ],
      "metadata": {
        "id": "w4OOoFSgtco9"
      }
    },
    {
      "cell_type": "code",
      "source": [
        "def train(\n",
        "    net,\n",
        "    trainloader,\n",
        "    epochs\n",
        "    ):\n",
        "    print(f'Entered train function, total num. of epochs: {epochs}')\n",
        "    freq_pos, freq_neg = compute_class_freqs(preprocessed_xray_df.iloc[:,-1])    \n",
        "    pos_weights = freq_neg\n",
        "    neg_weights = freq_pos\n",
        "\n",
        "    valid_loss_min = np.Inf\n",
        "    optimizer = torch.optim.Adam(\n",
        "        net.parameters(),\n",
        "        lr = 1e-4\n",
        "        )\n",
        "    start_time = time.time()\n",
        "    for i in range(epochs):\n",
        "        train_loss = 0.0\n",
        "        valid_loss = 0.0\n",
        "        train_acc = 0.0\n",
        "        valid_acc = 0.0 \n",
        "        net.train()\n",
        "        for j, (images, labels) in enumerate(trainloader):\n",
        "            images = images.to(DEVICE)\n",
        "            labels = labels.to(DEVICE)\n",
        "            ps = net(images)\n",
        "            \n",
        "            loss = weighted_loss(pos_weights, neg_weights, ps, labels)\n",
        "\n",
        "            optimizer.zero_grad()\n",
        "            loss.backward()\n",
        "            optimizer.step()\n",
        "            train_loss += loss.item()\n",
        "        avg_train_loss = train_loss / len(trainloader)\n",
        "        print(\"Epoch : {} Train Loss : {:.6f} \".format(i+1,avg_train_loss))\n",
        "    end_time = time.time()\n",
        "    time_delta = end_time - start_time\n",
        "    print('\\n')\n",
        "    print(f'Time to complete local training round: {time_delta}')\n",
        "    print('\\n')\n",
        "\n",
        "def test(net, testloader):\n",
        "    \n",
        "    # ToDo: Class weights should be different for each client\n",
        "    freq_pos, freq_neg = compute_class_freqs(preprocessed_xray_df.iloc[:,-1])    \n",
        "    pos_weights = freq_neg\n",
        "    neg_weights = freq_pos\n",
        "\n",
        "    per_class_accuracy = [0 for i in range(len(all_labels))]\n",
        "    total = 0.0\n",
        "    loss = 0.0\n",
        "    with torch.no_grad():\n",
        "        for images,labels in testloader:\n",
        "            ps = net(images.to(DEVICE))\n",
        "            labels = labels.to(DEVICE)\n",
        "            loss += weighted_loss( pos_weights, neg_weights, ps, labels)\n",
        "            ps = (ps >= 0.5).float()\n",
        "\n",
        "            for i in range(ps.shape[1]):\n",
        "                x1 = ps[:,i:i+1]\n",
        "                x2 = labels[:,i:i+1]\n",
        "                per_class_accuracy[i] += int((x1 == x2).sum())\n",
        "\n",
        "        per_class_accuracy = [(i/len(testloader.dataset)) * 100.0 for i in per_class_accuracy]\n",
        "\n",
        "    return loss, np.mean(per_class_accuracy)"
      ],
      "metadata": {
        "id": "OV0RgO36tcDK"
      },
      "execution_count": null,
      "outputs": []
    },
    {
      "cell_type": "markdown",
      "metadata": {
        "id": "fNwpqPidJz3m"
      },
      "source": [
        "### Server evaluation function used in Flower training setup"
      ]
    },
    {
      "cell_type": "code",
      "execution_count": null,
      "metadata": {
        "id": "FfVrX3hA6kqX"
      },
      "outputs": [],
      "source": [
        "def server_eval(\n",
        "    server_round: int,\n",
        "    parameters: fl.common.NDArrays,\n",
        "    config: Dict[str, fl.common.Scalar]\n",
        "    ):\n",
        "\n",
        "    freq_pos, freq_neg = compute_class_freqs(preprocessed_xray_df.iloc[:,-1])    \n",
        "    pos_weights = freq_neg\n",
        "    neg_weights = freq_pos\n",
        "    net = init_net().to(DEVICE)\n",
        "    set_parameters(net, parameters)  # Update model with the latest parameters\n",
        "    per_class_accuracy = [0 for i in range(len(all_labels))]\n",
        "    total = 0.0\n",
        "    loss = 0.0\n",
        "    with torch.no_grad():\n",
        "        for images,labels in testloader:\n",
        "            ps = net(images.to(DEVICE))\n",
        "            labels = labels.to(DEVICE)\n",
        "            ps = torch.sigmoid(ps)\n",
        "            ps = (ps >= 0.5).float()\n",
        "            loss += weighted_loss( pos_weights, neg_weights, ps, labels)\n",
        "            for i in range(ps.shape[1]):\n",
        "                x1 = ps[:,i:i+1]\n",
        "                x2 = labels[:,i:i+1]\n",
        "                per_class_accuracy[i] += int((x1 == x2).sum())\n",
        "        per_class_accuracy = [(i/len(testloader.dataset))*100.0 for i in per_class_accuracy]\n",
        "    test_df = get_acc_data(all_labels, per_class_accuracy)\n",
        "    print('\\nServer eval')\n",
        "    print(test_df)\n",
        "    print('\\n')\n",
        "\n",
        "    return loss,  {\"mean_class_acc.\": np.mean(per_class_accuracy)}"
      ]
    },
    {
      "cell_type": "markdown",
      "metadata": {
        "id": "kZByeD1upefu"
      },
      "source": [
        "### Implementation of the Flower Client\n",
        "The FlowerClient for this demo is based on the Flower tutorial.\n",
        "\n",
        "Besides this, granting your client Carbon-Awareness is as non-invasive as it gets.\n",
        "\n",
        "To make your client implementation compatible with lowcarb's LowcarbClientManager (which we'll meet further down the line), you have to make sure only one thing: its get_properties() must return a dict that contains the client's location as a str, e.g. 'uksouth', 'westeurope', 'westus'\n",
        "\n",
        "class Carbon_Aware_Client():\n",
        "    def __init__(self, location: str):\n",
        "        self.location = location\n",
        "\n",
        "    # Make sure the get_properties() method returns the client's location inside a dict\n",
        "    def get_properties(self, config) -> dict:\n",
        "        return {'location': self.location}\n",
        "That's it.\n",
        "\n",
        "Note: If the client's location changes throughout its lifetime, just update it dynamically in get_properties(). The LowcarbClientManager queries it each round."
      ]
    },
    {
      "cell_type": "code",
      "execution_count": null,
      "metadata": {
        "id": "S5l-5slg58Nf"
      },
      "outputs": [],
      "source": [
        "class FlowerClient(fl.client.NumPyClient):\n",
        "    def __init__(self, net, trainloader, valloader, location: str, *args, **kwargs):\n",
        "        super(FlowerClient, self).__init__(*args, **kwargs)\n",
        "        self.net = net\n",
        "        self.trainloader = trainloader\n",
        "        self.valloader = valloader\n",
        "\n",
        "        ### Giving the client a location upon instantiation\n",
        "        self.location = location\n",
        "\n",
        "    def get_parameters(self, config):\n",
        "        return get_parameters(self.net)\n",
        "\n",
        "    def fit(self, parameters, config):\n",
        "        set_parameters(self.net, parameters)\n",
        "        epochs = config[\"local_epochs\"]\n",
        "        train(self.net, self.trainloader, epochs=epochs)\n",
        "        return get_parameters(self.net), len(self.trainloader), {}\n",
        "\n",
        "    def evaluate(self, parameters, config):\n",
        "        set_parameters(self.net, parameters)\n",
        "        loss, accuracy = test(self.net, self.valloader)\n",
        "        return float(loss), len(self.valloader), {\"accuracy\": float(accuracy)}\n",
        "\n",
        "    # Make sure the get_properties() method returns the client's location inside a dict\n",
        "    def get_properties(self, config) -> dict:\n",
        "        return {'location': self.location}\n",
        "\n",
        "def get_parameters(net) -> List[np.ndarray]:\n",
        "    return [val.cpu().numpy() for _, val in net.state_dict().items()]\n",
        "\n",
        "def set_parameters(net, parameters: List[np.ndarray]):\n",
        "    params_dict = zip(net.state_dict().keys(), parameters)\n",
        "    state_dict = OrderedDict({k: torch.Tensor(v) for k, v in params_dict})\n",
        "    try:\n",
        "      net.load_state_dict(state_dict, strict=True)\n",
        "    except:\n",
        "      print('Skip loading params')"
      ]
    },
    {
      "cell_type": "markdown",
      "source": [
        "### Flower Simulation Setup\n",
        "Generating Clients at Locations around the World\n",
        "For performance reasons, the clients are not persistent and are instantiated (NUM_CLIENTS in total) each round by the simulation calling client_generator(cid: str) with ['01', '02', '03', ...] (see the Flower tutorial). Thus, we sample the clients-location-mapping client_regions_by_cid from a list of available regions available_regions, which are supported by the Carbon-Aware-SDK. Important: the mapping has to be done outside the scope of client_generator.\n",
        "\n",
        "IMPORTANT: this is not the carbon-aware sampling for each federated learning round. The client_generator only creates the pool of available clients (from which the LowcarbClientManager will sample clients in a carbon-aware manner later)."
      ],
      "metadata": {
        "id": "sHyCYnI_0pI_"
      }
    },
    {
      "cell_type": "code",
      "source": [
        "def init_net():  \n",
        "  net = models.resnet18(\n",
        "    weights=None\n",
        "  )\n",
        "  net.fc = torch.nn.Linear(\n",
        "      net.fc.in_features,\n",
        "      len(all_labels)\n",
        "  )\n",
        "  return net\n",
        "\n",
        "available_regions = ['westcentralus', 'ukwest', 'uksouth', 'westeurope', \n",
        "                     'westus', 'australiacentral', 'australiaeast', \n",
        "                     'swedencentral', 'norwaywest', 'norwayeast', 'northeurope', \n",
        "                     'centralus', 'francesouth', 'francecentral']\n",
        "\n",
        "client_regions_by_cid = [sample(available_regions, 1)[0] for i in range(0, num_clients)]\n",
        "\n",
        "def client_fn(cid: str) -> FlowerClient:\n",
        "    \"\"\"Create a Flower client representing a single organization.\"\"\"\n",
        "    # Load model\n",
        "    net = init_net().to(DEVICE)\n",
        "    trainloader = trainloaders[int(cid)]\n",
        "    valloader = valloaders[int(cid)]\n",
        "    print(f'Created client: {cid}')\n",
        "    return FlowerClient(net, trainloader, valloader, location=client_regions_by_cid[int(cid)])"
      ],
      "metadata": {
        "id": "bUwM4vQ40izk"
      },
      "execution_count": null,
      "outputs": []
    },
    {
      "cell_type": "markdown",
      "source": [
        "### Using the default SimpleClientManager\n",
        "Flower's defautl SimpleClientManager *randomly* selects participating clients in each communication round."
      ],
      "metadata": {
        "id": "TBciOW7F1IkC"
      }
    },
    {
      "cell_type": "markdown",
      "metadata": {
        "id": "2dbzhhDtLN04"
      },
      "source": [
        "#### Starting the Simulation"
      ]
    },
    {
      "cell_type": "code",
      "execution_count": null,
      "metadata": {
        "id": "ZNEdoe3uSumm"
      },
      "outputs": [],
      "source": [
        "num_rounds = 100\n",
        "local_epochs = 35 # On an A100, 35 local epochs should take approximately 15 mins\n",
        "fraction_fit = 0.03\n",
        "fraction_evaluate = 0.03\n",
        "min_fit_clients = 3\n",
        "min_evaluate_clients = 3\n",
        "\n",
        "client_resources = {\n",
        "    \"num_cpus\": 1,\n",
        "    \"num_gpus\": 1\n",
        "    }\n",
        "\n",
        "def fit_config(server_round: int):\n",
        "    config = {\n",
        "        \"server_round\": server_round,\n",
        "        \"local_epochs\": local_epochs,\n",
        "    }\n",
        "    return config\n",
        "\n",
        "# Create an instance of the model and get the parameters\n",
        "net = init_net()\n",
        "params = get_parameters(init_net())\n",
        "\n",
        "# Pass parameters to the Strategy for server-side parameter initialization\n",
        "strategy = fl.server.strategy.FedAvg(\n",
        "    fraction_fit=fraction_fit,\n",
        "    fraction_evaluate=fraction_evaluate,\n",
        "    min_fit_clients=min_fit_clients,\n",
        "    min_evaluate_clients=min_evaluate_clients,\n",
        "    min_available_clients=num_clients,\n",
        "    initial_parameters=fl.common.ndarrays_to_parameters(params),\n",
        "    evaluate_fn=server_eval,\n",
        "    on_fit_config_fn=fit_config,\n",
        ")\n",
        "\n",
        "# Start simulation\n",
        "history_simple_client_manager = fl.simulation.start_simulation(\n",
        "    client_fn=client_fn,\n",
        "    num_clients=num_clients,\n",
        "    client_resources=client_resources,\n",
        "    config=fl.server.ServerConfig(num_rounds=num_rounds),\n",
        "    strategy=strategy,\n",
        ")"
      ]
    },
    {
      "cell_type": "markdown",
      "metadata": {
        "id": "j9rsnl7hJ6ac"
      },
      "source": [
        "### Using the LowcarbClientManager\n",
        "For your Flower application to become carbon-aware and automatically select only clients with the least possible carbon footprint, use the LowcarbClientManager. LowcarbClientManager is powered by the Carbon-Aware-SDK's WebApi. Feel free to host it locally or use a remote endpoint."
      ]
    },
    {
      "cell_type": "code",
      "source": [
        "from lowcarb.lowcarb_client_manager import LowcarbClientManager\n",
        "\n",
        "carbon_aware_sdk_api = 'https://carbon-aware-api.azurewebsites.net' # URL to the Carbon-Aware_SDK's WebApi\n",
        "workload_duration = 15  # estimated workload of each training in minutes\n",
        "forecast_window = 12    # forecast window considered by the client manager in hours\n",
        "lowcarb_client_manager = LowcarbClientManager(api_host=carbon_aware_sdk_api, workload_duration=15, forecast_window=12)"
      ],
      "metadata": {
        "id": "qqKY3-FXq0PY"
      },
      "execution_count": null,
      "outputs": []
    },
    {
      "cell_type": "markdown",
      "metadata": {
        "id": "_qH4Pu7eLqL6"
      },
      "source": [
        "#### Starting the Simulation"
      ]
    },
    {
      "cell_type": "code",
      "execution_count": null,
      "metadata": {
        "id": "B1Ee-buUNyLN"
      },
      "outputs": [],
      "source": [
        "num_rounds = 3\n",
        "local_epochs = 35 # On an A100, 35 local epochs should take approximately 15 mins\n",
        "fraction_fit = 0.03\n",
        "fraction_evaluate = 0.03\n",
        "min_fit_clients = 3\n",
        "min_evaluate_clients = 3\n",
        "\n",
        "client_resources = {\n",
        "    \"num_cpus\": 1,\n",
        "    \"num_gpus\": 1\n",
        "    }\n",
        "def fit_config(server_round: int):\n",
        "    config = {\n",
        "        \"server_round\": server_round,\n",
        "        \"local_epochs\": local_epochs,\n",
        "    }\n",
        "    return config\n",
        "# Create an instance of the model and get the parameters\n",
        "net = init_net()\n",
        "params = get_parameters(init_net())\n",
        "# Pass parameters to the Strategy for server-side parameter initialization\n",
        "strategy = fl.server.strategy.FedAvg(\n",
        "    fraction_fit=fraction_fit,\n",
        "    fraction_evaluate=fraction_evaluate,\n",
        "    min_fit_clients=min_fit_clients,\n",
        "    min_evaluate_clients=min_evaluate_clients,\n",
        "    min_available_clients=num_clients,\n",
        "    initial_parameters=fl.common.ndarrays_to_parameters(params),\n",
        "    evaluate_fn=server_eval,\n",
        "    on_fit_config_fn=fit_config,\n",
        ")\n",
        "# Start simulation\n",
        "history_lowcarb_client_manager = fl.simulation.start_simulation(\n",
        "    client_fn=client_fn,\n",
        "    num_clients=num_clients,\n",
        "    config=fl.server.ServerConfig(num_rounds=num_rounds),\n",
        "    strategy=strategy,\n",
        "    client_manager=lowcarb_client_manager,  # pass the lowcarb_client_manager to the simulation\n",
        "    client_resources=client_resources\n",
        ")"
      ]
    }
  ],
  "metadata": {
    "colab": {
      "collapsed_sections": [
        "G5XXXYdm6ic5",
        "cBQ0lhw9s0ld",
        "O7Ros8Ftsxgs",
        "1YKYlHhyS8wA",
        "S3bZ_awuzx9K",
        "w4OOoFSgtco9",
        "fNwpqPidJz3m"
      ],
      "provenance": [],
      "toc_visible": true
    },
    "gpuClass": "premium",
    "kernelspec": {
      "display_name": "Python 3",
      "name": "python3"
    },
    "language_info": {
      "name": "python"
    }
  },
  "nbformat": 4,
  "nbformat_minor": 0
}