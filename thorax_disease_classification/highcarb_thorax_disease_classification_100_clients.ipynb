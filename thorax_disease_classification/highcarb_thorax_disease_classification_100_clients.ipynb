{
  "cells": [
    {
      "cell_type": "markdown",
      "metadata": {
        "id": "FLU2v46A66u2"
      },
      "source": [
        "# LowCarb thorax disease classification in Flower"
      ]
    },
    {
      "cell_type": "markdown",
      "metadata": {
        "id": "vHtLCCz2NWC3"
      },
      "source": [
        "## Check GPU availability"
      ]
    },
    {
      "cell_type": "code",
      "execution_count": null,
      "metadata": {
        "colab": {
          "base_uri": "https://localhost:8080/"
        },
        "id": "4mKwZQyyLwUv",
        "outputId": "13f64bb5-70c4-4977-b8b8-2bff73f299db"
      },
      "outputs": [
        {
          "name": "stdout",
          "output_type": "stream",
          "text": [
            "Sun Oct 23 16:09:22 2022       \n",
            "+-----------------------------------------------------------------------------+\n",
            "| NVIDIA-SMI 460.32.03    Driver Version: 460.32.03    CUDA Version: 11.2     |\n",
            "|-------------------------------+----------------------+----------------------+\n",
            "| GPU  Name        Persistence-M| Bus-Id        Disp.A | Volatile Uncorr. ECC |\n",
            "| Fan  Temp  Perf  Pwr:Usage/Cap|         Memory-Usage | GPU-Util  Compute M. |\n",
            "|                               |                      |               MIG M. |\n",
            "|===============================+======================+======================|\n",
            "|   0  Tesla T4            Off  | 00000000:00:04.0 Off |                    0 |\n",
            "| N/A   41C    P8    12W /  70W |      0MiB / 15109MiB |      0%      Default |\n",
            "|                               |                      |                  N/A |\n",
            "+-------------------------------+----------------------+----------------------+\n",
            "                                                                               \n",
            "+-----------------------------------------------------------------------------+\n",
            "| Processes:                                                                  |\n",
            "|  GPU   GI   CI        PID   Type   Process name                  GPU Memory |\n",
            "|        ID   ID                                                   Usage      |\n",
            "|=============================================================================|\n",
            "|  No running processes found                                                 |\n",
            "+-----------------------------------------------------------------------------+\n"
          ]
        }
      ],
      "source": [
        "gpu_info = !nvidia-smi\n",
        "gpu_info = '\\n'.join(gpu_info)\n",
        "if gpu_info.find('failed') >= 0:\n",
        "  print('Not connected to a GPU')\n",
        "else:\n",
        "  print(gpu_info)"
      ]
    },
    {
      "cell_type": "markdown",
      "metadata": {
        "id": "mtoyp-b2NYIe"
      },
      "source": [
        "## Create dirs, get data "
      ]
    },
    {
      "cell_type": "code",
      "execution_count": 1,
      "metadata": {
        "id": "7fODONtR3CgP"
      },
      "outputs": [],
      "source": [
        "!mkdir NIH\n",
        "!mkdir /root/.kaggle/"
      ]
    },
    {
      "cell_type": "markdown",
      "metadata": {
        "id": "NmJd_Jb62xQt"
      },
      "source": [
        "### Copy Kaggle API-key to created directory at '/root/.kaggle'"
      ]
    },
    {
      "cell_type": "code",
      "execution_count": 2,
      "metadata": {
        "id": "vgDZ9Zbqmn9E"
      },
      "outputs": [],
      "source": [
        "!cp '/content/drive/MyDrive/professional/Research_Jobs/UMI/projects/APIs/kaggle.json' '/root/.kaggle'"
      ]
    },
    {
      "cell_type": "code",
      "execution_count": 3,
      "metadata": {
        "colab": {
          "base_uri": "https://localhost:8080/"
        },
        "id": "ZWLdG0c35F5v",
        "outputId": "1b8cdd51-b9b7-474c-c5cd-a0ee0164a5c9"
      },
      "outputs": [
        {
          "output_type": "stream",
          "name": "stdout",
          "text": [
            "Downloading data.zip to /content\n",
            "100% 42.0G/42.0G [12:20<00:00, 72.3MB/s]\n",
            "100% 42.0G/42.0G [12:20<00:00, 60.9MB/s]\n"
          ]
        }
      ],
      "source": [
        "!kaggle datasets download -d nih-chest-xrays/data"
      ]
    },
    {
      "cell_type": "code",
      "execution_count": 4,
      "metadata": {
        "id": "Q9vB9RBo3GWB"
      },
      "outputs": [],
      "source": [
        "!unzip -q '/content/data.zip' -d '/content/NIH/'"
      ]
    },
    {
      "cell_type": "markdown",
      "metadata": {
        "id": "8CowQiKO63e8"
      },
      "source": [
        "## Install packages"
      ]
    },
    {
      "cell_type": "code",
      "execution_count": 5,
      "metadata": {
        "colab": {
          "base_uri": "https://localhost:8080/",
          "height": 1000
        },
        "id": "lHXOfCIZ6vey",
        "outputId": "c40c832d-87ec-43c3-8d2c-a4c845406699"
      },
      "outputs": [
        {
          "output_type": "stream",
          "name": "stdout",
          "text": [
            "Looking in indexes: https://pypi.org/simple, https://us-python.pkg.dev/colab-wheels/public/simple/\n",
            "Collecting flwr[simulation]\n",
            "  Downloading flwr-1.0.0-py3-none-any.whl (90 kB)\n",
            "\u001b[K     |████████████████████████████████| 90 kB 8.8 MB/s \n",
            "\u001b[?25hCollecting iterators<0.0.3,>=0.0.2\n",
            "  Downloading iterators-0.0.2-py3-none-any.whl (3.9 kB)\n",
            "Requirement already satisfied: grpcio<2.0.0,>=1.43.0 in /usr/local/lib/python3.7/dist-packages (from flwr[simulation]) (1.49.1)\n",
            "Requirement already satisfied: numpy<2.0.0,>=1.21.0 in /usr/local/lib/python3.7/dist-packages (from flwr[simulation]) (1.21.6)\n",
            "Requirement already satisfied: importlib-metadata<5.0.0,>=4.0.0 in /usr/local/lib/python3.7/dist-packages (from flwr[simulation]) (4.13.0)\n",
            "Collecting protobuf<4.0.0,>=3.19.0\n",
            "  Downloading protobuf-3.20.3-cp37-cp37m-manylinux_2_5_x86_64.manylinux1_x86_64.whl (1.0 MB)\n",
            "\u001b[K     |████████████████████████████████| 1.0 MB 93.8 MB/s \n",
            "\u001b[?25hCollecting ray[default]<1.14.0,>=1.13.0\n",
            "  Downloading ray-1.13.0-cp37-cp37m-manylinux2014_x86_64.whl (54.5 MB)\n",
            "\u001b[K     |████████████████████████████████| 54.5 MB 1.2 MB/s \n",
            "\u001b[?25hRequirement already satisfied: six>=1.5.2 in /usr/local/lib/python3.7/dist-packages (from grpcio<2.0.0,>=1.43.0->flwr[simulation]) (1.15.0)\n",
            "Requirement already satisfied: zipp>=0.5 in /usr/local/lib/python3.7/dist-packages (from importlib-metadata<5.0.0,>=4.0.0->flwr[simulation]) (3.9.0)\n",
            "Requirement already satisfied: typing-extensions>=3.6.4 in /usr/local/lib/python3.7/dist-packages (from importlib-metadata<5.0.0,>=4.0.0->flwr[simulation]) (4.1.1)\n",
            "Requirement already satisfied: frozenlist in /usr/local/lib/python3.7/dist-packages (from ray[default]<1.14.0,>=1.13.0->flwr[simulation]) (1.3.1)\n",
            "Requirement already satisfied: requests in /usr/local/lib/python3.7/dist-packages (from ray[default]<1.14.0,>=1.13.0->flwr[simulation]) (2.23.0)\n",
            "Requirement already satisfied: aiosignal in /usr/local/lib/python3.7/dist-packages (from ray[default]<1.14.0,>=1.13.0->flwr[simulation]) (1.2.0)\n",
            "Requirement already satisfied: jsonschema in /usr/local/lib/python3.7/dist-packages (from ray[default]<1.14.0,>=1.13.0->flwr[simulation]) (4.3.3)\n",
            "Requirement already satisfied: pyyaml in /usr/local/lib/python3.7/dist-packages (from ray[default]<1.14.0,>=1.13.0->flwr[simulation]) (6.0)\n",
            "Requirement already satisfied: filelock in /usr/local/lib/python3.7/dist-packages (from ray[default]<1.14.0,>=1.13.0->flwr[simulation]) (3.8.0)\n",
            "Requirement already satisfied: attrs in /usr/local/lib/python3.7/dist-packages (from ray[default]<1.14.0,>=1.13.0->flwr[simulation]) (22.1.0)\n",
            "Collecting grpcio<2.0.0,>=1.43.0\n",
            "  Downloading grpcio-1.43.0-cp37-cp37m-manylinux_2_17_x86_64.manylinux2014_x86_64.whl (4.1 MB)\n",
            "\u001b[K     |████████████████████████████████| 4.1 MB 57.6 MB/s \n",
            "\u001b[?25hCollecting virtualenv\n",
            "  Downloading virtualenv-20.16.5-py3-none-any.whl (8.8 MB)\n",
            "\u001b[K     |████████████████████████████████| 8.8 MB 63.0 MB/s \n",
            "\u001b[?25hRequirement already satisfied: msgpack<2.0.0,>=1.0.0 in /usr/local/lib/python3.7/dist-packages (from ray[default]<1.14.0,>=1.13.0->flwr[simulation]) (1.0.4)\n",
            "Requirement already satisfied: click<=8.0.4,>=7.0 in /usr/local/lib/python3.7/dist-packages (from ray[default]<1.14.0,>=1.13.0->flwr[simulation]) (7.1.2)\n",
            "Collecting colorful\n",
            "  Downloading colorful-0.5.4-py2.py3-none-any.whl (201 kB)\n",
            "\u001b[K     |████████████████████████████████| 201 kB 96.1 MB/s \n",
            "\u001b[?25hCollecting py-spy>=0.2.0\n",
            "  Downloading py_spy-0.3.14-py2.py3-none-manylinux_2_5_x86_64.manylinux1_x86_64.whl (3.0 MB)\n",
            "\u001b[K     |████████████████████████████████| 3.0 MB 86.9 MB/s \n",
            "\u001b[?25hRequirement already satisfied: smart-open in /usr/local/lib/python3.7/dist-packages (from ray[default]<1.14.0,>=1.13.0->flwr[simulation]) (5.2.1)\n",
            "Collecting prometheus-client<0.14.0,>=0.7.1\n",
            "  Downloading prometheus_client-0.13.1-py3-none-any.whl (57 kB)\n",
            "\u001b[K     |████████████████████████████████| 57 kB 5.6 MB/s \n",
            "\u001b[?25hRequirement already satisfied: aiohttp>=3.7 in /usr/local/lib/python3.7/dist-packages (from ray[default]<1.14.0,>=1.13.0->flwr[simulation]) (3.8.3)\n",
            "Collecting opencensus\n",
            "  Downloading opencensus-0.11.0-py2.py3-none-any.whl (128 kB)\n",
            "\u001b[K     |████████████████████████████████| 128 kB 94.6 MB/s \n",
            "\u001b[?25hCollecting aiohttp-cors\n",
            "  Downloading aiohttp_cors-0.7.0-py3-none-any.whl (27 kB)\n",
            "Collecting gpustat>=1.0.0b1\n",
            "  Downloading gpustat-1.0.0.tar.gz (90 kB)\n",
            "\u001b[K     |████████████████████████████████| 90 kB 11.3 MB/s \n",
            "\u001b[?25hRequirement already satisfied: charset-normalizer<3.0,>=2.0 in /usr/local/lib/python3.7/dist-packages (from aiohttp>=3.7->ray[default]<1.14.0,>=1.13.0->flwr[simulation]) (2.1.1)\n",
            "Requirement already satisfied: asynctest==0.13.0 in /usr/local/lib/python3.7/dist-packages (from aiohttp>=3.7->ray[default]<1.14.0,>=1.13.0->flwr[simulation]) (0.13.0)\n",
            "Requirement already satisfied: async-timeout<5.0,>=4.0.0a3 in /usr/local/lib/python3.7/dist-packages (from aiohttp>=3.7->ray[default]<1.14.0,>=1.13.0->flwr[simulation]) (4.0.2)\n",
            "Requirement already satisfied: yarl<2.0,>=1.0 in /usr/local/lib/python3.7/dist-packages (from aiohttp>=3.7->ray[default]<1.14.0,>=1.13.0->flwr[simulation]) (1.8.1)\n",
            "Requirement already satisfied: multidict<7.0,>=4.5 in /usr/local/lib/python3.7/dist-packages (from aiohttp>=3.7->ray[default]<1.14.0,>=1.13.0->flwr[simulation]) (6.0.2)\n",
            "Collecting nvidia-ml-py<=11.495.46,>=11.450.129\n",
            "  Downloading nvidia_ml_py-11.495.46-py3-none-any.whl (25 kB)\n",
            "Collecting psutil>=5.6.0\n",
            "  Downloading psutil-5.9.3-cp37-cp37m-manylinux_2_12_x86_64.manylinux2010_x86_64.manylinux_2_17_x86_64.manylinux2014_x86_64.whl (291 kB)\n",
            "\u001b[K     |████████████████████████████████| 291 kB 96.2 MB/s \n",
            "\u001b[?25hCollecting blessed>=1.17.1\n",
            "  Downloading blessed-1.19.1-py2.py3-none-any.whl (58 kB)\n",
            "\u001b[K     |████████████████████████████████| 58 kB 7.1 MB/s \n",
            "\u001b[?25hRequirement already satisfied: wcwidth>=0.1.4 in /usr/local/lib/python3.7/dist-packages (from blessed>=1.17.1->gpustat>=1.0.0b1->ray[default]<1.14.0,>=1.13.0->flwr[simulation]) (0.2.5)\n",
            "Requirement already satisfied: idna>=2.0 in /usr/local/lib/python3.7/dist-packages (from yarl<2.0,>=1.0->aiohttp>=3.7->ray[default]<1.14.0,>=1.13.0->flwr[simulation]) (2.10)\n",
            "Requirement already satisfied: pyrsistent!=0.17.0,!=0.17.1,!=0.17.2,>=0.14.0 in /usr/local/lib/python3.7/dist-packages (from jsonschema->ray[default]<1.14.0,>=1.13.0->flwr[simulation]) (0.18.1)\n",
            "Requirement already satisfied: importlib-resources>=1.4.0 in /usr/local/lib/python3.7/dist-packages (from jsonschema->ray[default]<1.14.0,>=1.13.0->flwr[simulation]) (5.10.0)\n",
            "Requirement already satisfied: google-api-core<3.0.0,>=1.0.0 in /usr/local/lib/python3.7/dist-packages (from opencensus->ray[default]<1.14.0,>=1.13.0->flwr[simulation]) (1.31.6)\n",
            "Collecting opencensus-context>=0.1.3\n",
            "  Downloading opencensus_context-0.1.3-py2.py3-none-any.whl (5.1 kB)\n",
            "Requirement already satisfied: google-auth<2.0dev,>=1.25.0 in /usr/local/lib/python3.7/dist-packages (from google-api-core<3.0.0,>=1.0.0->opencensus->ray[default]<1.14.0,>=1.13.0->flwr[simulation]) (1.35.0)\n",
            "Requirement already satisfied: googleapis-common-protos<2.0dev,>=1.6.0 in /usr/local/lib/python3.7/dist-packages (from google-api-core<3.0.0,>=1.0.0->opencensus->ray[default]<1.14.0,>=1.13.0->flwr[simulation]) (1.56.4)\n",
            "Requirement already satisfied: packaging>=14.3 in /usr/local/lib/python3.7/dist-packages (from google-api-core<3.0.0,>=1.0.0->opencensus->ray[default]<1.14.0,>=1.13.0->flwr[simulation]) (21.3)\n",
            "Requirement already satisfied: pytz in /usr/local/lib/python3.7/dist-packages (from google-api-core<3.0.0,>=1.0.0->opencensus->ray[default]<1.14.0,>=1.13.0->flwr[simulation]) (2022.4)\n",
            "Requirement already satisfied: setuptools>=40.3.0 in /usr/local/lib/python3.7/dist-packages (from google-api-core<3.0.0,>=1.0.0->opencensus->ray[default]<1.14.0,>=1.13.0->flwr[simulation]) (57.4.0)\n",
            "Requirement already satisfied: cachetools<5.0,>=2.0.0 in /usr/local/lib/python3.7/dist-packages (from google-auth<2.0dev,>=1.25.0->google-api-core<3.0.0,>=1.0.0->opencensus->ray[default]<1.14.0,>=1.13.0->flwr[simulation]) (4.2.4)\n",
            "Requirement already satisfied: rsa<5,>=3.1.4 in /usr/local/lib/python3.7/dist-packages (from google-auth<2.0dev,>=1.25.0->google-api-core<3.0.0,>=1.0.0->opencensus->ray[default]<1.14.0,>=1.13.0->flwr[simulation]) (4.9)\n",
            "Requirement already satisfied: pyasn1-modules>=0.2.1 in /usr/local/lib/python3.7/dist-packages (from google-auth<2.0dev,>=1.25.0->google-api-core<3.0.0,>=1.0.0->opencensus->ray[default]<1.14.0,>=1.13.0->flwr[simulation]) (0.2.8)\n",
            "Requirement already satisfied: pyparsing!=3.0.5,>=2.0.2 in /usr/local/lib/python3.7/dist-packages (from packaging>=14.3->google-api-core<3.0.0,>=1.0.0->opencensus->ray[default]<1.14.0,>=1.13.0->flwr[simulation]) (3.0.9)\n",
            "Requirement already satisfied: pyasn1<0.5.0,>=0.4.6 in /usr/local/lib/python3.7/dist-packages (from pyasn1-modules>=0.2.1->google-auth<2.0dev,>=1.25.0->google-api-core<3.0.0,>=1.0.0->opencensus->ray[default]<1.14.0,>=1.13.0->flwr[simulation]) (0.4.8)\n",
            "Requirement already satisfied: chardet<4,>=3.0.2 in /usr/local/lib/python3.7/dist-packages (from requests->ray[default]<1.14.0,>=1.13.0->flwr[simulation]) (3.0.4)\n",
            "Requirement already satisfied: certifi>=2017.4.17 in /usr/local/lib/python3.7/dist-packages (from requests->ray[default]<1.14.0,>=1.13.0->flwr[simulation]) (2022.9.24)\n",
            "Requirement already satisfied: urllib3!=1.25.0,!=1.25.1,<1.26,>=1.21.1 in /usr/local/lib/python3.7/dist-packages (from requests->ray[default]<1.14.0,>=1.13.0->flwr[simulation]) (1.24.3)\n",
            "Collecting platformdirs<3,>=2.4\n",
            "  Downloading platformdirs-2.5.2-py3-none-any.whl (14 kB)\n",
            "Collecting distlib<1,>=0.3.5\n",
            "  Downloading distlib-0.3.6-py2.py3-none-any.whl (468 kB)\n",
            "\u001b[K     |████████████████████████████████| 468 kB 70.3 MB/s \n",
            "\u001b[?25hBuilding wheels for collected packages: gpustat\n",
            "  Building wheel for gpustat (setup.py) ... \u001b[?25l\u001b[?25hdone\n",
            "  Created wheel for gpustat: filename=gpustat-1.0.0-py3-none-any.whl size=19889 sha256=c880d657db33da6e2df75413c063354a0148eb81155c8e4a10ae142c785fc8be\n",
            "  Stored in directory: /root/.cache/pip/wheels/d2/31/5c/eb69af6e2285e7d6ec8d7dc26435be7c81c6ad22c45efdcca7\n",
            "Successfully built gpustat\n",
            "Installing collected packages: protobuf, platformdirs, distlib, virtualenv, psutil, opencensus-context, nvidia-ml-py, grpcio, blessed, ray, py-spy, prometheus-client, opencensus, iterators, gpustat, colorful, aiohttp-cors, flwr\n",
            "  Attempting uninstall: protobuf\n",
            "    Found existing installation: protobuf 3.17.3\n",
            "    Uninstalling protobuf-3.17.3:\n",
            "      Successfully uninstalled protobuf-3.17.3\n",
            "  Attempting uninstall: psutil\n",
            "    Found existing installation: psutil 5.4.8\n",
            "    Uninstalling psutil-5.4.8:\n",
            "      Successfully uninstalled psutil-5.4.8\n",
            "  Attempting uninstall: grpcio\n",
            "    Found existing installation: grpcio 1.49.1\n",
            "    Uninstalling grpcio-1.49.1:\n",
            "      Successfully uninstalled grpcio-1.49.1\n",
            "\u001b[31mERROR: pip's dependency resolver does not currently take into account all the packages that are installed. This behaviour is the source of the following dependency conflicts.\n",
            "tensorflow 2.9.2 requires protobuf<3.20,>=3.9.2, but you have protobuf 3.20.3 which is incompatible.\n",
            "tensorboard 2.9.1 requires protobuf<3.20,>=3.9.2, but you have protobuf 3.20.3 which is incompatible.\u001b[0m\n",
            "Successfully installed aiohttp-cors-0.7.0 blessed-1.19.1 colorful-0.5.4 distlib-0.3.6 flwr-1.0.0 gpustat-1.0.0 grpcio-1.43.0 iterators-0.0.2 nvidia-ml-py-11.495.46 opencensus-0.11.0 opencensus-context-0.1.3 platformdirs-2.5.2 prometheus-client-0.13.1 protobuf-3.20.3 psutil-5.9.3 py-spy-0.3.14 ray-1.13.0 virtualenv-20.16.5\n"
          ]
        },
        {
          "output_type": "display_data",
          "data": {
            "application/vnd.colab-display-data+json": {
              "pip_warning": {
                "packages": [
                  "google",
                  "psutil"
                ]
              }
            }
          },
          "metadata": {}
        }
      ],
      "source": [
        "!pip install flwr[simulation]"
      ]
    },
    {
      "cell_type": "markdown",
      "metadata": {
        "id": "grNc2GELvjD3"
      },
      "source": [
        "## Imports"
      ]
    },
    {
      "cell_type": "code",
      "execution_count": 6,
      "metadata": {
        "colab": {
          "base_uri": "https://localhost:8080/"
        },
        "id": "RHQ-3tCTvlPv",
        "outputId": "4fc4f0cb-9912-45c4-d0f3-2882c2ee6971"
      },
      "outputs": [
        {
          "output_type": "stream",
          "name": "stdout",
          "text": [
            "Training on cuda:0\n"
          ]
        }
      ],
      "source": [
        "import os\n",
        "import sys\n",
        "import math\n",
        "import time\n",
        "from glob import glob\n",
        "from PIL import Image\n",
        "from collections import OrderedDict\n",
        "from typing import Dict, List, Optional, Tuple\n",
        "\n",
        "import flwr as fl\n",
        "import numpy as np\n",
        "import pandas as pd\n",
        "import matplotlib.pyplot as plt\n",
        "from sklearn.model_selection import train_test_split\n",
        "\n",
        "import torch\n",
        "import torch.nn as nnqunt\n",
        "import torch.nn.functional as F\n",
        "from torch.utils.data import Dataset, DataLoader, random_split\n",
        "\n",
        "from torchvision.utils import make_grid\n",
        "from torchvision.datasets import CIFAR10\n",
        "from torchvision import transforms as T, models\n",
        "\n",
        "DEVICE = torch.device(\"cuda:0\" if torch.cuda.is_available() else \"cpu\")\n",
        "print(f\"Training on {DEVICE}\")"
      ]
    },
    {
      "cell_type": "markdown",
      "metadata": {
        "id": "G5XXXYdm6ic5"
      },
      "source": [
        "## Data"
      ]
    },
    {
      "cell_type": "markdown",
      "metadata": {
        "id": "45ozbtM24s2k"
      },
      "source": [
        "### Preprocess"
      ]
    },
    {
      "cell_type": "code",
      "execution_count": 7,
      "metadata": {
        "id": "Yz34zjmYPihV"
      },
      "outputs": [],
      "source": [
        "root_img_dir = '/content/NIH/'"
      ]
    },
    {
      "cell_type": "code",
      "execution_count": 8,
      "metadata": {
        "colab": {
          "base_uri": "https://localhost:8080/",
          "height": 243
        },
        "id": "OPOdXKySPN2-",
        "outputId": "622b41d7-c3a3-4dd5-a4dc-0648d7fc2920"
      },
      "outputs": [
        {
          "output_type": "stream",
          "name": "stdout",
          "text": [
            "Scans found: 112120 , Total Headers 112120\n"
          ]
        },
        {
          "output_type": "execute_result",
          "data": {
            "text/plain": [
              "            Image Index                       Finding Labels  Follow-up #  \\\n",
              "61200  00015087_005.png                           No Finding            5   \n",
              "51829  00013089_004.png  Consolidation|Effusion|Infiltration            4   \n",
              "13832  00003568_001.png                         Infiltration            1   \n",
              "\n",
              "       Patient ID  Patient Age Patient Gender View Position  \\\n",
              "61200       15087           66              M            AP   \n",
              "51829       13089           50              M            PA   \n",
              "13832        3568           62              M            PA   \n",
              "\n",
              "       OriginalImage[Width  Height]  OriginalImagePixelSpacing[x     y]  \\\n",
              "61200                 2500     2048                        0.168  0.168   \n",
              "51829                 2992     2991                        0.143  0.143   \n",
              "13832                 2992     2991                        0.143  0.143   \n",
              "\n",
              "       Unnamed: 11                                             path  \n",
              "61200          NaN  /content/NIH/images_007/images/00015087_005.png  \n",
              "51829          NaN  /content/NIH/images_006/images/00013089_004.png  \n",
              "13832          NaN  /content/NIH/images_002/images/00003568_001.png  "
            ],
            "text/html": [
              "\n",
              "  <div id=\"df-44ec5daa-d150-4007-a5bc-64a1c430b07b\">\n",
              "    <div class=\"colab-df-container\">\n",
              "      <div>\n",
              "<style scoped>\n",
              "    .dataframe tbody tr th:only-of-type {\n",
              "        vertical-align: middle;\n",
              "    }\n",
              "\n",
              "    .dataframe tbody tr th {\n",
              "        vertical-align: top;\n",
              "    }\n",
              "\n",
              "    .dataframe thead th {\n",
              "        text-align: right;\n",
              "    }\n",
              "</style>\n",
              "<table border=\"1\" class=\"dataframe\">\n",
              "  <thead>\n",
              "    <tr style=\"text-align: right;\">\n",
              "      <th></th>\n",
              "      <th>Image Index</th>\n",
              "      <th>Finding Labels</th>\n",
              "      <th>Follow-up #</th>\n",
              "      <th>Patient ID</th>\n",
              "      <th>Patient Age</th>\n",
              "      <th>Patient Gender</th>\n",
              "      <th>View Position</th>\n",
              "      <th>OriginalImage[Width</th>\n",
              "      <th>Height]</th>\n",
              "      <th>OriginalImagePixelSpacing[x</th>\n",
              "      <th>y]</th>\n",
              "      <th>Unnamed: 11</th>\n",
              "      <th>path</th>\n",
              "    </tr>\n",
              "  </thead>\n",
              "  <tbody>\n",
              "    <tr>\n",
              "      <th>61200</th>\n",
              "      <td>00015087_005.png</td>\n",
              "      <td>No Finding</td>\n",
              "      <td>5</td>\n",
              "      <td>15087</td>\n",
              "      <td>66</td>\n",
              "      <td>M</td>\n",
              "      <td>AP</td>\n",
              "      <td>2500</td>\n",
              "      <td>2048</td>\n",
              "      <td>0.168</td>\n",
              "      <td>0.168</td>\n",
              "      <td>NaN</td>\n",
              "      <td>/content/NIH/images_007/images/00015087_005.png</td>\n",
              "    </tr>\n",
              "    <tr>\n",
              "      <th>51829</th>\n",
              "      <td>00013089_004.png</td>\n",
              "      <td>Consolidation|Effusion|Infiltration</td>\n",
              "      <td>4</td>\n",
              "      <td>13089</td>\n",
              "      <td>50</td>\n",
              "      <td>M</td>\n",
              "      <td>PA</td>\n",
              "      <td>2992</td>\n",
              "      <td>2991</td>\n",
              "      <td>0.143</td>\n",
              "      <td>0.143</td>\n",
              "      <td>NaN</td>\n",
              "      <td>/content/NIH/images_006/images/00013089_004.png</td>\n",
              "    </tr>\n",
              "    <tr>\n",
              "      <th>13832</th>\n",
              "      <td>00003568_001.png</td>\n",
              "      <td>Infiltration</td>\n",
              "      <td>1</td>\n",
              "      <td>3568</td>\n",
              "      <td>62</td>\n",
              "      <td>M</td>\n",
              "      <td>PA</td>\n",
              "      <td>2992</td>\n",
              "      <td>2991</td>\n",
              "      <td>0.143</td>\n",
              "      <td>0.143</td>\n",
              "      <td>NaN</td>\n",
              "      <td>/content/NIH/images_002/images/00003568_001.png</td>\n",
              "    </tr>\n",
              "  </tbody>\n",
              "</table>\n",
              "</div>\n",
              "      <button class=\"colab-df-convert\" onclick=\"convertToInteractive('df-44ec5daa-d150-4007-a5bc-64a1c430b07b')\"\n",
              "              title=\"Convert this dataframe to an interactive table.\"\n",
              "              style=\"display:none;\">\n",
              "        \n",
              "  <svg xmlns=\"http://www.w3.org/2000/svg\" height=\"24px\"viewBox=\"0 0 24 24\"\n",
              "       width=\"24px\">\n",
              "    <path d=\"M0 0h24v24H0V0z\" fill=\"none\"/>\n",
              "    <path d=\"M18.56 5.44l.94 2.06.94-2.06 2.06-.94-2.06-.94-.94-2.06-.94 2.06-2.06.94zm-11 1L8.5 8.5l.94-2.06 2.06-.94-2.06-.94L8.5 2.5l-.94 2.06-2.06.94zm10 10l.94 2.06.94-2.06 2.06-.94-2.06-.94-.94-2.06-.94 2.06-2.06.94z\"/><path d=\"M17.41 7.96l-1.37-1.37c-.4-.4-.92-.59-1.43-.59-.52 0-1.04.2-1.43.59L10.3 9.45l-7.72 7.72c-.78.78-.78 2.05 0 2.83L4 21.41c.39.39.9.59 1.41.59.51 0 1.02-.2 1.41-.59l7.78-7.78 2.81-2.81c.8-.78.8-2.07 0-2.86zM5.41 20L4 18.59l7.72-7.72 1.47 1.35L5.41 20z\"/>\n",
              "  </svg>\n",
              "      </button>\n",
              "      \n",
              "  <style>\n",
              "    .colab-df-container {\n",
              "      display:flex;\n",
              "      flex-wrap:wrap;\n",
              "      gap: 12px;\n",
              "    }\n",
              "\n",
              "    .colab-df-convert {\n",
              "      background-color: #E8F0FE;\n",
              "      border: none;\n",
              "      border-radius: 50%;\n",
              "      cursor: pointer;\n",
              "      display: none;\n",
              "      fill: #1967D2;\n",
              "      height: 32px;\n",
              "      padding: 0 0 0 0;\n",
              "      width: 32px;\n",
              "    }\n",
              "\n",
              "    .colab-df-convert:hover {\n",
              "      background-color: #E2EBFA;\n",
              "      box-shadow: 0px 1px 2px rgba(60, 64, 67, 0.3), 0px 1px 3px 1px rgba(60, 64, 67, 0.15);\n",
              "      fill: #174EA6;\n",
              "    }\n",
              "\n",
              "    [theme=dark] .colab-df-convert {\n",
              "      background-color: #3B4455;\n",
              "      fill: #D2E3FC;\n",
              "    }\n",
              "\n",
              "    [theme=dark] .colab-df-convert:hover {\n",
              "      background-color: #434B5C;\n",
              "      box-shadow: 0px 1px 3px 1px rgba(0, 0, 0, 0.15);\n",
              "      filter: drop-shadow(0px 1px 2px rgba(0, 0, 0, 0.3));\n",
              "      fill: #FFFFFF;\n",
              "    }\n",
              "  </style>\n",
              "\n",
              "      <script>\n",
              "        const buttonEl =\n",
              "          document.querySelector('#df-44ec5daa-d150-4007-a5bc-64a1c430b07b button.colab-df-convert');\n",
              "        buttonEl.style.display =\n",
              "          google.colab.kernel.accessAllowed ? 'block' : 'none';\n",
              "\n",
              "        async function convertToInteractive(key) {\n",
              "          const element = document.querySelector('#df-44ec5daa-d150-4007-a5bc-64a1c430b07b');\n",
              "          const dataTable =\n",
              "            await google.colab.kernel.invokeFunction('convertToInteractive',\n",
              "                                                     [key], {});\n",
              "          if (!dataTable) return;\n",
              "\n",
              "          const docLinkHtml = 'Like what you see? Visit the ' +\n",
              "            '<a target=\"_blank\" href=https://colab.research.google.com/notebooks/data_table.ipynb>data table notebook</a>'\n",
              "            + ' to learn more about interactive tables.';\n",
              "          element.innerHTML = '';\n",
              "          dataTable['output_type'] = 'display_data';\n",
              "          await google.colab.output.renderOutput(dataTable, element);\n",
              "          const docLink = document.createElement('div');\n",
              "          docLink.innerHTML = docLinkHtml;\n",
              "          element.appendChild(docLink);\n",
              "        }\n",
              "      </script>\n",
              "    </div>\n",
              "  </div>\n",
              "  "
            ]
          },
          "metadata": {},
          "execution_count": 8
        }
      ],
      "source": [
        "all_xray_df = pd.read_csv(\n",
        "    os.path.join(\n",
        "        root_img_dir,\n",
        "        'Data_Entry_2017.csv'\n",
        "        )\n",
        "    )\n",
        "\n",
        "all_image_paths = {\n",
        "    os.path.basename(x): x for x in \n",
        "    glob(os.path.join(root_img_dir, 'images*', '*', '*.png'))\n",
        "    }\n",
        "\n",
        "print('Scans found:', len(all_image_paths), ', Total Headers', all_xray_df.shape[0])\n",
        "all_xray_df['path'] = all_xray_df['Image Index'].map(all_image_paths.get)\n",
        "# all_xray_df['Patient Age'] = all_xray_df['Patient Age'].map(lambda x: int(x[:-1]))\n",
        "\n",
        "all_xray_df.sample(3)"
      ]
    },
    {
      "cell_type": "code",
      "execution_count": 9,
      "metadata": {
        "colab": {
          "base_uri": "https://localhost:8080/",
          "height": 583
        },
        "id": "w6zolca4PN5x",
        "outputId": "7bc594d0-4451-4c8b-da3a-6e0e7c00702c"
      },
      "outputs": [
        {
          "output_type": "display_data",
          "data": {
            "text/plain": [
              "<Figure size 864x576 with 1 Axes>"
            ],
            "image/png": "[encoded data removed]"
          },
          "metadata": {
            "needs_background": "light"
          }
        }
      ],
      "source": [
        "label_counts = all_xray_df['Finding Labels'].value_counts()[:15]\n",
        "fig, ax1 = plt.subplots(1,1,figsize = (12, 8))\n",
        "ax1.bar(np.arange(len(label_counts))+0.5, label_counts)\n",
        "ax1.set_xticks(np.arange(len(label_counts))+0.5)\n",
        "_ = ax1.set_xticklabels(label_counts.index, rotation = 90)"
      ]
    },
    {
      "cell_type": "code",
      "execution_count": 10,
      "metadata": {
        "colab": {
          "base_uri": "https://localhost:8080/",
          "height": 273
        },
        "id": "us8ftKY8PN8b",
        "outputId": "61e1dedf-f8cf-46d7-ab14-9c9f52527307"
      },
      "outputs": [
        {
          "output_type": "stream",
          "name": "stdout",
          "text": [
            "All Labels (14): ['Atelectasis', 'Cardiomegaly', 'Consolidation', 'Edema', 'Effusion', 'Emphysema', 'Fibrosis', 'Hernia', 'Infiltration', 'Mass', 'Nodule', 'Pleural_Thickening', 'Pneumonia', 'Pneumothorax']\n"
          ]
        },
        {
          "output_type": "execute_result",
          "data": {
            "text/plain": [
              "            Image Index Finding Labels  Follow-up #  Patient ID  Patient Age  \\\n",
              "62350  00015425_000.png                           0       15425           50   \n",
              "28243  00007354_015.png   Infiltration           15        7354           43   \n",
              "57958  00014352_000.png                           0       14352            5   \n",
              "\n",
              "      Patient Gender View Position  OriginalImage[Width  Height]  \\\n",
              "62350              F            PA                 2992     2991   \n",
              "28243              M            AP                 2500     2048   \n",
              "57958              M            PA                 2048     2500   \n",
              "\n",
              "       OriginalImagePixelSpacing[x  ...  Effusion  Emphysema Fibrosis  Hernia  \\\n",
              "62350                        0.143  ...       0.0        0.0      0.0     0.0   \n",
              "28243                        0.168  ...       0.0        0.0      0.0     0.0   \n",
              "57958                        0.168  ...       0.0        0.0      0.0     0.0   \n",
              "\n",
              "       Infiltration  Mass  Nodule  Pleural_Thickening  Pneumonia  Pneumothorax  \n",
              "62350           0.0   0.0     0.0                 0.0        0.0           0.0  \n",
              "28243           1.0   0.0     0.0                 0.0        0.0           0.0  \n",
              "57958           0.0   0.0     0.0                 0.0        0.0           0.0  \n",
              "\n",
              "[3 rows x 27 columns]"
            ],
            "text/html": [
              "\n",
              "  <div id=\"df-1f672e7d-5c7f-46ca-8fb2-e6badd676d44\">\n",
              "    <div class=\"colab-df-container\">\n",
              "      <div>\n",
              "<style scoped>\n",
              "    .dataframe tbody tr th:only-of-type {\n",
              "        vertical-align: middle;\n",
              "    }\n",
              "\n",
              "    .dataframe tbody tr th {\n",
              "        vertical-align: top;\n",
              "    }\n",
              "\n",
              "    .dataframe thead th {\n",
              "        text-align: right;\n",
              "    }\n",
              "</style>\n",
              "<table border=\"1\" class=\"dataframe\">\n",
              "  <thead>\n",
              "    <tr style=\"text-align: right;\">\n",
              "      <th></th>\n",
              "      <th>Image Index</th>\n",
              "      <th>Finding Labels</th>\n",
              "      <th>Follow-up #</th>\n",
              "      <th>Patient ID</th>\n",
              "      <th>Patient Age</th>\n",
              "      <th>Patient Gender</th>\n",
              "      <th>View Position</th>\n",
              "      <th>OriginalImage[Width</th>\n",
              "      <th>Height]</th>\n",
              "      <th>OriginalImagePixelSpacing[x</th>\n",
              "      <th>...</th>\n",
              "      <th>Effusion</th>\n",
              "      <th>Emphysema</th>\n",
              "      <th>Fibrosis</th>\n",
              "      <th>Hernia</th>\n",
              "      <th>Infiltration</th>\n",
              "      <th>Mass</th>\n",
              "      <th>Nodule</th>\n",
              "      <th>Pleural_Thickening</th>\n",
              "      <th>Pneumonia</th>\n",
              "      <th>Pneumothorax</th>\n",
              "    </tr>\n",
              "  </thead>\n",
              "  <tbody>\n",
              "    <tr>\n",
              "      <th>62350</th>\n",
              "      <td>00015425_000.png</td>\n",
              "      <td></td>\n",
              "      <td>0</td>\n",
              "      <td>15425</td>\n",
              "      <td>50</td>\n",
              "      <td>F</td>\n",
              "      <td>PA</td>\n",
              "      <td>2992</td>\n",
              "      <td>2991</td>\n",
              "      <td>0.143</td>\n",
              "      <td>...</td>\n",
              "      <td>0.0</td>\n",
              "      <td>0.0</td>\n",
              "      <td>0.0</td>\n",
              "      <td>0.0</td>\n",
              "      <td>0.0</td>\n",
              "      <td>0.0</td>\n",
              "      <td>0.0</td>\n",
              "      <td>0.0</td>\n",
              "      <td>0.0</td>\n",
              "      <td>0.0</td>\n",
              "    </tr>\n",
              "    <tr>\n",
              "      <th>28243</th>\n",
              "      <td>00007354_015.png</td>\n",
              "      <td>Infiltration</td>\n",
              "      <td>15</td>\n",
              "      <td>7354</td>\n",
              "      <td>43</td>\n",
              "      <td>M</td>\n",
              "      <td>AP</td>\n",
              "      <td>2500</td>\n",
              "      <td>2048</td>\n",
              "      <td>0.168</td>\n",
              "      <td>...</td>\n",
              "      <td>0.0</td>\n",
              "      <td>0.0</td>\n",
              "      <td>0.0</td>\n",
              "      <td>0.0</td>\n",
              "      <td>1.0</td>\n",
              "      <td>0.0</td>\n",
              "      <td>0.0</td>\n",
              "      <td>0.0</td>\n",
              "      <td>0.0</td>\n",
              "      <td>0.0</td>\n",
              "    </tr>\n",
              "    <tr>\n",
              "      <th>57958</th>\n",
              "      <td>00014352_000.png</td>\n",
              "      <td></td>\n",
              "      <td>0</td>\n",
              "      <td>14352</td>\n",
              "      <td>5</td>\n",
              "      <td>M</td>\n",
              "      <td>PA</td>\n",
              "      <td>2048</td>\n",
              "      <td>2500</td>\n",
              "      <td>0.168</td>\n",
              "      <td>...</td>\n",
              "      <td>0.0</td>\n",
              "      <td>0.0</td>\n",
              "      <td>0.0</td>\n",
              "      <td>0.0</td>\n",
              "      <td>0.0</td>\n",
              "      <td>0.0</td>\n",
              "      <td>0.0</td>\n",
              "      <td>0.0</td>\n",
              "      <td>0.0</td>\n",
              "      <td>0.0</td>\n",
              "    </tr>\n",
              "  </tbody>\n",
              "</table>\n",
              "<p>3 rows × 27 columns</p>\n",
              "</div>\n",
              "      <button class=\"colab-df-convert\" onclick=\"convertToInteractive('df-1f672e7d-5c7f-46ca-8fb2-e6badd676d44')\"\n",
              "              title=\"Convert this dataframe to an interactive table.\"\n",
              "              style=\"display:none;\">\n",
              "        \n",
              "  <svg xmlns=\"http://www.w3.org/2000/svg\" height=\"24px\"viewBox=\"0 0 24 24\"\n",
              "       width=\"24px\">\n",
              "    <path d=\"M0 0h24v24H0V0z\" fill=\"none\"/>\n",
              "    <path d=\"M18.56 5.44l.94 2.06.94-2.06 2.06-.94-2.06-.94-.94-2.06-.94 2.06-2.06.94zm-11 1L8.5 8.5l.94-2.06 2.06-.94-2.06-.94L8.5 2.5l-.94 2.06-2.06.94zm10 10l.94 2.06.94-2.06 2.06-.94-2.06-.94-.94-2.06-.94 2.06-2.06.94z\"/><path d=\"M17.41 7.96l-1.37-1.37c-.4-.4-.92-.59-1.43-.59-.52 0-1.04.2-1.43.59L10.3 9.45l-7.72 7.72c-.78.78-.78 2.05 0 2.83L4 21.41c.39.39.9.59 1.41.59.51 0 1.02-.2 1.41-.59l7.78-7.78 2.81-2.81c.8-.78.8-2.07 0-2.86zM5.41 20L4 18.59l7.72-7.72 1.47 1.35L5.41 20z\"/>\n",
              "  </svg>\n",
              "      </button>\n",
              "      \n",
              "  <style>\n",
              "    .colab-df-container {\n",
              "      display:flex;\n",
              "      flex-wrap:wrap;\n",
              "      gap: 12px;\n",
              "    }\n",
              "\n",
              "    .colab-df-convert {\n",
              "      background-color: #E8F0FE;\n",
              "      border: none;\n",
              "      border-radius: 50%;\n",
              "      cursor: pointer;\n",
              "      display: none;\n",
              "      fill: #1967D2;\n",
              "      height: 32px;\n",
              "      padding: 0 0 0 0;\n",
              "      width: 32px;\n",
              "    }\n",
              "\n",
              "    .colab-df-convert:hover {\n",
              "      background-color: #E2EBFA;\n",
              "      box-shadow: 0px 1px 2px rgba(60, 64, 67, 0.3), 0px 1px 3px 1px rgba(60, 64, 67, 0.15);\n",
              "      fill: #174EA6;\n",
              "    }\n",
              "\n",
              "    [theme=dark] .colab-df-convert {\n",
              "      background-color: #3B4455;\n",
              "      fill: #D2E3FC;\n",
              "    }\n",
              "\n",
              "    [theme=dark] .colab-df-convert:hover {\n",
              "      background-color: #434B5C;\n",
              "      box-shadow: 0px 1px 3px 1px rgba(0, 0, 0, 0.15);\n",
              "      filter: drop-shadow(0px 1px 2px rgba(0, 0, 0, 0.3));\n",
              "      fill: #FFFFFF;\n",
              "    }\n",
              "  </style>\n",
              "\n",
              "      <script>\n",
              "        const buttonEl =\n",
              "          document.querySelector('#df-1f672e7d-5c7f-46ca-8fb2-e6badd676d44 button.colab-df-convert');\n",
              "        buttonEl.style.display =\n",
              "          google.colab.kernel.accessAllowed ? 'block' : 'none';\n",
              "\n",
              "        async function convertToInteractive(key) {\n",
              "          const element = document.querySelector('#df-1f672e7d-5c7f-46ca-8fb2-e6badd676d44');\n",
              "          const dataTable =\n",
              "            await google.colab.kernel.invokeFunction('convertToInteractive',\n",
              "                                                     [key], {});\n",
              "          if (!dataTable) return;\n",
              "\n",
              "          const docLinkHtml = 'Like what you see? Visit the ' +\n",
              "            '<a target=\"_blank\" href=https://colab.research.google.com/notebooks/data_table.ipynb>data table notebook</a>'\n",
              "            + ' to learn more about interactive tables.';\n",
              "          element.innerHTML = '';\n",
              "          dataTable['output_type'] = 'display_data';\n",
              "          await google.colab.output.renderOutput(dataTable, element);\n",
              "          const docLink = document.createElement('div');\n",
              "          docLink.innerHTML = docLinkHtml;\n",
              "          element.appendChild(docLink);\n",
              "        }\n",
              "      </script>\n",
              "    </div>\n",
              "  </div>\n",
              "  "
            ]
          },
          "metadata": {},
          "execution_count": 10
        }
      ],
      "source": [
        "all_xray_df['Finding Labels'] = all_xray_df['Finding Labels'].map(lambda x: x.replace('No Finding', ''))\n",
        "from itertools import chain\n",
        "all_labels = np.unique(list(chain(*all_xray_df['Finding Labels'].map(lambda x: x.split('|')).tolist())))\n",
        "all_labels = [x for x in all_labels if len(x)>0]\n",
        "print('All Labels ({}): {}'.format(len(all_labels), all_labels))\n",
        "for c_label in all_labels:\n",
        "    if len(c_label)>1: # leave out empty labels\n",
        "        all_xray_df[c_label] = all_xray_df['Finding Labels'].map(lambda finding: 1.0 if c_label in finding else 0)\n",
        "all_xray_df.sample(3)"
      ]
    },
    {
      "cell_type": "code",
      "execution_count": 11,
      "metadata": {
        "colab": {
          "base_uri": "https://localhost:8080/"
        },
        "id": "ym5CxJBDTuQZ",
        "outputId": "2b8224fc-f8fc-4944-af03-ff83a88b7a8e"
      },
      "outputs": [
        {
          "output_type": "stream",
          "name": "stdout",
          "text": [
            "Clean Labels (13) [('Atelectasis', 11559), ('Cardiomegaly', 2776), ('Consolidation', 4667), ('Edema', 2303), ('Effusion', 13317), ('Emphysema', 2516), ('Fibrosis', 1686), ('Infiltration', 19894), ('Mass', 5782), ('Nodule', 6331), ('Pleural_Thickening', 3385), ('Pneumonia', 1431), ('Pneumothorax', 5302)]\n"
          ]
        }
      ],
      "source": [
        "# keep at least 1000 cases\n",
        "MIN_CASES = 1000\n",
        "all_labels = [\n",
        "    c_label for c_label in all_labels if all_xray_df[c_label].sum()>MIN_CASES\n",
        "    ]\n",
        "print('Clean Labels ({})'.format(len(all_labels)), \n",
        "      [(c_label,int(all_xray_df[c_label].sum())) for c_label in all_labels])"
      ]
    },
    {
      "cell_type": "code",
      "execution_count": 12,
      "metadata": {
        "colab": {
          "base_uri": "https://localhost:8080/",
          "height": 583
        },
        "id": "-bMuE8iDT2LT",
        "outputId": "4c03bd8a-09bc-433b-ae02-419b6f4365c2"
      },
      "outputs": [
        {
          "output_type": "display_data",
          "data": {
            "text/plain": [
              "<Figure size 864x576 with 1 Axes>"
            ],
            "image/png": "[encoded data removed]"
          },
          "metadata": {
            "needs_background": "light"
          }
        }
      ],
      "source": [
        "# since the dataset is very unbiased, we can resample it to be a more reasonable collection\n",
        "# weight is 0.1 + number of findings\n",
        "sample_weights = all_xray_df['Finding Labels'].map(lambda x: len(x.split('|')) if len(x)>0 else 0).values + 4e-2\n",
        "sample_weights /= sample_weights.sum()\n",
        "\n",
        "all_xray_df = all_xray_df.sample(112120, weights=sample_weights)\n",
        "\n",
        "label_counts = all_xray_df['Finding Labels'].value_counts()[:15]\n",
        "fig, ax1 = plt.subplots(1,1,figsize = (12, 8))\n",
        "ax1.bar(np.arange(len(label_counts))+0.5, label_counts)\n",
        "ax1.set_xticks(np.arange(len(label_counts))+0.5)\n",
        "_ = ax1.set_xticklabels(label_counts.index, rotation = 90)"
      ]
    },
    {
      "cell_type": "code",
      "execution_count": 13,
      "metadata": {
        "colab": {
          "base_uri": "https://localhost:8080/",
          "height": 583
        },
        "id": "T1zRuIqHT5pF",
        "outputId": "1a84da9c-739d-42c3-8617-c61236e5faf6"
      },
      "outputs": [
        {
          "output_type": "display_data",
          "data": {
            "text/plain": [
              "<Figure size 864x576 with 1 Axes>"
            ],
            "image/png": "[encoded data removed]"
          },
          "metadata": {
            "needs_background": "light"
          }
        }
      ],
      "source": [
        "label_counts = 100*np.mean(all_xray_df[all_labels].values,0)\n",
        "fig, ax1 = plt.subplots(1,1,figsize = (12, 8))\n",
        "ax1.bar(np.arange(len(label_counts))+0.5, label_counts)\n",
        "ax1.set_xticks(np.arange(len(label_counts))+0.5)\n",
        "ax1.set_xticklabels(all_labels, rotation = 90)\n",
        "ax1.set_title('Adjusted Frequency of Diseases in Patient Group')\n",
        "_ = ax1.set_ylabel('Frequency (%)')"
      ]
    },
    {
      "cell_type": "code",
      "execution_count": 14,
      "metadata": {
        "id": "YGv8mwYIUGQY"
      },
      "outputs": [],
      "source": [
        "all_xray_df['disease_vec'] = all_xray_df.apply(lambda x: [x[all_labels].values], 1).map(lambda x: x[0])"
      ]
    },
    {
      "cell_type": "code",
      "execution_count": null,
      "metadata": {
        "colab": {
          "background_save": true
        },
        "id": "L-aF9NwEWWr-",
        "outputId": "c988470f-0bda-49a7-e466-dbdc5ce2a3bd"
      },
      "outputs": [
        {
          "data": {
            "text/html": [
              "\n",
              "  <div id=\"df-9c6efa6f-a067-4f08-ab17-842d0cb39394\">\n",
              "    <div class=\"colab-df-container\">\n",
              "      <div>\n",
              "<style scoped>\n",
              "    .dataframe tbody tr th:only-of-type {\n",
              "        vertical-align: middle;\n",
              "    }\n",
              "\n",
              "    .dataframe tbody tr th {\n",
              "        vertical-align: top;\n",
              "    }\n",
              "\n",
              "    .dataframe thead th {\n",
              "        text-align: right;\n",
              "    }\n",
              "</style>\n",
              "<table border=\"1\" class=\"dataframe\">\n",
              "  <thead>\n",
              "    <tr style=\"text-align: right;\">\n",
              "      <th></th>\n",
              "      <th>Image Index</th>\n",
              "      <th>Finding Labels</th>\n",
              "      <th>Follow-up #</th>\n",
              "      <th>Patient ID</th>\n",
              "      <th>Patient Age</th>\n",
              "      <th>Patient Gender</th>\n",
              "      <th>View Position</th>\n",
              "      <th>OriginalImage[Width</th>\n",
              "      <th>Height]</th>\n",
              "      <th>OriginalImagePixelSpacing[x</th>\n",
              "      <th>...</th>\n",
              "      <th>Emphysema</th>\n",
              "      <th>Fibrosis</th>\n",
              "      <th>Hernia</th>\n",
              "      <th>Infiltration</th>\n",
              "      <th>Mass</th>\n",
              "      <th>Nodule</th>\n",
              "      <th>Pleural_Thickening</th>\n",
              "      <th>Pneumonia</th>\n",
              "      <th>Pneumothorax</th>\n",
              "      <th>disease_vec</th>\n",
              "    </tr>\n",
              "  </thead>\n",
              "  <tbody>\n",
              "    <tr>\n",
              "      <th>14008</th>\n",
              "      <td>00003617_000.png</td>\n",
              "      <td></td>\n",
              "      <td>0</td>\n",
              "      <td>3617</td>\n",
              "      <td>70</td>\n",
              "      <td>M</td>\n",
              "      <td>PA</td>\n",
              "      <td>2500</td>\n",
              "      <td>2048</td>\n",
              "      <td>0.171</td>\n",
              "      <td>...</td>\n",
              "      <td>0.0</td>\n",
              "      <td>0.0</td>\n",
              "      <td>0.0</td>\n",
              "      <td>0.0</td>\n",
              "      <td>0.0</td>\n",
              "      <td>0.0</td>\n",
              "      <td>0.0</td>\n",
              "      <td>0.0</td>\n",
              "      <td>0.0</td>\n",
              "      <td>[0.0, 0.0, 0.0, 0.0, 0.0, 0.0, 0.0, 0.0, 0.0, ...</td>\n",
              "    </tr>\n",
              "    <tr>\n",
              "      <th>38720</th>\n",
              "      <td>00010104_000.png</td>\n",
              "      <td>Atelectasis</td>\n",
              "      <td>0</td>\n",
              "      <td>10104</td>\n",
              "      <td>70</td>\n",
              "      <td>M</td>\n",
              "      <td>PA</td>\n",
              "      <td>3056</td>\n",
              "      <td>2544</td>\n",
              "      <td>0.139</td>\n",
              "      <td>...</td>\n",
              "      <td>0.0</td>\n",
              "      <td>0.0</td>\n",
              "      <td>0.0</td>\n",
              "      <td>0.0</td>\n",
              "      <td>0.0</td>\n",
              "      <td>0.0</td>\n",
              "      <td>0.0</td>\n",
              "      <td>0.0</td>\n",
              "      <td>0.0</td>\n",
              "      <td>[1.0, 0.0, 0.0, 0.0, 0.0, 0.0, 0.0, 0.0, 0.0, ...</td>\n",
              "    </tr>\n",
              "    <tr>\n",
              "      <th>94413</th>\n",
              "      <td>00024186_000.png</td>\n",
              "      <td></td>\n",
              "      <td>0</td>\n",
              "      <td>24186</td>\n",
              "      <td>30</td>\n",
              "      <td>F</td>\n",
              "      <td>PA</td>\n",
              "      <td>2210</td>\n",
              "      <td>2608</td>\n",
              "      <td>0.143</td>\n",
              "      <td>...</td>\n",
              "      <td>0.0</td>\n",
              "      <td>0.0</td>\n",
              "      <td>0.0</td>\n",
              "      <td>0.0</td>\n",
              "      <td>0.0</td>\n",
              "      <td>0.0</td>\n",
              "      <td>0.0</td>\n",
              "      <td>0.0</td>\n",
              "      <td>0.0</td>\n",
              "      <td>[0.0, 0.0, 0.0, 0.0, 0.0, 0.0, 0.0, 0.0, 0.0, ...</td>\n",
              "    </tr>\n",
              "  </tbody>\n",
              "</table>\n",
              "<p>3 rows × 28 columns</p>\n",
              "</div>\n",
              "      <button class=\"colab-df-convert\" onclick=\"convertToInteractive('df-9c6efa6f-a067-4f08-ab17-842d0cb39394')\"\n",
              "              title=\"Convert this dataframe to an interactive table.\"\n",
              "              style=\"display:none;\">\n",
              "        \n",
              "  <svg xmlns=\"http://www.w3.org/2000/svg\" height=\"24px\"viewBox=\"0 0 24 24\"\n",
              "       width=\"24px\">\n",
              "    <path d=\"M0 0h24v24H0V0z\" fill=\"none\"/>\n",
              "    <path d=\"M18.56 5.44l.94 2.06.94-2.06 2.06-.94-2.06-.94-.94-2.06-.94 2.06-2.06.94zm-11 1L8.5 8.5l.94-2.06 2.06-.94-2.06-.94L8.5 2.5l-.94 2.06-2.06.94zm10 10l.94 2.06.94-2.06 2.06-.94-2.06-.94-.94-2.06-.94 2.06-2.06.94z\"/><path d=\"M17.41 7.96l-1.37-1.37c-.4-.4-.92-.59-1.43-.59-.52 0-1.04.2-1.43.59L10.3 9.45l-7.72 7.72c-.78.78-.78 2.05 0 2.83L4 21.41c.39.39.9.59 1.41.59.51 0 1.02-.2 1.41-.59l7.78-7.78 2.81-2.81c.8-.78.8-2.07 0-2.86zM5.41 20L4 18.59l7.72-7.72 1.47 1.35L5.41 20z\"/>\n",
              "  </svg>\n",
              "      </button>\n",
              "      \n",
              "  <style>\n",
              "    .colab-df-container {\n",
              "      display:flex;\n",
              "      flex-wrap:wrap;\n",
              "      gap: 12px;\n",
              "    }\n",
              "\n",
              "    .colab-df-convert {\n",
              "      background-color: #E8F0FE;\n",
              "      border: none;\n",
              "      border-radius: 50%;\n",
              "      cursor: pointer;\n",
              "      display: none;\n",
              "      fill: #1967D2;\n",
              "      height: 32px;\n",
              "      padding: 0 0 0 0;\n",
              "      width: 32px;\n",
              "    }\n",
              "\n",
              "    .colab-df-convert:hover {\n",
              "      background-color: #E2EBFA;\n",
              "      box-shadow: 0px 1px 2px rgba(60, 64, 67, 0.3), 0px 1px 3px 1px rgba(60, 64, 67, 0.15);\n",
              "      fill: #174EA6;\n",
              "    }\n",
              "\n",
              "    [theme=dark] .colab-df-convert {\n",
              "      background-color: #3B4455;\n",
              "      fill: #D2E3FC;\n",
              "    }\n",
              "\n",
              "    [theme=dark] .colab-df-convert:hover {\n",
              "      background-color: #434B5C;\n",
              "      box-shadow: 0px 1px 3px 1px rgba(0, 0, 0, 0.15);\n",
              "      filter: drop-shadow(0px 1px 2px rgba(0, 0, 0, 0.3));\n",
              "      fill: #FFFFFF;\n",
              "    }\n",
              "  </style>\n",
              "\n",
              "      <script>\n",
              "        const buttonEl =\n",
              "          document.querySelector('#df-9c6efa6f-a067-4f08-ab17-842d0cb39394 button.colab-df-convert');\n",
              "        buttonEl.style.display =\n",
              "          google.colab.kernel.accessAllowed ? 'block' : 'none';\n",
              "\n",
              "        async function convertToInteractive(key) {\n",
              "          const element = document.querySelector('#df-9c6efa6f-a067-4f08-ab17-842d0cb39394');\n",
              "          const dataTable =\n",
              "            await google.colab.kernel.invokeFunction('convertToInteractive',\n",
              "                                                     [key], {});\n",
              "          if (!dataTable) return;\n",
              "\n",
              "          const docLinkHtml = 'Like what you see? Visit the ' +\n",
              "            '<a target=\"_blank\" href=https://colab.research.google.com/notebooks/data_table.ipynb>data table notebook</a>'\n",
              "            + ' to learn more about interactive tables.';\n",
              "          element.innerHTML = '';\n",
              "          dataTable['output_type'] = 'display_data';\n",
              "          await google.colab.output.renderOutput(dataTable, element);\n",
              "          const docLink = document.createElement('div');\n",
              "          docLink.innerHTML = docLinkHtml;\n",
              "          element.appendChild(docLink);\n",
              "        }\n",
              "      </script>\n",
              "    </div>\n",
              "  </div>\n",
              "  "
            ],
            "text/plain": [
              "            Image Index Finding Labels  Follow-up #  Patient ID  Patient Age  \\\n",
              "14008  00003617_000.png                           0        3617           70   \n",
              "38720  00010104_000.png    Atelectasis            0       10104           70   \n",
              "94413  00024186_000.png                           0       24186           30   \n",
              "\n",
              "      Patient Gender View Position  OriginalImage[Width  Height]  \\\n",
              "14008              M            PA                 2500     2048   \n",
              "38720              M            PA                 3056     2544   \n",
              "94413              F            PA                 2210     2608   \n",
              "\n",
              "       OriginalImagePixelSpacing[x  ...  Emphysema  Fibrosis Hernia  \\\n",
              "14008                        0.171  ...        0.0       0.0    0.0   \n",
              "38720                        0.139  ...        0.0       0.0    0.0   \n",
              "94413                        0.143  ...        0.0       0.0    0.0   \n",
              "\n",
              "       Infiltration  Mass  Nodule  Pleural_Thickening  Pneumonia  \\\n",
              "14008           0.0   0.0     0.0                 0.0        0.0   \n",
              "38720           0.0   0.0     0.0                 0.0        0.0   \n",
              "94413           0.0   0.0     0.0                 0.0        0.0   \n",
              "\n",
              "       Pneumothorax                                        disease_vec  \n",
              "14008           0.0  [0.0, 0.0, 0.0, 0.0, 0.0, 0.0, 0.0, 0.0, 0.0, ...  \n",
              "38720           0.0  [1.0, 0.0, 0.0, 0.0, 0.0, 0.0, 0.0, 0.0, 0.0, ...  \n",
              "94413           0.0  [0.0, 0.0, 0.0, 0.0, 0.0, 0.0, 0.0, 0.0, 0.0, ...  \n",
              "\n",
              "[3 rows x 28 columns]"
            ]
          },
          "execution_count": 16,
          "metadata": {},
          "output_type": "execute_result"
        }
      ],
      "source": [
        "all_xray_df.sample(3)"
      ]
    },
    {
      "cell_type": "code",
      "execution_count": 15,
      "metadata": {
        "colab": {
          "base_uri": "https://localhost:8080/"
        },
        "id": "uAwaQtgN_4U3",
        "outputId": "38256d04-a5eb-4bbf-d705-c8ef52d9502d"
      },
      "outputs": [
        {
          "output_type": "execute_result",
          "data": {
            "text/plain": [
              "112120"
            ]
          },
          "metadata": {},
          "execution_count": 15
        }
      ],
      "source": [
        "len(all_xray_df)"
      ]
    },
    {
      "cell_type": "markdown",
      "metadata": {
        "id": "gWddu_dD42zn"
      },
      "source": [
        "### Get DataLoaders"
      ]
    },
    {
      "cell_type": "code",
      "execution_count": 16,
      "metadata": {
        "id": "5Qon97klUzXo"
      },
      "outputs": [],
      "source": [
        "class NIH_Dataset(Dataset):\n",
        "  def __init__(\n",
        "    self, \n",
        "    data_df,\n",
        "    transform=None\n",
        "    ):\n",
        "    self.data_df = data_df\n",
        "    self.transform = transform \n",
        "\n",
        "  def __len__(\n",
        "    self\n",
        "    ):\n",
        "    return len(self.data_df)\n",
        "\n",
        "  def __getitem__(\n",
        "    self, \n",
        "    idx\n",
        "    ):\n",
        "    img_file = self.data_df['path'].iloc[idx]\n",
        "    img = Image.open(img_file).convert('RGB')\n",
        "    label = np.array(self.data_df.iloc[:,-1].iloc[idx], dtype=float)\n",
        "    if self.transform:\n",
        "        img = self.transform(img)\n",
        "\n",
        "    return img, label\n",
        "\n",
        "def get_data_loaders(\n",
        "    data_df: pd.DataFrame,\n",
        "    global_train_frac: float = 0.8,\n",
        "    local_train_frac: float = 0.8,\n",
        "    batch_size: int = 32,\n",
        "    num_clients: int = 10\n",
        "    ):\n",
        "  train_data_transform = T.Compose([\n",
        "    T.RandomRotation((-20,+20)),\n",
        "    # T.Resize((512,512)),\n",
        "    T.Resize((224,224)),\n",
        "    T.ToTensor(),\n",
        "    T.Normalize(mean=[0.485, 0.456, 0.406],\n",
        "                std=[0.229, 0.224, 0.225])\n",
        "                ])\n",
        "\n",
        "  test_data_transform = T.Compose([\n",
        "    T.Resize((512,512)),\n",
        "    T.ToTensor(),\n",
        "    T.Normalize(mean=[0.485, 0.456, 0.406],\n",
        "                std=[0.229, 0.224, 0.225])\n",
        "                ])\n",
        "  \n",
        "  train_df, test_df = train_test_split(\n",
        "      data_df,\n",
        "      test_size = 1 - global_train_frac,\n",
        "      random_state = 42,\n",
        "      stratify = data_df['Finding Labels'].map( lambda x: x[:4])\n",
        "  )\n",
        "\n",
        "  trainset = NIH_Dataset(\n",
        "      train_df,\n",
        "      transform = train_data_transform\n",
        "      )\n",
        "  \n",
        "  testset = NIH_Dataset(\n",
        "      test_df,\n",
        "      transform = test_data_transform\n",
        "      )\n",
        "\n",
        "  # Split training set into `num_clients` partitions to simulate different local datasets\n",
        "  partition_size = len(trainset) // num_clients\n",
        "  lengths = [partition_size] * num_clients\n",
        "  lengths[-1] += len(trainset) - np.sum(lengths)\n",
        "  datasets = random_split(trainset, lengths, torch.Generator().manual_seed(42))\n",
        "\n",
        "  # Split each partition into train/val and create DataLoader\n",
        "  trainloaders = []\n",
        "  valloaders = []\n",
        "  for ds in datasets:      \n",
        "      len_train = math.ceil(len(ds) * local_train_frac)\n",
        "      len_val = len(ds) - math.ceil(len(ds) * local_train_frac)\n",
        "      lengths = [len_train, len_val]\n",
        "      ds_train, ds_val = random_split(ds, lengths, torch.Generator().manual_seed(42))\n",
        "      trainloaders.append(DataLoader(ds_train, batch_size=batch_size, shuffle=True, drop_last = True))\n",
        "      valloaders.append(DataLoader(ds_val, batch_size=batch_size, drop_last = True))\n",
        "  testloader = DataLoader(testset, batch_size=batch_size)\n",
        "\n",
        "  return trainloaders, valloaders, testloader\n",
        "\n",
        "def inv_data_transform(img):\n",
        "    img = img.permute(1,2,0)\n",
        "    img = img * torch.Tensor([0.229, 0.224, 0.225]) + torch.Tensor([0.485, 0.456, 0.406])\n",
        "    return img"
      ]
    },
    {
      "cell_type": "code",
      "execution_count": 17,
      "metadata": {
        "id": "rigzBUI_Wovp"
      },
      "outputs": [],
      "source": [
        "num_clients = 100\n",
        "\n",
        "trainloaders, valloaders, testloader = get_data_loaders(\n",
        "    all_xray_df,\n",
        "    global_train_frac = 0.95,\n",
        "    local_train_frac = 0.9,\n",
        "    num_clients = num_clients,\n",
        "    batch_size = 25\n",
        ")"
      ]
    },
    {
      "cell_type": "code",
      "execution_count": 18,
      "metadata": {
        "colab": {
          "base_uri": "https://localhost:8080/",
          "height": 248
        },
        "id": "H5Oi7dIN3aWP",
        "outputId": "a9eac0d7-9c86-4f29-ec56-fe83e6d0a360"
      },
      "outputs": [
        {
          "output_type": "display_data",
          "data": {
            "text/plain": [
              "<Figure size 432x288 with 1 Axes>"
            ],
            "image/png": "[encoded data removed]"
          },
          "metadata": {
            "needs_background": "light"
          }
        }
      ],
      "source": [
        "plt.imshow(\n",
        "    inv_data_transform(\n",
        "        testloader.dataset[0][0]\n",
        "    )\n",
        ")\n",
        "plt.axis('off');"
      ]
    },
    {
      "cell_type": "code",
      "execution_count": 19,
      "metadata": {
        "colab": {
          "base_uri": "https://localhost:8080/"
        },
        "id": "mh6Nm_YzvJpo",
        "outputId": "b7685cff-781e-48cf-dc3d-26ceb8fe91f7"
      },
      "outputs": [
        {
          "output_type": "execute_result",
          "data": {
            "text/plain": [
              "(959, 106, 5607)"
            ]
          },
          "metadata": {},
          "execution_count": 19
        }
      ],
      "source": [
        "len(trainloaders[0].dataset), len(valloaders[0].dataset) ,len(testloader.dataset)"
      ]
    },
    {
      "cell_type": "code",
      "execution_count": 20,
      "metadata": {
        "colab": {
          "base_uri": "https://localhost:8080/"
        },
        "id": "aHFmMLT5aZ2h",
        "outputId": "40628ae2-043c-448d-ff5e-e251af5e483d"
      },
      "outputs": [
        {
          "output_type": "execute_result",
          "data": {
            "text/plain": [
              "13"
            ]
          },
          "metadata": {},
          "execution_count": 20
        }
      ],
      "source": [
        "len(all_labels)"
      ]
    },
    {
      "cell_type": "markdown",
      "metadata": {
        "id": "9o_uC5yi5e83"
      },
      "source": [
        "### FL utils basic"
      ]
    },
    {
      "cell_type": "code",
      "execution_count": 21,
      "metadata": {
        "id": "RYlrQJOH5eRz"
      },
      "outputs": [],
      "source": [
        "class FlowerClient(fl.client.NumPyClient):\n",
        "    def __init__(self, cid, net, trainloader, valloader):\n",
        "        self.cid = cid\n",
        "        self.net = net\n",
        "        self.trainloader = trainloader\n",
        "        self.valloader = valloader\n",
        "\n",
        "    def get_parameters(self, config):\n",
        "        print(f\"[Client {self.cid}] get_parameters\")\n",
        "        return get_parameters(self.net)\n",
        "\n",
        "    def fit(self, parameters, config):\n",
        "        # Read values from config\n",
        "        server_round = config[\"server_round\"]\n",
        "        local_epochs = config[\"local_epochs\"]\n",
        "\n",
        "        # Use values provided by the config\n",
        "        print(f\"[Client {self.cid}, round {server_round}] fit, config: {config}\")\n",
        "        set_parameters(self.net, parameters)\n",
        "        train(self.net, self.trainloader, epochs=local_epochs)\n",
        "        return get_parameters(self.net), len(self.trainloader), {}\n",
        "\n",
        "    def evaluate(self, parameters, config):\n",
        "        print(f\"[Client {self.cid}] evaluate, config: {config}\")\n",
        "        set_parameters(self.net, parameters)\n",
        "        loss, accuracy = test(self.net, self.valloader)\n",
        "        return float(loss), len(self.valloader), {\"accuracy\": float(accuracy)}\n",
        "\n",
        "def get_parameters(net) -> List[np.ndarray]:\n",
        "    return [val.cpu().numpy() for _, val in net.state_dict().items()]\n",
        "\n",
        "def set_parameters(net, parameters: List[np.ndarray]):\n",
        "    params_dict = zip(net.state_dict().keys(), parameters)\n",
        "    state_dict = OrderedDict({k: torch.Tensor(v) for k, v in params_dict})\n",
        "    net.load_state_dict(state_dict, strict=True)"
      ]
    },
    {
      "cell_type": "markdown",
      "metadata": {
        "id": "UwdUHQgA5qt8"
      },
      "source": [
        "### FL training utils"
      ]
    },
    {
      "cell_type": "code",
      "execution_count": 23,
      "metadata": {
        "id": "ZpaMF3WiAfkx"
      },
      "outputs": [],
      "source": [
        "def compute_class_freqs(labels):\n",
        "\n",
        "    labels = np.array(labels)\n",
        "    N = labels.shape[0]\n",
        "\n",
        "    positive_frequencies = np.sum(labels, axis = 0) / N\n",
        "    negative_frequencies = 1 - positive_frequencies\n",
        "\n",
        "    return positive_frequencies, negative_frequencies\n",
        "\n",
        "def weighted_loss(pos_weights, neg_weights, y_pred, y_true, epsilon = 1e-7):\n",
        "    y_pred = torch.sigmoid(y_pred)\n",
        "    loss = 0.0\n",
        "    for i in range(len(pos_weights)):\n",
        "        loss_pos = -1 * torch.mean(pos_weights[i] * y_true[:,i] * torch.log(y_pred[:,i] + epsilon))\n",
        "        loss_neg = -1 * torch.mean(neg_weights[i] * (1-y_true[:,i]) * torch.log((1-y_pred[:,i]) + epsilon))\n",
        "        loss += loss_pos + loss_neg\n",
        "    return loss\n",
        "\n",
        "def train(\n",
        "    net,\n",
        "    trainloader,\n",
        "    epochs\n",
        "    ):\n",
        "    print(f'Entered train function, total num. of epochs: {epochs}')\n",
        "    freq_pos, freq_neg = compute_class_freqs(all_xray_df.iloc[:,-1])    \n",
        "    pos_weights = freq_neg\n",
        "    neg_weights = freq_pos\n",
        "\n",
        "    valid_loss_min = np.Inf\n",
        "    optimizer = torch.optim.Adam(\n",
        "        net.parameters(),\n",
        "        lr = 1e-4\n",
        "        )\n",
        "    start_time = time.time()\n",
        "    for i in range(epochs):\n",
        "        train_loss = 0.0\n",
        "        valid_loss = 0.0\n",
        "        train_acc = 0.0\n",
        "        valid_acc = 0.0 \n",
        "        net.train()\n",
        "        for j, (images, labels) in enumerate(trainloader):\n",
        "            images = images.to(DEVICE)\n",
        "            labels = labels.to(DEVICE)\n",
        "            ps = net(images)\n",
        "            \n",
        "            loss = weighted_loss(pos_weights, neg_weights, ps, labels)\n",
        "\n",
        "            optimizer.zero_grad()\n",
        "            loss.backward()\n",
        "            optimizer.step()\n",
        "            train_loss += loss.item()\n",
        "        avg_train_loss = train_loss / len(trainloader)\n",
        "        print(\"Epoch : {} Train Loss : {:.6f} \".format(i+1,avg_train_loss))\n",
        "    end_time = time.time()\n",
        "    time_delta = end_time - start_time\n",
        "    print('\\n')\n",
        "    print(f'Time to complete local training round: {time_delta}')\n",
        "    print('\\n')\n",
        "\n",
        "def test(net, testloader, pathology_list):\n",
        "    \n",
        "    # ToDo: Class weights should be different for each client\n",
        "    freq_pos, freq_neg = compute_class_freqs(all_xray_df.iloc[:,-1])    \n",
        "    pos_weights = freq_neg\n",
        "    neg_weights = freq_pos\n",
        "\n",
        "    per_class_accuracy = [0 for i in range(len(pathology_list))]\n",
        "    total = 0.0\n",
        "    loss = 0.0\n",
        "    with torch.no_grad():\n",
        "        for images,labels in testloader:\n",
        "            ps = net(images.to(DEVICE))\n",
        "            labels = labels.to(DEVICE)\n",
        "            loss += weighted_loss( pos_weights, neg_weights, ps, labels)\n",
        "            ps = (ps >= 0.5).float()\n",
        "\n",
        "            for i in range(ps.shape[1]):\n",
        "                x1 = ps[:,i:i+1]\n",
        "                x2 = labels[:,i:i+1]\n",
        "                per_class_accuracy[i] += int((x1 == x2).sum())\n",
        "\n",
        "        per_class_accuracy = [(i/len(testloader.dataset)) * 100.0 for i in per_class_accuracy]\n",
        "\n",
        "    return loss, np.mean(per_class_accuracy)\n",
        "\n",
        "def get_acc_data(\n",
        "    class_names,\n",
        "    acc_list\n",
        "    ):\n",
        "    df = pd.DataFrame(list(zip(class_names, acc_list)), columns =['Labels', 'Class Acc.']) \n",
        "    return df"
      ]
    },
    {
      "cell_type": "code",
      "execution_count": 24,
      "metadata": {
        "id": "FfVrX3hA6kqX"
      },
      "outputs": [],
      "source": [
        "def server_eval(\n",
        "    server_round: int,\n",
        "    parameters: fl.common.NDArrays, \n",
        "    config: Dict[str, fl.common.Scalar]\n",
        "    ):\n",
        "    freq_pos, freq_neg = compute_class_freqs(all_xray_df.iloc[:,-1])    \n",
        "    pos_weights = freq_neg\n",
        "    neg_weights = freq_pos\n",
        "\n",
        "    net = init_net().to(DEVICE)\n",
        "\n",
        "    set_parameters(net, parameters)  # Update model with the latest parameters\n",
        "\n",
        "    per_class_accuracy = [0 for i in range(len(all_labels))]\n",
        "    total = 0.0\n",
        "    loss = 0.0\n",
        "    with torch.no_grad():\n",
        "        for images,labels in testloader:\n",
        "          \n",
        "            ps = net(images.to(DEVICE))\n",
        "            labels = labels.to(DEVICE)\n",
        "            ps = torch.sigmoid(ps)\n",
        "            ps = (ps >= 0.5).float()\n",
        "            loss += weighted_loss( pos_weights, neg_weights, ps, labels)\n",
        "\n",
        "            for i in range(ps.shape[1]):\n",
        "                x1 = ps[:,i:i+1]\n",
        "                x2 = labels[:,i:i+1]\n",
        "                per_class_accuracy[i] += int((x1 == x2).sum())\n",
        "\n",
        "        per_class_accuracy = [(i/len(testloader.dataset))*100.0 for i in per_class_accuracy]\n",
        "\n",
        "    test_df = get_acc_data(all_labels, per_class_accuracy)\n",
        "    print('\\nServer eval')\n",
        "    print(test_df)\n",
        "    print('\\n')\n",
        "\n",
        "    return loss,  {\"mean_class_acc.\": np.mean(per_class_accuracy)}"
      ]
    },
    {
      "cell_type": "markdown",
      "metadata": {
        "id": "kZByeD1upefu"
      },
      "source": [
        "## Training"
      ]
    },
    {
      "cell_type": "code",
      "execution_count": 26,
      "metadata": {
        "id": "S5l-5slg58Nf"
      },
      "outputs": [],
      "source": [
        "def init_net():\n",
        "  net = models.vgg11(\n",
        "    #weights=\"IMAGENET1K_V1\"\n",
        "    weights=None\n",
        "  )\n",
        "  net.classifier[-1] = torch.nn.Linear(\n",
        "      net.classifier[-1].in_features,\n",
        "      len(all_labels)\n",
        "  )\n",
        "  return net\n",
        "\n",
        "def client_fn(cid) -> FlowerClient:\n",
        "    net = init_net().to(DEVICE)\n",
        "    trainloader = trainloaders[int(cid)]\n",
        "    valloader = valloaders[int(cid)]\n",
        "    print(f'Created client: {cid}')\n",
        "    return FlowerClient(cid, net, trainloader, valloader)"
      ]
    },
    {
      "cell_type": "markdown",
      "metadata": {
        "id": "esohU8khStKD"
      },
      "source": [
        "### 35 local epochs take approx 15min. on A100 for each client and 30 local epochs on Tesla T4 \n",
        "\n",
        "Need to fix freeing GPU space after instances have been created and trained"
      ]
    },
    {
      "cell_type": "code",
      "execution_count": 27,
      "metadata": {
        "colab": {
          "base_uri": "https://localhost:8080/"
        },
        "id": "ZNEdoe3uSumm",
        "outputId": "b8fe78eb-ace9-44eb-b600-def8c8a1bae7"
      },
      "outputs": [
        {
          "output_type": "stream",
          "name": "stderr",
          "text": [
            "INFO flower 2022-10-24 11:50:11,003 | app.py:145 | Starting Flower simulation, config: ServerConfig(num_rounds=10, round_timeout=None)\n",
            "INFO:flower:Starting Flower simulation, config: ServerConfig(num_rounds=10, round_timeout=None)\n",
            "INFO flower 2022-10-24 11:50:13,943 | app.py:179 | Flower VCE: Ray initialized with resources: {'node:172.28.0.2': 1.0, 'object_store_memory': 16336975872.0, 'CPU': 8.0, 'memory': 32673951744.0, 'GPU': 1.0, 'accelerator_type:T4': 1.0}\n",
            "INFO:flower:Flower VCE: Ray initialized with resources: {'node:172.28.0.2': 1.0, 'object_store_memory': 16336975872.0, 'CPU': 8.0, 'memory': 32673951744.0, 'GPU': 1.0, 'accelerator_type:T4': 1.0}\n",
            "INFO flower 2022-10-24 11:50:13,947 | server.py:86 | Initializing global parameters\n",
            "INFO:flower:Initializing global parameters\n",
            "INFO flower 2022-10-24 11:50:13,949 | server.py:266 | Using initial parameters provided by strategy\n",
            "INFO:flower:Using initial parameters provided by strategy\n",
            "INFO flower 2022-10-24 11:50:13,952 | server.py:88 | Evaluating initial parameters\n",
            "INFO:flower:Evaluating initial parameters\n",
            "INFO flower 2022-10-24 11:54:08,655 | server.py:95 | initial parameters (loss, other metrics): tensor(224.8837, device='cuda:0', dtype=torch.float64), {'mean_class_acc.': 45.724437859269315}\n",
            "INFO:flower:initial parameters (loss, other metrics): tensor(224.8837, device='cuda:0', dtype=torch.float64), {'mean_class_acc.': 45.724437859269315}\n",
            "INFO flower 2022-10-24 11:54:08,683 | server.py:101 | FL starting\n",
            "INFO:flower:FL starting\n",
            "DEBUG flower 2022-10-24 11:54:08,686 | server.py:220 | fit_round 1: strategy sampled 5 clients (out of 100)\n",
            "DEBUG:flower:fit_round 1: strategy sampled 5 clients (out of 100)\n"
          ]
        },
        {
          "output_type": "stream",
          "name": "stdout",
          "text": [
            "\n",
            "Server eval\n",
            "                Labels  Class Acc.\n",
            "0          Atelectasis   32.405921\n",
            "1         Cardiomegaly   24.451578\n",
            "2        Consolidation   21.187801\n",
            "3                Edema   24.933119\n",
            "4             Effusion   73.301231\n",
            "5            Emphysema   88.781880\n",
            "6             Fibrosis   42.375602\n",
            "7         Infiltration   25.378991\n",
            "8                 Mass   30.622436\n",
            "9               Nodule   50.312110\n",
            "10  Pleural_Thickening   71.214553\n",
            "11           Pneumonia   64.455145\n",
            "12        Pneumothorax   44.997325\n",
            "\n",
            "\n",
            "\u001b[2m\u001b[36m(launch_and_fit pid=1014)\u001b[0m Created client: 78\n",
            "\u001b[2m\u001b[36m(launch_and_fit pid=1014)\u001b[0m [Client 78, round 1] fit, config: {'server_round': 1, 'local_epochs': 30}\n",
            "\u001b[2m\u001b[36m(launch_and_fit pid=1014)\u001b[0m Entered train function, total num. of epochs: 30\n",
            "\u001b[2m\u001b[36m(launch_and_fit pid=1014)\u001b[0m Epoch : 1 Train Loss : 0.912508 \n",
            "\u001b[2m\u001b[36m(launch_and_fit pid=1014)\u001b[0m Epoch : 2 Train Loss : 0.908310 \n",
            "\u001b[2m\u001b[36m(launch_and_fit pid=1014)\u001b[0m Epoch : 3 Train Loss : 0.907050 \n",
            "\u001b[2m\u001b[36m(launch_and_fit pid=1014)\u001b[0m Epoch : 4 Train Loss : 0.900064 \n",
            "\u001b[2m\u001b[36m(launch_and_fit pid=1014)\u001b[0m Epoch : 5 Train Loss : 0.881877 \n",
            "\u001b[2m\u001b[36m(launch_and_fit pid=1014)\u001b[0m Epoch : 6 Train Loss : 0.887246 \n",
            "\u001b[2m\u001b[36m(launch_and_fit pid=1014)\u001b[0m Epoch : 7 Train Loss : 0.871857 \n",
            "\u001b[2m\u001b[36m(launch_and_fit pid=1014)\u001b[0m Epoch : 8 Train Loss : 0.870425 \n",
            "\u001b[2m\u001b[36m(launch_and_fit pid=1014)\u001b[0m Epoch : 9 Train Loss : 0.861362 \n",
            "\u001b[2m\u001b[36m(launch_and_fit pid=1014)\u001b[0m Epoch : 10 Train Loss : 0.868519 \n",
            "\u001b[2m\u001b[36m(launch_and_fit pid=1014)\u001b[0m Epoch : 11 Train Loss : 0.852907 \n",
            "\u001b[2m\u001b[36m(launch_and_fit pid=1014)\u001b[0m Epoch : 12 Train Loss : 0.857830 \n",
            "\u001b[2m\u001b[36m(launch_and_fit pid=1014)\u001b[0m Epoch : 13 Train Loss : 0.847213 \n",
            "\u001b[2m\u001b[36m(launch_and_fit pid=1014)\u001b[0m Epoch : 14 Train Loss : 0.833185 \n",
            "\u001b[2m\u001b[36m(launch_and_fit pid=1014)\u001b[0m Epoch : 15 Train Loss : 0.822909 \n",
            "\u001b[2m\u001b[36m(launch_and_fit pid=1014)\u001b[0m Epoch : 16 Train Loss : 0.828093 \n",
            "\u001b[2m\u001b[36m(launch_and_fit pid=1014)\u001b[0m Epoch : 17 Train Loss : 0.816994 \n",
            "\u001b[2m\u001b[36m(launch_and_fit pid=1014)\u001b[0m Epoch : 18 Train Loss : 0.814455 \n",
            "\u001b[2m\u001b[36m(launch_and_fit pid=1014)\u001b[0m Epoch : 19 Train Loss : 0.797650 \n",
            "\u001b[2m\u001b[36m(launch_and_fit pid=1014)\u001b[0m Epoch : 20 Train Loss : 0.787943 \n",
            "\u001b[2m\u001b[36m(launch_and_fit pid=1014)\u001b[0m Epoch : 21 Train Loss : 0.785502 \n",
            "\u001b[2m\u001b[36m(launch_and_fit pid=1014)\u001b[0m Epoch : 22 Train Loss : 0.764033 \n",
            "\u001b[2m\u001b[36m(launch_and_fit pid=1014)\u001b[0m Epoch : 23 Train Loss : 0.755130 \n",
            "\u001b[2m\u001b[36m(launch_and_fit pid=1014)\u001b[0m Epoch : 24 Train Loss : 0.751243 \n",
            "\u001b[2m\u001b[36m(launch_and_fit pid=1014)\u001b[0m Epoch : 25 Train Loss : 0.726499 \n",
            "\u001b[2m\u001b[36m(launch_and_fit pid=1014)\u001b[0m Epoch : 26 Train Loss : 0.712496 \n",
            "\u001b[2m\u001b[36m(launch_and_fit pid=1014)\u001b[0m Epoch : 27 Train Loss : 0.688981 \n",
            "\u001b[2m\u001b[36m(launch_and_fit pid=1014)\u001b[0m Epoch : 28 Train Loss : 0.675497 \n",
            "\u001b[2m\u001b[36m(launch_and_fit pid=1014)\u001b[0m Epoch : 29 Train Loss : 0.630594 \n",
            "\u001b[2m\u001b[36m(launch_and_fit pid=1014)\u001b[0m Epoch : 30 Train Loss : 0.599796 \n",
            "\u001b[2m\u001b[36m(launch_and_fit pid=1014)\u001b[0m \n",
            "\u001b[2m\u001b[36m(launch_and_fit pid=1014)\u001b[0m \n",
            "\u001b[2m\u001b[36m(launch_and_fit pid=1014)\u001b[0m Time to complete local training round: 901.1416704654694\n",
            "\u001b[2m\u001b[36m(launch_and_fit pid=1014)\u001b[0m \n",
            "\u001b[2m\u001b[36m(launch_and_fit pid=1014)\u001b[0m \n"
          ]
        },
        {
          "output_type": "stream",
          "name": "stderr",
          "text": [
            "DEBUG flower 2022-10-24 12:09:47,777 | server.py:234 | fit_round 1 received 1 results and 4 failures\n",
            "DEBUG:flower:fit_round 1 received 1 results and 4 failures\n",
            "WARNING flower 2022-10-24 12:09:49,322 | fedavg.py:243 | No fit_metrics_aggregation_fn provided\n",
            "WARNING:flower:No fit_metrics_aggregation_fn provided\n",
            "INFO flower 2022-10-24 12:13:26,632 | server.py:122 | fit progress: (1, tensor(211.2333, device='cuda:0', dtype=torch.float64), {'mean_class_acc.': 62.424716357300625}, 1157.9459878890002)\n",
            "INFO:flower:fit progress: (1, tensor(211.2333, device='cuda:0', dtype=torch.float64), {'mean_class_acc.': 62.424716357300625}, 1157.9459878890002)\n",
            "DEBUG flower 2022-10-24 12:13:26,638 | server.py:170 | evaluate_round 1: strategy sampled 5 clients (out of 100)\n",
            "DEBUG:flower:evaluate_round 1: strategy sampled 5 clients (out of 100)\n"
          ]
        },
        {
          "output_type": "stream",
          "name": "stdout",
          "text": [
            "\n",
            "Server eval\n",
            "                Labels  Class Acc.\n",
            "0          Atelectasis   36.525771\n",
            "1         Cardiomegaly   94.667380\n",
            "2        Consolidation   73.657928\n",
            "3                Edema   75.031211\n",
            "4             Effusion   77.884787\n",
            "5            Emphysema   22.810772\n",
            "6             Fibrosis   50.008917\n",
            "7         Infiltration   58.159444\n",
            "8                 Mass   53.433208\n",
            "9               Nodule   84.055645\n",
            "10  Pleural_Thickening   84.162654\n",
            "11           Pneumonia   76.529338\n",
            "12        Pneumothorax   24.594257\n",
            "\n",
            "\n",
            "\u001b[2m\u001b[36m(launch_and_evaluate pid=1776)\u001b[0m Created client: 59\n",
            "\u001b[2m\u001b[36m(launch_and_evaluate pid=1776)\u001b[0m [Client 59] evaluate, config: {}\n"
          ]
        },
        {
          "output_type": "stream",
          "name": "stderr",
          "text": [
            "\u001b[2m\u001b[36m(launch_and_fit pid=1360)\u001b[0m E1024 12:13:56.251425536    1388 chttp2_transport.cc:1103]   Received a GOAWAY with error code ENHANCE_YOUR_CALM and debug data equal to \"too_many_pings\"\n"
          ]
        },
        {
          "output_type": "stream",
          "name": "stdout",
          "text": [
            "\u001b[2m\u001b[36m(launch_and_evaluate pid=1812)\u001b[0m Created client: 24\n"
          ]
        },
        {
          "output_type": "stream",
          "name": "stderr",
          "text": [
            "DEBUG flower 2022-10-24 12:14:01,891 | server.py:184 | evaluate_round 1 received 0 results and 5 failures\n",
            "DEBUG:flower:evaluate_round 1 received 0 results and 5 failures\n",
            "DEBUG flower 2022-10-24 12:14:01,893 | server.py:220 | fit_round 2: strategy sampled 5 clients (out of 100)\n",
            "DEBUG:flower:fit_round 2: strategy sampled 5 clients (out of 100)\n"
          ]
        },
        {
          "output_type": "stream",
          "name": "stdout",
          "text": [
            "\u001b[2m\u001b[36m(launch_and_evaluate pid=1812)\u001b[0m [Client 24] evaluate, config: {}\n"
          ]
        },
        {
          "output_type": "stream",
          "name": "stderr",
          "text": [
            "\u001b[2m\u001b[36m(launch_and_fit pid=1393)\u001b[0m E1024 12:14:10.314643310    1422 chttp2_transport.cc:1103]   Received a GOAWAY with error code ENHANCE_YOUR_CALM and debug data equal to \"too_many_pings\"\n"
          ]
        },
        {
          "output_type": "stream",
          "name": "stdout",
          "text": [
            "\u001b[2m\u001b[36m(launch_and_fit pid=1950)\u001b[0m Created client: 26\n",
            "\u001b[2m\u001b[36m(launch_and_fit pid=1950)\u001b[0m [Client 26, round 2] fit, config: {'server_round': 2, 'local_epochs': 30}\n",
            "\u001b[2m\u001b[36m(launch_and_fit pid=1950)\u001b[0m Entered train function, total num. of epochs: 30\n",
            "\u001b[2m\u001b[36m(launch_and_fit pid=1950)\u001b[0m Epoch : 1 Train Loss : 0.918508 \n",
            "\u001b[2m\u001b[36m(launch_and_fit pid=1950)\u001b[0m Epoch : 2 Train Loss : 0.876585 \n",
            "\u001b[2m\u001b[36m(launch_and_fit pid=1950)\u001b[0m Epoch : 3 Train Loss : 0.861924 \n",
            "\u001b[2m\u001b[36m(launch_and_fit pid=1950)\u001b[0m Epoch : 4 Train Loss : 0.840689 \n",
            "\u001b[2m\u001b[36m(launch_and_fit pid=1950)\u001b[0m Epoch : 5 Train Loss : 0.810663 \n",
            "\u001b[2m\u001b[36m(launch_and_fit pid=1950)\u001b[0m Epoch : 6 Train Loss : 0.792319 \n",
            "\u001b[2m\u001b[36m(launch_and_fit pid=1950)\u001b[0m Epoch : 7 Train Loss : 0.769133 \n",
            "\u001b[2m\u001b[36m(launch_and_fit pid=1950)\u001b[0m Epoch : 8 Train Loss : 0.721234 \n",
            "\u001b[2m\u001b[36m(launch_and_fit pid=1950)\u001b[0m Epoch : 9 Train Loss : 0.705678 \n",
            "\u001b[2m\u001b[36m(launch_and_fit pid=1950)\u001b[0m Epoch : 10 Train Loss : 0.659366 \n",
            "\u001b[2m\u001b[36m(launch_and_fit pid=1950)\u001b[0m Epoch : 11 Train Loss : 0.628020 \n",
            "\u001b[2m\u001b[36m(launch_and_fit pid=1950)\u001b[0m Epoch : 12 Train Loss : 0.575946 \n",
            "\u001b[2m\u001b[36m(launch_and_fit pid=1950)\u001b[0m Epoch : 13 Train Loss : 0.560268 \n",
            "\u001b[2m\u001b[36m(launch_and_fit pid=1950)\u001b[0m Epoch : 14 Train Loss : 0.520680 \n",
            "\u001b[2m\u001b[36m(launch_and_fit pid=1950)\u001b[0m Epoch : 15 Train Loss : 0.495467 \n",
            "\u001b[2m\u001b[36m(launch_and_fit pid=1950)\u001b[0m Epoch : 16 Train Loss : 0.540815 \n",
            "\u001b[2m\u001b[36m(launch_and_fit pid=1950)\u001b[0m Epoch : 17 Train Loss : 0.413826 \n",
            "\u001b[2m\u001b[36m(launch_and_fit pid=1950)\u001b[0m Epoch : 18 Train Loss : 0.387805 \n",
            "\u001b[2m\u001b[36m(launch_and_fit pid=1950)\u001b[0m Epoch : 19 Train Loss : 0.349174 \n",
            "\u001b[2m\u001b[36m(launch_and_fit pid=1950)\u001b[0m Epoch : 20 Train Loss : 0.327255 \n",
            "\u001b[2m\u001b[36m(launch_and_fit pid=1950)\u001b[0m Epoch : 21 Train Loss : 0.316585 \n",
            "\u001b[2m\u001b[36m(launch_and_fit pid=1950)\u001b[0m Epoch : 22 Train Loss : 0.271522 \n",
            "\u001b[2m\u001b[36m(launch_and_fit pid=1950)\u001b[0m Epoch : 23 Train Loss : 0.271252 \n",
            "\u001b[2m\u001b[36m(launch_and_fit pid=1950)\u001b[0m Epoch : 24 Train Loss : 0.251159 \n",
            "\u001b[2m\u001b[36m(launch_and_fit pid=1950)\u001b[0m Epoch : 25 Train Loss : 0.241724 \n",
            "\u001b[2m\u001b[36m(launch_and_fit pid=1950)\u001b[0m Epoch : 26 Train Loss : 0.221819 \n",
            "\u001b[2m\u001b[36m(launch_and_fit pid=1950)\u001b[0m Epoch : 27 Train Loss : 0.217619 \n",
            "\u001b[2m\u001b[36m(launch_and_fit pid=1950)\u001b[0m Epoch : 28 Train Loss : 0.167604 \n",
            "\u001b[2m\u001b[36m(launch_and_fit pid=1950)\u001b[0m Epoch : 29 Train Loss : 0.179224 \n",
            "\u001b[2m\u001b[36m(launch_and_fit pid=1950)\u001b[0m Epoch : 30 Train Loss : 0.146310 \n",
            "\u001b[2m\u001b[36m(launch_and_fit pid=1950)\u001b[0m \n",
            "\u001b[2m\u001b[36m(launch_and_fit pid=1950)\u001b[0m \n",
            "\u001b[2m\u001b[36m(launch_and_fit pid=1950)\u001b[0m Time to complete local training round: 916.3550083637238\n",
            "\u001b[2m\u001b[36m(launch_and_fit pid=1950)\u001b[0m \n",
            "\u001b[2m\u001b[36m(launch_and_fit pid=1950)\u001b[0m \n"
          ]
        },
        {
          "output_type": "stream",
          "name": "stderr",
          "text": [
            "DEBUG flower 2022-10-24 12:29:52,802 | server.py:234 | fit_round 2 received 1 results and 4 failures\n",
            "DEBUG:flower:fit_round 2 received 1 results and 4 failures\n",
            "INFO flower 2022-10-24 12:33:29,329 | server.py:122 | fit progress: (2, tensor(203.0044, device='cuda:0', dtype=torch.float64), {'mean_class_acc.': 94.34223703886626}, 2360.6428603040004)\n",
            "INFO:flower:fit progress: (2, tensor(203.0044, device='cuda:0', dtype=torch.float64), {'mean_class_acc.': 94.34223703886626}, 2360.6428603040004)\n",
            "DEBUG flower 2022-10-24 12:33:29,334 | server.py:170 | evaluate_round 2: strategy sampled 5 clients (out of 100)\n",
            "DEBUG:flower:evaluate_round 2: strategy sampled 5 clients (out of 100)\n"
          ]
        },
        {
          "output_type": "stream",
          "name": "stdout",
          "text": [
            "\n",
            "Server eval\n",
            "                Labels  Class Acc.\n",
            "0          Atelectasis   89.602283\n",
            "1         Cardiomegaly   96.968076\n",
            "2        Consolidation   95.808810\n",
            "3                Edema   97.931157\n",
            "4             Effusion   88.282504\n",
            "5            Emphysema   97.627965\n",
            "6             Fibrosis   98.608882\n",
            "7         Infiltration   81.933298\n",
            "8                 Mass   94.970572\n",
            "9               Nodule   94.328518\n",
            "10  Pleural_Thickening   96.343856\n",
            "11           Pneumonia   98.858570\n",
            "12        Pneumothorax   95.184591\n",
            "\n",
            "\n",
            "\u001b[2m\u001b[36m(launch_and_evaluate pid=2644)\u001b[0m Created client: 82\n",
            "\u001b[2m\u001b[36m(launch_and_evaluate pid=2644)\u001b[0m [Client 82] evaluate, config: {}\n",
            "\u001b[2m\u001b[36m(launch_and_evaluate pid=2680)\u001b[0m Created client: 80\n",
            "\u001b[2m\u001b[36m(launch_and_evaluate pid=2680)\u001b[0m [Client 80] evaluate, config: {}\n",
            "\u001b[2m\u001b[36m(launch_and_evaluate pid=2715)\u001b[0m Created client: 62\n",
            "\u001b[2m\u001b[36m(launch_and_evaluate pid=2715)\u001b[0m [Client 62] evaluate, config: {}\n"
          ]
        },
        {
          "output_type": "stream",
          "name": "stderr",
          "text": [
            "\u001b[2m\u001b[36m(launch_and_fit pid=2297)\u001b[0m E1024 12:34:01.451563374    2325 chttp2_transport.cc:1103]   Received a GOAWAY with error code ENHANCE_YOUR_CALM and debug data equal to \"too_many_pings\"\n"
          ]
        },
        {
          "output_type": "stream",
          "name": "stdout",
          "text": [
            "\u001b[2m\u001b[36m(launch_and_evaluate pid=2750)\u001b[0m Created client: 48\n"
          ]
        },
        {
          "output_type": "stream",
          "name": "stderr",
          "text": [
            "DEBUG flower 2022-10-24 12:34:07,101 | server.py:184 | evaluate_round 2 received 0 results and 5 failures\n",
            "DEBUG:flower:evaluate_round 2 received 0 results and 5 failures\n",
            "DEBUG flower 2022-10-24 12:34:07,105 | server.py:220 | fit_round 3: strategy sampled 5 clients (out of 100)\n",
            "DEBUG:flower:fit_round 3: strategy sampled 5 clients (out of 100)\n"
          ]
        },
        {
          "output_type": "stream",
          "name": "stdout",
          "text": [
            "\u001b[2m\u001b[36m(launch_and_evaluate pid=2750)\u001b[0m [Client 48] evaluate, config: {}\n"
          ]
        },
        {
          "output_type": "stream",
          "name": "stderr",
          "text": [
            "\u001b[2m\u001b[36m(launch_and_fit pid=2330)\u001b[0m E1024 12:34:16.423892338    2358 chttp2_transport.cc:1103]   Received a GOAWAY with error code ENHANCE_YOUR_CALM and debug data equal to \"too_many_pings\"\n"
          ]
        },
        {
          "output_type": "stream",
          "name": "stdout",
          "text": [
            "\u001b[2m\u001b[36m(launch_and_fit pid=2885)\u001b[0m Created client: 18\n",
            "\u001b[2m\u001b[36m(launch_and_fit pid=2885)\u001b[0m [Client 18, round 3] fit, config: {'server_round': 3, 'local_epochs': 30}\n",
            "\u001b[2m\u001b[36m(launch_and_fit pid=2885)\u001b[0m Entered train function, total num. of epochs: 30\n"
          ]
        },
        {
          "output_type": "stream",
          "name": "stderr",
          "text": [
            "\u001b[2m\u001b[36m(launch_and_fit pid=2363)\u001b[0m E1024 12:34:25.503411778    2391 chttp2_transport.cc:1103]   Received a GOAWAY with error code ENHANCE_YOUR_CALM and debug data equal to \"too_many_pings\"\n",
            "\u001b[2m\u001b[36m(launch_and_fit pid=2396)\u001b[0m E1024 12:34:29.860099118    2424 chttp2_transport.cc:1103]   Received a GOAWAY with error code ENHANCE_YOUR_CALM and debug data equal to \"too_many_pings\"\n"
          ]
        },
        {
          "output_type": "stream",
          "name": "stdout",
          "text": [
            "\u001b[2m\u001b[36m(launch_and_fit pid=3054)\u001b[0m Created client: 16\n",
            "\u001b[2m\u001b[36m(launch_and_fit pid=3054)\u001b[0m [Client 16, round 3] fit, config: {'server_round': 3, 'local_epochs': 30}\n",
            "\u001b[2m\u001b[36m(launch_and_fit pid=3054)\u001b[0m Entered train function, total num. of epochs: 30\n"
          ]
        },
        {
          "output_type": "stream",
          "name": "stderr",
          "text": [
            "DEBUG flower 2022-10-24 12:34:44,833 | server.py:234 | fit_round 3 received 0 results and 5 failures\n",
            "DEBUG:flower:fit_round 3 received 0 results and 5 failures\n",
            "INFO flower 2022-10-24 12:38:19,756 | server.py:122 | fit progress: (3, tensor(202.9816, device='cuda:0', dtype=torch.float64), {'mean_class_acc.': 94.3353774814449}, 2651.0701764800006)\n",
            "INFO:flower:fit progress: (3, tensor(202.9816, device='cuda:0', dtype=torch.float64), {'mean_class_acc.': 94.3353774814449}, 2651.0701764800006)\n",
            "DEBUG flower 2022-10-24 12:38:19,761 | server.py:170 | evaluate_round 3: strategy sampled 5 clients (out of 100)\n",
            "DEBUG:flower:evaluate_round 3: strategy sampled 5 clients (out of 100)\n"
          ]
        },
        {
          "output_type": "stream",
          "name": "stdout",
          "text": [
            "\n",
            "Server eval\n",
            "                Labels  Class Acc.\n",
            "0          Atelectasis   89.620118\n",
            "1         Cardiomegaly   96.754057\n",
            "2        Consolidation   95.808810\n",
            "3                Edema   97.913323\n",
            "4             Effusion   88.282504\n",
            "5            Emphysema   97.627965\n",
            "6             Fibrosis   98.608882\n",
            "7         Infiltration   82.129481\n",
            "8                 Mass   94.970572\n",
            "9               Nodule   94.310683\n",
            "10  Pleural_Thickening   96.308186\n",
            "11           Pneumonia   98.858570\n",
            "12        Pneumothorax   95.166756\n",
            "\n",
            "\n"
          ]
        },
        {
          "output_type": "stream",
          "name": "stderr",
          "text": [
            "\u001b[2m\u001b[36m(launch_and_evaluate pid=2680)\u001b[0m E1024 12:38:27.595425241    2708 chttp2_transport.cc:1103]   Received a GOAWAY with error code ENHANCE_YOUR_CALM and debug data equal to \"too_many_pings\"\n"
          ]
        },
        {
          "output_type": "stream",
          "name": "stdout",
          "text": [
            "\u001b[2m\u001b[36m(launch_and_evaluate pid=3211)\u001b[0m Created client: 76\n",
            "\u001b[2m\u001b[36m(launch_and_evaluate pid=3211)\u001b[0m [Client 76] evaluate, config: {}\n"
          ]
        },
        {
          "output_type": "stream",
          "name": "stderr",
          "text": [
            "\u001b[2m\u001b[36m(launch_and_evaluate pid=2715)\u001b[0m E1024 12:38:34.250468142    2743 chttp2_transport.cc:1103]   Received a GOAWAY with error code ENHANCE_YOUR_CALM and debug data equal to \"too_many_pings\"\n"
          ]
        },
        {
          "output_type": "stream",
          "name": "stdout",
          "text": [
            "\u001b[2m\u001b[36m(launch_and_evaluate pid=3308)\u001b[0m Created client: 70\n",
            "\u001b[2m\u001b[36m(launch_and_evaluate pid=3308)\u001b[0m [Client 70] evaluate, config: {}\n"
          ]
        },
        {
          "output_type": "stream",
          "name": "stderr",
          "text": [
            "\u001b[2m\u001b[36m(launch_and_evaluate pid=2750)\u001b[0m E1024 12:38:40.742754189    2778 chttp2_transport.cc:1103]   Received a GOAWAY with error code ENHANCE_YOUR_CALM and debug data equal to \"too_many_pings\"\n"
          ]
        },
        {
          "output_type": "stream",
          "name": "stdout",
          "text": [
            "\u001b[2m\u001b[36m(launch_and_evaluate pid=3344)\u001b[0m Created client: 29\n",
            "\u001b[2m\u001b[36m(launch_and_evaluate pid=3344)\u001b[0m [Client 29] evaluate, config: {}\n"
          ]
        },
        {
          "output_type": "stream",
          "name": "stderr",
          "text": [
            "\u001b[2m\u001b[36m(launch_and_fit pid=2885)\u001b[0m E1024 12:38:47.219778517    2935 chttp2_transport.cc:1103]   Received a GOAWAY with error code ENHANCE_YOUR_CALM and debug data equal to \"too_many_pings\"\n"
          ]
        },
        {
          "output_type": "stream",
          "name": "stdout",
          "text": [
            "\u001b[2m\u001b[36m(launch_and_evaluate pid=3380)\u001b[0m Created client: 7\n",
            "\u001b[2m\u001b[36m(launch_and_evaluate pid=3380)\u001b[0m [Client 7] evaluate, config: {}\n"
          ]
        },
        {
          "output_type": "stream",
          "name": "stderr",
          "text": [
            "\u001b[2m\u001b[36m(launch_and_fit pid=2953)\u001b[0m E1024 12:38:53.777898989    2981 chttp2_transport.cc:1103]   Received a GOAWAY with error code ENHANCE_YOUR_CALM and debug data equal to \"too_many_pings\"\n"
          ]
        },
        {
          "output_type": "stream",
          "name": "stdout",
          "text": [
            "\u001b[2m\u001b[36m(launch_and_evaluate pid=3417)\u001b[0m Created client: 59\n"
          ]
        },
        {
          "output_type": "stream",
          "name": "stderr",
          "text": [
            "DEBUG flower 2022-10-24 12:38:59,257 | server.py:184 | evaluate_round 3 received 0 results and 5 failures\n",
            "DEBUG:flower:evaluate_round 3 received 0 results and 5 failures\n",
            "DEBUG flower 2022-10-24 12:38:59,260 | server.py:220 | fit_round 4: strategy sampled 5 clients (out of 100)\n",
            "DEBUG:flower:fit_round 4: strategy sampled 5 clients (out of 100)\n"
          ]
        },
        {
          "output_type": "stream",
          "name": "stdout",
          "text": [
            "\u001b[2m\u001b[36m(launch_and_evaluate pid=3417)\u001b[0m [Client 59] evaluate, config: {}\n"
          ]
        },
        {
          "output_type": "stream",
          "name": "stderr",
          "text": [
            "\u001b[2m\u001b[36m(launch_and_fit pid=2987)\u001b[0m E1024 12:39:07.389618952    3015 chttp2_transport.cc:1103]   Received a GOAWAY with error code ENHANCE_YOUR_CALM and debug data equal to \"too_many_pings\"\n",
            "\u001b[2m\u001b[36m(launch_and_fit pid=3021)\u001b[0m E1024 12:39:13.376522323    3049 chttp2_transport.cc:1103]   Received a GOAWAY with error code ENHANCE_YOUR_CALM and debug data equal to \"too_many_pings\"\n"
          ]
        },
        {
          "output_type": "stream",
          "name": "stdout",
          "text": [
            "\u001b[2m\u001b[1m\u001b[36m(scheduler +58m2s)\u001b[0m Tip: use `ray status` to view detailed cluster status. To disable these messages, set RAY_SCHEDULER_EVENTS=0.\n",
            "\u001b[2m\u001b[1m\u001b[33m(scheduler +58m2s)\u001b[0m Warning: The following resource request cannot be scheduled right now: {'CPU': 1.0, 'GPU': 1.0}. This is likely due to all cluster resources being claimed by actors. Consider creating fewer actors or adding more nodes to this Ray cluster.\n"
          ]
        },
        {
          "output_type": "stream",
          "name": "stderr",
          "text": [
            "\u001b[2m\u001b[36m(launch_and_fit pid=3054)\u001b[0m E1024 12:39:17.746357365    3082 chttp2_transport.cc:1103]   Received a GOAWAY with error code ENHANCE_YOUR_CALM and debug data equal to \"too_many_pings\"\n"
          ]
        },
        {
          "output_type": "stream",
          "name": "stdout",
          "text": [
            "\u001b[2m\u001b[36m(launch_and_fit pid=3649)\u001b[0m Created client: 53\n",
            "\u001b[2m\u001b[36m(launch_and_fit pid=3649)\u001b[0m [Client 53, round 4] fit, config: {'server_round': 4, 'local_epochs': 30}\n",
            "\u001b[2m\u001b[36m(launch_and_fit pid=3649)\u001b[0m Entered train function, total num. of epochs: 30\n",
            "\u001b[2m\u001b[36m(launch_and_fit pid=3687)\u001b[0m Created client: 74\n",
            "\u001b[2m\u001b[36m(launch_and_fit pid=3687)\u001b[0m [Client 74, round 4] fit, config: {'server_round': 4, 'local_epochs': 30}\n",
            "\u001b[2m\u001b[36m(launch_and_fit pid=3687)\u001b[0m Entered train function, total num. of epochs: 30\n",
            "\u001b[2m\u001b[36m(launch_and_fit pid=3723)\u001b[0m Created client: 4\n",
            "\u001b[2m\u001b[36m(launch_and_fit pid=3723)\u001b[0m [Client 4, round 4] fit, config: {'server_round': 4, 'local_epochs': 30}\n",
            "\u001b[2m\u001b[36m(launch_and_fit pid=3723)\u001b[0m Entered train function, total num. of epochs: 30\n"
          ]
        },
        {
          "output_type": "stream",
          "name": "stderr",
          "text": [
            "DEBUG flower 2022-10-24 12:39:38,449 | server.py:234 | fit_round 4 received 0 results and 5 failures\n",
            "DEBUG:flower:fit_round 4 received 0 results and 5 failures\n",
            "INFO flower 2022-10-24 12:43:13,253 | server.py:122 | fit progress: (4, tensor(202.8920, device='cuda:0', dtype=torch.float64), {'mean_class_acc.': 94.35458424222469}, 2944.567448404)\n",
            "INFO:flower:fit progress: (4, tensor(202.8920, device='cuda:0', dtype=torch.float64), {'mean_class_acc.': 94.35458424222469}, 2944.567448404)\n",
            "DEBUG flower 2022-10-24 12:43:13,258 | server.py:170 | evaluate_round 4: strategy sampled 5 clients (out of 100)\n",
            "DEBUG:flower:evaluate_round 4: strategy sampled 5 clients (out of 100)\n"
          ]
        },
        {
          "output_type": "stream",
          "name": "stdout",
          "text": [
            "\n",
            "Server eval\n",
            "                Labels  Class Acc.\n",
            "0          Atelectasis   89.637953\n",
            "1         Cardiomegaly   96.932406\n",
            "2        Consolidation   95.808810\n",
            "3                Edema   97.931157\n",
            "4             Effusion   88.282504\n",
            "5            Emphysema   97.610130\n",
            "6             Fibrosis   98.608882\n",
            "7         Infiltration   82.236490\n",
            "8                 Mass   94.988407\n",
            "9               Nodule   94.328518\n",
            "10  Pleural_Thickening   96.254682\n",
            "11           Pneumonia   98.858570\n",
            "12        Pneumothorax   95.131086\n",
            "\n",
            "\n"
          ]
        },
        {
          "output_type": "stream",
          "name": "stderr",
          "text": [
            "\u001b[2m\u001b[36m(launch_and_evaluate pid=3344)\u001b[0m E1024 12:43:22.152022228    3372 chttp2_transport.cc:1103]   Received a GOAWAY with error code ENHANCE_YOUR_CALM and debug data equal to \"too_many_pings\"\n"
          ]
        },
        {
          "output_type": "stream",
          "name": "stdout",
          "text": [
            "\u001b[2m\u001b[36m(launch_and_evaluate pid=3878)\u001b[0m Created client: 10\n",
            "\u001b[2m\u001b[36m(launch_and_evaluate pid=3878)\u001b[0m [Client 10] evaluate, config: {}\n"
          ]
        },
        {
          "output_type": "stream",
          "name": "stderr",
          "text": [
            "\u001b[2m\u001b[36m(launch_and_evaluate pid=3380)\u001b[0m E1024 12:43:28.539023937    3409 chttp2_transport.cc:1103]   Received a GOAWAY with error code ENHANCE_YOUR_CALM and debug data equal to \"too_many_pings\"\n"
          ]
        },
        {
          "output_type": "stream",
          "name": "stdout",
          "text": [
            "\u001b[2m\u001b[36m(launch_and_evaluate pid=3975)\u001b[0m Created client: 32\n",
            "\u001b[2m\u001b[36m(launch_and_evaluate pid=3975)\u001b[0m [Client 32] evaluate, config: {}\n"
          ]
        },
        {
          "output_type": "stream",
          "name": "stderr",
          "text": [
            "\u001b[2m\u001b[36m(launch_and_evaluate pid=3417)\u001b[0m E1024 12:43:34.896148204    3445 chttp2_transport.cc:1103]   Received a GOAWAY with error code ENHANCE_YOUR_CALM and debug data equal to \"too_many_pings\"\n"
          ]
        },
        {
          "output_type": "stream",
          "name": "stdout",
          "text": [
            "\u001b[2m\u001b[36m(launch_and_evaluate pid=4011)\u001b[0m Created client: 45\n",
            "\u001b[2m\u001b[36m(launch_and_evaluate pid=4011)\u001b[0m [Client 45] evaluate, config: {}\n"
          ]
        },
        {
          "output_type": "stream",
          "name": "stderr",
          "text": [
            "\u001b[2m\u001b[36m(launch_and_fit pid=3531)\u001b[0m E1024 12:43:41.249956930    3608 chttp2_transport.cc:1103]   Received a GOAWAY with error code ENHANCE_YOUR_CALM and debug data equal to \"too_many_pings\"\n",
            "\u001b[2m\u001b[36m(launch_and_fit pid=3614)\u001b[0m E1024 12:43:47.267394011    3642 chttp2_transport.cc:1103]   Received a GOAWAY with error code ENHANCE_YOUR_CALM and debug data equal to \"too_many_pings\"\n",
            "DEBUG flower 2022-10-24 12:43:50,808 | server.py:184 | evaluate_round 4 received 0 results and 5 failures\n",
            "DEBUG:flower:evaluate_round 4 received 0 results and 5 failures\n",
            "DEBUG flower 2022-10-24 12:43:50,813 | server.py:220 | fit_round 5: strategy sampled 5 clients (out of 100)\n",
            "DEBUG:flower:fit_round 5: strategy sampled 5 clients (out of 100)\n",
            "\u001b[2m\u001b[36m(launch_and_fit pid=3649)\u001b[0m E1024 12:43:57.865126694    3678 chttp2_transport.cc:1103]   Received a GOAWAY with error code ENHANCE_YOUR_CALM and debug data equal to \"too_many_pings\"\n"
          ]
        },
        {
          "output_type": "stream",
          "name": "stdout",
          "text": [
            "\u001b[2m\u001b[36m(launch_and_fit pid=4145)\u001b[0m Created client: 64\n",
            "\u001b[2m\u001b[36m(launch_and_fit pid=4145)\u001b[0m [Client 64, round 5] fit, config: {'server_round': 5, 'local_epochs': 30}\n",
            "\u001b[2m\u001b[36m(launch_and_fit pid=4145)\u001b[0m Entered train function, total num. of epochs: 30\n"
          ]
        },
        {
          "output_type": "stream",
          "name": "stderr",
          "text": [
            "\u001b[2m\u001b[36m(launch_and_fit pid=3687)\u001b[0m E1024 12:44:05.071406846    3715 chttp2_transport.cc:1103]   Received a GOAWAY with error code ENHANCE_YOUR_CALM and debug data equal to \"too_many_pings\"\n"
          ]
        },
        {
          "output_type": "stream",
          "name": "stdout",
          "text": [
            "\u001b[2m\u001b[36m(launch_and_fit pid=4279)\u001b[0m Created client: 85\n",
            "\u001b[2m\u001b[36m(launch_and_fit pid=4279)\u001b[0m [Client 85, round 5] fit, config: {'server_round': 5, 'local_epochs': 30}\n",
            "\u001b[2m\u001b[36m(launch_and_fit pid=4279)\u001b[0m Entered train function, total num. of epochs: 30\n"
          ]
        },
        {
          "output_type": "stream",
          "name": "stderr",
          "text": [
            "\u001b[2m\u001b[36m(launch_and_fit pid=3723)\u001b[0m E1024 12:44:12.711315114    3751 chttp2_transport.cc:1103]   Received a GOAWAY with error code ENHANCE_YOUR_CALM and debug data equal to \"too_many_pings\"\n"
          ]
        },
        {
          "output_type": "stream",
          "name": "stdout",
          "text": [
            "\u001b[2m\u001b[36m(launch_and_fit pid=4316)\u001b[0m Created client: 65\n",
            "\u001b[2m\u001b[36m(launch_and_fit pid=4316)\u001b[0m [Client 65, round 5] fit, config: {'server_round': 5, 'local_epochs': 30}\n",
            "\u001b[2m\u001b[36m(launch_and_fit pid=4316)\u001b[0m Entered train function, total num. of epochs: 30\n",
            "\u001b[2m\u001b[36m(launch_and_fit pid=4354)\u001b[0m Created client: 3\n",
            "\u001b[2m\u001b[36m(launch_and_fit pid=4354)\u001b[0m [Client 3, round 5] fit, config: {'server_round': 5, 'local_epochs': 30}\n",
            "\u001b[2m\u001b[36m(launch_and_fit pid=4354)\u001b[0m Entered train function, total num. of epochs: 30\n",
            "\u001b[2m\u001b[36m(launch_and_fit pid=4392)\u001b[0m Created client: 93\n",
            "\u001b[2m\u001b[36m(launch_and_fit pid=4392)\u001b[0m [Client 93, round 5] fit, config: {'server_round': 5, 'local_epochs': 30}\n",
            "\u001b[2m\u001b[36m(launch_and_fit pid=4392)\u001b[0m Entered train function, total num. of epochs: 30\n"
          ]
        },
        {
          "output_type": "stream",
          "name": "stderr",
          "text": [
            "DEBUG flower 2022-10-24 12:44:33,660 | server.py:234 | fit_round 5 received 0 results and 5 failures\n",
            "DEBUG:flower:fit_round 5 received 0 results and 5 failures\n",
            "INFO flower 2022-10-24 12:48:07,916 | server.py:122 | fit progress: (5, tensor(202.9999, device='cuda:0', dtype=torch.float64), {'mean_class_acc.': 94.33674939292915}, 3239.2305244199997)\n",
            "INFO:flower:fit progress: (5, tensor(202.9999, device='cuda:0', dtype=torch.float64), {'mean_class_acc.': 94.33674939292915}, 3239.2305244199997)\n",
            "DEBUG flower 2022-10-24 12:48:07,922 | server.py:170 | evaluate_round 5: strategy sampled 5 clients (out of 100)\n",
            "DEBUG:flower:evaluate_round 5: strategy sampled 5 clients (out of 100)\n"
          ]
        },
        {
          "output_type": "stream",
          "name": "stdout",
          "text": [
            "\n",
            "Server eval\n",
            "                Labels  Class Acc.\n",
            "0          Atelectasis   89.602283\n",
            "1         Cardiomegaly   96.843232\n",
            "2        Consolidation   95.808810\n",
            "3                Edema   97.913323\n",
            "4             Effusion   88.282504\n",
            "5            Emphysema   97.663635\n",
            "6             Fibrosis   98.608882\n",
            "7         Infiltration   81.897628\n",
            "8                 Mass   94.988407\n",
            "9               Nodule   94.310683\n",
            "10  Pleural_Thickening   96.468700\n",
            "11           Pneumonia   98.858570\n",
            "12        Pneumothorax   95.131086\n",
            "\n",
            "\n"
          ]
        },
        {
          "output_type": "stream",
          "name": "stderr",
          "text": [
            "\u001b[2m\u001b[36m(launch_and_evaluate pid=4011)\u001b[0m E1024 12:48:16.523958752    4039 chttp2_transport.cc:1103]   Received a GOAWAY with error code ENHANCE_YOUR_CALM and debug data equal to \"too_many_pings\"\n"
          ]
        },
        {
          "output_type": "stream",
          "name": "stdout",
          "text": [
            "\u001b[2m\u001b[36m(launch_and_evaluate pid=4552)\u001b[0m Created client: 62\n",
            "\u001b[2m\u001b[36m(launch_and_evaluate pid=4552)\u001b[0m [Client 62] evaluate, config: {}\n"
          ]
        },
        {
          "output_type": "stream",
          "name": "stderr",
          "text": [
            "\u001b[2m\u001b[36m(launch_and_evaluate pid=4047)\u001b[0m E1024 12:48:23.148287304    4075 chttp2_transport.cc:1103]   Received a GOAWAY with error code ENHANCE_YOUR_CALM and debug data equal to \"too_many_pings\"\n",
            "\u001b[2m\u001b[36m(launch_and_evaluate pid=4081)\u001b[0m E1024 12:48:28.934149737    4109 chttp2_transport.cc:1103]   Received a GOAWAY with error code ENHANCE_YOUR_CALM and debug data equal to \"too_many_pings\"\n",
            "\u001b[2m\u001b[36m(launch_and_fit pid=4145)\u001b[0m E1024 12:48:33.223343614    4197 chttp2_transport.cc:1103]   Received a GOAWAY with error code ENHANCE_YOUR_CALM and debug data equal to \"too_many_pings\"\n"
          ]
        },
        {
          "output_type": "stream",
          "name": "stdout",
          "text": [
            "\u001b[2m\u001b[1m\u001b[33m(scheduler +1h7m23s)\u001b[0m Warning: The following resource request cannot be scheduled right now: {'CPU': 1.0, 'GPU': 1.0}. This is likely due to all cluster resources being claimed by actors. Consider creating fewer actors or adding more nodes to this Ray cluster.\n",
            "\u001b[2m\u001b[36m(launch_and_evaluate pid=4710)\u001b[0m Created client: 57\n",
            "\u001b[2m\u001b[36m(launch_and_evaluate pid=4710)\u001b[0m [Client 57] evaluate, config: {}\n"
          ]
        },
        {
          "output_type": "stream",
          "name": "stderr",
          "text": [
            "\u001b[2m\u001b[36m(launch_and_fit pid=4279)\u001b[0m E1024 12:48:39.429111102    4307 chttp2_transport.cc:1103]   Received a GOAWAY with error code ENHANCE_YOUR_CALM and debug data equal to \"too_many_pings\"\n"
          ]
        },
        {
          "output_type": "stream",
          "name": "stdout",
          "text": [
            "\u001b[2m\u001b[36m(launch_and_evaluate pid=4747)\u001b[0m Created client: 84\n"
          ]
        },
        {
          "output_type": "stream",
          "name": "stderr",
          "text": [
            "DEBUG flower 2022-10-24 12:48:45,186 | server.py:184 | evaluate_round 5 received 0 results and 5 failures\n",
            "DEBUG:flower:evaluate_round 5 received 0 results and 5 failures\n",
            "DEBUG flower 2022-10-24 12:48:45,189 | server.py:220 | fit_round 6: strategy sampled 5 clients (out of 100)\n",
            "DEBUG:flower:fit_round 6: strategy sampled 5 clients (out of 100)\n"
          ]
        },
        {
          "output_type": "stream",
          "name": "stdout",
          "text": [
            "\u001b[2m\u001b[36m(launch_and_evaluate pid=4747)\u001b[0m [Client 84] evaluate, config: {}\n"
          ]
        },
        {
          "output_type": "stream",
          "name": "stderr",
          "text": [
            "\u001b[2m\u001b[36m(launch_and_fit pid=4316)\u001b[0m E1024 12:48:53.185907715    4344 chttp2_transport.cc:1103]   Received a GOAWAY with error code ENHANCE_YOUR_CALM and debug data equal to \"too_many_pings\"\n"
          ]
        },
        {
          "output_type": "stream",
          "name": "stdout",
          "text": [
            "\u001b[2m\u001b[36m(launch_and_fit pid=4839)\u001b[0m Created client: 4\n",
            "\u001b[2m\u001b[36m(launch_and_fit pid=4839)\u001b[0m [Client 4, round 6] fit, config: {'server_round': 6, 'local_epochs': 30}\n",
            "\u001b[2m\u001b[36m(launch_and_fit pid=4839)\u001b[0m Entered train function, total num. of epochs: 30\n"
          ]
        },
        {
          "output_type": "stream",
          "name": "stderr",
          "text": [
            "\u001b[2m\u001b[36m(launch_and_fit pid=4354)\u001b[0m E1024 12:49:00.662086157    4382 chttp2_transport.cc:1103]   Received a GOAWAY with error code ENHANCE_YOUR_CALM and debug data equal to \"too_many_pings\"\n"
          ]
        },
        {
          "output_type": "stream",
          "name": "stdout",
          "text": [
            "\u001b[2m\u001b[36m(launch_and_fit pid=4949)\u001b[0m Created client: 74\n",
            "\u001b[2m\u001b[36m(launch_and_fit pid=4949)\u001b[0m [Client 74, round 6] fit, config: {'server_round': 6, 'local_epochs': 30}\n",
            "\u001b[2m\u001b[36m(launch_and_fit pid=4949)\u001b[0m Entered train function, total num. of epochs: 30\n"
          ]
        },
        {
          "output_type": "stream",
          "name": "stderr",
          "text": [
            "\u001b[2m\u001b[36m(launch_and_fit pid=4392)\u001b[0m E1024 12:49:07.542025071    4420 chttp2_transport.cc:1103]   Received a GOAWAY with error code ENHANCE_YOUR_CALM and debug data equal to \"too_many_pings\"\n"
          ]
        },
        {
          "output_type": "stream",
          "name": "stdout",
          "text": [
            "\u001b[2m\u001b[36m(launch_and_fit pid=4986)\u001b[0m Created client: 11\n",
            "\u001b[2m\u001b[36m(launch_and_fit pid=4986)\u001b[0m [Client 11, round 6] fit, config: {'server_round': 6, 'local_epochs': 30}\n",
            "\u001b[2m\u001b[36m(launch_and_fit pid=4986)\u001b[0m Entered train function, total num. of epochs: 30\n",
            "\u001b[2m\u001b[36m(launch_and_fit pid=5024)\u001b[0m Created client: 16\n",
            "\u001b[2m\u001b[36m(launch_and_fit pid=5024)\u001b[0m [Client 16, round 6] fit, config: {'server_round': 6, 'local_epochs': 30}\n",
            "\u001b[2m\u001b[36m(launch_and_fit pid=5024)\u001b[0m Entered train function, total num. of epochs: 30\n"
          ]
        },
        {
          "output_type": "stream",
          "name": "stderr",
          "text": [
            "DEBUG flower 2022-10-24 12:49:27,179 | server.py:234 | fit_round 6 received 0 results and 5 failures\n",
            "DEBUG:flower:fit_round 6 received 0 results and 5 failures\n",
            "INFO flower 2022-10-24 12:53:01,581 | server.py:122 | fit progress: (6, tensor(202.9593, device='cuda:0', dtype=torch.float64), {'mean_class_acc.': 94.34223703886626}, 3532.8948823250003)\n",
            "INFO:flower:fit progress: (6, tensor(202.9593, device='cuda:0', dtype=torch.float64), {'mean_class_acc.': 94.34223703886626}, 3532.8948823250003)\n",
            "DEBUG flower 2022-10-24 12:53:01,586 | server.py:170 | evaluate_round 6: strategy sampled 5 clients (out of 100)\n",
            "DEBUG:flower:evaluate_round 6: strategy sampled 5 clients (out of 100)\n"
          ]
        },
        {
          "output_type": "stream",
          "name": "stdout",
          "text": [
            "\n",
            "Server eval\n",
            "                Labels  Class Acc.\n",
            "0          Atelectasis   89.620118\n",
            "1         Cardiomegaly   96.843232\n",
            "2        Consolidation   95.808810\n",
            "3                Edema   97.877653\n",
            "4             Effusion   88.264669\n",
            "5            Emphysema   97.681470\n",
            "6             Fibrosis   98.608882\n",
            "7         Infiltration   82.093811\n",
            "8                 Mass   94.988407\n",
            "9               Nodule   94.310683\n",
            "10  Pleural_Thickening   96.308186\n",
            "11           Pneumonia   98.858570\n",
            "12        Pneumothorax   95.184591\n",
            "\n",
            "\n"
          ]
        },
        {
          "output_type": "stream",
          "name": "stderr",
          "text": [
            "\u001b[2m\u001b[36m(launch_and_evaluate pid=4677)\u001b[0m E1024 12:53:09.781366357    4705 chttp2_transport.cc:1103]   Received a GOAWAY with error code ENHANCE_YOUR_CALM and debug data equal to \"too_many_pings\"\n",
            "\u001b[2m\u001b[36m(launch_and_evaluate pid=4710)\u001b[0m E1024 12:53:14.257778254    4738 chttp2_transport.cc:1103]   Received a GOAWAY with error code ENHANCE_YOUR_CALM and debug data equal to \"too_many_pings\"\n"
          ]
        },
        {
          "output_type": "stream",
          "name": "stdout",
          "text": [
            "\u001b[2m\u001b[36m(launch_and_evaluate pid=5307)\u001b[0m Created client: 94\n",
            "\u001b[2m\u001b[36m(launch_and_evaluate pid=5307)\u001b[0m [Client 94] evaluate, config: {}\n"
          ]
        },
        {
          "output_type": "stream",
          "name": "stderr",
          "text": [
            "\u001b[2m\u001b[36m(launch_and_evaluate pid=4747)\u001b[0m E1024 12:53:20.638301124    4775 chttp2_transport.cc:1103]   Received a GOAWAY with error code ENHANCE_YOUR_CALM and debug data equal to \"too_many_pings\"\n"
          ]
        },
        {
          "output_type": "stream",
          "name": "stdout",
          "text": [
            "\u001b[2m\u001b[36m(launch_and_evaluate pid=5343)\u001b[0m Created client: 40\n",
            "\u001b[2m\u001b[36m(launch_and_evaluate pid=5343)\u001b[0m [Client 40] evaluate, config: {}\n"
          ]
        },
        {
          "output_type": "stream",
          "name": "stderr",
          "text": [
            "\u001b[2m\u001b[36m(launch_and_fit pid=4839)\u001b[0m E1024 12:53:26.967392308    4891 chttp2_transport.cc:1103]   Received a GOAWAY with error code ENHANCE_YOUR_CALM and debug data equal to \"too_many_pings\"\n"
          ]
        },
        {
          "output_type": "stream",
          "name": "stdout",
          "text": [
            "\u001b[2m\u001b[36m(launch_and_evaluate pid=5379)\u001b[0m Created client: 97\n",
            "\u001b[2m\u001b[36m(launch_and_evaluate pid=5379)\u001b[0m [Client 97] evaluate, config: {}\n"
          ]
        },
        {
          "output_type": "stream",
          "name": "stderr",
          "text": [
            "\u001b[2m\u001b[36m(launch_and_fit pid=4949)\u001b[0m E1024 12:53:33.354360744    4977 chttp2_transport.cc:1103]   Received a GOAWAY with error code ENHANCE_YOUR_CALM and debug data equal to \"too_many_pings\"\n"
          ]
        },
        {
          "output_type": "stream",
          "name": "stdout",
          "text": [
            "\u001b[2m\u001b[36m(launch_and_evaluate pid=5415)\u001b[0m Created client: 85\n"
          ]
        },
        {
          "output_type": "stream",
          "name": "stderr",
          "text": [
            "DEBUG flower 2022-10-24 12:53:39,131 | server.py:184 | evaluate_round 6 received 0 results and 5 failures\n",
            "DEBUG:flower:evaluate_round 6 received 0 results and 5 failures\n",
            "DEBUG flower 2022-10-24 12:53:39,136 | server.py:220 | fit_round 7: strategy sampled 5 clients (out of 100)\n",
            "DEBUG:flower:fit_round 7: strategy sampled 5 clients (out of 100)\n"
          ]
        },
        {
          "output_type": "stream",
          "name": "stdout",
          "text": [
            "\u001b[2m\u001b[36m(launch_and_evaluate pid=5415)\u001b[0m [Client 85] evaluate, config: {}\n"
          ]
        },
        {
          "output_type": "stream",
          "name": "stderr",
          "text": [
            "\u001b[2m\u001b[36m(launch_and_fit pid=4986)\u001b[0m E1024 12:53:47.031780856    5014 chttp2_transport.cc:1103]   Received a GOAWAY with error code ENHANCE_YOUR_CALM and debug data equal to \"too_many_pings\"\n"
          ]
        },
        {
          "output_type": "stream",
          "name": "stdout",
          "text": [
            "\u001b[2m\u001b[36m(launch_and_fit pid=5494)\u001b[0m Created client: 28\n",
            "\u001b[2m\u001b[36m(launch_and_fit pid=5494)\u001b[0m [Client 28, round 7] fit, config: {'server_round': 7, 'local_epochs': 30}\n",
            "\u001b[2m\u001b[36m(launch_and_fit pid=5494)\u001b[0m Entered train function, total num. of epochs: 30\n"
          ]
        },
        {
          "output_type": "stream",
          "name": "stderr",
          "text": [
            "\u001b[2m\u001b[36m(launch_and_fit pid=5024)\u001b[0m E1024 12:53:54.378904320    5052 chttp2_transport.cc:1103]   Received a GOAWAY with error code ENHANCE_YOUR_CALM and debug data equal to \"too_many_pings\"\n"
          ]
        },
        {
          "output_type": "stream",
          "name": "stdout",
          "text": [
            "\u001b[2m\u001b[36m(launch_and_fit pid=5616)\u001b[0m Created client: 77\n",
            "\u001b[2m\u001b[36m(launch_and_fit pid=5616)\u001b[0m [Client 77, round 7] fit, config: {'server_round': 7, 'local_epochs': 30}\n",
            "\u001b[2m\u001b[36m(launch_and_fit pid=5616)\u001b[0m Entered train function, total num. of epochs: 30\n",
            "\u001b[2m\u001b[36m(launch_and_fit pid=5721)\u001b[0m Created client: 38\n",
            "\u001b[2m\u001b[36m(launch_and_fit pid=5721)\u001b[0m [Client 38, round 7] fit, config: {'server_round': 7, 'local_epochs': 30}\n",
            "\u001b[2m\u001b[36m(launch_and_fit pid=5721)\u001b[0m Entered train function, total num. of epochs: 30\n"
          ]
        },
        {
          "output_type": "stream",
          "name": "stderr",
          "text": [
            "DEBUG flower 2022-10-24 12:54:17,996 | server.py:234 | fit_round 7 received 0 results and 5 failures\n",
            "DEBUG:flower:fit_round 7 received 0 results and 5 failures\n",
            "INFO flower 2022-10-24 12:57:52,237 | server.py:122 | fit progress: (7, tensor(202.8159, device='cuda:0', dtype=torch.float64), {'mean_class_acc.': 94.36967526855167}, 3823.550797293)\n",
            "INFO:flower:fit progress: (7, tensor(202.8159, device='cuda:0', dtype=torch.float64), {'mean_class_acc.': 94.36967526855167}, 3823.550797293)\n",
            "DEBUG flower 2022-10-24 12:57:52,242 | server.py:170 | evaluate_round 7: strategy sampled 5 clients (out of 100)\n",
            "DEBUG:flower:evaluate_round 7: strategy sampled 5 clients (out of 100)\n"
          ]
        },
        {
          "output_type": "stream",
          "name": "stdout",
          "text": [
            "\n",
            "Server eval\n",
            "                Labels  Class Acc.\n",
            "0          Atelectasis   89.673622\n",
            "1         Cardiomegaly   96.861067\n",
            "2        Consolidation   95.808810\n",
            "3                Edema   97.895488\n",
            "4             Effusion   88.282504\n",
            "5            Emphysema   97.645800\n",
            "6             Fibrosis   98.608882\n",
            "7         Infiltration   82.236490\n",
            "8                 Mass   94.988407\n",
            "9               Nodule   94.328518\n",
            "10  Pleural_Thickening   96.415195\n",
            "11           Pneumonia   98.858570\n",
            "12        Pneumothorax   95.202426\n",
            "\n",
            "\n"
          ]
        },
        {
          "output_type": "stream",
          "name": "stderr",
          "text": [
            "\u001b[2m\u001b[36m(launch_and_evaluate pid=5343)\u001b[0m E1024 12:57:59.421487990    5371 chttp2_transport.cc:1103]   Received a GOAWAY with error code ENHANCE_YOUR_CALM and debug data equal to \"too_many_pings\"\n"
          ]
        },
        {
          "output_type": "stream",
          "name": "stdout",
          "text": [
            "\u001b[2m\u001b[36m(launch_and_evaluate pid=5837)\u001b[0m Created client: 76\n",
            "\u001b[2m\u001b[36m(launch_and_evaluate pid=5837)\u001b[0m [Client 76] evaluate, config: {}\n"
          ]
        },
        {
          "output_type": "stream",
          "name": "stderr",
          "text": [
            "\u001b[2m\u001b[36m(launch_and_evaluate pid=5379)\u001b[0m E1024 12:58:06.084038556    5407 chttp2_transport.cc:1103]   Received a GOAWAY with error code ENHANCE_YOUR_CALM and debug data equal to \"too_many_pings\"\n"
          ]
        },
        {
          "output_type": "stream",
          "name": "stdout",
          "text": [
            "\u001b[2m\u001b[36m(launch_and_evaluate pid=5971)\u001b[0m Created client: 56\n",
            "\u001b[2m\u001b[36m(launch_and_evaluate pid=5971)\u001b[0m [Client 56] evaluate, config: {}\n"
          ]
        },
        {
          "output_type": "stream",
          "name": "stderr",
          "text": [
            "\u001b[2m\u001b[36m(launch_and_evaluate pid=5415)\u001b[0m E1024 12:58:12.411393251    5444 chttp2_transport.cc:1103]   Received a GOAWAY with error code ENHANCE_YOUR_CALM and debug data equal to \"too_many_pings\"\n"
          ]
        },
        {
          "output_type": "stream",
          "name": "stdout",
          "text": [
            "\u001b[2m\u001b[36m(launch_and_evaluate pid=6007)\u001b[0m Created client: 71\n",
            "\u001b[2m\u001b[36m(launch_and_evaluate pid=6007)\u001b[0m [Client 71] evaluate, config: {}\n"
          ]
        },
        {
          "output_type": "stream",
          "name": "stderr",
          "text": [
            "\u001b[2m\u001b[36m(launch_and_fit pid=5494)\u001b[0m E1024 12:58:18.871148347    5552 chttp2_transport.cc:1103]   Received a GOAWAY with error code ENHANCE_YOUR_CALM and debug data equal to \"too_many_pings\"\n"
          ]
        },
        {
          "output_type": "stream",
          "name": "stdout",
          "text": [
            "\u001b[2m\u001b[36m(launch_and_evaluate pid=6043)\u001b[0m Created client: 11\n",
            "\u001b[2m\u001b[36m(launch_and_evaluate pid=6043)\u001b[0m [Client 11] evaluate, config: {}\n"
          ]
        },
        {
          "output_type": "stream",
          "name": "stderr",
          "text": [
            "\u001b[2m\u001b[36m(launch_and_fit pid=5616)\u001b[0m E1024 12:58:25.255686748    5644 chttp2_transport.cc:1103]   Received a GOAWAY with error code ENHANCE_YOUR_CALM and debug data equal to \"too_many_pings\"\n"
          ]
        },
        {
          "output_type": "stream",
          "name": "stdout",
          "text": [
            "\u001b[2m\u001b[36m(launch_and_evaluate pid=6080)\u001b[0m Created client: 60\n"
          ]
        },
        {
          "output_type": "stream",
          "name": "stderr",
          "text": [
            "DEBUG flower 2022-10-24 12:58:30,869 | server.py:184 | evaluate_round 7 received 0 results and 5 failures\n",
            "DEBUG:flower:evaluate_round 7 received 0 results and 5 failures\n",
            "DEBUG flower 2022-10-24 12:58:30,873 | server.py:220 | fit_round 8: strategy sampled 5 clients (out of 100)\n",
            "DEBUG:flower:fit_round 8: strategy sampled 5 clients (out of 100)\n"
          ]
        },
        {
          "output_type": "stream",
          "name": "stdout",
          "text": [
            "\u001b[2m\u001b[36m(launch_and_evaluate pid=6080)\u001b[0m [Client 60] evaluate, config: {}\n"
          ]
        },
        {
          "output_type": "stream",
          "name": "stderr",
          "text": [
            "\u001b[2m\u001b[36m(launch_and_fit pid=5655)\u001b[0m E1024 12:58:38.980652806    5683 chttp2_transport.cc:1103]   Received a GOAWAY with error code ENHANCE_YOUR_CALM and debug data equal to \"too_many_pings\"\n",
            "\u001b[2m\u001b[36m(launch_and_fit pid=5688)\u001b[0m E1024 12:58:44.958626479    5716 chttp2_transport.cc:1103]   Received a GOAWAY with error code ENHANCE_YOUR_CALM and debug data equal to \"too_many_pings\"\n",
            "\u001b[2m\u001b[36m(launch_and_fit pid=5721)\u001b[0m E1024 12:58:49.423991331    5749 chttp2_transport.cc:1103]   Received a GOAWAY with error code ENHANCE_YOUR_CALM and debug data equal to \"too_many_pings\"\n"
          ]
        },
        {
          "output_type": "stream",
          "name": "stdout",
          "text": [
            "\u001b[2m\u001b[36m(launch_and_fit pid=6310)\u001b[0m Created client: 95\n",
            "\u001b[2m\u001b[36m(launch_and_fit pid=6310)\u001b[0m [Client 95, round 8] fit, config: {'server_round': 8, 'local_epochs': 30}\n",
            "\u001b[2m\u001b[36m(launch_and_fit pid=6310)\u001b[0m Entered train function, total num. of epochs: 30\n",
            "\u001b[2m\u001b[36m(launch_and_fit pid=6348)\u001b[0m Created client: 23\n",
            "\u001b[2m\u001b[36m(launch_and_fit pid=6348)\u001b[0m [Client 23, round 8] fit, config: {'server_round': 8, 'local_epochs': 30}\n",
            "\u001b[2m\u001b[36m(launch_and_fit pid=6348)\u001b[0m Entered train function, total num. of epochs: 30\n",
            "\u001b[2m\u001b[36m(launch_and_fit pid=6384)\u001b[0m Created client: 92\n",
            "\u001b[2m\u001b[36m(launch_and_fit pid=6384)\u001b[0m [Client 92, round 8] fit, config: {'server_round': 8, 'local_epochs': 30}\n",
            "\u001b[2m\u001b[36m(launch_and_fit pid=6384)\u001b[0m Entered train function, total num. of epochs: 30\n"
          ]
        },
        {
          "output_type": "stream",
          "name": "stderr",
          "text": [
            "DEBUG flower 2022-10-24 12:59:10,345 | server.py:234 | fit_round 8 received 0 results and 5 failures\n",
            "DEBUG:flower:fit_round 8 received 0 results and 5 failures\n",
            "INFO flower 2022-10-24 13:02:44,718 | server.py:122 | fit progress: (8, tensor(202.9755, device='cuda:0', dtype=torch.float64), {'mean_class_acc.': 94.3490965962876}, 4116.032141943)\n",
            "INFO:flower:fit progress: (8, tensor(202.9755, device='cuda:0', dtype=torch.float64), {'mean_class_acc.': 94.3490965962876}, 4116.032141943)\n",
            "DEBUG flower 2022-10-24 13:02:44,723 | server.py:170 | evaluate_round 8: strategy sampled 5 clients (out of 100)\n",
            "DEBUG:flower:evaluate_round 8: strategy sampled 5 clients (out of 100)\n"
          ]
        },
        {
          "output_type": "stream",
          "name": "stdout",
          "text": [
            "\n",
            "Server eval\n",
            "                Labels  Class Acc.\n",
            "0          Atelectasis   89.673622\n",
            "1         Cardiomegaly   97.021580\n",
            "2        Consolidation   95.790976\n",
            "3                Edema   97.948992\n",
            "4             Effusion   88.282504\n",
            "5            Emphysema   97.663635\n",
            "6             Fibrosis   98.608882\n",
            "7         Infiltration   81.808454\n",
            "8                 Mass   94.988407\n",
            "9               Nodule   94.310683\n",
            "10  Pleural_Thickening   96.433030\n",
            "11           Pneumonia   98.858570\n",
            "12        Pneumothorax   95.148921\n",
            "\n",
            "\n"
          ]
        },
        {
          "output_type": "stream",
          "name": "stderr",
          "text": [
            "\u001b[2m\u001b[36m(launch_and_evaluate pid=6007)\u001b[0m E1024 13:02:54.672481030    6035 chttp2_transport.cc:1103]   Received a GOAWAY with error code ENHANCE_YOUR_CALM and debug data equal to \"too_many_pings\"\n"
          ]
        },
        {
          "output_type": "stream",
          "name": "stdout",
          "text": [
            "\u001b[2m\u001b[36m(launch_and_evaluate pid=6577)\u001b[0m Created client: 71\n",
            "\u001b[2m\u001b[36m(launch_and_evaluate pid=6577)\u001b[0m [Client 71] evaluate, config: {}\n"
          ]
        },
        {
          "output_type": "stream",
          "name": "stderr",
          "text": [
            "\u001b[2m\u001b[36m(launch_and_evaluate pid=6043)\u001b[0m E1024 13:03:01.062325045    6072 chttp2_transport.cc:1103]   Received a GOAWAY with error code ENHANCE_YOUR_CALM and debug data equal to \"too_many_pings\"\n"
          ]
        },
        {
          "output_type": "stream",
          "name": "stdout",
          "text": [
            "\u001b[2m\u001b[36m(launch_and_evaluate pid=6638)\u001b[0m Created client: 63\n",
            "\u001b[2m\u001b[36m(launch_and_evaluate pid=6638)\u001b[0m [Client 63] evaluate, config: {}\n"
          ]
        },
        {
          "output_type": "stream",
          "name": "stderr",
          "text": [
            "\u001b[2m\u001b[36m(launch_and_evaluate pid=6080)\u001b[0m E1024 13:03:07.284241124    6108 chttp2_transport.cc:1103]   Received a GOAWAY with error code ENHANCE_YOUR_CALM and debug data equal to \"too_many_pings\"\n"
          ]
        },
        {
          "output_type": "stream",
          "name": "stdout",
          "text": [
            "\u001b[2m\u001b[36m(launch_and_evaluate pid=6674)\u001b[0m Created client: 17\n",
            "\u001b[2m\u001b[36m(launch_and_evaluate pid=6674)\u001b[0m [Client 17] evaluate, config: {}\n"
          ]
        },
        {
          "output_type": "stream",
          "name": "stderr",
          "text": [
            "\u001b[2m\u001b[36m(launch_and_fit pid=6170)\u001b[0m E1024 13:03:13.789804314    6228 chttp2_transport.cc:1103]   Received a GOAWAY with error code ENHANCE_YOUR_CALM and debug data equal to \"too_many_pings\"\n",
            "\u001b[2m\u001b[36m(launch_and_fit pid=6277)\u001b[0m E1024 13:03:19.581599068    6305 chttp2_transport.cc:1103]   Received a GOAWAY with error code ENHANCE_YOUR_CALM and debug data equal to \"too_many_pings\"\n",
            "DEBUG flower 2022-10-24 13:03:23,222 | server.py:184 | evaluate_round 8 received 0 results and 5 failures\n",
            "DEBUG:flower:evaluate_round 8 received 0 results and 5 failures\n",
            "DEBUG flower 2022-10-24 13:03:23,226 | server.py:220 | fit_round 9: strategy sampled 5 clients (out of 100)\n",
            "DEBUG:flower:fit_round 9: strategy sampled 5 clients (out of 100)\n",
            "\u001b[2m\u001b[36m(launch_and_fit pid=6310)\u001b[0m E1024 13:03:31.891530628    6339 chttp2_transport.cc:1103]   Received a GOAWAY with error code ENHANCE_YOUR_CALM and debug data equal to \"too_many_pings\"\n"
          ]
        },
        {
          "output_type": "stream",
          "name": "stdout",
          "text": [
            "\u001b[2m\u001b[36m(launch_and_fit pid=6859)\u001b[0m Created client: 61\n",
            "\u001b[2m\u001b[36m(launch_and_fit pid=6859)\u001b[0m [Client 61, round 9] fit, config: {'server_round': 9, 'local_epochs': 30}\n",
            "\u001b[2m\u001b[36m(launch_and_fit pid=6859)\u001b[0m Entered train function, total num. of epochs: 30\n"
          ]
        },
        {
          "output_type": "stream",
          "name": "stderr",
          "text": [
            "\u001b[2m\u001b[36m(launch_and_fit pid=6348)\u001b[0m E1024 13:03:39.073540623    6376 chttp2_transport.cc:1103]   Received a GOAWAY with error code ENHANCE_YOUR_CALM and debug data equal to \"too_many_pings\"\n"
          ]
        },
        {
          "output_type": "stream",
          "name": "stdout",
          "text": [
            "\u001b[2m\u001b[36m(launch_and_fit pid=6944)\u001b[0m Created client: 31\n",
            "\u001b[2m\u001b[36m(launch_and_fit pid=6944)\u001b[0m [Client 31, round 9] fit, config: {'server_round': 9, 'local_epochs': 30}\n",
            "\u001b[2m\u001b[36m(launch_and_fit pid=6944)\u001b[0m Entered train function, total num. of epochs: 30\n"
          ]
        },
        {
          "output_type": "stream",
          "name": "stderr",
          "text": [
            "\u001b[2m\u001b[36m(launch_and_fit pid=6384)\u001b[0m E1024 13:03:46.595272492    6415 chttp2_transport.cc:1103]   Received a GOAWAY with error code ENHANCE_YOUR_CALM and debug data equal to \"too_many_pings\"\n"
          ]
        },
        {
          "output_type": "stream",
          "name": "stdout",
          "text": [
            "\u001b[2m\u001b[36m(launch_and_fit pid=6982)\u001b[0m Created client: 87\n",
            "\u001b[2m\u001b[36m(launch_and_fit pid=6982)\u001b[0m [Client 87, round 9] fit, config: {'server_round': 9, 'local_epochs': 30}\n",
            "\u001b[2m\u001b[36m(launch_and_fit pid=6982)\u001b[0m Entered train function, total num. of epochs: 30\n",
            "\u001b[2m\u001b[36m(launch_and_fit pid=7019)\u001b[0m Created client: 48\n",
            "\u001b[2m\u001b[36m(launch_and_fit pid=7019)\u001b[0m [Client 48, round 9] fit, config: {'server_round': 9, 'local_epochs': 30}\n",
            "\u001b[2m\u001b[36m(launch_and_fit pid=7019)\u001b[0m Entered train function, total num. of epochs: 30\n",
            "\u001b[2m\u001b[36m(launch_and_fit pid=7056)\u001b[0m Created client: 33\n",
            "\u001b[2m\u001b[36m(launch_and_fit pid=7056)\u001b[0m [Client 33, round 9] fit, config: {'server_round': 9, 'local_epochs': 30}\n",
            "\u001b[2m\u001b[36m(launch_and_fit pid=7056)\u001b[0m Entered train function, total num. of epochs: 30\n"
          ]
        },
        {
          "output_type": "stream",
          "name": "stderr",
          "text": [
            "DEBUG flower 2022-10-24 13:04:07,328 | server.py:234 | fit_round 9 received 0 results and 5 failures\n",
            "DEBUG:flower:fit_round 9 received 0 results and 5 failures\n",
            "INFO flower 2022-10-24 13:07:41,529 | server.py:122 | fit progress: (9, tensor(202.9530, device='cuda:0', dtype=torch.float64), {'mean_class_acc.': 94.3353774814449}, 4412.842899364)\n",
            "INFO:flower:fit progress: (9, tensor(202.9530, device='cuda:0', dtype=torch.float64), {'mean_class_acc.': 94.3353774814449}, 4412.842899364)\n",
            "DEBUG flower 2022-10-24 13:07:41,534 | server.py:170 | evaluate_round 9: strategy sampled 5 clients (out of 100)\n",
            "DEBUG:flower:evaluate_round 9: strategy sampled 5 clients (out of 100)\n"
          ]
        },
        {
          "output_type": "stream",
          "name": "stdout",
          "text": [
            "\n",
            "Server eval\n",
            "                Labels  Class Acc.\n",
            "0          Atelectasis   89.673622\n",
            "1         Cardiomegaly   96.789727\n",
            "2        Consolidation   95.808810\n",
            "3                Edema   97.966827\n",
            "4             Effusion   88.282504\n",
            "5            Emphysema   97.627965\n",
            "6             Fibrosis   98.608882\n",
            "7         Infiltration   81.933298\n",
            "8                 Mass   94.952738\n",
            "9               Nodule   94.328518\n",
            "10  Pleural_Thickening   96.361691\n",
            "11           Pneumonia   98.858570\n",
            "12        Pneumothorax   95.166756\n",
            "\n",
            "\n"
          ]
        },
        {
          "output_type": "stream",
          "name": "stderr",
          "text": [
            "\u001b[2m\u001b[36m(launch_and_evaluate pid=6674)\u001b[0m E1024 13:07:50.313367341    6702 chttp2_transport.cc:1103]   Received a GOAWAY with error code ENHANCE_YOUR_CALM and debug data equal to \"too_many_pings\"\n"
          ]
        },
        {
          "output_type": "stream",
          "name": "stdout",
          "text": [
            "\u001b[2m\u001b[36m(launch_and_evaluate pid=7252)\u001b[0m Created client: 56\n",
            "\u001b[2m\u001b[36m(launch_and_evaluate pid=7252)\u001b[0m [Client 56] evaluate, config: {}\n"
          ]
        },
        {
          "output_type": "stream",
          "name": "stderr",
          "text": [
            "\u001b[2m\u001b[36m(launch_and_evaluate pid=6712)\u001b[0m E1024 13:07:56.771944979    6740 chttp2_transport.cc:1103]   Received a GOAWAY with error code ENHANCE_YOUR_CALM and debug data equal to \"too_many_pings\"\n",
            "\u001b[2m\u001b[36m(launch_and_evaluate pid=6746)\u001b[0m E1024 13:08:02.576586185    6775 chttp2_transport.cc:1103]   Received a GOAWAY with error code ENHANCE_YOUR_CALM and debug data equal to \"too_many_pings\"\n",
            "\u001b[2m\u001b[36m(launch_and_fit pid=6859)\u001b[0m E1024 13:08:06.969604923    6911 chttp2_transport.cc:1103]   Received a GOAWAY with error code ENHANCE_YOUR_CALM and debug data equal to \"too_many_pings\"\n"
          ]
        },
        {
          "output_type": "stream",
          "name": "stdout",
          "text": [
            "\u001b[2m\u001b[36m(launch_and_evaluate pid=7374)\u001b[0m Created client: 97\n",
            "\u001b[2m\u001b[36m(launch_and_evaluate pid=7374)\u001b[0m [Client 97] evaluate, config: {}\n"
          ]
        },
        {
          "output_type": "stream",
          "name": "stderr",
          "text": [
            "\u001b[2m\u001b[36m(launch_and_fit pid=6944)\u001b[0m E1024 13:08:13.579933039    6972 chttp2_transport.cc:1103]   Received a GOAWAY with error code ENHANCE_YOUR_CALM and debug data equal to \"too_many_pings\"\n"
          ]
        },
        {
          "output_type": "stream",
          "name": "stdout",
          "text": [
            "\u001b[2m\u001b[36m(launch_and_evaluate pid=7410)\u001b[0m Created client: 32\n"
          ]
        },
        {
          "output_type": "stream",
          "name": "stderr",
          "text": [
            "DEBUG flower 2022-10-24 13:08:19,192 | server.py:184 | evaluate_round 9 received 0 results and 5 failures\n",
            "DEBUG:flower:evaluate_round 9 received 0 results and 5 failures\n",
            "DEBUG flower 2022-10-24 13:08:19,194 | server.py:220 | fit_round 10: strategy sampled 5 clients (out of 100)\n",
            "DEBUG:flower:fit_round 10: strategy sampled 5 clients (out of 100)\n"
          ]
        },
        {
          "output_type": "stream",
          "name": "stdout",
          "text": [
            "\u001b[2m\u001b[36m(launch_and_evaluate pid=7410)\u001b[0m [Client 32] evaluate, config: {}\n"
          ]
        },
        {
          "output_type": "stream",
          "name": "stderr",
          "text": [
            "\u001b[2m\u001b[36m(launch_and_fit pid=6982)\u001b[0m E1024 13:08:27.257158944    7010 chttp2_transport.cc:1103]   Received a GOAWAY with error code ENHANCE_YOUR_CALM and debug data equal to \"too_many_pings\"\n"
          ]
        },
        {
          "output_type": "stream",
          "name": "stdout",
          "text": [
            "\u001b[2m\u001b[36m(launch_and_fit pid=7503)\u001b[0m Created client: 15\n",
            "\u001b[2m\u001b[36m(launch_and_fit pid=7503)\u001b[0m [Client 15, round 10] fit, config: {'server_round': 10, 'local_epochs': 30}\n",
            "\u001b[2m\u001b[36m(launch_and_fit pid=7503)\u001b[0m Entered train function, total num. of epochs: 30\n"
          ]
        },
        {
          "output_type": "stream",
          "name": "stderr",
          "text": [
            "\u001b[2m\u001b[36m(launch_and_fit pid=7019)\u001b[0m E1024 13:08:34.425823716    7047 chttp2_transport.cc:1103]   Received a GOAWAY with error code ENHANCE_YOUR_CALM and debug data equal to \"too_many_pings\"\n"
          ]
        },
        {
          "output_type": "stream",
          "name": "stdout",
          "text": [
            "\u001b[2m\u001b[36m(launch_and_fit pid=7612)\u001b[0m Created client: 49\n",
            "\u001b[2m\u001b[36m(launch_and_fit pid=7612)\u001b[0m [Client 49, round 10] fit, config: {'server_round': 10, 'local_epochs': 30}\n",
            "\u001b[2m\u001b[36m(launch_and_fit pid=7612)\u001b[0m Entered train function, total num. of epochs: 30\n"
          ]
        },
        {
          "output_type": "stream",
          "name": "stderr",
          "text": [
            "\u001b[2m\u001b[36m(launch_and_fit pid=7056)\u001b[0m E1024 13:08:41.632528776    7084 chttp2_transport.cc:1103]   Received a GOAWAY with error code ENHANCE_YOUR_CALM and debug data equal to \"too_many_pings\"\n"
          ]
        },
        {
          "output_type": "stream",
          "name": "stdout",
          "text": [
            "\u001b[2m\u001b[36m(launch_and_fit pid=7650)\u001b[0m Created client: 88\n",
            "\u001b[2m\u001b[36m(launch_and_fit pid=7650)\u001b[0m [Client 88, round 10] fit, config: {'server_round': 10, 'local_epochs': 30}\n",
            "\u001b[2m\u001b[36m(launch_and_fit pid=7650)\u001b[0m Entered train function, total num. of epochs: 30\n",
            "\u001b[2m\u001b[36m(launch_and_fit pid=7687)\u001b[0m Created client: 64\n",
            "\u001b[2m\u001b[36m(launch_and_fit pid=7687)\u001b[0m [Client 64, round 10] fit, config: {'server_round': 10, 'local_epochs': 30}\n",
            "\u001b[2m\u001b[36m(launch_and_fit pid=7687)\u001b[0m Entered train function, total num. of epochs: 30\n"
          ]
        },
        {
          "output_type": "stream",
          "name": "stderr",
          "text": [
            "DEBUG flower 2022-10-24 13:09:01,316 | server.py:234 | fit_round 10 received 0 results and 5 failures\n",
            "DEBUG:flower:fit_round 10 received 0 results and 5 failures\n",
            "INFO flower 2022-10-24 13:12:36,404 | server.py:122 | fit progress: (10, tensor(202.8329, device='cuda:0', dtype=torch.float64), {'mean_class_acc.': 94.3861382063629}, 4707.717765286)\n",
            "INFO:flower:fit progress: (10, tensor(202.8329, device='cuda:0', dtype=torch.float64), {'mean_class_acc.': 94.3861382063629}, 4707.717765286)\n",
            "DEBUG flower 2022-10-24 13:12:36,408 | server.py:170 | evaluate_round 10: strategy sampled 5 clients (out of 100)\n",
            "DEBUG:flower:evaluate_round 10: strategy sampled 5 clients (out of 100)\n"
          ]
        },
        {
          "output_type": "stream",
          "name": "stdout",
          "text": [
            "\n",
            "Server eval\n",
            "                Labels  Class Acc.\n",
            "0          Atelectasis   89.691457\n",
            "1         Cardiomegaly   97.092920\n",
            "2        Consolidation   95.790976\n",
            "3                Edema   97.895488\n",
            "4             Effusion   88.282504\n",
            "5            Emphysema   97.645800\n",
            "6             Fibrosis   98.608882\n",
            "7         Infiltration   82.307829\n",
            "8                 Mass   94.952738\n",
            "9               Nodule   94.310683\n",
            "10  Pleural_Thickening   96.397360\n",
            "11           Pneumonia   98.858570\n",
            "12        Pneumothorax   95.184591\n",
            "\n",
            "\n"
          ]
        },
        {
          "output_type": "stream",
          "name": "stderr",
          "text": [
            "\u001b[2m\u001b[36m(launch_and_evaluate pid=7340)\u001b[0m E1024 13:12:45.661071921    7368 chttp2_transport.cc:1103]   Received a GOAWAY with error code ENHANCE_YOUR_CALM and debug data equal to \"too_many_pings\"\n",
            "\u001b[2m\u001b[36m(launch_and_evaluate pid=7374)\u001b[0m E1024 13:12:50.300263919    7402 chttp2_transport.cc:1103]   Received a GOAWAY with error code ENHANCE_YOUR_CALM and debug data equal to \"too_many_pings\"\n"
          ]
        },
        {
          "output_type": "stream",
          "name": "stdout",
          "text": [
            "\u001b[2m\u001b[36m(launch_and_evaluate pid=7969)\u001b[0m Created client: 26\n",
            "\u001b[2m\u001b[36m(launch_and_evaluate pid=7969)\u001b[0m [Client 26] evaluate, config: {}\n"
          ]
        },
        {
          "output_type": "stream",
          "name": "stderr",
          "text": [
            "\u001b[2m\u001b[36m(launch_and_evaluate pid=7410)\u001b[0m E1024 13:12:56.635729784    7438 chttp2_transport.cc:1103]   Received a GOAWAY with error code ENHANCE_YOUR_CALM and debug data equal to \"too_many_pings\"\n"
          ]
        },
        {
          "output_type": "stream",
          "name": "stdout",
          "text": [
            "\u001b[2m\u001b[36m(launch_and_evaluate pid=8006)\u001b[0m Created client: 33\n",
            "\u001b[2m\u001b[36m(launch_and_evaluate pid=8006)\u001b[0m [Client 33] evaluate, config: {}\n"
          ]
        },
        {
          "output_type": "stream",
          "name": "stderr",
          "text": [
            "\u001b[2m\u001b[36m(launch_and_fit pid=7503)\u001b[0m E1024 13:13:03.075690173    7531 chttp2_transport.cc:1103]   Received a GOAWAY with error code ENHANCE_YOUR_CALM and debug data equal to \"too_many_pings\"\n"
          ]
        },
        {
          "output_type": "stream",
          "name": "stdout",
          "text": [
            "\u001b[2m\u001b[1m\u001b[33m(scheduler +1h31m50s)\u001b[0m Warning: The following resource request cannot be scheduled right now: {'GPU': 1.0, 'CPU': 1.0}. This is likely due to all cluster resources being claimed by actors. Consider creating fewer actors or adding more nodes to this Ray cluster.\n",
            "\u001b[2m\u001b[36m(launch_and_evaluate pid=8042)\u001b[0m Created client: 55\n",
            "\u001b[2m\u001b[36m(launch_and_evaluate pid=8042)\u001b[0m [Client 55] evaluate, config: {}\n"
          ]
        },
        {
          "output_type": "stream",
          "name": "stderr",
          "text": [
            "\u001b[2m\u001b[36m(launch_and_fit pid=7612)\u001b[0m E1024 13:13:09.747122296    7640 chttp2_transport.cc:1103]   Received a GOAWAY with error code ENHANCE_YOUR_CALM and debug data equal to \"too_many_pings\"\n"
          ]
        },
        {
          "output_type": "stream",
          "name": "stdout",
          "text": [
            "\u001b[2m\u001b[36m(launch_and_evaluate pid=8078)\u001b[0m Created client: 15\n"
          ]
        },
        {
          "output_type": "stream",
          "name": "stderr",
          "text": [
            "DEBUG flower 2022-10-24 13:13:15,122 | server.py:184 | evaluate_round 10 received 0 results and 5 failures\n",
            "DEBUG:flower:evaluate_round 10 received 0 results and 5 failures\n",
            "INFO flower 2022-10-24 13:13:15,126 | server.py:144 | FL finished in 4746.440477567\n",
            "INFO:flower:FL finished in 4746.440477567\n",
            "INFO flower 2022-10-24 13:13:15,131 | app.py:180 | app_fit: losses_distributed []\n",
            "INFO:flower:app_fit: losses_distributed []\n",
            "INFO flower 2022-10-24 13:13:15,133 | app.py:181 | app_fit: metrics_distributed {}\n",
            "INFO:flower:app_fit: metrics_distributed {}\n",
            "INFO flower 2022-10-24 13:13:15,143 | app.py:182 | app_fit: losses_centralized [(0, tensor(224.8837, device='cuda:0', dtype=torch.float64)), (1, tensor(211.2333, device='cuda:0', dtype=torch.float64)), (2, tensor(203.0044, device='cuda:0', dtype=torch.float64)), (3, tensor(202.9816, device='cuda:0', dtype=torch.float64)), (4, tensor(202.8920, device='cuda:0', dtype=torch.float64)), (5, tensor(202.9999, device='cuda:0', dtype=torch.float64)), (6, tensor(202.9593, device='cuda:0', dtype=torch.float64)), (7, tensor(202.8159, device='cuda:0', dtype=torch.float64)), (8, tensor(202.9755, device='cuda:0', dtype=torch.float64)), (9, tensor(202.9530, device='cuda:0', dtype=torch.float64)), (10, tensor(202.8329, device='cuda:0', dtype=torch.float64))]\n",
            "INFO:flower:app_fit: losses_centralized [(0, tensor(224.8837, device='cuda:0', dtype=torch.float64)), (1, tensor(211.2333, device='cuda:0', dtype=torch.float64)), (2, tensor(203.0044, device='cuda:0', dtype=torch.float64)), (3, tensor(202.9816, device='cuda:0', dtype=torch.float64)), (4, tensor(202.8920, device='cuda:0', dtype=torch.float64)), (5, tensor(202.9999, device='cuda:0', dtype=torch.float64)), (6, tensor(202.9593, device='cuda:0', dtype=torch.float64)), (7, tensor(202.8159, device='cuda:0', dtype=torch.float64)), (8, tensor(202.9755, device='cuda:0', dtype=torch.float64)), (9, tensor(202.9530, device='cuda:0', dtype=torch.float64)), (10, tensor(202.8329, device='cuda:0', dtype=torch.float64))]\n",
            "INFO flower 2022-10-24 13:13:15,146 | app.py:183 | app_fit: metrics_centralized {'mean_class_acc.': [(0, 45.724437859269315), (1, 62.424716357300625), (2, 94.34223703886626), (3, 94.3353774814449), (4, 94.35458424222469), (5, 94.33674939292915), (6, 94.34223703886626), (7, 94.36967526855167), (8, 94.3490965962876), (9, 94.3353774814449), (10, 94.3861382063629)]}\n",
            "INFO:flower:app_fit: metrics_centralized {'mean_class_acc.': [(0, 45.724437859269315), (1, 62.424716357300625), (2, 94.34223703886626), (3, 94.3353774814449), (4, 94.35458424222469), (5, 94.33674939292915), (6, 94.34223703886626), (7, 94.36967526855167), (8, 94.3490965962876), (9, 94.3353774814449), (10, 94.3861382063629)]}\n"
          ]
        },
        {
          "output_type": "stream",
          "name": "stdout",
          "text": [
            "\u001b[2m\u001b[36m(launch_and_evaluate pid=8078)\u001b[0m [Client 15] evaluate, config: {}\n"
          ]
        },
        {
          "output_type": "execute_result",
          "data": {
            "text/plain": [
              "History (loss, centralized):\n",
              "\tround 0: 224.88371970813267\n",
              "\tround 1: 211.23327537154606\n",
              "\tround 2: 203.00442609069952\n",
              "\tround 3: 202.98162626305506\n",
              "\tround 4: 202.89200665312012\n",
              "\tround 5: 202.99992279550048\n",
              "\tround 6: 202.95928226100222\n",
              "\tround 7: 202.81589457925136\n",
              "\tround 8: 202.97551731941994\n",
              "\tround 9: 202.9529810455564\n",
              "\tround 10: 202.83289944463766\n",
              "History (metrics, centralized):\n",
              "{'mean_class_acc.': [(0, 45.724437859269315), (1, 62.424716357300625), (2, 94.34223703886626), (3, 94.3353774814449), (4, 94.35458424222469), (5, 94.33674939292915), (6, 94.34223703886626), (7, 94.36967526855167), (8, 94.3490965962876), (9, 94.3353774814449), (10, 94.3861382063629)]}"
            ]
          },
          "metadata": {},
          "execution_count": 27
        }
      ],
      "source": [
        "num_rounds = 10\n",
        "local_epochs = 30\n",
        "fraction_fit = 0.05\n",
        "fraction_evaluate = 0.05\n",
        "min_fit_clients = 4\n",
        "min_evaluate_clients = 4\n",
        "\n",
        "client_resources = {\n",
        "    \"num_cpus\": 1,\n",
        "    \"num_gpus\": 1\n",
        "    }\n",
        "\n",
        "def fit_config(server_round: int):    \n",
        "    config = {\n",
        "        \"server_round\": server_round,\n",
        "        \"local_epochs\": local_epochs,\n",
        "    }\n",
        "    return config\n",
        "\n",
        "# Create an instance of the model and get the parameters\n",
        "net = init_net()\n",
        "params = get_parameters(init_net())\n",
        "\n",
        "# Pass parameters to the Strategy for server-side parameter initialization\n",
        "strategy = fl.server.strategy.FedAvg(\n",
        "    fraction_fit=fraction_fit,\n",
        "    fraction_evaluate=fraction_evaluate,\n",
        "    min_fit_clients=min_fit_clients,\n",
        "    min_evaluate_clients=min_evaluate_clients,\n",
        "    min_available_clients=num_clients,\n",
        "    initial_parameters=fl.common.ndarrays_to_parameters(params),\n",
        "    evaluate_fn=server_eval,\n",
        "    on_fit_config_fn=fit_config,\n",
        ")\n",
        "\n",
        "# Start simulation\n",
        "fl.simulation.start_simulation(\n",
        "    client_fn=client_fn,\n",
        "    num_clients=num_clients,\n",
        "    client_resources=client_resources,\n",
        "    config=fl.server.ServerConfig(num_rounds=num_rounds),\n",
        "    strategy=strategy,\n",
        ")"
      ]
    },
    {
      "cell_type": "code",
      "execution_count": null,
      "metadata": {
        "id": "9FhKa6bu9K8U"
      },
      "outputs": [],
      "source": [
        "s"
      ]
    }
  ],
  "metadata": {
    "accelerator": "GPU",
    "colab": {
      "collapsed_sections": [],
      "machine_shape": "hm",
      "provenance": []
    },
    "gpuClass": "premium",
    "kernelspec": {
      "display_name": "Python 3",
      "name": "python3"
    },
    "language_info": {
      "name": "python"
    }
  },
  "nbformat": 4,
  "nbformat_minor": 0
}