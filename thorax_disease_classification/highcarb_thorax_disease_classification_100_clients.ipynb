{
  "cells": [
    {
      "cell_type": "markdown",
      "metadata": {
        "id": "FLU2v46A66u2"
      },
      "source": [
        "# LowCarb thorax disease classification in Flower"
      ]
    },
    {
      "cell_type": "markdown",
      "metadata": {
        "id": "vHtLCCz2NWC3"
      },
      "source": [
        "## Check GPU availability"
      ]
    },
    {
      "cell_type": "code",
      "execution_count": 1,
      "metadata": {
        "colab": {
          "base_uri": "https://localhost:8080/"
        },
        "id": "4mKwZQyyLwUv",
        "outputId": "5fb7f0b6-382e-482a-a79a-beca9430f66c"
      },
      "outputs": [
        {
          "name": "stdout",
          "output_type": "stream",
          "text": [
            "Sat Oct 22 23:20:45 2022       \n",
            "+-----------------------------------------------------------------------------+\n",
            "| NVIDIA-SMI 460.32.03    Driver Version: 460.32.03    CUDA Version: 11.2     |\n",
            "|-------------------------------+----------------------+----------------------+\n",
            "| GPU  Name        Persistence-M| Bus-Id        Disp.A | Volatile Uncorr. ECC |\n",
            "| Fan  Temp  Perf  Pwr:Usage/Cap|         Memory-Usage | GPU-Util  Compute M. |\n",
            "|                               |                      |               MIG M. |\n",
            "|===============================+======================+======================|\n",
            "|   0  Tesla T4            Off  | 00000000:00:04.0 Off |                    0 |\n",
            "| N/A   67C    P8    11W /  70W |      0MiB / 15109MiB |      0%      Default |\n",
            "|                               |                      |                  N/A |\n",
            "+-------------------------------+----------------------+----------------------+\n",
            "                                                                               \n",
            "+-----------------------------------------------------------------------------+\n",
            "| Processes:                                                                  |\n",
            "|  GPU   GI   CI        PID   Type   Process name                  GPU Memory |\n",
            "|        ID   ID                                                   Usage      |\n",
            "|=============================================================================|\n",
            "|  No running processes found                                                 |\n",
            "+-----------------------------------------------------------------------------+\n"
          ]
        }
      ],
      "source": [
        "gpu_info = !nvidia-smi\n",
        "gpu_info = '\\n'.join(gpu_info)\n",
        "if gpu_info.find('failed') >= 0:\n",
        "  print('Not connected to a GPU')\n",
        "else:\n",
        "  print(gpu_info)"
      ]
    },
    {
      "cell_type": "markdown",
      "metadata": {
        "id": "grNc2GELvjD3"
      },
      "source": [
        "## Imports"
      ]
    },
    {
      "cell_type": "code",
      "execution_count": 2,
      "metadata": {
        "colab": {
          "base_uri": "https://localhost:8080/"
        },
        "id": "RHQ-3tCTvlPv",
        "outputId": "b5baf2da-f25f-4bf5-c190-eafc7dca8c1c"
      },
      "outputs": [
        {
          "name": "stdout",
          "output_type": "stream",
          "text": [
            "Training on cuda:0\n"
          ]
        }
      ],
      "source": [
        "import os\n",
        "import sys\n",
        "import math\n",
        "import time\n",
        "from glob import glob\n",
        "from PIL import Image\n",
        "from collections import OrderedDict\n",
        "from typing import Dict, List, Optional, Tuple\n",
        "\n",
        "import flwr as fl\n",
        "import numpy as np\n",
        "import pandas as pd\n",
        "import matplotlib.pyplot as plt\n",
        "from sklearn.model_selection import train_test_split\n",
        "\n",
        "import torch\n",
        "import torch.nn as nnqunt\n",
        "import torch.nn.functional as F\n",
        "from torch.utils.data import Dataset, DataLoader, random_split\n",
        "\n",
        "from torchvision.utils import make_grid\n",
        "from torchvision.datasets import CIFAR10\n",
        "from torchvision import transforms as T, models\n",
        "\n",
        "DEVICE = torch.device(\"cuda:0\" if torch.cuda.is_available() else \"cpu\")\n",
        "print(f\"Training on {DEVICE}\")"
      ]
    },
    {
      "cell_type": "markdown",
      "metadata": {
        "id": "G5XXXYdm6ic5"
      },
      "source": [
        "## Data"
      ]
    },
    {
      "cell_type": "markdown",
      "metadata": {
        "id": "45ozbtM24s2k"
      },
      "source": [
        "### Preprocess"
      ]
    },
    {
      "cell_type": "code",
      "execution_count": 3,
      "metadata": {
        "id": "Yz34zjmYPihV"
      },
      "outputs": [],
      "source": [
        "root_img_dir = '/content/NIH/'"
      ]
    },
    {
      "cell_type": "code",
      "execution_count": 4,
      "metadata": {
        "colab": {
          "base_uri": "https://localhost:8080/",
          "height": 243
        },
        "id": "OPOdXKySPN2-",
        "outputId": "46dab9c8-7bcf-41f3-e397-a29641ece55c"
      },
      "outputs": [
        {
          "name": "stdout",
          "output_type": "stream",
          "text": [
            "Scans found: 112120 , Total Headers 112120\n"
          ]
        },
        {
          "data": {
            "text/html": [
              "\n",
              "  <div id=\"df-e4f8aadb-4b41-4795-86f0-46c024ffca55\">\n",
              "    <div class=\"colab-df-container\">\n",
              "      <div>\n",
              "<style scoped>\n",
              "    .dataframe tbody tr th:only-of-type {\n",
              "        vertical-align: middle;\n",
              "    }\n",
              "\n",
              "    .dataframe tbody tr th {\n",
              "        vertical-align: top;\n",
              "    }\n",
              "\n",
              "    .dataframe thead th {\n",
              "        text-align: right;\n",
              "    }\n",
              "</style>\n",
              "<table border=\"1\" class=\"dataframe\">\n",
              "  <thead>\n",
              "    <tr style=\"text-align: right;\">\n",
              "      <th></th>\n",
              "      <th>Image Index</th>\n",
              "      <th>Finding Labels</th>\n",
              "      <th>Follow-up #</th>\n",
              "      <th>Patient ID</th>\n",
              "      <th>Patient Age</th>\n",
              "      <th>Patient Gender</th>\n",
              "      <th>View Position</th>\n",
              "      <th>OriginalImage[Width</th>\n",
              "      <th>Height]</th>\n",
              "      <th>OriginalImagePixelSpacing[x</th>\n",
              "      <th>y]</th>\n",
              "      <th>Unnamed: 11</th>\n",
              "      <th>path</th>\n",
              "    </tr>\n",
              "  </thead>\n",
              "  <tbody>\n",
              "    <tr>\n",
              "      <th>77244</th>\n",
              "      <td>00018972_037.png</td>\n",
              "      <td>Nodule</td>\n",
              "      <td>37</td>\n",
              "      <td>18972</td>\n",
              "      <td>52</td>\n",
              "      <td>F</td>\n",
              "      <td>AP</td>\n",
              "      <td>2500</td>\n",
              "      <td>2048</td>\n",
              "      <td>0.168</td>\n",
              "      <td>0.168</td>\n",
              "      <td>NaN</td>\n",
              "      <td>/content/NIH/images_009/images/00018972_037.png</td>\n",
              "    </tr>\n",
              "    <tr>\n",
              "      <th>80842</th>\n",
              "      <td>00019865_006.png</td>\n",
              "      <td>Effusion|Infiltration|Pleural_Thickening</td>\n",
              "      <td>6</td>\n",
              "      <td>19865</td>\n",
              "      <td>22</td>\n",
              "      <td>M</td>\n",
              "      <td>AP</td>\n",
              "      <td>3056</td>\n",
              "      <td>2544</td>\n",
              "      <td>0.139</td>\n",
              "      <td>0.139</td>\n",
              "      <td>NaN</td>\n",
              "      <td>/content/NIH/images_009/images/00019865_006.png</td>\n",
              "    </tr>\n",
              "    <tr>\n",
              "      <th>22371</th>\n",
              "      <td>00005935_001.png</td>\n",
              "      <td>Nodule</td>\n",
              "      <td>1</td>\n",
              "      <td>5935</td>\n",
              "      <td>53</td>\n",
              "      <td>M</td>\n",
              "      <td>PA</td>\n",
              "      <td>2500</td>\n",
              "      <td>2048</td>\n",
              "      <td>0.171</td>\n",
              "      <td>0.171</td>\n",
              "      <td>NaN</td>\n",
              "      <td>/content/NIH/images_003/images/00005935_001.png</td>\n",
              "    </tr>\n",
              "  </tbody>\n",
              "</table>\n",
              "</div>\n",
              "      <button class=\"colab-df-convert\" onclick=\"convertToInteractive('df-e4f8aadb-4b41-4795-86f0-46c024ffca55')\"\n",
              "              title=\"Convert this dataframe to an interactive table.\"\n",
              "              style=\"display:none;\">\n",
              "        \n",
              "  <svg xmlns=\"http://www.w3.org/2000/svg\" height=\"24px\"viewBox=\"0 0 24 24\"\n",
              "       width=\"24px\">\n",
              "    <path d=\"M0 0h24v24H0V0z\" fill=\"none\"/>\n",
              "    <path d=\"M18.56 5.44l.94 2.06.94-2.06 2.06-.94-2.06-.94-.94-2.06-.94 2.06-2.06.94zm-11 1L8.5 8.5l.94-2.06 2.06-.94-2.06-.94L8.5 2.5l-.94 2.06-2.06.94zm10 10l.94 2.06.94-2.06 2.06-.94-2.06-.94-.94-2.06-.94 2.06-2.06.94z\"/><path d=\"M17.41 7.96l-1.37-1.37c-.4-.4-.92-.59-1.43-.59-.52 0-1.04.2-1.43.59L10.3 9.45l-7.72 7.72c-.78.78-.78 2.05 0 2.83L4 21.41c.39.39.9.59 1.41.59.51 0 1.02-.2 1.41-.59l7.78-7.78 2.81-2.81c.8-.78.8-2.07 0-2.86zM5.41 20L4 18.59l7.72-7.72 1.47 1.35L5.41 20z\"/>\n",
              "  </svg>\n",
              "      </button>\n",
              "      \n",
              "  <style>\n",
              "    .colab-df-container {\n",
              "      display:flex;\n",
              "      flex-wrap:wrap;\n",
              "      gap: 12px;\n",
              "    }\n",
              "\n",
              "    .colab-df-convert {\n",
              "      background-color: #E8F0FE;\n",
              "      border: none;\n",
              "      border-radius: 50%;\n",
              "      cursor: pointer;\n",
              "      display: none;\n",
              "      fill: #1967D2;\n",
              "      height: 32px;\n",
              "      padding: 0 0 0 0;\n",
              "      width: 32px;\n",
              "    }\n",
              "\n",
              "    .colab-df-convert:hover {\n",
              "      background-color: #E2EBFA;\n",
              "      box-shadow: 0px 1px 2px rgba(60, 64, 67, 0.3), 0px 1px 3px 1px rgba(60, 64, 67, 0.15);\n",
              "      fill: #174EA6;\n",
              "    }\n",
              "\n",
              "    [theme=dark] .colab-df-convert {\n",
              "      background-color: #3B4455;\n",
              "      fill: #D2E3FC;\n",
              "    }\n",
              "\n",
              "    [theme=dark] .colab-df-convert:hover {\n",
              "      background-color: #434B5C;\n",
              "      box-shadow: 0px 1px 3px 1px rgba(0, 0, 0, 0.15);\n",
              "      filter: drop-shadow(0px 1px 2px rgba(0, 0, 0, 0.3));\n",
              "      fill: #FFFFFF;\n",
              "    }\n",
              "  </style>\n",
              "\n",
              "      <script>\n",
              "        const buttonEl =\n",
              "          document.querySelector('#df-e4f8aadb-4b41-4795-86f0-46c024ffca55 button.colab-df-convert');\n",
              "        buttonEl.style.display =\n",
              "          google.colab.kernel.accessAllowed ? 'block' : 'none';\n",
              "\n",
              "        async function convertToInteractive(key) {\n",
              "          const element = document.querySelector('#df-e4f8aadb-4b41-4795-86f0-46c024ffca55');\n",
              "          const dataTable =\n",
              "            await google.colab.kernel.invokeFunction('convertToInteractive',\n",
              "                                                     [key], {});\n",
              "          if (!dataTable) return;\n",
              "\n",
              "          const docLinkHtml = 'Like what you see? Visit the ' +\n",
              "            '<a target=\"_blank\" href=https://colab.research.google.com/notebooks/data_table.ipynb>data table notebook</a>'\n",
              "            + ' to learn more about interactive tables.';\n",
              "          element.innerHTML = '';\n",
              "          dataTable['output_type'] = 'display_data';\n",
              "          await google.colab.output.renderOutput(dataTable, element);\n",
              "          const docLink = document.createElement('div');\n",
              "          docLink.innerHTML = docLinkHtml;\n",
              "          element.appendChild(docLink);\n",
              "        }\n",
              "      </script>\n",
              "    </div>\n",
              "  </div>\n",
              "  "
            ],
            "text/plain": [
              "            Image Index                            Finding Labels  \\\n",
              "77244  00018972_037.png                                    Nodule   \n",
              "80842  00019865_006.png  Effusion|Infiltration|Pleural_Thickening   \n",
              "22371  00005935_001.png                                    Nodule   \n",
              "\n",
              "       Follow-up #  Patient ID  Patient Age Patient Gender View Position  \\\n",
              "77244           37       18972           52              F            AP   \n",
              "80842            6       19865           22              M            AP   \n",
              "22371            1        5935           53              M            PA   \n",
              "\n",
              "       OriginalImage[Width  Height]  OriginalImagePixelSpacing[x     y]  \\\n",
              "77244                 2500     2048                        0.168  0.168   \n",
              "80842                 3056     2544                        0.139  0.139   \n",
              "22371                 2500     2048                        0.171  0.171   \n",
              "\n",
              "       Unnamed: 11                                             path  \n",
              "77244          NaN  /content/NIH/images_009/images/00018972_037.png  \n",
              "80842          NaN  /content/NIH/images_009/images/00019865_006.png  \n",
              "22371          NaN  /content/NIH/images_003/images/00005935_001.png  "
            ]
          },
          "execution_count": 4,
          "metadata": {},
          "output_type": "execute_result"
        }
      ],
      "source": [
        "all_xray_df = pd.read_csv(\n",
        "    os.path.join(\n",
        "        root_img_dir,\n",
        "        'Data_Entry_2017.csv'\n",
        "        )\n",
        "    )\n",
        "\n",
        "all_image_paths = {\n",
        "    os.path.basename(x): x for x in \n",
        "    glob(os.path.join(root_img_dir, 'images*', '*', '*.png'))\n",
        "    }\n",
        "\n",
        "print('Scans found:', len(all_image_paths), ', Total Headers', all_xray_df.shape[0])\n",
        "all_xray_df['path'] = all_xray_df['Image Index'].map(all_image_paths.get)\n",
        "# all_xray_df['Patient Age'] = all_xray_df['Patient Age'].map(lambda x: int(x[:-1]))\n",
        "\n",
        "all_xray_df.sample(3)"
      ]
    },
    {
      "cell_type": "code",
      "execution_count": 5,
      "metadata": {
        "colab": {
          "base_uri": "https://localhost:8080/",
          "height": 583
        },
        "id": "w6zolca4PN5x",
        "outputId": "b7337305-1ff8-4710-b738-8b5c89b943f7"
      },
      "outputs": [
        {
          "data": {
            "image/png": "[encoded data removed]",
            "text/plain": [
              "<Figure size 864x576 with 1 Axes>"
            ]
          },
          "metadata": {
            "needs_background": "light"
          },
          "output_type": "display_data"
        }
      ],
      "source": [
        "label_counts = all_xray_df['Finding Labels'].value_counts()[:15]\n",
        "fig, ax1 = plt.subplots(1,1,figsize = (12, 8))\n",
        "ax1.bar(np.arange(len(label_counts))+0.5, label_counts)\n",
        "ax1.set_xticks(np.arange(len(label_counts))+0.5)\n",
        "_ = ax1.set_xticklabels(label_counts.index, rotation = 90)"
      ]
    },
    {
      "cell_type": "code",
      "execution_count": 6,
      "metadata": {
        "colab": {
          "base_uri": "https://localhost:8080/",
          "height": 273
        },
        "id": "us8ftKY8PN8b",
        "outputId": "baaed3d1-7208-4af2-8f0f-aff5daa46090"
      },
      "outputs": [
        {
          "name": "stdout",
          "output_type": "stream",
          "text": [
            "All Labels (14): ['Atelectasis', 'Cardiomegaly', 'Consolidation', 'Edema', 'Effusion', 'Emphysema', 'Fibrosis', 'Hernia', 'Infiltration', 'Mass', 'Nodule', 'Pleural_Thickening', 'Pneumonia', 'Pneumothorax']\n"
          ]
        },
        {
          "data": {
            "text/html": [
              "\n",
              "  <div id=\"df-298f874e-751c-4fe5-9475-ee878fc18dd1\">\n",
              "    <div class=\"colab-df-container\">\n",
              "      <div>\n",
              "<style scoped>\n",
              "    .dataframe tbody tr th:only-of-type {\n",
              "        vertical-align: middle;\n",
              "    }\n",
              "\n",
              "    .dataframe tbody tr th {\n",
              "        vertical-align: top;\n",
              "    }\n",
              "\n",
              "    .dataframe thead th {\n",
              "        text-align: right;\n",
              "    }\n",
              "</style>\n",
              "<table border=\"1\" class=\"dataframe\">\n",
              "  <thead>\n",
              "    <tr style=\"text-align: right;\">\n",
              "      <th></th>\n",
              "      <th>Image Index</th>\n",
              "      <th>Finding Labels</th>\n",
              "      <th>Follow-up #</th>\n",
              "      <th>Patient ID</th>\n",
              "      <th>Patient Age</th>\n",
              "      <th>Patient Gender</th>\n",
              "      <th>View Position</th>\n",
              "      <th>OriginalImage[Width</th>\n",
              "      <th>Height]</th>\n",
              "      <th>OriginalImagePixelSpacing[x</th>\n",
              "      <th>...</th>\n",
              "      <th>Effusion</th>\n",
              "      <th>Emphysema</th>\n",
              "      <th>Fibrosis</th>\n",
              "      <th>Hernia</th>\n",
              "      <th>Infiltration</th>\n",
              "      <th>Mass</th>\n",
              "      <th>Nodule</th>\n",
              "      <th>Pleural_Thickening</th>\n",
              "      <th>Pneumonia</th>\n",
              "      <th>Pneumothorax</th>\n",
              "    </tr>\n",
              "  </thead>\n",
              "  <tbody>\n",
              "    <tr>\n",
              "      <th>63177</th>\n",
              "      <td>00015606_024.png</td>\n",
              "      <td></td>\n",
              "      <td>24</td>\n",
              "      <td>15606</td>\n",
              "      <td>18</td>\n",
              "      <td>F</td>\n",
              "      <td>AP</td>\n",
              "      <td>2500</td>\n",
              "      <td>2048</td>\n",
              "      <td>0.168</td>\n",
              "      <td>...</td>\n",
              "      <td>0.0</td>\n",
              "      <td>0.0</td>\n",
              "      <td>0.0</td>\n",
              "      <td>0.0</td>\n",
              "      <td>0.0</td>\n",
              "      <td>0.0</td>\n",
              "      <td>0.0</td>\n",
              "      <td>0.0</td>\n",
              "      <td>0.0</td>\n",
              "      <td>0.0</td>\n",
              "    </tr>\n",
              "    <tr>\n",
              "      <th>19097</th>\n",
              "      <td>00005069_009.png</td>\n",
              "      <td>Infiltration</td>\n",
              "      <td>9</td>\n",
              "      <td>5069</td>\n",
              "      <td>29</td>\n",
              "      <td>F</td>\n",
              "      <td>PA</td>\n",
              "      <td>2992</td>\n",
              "      <td>2991</td>\n",
              "      <td>0.143</td>\n",
              "      <td>...</td>\n",
              "      <td>0.0</td>\n",
              "      <td>0.0</td>\n",
              "      <td>0.0</td>\n",
              "      <td>0.0</td>\n",
              "      <td>1.0</td>\n",
              "      <td>0.0</td>\n",
              "      <td>0.0</td>\n",
              "      <td>0.0</td>\n",
              "      <td>0.0</td>\n",
              "      <td>0.0</td>\n",
              "    </tr>\n",
              "    <tr>\n",
              "      <th>73050</th>\n",
              "      <td>00017994_004.png</td>\n",
              "      <td>Mass|Pneumothorax</td>\n",
              "      <td>4</td>\n",
              "      <td>17994</td>\n",
              "      <td>60</td>\n",
              "      <td>F</td>\n",
              "      <td>PA</td>\n",
              "      <td>2726</td>\n",
              "      <td>2521</td>\n",
              "      <td>0.143</td>\n",
              "      <td>...</td>\n",
              "      <td>0.0</td>\n",
              "      <td>0.0</td>\n",
              "      <td>0.0</td>\n",
              "      <td>0.0</td>\n",
              "      <td>0.0</td>\n",
              "      <td>1.0</td>\n",
              "      <td>0.0</td>\n",
              "      <td>0.0</td>\n",
              "      <td>0.0</td>\n",
              "      <td>1.0</td>\n",
              "    </tr>\n",
              "  </tbody>\n",
              "</table>\n",
              "<p>3 rows × 27 columns</p>\n",
              "</div>\n",
              "      <button class=\"colab-df-convert\" onclick=\"convertToInteractive('df-298f874e-751c-4fe5-9475-ee878fc18dd1')\"\n",
              "              title=\"Convert this dataframe to an interactive table.\"\n",
              "              style=\"display:none;\">\n",
              "        \n",
              "  <svg xmlns=\"http://www.w3.org/2000/svg\" height=\"24px\"viewBox=\"0 0 24 24\"\n",
              "       width=\"24px\">\n",
              "    <path d=\"M0 0h24v24H0V0z\" fill=\"none\"/>\n",
              "    <path d=\"M18.56 5.44l.94 2.06.94-2.06 2.06-.94-2.06-.94-.94-2.06-.94 2.06-2.06.94zm-11 1L8.5 8.5l.94-2.06 2.06-.94-2.06-.94L8.5 2.5l-.94 2.06-2.06.94zm10 10l.94 2.06.94-2.06 2.06-.94-2.06-.94-.94-2.06-.94 2.06-2.06.94z\"/><path d=\"M17.41 7.96l-1.37-1.37c-.4-.4-.92-.59-1.43-.59-.52 0-1.04.2-1.43.59L10.3 9.45l-7.72 7.72c-.78.78-.78 2.05 0 2.83L4 21.41c.39.39.9.59 1.41.59.51 0 1.02-.2 1.41-.59l7.78-7.78 2.81-2.81c.8-.78.8-2.07 0-2.86zM5.41 20L4 18.59l7.72-7.72 1.47 1.35L5.41 20z\"/>\n",
              "  </svg>\n",
              "      </button>\n",
              "      \n",
              "  <style>\n",
              "    .colab-df-container {\n",
              "      display:flex;\n",
              "      flex-wrap:wrap;\n",
              "      gap: 12px;\n",
              "    }\n",
              "\n",
              "    .colab-df-convert {\n",
              "      background-color: #E8F0FE;\n",
              "      border: none;\n",
              "      border-radius: 50%;\n",
              "      cursor: pointer;\n",
              "      display: none;\n",
              "      fill: #1967D2;\n",
              "      height: 32px;\n",
              "      padding: 0 0 0 0;\n",
              "      width: 32px;\n",
              "    }\n",
              "\n",
              "    .colab-df-convert:hover {\n",
              "      background-color: #E2EBFA;\n",
              "      box-shadow: 0px 1px 2px rgba(60, 64, 67, 0.3), 0px 1px 3px 1px rgba(60, 64, 67, 0.15);\n",
              "      fill: #174EA6;\n",
              "    }\n",
              "\n",
              "    [theme=dark] .colab-df-convert {\n",
              "      background-color: #3B4455;\n",
              "      fill: #D2E3FC;\n",
              "    }\n",
              "\n",
              "    [theme=dark] .colab-df-convert:hover {\n",
              "      background-color: #434B5C;\n",
              "      box-shadow: 0px 1px 3px 1px rgba(0, 0, 0, 0.15);\n",
              "      filter: drop-shadow(0px 1px 2px rgba(0, 0, 0, 0.3));\n",
              "      fill: #FFFFFF;\n",
              "    }\n",
              "  </style>\n",
              "\n",
              "      <script>\n",
              "        const buttonEl =\n",
              "          document.querySelector('#df-298f874e-751c-4fe5-9475-ee878fc18dd1 button.colab-df-convert');\n",
              "        buttonEl.style.display =\n",
              "          google.colab.kernel.accessAllowed ? 'block' : 'none';\n",
              "\n",
              "        async function convertToInteractive(key) {\n",
              "          const element = document.querySelector('#df-298f874e-751c-4fe5-9475-ee878fc18dd1');\n",
              "          const dataTable =\n",
              "            await google.colab.kernel.invokeFunction('convertToInteractive',\n",
              "                                                     [key], {});\n",
              "          if (!dataTable) return;\n",
              "\n",
              "          const docLinkHtml = 'Like what you see? Visit the ' +\n",
              "            '<a target=\"_blank\" href=https://colab.research.google.com/notebooks/data_table.ipynb>data table notebook</a>'\n",
              "            + ' to learn more about interactive tables.';\n",
              "          element.innerHTML = '';\n",
              "          dataTable['output_type'] = 'display_data';\n",
              "          await google.colab.output.renderOutput(dataTable, element);\n",
              "          const docLink = document.createElement('div');\n",
              "          docLink.innerHTML = docLinkHtml;\n",
              "          element.appendChild(docLink);\n",
              "        }\n",
              "      </script>\n",
              "    </div>\n",
              "  </div>\n",
              "  "
            ],
            "text/plain": [
              "            Image Index     Finding Labels  Follow-up #  Patient ID  \\\n",
              "63177  00015606_024.png                              24       15606   \n",
              "19097  00005069_009.png       Infiltration            9        5069   \n",
              "73050  00017994_004.png  Mass|Pneumothorax            4       17994   \n",
              "\n",
              "       Patient Age Patient Gender View Position  OriginalImage[Width  Height]  \\\n",
              "63177           18              F            AP                 2500     2048   \n",
              "19097           29              F            PA                 2992     2991   \n",
              "73050           60              F            PA                 2726     2521   \n",
              "\n",
              "       OriginalImagePixelSpacing[x  ...  Effusion  Emphysema Fibrosis  Hernia  \\\n",
              "63177                        0.168  ...       0.0        0.0      0.0     0.0   \n",
              "19097                        0.143  ...       0.0        0.0      0.0     0.0   \n",
              "73050                        0.143  ...       0.0        0.0      0.0     0.0   \n",
              "\n",
              "       Infiltration  Mass  Nodule  Pleural_Thickening  Pneumonia  Pneumothorax  \n",
              "63177           0.0   0.0     0.0                 0.0        0.0           0.0  \n",
              "19097           1.0   0.0     0.0                 0.0        0.0           0.0  \n",
              "73050           0.0   1.0     0.0                 0.0        0.0           1.0  \n",
              "\n",
              "[3 rows x 27 columns]"
            ]
          },
          "execution_count": 6,
          "metadata": {},
          "output_type": "execute_result"
        }
      ],
      "source": [
        "all_xray_df['Finding Labels'] = all_xray_df['Finding Labels'].map(lambda x: x.replace('No Finding', ''))\n",
        "from itertools import chain\n",
        "all_labels = np.unique(list(chain(*all_xray_df['Finding Labels'].map(lambda x: x.split('|')).tolist())))\n",
        "all_labels = [x for x in all_labels if len(x)>0]\n",
        "print('All Labels ({}): {}'.format(len(all_labels), all_labels))\n",
        "for c_label in all_labels:\n",
        "    if len(c_label)>1: # leave out empty labels\n",
        "        all_xray_df[c_label] = all_xray_df['Finding Labels'].map(lambda finding: 1.0 if c_label in finding else 0)\n",
        "all_xray_df.sample(3)"
      ]
    },
    {
      "cell_type": "code",
      "execution_count": 7,
      "metadata": {
        "colab": {
          "base_uri": "https://localhost:8080/"
        },
        "id": "ym5CxJBDTuQZ",
        "outputId": "35144911-a30f-4674-8628-b1dc147b97c5"
      },
      "outputs": [
        {
          "name": "stdout",
          "output_type": "stream",
          "text": [
            "Clean Labels (13) [('Atelectasis', 11559), ('Cardiomegaly', 2776), ('Consolidation', 4667), ('Edema', 2303), ('Effusion', 13317), ('Emphysema', 2516), ('Fibrosis', 1686), ('Infiltration', 19894), ('Mass', 5782), ('Nodule', 6331), ('Pleural_Thickening', 3385), ('Pneumonia', 1431), ('Pneumothorax', 5302)]\n"
          ]
        }
      ],
      "source": [
        "# keep at least 1000 cases\n",
        "MIN_CASES = 1000\n",
        "all_labels = [\n",
        "    c_label for c_label in all_labels if all_xray_df[c_label].sum()>MIN_CASES\n",
        "    ]\n",
        "print('Clean Labels ({})'.format(len(all_labels)), \n",
        "      [(c_label,int(all_xray_df[c_label].sum())) for c_label in all_labels])"
      ]
    },
    {
      "cell_type": "code",
      "execution_count": 8,
      "metadata": {
        "colab": {
          "base_uri": "https://localhost:8080/",
          "height": 583
        },
        "id": "-bMuE8iDT2LT",
        "outputId": "0f1c6c9b-32bc-4f2e-da97-da03b6b94c9a"
      },
      "outputs": [
        {
          "data": {
            "image/png": "[encoded data removed]",
            "text/plain": [
              "<Figure size 864x576 with 1 Axes>"
            ]
          },
          "metadata": {
            "needs_background": "light"
          },
          "output_type": "display_data"
        }
      ],
      "source": [
        "# since the dataset is very unbiased, we can resample it to be a more reasonable collection\n",
        "# weight is 0.1 + number of findings\n",
        "sample_weights = all_xray_df['Finding Labels'].map(lambda x: len(x.split('|')) if len(x)>0 else 0).values + 4e-2\n",
        "sample_weights /= sample_weights.sum()\n",
        "\n",
        "all_xray_df = all_xray_df.sample(112120, weights=sample_weights)\n",
        "\n",
        "label_counts = all_xray_df['Finding Labels'].value_counts()[:15]\n",
        "fig, ax1 = plt.subplots(1,1,figsize = (12, 8))\n",
        "ax1.bar(np.arange(len(label_counts))+0.5, label_counts)\n",
        "ax1.set_xticks(np.arange(len(label_counts))+0.5)\n",
        "_ = ax1.set_xticklabels(label_counts.index, rotation = 90)"
      ]
    },
    {
      "cell_type": "code",
      "execution_count": 9,
      "metadata": {
        "colab": {
          "base_uri": "https://localhost:8080/",
          "height": 583
        },
        "id": "T1zRuIqHT5pF",
        "outputId": "f0dcd09e-964d-4598-ee6a-0130d289b52c"
      },
      "outputs": [
        {
          "data": {
            "image/png": "[encoded data removed]",
            "text/plain": [
              "<Figure size 864x576 with 1 Axes>"
            ]
          },
          "metadata": {
            "needs_background": "light"
          },
          "output_type": "display_data"
        }
      ],
      "source": [
        "label_counts = 100*np.mean(all_xray_df[all_labels].values,0)\n",
        "fig, ax1 = plt.subplots(1,1,figsize = (12, 8))\n",
        "ax1.bar(np.arange(len(label_counts))+0.5, label_counts)\n",
        "ax1.set_xticks(np.arange(len(label_counts))+0.5)\n",
        "ax1.set_xticklabels(all_labels, rotation = 90)\n",
        "ax1.set_title('Adjusted Frequency of Diseases in Patient Group')\n",
        "_ = ax1.set_ylabel('Frequency (%)')"
      ]
    },
    {
      "cell_type": "code",
      "execution_count": 10,
      "metadata": {
        "id": "YGv8mwYIUGQY"
      },
      "outputs": [],
      "source": [
        "all_xray_df['disease_vec'] = all_xray_df.apply(lambda x: [x[all_labels].values], 1).map(lambda x: x[0])"
      ]
    },
    {
      "cell_type": "code",
      "execution_count": 11,
      "metadata": {
        "colab": {
          "base_uri": "https://localhost:8080/",
          "height": 410
        },
        "id": "L-aF9NwEWWr-",
        "outputId": "1762f572-0727-49ad-9789-b82f3fe396c8"
      },
      "outputs": [
        {
          "data": {
            "text/html": [
              "\n",
              "  <div id=\"df-7fc59c54-55dc-4fe4-aed6-9370df48708a\">\n",
              "    <div class=\"colab-df-container\">\n",
              "      <div>\n",
              "<style scoped>\n",
              "    .dataframe tbody tr th:only-of-type {\n",
              "        vertical-align: middle;\n",
              "    }\n",
              "\n",
              "    .dataframe tbody tr th {\n",
              "        vertical-align: top;\n",
              "    }\n",
              "\n",
              "    .dataframe thead th {\n",
              "        text-align: right;\n",
              "    }\n",
              "</style>\n",
              "<table border=\"1\" class=\"dataframe\">\n",
              "  <thead>\n",
              "    <tr style=\"text-align: right;\">\n",
              "      <th></th>\n",
              "      <th>Image Index</th>\n",
              "      <th>Finding Labels</th>\n",
              "      <th>Follow-up #</th>\n",
              "      <th>Patient ID</th>\n",
              "      <th>Patient Age</th>\n",
              "      <th>Patient Gender</th>\n",
              "      <th>View Position</th>\n",
              "      <th>OriginalImage[Width</th>\n",
              "      <th>Height]</th>\n",
              "      <th>OriginalImagePixelSpacing[x</th>\n",
              "      <th>...</th>\n",
              "      <th>Emphysema</th>\n",
              "      <th>Fibrosis</th>\n",
              "      <th>Hernia</th>\n",
              "      <th>Infiltration</th>\n",
              "      <th>Mass</th>\n",
              "      <th>Nodule</th>\n",
              "      <th>Pleural_Thickening</th>\n",
              "      <th>Pneumonia</th>\n",
              "      <th>Pneumothorax</th>\n",
              "      <th>disease_vec</th>\n",
              "    </tr>\n",
              "  </thead>\n",
              "  <tbody>\n",
              "    <tr>\n",
              "      <th>23949</th>\n",
              "      <td>00006304_033.png</td>\n",
              "      <td></td>\n",
              "      <td>33</td>\n",
              "      <td>6304</td>\n",
              "      <td>67</td>\n",
              "      <td>F</td>\n",
              "      <td>AP</td>\n",
              "      <td>2500</td>\n",
              "      <td>2048</td>\n",
              "      <td>0.168</td>\n",
              "      <td>...</td>\n",
              "      <td>0.0</td>\n",
              "      <td>0.0</td>\n",
              "      <td>0.0</td>\n",
              "      <td>0.0</td>\n",
              "      <td>0.0</td>\n",
              "      <td>0.0</td>\n",
              "      <td>0.0</td>\n",
              "      <td>0.0</td>\n",
              "      <td>0.0</td>\n",
              "      <td>[0.0, 0.0, 0.0, 0.0, 0.0, 0.0, 0.0, 0.0, 0.0, ...</td>\n",
              "    </tr>\n",
              "    <tr>\n",
              "      <th>96640</th>\n",
              "      <td>00025457_001.png</td>\n",
              "      <td>Infiltration</td>\n",
              "      <td>1</td>\n",
              "      <td>25457</td>\n",
              "      <td>54</td>\n",
              "      <td>F</td>\n",
              "      <td>PA</td>\n",
              "      <td>2992</td>\n",
              "      <td>2991</td>\n",
              "      <td>0.143</td>\n",
              "      <td>...</td>\n",
              "      <td>0.0</td>\n",
              "      <td>0.0</td>\n",
              "      <td>0.0</td>\n",
              "      <td>1.0</td>\n",
              "      <td>0.0</td>\n",
              "      <td>0.0</td>\n",
              "      <td>0.0</td>\n",
              "      <td>0.0</td>\n",
              "      <td>0.0</td>\n",
              "      <td>[0.0, 0.0, 0.0, 0.0, 0.0, 0.0, 0.0, 1.0, 0.0, ...</td>\n",
              "    </tr>\n",
              "    <tr>\n",
              "      <th>93330</th>\n",
              "      <td>00023320_002.png</td>\n",
              "      <td></td>\n",
              "      <td>2</td>\n",
              "      <td>23320</td>\n",
              "      <td>34</td>\n",
              "      <td>M</td>\n",
              "      <td>AP</td>\n",
              "      <td>3056</td>\n",
              "      <td>2544</td>\n",
              "      <td>0.139</td>\n",
              "      <td>...</td>\n",
              "      <td>0.0</td>\n",
              "      <td>0.0</td>\n",
              "      <td>0.0</td>\n",
              "      <td>0.0</td>\n",
              "      <td>0.0</td>\n",
              "      <td>0.0</td>\n",
              "      <td>0.0</td>\n",
              "      <td>0.0</td>\n",
              "      <td>0.0</td>\n",
              "      <td>[0.0, 0.0, 0.0, 0.0, 0.0, 0.0, 0.0, 0.0, 0.0, ...</td>\n",
              "    </tr>\n",
              "  </tbody>\n",
              "</table>\n",
              "<p>3 rows × 28 columns</p>\n",
              "</div>\n",
              "      <button class=\"colab-df-convert\" onclick=\"convertToInteractive('df-7fc59c54-55dc-4fe4-aed6-9370df48708a')\"\n",
              "              title=\"Convert this dataframe to an interactive table.\"\n",
              "              style=\"display:none;\">\n",
              "        \n",
              "  <svg xmlns=\"http://www.w3.org/2000/svg\" height=\"24px\"viewBox=\"0 0 24 24\"\n",
              "       width=\"24px\">\n",
              "    <path d=\"M0 0h24v24H0V0z\" fill=\"none\"/>\n",
              "    <path d=\"M18.56 5.44l.94 2.06.94-2.06 2.06-.94-2.06-.94-.94-2.06-.94 2.06-2.06.94zm-11 1L8.5 8.5l.94-2.06 2.06-.94-2.06-.94L8.5 2.5l-.94 2.06-2.06.94zm10 10l.94 2.06.94-2.06 2.06-.94-2.06-.94-.94-2.06-.94 2.06-2.06.94z\"/><path d=\"M17.41 7.96l-1.37-1.37c-.4-.4-.92-.59-1.43-.59-.52 0-1.04.2-1.43.59L10.3 9.45l-7.72 7.72c-.78.78-.78 2.05 0 2.83L4 21.41c.39.39.9.59 1.41.59.51 0 1.02-.2 1.41-.59l7.78-7.78 2.81-2.81c.8-.78.8-2.07 0-2.86zM5.41 20L4 18.59l7.72-7.72 1.47 1.35L5.41 20z\"/>\n",
              "  </svg>\n",
              "      </button>\n",
              "      \n",
              "  <style>\n",
              "    .colab-df-container {\n",
              "      display:flex;\n",
              "      flex-wrap:wrap;\n",
              "      gap: 12px;\n",
              "    }\n",
              "\n",
              "    .colab-df-convert {\n",
              "      background-color: #E8F0FE;\n",
              "      border: none;\n",
              "      border-radius: 50%;\n",
              "      cursor: pointer;\n",
              "      display: none;\n",
              "      fill: #1967D2;\n",
              "      height: 32px;\n",
              "      padding: 0 0 0 0;\n",
              "      width: 32px;\n",
              "    }\n",
              "\n",
              "    .colab-df-convert:hover {\n",
              "      background-color: #E2EBFA;\n",
              "      box-shadow: 0px 1px 2px rgba(60, 64, 67, 0.3), 0px 1px 3px 1px rgba(60, 64, 67, 0.15);\n",
              "      fill: #174EA6;\n",
              "    }\n",
              "\n",
              "    [theme=dark] .colab-df-convert {\n",
              "      background-color: #3B4455;\n",
              "      fill: #D2E3FC;\n",
              "    }\n",
              "\n",
              "    [theme=dark] .colab-df-convert:hover {\n",
              "      background-color: #434B5C;\n",
              "      box-shadow: 0px 1px 3px 1px rgba(0, 0, 0, 0.15);\n",
              "      filter: drop-shadow(0px 1px 2px rgba(0, 0, 0, 0.3));\n",
              "      fill: #FFFFFF;\n",
              "    }\n",
              "  </style>\n",
              "\n",
              "      <script>\n",
              "        const buttonEl =\n",
              "          document.querySelector('#df-7fc59c54-55dc-4fe4-aed6-9370df48708a button.colab-df-convert');\n",
              "        buttonEl.style.display =\n",
              "          google.colab.kernel.accessAllowed ? 'block' : 'none';\n",
              "\n",
              "        async function convertToInteractive(key) {\n",
              "          const element = document.querySelector('#df-7fc59c54-55dc-4fe4-aed6-9370df48708a');\n",
              "          const dataTable =\n",
              "            await google.colab.kernel.invokeFunction('convertToInteractive',\n",
              "                                                     [key], {});\n",
              "          if (!dataTable) return;\n",
              "\n",
              "          const docLinkHtml = 'Like what you see? Visit the ' +\n",
              "            '<a target=\"_blank\" href=https://colab.research.google.com/notebooks/data_table.ipynb>data table notebook</a>'\n",
              "            + ' to learn more about interactive tables.';\n",
              "          element.innerHTML = '';\n",
              "          dataTable['output_type'] = 'display_data';\n",
              "          await google.colab.output.renderOutput(dataTable, element);\n",
              "          const docLink = document.createElement('div');\n",
              "          docLink.innerHTML = docLinkHtml;\n",
              "          element.appendChild(docLink);\n",
              "        }\n",
              "      </script>\n",
              "    </div>\n",
              "  </div>\n",
              "  "
            ],
            "text/plain": [
              "            Image Index Finding Labels  Follow-up #  Patient ID  Patient Age  \\\n",
              "23949  00006304_033.png                          33        6304           67   \n",
              "96640  00025457_001.png   Infiltration            1       25457           54   \n",
              "93330  00023320_002.png                           2       23320           34   \n",
              "\n",
              "      Patient Gender View Position  OriginalImage[Width  Height]  \\\n",
              "23949              F            AP                 2500     2048   \n",
              "96640              F            PA                 2992     2991   \n",
              "93330              M            AP                 3056     2544   \n",
              "\n",
              "       OriginalImagePixelSpacing[x  ...  Emphysema  Fibrosis Hernia  \\\n",
              "23949                        0.168  ...        0.0       0.0    0.0   \n",
              "96640                        0.143  ...        0.0       0.0    0.0   \n",
              "93330                        0.139  ...        0.0       0.0    0.0   \n",
              "\n",
              "       Infiltration  Mass  Nodule  Pleural_Thickening  Pneumonia  \\\n",
              "23949           0.0   0.0     0.0                 0.0        0.0   \n",
              "96640           1.0   0.0     0.0                 0.0        0.0   \n",
              "93330           0.0   0.0     0.0                 0.0        0.0   \n",
              "\n",
              "       Pneumothorax                                        disease_vec  \n",
              "23949           0.0  [0.0, 0.0, 0.0, 0.0, 0.0, 0.0, 0.0, 0.0, 0.0, ...  \n",
              "96640           0.0  [0.0, 0.0, 0.0, 0.0, 0.0, 0.0, 0.0, 1.0, 0.0, ...  \n",
              "93330           0.0  [0.0, 0.0, 0.0, 0.0, 0.0, 0.0, 0.0, 0.0, 0.0, ...  \n",
              "\n",
              "[3 rows x 28 columns]"
            ]
          },
          "execution_count": 11,
          "metadata": {},
          "output_type": "execute_result"
        }
      ],
      "source": [
        "all_xray_df.sample(3)"
      ]
    },
    {
      "cell_type": "code",
      "execution_count": 12,
      "metadata": {
        "colab": {
          "base_uri": "https://localhost:8080/"
        },
        "id": "uAwaQtgN_4U3",
        "outputId": "f5b634e5-ba4d-4478-d9cb-c55550921607"
      },
      "outputs": [
        {
          "data": {
            "text/plain": [
              "112120"
            ]
          },
          "execution_count": 12,
          "metadata": {},
          "output_type": "execute_result"
        }
      ],
      "source": [
        "len(all_xray_df)"
      ]
    },
    {
      "cell_type": "markdown",
      "metadata": {
        "id": "gWddu_dD42zn"
      },
      "source": [
        "### Get DataLoaders"
      ]
    },
    {
      "cell_type": "code",
      "execution_count": 13,
      "metadata": {
        "id": "5Qon97klUzXo"
      },
      "outputs": [],
      "source": [
        "class NIH_Dataset(Dataset):\n",
        "  def __init__(\n",
        "    self, \n",
        "    data_df,\n",
        "    transform=None\n",
        "    ):\n",
        "    self.data_df = data_df\n",
        "    self.transform = transform \n",
        "\n",
        "  def __len__(\n",
        "    self\n",
        "    ):\n",
        "    return len(self.data_df)\n",
        "\n",
        "  def __getitem__(\n",
        "    self, \n",
        "    idx\n",
        "    ):\n",
        "    img_file = self.data_df['path'].iloc[idx]\n",
        "    img = Image.open(img_file).convert('RGB')\n",
        "    label = np.array(self.data_df.iloc[:,-1].iloc[idx], dtype=float)\n",
        "    if self.transform:\n",
        "        img = self.transform(img)\n",
        "\n",
        "    return img, label\n",
        "\n",
        "def get_data_loaders(\n",
        "    data_df: pd.DataFrame,\n",
        "    global_train_frac: float = 0.8,\n",
        "    local_train_frac: float = 0.8,\n",
        "    batch_size: int = 32,\n",
        "    num_clients: int = 10\n",
        "    ):\n",
        "  train_data_transform = T.Compose([\n",
        "    T.RandomRotation((-20,+20)),\n",
        "    # T.Resize((512,512)),\n",
        "    T.Resize((224,224)),\n",
        "    T.ToTensor(),\n",
        "    T.Normalize(mean=[0.485, 0.456, 0.406],\n",
        "                std=[0.229, 0.224, 0.225])\n",
        "                ])\n",
        "\n",
        "  test_data_transform = T.Compose([\n",
        "    T.Resize((512,512)),\n",
        "    T.ToTensor(),\n",
        "    T.Normalize(mean=[0.485, 0.456, 0.406],\n",
        "                std=[0.229, 0.224, 0.225])\n",
        "                ])\n",
        "  \n",
        "  train_df, test_df = train_test_split(\n",
        "      data_df,\n",
        "      test_size = 1 - global_train_frac,\n",
        "      random_state = 42,\n",
        "      stratify = data_df['Finding Labels'].map( lambda x: x[:4])\n",
        "  )\n",
        "\n",
        "  trainset = NIH_Dataset(\n",
        "      train_df,\n",
        "      transform = train_data_transform\n",
        "      )\n",
        "  \n",
        "  testset = NIH_Dataset(\n",
        "      test_df,\n",
        "      transform = test_data_transform\n",
        "      )\n",
        "\n",
        "  # Split training set into `num_clients` partitions to simulate different local datasets\n",
        "  partition_size = len(trainset) // num_clients\n",
        "  lengths = [partition_size] * num_clients\n",
        "  lengths[-1] += len(trainset) - np.sum(lengths)\n",
        "  datasets = random_split(trainset, lengths, torch.Generator().manual_seed(42))\n",
        "\n",
        "  # Split each partition into train/val and create DataLoader\n",
        "  trainloaders = []\n",
        "  valloaders = []\n",
        "  for ds in datasets:      \n",
        "      len_train = math.ceil(len(ds) * local_train_frac)\n",
        "      len_val = len(ds) - math.ceil(len(ds) * local_train_frac)\n",
        "      lengths = [len_train, len_val]\n",
        "      ds_train, ds_val = random_split(ds, lengths, torch.Generator().manual_seed(42))\n",
        "      trainloaders.append(DataLoader(ds_train, batch_size=batch_size, shuffle=True, drop_last = True))\n",
        "      valloaders.append(DataLoader(ds_val, batch_size=batch_size, drop_last = True))\n",
        "  testloader = DataLoader(testset, batch_size=batch_size)\n",
        "\n",
        "  return trainloaders, valloaders, testloader\n",
        "\n",
        "def inv_data_transform(img):\n",
        "    img = img.permute(1,2,0)\n",
        "    img = img * torch.Tensor([0.229, 0.224, 0.225]) + torch.Tensor([0.485, 0.456, 0.406])\n",
        "    return img"
      ]
    },
    {
      "cell_type": "code",
      "execution_count": 14,
      "metadata": {
        "id": "rigzBUI_Wovp"
      },
      "outputs": [],
      "source": [
        "num_clients = 100\n",
        "\n",
        "trainloaders, valloaders, testloader = get_data_loaders(\n",
        "    all_xray_df,\n",
        "    global_train_frac = 0.95,\n",
        "    local_train_frac = 0.9,\n",
        "    num_clients = num_clients,\n",
        "    batch_size = 25\n",
        ")"
      ]
    },
    {
      "cell_type": "code",
      "execution_count": 15,
      "metadata": {
        "colab": {
          "base_uri": "https://localhost:8080/",
          "height": 248
        },
        "id": "H5Oi7dIN3aWP",
        "outputId": "144548cd-9c63-4f71-d9c5-c3c41ae44e74"
      },
      "outputs": [
        {
          "data": {
            "image/png": "[encoded data removed]",
            "text/plain": [
              "<Figure size 432x288 with 1 Axes>"
            ]
          },
          "metadata": {
            "needs_background": "light"
          },
          "output_type": "display_data"
        }
      ],
      "source": [
        "plt.imshow(\n",
        "    inv_data_transform(\n",
        "        testloader.dataset[0][0]\n",
        "    )\n",
        ")\n",
        "plt.axis('off');"
      ]
    },
    {
      "cell_type": "code",
      "execution_count": 16,
      "metadata": {
        "colab": {
          "base_uri": "https://localhost:8080/"
        },
        "id": "mh6Nm_YzvJpo",
        "outputId": "dc9a9972-c8db-45f2-b478-39ff3eb35c2d"
      },
      "outputs": [
        {
          "data": {
            "text/plain": [
              "(959, 106, 5607)"
            ]
          },
          "execution_count": 16,
          "metadata": {},
          "output_type": "execute_result"
        }
      ],
      "source": [
        "len(trainloaders[0].dataset), len(valloaders[0].dataset) ,len(testloader.dataset)"
      ]
    },
    {
      "cell_type": "code",
      "execution_count": 17,
      "metadata": {
        "colab": {
          "base_uri": "https://localhost:8080/"
        },
        "id": "aHFmMLT5aZ2h",
        "outputId": "e13a943a-1bd8-4bad-8a1f-05c1b2151f47"
      },
      "outputs": [
        {
          "data": {
            "text/plain": [
              "13"
            ]
          },
          "execution_count": 17,
          "metadata": {},
          "output_type": "execute_result"
        }
      ],
      "source": [
        "len(all_labels)"
      ]
    },
    {
      "cell_type": "markdown",
      "metadata": {
        "id": "9o_uC5yi5e83"
      },
      "source": [
        "### FL utils basic"
      ]
    },
    {
      "cell_type": "code",
      "execution_count": 18,
      "metadata": {
        "id": "RYlrQJOH5eRz"
      },
      "outputs": [],
      "source": [
        "class FlowerClient(fl.client.NumPyClient):\n",
        "    def __init__(self, cid, net, trainloader, valloader):\n",
        "        self.cid = cid\n",
        "        self.net = net\n",
        "        self.trainloader = trainloader\n",
        "        self.valloader = valloader\n",
        "\n",
        "    def get_parameters(self, config):\n",
        "        print(f\"[Client {self.cid}] get_parameters\")\n",
        "        return get_parameters(self.net)\n",
        "\n",
        "    def fit(self, parameters, config):\n",
        "        # Read values from config\n",
        "        server_round = config[\"server_round\"]\n",
        "        local_epochs = config[\"local_epochs\"]\n",
        "\n",
        "        # Use values provided by the config\n",
        "        print(f\"[Client {self.cid}, round {server_round}] fit, config: {config}\")\n",
        "        set_parameters(self.net, parameters)\n",
        "        train(self.net, self.trainloader, epochs=local_epochs)\n",
        "        return get_parameters(self.net), len(self.trainloader), {}\n",
        "\n",
        "    def evaluate(self, parameters, config):\n",
        "        print(f\"[Client {self.cid}] evaluate, config: {config}\")\n",
        "        set_parameters(self.net, parameters)\n",
        "        loss, accuracy = test(self.net, self.valloader)\n",
        "        return float(loss), len(self.valloader), {\"accuracy\": float(accuracy)}\n",
        "\n",
        "def get_parameters(net) -> List[np.ndarray]:\n",
        "    return [val.cpu().numpy() for _, val in net.state_dict().items()]\n",
        "\n",
        "def set_parameters(net, parameters: List[np.ndarray]):\n",
        "    params_dict = zip(net.state_dict().keys(), parameters)\n",
        "    state_dict = OrderedDict({k: torch.Tensor(v) for k, v in params_dict})\n",
        "    net.load_state_dict(state_dict, strict=True)"
      ]
    },
    {
      "cell_type": "markdown",
      "metadata": {
        "id": "UwdUHQgA5qt8"
      },
      "source": [
        "### FL training utils"
      ]
    },
    {
      "cell_type": "code",
      "execution_count": 19,
      "metadata": {
        "id": "ZpaMF3WiAfkx"
      },
      "outputs": [],
      "source": [
        "def compute_class_freqs(labels):\n",
        "\n",
        "    labels = np.array(labels)\n",
        "    N = labels.shape[0]\n",
        "\n",
        "    positive_frequencies = np.sum(labels, axis = 0) / N\n",
        "    negative_frequencies = 1 - positive_frequencies\n",
        "\n",
        "    return positive_frequencies, negative_frequencies\n",
        "\n",
        "def weighted_loss(pos_weights, neg_weights, y_pred, y_true, epsilon = 1e-7):\n",
        "    y_pred = torch.sigmoid(y_pred)\n",
        "    loss = 0.0\n",
        "    for i in range(len(pos_weights)):\n",
        "        loss_pos = -1 * torch.mean(pos_weights[i] * y_true[:,i] * torch.log(y_pred[:,i] + epsilon))\n",
        "        loss_neg = -1 * torch.mean(neg_weights[i] * (1-y_true[:,i]) * torch.log((1-y_pred[:,i]) + epsilon))\n",
        "        loss += loss_pos + loss_neg\n",
        "    return loss\n",
        "\n",
        "def train(\n",
        "    net,\n",
        "    trainloader,\n",
        "    epochs\n",
        "    ):\n",
        "    print(f'Entered train function, total num. of epochs: {epochs}')\n",
        "    # ToDo: Class weights should be different for each client\n",
        "    freq_pos, freq_neg = compute_class_freqs(all_xray_df.iloc[:,-1])    \n",
        "    pos_weights = freq_neg\n",
        "    neg_weights = freq_pos\n",
        "\n",
        "    valid_loss_min = np.Inf\n",
        "    optimizer = torch.optim.Adam(\n",
        "        net.parameters(),\n",
        "        lr = 1e-4\n",
        "        )\n",
        "    start_time = time.time()\n",
        "    for i in range(epochs):\n",
        "        train_loss = 0.0\n",
        "        valid_loss = 0.0\n",
        "        train_acc = 0.0\n",
        "        valid_acc = 0.0 \n",
        "        net.train()\n",
        "        for j, (images, labels) in enumerate(trainloader):\n",
        "            images = images.to(DEVICE)\n",
        "            labels = labels.to(DEVICE)\n",
        "            ps = net(images)\n",
        "            \n",
        "            loss = weighted_loss(pos_weights, neg_weights, ps, labels)\n",
        "\n",
        "            optimizer.zero_grad()\n",
        "            loss.backward()\n",
        "            optimizer.step()\n",
        "            train_loss += loss.item()\n",
        "        avg_train_loss = train_loss / len(trainloader)\n",
        "        print(\"Epoch : {} Train Loss : {:.6f} \".format(i+1,avg_train_loss))\n",
        "    end_time = time.time()\n",
        "    time_delta = end_time - start_time\n",
        "    print('\\n')\n",
        "    print(f'Time to complete local training round: {time_delta}')\n",
        "    print('\\n')\n",
        "\n",
        "def test(net, testloader, pathology_list):\n",
        "    \n",
        "    # ToDo: Class weights should be different for each client\n",
        "    freq_pos, freq_neg = compute_class_freqs(all_xray_df.iloc[:,-1])    \n",
        "    pos_weights = freq_neg\n",
        "    neg_weights = freq_pos\n",
        "\n",
        "    per_class_accuracy = [0 for i in range(len(pathology_list))]\n",
        "    total = 0.0\n",
        "    loss = 0.0\n",
        "    with torch.no_grad():\n",
        "        for images,labels in testloader:\n",
        "            ps = net(images.to(DEVICE))\n",
        "            labels = labels.to(DEVICE)\n",
        "            loss += weighted_loss( pos_weights, neg_weights, ps, labels)\n",
        "            ps = (ps >= 0.5).float()\n",
        "\n",
        "            for i in range(ps.shape[1]):\n",
        "                x1 = ps[:,i:i+1]\n",
        "                x2 = labels[:,i:i+1]\n",
        "                per_class_accuracy[i] += int((x1 == x2).sum())\n",
        "\n",
        "        per_class_accuracy = [(i/len(testloader.dataset)) * 100.0 for i in per_class_accuracy]\n",
        "\n",
        "    return loss, np.mean(per_class_accuracy)\n",
        "\n",
        "def get_acc_data(\n",
        "    class_names,\n",
        "    acc_list\n",
        "    ):\n",
        "    df = pd.DataFrame(list(zip(class_names, acc_list)), columns =['Labels', 'Class Acc.']) \n",
        "    return df"
      ]
    },
    {
      "cell_type": "code",
      "execution_count": 20,
      "metadata": {
        "id": "FfVrX3hA6kqX"
      },
      "outputs": [],
      "source": [
        "def server_eval(\n",
        "    server_round: int,\n",
        "    parameters: fl.common.NDArrays, \n",
        "    config: Dict[str, fl.common.Scalar]\n",
        "    ):\n",
        "    # ToDo: Class weights should be different for each client\n",
        "    freq_pos, freq_neg = compute_class_freqs(all_xray_df.iloc[:,-1])    \n",
        "    pos_weights = freq_neg\n",
        "    neg_weights = freq_pos\n",
        "\n",
        "    net = init_net().to(DEVICE)\n",
        "\n",
        "    set_parameters(net, parameters)  # Update model with the latest parameters\n",
        "\n",
        "    per_class_accuracy = [0 for i in range(len(all_labels))]\n",
        "    total = 0.0\n",
        "    loss = 0.0\n",
        "    with torch.no_grad():\n",
        "        for images,labels in testloader:\n",
        "          \n",
        "            ps = net(images.to(DEVICE))\n",
        "            labels = labels.to(DEVICE)\n",
        "            ps = torch.sigmoid(ps)\n",
        "            ps = (ps >= 0.5).float()\n",
        "            loss += weighted_loss( pos_weights, neg_weights, ps, labels)\n",
        "\n",
        "            for i in range(ps.shape[1]):\n",
        "                x1 = ps[:,i:i+1]\n",
        "                x2 = labels[:,i:i+1]\n",
        "                per_class_accuracy[i] += int((x1 == x2).sum())\n",
        "\n",
        "        per_class_accuracy = [(i/len(testloader.dataset))*100.0 for i in per_class_accuracy]\n",
        "\n",
        "    test_df = get_acc_data(all_labels, per_class_accuracy)\n",
        "    print('\\nServer eval')\n",
        "    print(test_df)\n",
        "    print('\\n')\n",
        "\n",
        "    return loss,  {\"mean_class_acc.\": np.mean(per_class_accuracy)}"
      ]
    },
    {
      "cell_type": "markdown",
      "metadata": {
        "id": "kZByeD1upefu"
      },
      "source": [
        "## Training"
      ]
    },
    {
      "cell_type": "code",
      "execution_count": 21,
      "metadata": {
        "id": "S5l-5slg58Nf"
      },
      "outputs": [],
      "source": [
        "def init_net():\n",
        "  net = models.vgg11(\n",
        "    weights=\"IMAGENET1K_V1\"\n",
        "  )\n",
        "  net.classifier[-1] = torch.nn.Linear(\n",
        "      net.classifier[-1].in_features,\n",
        "      len(all_labels)\n",
        "  )\n",
        "  return net\n",
        "\n",
        "def client_fn(cid) -> FlowerClient:\n",
        "    net = init_net().to(DEVICE)\n",
        "    trainloader = trainloaders[int(cid)]\n",
        "    valloader = valloaders[int(cid)]\n",
        "    print(f'Created client: {cid}')\n",
        "    return FlowerClient(cid, net, trainloader, valloader)"
      ]
    },
    {
      "cell_type": "markdown",
      "metadata": {
        "id": "esohU8khStKD"
      },
      "source": [
        "### 35 local epochs take approx 15min. on A100 for each client and 30 local epochs on Tesla T4 \n",
        "\n",
        "Need to fix freeing GPU space after instances have been created and trained"
      ]
    },
    {
      "cell_type": "code",
      "execution_count": 22,
      "metadata": {
        "colab": {
          "base_uri": "https://localhost:8080/"
        },
        "id": "ZNEdoe3uSumm",
        "outputId": "80575764-84be-4195-8ec0-4e5f5a15e8b7"
      },
      "outputs": [
        {
          "name": "stderr",
          "output_type": "stream",
          "text": [
            "INFO flower 2022-10-22 23:25:45,005 | app.py:145 | Starting Flower simulation, config: ServerConfig(num_rounds=10, round_timeout=None)\n",
            "INFO:flower:Starting Flower simulation, config: ServerConfig(num_rounds=10, round_timeout=None)\n",
            "INFO flower 2022-10-22 23:25:47,917 | app.py:179 | Flower VCE: Ray initialized with resources: {'object_store_memory': 16323267379.0, 'GPU': 1.0, 'accelerator_type:T4': 1.0, 'memory': 32646534759.0, 'CPU': 8.0, 'node:172.28.0.2': 1.0}\n",
            "INFO:flower:Flower VCE: Ray initialized with resources: {'object_store_memory': 16323267379.0, 'GPU': 1.0, 'accelerator_type:T4': 1.0, 'memory': 32646534759.0, 'CPU': 8.0, 'node:172.28.0.2': 1.0}\n",
            "INFO flower 2022-10-22 23:25:47,921 | server.py:86 | Initializing global parameters\n",
            "INFO:flower:Initializing global parameters\n",
            "INFO flower 2022-10-22 23:25:47,923 | server.py:266 | Using initial parameters provided by strategy\n",
            "INFO:flower:Using initial parameters provided by strategy\n",
            "INFO flower 2022-10-22 23:25:47,926 | server.py:88 | Evaluating initial parameters\n",
            "INFO:flower:Evaluating initial parameters\n",
            "INFO flower 2022-10-22 23:29:39,918 | server.py:95 | initial parameters (loss, other metrics): tensor(223.4551, device='cuda:0', dtype=torch.float64), {'mean_class_acc.': 50.833436226694644}\n",
            "INFO:flower:initial parameters (loss, other metrics): tensor(223.4551, device='cuda:0', dtype=torch.float64), {'mean_class_acc.': 50.833436226694644}\n",
            "INFO flower 2022-10-22 23:29:39,926 | server.py:101 | FL starting\n",
            "INFO:flower:FL starting\n",
            "DEBUG flower 2022-10-22 23:29:39,929 | server.py:220 | fit_round 1: strategy sampled 5 clients (out of 100)\n",
            "DEBUG:flower:fit_round 1: strategy sampled 5 clients (out of 100)\n"
          ]
        },
        {
          "name": "stdout",
          "output_type": "stream",
          "text": [
            "\n",
            "Server eval\n",
            "                Labels  Class Acc.\n",
            "0          Atelectasis   21.687177\n",
            "1         Cardiomegaly   70.964865\n",
            "2        Consolidation   37.328340\n",
            "3                Edema   25.860531\n",
            "4             Effusion   82.842875\n",
            "5            Emphysema   66.916355\n",
            "6             Fibrosis   66.292135\n",
            "7         Infiltration   21.490993\n",
            "8                 Mass   38.862137\n",
            "9               Nodule   39.147494\n",
            "10  Pleural_Thickening   40.895309\n",
            "11           Pneumonia   70.126627\n",
            "12        Pneumothorax   78.419832\n",
            "\n",
            "\n",
            "\u001b[2m\u001b[36m(launch_and_fit pid=7807)\u001b[0m Created client: 75\n",
            "\u001b[2m\u001b[36m(launch_and_fit pid=7807)\u001b[0m [Client 75, round 1] fit, config: {'server_round': 1, 'local_epochs': 30}\n",
            "\u001b[2m\u001b[36m(launch_and_fit pid=7807)\u001b[0m Entered train function, total num. of epochs: 30\n",
            "\u001b[2m\u001b[36m(launch_and_fit pid=7807)\u001b[0m Epoch : 1 Train Loss : 0.925058 \n",
            "\u001b[2m\u001b[36m(launch_and_fit pid=7807)\u001b[0m Epoch : 2 Train Loss : 0.908440 \n",
            "\u001b[2m\u001b[36m(launch_and_fit pid=7807)\u001b[0m Epoch : 3 Train Loss : 0.891319 \n",
            "\u001b[2m\u001b[36m(launch_and_fit pid=7807)\u001b[0m Epoch : 4 Train Loss : 0.844204 \n",
            "\u001b[2m\u001b[36m(launch_and_fit pid=7807)\u001b[0m Epoch : 5 Train Loss : 0.834638 \n",
            "\u001b[2m\u001b[36m(launch_and_fit pid=7807)\u001b[0m Epoch : 6 Train Loss : 0.791068 \n",
            "\u001b[2m\u001b[36m(launch_and_fit pid=7807)\u001b[0m Epoch : 7 Train Loss : 0.775515 \n",
            "\u001b[2m\u001b[36m(launch_and_fit pid=7807)\u001b[0m Epoch : 8 Train Loss : 0.702002 \n",
            "\u001b[2m\u001b[36m(launch_and_fit pid=7807)\u001b[0m Epoch : 9 Train Loss : 0.696420 \n",
            "\u001b[2m\u001b[36m(launch_and_fit pid=7807)\u001b[0m Epoch : 10 Train Loss : 0.643515 \n",
            "\u001b[2m\u001b[36m(launch_and_fit pid=7807)\u001b[0m Epoch : 11 Train Loss : 0.596532 \n",
            "\u001b[2m\u001b[36m(launch_and_fit pid=7807)\u001b[0m Epoch : 12 Train Loss : 0.568045 \n",
            "\u001b[2m\u001b[36m(launch_and_fit pid=7807)\u001b[0m Epoch : 13 Train Loss : 0.543218 \n",
            "\u001b[2m\u001b[36m(launch_and_fit pid=7807)\u001b[0m Epoch : 14 Train Loss : 0.468236 \n",
            "\u001b[2m\u001b[36m(launch_and_fit pid=7807)\u001b[0m Epoch : 15 Train Loss : 0.406834 \n",
            "\u001b[2m\u001b[36m(launch_and_fit pid=7807)\u001b[0m Epoch : 16 Train Loss : 0.399063 \n",
            "\u001b[2m\u001b[36m(launch_and_fit pid=7807)\u001b[0m Epoch : 17 Train Loss : 0.343299 \n",
            "\u001b[2m\u001b[36m(launch_and_fit pid=7807)\u001b[0m Epoch : 18 Train Loss : 0.293451 \n",
            "\u001b[2m\u001b[36m(launch_and_fit pid=7807)\u001b[0m Epoch : 19 Train Loss : 0.298423 \n",
            "\u001b[2m\u001b[36m(launch_and_fit pid=7807)\u001b[0m Epoch : 20 Train Loss : 0.239226 \n",
            "\u001b[2m\u001b[36m(launch_and_fit pid=7807)\u001b[0m Epoch : 21 Train Loss : 0.230648 \n",
            "\u001b[2m\u001b[36m(launch_and_fit pid=7807)\u001b[0m Epoch : 22 Train Loss : 0.197226 \n",
            "\u001b[2m\u001b[36m(launch_and_fit pid=7807)\u001b[0m Epoch : 23 Train Loss : 0.176707 \n",
            "\u001b[2m\u001b[36m(launch_and_fit pid=7807)\u001b[0m Epoch : 24 Train Loss : 0.206870 \n",
            "\u001b[2m\u001b[36m(launch_and_fit pid=7807)\u001b[0m Epoch : 25 Train Loss : 0.193439 \n",
            "\u001b[2m\u001b[36m(launch_and_fit pid=7807)\u001b[0m Epoch : 26 Train Loss : 0.131569 \n",
            "\u001b[2m\u001b[36m(launch_and_fit pid=7807)\u001b[0m Epoch : 27 Train Loss : 0.139568 \n",
            "\u001b[2m\u001b[36m(launch_and_fit pid=7807)\u001b[0m Epoch : 28 Train Loss : 0.116301 \n",
            "\u001b[2m\u001b[36m(launch_and_fit pid=7807)\u001b[0m Epoch : 29 Train Loss : 0.108796 \n",
            "\u001b[2m\u001b[36m(launch_and_fit pid=7807)\u001b[0m Epoch : 30 Train Loss : 0.109732 \n",
            "\u001b[2m\u001b[36m(launch_and_fit pid=7807)\u001b[0m \n",
            "\u001b[2m\u001b[36m(launch_and_fit pid=7807)\u001b[0m \n",
            "\u001b[2m\u001b[36m(launch_and_fit pid=7807)\u001b[0m Time to complete local training round: 908.434956073761\n",
            "\u001b[2m\u001b[36m(launch_and_fit pid=7807)\u001b[0m \n",
            "\u001b[2m\u001b[36m(launch_and_fit pid=7807)\u001b[0m \n",
            "\u001b[2m\u001b[1m\u001b[36m(scheduler +24m26s)\u001b[0m Tip: use `ray status` to view detailed cluster status. To disable these messages, set RAY_SCHEDULER_EVENTS=0.\n",
            "\u001b[2m\u001b[1m\u001b[33m(scheduler +24m26s)\u001b[0m Warning: The following resource request cannot be scheduled right now: {'CPU': 1.0, 'GPU': 1.0}. This is likely due to all cluster resources being claimed by actors. Consider creating fewer actors or adding more nodes to this Ray cluster.\n"
          ]
        },
        {
          "name": "stderr",
          "output_type": "stream",
          "text": [
            "DEBUG flower 2022-10-22 23:45:24,370 | server.py:234 | fit_round 1 received 1 results and 4 failures\n",
            "DEBUG:flower:fit_round 1 received 1 results and 4 failures\n",
            "WARNING flower 2022-10-22 23:45:25,842 | fedavg.py:243 | No fit_metrics_aggregation_fn provided\n",
            "WARNING:flower:No fit_metrics_aggregation_fn provided\n",
            "INFO flower 2022-10-22 23:49:04,342 | server.py:122 | fit progress: (1, tensor(204.3126, device='cuda:0', dtype=torch.float64), {'mean_class_acc.': 91.9578548792032}, 1164.4134299650004)\n",
            "INFO:flower:fit progress: (1, tensor(204.3126, device='cuda:0', dtype=torch.float64), {'mean_class_acc.': 91.9578548792032}, 1164.4134299650004)\n",
            "DEBUG flower 2022-10-22 23:49:04,347 | server.py:170 | evaluate_round 1: strategy sampled 5 clients (out of 100)\n",
            "DEBUG:flower:evaluate_round 1: strategy sampled 5 clients (out of 100)\n"
          ]
        },
        {
          "name": "stdout",
          "output_type": "stream",
          "text": [
            "\n",
            "Server eval\n",
            "                Labels  Class Acc.\n",
            "0          Atelectasis   89.673622\n",
            "1         Cardiomegaly   95.559123\n",
            "2        Consolidation   93.222757\n",
            "3                Edema   91.617621\n",
            "4             Effusion   88.603531\n",
            "5            Emphysema   95.701801\n",
            "6             Fibrosis   97.752809\n",
            "7         Infiltration   64.901017\n",
            "8                 Mass   94.417692\n",
            "9               Nodule   94.150169\n",
            "10  Pleural_Thickening   96.914571\n",
            "11           Pneumonia   98.038167\n",
            "12        Pneumothorax   94.899233\n",
            "\n",
            "\n",
            "\u001b[2m\u001b[36m(launch_and_evaluate pid=8529)\u001b[0m Created client: 19\n",
            "\u001b[2m\u001b[36m(launch_and_evaluate pid=8529)\u001b[0m [Client 19] evaluate, config: {}\n"
          ]
        },
        {
          "name": "stderr",
          "output_type": "stream",
          "text": [
            "\u001b[2m\u001b[36m(launch_and_fit pid=8105)\u001b[0m E1022 23:49:32.669697872    8133 chttp2_transport.cc:1103]   Received a GOAWAY with error code ENHANCE_YOUR_CALM and debug data equal to \"too_many_pings\"\n"
          ]
        },
        {
          "name": "stdout",
          "output_type": "stream",
          "text": [
            "\u001b[2m\u001b[36m(launch_and_evaluate pid=8564)\u001b[0m Created client: 78\n"
          ]
        },
        {
          "name": "stderr",
          "output_type": "stream",
          "text": [
            "DEBUG flower 2022-10-22 23:49:37,517 | server.py:184 | evaluate_round 1 received 0 results and 5 failures\n",
            "DEBUG:flower:evaluate_round 1 received 0 results and 5 failures\n",
            "DEBUG flower 2022-10-22 23:49:37,520 | server.py:220 | fit_round 2: strategy sampled 5 clients (out of 100)\n",
            "DEBUG:flower:fit_round 2: strategy sampled 5 clients (out of 100)\n"
          ]
        },
        {
          "name": "stdout",
          "output_type": "stream",
          "text": [
            "\u001b[2m\u001b[36m(launch_and_evaluate pid=8564)\u001b[0m [Client 78] evaluate, config: {}\n"
          ]
        },
        {
          "name": "stderr",
          "output_type": "stream",
          "text": [
            "\u001b[2m\u001b[36m(launch_and_fit pid=8138)\u001b[0m E1022 23:49:45.018542275    8168 chttp2_transport.cc:1103]   Received a GOAWAY with error code ENHANCE_YOUR_CALM and debug data equal to \"too_many_pings\"\n"
          ]
        },
        {
          "name": "stdout",
          "output_type": "stream",
          "text": [
            "\u001b[2m\u001b[36m(launch_and_fit pid=8631)\u001b[0m Created client: 41\n",
            "\u001b[2m\u001b[36m(launch_and_fit pid=8631)\u001b[0m [Client 41, round 2] fit, config: {'server_round': 2, 'local_epochs': 30}\n",
            "\u001b[2m\u001b[36m(launch_and_fit pid=8631)\u001b[0m Entered train function, total num. of epochs: 30\n",
            "\u001b[2m\u001b[36m(launch_and_fit pid=8631)\u001b[0m Epoch : 1 Train Loss : 1.058468 \n",
            "\u001b[2m\u001b[36m(launch_and_fit pid=8631)\u001b[0m Epoch : 2 Train Loss : 0.801285 \n",
            "\u001b[2m\u001b[36m(launch_and_fit pid=8631)\u001b[0m Epoch : 3 Train Loss : 0.782127 \n",
            "\u001b[2m\u001b[36m(launch_and_fit pid=8631)\u001b[0m Epoch : 4 Train Loss : 0.734165 \n",
            "\u001b[2m\u001b[36m(launch_and_fit pid=8631)\u001b[0m Epoch : 5 Train Loss : 0.687351 \n",
            "\u001b[2m\u001b[36m(launch_and_fit pid=8631)\u001b[0m Epoch : 6 Train Loss : 0.597617 \n",
            "\u001b[2m\u001b[36m(launch_and_fit pid=8631)\u001b[0m Epoch : 7 Train Loss : 0.558568 \n",
            "\u001b[2m\u001b[36m(launch_and_fit pid=8631)\u001b[0m Epoch : 8 Train Loss : 0.550062 \n",
            "\u001b[2m\u001b[36m(launch_and_fit pid=8631)\u001b[0m Epoch : 9 Train Loss : 0.461864 \n",
            "\u001b[2m\u001b[36m(launch_and_fit pid=8631)\u001b[0m Epoch : 10 Train Loss : 0.418315 \n",
            "\u001b[2m\u001b[36m(launch_and_fit pid=8631)\u001b[0m Epoch : 11 Train Loss : 0.336207 \n",
            "\u001b[2m\u001b[36m(launch_and_fit pid=8631)\u001b[0m Epoch : 12 Train Loss : 0.316779 \n",
            "\u001b[2m\u001b[36m(launch_and_fit pid=8631)\u001b[0m Epoch : 13 Train Loss : 0.282450 \n",
            "\u001b[2m\u001b[36m(launch_and_fit pid=8631)\u001b[0m Epoch : 14 Train Loss : 0.245433 \n",
            "\u001b[2m\u001b[36m(launch_and_fit pid=8631)\u001b[0m Epoch : 15 Train Loss : 0.259359 \n",
            "\u001b[2m\u001b[36m(launch_and_fit pid=8631)\u001b[0m Epoch : 16 Train Loss : 0.225234 \n",
            "\u001b[2m\u001b[36m(launch_and_fit pid=8631)\u001b[0m Epoch : 17 Train Loss : 0.192639 \n",
            "\u001b[2m\u001b[36m(launch_and_fit pid=8631)\u001b[0m Epoch : 18 Train Loss : 0.139891 \n",
            "\u001b[2m\u001b[36m(launch_and_fit pid=8631)\u001b[0m Epoch : 19 Train Loss : 0.202788 \n",
            "\u001b[2m\u001b[36m(launch_and_fit pid=8631)\u001b[0m Epoch : 20 Train Loss : 0.140312 \n",
            "\u001b[2m\u001b[36m(launch_and_fit pid=8631)\u001b[0m Epoch : 21 Train Loss : 0.167237 \n",
            "\u001b[2m\u001b[36m(launch_and_fit pid=8631)\u001b[0m Epoch : 22 Train Loss : 0.132210 \n",
            "\u001b[2m\u001b[36m(launch_and_fit pid=8631)\u001b[0m Epoch : 23 Train Loss : 0.153598 \n",
            "\u001b[2m\u001b[36m(launch_and_fit pid=8631)\u001b[0m Epoch : 24 Train Loss : 0.118754 \n",
            "\u001b[2m\u001b[36m(launch_and_fit pid=8631)\u001b[0m Epoch : 25 Train Loss : 0.109040 \n",
            "\u001b[2m\u001b[36m(launch_and_fit pid=8631)\u001b[0m Epoch : 26 Train Loss : 0.086162 \n",
            "\u001b[2m\u001b[36m(launch_and_fit pid=8631)\u001b[0m Epoch : 27 Train Loss : 0.075023 \n",
            "\u001b[2m\u001b[36m(launch_and_fit pid=8631)\u001b[0m Epoch : 28 Train Loss : 0.078732 \n",
            "\u001b[2m\u001b[36m(launch_and_fit pid=8631)\u001b[0m Epoch : 29 Train Loss : 0.086275 \n",
            "\u001b[2m\u001b[36m(launch_and_fit pid=8631)\u001b[0m Epoch : 30 Train Loss : 0.081612 \n",
            "\u001b[2m\u001b[36m(launch_and_fit pid=8631)\u001b[0m \n",
            "\u001b[2m\u001b[36m(launch_and_fit pid=8631)\u001b[0m \n",
            "\u001b[2m\u001b[36m(launch_and_fit pid=8631)\u001b[0m Time to complete local training round: 919.5994322299957\n",
            "\u001b[2m\u001b[36m(launch_and_fit pid=8631)\u001b[0m \n",
            "\u001b[2m\u001b[36m(launch_and_fit pid=8631)\u001b[0m \n"
          ]
        },
        {
          "name": "stderr",
          "output_type": "stream",
          "text": [
            "DEBUG flower 2022-10-23 00:05:29,267 | server.py:234 | fit_round 2 received 1 results and 4 failures\n",
            "DEBUG:flower:fit_round 2 received 1 results and 4 failures\n",
            "INFO flower 2022-10-23 00:09:11,882 | server.py:122 | fit progress: (2, tensor(203.3134, device='cuda:0', dtype=torch.float64), {'mean_class_acc.': 90.77526717976156}, 2371.952882603)\n",
            "INFO:flower:fit progress: (2, tensor(203.3134, device='cuda:0', dtype=torch.float64), {'mean_class_acc.': 90.77526717976156}, 2371.952882603)\n",
            "DEBUG flower 2022-10-23 00:09:11,888 | server.py:170 | evaluate_round 2: strategy sampled 5 clients (out of 100)\n",
            "DEBUG:flower:evaluate_round 2: strategy sampled 5 clients (out of 100)\n"
          ]
        },
        {
          "name": "stdout",
          "output_type": "stream",
          "text": [
            "\n",
            "Server eval\n",
            "                Labels  Class Acc.\n",
            "0          Atelectasis   89.477439\n",
            "1         Cardiomegaly   96.825397\n",
            "2        Consolidation   95.434279\n",
            "3                Edema   93.187088\n",
            "4             Effusion   88.567862\n",
            "5            Emphysema   96.379526\n",
            "6             Fibrosis   96.112003\n",
            "7         Infiltration   80.042804\n",
            "8                 Mass   64.829677\n",
            "9               Nodule   93.829142\n",
            "10  Pleural_Thickening   96.201177\n",
            "11           Pneumonia   96.932406\n",
            "12        Pneumothorax   92.259675\n",
            "\n",
            "\n",
            "\u001b[2m\u001b[36m(launch_and_evaluate pid=9375)\u001b[0m Created client: 47\n",
            "\u001b[2m\u001b[36m(launch_and_evaluate pid=9375)\u001b[0m [Client 47] evaluate, config: {}\n",
            "\u001b[2m\u001b[36m(launch_and_evaluate pid=9410)\u001b[0m Created client: 39\n",
            "\u001b[2m\u001b[36m(launch_and_evaluate pid=9410)\u001b[0m [Client 39] evaluate, config: {}\n",
            "\u001b[2m\u001b[1m\u001b[33m(scheduler +48m48s)\u001b[0m Warning: The following resource request cannot be scheduled right now: {'GPU': 1.0, 'CPU': 1.0}. This is likely due to all cluster resources being claimed by actors. Consider creating fewer actors or adding more nodes to this Ray cluster.\n",
            "\u001b[2m\u001b[36m(launch_and_evaluate pid=9448)\u001b[0m Created client: 69\n",
            "\u001b[2m\u001b[36m(launch_and_evaluate pid=9448)\u001b[0m [Client 69] evaluate, config: {}\n"
          ]
        },
        {
          "name": "stderr",
          "output_type": "stream",
          "text": [
            "\u001b[2m\u001b[36m(launch_and_fit pid=9027)\u001b[0m E1023 00:09:43.622031504    9055 chttp2_transport.cc:1103]   Received a GOAWAY with error code ENHANCE_YOUR_CALM and debug data equal to \"too_many_pings\"\n"
          ]
        },
        {
          "name": "stdout",
          "output_type": "stream",
          "text": [
            "\u001b[2m\u001b[36m(launch_and_evaluate pid=9483)\u001b[0m Created client: 84\n"
          ]
        },
        {
          "name": "stderr",
          "output_type": "stream",
          "text": [
            "DEBUG flower 2022-10-23 00:09:48,845 | server.py:184 | evaluate_round 2 received 0 results and 5 failures\n",
            "DEBUG:flower:evaluate_round 2 received 0 results and 5 failures\n",
            "DEBUG flower 2022-10-23 00:09:48,849 | server.py:220 | fit_round 3: strategy sampled 5 clients (out of 100)\n",
            "DEBUG:flower:fit_round 3: strategy sampled 5 clients (out of 100)\n"
          ]
        },
        {
          "name": "stdout",
          "output_type": "stream",
          "text": [
            "\u001b[2m\u001b[36m(launch_and_evaluate pid=9483)\u001b[0m [Client 84] evaluate, config: {}\n",
            "\u001b[2m\u001b[36m(launch_and_fit pid=9622)\u001b[0m Created client: 96\n",
            "\u001b[2m\u001b[36m(launch_and_fit pid=9622)\u001b[0m [Client 96, round 3] fit, config: {'server_round': 3, 'local_epochs': 30}\n",
            "\u001b[2m\u001b[36m(launch_and_fit pid=9622)\u001b[0m Entered train function, total num. of epochs: 30\n"
          ]
        },
        {
          "name": "stderr",
          "output_type": "stream",
          "text": [
            "\u001b[2m\u001b[36m(launch_and_fit pid=9093)\u001b[0m E1023 00:10:06.728023046    9121 chttp2_transport.cc:1103]   Received a GOAWAY with error code ENHANCE_YOUR_CALM and debug data equal to \"too_many_pings\"\n",
            "\u001b[2m\u001b[36m(launch_and_fit pid=9125)\u001b[0m E1023 00:10:10.665356409    9154 chttp2_transport.cc:1103]   Received a GOAWAY with error code ENHANCE_YOUR_CALM and debug data equal to \"too_many_pings\"\n"
          ]
        },
        {
          "name": "stdout",
          "output_type": "stream",
          "text": [
            "\u001b[2m\u001b[36m(launch_and_fit pid=9783)\u001b[0m Created client: 45\n",
            "\u001b[2m\u001b[36m(launch_and_fit pid=9783)\u001b[0m [Client 45, round 3] fit, config: {'server_round': 3, 'local_epochs': 30}\n",
            "\u001b[2m\u001b[36m(launch_and_fit pid=9783)\u001b[0m Entered train function, total num. of epochs: 30\n"
          ]
        },
        {
          "name": "stderr",
          "output_type": "stream",
          "text": [
            "DEBUG flower 2022-10-23 00:10:24,572 | server.py:234 | fit_round 3 received 0 results and 5 failures\n",
            "DEBUG:flower:fit_round 3 received 0 results and 5 failures\n",
            "INFO flower 2022-10-23 00:14:04,901 | server.py:122 | fit progress: (3, tensor(203.4800, device='cuda:0', dtype=torch.float64), {'mean_class_acc.': 90.82054025874251}, 2664.972284345)\n",
            "INFO:flower:fit progress: (3, tensor(203.4800, device='cuda:0', dtype=torch.float64), {'mean_class_acc.': 90.82054025874251}, 2664.972284345)\n",
            "DEBUG flower 2022-10-23 00:14:04,907 | server.py:170 | evaluate_round 3: strategy sampled 5 clients (out of 100)\n",
            "DEBUG:flower:evaluate_round 3: strategy sampled 5 clients (out of 100)\n"
          ]
        },
        {
          "name": "stdout",
          "output_type": "stream",
          "text": [
            "\n",
            "Server eval\n",
            "                Labels  Class Acc.\n",
            "0          Atelectasis   89.477439\n",
            "1         Cardiomegaly   96.682718\n",
            "2        Consolidation   95.541288\n",
            "3                Edema   93.561619\n",
            "4             Effusion   88.532192\n",
            "5            Emphysema   96.486535\n",
            "6             Fibrosis   96.433030\n",
            "7         Infiltration   80.060638\n",
            "8                 Mass   64.597824\n",
            "9               Nodule   93.882647\n",
            "10  Pleural_Thickening   96.254682\n",
            "11           Pneumonia   96.807562\n",
            "12        Pneumothorax   92.348850\n",
            "\n",
            "\n",
            "\u001b[2m\u001b[36m(launch_and_evaluate pid=9938)\u001b[0m Created client: 50\n",
            "\u001b[2m\u001b[36m(launch_and_evaluate pid=9938)\u001b[0m [Client 50] evaluate, config: {}\n"
          ]
        },
        {
          "name": "stderr",
          "output_type": "stream",
          "text": [
            "\u001b[2m\u001b[36m(launch_and_evaluate pid=9448)\u001b[0m E1023 00:14:19.366042446    9476 chttp2_transport.cc:1103]   Received a GOAWAY with error code ENHANCE_YOUR_CALM and debug data equal to \"too_many_pings\"\n"
          ]
        },
        {
          "name": "stdout",
          "output_type": "stream",
          "text": [
            "\u001b[2m\u001b[36m(launch_and_evaluate pid=10033)\u001b[0m Created client: 49\n",
            "\u001b[2m\u001b[36m(launch_and_evaluate pid=10033)\u001b[0m [Client 49] evaluate, config: {}\n"
          ]
        },
        {
          "name": "stderr",
          "output_type": "stream",
          "text": [
            "\u001b[2m\u001b[36m(launch_and_evaluate pid=9483)\u001b[0m E1023 00:14:25.496527288    9511 chttp2_transport.cc:1103]   Received a GOAWAY with error code ENHANCE_YOUR_CALM and debug data equal to \"too_many_pings\"\n"
          ]
        },
        {
          "name": "stdout",
          "output_type": "stream",
          "text": [
            "\u001b[2m\u001b[36m(launch_and_evaluate pid=10069)\u001b[0m Created client: 19\n",
            "\u001b[2m\u001b[36m(launch_and_evaluate pid=10069)\u001b[0m [Client 19] evaluate, config: {}\n"
          ]
        },
        {
          "name": "stderr",
          "output_type": "stream",
          "text": [
            "\u001b[2m\u001b[36m(launch_and_fit pid=9622)\u001b[0m E1023 00:14:31.512554379    9674 chttp2_transport.cc:1103]   Received a GOAWAY with error code ENHANCE_YOUR_CALM and debug data equal to \"too_many_pings\"\n"
          ]
        },
        {
          "name": "stdout",
          "output_type": "stream",
          "text": [
            "\u001b[2m\u001b[36m(launch_and_evaluate pid=10105)\u001b[0m Created client: 29\n",
            "\u001b[2m\u001b[36m(launch_and_evaluate pid=10105)\u001b[0m [Client 29] evaluate, config: {}\n"
          ]
        },
        {
          "name": "stderr",
          "output_type": "stream",
          "text": [
            "\u001b[2m\u001b[36m(launch_and_fit pid=9683)\u001b[0m E1023 00:14:37.297088732    9711 chttp2_transport.cc:1103]   Received a GOAWAY with error code ENHANCE_YOUR_CALM and debug data equal to \"too_many_pings\"\n"
          ]
        },
        {
          "name": "stdout",
          "output_type": "stream",
          "text": [
            "\u001b[2m\u001b[36m(launch_and_evaluate pid=10142)\u001b[0m Created client: 80\n"
          ]
        },
        {
          "name": "stderr",
          "output_type": "stream",
          "text": [
            "DEBUG flower 2022-10-23 00:14:42,559 | server.py:184 | evaluate_round 3 received 0 results and 5 failures\n",
            "DEBUG:flower:evaluate_round 3 received 0 results and 5 failures\n",
            "DEBUG flower 2022-10-23 00:14:42,562 | server.py:220 | fit_round 4: strategy sampled 5 clients (out of 100)\n",
            "DEBUG:flower:fit_round 4: strategy sampled 5 clients (out of 100)\n"
          ]
        },
        {
          "name": "stdout",
          "output_type": "stream",
          "text": [
            "\u001b[2m\u001b[36m(launch_and_evaluate pid=10142)\u001b[0m [Client 80] evaluate, config: {}\n"
          ]
        },
        {
          "name": "stderr",
          "output_type": "stream",
          "text": [
            "\u001b[2m\u001b[36m(launch_and_fit pid=9716)\u001b[0m E1023 00:14:50.647045824    9744 chttp2_transport.cc:1103]   Received a GOAWAY with error code ENHANCE_YOUR_CALM and debug data equal to \"too_many_pings\"\n",
            "\u001b[2m\u001b[36m(launch_and_fit pid=9750)\u001b[0m E1023 00:14:55.826337444    9778 chttp2_transport.cc:1103]   Received a GOAWAY with error code ENHANCE_YOUR_CALM and debug data equal to \"too_many_pings\"\n"
          ]
        },
        {
          "name": "stdout",
          "output_type": "stream",
          "text": [
            "\u001b[2m\u001b[36m(launch_and_fit pid=10374)\u001b[0m Created client: 41\n",
            "\u001b[2m\u001b[36m(launch_and_fit pid=10374)\u001b[0m [Client 41, round 4] fit, config: {'server_round': 4, 'local_epochs': 30}\n",
            "\u001b[2m\u001b[36m(launch_and_fit pid=10374)\u001b[0m Entered train function, total num. of epochs: 30\n",
            "\u001b[2m\u001b[36m(launch_and_fit pid=10410)\u001b[0m Created client: 92\n",
            "\u001b[2m\u001b[36m(launch_and_fit pid=10410)\u001b[0m [Client 92, round 4] fit, config: {'server_round': 4, 'local_epochs': 30}\n",
            "\u001b[2m\u001b[36m(launch_and_fit pid=10410)\u001b[0m Entered train function, total num. of epochs: 30\n",
            "\u001b[2m\u001b[36m(launch_and_fit pid=10447)\u001b[0m Created client: 3\n",
            "\u001b[2m\u001b[36m(launch_and_fit pid=10447)\u001b[0m [Client 3, round 4] fit, config: {'server_round': 4, 'local_epochs': 30}\n",
            "\u001b[2m\u001b[36m(launch_and_fit pid=10447)\u001b[0m Entered train function, total num. of epochs: 30\n"
          ]
        },
        {
          "name": "stderr",
          "output_type": "stream",
          "text": [
            "DEBUG flower 2022-10-23 00:15:19,329 | server.py:234 | fit_round 4 received 0 results and 5 failures\n",
            "DEBUG:flower:fit_round 4 received 0 results and 5 failures\n",
            "INFO flower 2022-10-23 00:18:59,093 | server.py:122 | fit progress: (4, tensor(203.3773, device='cuda:0', dtype=torch.float64), {'mean_class_acc.': 90.81779643577397}, 2959.164405261)\n",
            "INFO:flower:fit progress: (4, tensor(203.3773, device='cuda:0', dtype=torch.float64), {'mean_class_acc.': 90.81779643577397}, 2959.164405261)\n",
            "DEBUG flower 2022-10-23 00:18:59,099 | server.py:170 | evaluate_round 4: strategy sampled 5 clients (out of 100)\n",
            "DEBUG:flower:evaluate_round 4: strategy sampled 5 clients (out of 100)\n"
          ]
        },
        {
          "name": "stdout",
          "output_type": "stream",
          "text": [
            "\n",
            "Server eval\n",
            "                Labels  Class Acc.\n",
            "0          Atelectasis   89.388265\n",
            "1         Cardiomegaly   96.771892\n",
            "2        Consolidation   95.452113\n",
            "3                Edema   93.454610\n",
            "4             Effusion   88.532192\n",
            "5            Emphysema   96.290351\n",
            "6             Fibrosis   96.201177\n",
            "7         Infiltration   79.900125\n",
            "8                 Mass   65.097200\n",
            "9               Nodule   93.722133\n",
            "10  Pleural_Thickening   96.308186\n",
            "11           Pneumonia   97.110754\n",
            "12        Pneumothorax   92.402354\n",
            "\n",
            "\n"
          ]
        },
        {
          "name": "stderr",
          "output_type": "stream",
          "text": [
            "\u001b[2m\u001b[36m(launch_and_evaluate pid=10069)\u001b[0m E1023 00:19:08.430941300   10097 chttp2_transport.cc:1103]   Received a GOAWAY with error code ENHANCE_YOUR_CALM and debug data equal to \"too_many_pings\"\n"
          ]
        },
        {
          "name": "stdout",
          "output_type": "stream",
          "text": [
            "\u001b[2m\u001b[36m(launch_and_evaluate pid=10614)\u001b[0m Created client: 31\n",
            "\u001b[2m\u001b[36m(launch_and_evaluate pid=10614)\u001b[0m [Client 31] evaluate, config: {}\n"
          ]
        },
        {
          "name": "stderr",
          "output_type": "stream",
          "text": [
            "\u001b[2m\u001b[36m(launch_and_evaluate pid=10105)\u001b[0m E1023 00:19:14.613679067   10134 chttp2_transport.cc:1103]   Received a GOAWAY with error code ENHANCE_YOUR_CALM and debug data equal to \"too_many_pings\"\n"
          ]
        },
        {
          "name": "stdout",
          "output_type": "stream",
          "text": [
            "\u001b[2m\u001b[36m(launch_and_evaluate pid=10699)\u001b[0m Created client: 94\n",
            "\u001b[2m\u001b[36m(launch_and_evaluate pid=10699)\u001b[0m [Client 94] evaluate, config: {}\n"
          ]
        },
        {
          "name": "stderr",
          "output_type": "stream",
          "text": [
            "\u001b[2m\u001b[36m(launch_and_evaluate pid=10142)\u001b[0m E1023 00:19:20.320318962   10170 chttp2_transport.cc:1103]   Received a GOAWAY with error code ENHANCE_YOUR_CALM and debug data equal to \"too_many_pings\"\n"
          ]
        },
        {
          "name": "stdout",
          "output_type": "stream",
          "text": [
            "\u001b[2m\u001b[36m(launch_and_evaluate pid=10735)\u001b[0m Created client: 35\n",
            "\u001b[2m\u001b[36m(launch_and_evaluate pid=10735)\u001b[0m [Client 35] evaluate, config: {}\n"
          ]
        },
        {
          "name": "stderr",
          "output_type": "stream",
          "text": [
            "\u001b[2m\u001b[36m(launch_and_fit pid=10240)\u001b[0m E1023 00:19:26.444921717   10280 chttp2_transport.cc:1103]   Received a GOAWAY with error code ENHANCE_YOUR_CALM and debug data equal to \"too_many_pings\"\n",
            "\u001b[2m\u001b[36m(launch_and_fit pid=10340)\u001b[0m E1023 00:19:31.612960953   10368 chttp2_transport.cc:1103]   Received a GOAWAY with error code ENHANCE_YOUR_CALM and debug data equal to \"too_many_pings\"\n",
            "DEBUG flower 2022-10-23 00:19:34,858 | server.py:184 | evaluate_round 4 received 0 results and 5 failures\n",
            "DEBUG:flower:evaluate_round 4 received 0 results and 5 failures\n",
            "DEBUG flower 2022-10-23 00:19:34,862 | server.py:220 | fit_round 5: strategy sampled 5 clients (out of 100)\n",
            "DEBUG:flower:fit_round 5: strategy sampled 5 clients (out of 100)\n",
            "\u001b[2m\u001b[36m(launch_and_fit pid=10374)\u001b[0m E1023 00:19:43.379005365   10402 chttp2_transport.cc:1103]   Received a GOAWAY with error code ENHANCE_YOUR_CALM and debug data equal to \"too_many_pings\"\n"
          ]
        },
        {
          "name": "stdout",
          "output_type": "stream",
          "text": [
            "\u001b[2m\u001b[36m(launch_and_fit pid=10930)\u001b[0m Created client: 84\n",
            "\u001b[2m\u001b[36m(launch_and_fit pid=10930)\u001b[0m [Client 84, round 5] fit, config: {'server_round': 5, 'local_epochs': 30}\n",
            "\u001b[2m\u001b[36m(launch_and_fit pid=10930)\u001b[0m Entered train function, total num. of epochs: 30\n"
          ]
        },
        {
          "name": "stderr",
          "output_type": "stream",
          "text": [
            "\u001b[2m\u001b[36m(launch_and_fit pid=10410)\u001b[0m E1023 00:19:50.163890645   10439 chttp2_transport.cc:1103]   Received a GOAWAY with error code ENHANCE_YOUR_CALM and debug data equal to \"too_many_pings\"\n"
          ]
        },
        {
          "name": "stdout",
          "output_type": "stream",
          "text": [
            "\u001b[2m\u001b[36m(launch_and_fit pid=11005)\u001b[0m Created client: 68\n",
            "\u001b[2m\u001b[36m(launch_and_fit pid=11005)\u001b[0m [Client 68, round 5] fit, config: {'server_round': 5, 'local_epochs': 30}\n",
            "\u001b[2m\u001b[36m(launch_and_fit pid=11005)\u001b[0m Entered train function, total num. of epochs: 30\n",
            "\u001b[2m\u001b[36m(launch_and_fit pid=11042)\u001b[0m Created client: 34\n",
            "\u001b[2m\u001b[36m(launch_and_fit pid=11042)\u001b[0m [Client 34, round 5] fit, config: {'server_round': 5, 'local_epochs': 30}\n",
            "\u001b[2m\u001b[36m(launch_and_fit pid=11042)\u001b[0m Entered train function, total num. of epochs: 30\n",
            "\u001b[2m\u001b[36m(launch_and_fit pid=11079)\u001b[0m Created client: 54\n",
            "\u001b[2m\u001b[36m(launch_and_fit pid=11079)\u001b[0m [Client 54, round 5] fit, config: {'server_round': 5, 'local_epochs': 30}\n",
            "\u001b[2m\u001b[36m(launch_and_fit pid=11079)\u001b[0m Entered train function, total num. of epochs: 30\n",
            "\u001b[2m\u001b[36m(launch_and_fit pid=11115)\u001b[0m Created client: 49\n",
            "\u001b[2m\u001b[36m(launch_and_fit pid=11115)\u001b[0m [Client 49, round 5] fit, config: {'server_round': 5, 'local_epochs': 30}\n",
            "\u001b[2m\u001b[36m(launch_and_fit pid=11115)\u001b[0m Entered train function, total num. of epochs: 30\n"
          ]
        },
        {
          "name": "stderr",
          "output_type": "stream",
          "text": [
            "DEBUG flower 2022-10-23 00:20:16,642 | server.py:234 | fit_round 5 received 0 results and 5 failures\n",
            "DEBUG:flower:fit_round 5 received 0 results and 5 failures\n",
            "INFO flower 2022-10-23 00:23:58,692 | server.py:122 | fit progress: (5, tensor(203.3168, device='cuda:0', dtype=torch.float64), {'mean_class_acc.': 90.87267289514482}, 3258.763369176001)\n",
            "INFO:flower:fit progress: (5, tensor(203.3168, device='cuda:0', dtype=torch.float64), {'mean_class_acc.': 90.87267289514482}, 3258.763369176001)\n",
            "DEBUG flower 2022-10-23 00:23:58,698 | server.py:170 | evaluate_round 5: strategy sampled 5 clients (out of 100)\n",
            "DEBUG:flower:evaluate_round 5: strategy sampled 5 clients (out of 100)\n"
          ]
        },
        {
          "name": "stdout",
          "output_type": "stream",
          "text": [
            "\n",
            "Server eval\n",
            "                Labels  Class Acc.\n",
            "0          Atelectasis   89.459604\n",
            "1         Cardiomegaly   96.932406\n",
            "2        Consolidation   95.559123\n",
            "3                Edema   93.632959\n",
            "4             Effusion   88.514357\n",
            "5            Emphysema   96.415195\n",
            "6             Fibrosis   96.254682\n",
            "7         Infiltration   79.900125\n",
            "8                 Mass   64.686998\n",
            "9               Nodule   93.757803\n",
            "10  Pleural_Thickening   96.343856\n",
            "11           Pneumonia   97.128589\n",
            "12        Pneumothorax   92.759051\n",
            "\n",
            "\n"
          ]
        },
        {
          "name": "stderr",
          "output_type": "stream",
          "text": [
            "\u001b[2m\u001b[36m(launch_and_evaluate pid=10735)\u001b[0m E1023 00:24:06.728545808   10763 chttp2_transport.cc:1103]   Received a GOAWAY with error code ENHANCE_YOUR_CALM and debug data equal to \"too_many_pings\"\n"
          ]
        },
        {
          "name": "stdout",
          "output_type": "stream",
          "text": [
            "\u001b[2m\u001b[36m(launch_and_evaluate pid=11258)\u001b[0m Created client: 15\n",
            "\u001b[2m\u001b[36m(launch_and_evaluate pid=11258)\u001b[0m [Client 15] evaluate, config: {}\n"
          ]
        },
        {
          "name": "stderr",
          "output_type": "stream",
          "text": [
            "\u001b[2m\u001b[36m(launch_and_evaluate pid=10771)\u001b[0m E1023 00:24:12.963929680   10799 chttp2_transport.cc:1103]   Received a GOAWAY with error code ENHANCE_YOUR_CALM and debug data equal to \"too_many_pings\"\n",
            "\u001b[2m\u001b[36m(launch_and_evaluate pid=10805)\u001b[0m E1023 00:24:18.267776021   10833 chttp2_transport.cc:1103]   Received a GOAWAY with error code ENHANCE_YOUR_CALM and debug data equal to \"too_many_pings\"\n",
            "\u001b[2m\u001b[36m(launch_and_fit pid=10930)\u001b[0m E1023 00:24:22.142302994   10964 chttp2_transport.cc:1103]   Received a GOAWAY with error code ENHANCE_YOUR_CALM and debug data equal to \"too_many_pings\"\n"
          ]
        },
        {
          "name": "stdout",
          "output_type": "stream",
          "text": [
            "\u001b[2m\u001b[36m(launch_and_evaluate pid=11434)\u001b[0m Created client: 34\n",
            "\u001b[2m\u001b[36m(launch_and_evaluate pid=11434)\u001b[0m [Client 34] evaluate, config: {}\n",
            "\u001b[2m\u001b[36m(launch_and_evaluate pid=11471)\u001b[0m Created client: 22\n"
          ]
        },
        {
          "name": "stderr",
          "output_type": "stream",
          "text": [
            "DEBUG flower 2022-10-23 00:24:33,087 | server.py:184 | evaluate_round 5 received 0 results and 5 failures\n",
            "DEBUG:flower:evaluate_round 5 received 0 results and 5 failures\n",
            "DEBUG flower 2022-10-23 00:24:33,091 | server.py:220 | fit_round 6: strategy sampled 5 clients (out of 100)\n",
            "DEBUG:flower:fit_round 6: strategy sampled 5 clients (out of 100)\n"
          ]
        },
        {
          "name": "stdout",
          "output_type": "stream",
          "text": [
            "\u001b[2m\u001b[36m(launch_and_evaluate pid=11471)\u001b[0m [Client 22] evaluate, config: {}\n"
          ]
        },
        {
          "name": "stderr",
          "output_type": "stream",
          "text": [
            "\u001b[2m\u001b[36m(launch_and_fit pid=11042)\u001b[0m E1023 00:24:40.839547085   11071 chttp2_transport.cc:1103]   Received a GOAWAY with error code ENHANCE_YOUR_CALM and debug data equal to \"too_many_pings\"\n"
          ]
        },
        {
          "name": "stdout",
          "output_type": "stream",
          "text": [
            "\u001b[2m\u001b[36m(launch_and_fit pid=11560)\u001b[0m Created client: 50\n",
            "\u001b[2m\u001b[36m(launch_and_fit pid=11560)\u001b[0m [Client 50, round 6] fit, config: {'server_round': 6, 'local_epochs': 30}\n",
            "\u001b[2m\u001b[36m(launch_and_fit pid=11560)\u001b[0m Entered train function, total num. of epochs: 30\n"
          ]
        },
        {
          "name": "stderr",
          "output_type": "stream",
          "text": [
            "\u001b[2m\u001b[36m(launch_and_fit pid=11079)\u001b[0m E1023 00:24:47.739363787   11107 chttp2_transport.cc:1103]   Received a GOAWAY with error code ENHANCE_YOUR_CALM and debug data equal to \"too_many_pings\"\n"
          ]
        },
        {
          "name": "stdout",
          "output_type": "stream",
          "text": [
            "\u001b[2m\u001b[36m(launch_and_fit pid=11670)\u001b[0m Created client: 47\n",
            "\u001b[2m\u001b[36m(launch_and_fit pid=11670)\u001b[0m [Client 47, round 6] fit, config: {'server_round': 6, 'local_epochs': 30}\n",
            "\u001b[2m\u001b[36m(launch_and_fit pid=11670)\u001b[0m Entered train function, total num. of epochs: 30\n"
          ]
        },
        {
          "name": "stderr",
          "output_type": "stream",
          "text": [
            "\u001b[2m\u001b[36m(launch_and_fit pid=11115)\u001b[0m E1023 00:24:54.798737548   11143 chttp2_transport.cc:1103]   Received a GOAWAY with error code ENHANCE_YOUR_CALM and debug data equal to \"too_many_pings\"\n"
          ]
        },
        {
          "name": "stdout",
          "output_type": "stream",
          "text": [
            "\u001b[2m\u001b[36m(launch_and_fit pid=11709)\u001b[0m Created client: 18\n",
            "\u001b[2m\u001b[36m(launch_and_fit pid=11709)\u001b[0m [Client 18, round 6] fit, config: {'server_round': 6, 'local_epochs': 30}\n",
            "\u001b[2m\u001b[36m(launch_and_fit pid=11709)\u001b[0m Entered train function, total num. of epochs: 30\n",
            "\u001b[2m\u001b[36m(launch_and_fit pid=11746)\u001b[0m Created client: 26\n",
            "\u001b[2m\u001b[36m(launch_and_fit pid=11746)\u001b[0m [Client 26, round 6] fit, config: {'server_round': 6, 'local_epochs': 30}\n",
            "\u001b[2m\u001b[36m(launch_and_fit pid=11746)\u001b[0m Entered train function, total num. of epochs: 30\n"
          ]
        },
        {
          "name": "stderr",
          "output_type": "stream",
          "text": [
            "DEBUG flower 2022-10-23 00:25:12,818 | server.py:234 | fit_round 6 received 0 results and 5 failures\n",
            "DEBUG:flower:fit_round 6 received 0 results and 5 failures\n",
            "INFO flower 2022-10-23 00:28:52,716 | server.py:122 | fit progress: (6, tensor(203.6063, device='cuda:0', dtype=torch.float64), {'mean_class_acc.': 90.8356312850695}, 3552.787498017001)\n",
            "INFO:flower:fit progress: (6, tensor(203.6063, device='cuda:0', dtype=torch.float64), {'mean_class_acc.': 90.8356312850695}, 3552.787498017001)\n",
            "DEBUG flower 2022-10-23 00:28:52,722 | server.py:170 | evaluate_round 6: strategy sampled 5 clients (out of 100)\n",
            "DEBUG:flower:evaluate_round 6: strategy sampled 5 clients (out of 100)\n"
          ]
        },
        {
          "name": "stdout",
          "output_type": "stream",
          "text": [
            "\n",
            "Server eval\n",
            "                Labels  Class Acc.\n",
            "0          Atelectasis   89.441769\n",
            "1         Cardiomegaly   96.807562\n",
            "2        Consolidation   95.559123\n",
            "3                Edema   93.953986\n",
            "4             Effusion   88.621366\n",
            "5            Emphysema   96.611379\n",
            "6             Fibrosis   96.254682\n",
            "7         Infiltration   79.543428\n",
            "8                 Mass   65.008026\n",
            "9               Nodule   93.686463\n",
            "10  Pleural_Thickening   96.236847\n",
            "11           Pneumonia   96.807562\n",
            "12        Pneumothorax   92.331015\n",
            "\n",
            "\n"
          ]
        },
        {
          "name": "stderr",
          "output_type": "stream",
          "text": [
            "\u001b[2m\u001b[36m(launch_and_evaluate pid=11401)\u001b[0m E1023 00:29:01.085087960   11429 chttp2_transport.cc:1103]   Received a GOAWAY with error code ENHANCE_YOUR_CALM and debug data equal to \"too_many_pings\"\n",
            "\u001b[2m\u001b[36m(launch_and_evaluate pid=11434)\u001b[0m E1023 00:29:05.305585896   11462 chttp2_transport.cc:1103]   Received a GOAWAY with error code ENHANCE_YOUR_CALM and debug data equal to \"too_many_pings\"\n"
          ]
        },
        {
          "name": "stdout",
          "output_type": "stream",
          "text": [
            "\u001b[2m\u001b[36m(launch_and_evaluate pid=12029)\u001b[0m Created client: 26\n",
            "\u001b[2m\u001b[36m(launch_and_evaluate pid=12029)\u001b[0m [Client 26] evaluate, config: {}\n"
          ]
        },
        {
          "name": "stderr",
          "output_type": "stream",
          "text": [
            "\u001b[2m\u001b[36m(launch_and_evaluate pid=11471)\u001b[0m E1023 00:29:11.346295078   11499 chttp2_transport.cc:1103]   Received a GOAWAY with error code ENHANCE_YOUR_CALM and debug data equal to \"too_many_pings\"\n"
          ]
        },
        {
          "name": "stdout",
          "output_type": "stream",
          "text": [
            "\u001b[2m\u001b[36m(launch_and_evaluate pid=12065)\u001b[0m Created client: 58\n",
            "\u001b[2m\u001b[36m(launch_and_evaluate pid=12065)\u001b[0m [Client 58] evaluate, config: {}\n",
            "\u001b[2m\u001b[1m\u001b[33m(scheduler +1h8m25s)\u001b[0m Warning: The following resource request cannot be scheduled right now: {'GPU': 1.0, 'CPU': 1.0}. This is likely due to all cluster resources being claimed by actors. Consider creating fewer actors or adding more nodes to this Ray cluster.\n"
          ]
        },
        {
          "name": "stderr",
          "output_type": "stream",
          "text": [
            "\u001b[2m\u001b[36m(launch_and_fit pid=11560)\u001b[0m E1023 00:29:17.275111301   11630 chttp2_transport.cc:1103]   Received a GOAWAY with error code ENHANCE_YOUR_CALM and debug data equal to \"too_many_pings\"\n"
          ]
        },
        {
          "name": "stdout",
          "output_type": "stream",
          "text": [
            "\u001b[2m\u001b[36m(launch_and_evaluate pid=12101)\u001b[0m Created client: 19\n",
            "\u001b[2m\u001b[36m(launch_and_evaluate pid=12101)\u001b[0m [Client 19] evaluate, config: {}\n"
          ]
        },
        {
          "name": "stderr",
          "output_type": "stream",
          "text": [
            "\u001b[2m\u001b[36m(launch_and_fit pid=11670)\u001b[0m E1023 00:29:23.487487001   11698 chttp2_transport.cc:1103]   Received a GOAWAY with error code ENHANCE_YOUR_CALM and debug data equal to \"too_many_pings\"\n"
          ]
        },
        {
          "name": "stdout",
          "output_type": "stream",
          "text": [
            "\u001b[2m\u001b[36m(launch_and_evaluate pid=12138)\u001b[0m Created client: 12\n"
          ]
        },
        {
          "name": "stderr",
          "output_type": "stream",
          "text": [
            "DEBUG flower 2022-10-23 00:29:28,634 | server.py:184 | evaluate_round 6 received 0 results and 5 failures\n",
            "DEBUG:flower:evaluate_round 6 received 0 results and 5 failures\n",
            "DEBUG flower 2022-10-23 00:29:28,638 | server.py:220 | fit_round 7: strategy sampled 5 clients (out of 100)\n",
            "DEBUG:flower:fit_round 7: strategy sampled 5 clients (out of 100)\n"
          ]
        },
        {
          "name": "stdout",
          "output_type": "stream",
          "text": [
            "\u001b[2m\u001b[36m(launch_and_evaluate pid=12138)\u001b[0m [Client 12] evaluate, config: {}\n"
          ]
        },
        {
          "name": "stderr",
          "output_type": "stream",
          "text": [
            "\u001b[2m\u001b[36m(launch_and_fit pid=11709)\u001b[0m E1023 00:29:36.123089608   11737 chttp2_transport.cc:1103]   Received a GOAWAY with error code ENHANCE_YOUR_CALM and debug data equal to \"too_many_pings\"\n"
          ]
        },
        {
          "name": "stdout",
          "output_type": "stream",
          "text": [
            "\u001b[2m\u001b[36m(launch_and_fit pid=12216)\u001b[0m Created client: 11\n",
            "\u001b[2m\u001b[36m(launch_and_fit pid=12216)\u001b[0m [Client 11, round 7] fit, config: {'server_round': 7, 'local_epochs': 30}\n",
            "\u001b[2m\u001b[36m(launch_and_fit pid=12216)\u001b[0m Entered train function, total num. of epochs: 30\n",
            "\u001b[2m\u001b[36m(launch_and_fit pid=12338)\u001b[0m Created client: 44\n",
            "\u001b[2m\u001b[36m(launch_and_fit pid=12338)\u001b[0m [Client 44, round 7] fit, config: {'server_round': 7, 'local_epochs': 30}\n",
            "\u001b[2m\u001b[36m(launch_and_fit pid=12338)\u001b[0m Entered train function, total num. of epochs: 30\n"
          ]
        },
        {
          "name": "stderr",
          "output_type": "stream",
          "text": [
            "\u001b[2m\u001b[36m(launch_and_fit pid=11783)\u001b[0m E1023 00:29:50.120376390   11811 chttp2_transport.cc:1103]   Received a GOAWAY with error code ENHANCE_YOUR_CALM and debug data equal to \"too_many_pings\"\n"
          ]
        },
        {
          "name": "stdout",
          "output_type": "stream",
          "text": [
            "\u001b[2m\u001b[36m(launch_and_fit pid=12445)\u001b[0m Created client: 16\n",
            "\u001b[2m\u001b[36m(launch_and_fit pid=12445)\u001b[0m [Client 16, round 7] fit, config: {'server_round': 7, 'local_epochs': 30}\n",
            "\u001b[2m\u001b[36m(launch_and_fit pid=12445)\u001b[0m Entered train function, total num. of epochs: 30\n"
          ]
        },
        {
          "name": "stderr",
          "output_type": "stream",
          "text": [
            "DEBUG flower 2022-10-23 00:30:05,483 | server.py:234 | fit_round 7 received 0 results and 5 failures\n",
            "DEBUG:flower:fit_round 7 received 0 results and 5 failures\n",
            "INFO flower 2022-10-23 00:33:44,669 | server.py:122 | fit progress: (7, tensor(203.4517, device='cuda:0', dtype=torch.float64), {'mean_class_acc.': 90.83837510803802}, 3844.740221469)\n",
            "INFO:flower:fit progress: (7, tensor(203.4517, device='cuda:0', dtype=torch.float64), {'mean_class_acc.': 90.83837510803802}, 3844.740221469)\n",
            "DEBUG flower 2022-10-23 00:33:44,675 | server.py:170 | evaluate_round 7: strategy sampled 5 clients (out of 100)\n",
            "DEBUG:flower:evaluate_round 7: strategy sampled 5 clients (out of 100)\n"
          ]
        },
        {
          "name": "stdout",
          "output_type": "stream",
          "text": [
            "\n",
            "Server eval\n",
            "                Labels  Class Acc.\n",
            "0          Atelectasis   89.406100\n",
            "1         Cardiomegaly   96.736223\n",
            "2        Consolidation   95.559123\n",
            "3                Edema   93.650794\n",
            "4             Effusion   88.550027\n",
            "5            Emphysema   96.165507\n",
            "6             Fibrosis   96.450865\n",
            "7         Infiltration   80.096308\n",
            "8                 Mass   65.222044\n",
            "9               Nodule   93.650794\n",
            "10  Pleural_Thickening   96.112003\n",
            "11           Pneumonia   97.075085\n",
            "12        Pneumothorax   92.224006\n",
            "\n",
            "\n"
          ]
        },
        {
          "name": "stderr",
          "output_type": "stream",
          "text": [
            "\u001b[2m\u001b[36m(launch_and_evaluate pid=12065)\u001b[0m E1023 00:33:53.338185005   12093 chttp2_transport.cc:1103]   Received a GOAWAY with error code ENHANCE_YOUR_CALM and debug data equal to \"too_many_pings\"\n"
          ]
        },
        {
          "name": "stdout",
          "output_type": "stream",
          "text": [
            "\u001b[2m\u001b[36m(launch_and_evaluate pid=12623)\u001b[0m Created client: 52\n",
            "\u001b[2m\u001b[36m(launch_and_evaluate pid=12623)\u001b[0m [Client 52] evaluate, config: {}\n"
          ]
        },
        {
          "name": "stderr",
          "output_type": "stream",
          "text": [
            "\u001b[2m\u001b[36m(launch_and_evaluate pid=12101)\u001b[0m E1023 00:33:59.317920348   12129 chttp2_transport.cc:1103]   Received a GOAWAY with error code ENHANCE_YOUR_CALM and debug data equal to \"too_many_pings\"\n"
          ]
        },
        {
          "name": "stdout",
          "output_type": "stream",
          "text": [
            "\u001b[2m\u001b[36m(launch_and_evaluate pid=12696)\u001b[0m Created client: 62\n",
            "\u001b[2m\u001b[36m(launch_and_evaluate pid=12696)\u001b[0m [Client 62] evaluate, config: {}\n"
          ]
        },
        {
          "name": "stderr",
          "output_type": "stream",
          "text": [
            "\u001b[2m\u001b[36m(launch_and_evaluate pid=12138)\u001b[0m E1023 00:34:05.327931845   12166 chttp2_transport.cc:1103]   Received a GOAWAY with error code ENHANCE_YOUR_CALM and debug data equal to \"too_many_pings\"\n"
          ]
        },
        {
          "name": "stdout",
          "output_type": "stream",
          "text": [
            "\u001b[2m\u001b[36m(launch_and_evaluate pid=12734)\u001b[0m Created client: 12\n",
            "\u001b[2m\u001b[36m(launch_and_evaluate pid=12734)\u001b[0m [Client 12] evaluate, config: {}\n"
          ]
        },
        {
          "name": "stderr",
          "output_type": "stream",
          "text": [
            "\u001b[2m\u001b[36m(launch_and_fit pid=12216)\u001b[0m E1023 00:34:11.405302627   12268 chttp2_transport.cc:1103]   Received a GOAWAY with error code ENHANCE_YOUR_CALM and debug data equal to \"too_many_pings\"\n"
          ]
        },
        {
          "name": "stdout",
          "output_type": "stream",
          "text": [
            "\u001b[2m\u001b[36m(launch_and_evaluate pid=12770)\u001b[0m Created client: 8\n",
            "\u001b[2m\u001b[36m(launch_and_evaluate pid=12770)\u001b[0m [Client 8] evaluate, config: {}\n"
          ]
        },
        {
          "name": "stderr",
          "output_type": "stream",
          "text": [
            "\u001b[2m\u001b[36m(launch_and_fit pid=12338)\u001b[0m E1023 00:34:17.348989448   12366 chttp2_transport.cc:1103]   Received a GOAWAY with error code ENHANCE_YOUR_CALM and debug data equal to \"too_many_pings\"\n"
          ]
        },
        {
          "name": "stdout",
          "output_type": "stream",
          "text": [
            "\u001b[2m\u001b[36m(launch_and_evaluate pid=12806)\u001b[0m Created client: 70\n"
          ]
        },
        {
          "name": "stderr",
          "output_type": "stream",
          "text": [
            "DEBUG flower 2022-10-23 00:34:22,564 | server.py:184 | evaluate_round 7 received 0 results and 5 failures\n",
            "DEBUG:flower:evaluate_round 7 received 0 results and 5 failures\n",
            "DEBUG flower 2022-10-23 00:34:22,566 | server.py:220 | fit_round 8: strategy sampled 5 clients (out of 100)\n",
            "DEBUG:flower:fit_round 8: strategy sampled 5 clients (out of 100)\n"
          ]
        },
        {
          "name": "stdout",
          "output_type": "stream",
          "text": [
            "\u001b[2m\u001b[36m(launch_and_evaluate pid=12806)\u001b[0m [Client 70] evaluate, config: {}\n"
          ]
        },
        {
          "name": "stderr",
          "output_type": "stream",
          "text": [
            "\u001b[2m\u001b[36m(launch_and_fit pid=12376)\u001b[0m E1023 00:34:30.360244995   12404 chttp2_transport.cc:1103]   Received a GOAWAY with error code ENHANCE_YOUR_CALM and debug data equal to \"too_many_pings\"\n",
            "\u001b[2m\u001b[36m(launch_and_fit pid=12410)\u001b[0m E1023 00:34:35.856039893   12438 chttp2_transport.cc:1103]   Received a GOAWAY with error code ENHANCE_YOUR_CALM and debug data equal to \"too_many_pings\"\n",
            "\u001b[2m\u001b[36m(launch_and_fit pid=12445)\u001b[0m E1023 00:34:39.822427437   12473 chttp2_transport.cc:1103]   Received a GOAWAY with error code ENHANCE_YOUR_CALM and debug data equal to \"too_many_pings\"\n"
          ]
        },
        {
          "name": "stdout",
          "output_type": "stream",
          "text": [
            "\u001b[2m\u001b[36m(launch_and_fit pid=13037)\u001b[0m Created client: 1\n",
            "\u001b[2m\u001b[36m(launch_and_fit pid=13037)\u001b[0m [Client 1, round 8] fit, config: {'server_round': 8, 'local_epochs': 30}\n",
            "\u001b[2m\u001b[36m(launch_and_fit pid=13037)\u001b[0m Entered train function, total num. of epochs: 30\n",
            "\u001b[2m\u001b[36m(launch_and_fit pid=13074)\u001b[0m Created client: 82\n",
            "\u001b[2m\u001b[36m(launch_and_fit pid=13074)\u001b[0m [Client 82, round 8] fit, config: {'server_round': 8, 'local_epochs': 30}\n",
            "\u001b[2m\u001b[36m(launch_and_fit pid=13074)\u001b[0m Entered train function, total num. of epochs: 30\n",
            "\u001b[2m\u001b[36m(launch_and_fit pid=13110)\u001b[0m Created client: 96\n",
            "\u001b[2m\u001b[36m(launch_and_fit pid=13110)\u001b[0m [Client 96, round 8] fit, config: {'server_round': 8, 'local_epochs': 30}\n",
            "\u001b[2m\u001b[36m(launch_and_fit pid=13110)\u001b[0m Entered train function, total num. of epochs: 30\n"
          ]
        },
        {
          "name": "stderr",
          "output_type": "stream",
          "text": [
            "DEBUG flower 2022-10-23 00:34:59,260 | server.py:234 | fit_round 8 received 0 results and 5 failures\n",
            "DEBUG:flower:fit_round 8 received 0 results and 5 failures\n",
            "INFO flower 2022-10-23 00:38:37,867 | server.py:122 | fit progress: (8, tensor(203.5591, device='cuda:0', dtype=torch.float64), {'mean_class_acc.': 90.7972177635099}, 4137.937989357001)\n",
            "INFO:flower:fit progress: (8, tensor(203.5591, device='cuda:0', dtype=torch.float64), {'mean_class_acc.': 90.7972177635099}, 4137.937989357001)\n",
            "DEBUG flower 2022-10-23 00:38:37,872 | server.py:170 | evaluate_round 8: strategy sampled 5 clients (out of 100)\n",
            "DEBUG:flower:evaluate_round 8: strategy sampled 5 clients (out of 100)\n"
          ]
        },
        {
          "name": "stdout",
          "output_type": "stream",
          "text": [
            "\n",
            "Server eval\n",
            "                Labels  Class Acc.\n",
            "0          Atelectasis   89.423934\n",
            "1         Cardiomegaly   96.682718\n",
            "2        Consolidation   95.416444\n",
            "3                Edema   93.668629\n",
            "4             Effusion   88.550027\n",
            "5            Emphysema   96.219012\n",
            "6             Fibrosis   96.112003\n",
            "7         Infiltration   79.828785\n",
            "8                 Mass   65.132870\n",
            "9               Nodule   93.757803\n",
            "10  Pleural_Thickening   96.183342\n",
            "11           Pneumonia   97.110754\n",
            "12        Pneumothorax   92.277510\n",
            "\n",
            "\n",
            "\u001b[2m\u001b[36m(launch_and_evaluate pid=13230)\u001b[0m Created client: 85\n",
            "\u001b[2m\u001b[36m(launch_and_evaluate pid=13230)\u001b[0m [Client 85] evaluate, config: {}\n"
          ]
        },
        {
          "name": "stderr",
          "output_type": "stream",
          "text": [
            "\u001b[2m\u001b[36m(launch_and_evaluate pid=12770)\u001b[0m E1023 00:38:52.361854714   12798 chttp2_transport.cc:1103]   Received a GOAWAY with error code ENHANCE_YOUR_CALM and debug data equal to \"too_many_pings\"\n"
          ]
        },
        {
          "name": "stdout",
          "output_type": "stream",
          "text": [
            "\u001b[2m\u001b[36m(launch_and_evaluate pid=13361)\u001b[0m Created client: 12\n",
            "\u001b[2m\u001b[36m(launch_and_evaluate pid=13361)\u001b[0m [Client 12] evaluate, config: {}\n"
          ]
        },
        {
          "name": "stderr",
          "output_type": "stream",
          "text": [
            "\u001b[2m\u001b[36m(launch_and_evaluate pid=12806)\u001b[0m E1023 00:38:58.366720507   12834 chttp2_transport.cc:1103]   Received a GOAWAY with error code ENHANCE_YOUR_CALM and debug data equal to \"too_many_pings\"\n"
          ]
        },
        {
          "name": "stdout",
          "output_type": "stream",
          "text": [
            "\u001b[2m\u001b[36m(launch_and_evaluate pid=13397)\u001b[0m Created client: 15\n",
            "\u001b[2m\u001b[36m(launch_and_evaluate pid=13397)\u001b[0m [Client 15] evaluate, config: {}\n"
          ]
        },
        {
          "name": "stderr",
          "output_type": "stream",
          "text": [
            "\u001b[2m\u001b[36m(launch_and_fit pid=12873)\u001b[0m E1023 00:39:04.535802514   12973 chttp2_transport.cc:1103]   Received a GOAWAY with error code ENHANCE_YOUR_CALM and debug data equal to \"too_many_pings\"\n",
            "\u001b[2m\u001b[36m(launch_and_fit pid=13003)\u001b[0m E1023 00:39:09.677732037   13031 chttp2_transport.cc:1103]   Received a GOAWAY with error code ENHANCE_YOUR_CALM and debug data equal to \"too_many_pings\"\n",
            "DEBUG flower 2022-10-23 00:39:13,067 | server.py:184 | evaluate_round 8 received 0 results and 5 failures\n",
            "DEBUG:flower:evaluate_round 8 received 0 results and 5 failures\n",
            "DEBUG flower 2022-10-23 00:39:13,071 | server.py:220 | fit_round 9: strategy sampled 5 clients (out of 100)\n",
            "DEBUG:flower:fit_round 9: strategy sampled 5 clients (out of 100)\n",
            "\u001b[2m\u001b[36m(launch_and_fit pid=13037)\u001b[0m E1023 00:39:21.980753322   13065 chttp2_transport.cc:1103]   Received a GOAWAY with error code ENHANCE_YOUR_CALM and debug data equal to \"too_many_pings\"\n"
          ]
        },
        {
          "name": "stdout",
          "output_type": "stream",
          "text": [
            "\u001b[2m\u001b[36m(launch_and_fit pid=13606)\u001b[0m Created client: 7\n",
            "\u001b[2m\u001b[36m(launch_and_fit pid=13606)\u001b[0m [Client 7, round 9] fit, config: {'server_round': 9, 'local_epochs': 30}\n",
            "\u001b[2m\u001b[36m(launch_and_fit pid=13606)\u001b[0m Entered train function, total num. of epochs: 30\n"
          ]
        },
        {
          "name": "stderr",
          "output_type": "stream",
          "text": [
            "\u001b[2m\u001b[36m(launch_and_fit pid=13074)\u001b[0m E1023 00:39:28.767019979   13102 chttp2_transport.cc:1103]   Received a GOAWAY with error code ENHANCE_YOUR_CALM and debug data equal to \"too_many_pings\"\n"
          ]
        },
        {
          "name": "stdout",
          "output_type": "stream",
          "text": [
            "\u001b[2m\u001b[36m(launch_and_fit pid=13667)\u001b[0m Created client: 39\n",
            "\u001b[2m\u001b[36m(launch_and_fit pid=13667)\u001b[0m [Client 39, round 9] fit, config: {'server_round': 9, 'local_epochs': 30}\n",
            "\u001b[2m\u001b[36m(launch_and_fit pid=13667)\u001b[0m Entered train function, total num. of epochs: 30\n"
          ]
        },
        {
          "name": "stderr",
          "output_type": "stream",
          "text": [
            "\u001b[2m\u001b[36m(launch_and_fit pid=13110)\u001b[0m E1023 00:39:35.493929586   13139 chttp2_transport.cc:1103]   Received a GOAWAY with error code ENHANCE_YOUR_CALM and debug data equal to \"too_many_pings\"\n"
          ]
        },
        {
          "name": "stdout",
          "output_type": "stream",
          "text": [
            "\u001b[2m\u001b[36m(launch_and_fit pid=13705)\u001b[0m Created client: 84\n",
            "\u001b[2m\u001b[36m(launch_and_fit pid=13705)\u001b[0m [Client 84, round 9] fit, config: {'server_round': 9, 'local_epochs': 30}\n",
            "\u001b[2m\u001b[36m(launch_and_fit pid=13705)\u001b[0m Entered train function, total num. of epochs: 30\n",
            "\u001b[2m\u001b[36m(launch_and_fit pid=13742)\u001b[0m Created client: 3\n",
            "\u001b[2m\u001b[36m(launch_and_fit pid=13742)\u001b[0m [Client 3, round 9] fit, config: {'server_round': 9, 'local_epochs': 30}\n",
            "\u001b[2m\u001b[36m(launch_and_fit pid=13742)\u001b[0m Entered train function, total num. of epochs: 30\n",
            "\u001b[2m\u001b[36m(launch_and_fit pid=13779)\u001b[0m Created client: 18\n",
            "\u001b[2m\u001b[36m(launch_and_fit pid=13779)\u001b[0m [Client 18, round 9] fit, config: {'server_round': 9, 'local_epochs': 30}\n",
            "\u001b[2m\u001b[36m(launch_and_fit pid=13779)\u001b[0m Entered train function, total num. of epochs: 30\n"
          ]
        },
        {
          "name": "stderr",
          "output_type": "stream",
          "text": [
            "DEBUG flower 2022-10-23 00:39:55,036 | server.py:234 | fit_round 9 received 0 results and 5 failures\n",
            "DEBUG:flower:fit_round 9 received 0 results and 5 failures\n",
            "INFO flower 2022-10-23 00:43:33,955 | server.py:122 | fit progress: (9, tensor(203.5880, device='cuda:0', dtype=torch.float64), {'mean_class_acc.': 90.81368070132115}, 4434.026296934001)\n",
            "INFO:flower:fit progress: (9, tensor(203.5880, device='cuda:0', dtype=torch.float64), {'mean_class_acc.': 90.81368070132115}, 4434.026296934001)\n",
            "DEBUG flower 2022-10-23 00:43:33,962 | server.py:170 | evaluate_round 9: strategy sampled 5 clients (out of 100)\n",
            "DEBUG:flower:evaluate_round 9: strategy sampled 5 clients (out of 100)\n"
          ]
        },
        {
          "name": "stdout",
          "output_type": "stream",
          "text": [
            "\n",
            "Server eval\n",
            "                Labels  Class Acc.\n",
            "0          Atelectasis   89.548778\n",
            "1         Cardiomegaly   96.825397\n",
            "2        Consolidation   95.541288\n",
            "3                Edema   93.739968\n",
            "4             Effusion   88.585696\n",
            "5            Emphysema   96.433030\n",
            "6             Fibrosis   96.272516\n",
            "7         Infiltration   79.900125\n",
            "8                 Mass   64.883182\n",
            "9               Nodule   93.739968\n",
            "10  Pleural_Thickening   96.272516\n",
            "11           Pneumonia   96.754057\n",
            "12        Pneumothorax   92.081327\n",
            "\n",
            "\n",
            "\u001b[2m\u001b[36m(launch_and_evaluate pid=13921)\u001b[0m Created client: 56\n",
            "\u001b[2m\u001b[36m(launch_and_evaluate pid=13921)\u001b[0m [Client 56] evaluate, config: {}\n"
          ]
        },
        {
          "name": "stderr",
          "output_type": "stream",
          "text": [
            "\u001b[2m\u001b[36m(launch_and_evaluate pid=13434)\u001b[0m E1023 00:43:47.786192182   13462 chttp2_transport.cc:1103]   Received a GOAWAY with error code ENHANCE_YOUR_CALM and debug data equal to \"too_many_pings\"\n",
            "\u001b[2m\u001b[36m(launch_and_evaluate pid=13470)\u001b[0m E1023 00:43:53.178601479   13498 chttp2_transport.cc:1103]   Received a GOAWAY with error code ENHANCE_YOUR_CALM and debug data equal to \"too_many_pings\"\n",
            "\u001b[2m\u001b[36m(launch_and_fit pid=13606)\u001b[0m E1023 00:43:57.425442947   13634 chttp2_transport.cc:1103]   Received a GOAWAY with error code ENHANCE_YOUR_CALM and debug data equal to \"too_many_pings\"\n"
          ]
        },
        {
          "name": "stdout",
          "output_type": "stream",
          "text": [
            "\u001b[2m\u001b[1m\u001b[33m(scheduler +1h23m6s)\u001b[0m Warning: The following resource request cannot be scheduled right now: {'CPU': 1.0, 'GPU': 1.0}. This is likely due to all cluster resources being claimed by actors. Consider creating fewer actors or adding more nodes to this Ray cluster.\n",
            "\u001b[2m\u001b[36m(launch_and_evaluate pid=14096)\u001b[0m Created client: 94\n",
            "\u001b[2m\u001b[36m(launch_and_evaluate pid=14096)\u001b[0m [Client 94] evaluate, config: {}\n"
          ]
        },
        {
          "name": "stderr",
          "output_type": "stream",
          "text": [
            "\u001b[2m\u001b[36m(launch_and_fit pid=13667)\u001b[0m E1023 00:44:03.545955256   13696 chttp2_transport.cc:1103]   Received a GOAWAY with error code ENHANCE_YOUR_CALM and debug data equal to \"too_many_pings\"\n"
          ]
        },
        {
          "name": "stdout",
          "output_type": "stream",
          "text": [
            "\u001b[2m\u001b[36m(launch_and_evaluate pid=14132)\u001b[0m Created client: 61\n"
          ]
        },
        {
          "name": "stderr",
          "output_type": "stream",
          "text": [
            "DEBUG flower 2022-10-23 00:44:08,443 | server.py:184 | evaluate_round 9 received 0 results and 5 failures\n",
            "DEBUG:flower:evaluate_round 9 received 0 results and 5 failures\n",
            "DEBUG flower 2022-10-23 00:44:08,447 | server.py:220 | fit_round 10: strategy sampled 5 clients (out of 100)\n",
            "DEBUG:flower:fit_round 10: strategy sampled 5 clients (out of 100)\n"
          ]
        },
        {
          "name": "stdout",
          "output_type": "stream",
          "text": [
            "\u001b[2m\u001b[36m(launch_and_evaluate pid=14132)\u001b[0m [Client 61] evaluate, config: {}\n"
          ]
        },
        {
          "name": "stderr",
          "output_type": "stream",
          "text": [
            "\u001b[2m\u001b[36m(launch_and_fit pid=13705)\u001b[0m E1023 00:44:16.646012270   13733 chttp2_transport.cc:1103]   Received a GOAWAY with error code ENHANCE_YOUR_CALM and debug data equal to \"too_many_pings\"\n"
          ]
        },
        {
          "name": "stdout",
          "output_type": "stream",
          "text": [
            "\u001b[2m\u001b[36m(launch_and_fit pid=14237)\u001b[0m Created client: 35\n",
            "\u001b[2m\u001b[36m(launch_and_fit pid=14237)\u001b[0m [Client 35, round 10] fit, config: {'server_round': 10, 'local_epochs': 30}\n",
            "\u001b[2m\u001b[36m(launch_and_fit pid=14237)\u001b[0m Entered train function, total num. of epochs: 30\n"
          ]
        },
        {
          "name": "stderr",
          "output_type": "stream",
          "text": [
            "\u001b[2m\u001b[36m(launch_and_fit pid=13742)\u001b[0m E1023 00:44:23.610466345   13770 chttp2_transport.cc:1103]   Received a GOAWAY with error code ENHANCE_YOUR_CALM and debug data equal to \"too_many_pings\"\n"
          ]
        },
        {
          "name": "stdout",
          "output_type": "stream",
          "text": [
            "\u001b[2m\u001b[36m(launch_and_fit pid=14334)\u001b[0m Created client: 81\n",
            "\u001b[2m\u001b[36m(launch_and_fit pid=14334)\u001b[0m [Client 81, round 10] fit, config: {'server_round': 10, 'local_epochs': 30}\n",
            "\u001b[2m\u001b[36m(launch_and_fit pid=14334)\u001b[0m Entered train function, total num. of epochs: 30\n"
          ]
        },
        {
          "name": "stderr",
          "output_type": "stream",
          "text": [
            "\u001b[2m\u001b[36m(launch_and_fit pid=13779)\u001b[0m E1023 00:44:30.470995255   13807 chttp2_transport.cc:1103]   Received a GOAWAY with error code ENHANCE_YOUR_CALM and debug data equal to \"too_many_pings\"\n"
          ]
        },
        {
          "name": "stdout",
          "output_type": "stream",
          "text": [
            "\u001b[2m\u001b[36m(launch_and_fit pid=14372)\u001b[0m Created client: 62\n",
            "\u001b[2m\u001b[36m(launch_and_fit pid=14372)\u001b[0m [Client 62, round 10] fit, config: {'server_round': 10, 'local_epochs': 30}\n",
            "\u001b[2m\u001b[36m(launch_and_fit pid=14372)\u001b[0m Entered train function, total num. of epochs: 30\n",
            "\u001b[2m\u001b[1m\u001b[33m(scheduler +1h23m46s)\u001b[0m Warning: The following resource request cannot be scheduled right now: {'CPU': 1.0, 'GPU': 1.0}. This is likely due to all cluster resources being claimed by actors. Consider creating fewer actors or adding more nodes to this Ray cluster.\n",
            "\u001b[2m\u001b[36m(launch_and_fit pid=14409)\u001b[0m Created client: 66\n",
            "\u001b[2m\u001b[36m(launch_and_fit pid=14409)\u001b[0m [Client 66, round 10] fit, config: {'server_round': 10, 'local_epochs': 30}\n",
            "\u001b[2m\u001b[36m(launch_and_fit pid=14409)\u001b[0m Entered train function, total num. of epochs: 30\n"
          ]
        },
        {
          "name": "stderr",
          "output_type": "stream",
          "text": [
            "DEBUG flower 2022-10-23 00:44:48,652 | server.py:234 | fit_round 10 received 0 results and 5 failures\n",
            "DEBUG:flower:fit_round 10 received 0 results and 5 failures\n",
            "INFO flower 2022-10-23 00:48:28,835 | server.py:122 | fit progress: (10, tensor(203.3237, device='cuda:0', dtype=torch.float64), {'mean_class_acc.': 90.84660657694366}, 4728.9061773309995)\n",
            "INFO:flower:fit progress: (10, tensor(203.3237, device='cuda:0', dtype=torch.float64), {'mean_class_acc.': 90.84660657694366}, 4728.9061773309995)\n",
            "DEBUG flower 2022-10-23 00:48:28,841 | server.py:170 | evaluate_round 10: strategy sampled 5 clients (out of 100)\n",
            "DEBUG:flower:evaluate_round 10: strategy sampled 5 clients (out of 100)\n"
          ]
        },
        {
          "name": "stdout",
          "output_type": "stream",
          "text": [
            "\n",
            "Server eval\n",
            "                Labels  Class Acc.\n",
            "0          Atelectasis   89.406100\n",
            "1         Cardiomegaly   96.825397\n",
            "2        Consolidation   95.666132\n",
            "3                Edema   93.525950\n",
            "4             Effusion   88.478687\n",
            "5            Emphysema   96.236847\n",
            "6             Fibrosis   96.147673\n",
            "7         Infiltration   80.203317\n",
            "8                 Mass   65.097200\n",
            "9               Nodule   93.811307\n",
            "10  Pleural_Thickening   96.415195\n",
            "11           Pneumonia   96.861067\n",
            "12        Pneumothorax   92.331015\n",
            "\n",
            "\n"
          ]
        },
        {
          "name": "stderr",
          "output_type": "stream",
          "text": [
            "\u001b[2m\u001b[36m(launch_and_evaluate pid=14062)\u001b[0m E1023 00:48:36.354447384   14090 chttp2_transport.cc:1103]   Received a GOAWAY with error code ENHANCE_YOUR_CALM and debug data equal to \"too_many_pings\"\n",
            "\u001b[2m\u001b[36m(launch_and_evaluate pid=14096)\u001b[0m E1023 00:48:40.516335951   14124 chttp2_transport.cc:1103]   Received a GOAWAY with error code ENHANCE_YOUR_CALM and debug data equal to \"too_many_pings\"\n"
          ]
        },
        {
          "name": "stdout",
          "output_type": "stream",
          "text": [
            "\u001b[2m\u001b[36m(launch_and_evaluate pid=14704)\u001b[0m Created client: 1\n",
            "\u001b[2m\u001b[36m(launch_and_evaluate pid=14704)\u001b[0m [Client 1] evaluate, config: {}\n"
          ]
        },
        {
          "name": "stderr",
          "output_type": "stream",
          "text": [
            "\u001b[2m\u001b[36m(launch_and_evaluate pid=14132)\u001b[0m E1023 00:48:46.514070343   14160 chttp2_transport.cc:1103]   Received a GOAWAY with error code ENHANCE_YOUR_CALM and debug data equal to \"too_many_pings\"\n"
          ]
        },
        {
          "name": "stdout",
          "output_type": "stream",
          "text": [
            "\u001b[2m\u001b[36m(launch_and_evaluate pid=14740)\u001b[0m Created client: 85\n",
            "\u001b[2m\u001b[36m(launch_and_evaluate pid=14740)\u001b[0m [Client 85] evaluate, config: {}\n"
          ]
        },
        {
          "name": "stderr",
          "output_type": "stream",
          "text": [
            "\u001b[2m\u001b[36m(launch_and_fit pid=14237)\u001b[0m E1023 00:48:52.532933553   14283 chttp2_transport.cc:1103]   Received a GOAWAY with error code ENHANCE_YOUR_CALM and debug data equal to \"too_many_pings\"\n"
          ]
        },
        {
          "name": "stdout",
          "output_type": "stream",
          "text": [
            "\u001b[2m\u001b[36m(launch_and_evaluate pid=14776)\u001b[0m Created client: 71\n",
            "\u001b[2m\u001b[36m(launch_and_evaluate pid=14776)\u001b[0m [Client 71] evaluate, config: {}\n"
          ]
        },
        {
          "name": "stderr",
          "output_type": "stream",
          "text": [
            "\u001b[2m\u001b[36m(launch_and_fit pid=14334)\u001b[0m E1023 00:48:58.538116946   14362 chttp2_transport.cc:1103]   Received a GOAWAY with error code ENHANCE_YOUR_CALM and debug data equal to \"too_many_pings\"\n"
          ]
        },
        {
          "name": "stdout",
          "output_type": "stream",
          "text": [
            "\u001b[2m\u001b[36m(launch_and_evaluate pid=14812)\u001b[0m Created client: 59\n"
          ]
        },
        {
          "name": "stderr",
          "output_type": "stream",
          "text": [
            "DEBUG flower 2022-10-23 00:49:03,693 | server.py:184 | evaluate_round 10 received 0 results and 5 failures\n",
            "DEBUG:flower:evaluate_round 10 received 0 results and 5 failures\n",
            "INFO flower 2022-10-23 00:49:03,697 | server.py:144 | FL finished in 4763.767980044001\n",
            "INFO:flower:FL finished in 4763.767980044001\n",
            "INFO flower 2022-10-23 00:49:03,703 | app.py:180 | app_fit: losses_distributed []\n",
            "INFO:flower:app_fit: losses_distributed []\n",
            "INFO flower 2022-10-23 00:49:03,705 | app.py:181 | app_fit: metrics_distributed {}\n",
            "INFO:flower:app_fit: metrics_distributed {}\n",
            "INFO flower 2022-10-23 00:49:03,716 | app.py:182 | app_fit: losses_centralized [(0, tensor(223.4551, device='cuda:0', dtype=torch.float64)), (1, tensor(204.3126, device='cuda:0', dtype=torch.float64)), (2, tensor(203.3134, device='cuda:0', dtype=torch.float64)), (3, tensor(203.4800, device='cuda:0', dtype=torch.float64)), (4, tensor(203.3773, device='cuda:0', dtype=torch.float64)), (5, tensor(203.3168, device='cuda:0', dtype=torch.float64)), (6, tensor(203.6063, device='cuda:0', dtype=torch.float64)), (7, tensor(203.4517, device='cuda:0', dtype=torch.float64)), (8, tensor(203.5591, device='cuda:0', dtype=torch.float64)), (9, tensor(203.5880, device='cuda:0', dtype=torch.float64)), (10, tensor(203.3237, device='cuda:0', dtype=torch.float64))]\n",
            "INFO:flower:app_fit: losses_centralized [(0, tensor(223.4551, device='cuda:0', dtype=torch.float64)), (1, tensor(204.3126, device='cuda:0', dtype=torch.float64)), (2, tensor(203.3134, device='cuda:0', dtype=torch.float64)), (3, tensor(203.4800, device='cuda:0', dtype=torch.float64)), (4, tensor(203.3773, device='cuda:0', dtype=torch.float64)), (5, tensor(203.3168, device='cuda:0', dtype=torch.float64)), (6, tensor(203.6063, device='cuda:0', dtype=torch.float64)), (7, tensor(203.4517, device='cuda:0', dtype=torch.float64)), (8, tensor(203.5591, device='cuda:0', dtype=torch.float64)), (9, tensor(203.5880, device='cuda:0', dtype=torch.float64)), (10, tensor(203.3237, device='cuda:0', dtype=torch.float64))]\n",
            "INFO flower 2022-10-23 00:49:03,718 | app.py:183 | app_fit: metrics_centralized {'mean_class_acc.': [(0, 50.833436226694644), (1, 91.9578548792032), (2, 90.77526717976156), (3, 90.82054025874251), (4, 90.81779643577397), (5, 90.87267289514482), (6, 90.8356312850695), (7, 90.83837510803802), (8, 90.7972177635099), (9, 90.81368070132115), (10, 90.84660657694366)]}\n",
            "INFO:flower:app_fit: metrics_centralized {'mean_class_acc.': [(0, 50.833436226694644), (1, 91.9578548792032), (2, 90.77526717976156), (3, 90.82054025874251), (4, 90.81779643577397), (5, 90.87267289514482), (6, 90.8356312850695), (7, 90.83837510803802), (8, 90.7972177635099), (9, 90.81368070132115), (10, 90.84660657694366)]}\n"
          ]
        },
        {
          "name": "stdout",
          "output_type": "stream",
          "text": [
            "\u001b[2m\u001b[36m(launch_and_evaluate pid=14812)\u001b[0m [Client 59] evaluate, config: {}\n"
          ]
        },
        {
          "data": {
            "text/plain": [
              "History (loss, centralized):\n",
              "\tround 0: 223.45512947997756\n",
              "\tround 1: 204.31259566194032\n",
              "\tround 2: 203.31344774777983\n",
              "\tround 3: 203.47996789953805\n",
              "\tround 4: 203.3773132904075\n",
              "\tround 5: 203.3167755084395\n",
              "\tround 6: 203.60628504297932\n",
              "\tround 7: 203.45169279565297\n",
              "\tround 8: 203.55913607907542\n",
              "\tround 9: 203.5880096568752\n",
              "\tround 10: 203.32374443204128\n",
              "History (metrics, centralized):\n",
              "{'mean_class_acc.': [(0, 50.833436226694644), (1, 91.9578548792032), (2, 90.77526717976156), (3, 90.82054025874251), (4, 90.81779643577397), (5, 90.87267289514482), (6, 90.8356312850695), (7, 90.83837510803802), (8, 90.7972177635099), (9, 90.81368070132115), (10, 90.84660657694366)]}"
            ]
          },
          "execution_count": 22,
          "metadata": {},
          "output_type": "execute_result"
        }
      ],
      "source": [
        "num_rounds = 10\n",
        "local_epochs = 30\n",
        "fraction_fit = 0.05\n",
        "fraction_evaluate = 0.05\n",
        "min_fit_clients = 4\n",
        "min_evaluate_clients = 4\n",
        "\n",
        "client_resources = {\n",
        "    \"num_cpus\": 1,\n",
        "    \"num_gpus\": 1\n",
        "    }\n",
        "\n",
        "def fit_config(server_round: int):    \n",
        "    config = {\n",
        "        \"server_round\": server_round,\n",
        "        \"local_epochs\": local_epochs,\n",
        "    }\n",
        "    return config\n",
        "\n",
        "# Create an instance of the model and get the parameters\n",
        "net = init_net()\n",
        "params = get_parameters(init_net())\n",
        "\n",
        "# Pass parameters to the Strategy for server-side parameter initialization\n",
        "strategy = fl.server.strategy.FedAvg(\n",
        "    fraction_fit=fraction_fit,\n",
        "    fraction_evaluate=fraction_evaluate,\n",
        "    min_fit_clients=min_fit_clients,\n",
        "    min_evaluate_clients=min_evaluate_clients,\n",
        "    min_available_clients=num_clients,\n",
        "    initial_parameters=fl.common.ndarrays_to_parameters(params),\n",
        "    evaluate_fn=server_eval,\n",
        "    on_fit_config_fn=fit_config,\n",
        ")\n",
        "\n",
        "# Start simulation\n",
        "fl.simulation.start_simulation(\n",
        "    client_fn=client_fn,\n",
        "    num_clients=num_clients,\n",
        "    client_resources=client_resources,\n",
        "    config=fl.server.ServerConfig(num_rounds=num_rounds),\n",
        "    strategy=strategy,\n",
        ")"
      ]
    }
  ],
  "metadata": {
    "accelerator": "GPU",
    "colab": {
      "collapsed_sections": [],
      "machine_shape": "hm",
      "provenance": []
    },
    "gpuClass": "premium",
    "kernelspec": {
      "display_name": "Python 3.10.6 64-bit",
      "language": "python",
      "name": "python3"
    },
    "language_info": {
      "name": "python",
      "version": "3.10.6"
    },
    "vscode": {
      "interpreter": {
        "hash": "31f2aee4e71d21fbe5cf8b01ff0e069b9275f58929596ceb00d14d90e3e16cd6"
      }
    }
  },
  "nbformat": 4,
  "nbformat_minor": 0
}
