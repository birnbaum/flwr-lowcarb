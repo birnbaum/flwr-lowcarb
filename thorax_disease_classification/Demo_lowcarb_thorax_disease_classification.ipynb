{
  "cells": [
    {
      "cell_type": "markdown",
      "metadata": {
        "id": "FLU2v46A66u2"
      },
      "source": [
        "# LowCarb thorax disease classification in Flower"
      ]
    },
    {
      "cell_type": "code",
      "source": [
        "# Download & Unzip data.zip, create data set directory, needs to be done using kaggle, etc.\n",
        "!mkdir NIH\n",
        "# In order for this command to work, make sure your api token \"kaggle.json\" resides in /root/.kaggle/\n",
        "!kaggle datasets download -d nih-chest-xrays/data\n",
        "!unzip -q '/content/data.zip' -d '/content/NIH/'\n",
        "!rm '/content/data.zip'"
      ],
      "metadata": {
        "id": "9wKqwJpR45a3"
      },
      "execution_count": 9,
      "outputs": []
    },
    {
      "cell_type": "code",
      "source": [
        "# Download & Unzip OpenAPI client\n",
        "!gdown --fuzzy https://drive.google.com/file/d/1RBLe-57mf6N-K7z-nfl8PGP9fvrj3ed8/view?usp=sharing\n",
        "!unzip -q '/content/python_openapi_client.zip' -d '/content/openapi_client'\n",
        "!rm '/content/python_openapi_client.zip'"
      ],
      "metadata": {
        "id": "OPC8RsyZIxbA",
        "colab": {
          "base_uri": "https://localhost:8080/"
        },
        "outputId": "81409493-b567-4719-b468-4f7f0a381d84"
      },
      "execution_count": 2,
      "outputs": [
        {
          "output_type": "stream",
          "name": "stdout",
          "text": [
            "Downloading...\n",
            "From: https://drive.google.com/uc?id=1RBLe-57mf6N-K7z-nfl8PGP9fvrj3ed8\n",
            "To: /content/python_openapi_client.zip\n",
            "\r  0% 0.00/267k [00:00<?, ?B/s]\r100% 267k/267k [00:00<00:00, 106MB/s]\n"
          ]
        }
      ]
    },
    {
      "cell_type": "code",
      "source": [
        "# Copy SSH key to access carbonhack22 GitHub repo -> Will be unnecessary when repo gets public\n",
        "!cp -r /content/drive/MyDrive/carbonhack22/.ssh ~/\n",
        "!git clone git@github.com:birnbaum/carbonhack22.git"
      ],
      "metadata": {
        "colab": {
          "base_uri": "https://localhost:8080/"
        },
        "id": "rcBlmt3rNk6g",
        "outputId": "2d0dac00-4a38-4c3d-b86e-30b8ef03d9ab"
      },
      "execution_count": 12,
      "outputs": [
        {
          "output_type": "stream",
          "name": "stdout",
          "text": [
            "Cloning into 'carbonhack22'...\n",
            "Warning: Permanently added the RSA host key for IP address '20.205.243.166' to the list of known hosts.\n",
            "remote: Enumerating objects: 353, done.\u001b[K\n",
            "remote: Counting objects: 100% (31/31), done.\u001b[K\n",
            "remote: Compressing objects: 100% (27/27), done.\u001b[K\n",
            "remote: Total 353 (delta 10), reused 16 (delta 4), pack-reused 322\u001b[K\n",
            "Receiving objects: 100% (353/353), 1.48 MiB | 1.27 MiB/s, done.\n",
            "Resolving deltas: 100% (169/169), done.\n"
          ]
        }
      ]
    },
    {
      "cell_type": "code",
      "execution_count": 13,
      "metadata": {
        "id": "F46L3o7hWUEt",
        "colab": {
          "base_uri": "https://localhost:8080/"
        },
        "outputId": "51736078-1858-43b0-e67f-8cb023d19a4b"
      },
      "outputs": [
        {
          "output_type": "stream",
          "name": "stdout",
          "text": [
            "/content/carbonhack22\n"
          ]
        }
      ],
      "source": [
        "%cd carbonhack22"
      ]
    },
    {
      "cell_type": "markdown",
      "metadata": {
        "id": "vHtLCCz2NWC3"
      },
      "source": [
        "## Check GPU availability"
      ]
    },
    {
      "cell_type": "code",
      "execution_count": 1,
      "metadata": {
        "colab": {
          "base_uri": "https://localhost:8080/"
        },
        "id": "4mKwZQyyLwUv",
        "outputId": "74a9fac3-8093-43c4-e5b0-c43a6adb100d"
      },
      "outputs": [
        {
          "output_type": "stream",
          "name": "stdout",
          "text": [
            "Thu Oct 27 13:12:48 2022       \n",
            "+-----------------------------------------------------------------------------+\n",
            "| NVIDIA-SMI 460.32.03    Driver Version: 460.32.03    CUDA Version: 11.2     |\n",
            "|-------------------------------+----------------------+----------------------+\n",
            "| GPU  Name        Persistence-M| Bus-Id        Disp.A | Volatile Uncorr. ECC |\n",
            "| Fan  Temp  Perf  Pwr:Usage/Cap|         Memory-Usage | GPU-Util  Compute M. |\n",
            "|                               |                      |               MIG M. |\n",
            "|===============================+======================+======================|\n",
            "|   0  Tesla T4            Off  | 00000000:00:04.0 Off |                    0 |\n",
            "| N/A   45C    P8     9W /  70W |      0MiB / 15109MiB |      0%      Default |\n",
            "|                               |                      |                  N/A |\n",
            "+-------------------------------+----------------------+----------------------+\n",
            "                                                                               \n",
            "+-----------------------------------------------------------------------------+\n",
            "| Processes:                                                                  |\n",
            "|  GPU   GI   CI        PID   Type   Process name                  GPU Memory |\n",
            "|        ID   ID                                                   Usage      |\n",
            "|=============================================================================|\n",
            "|  No running processes found                                                 |\n",
            "+-----------------------------------------------------------------------------+\n"
          ]
        }
      ],
      "source": [
        "gpu_info = !nvidia-smi\n",
        "gpu_info = '\\n'.join(gpu_info)\n",
        "if gpu_info.find('failed') >= 0:\n",
        "  print('Not connected to a GPU')\n",
        "else:\n",
        "  print(gpu_info)"
      ]
    },
    {
      "cell_type": "markdown",
      "metadata": {
        "id": "8CowQiKO63e8"
      },
      "source": [
        "## Install packages"
      ]
    },
    {
      "cell_type": "code",
      "execution_count": 15,
      "metadata": {
        "id": "lHXOfCIZ6vey",
        "colab": {
          "base_uri": "https://localhost:8080/"
        },
        "outputId": "c254ed42-fad6-464b-b2d5-3225b920ca0b"
      },
      "outputs": [
        {
          "output_type": "stream",
          "name": "stdout",
          "text": [
            "\u001b[K     |████████████████████████████████| 90 kB 8.8 MB/s \n",
            "\u001b[K     |████████████████████████████████| 1.0 MB 89.7 MB/s \n",
            "\u001b[K     |████████████████████████████████| 54.5 MB 286 kB/s \n",
            "\u001b[K     |████████████████████████████████| 4.1 MB 57.3 MB/s \n",
            "\u001b[K     |████████████████████████████████| 8.8 MB 78.0 MB/s \n",
            "\u001b[K     |████████████████████████████████| 201 kB 71.2 MB/s \n",
            "\u001b[K     |████████████████████████████████| 90 kB 10.6 MB/s \n",
            "\u001b[K     |████████████████████████████████| 3.0 MB 79.9 MB/s \n",
            "\u001b[K     |████████████████████████████████| 57 kB 5.8 MB/s \n",
            "\u001b[K     |████████████████████████████████| 128 kB 72.4 MB/s \n",
            "\u001b[K     |████████████████████████████████| 291 kB 99.8 MB/s \n",
            "\u001b[K     |████████████████████████████████| 58 kB 6.9 MB/s \n",
            "\u001b[K     |████████████████████████████████| 468 kB 83.5 MB/s \n",
            "\u001b[?25h  Building wheel for gpustat (setup.py) ... \u001b[?25l\u001b[?25hdone\n",
            "\u001b[31mERROR: pip's dependency resolver does not currently take into account all the packages that are installed. This behaviour is the source of the following dependency conflicts.\n",
            "tensorflow 2.9.2 requires protobuf<3.20,>=3.9.2, but you have protobuf 3.20.3 which is incompatible.\n",
            "tensorboard 2.9.1 requires protobuf<3.20,>=3.9.2, but you have protobuf 3.20.3 which is incompatible.\u001b[0m\n"
          ]
        }
      ],
      "source": [
        "!pip install -q flwr[simulation]"
      ]
    },
    {
      "cell_type": "code",
      "source": [
        "!pip install -r requirements.txt"
      ],
      "metadata": {
        "colab": {
          "base_uri": "https://localhost:8080/",
          "height": 1000
        },
        "id": "Xqw4PFOXH8iD",
        "outputId": "b1cdfc48-e0b8-42e7-e544-a0a9f780ac92"
      },
      "execution_count": 16,
      "outputs": [
        {
          "output_type": "stream",
          "name": "stdout",
          "text": [
            "Looking in indexes: https://pypi.org/simple, https://us-python.pkg.dev/colab-wheels/public/simple/\n",
            "Processing ./carbon_sdk_client\n",
            "\u001b[33m  DEPRECATION: A future pip version will change local packages to be built in-place without first copying to a temporary directory. We recommend you use --use-feature=in-tree-build to test your packages with this new behavior before it becomes the default.\n",
            "   pip 21.3 will remove support for this functionality. You can find discussion regarding this at https://github.com/pypa/pip/issues/7555.\u001b[0m\n",
            "Requirement already satisfied: pandas in /usr/local/lib/python3.7/dist-packages (from -r requirements.txt (line 2)) (1.3.5)\n",
            "Collecting jupyterlab\n",
            "  Downloading jupyterlab-3.5.0-py3-none-any.whl (8.8 MB)\n",
            "\u001b[K     |████████████████████████████████| 8.8 MB 22.7 MB/s \n",
            "\u001b[?25hRequirement already satisfied: matplotlib in /usr/local/lib/python3.7/dist-packages (from -r requirements.txt (line 4)) (3.2.2)\n",
            "Requirement already satisfied: seaborn in /usr/local/lib/python3.7/dist-packages (from -r requirements.txt (line 5)) (0.11.2)\n",
            "Requirement already satisfied: flwr in /usr/local/lib/python3.7/dist-packages (from -r requirements.txt (line 8)) (1.0.0)\n",
            "Collecting urllib3>=1.25.3\n",
            "  Downloading urllib3-1.26.12-py2.py3-none-any.whl (140 kB)\n",
            "\u001b[K     |████████████████████████████████| 140 kB 92.5 MB/s \n",
            "\u001b[?25hRequirement already satisfied: python-dateutil in /usr/local/lib/python3.7/dist-packages (from openapi-client==1.0.0->-r requirements.txt (line 10)) (2.8.2)\n",
            "Requirement already satisfied: numpy>=1.17.3 in /usr/local/lib/python3.7/dist-packages (from pandas->-r requirements.txt (line 2)) (1.21.6)\n",
            "Requirement already satisfied: pytz>=2017.3 in /usr/local/lib/python3.7/dist-packages (from pandas->-r requirements.txt (line 2)) (2022.5)\n",
            "Requirement already satisfied: six>=1.5 in /usr/local/lib/python3.7/dist-packages (from python-dateutil->openapi-client==1.0.0->-r requirements.txt (line 10)) (1.15.0)\n",
            "Requirement already satisfied: jupyter-core in /usr/local/lib/python3.7/dist-packages (from jupyterlab->-r requirements.txt (line 3)) (4.11.2)\n",
            "Collecting jupyterlab-server~=2.10\n",
            "  Downloading jupyterlab_server-2.16.1-py3-none-any.whl (54 kB)\n",
            "\u001b[K     |████████████████████████████████| 54 kB 2.3 MB/s \n",
            "\u001b[?25hCollecting nbclassic\n",
            "  Downloading nbclassic-0.4.7-py3-none-any.whl (9.8 MB)\n",
            "\u001b[K     |████████████████████████████████| 9.8 MB 79.2 MB/s \n",
            "\u001b[?25hRequirement already satisfied: notebook<7 in /usr/local/lib/python3.7/dist-packages (from jupyterlab->-r requirements.txt (line 3)) (5.5.0)\n",
            "Collecting jupyter-server<3,>=1.16.0\n",
            "  Downloading jupyter_server-1.21.0-py3-none-any.whl (346 kB)\n",
            "\u001b[K     |████████████████████████████████| 346 kB 84.5 MB/s \n",
            "\u001b[?25hRequirement already satisfied: tomli in /usr/local/lib/python3.7/dist-packages (from jupyterlab->-r requirements.txt (line 3)) (2.0.1)\n",
            "Requirement already satisfied: packaging in /usr/local/lib/python3.7/dist-packages (from jupyterlab->-r requirements.txt (line 3)) (21.3)\n",
            "Requirement already satisfied: jinja2>=2.1 in /usr/local/lib/python3.7/dist-packages (from jupyterlab->-r requirements.txt (line 3)) (2.11.3)\n",
            "Collecting tornado>=6.1.0\n",
            "  Downloading tornado-6.2-cp37-abi3-manylinux_2_5_x86_64.manylinux1_x86_64.manylinux_2_17_x86_64.manylinux2014_x86_64.whl (423 kB)\n",
            "\u001b[K     |████████████████████████████████| 423 kB 86.6 MB/s \n",
            "\u001b[?25hRequirement already satisfied: ipython in /usr/local/lib/python3.7/dist-packages (from jupyterlab->-r requirements.txt (line 3)) (7.9.0)\n",
            "Requirement already satisfied: MarkupSafe>=0.23 in /usr/local/lib/python3.7/dist-packages (from jinja2>=2.1->jupyterlab->-r requirements.txt (line 3)) (2.0.1)\n",
            "Collecting nbconvert>=6.4.4\n",
            "  Downloading nbconvert-7.2.2-py3-none-any.whl (271 kB)\n",
            "\u001b[K     |████████████████████████████████| 271 kB 86.6 MB/s \n",
            "\u001b[?25hRequirement already satisfied: pyzmq>=17 in /usr/local/lib/python3.7/dist-packages (from jupyter-server<3,>=1.16.0->jupyterlab->-r requirements.txt (line 3)) (23.2.1)\n",
            "Collecting websocket-client\n",
            "  Downloading websocket_client-1.4.1-py3-none-any.whl (55 kB)\n",
            "\u001b[K     |████████████████████████████████| 55 kB 3.7 MB/s \n",
            "\u001b[?25hRequirement already satisfied: terminado>=0.8.3 in /usr/local/lib/python3.7/dist-packages (from jupyter-server<3,>=1.16.0->jupyterlab->-r requirements.txt (line 3)) (0.13.3)\n",
            "Requirement already satisfied: jupyter-client>=6.1.12 in /usr/local/lib/python3.7/dist-packages (from jupyter-server<3,>=1.16.0->jupyterlab->-r requirements.txt (line 3)) (6.1.12)\n",
            "Collecting anyio<4,>=3.1.0\n",
            "  Downloading anyio-3.6.2-py3-none-any.whl (80 kB)\n",
            "\u001b[K     |████████████████████████████████| 80 kB 1.0 MB/s \n",
            "\u001b[?25hRequirement already satisfied: prometheus-client in /usr/local/lib/python3.7/dist-packages (from jupyter-server<3,>=1.16.0->jupyterlab->-r requirements.txt (line 3)) (0.13.1)\n",
            "Requirement already satisfied: Send2Trash in /usr/local/lib/python3.7/dist-packages (from jupyter-server<3,>=1.16.0->jupyterlab->-r requirements.txt (line 3)) (1.8.0)\n",
            "Requirement already satisfied: traitlets>=5.1 in /usr/local/lib/python3.7/dist-packages (from jupyter-server<3,>=1.16.0->jupyterlab->-r requirements.txt (line 3)) (5.1.1)\n",
            "Collecting argon2-cffi\n",
            "  Downloading argon2_cffi-21.3.0-py3-none-any.whl (14 kB)\n",
            "Requirement already satisfied: nbformat>=5.2.0 in /usr/local/lib/python3.7/dist-packages (from jupyter-server<3,>=1.16.0->jupyterlab->-r requirements.txt (line 3)) (5.7.0)\n",
            "Collecting sniffio>=1.1\n",
            "  Downloading sniffio-1.3.0-py3-none-any.whl (10 kB)\n",
            "Requirement already satisfied: typing-extensions in /usr/local/lib/python3.7/dist-packages (from anyio<4,>=3.1.0->jupyter-server<3,>=1.16.0->jupyterlab->-r requirements.txt (line 3)) (4.1.1)\n",
            "Requirement already satisfied: idna>=2.8 in /usr/local/lib/python3.7/dist-packages (from anyio<4,>=3.1.0->jupyter-server<3,>=1.16.0->jupyterlab->-r requirements.txt (line 3)) (2.10)\n",
            "Requirement already satisfied: requests in /usr/local/lib/python3.7/dist-packages (from jupyterlab-server~=2.10->jupyterlab->-r requirements.txt (line 3)) (2.23.0)\n",
            "Requirement already satisfied: jsonschema>=3.0.1 in /usr/local/lib/python3.7/dist-packages (from jupyterlab-server~=2.10->jupyterlab->-r requirements.txt (line 3)) (4.3.3)\n",
            "Collecting jinja2>=2.1\n",
            "  Downloading Jinja2-3.1.2-py3-none-any.whl (133 kB)\n",
            "\u001b[K     |████████████████████████████████| 133 kB 96.5 MB/s \n",
            "\u001b[?25hRequirement already satisfied: importlib-metadata>=4.8.3 in /usr/local/lib/python3.7/dist-packages (from jupyterlab-server~=2.10->jupyterlab->-r requirements.txt (line 3)) (4.13.0)\n",
            "Requirement already satisfied: babel in /usr/local/lib/python3.7/dist-packages (from jupyterlab-server~=2.10->jupyterlab->-r requirements.txt (line 3)) (2.10.3)\n",
            "Collecting json5\n",
            "  Downloading json5-0.9.10-py2.py3-none-any.whl (19 kB)\n",
            "Requirement already satisfied: zipp>=0.5 in /usr/local/lib/python3.7/dist-packages (from importlib-metadata>=4.8.3->jupyterlab-server~=2.10->jupyterlab->-r requirements.txt (line 3)) (3.9.0)\n",
            "Requirement already satisfied: pyrsistent!=0.17.0,!=0.17.1,!=0.17.2,>=0.14.0 in /usr/local/lib/python3.7/dist-packages (from jsonschema>=3.0.1->jupyterlab-server~=2.10->jupyterlab->-r requirements.txt (line 3)) (0.18.1)\n",
            "Requirement already satisfied: attrs>=17.4.0 in /usr/local/lib/python3.7/dist-packages (from jsonschema>=3.0.1->jupyterlab-server~=2.10->jupyterlab->-r requirements.txt (line 3)) (22.1.0)\n",
            "Requirement already satisfied: importlib-resources>=1.4.0 in /usr/local/lib/python3.7/dist-packages (from jsonschema>=3.0.1->jupyterlab-server~=2.10->jupyterlab->-r requirements.txt (line 3)) (5.10.0)\n",
            "Requirement already satisfied: pygments>=2.4.1 in /usr/local/lib/python3.7/dist-packages (from nbconvert>=6.4.4->jupyter-server<3,>=1.16.0->jupyterlab->-r requirements.txt (line 3)) (2.6.1)\n",
            "Requirement already satisfied: beautifulsoup4 in /usr/local/lib/python3.7/dist-packages (from nbconvert>=6.4.4->jupyter-server<3,>=1.16.0->jupyterlab->-r requirements.txt (line 3)) (4.6.3)\n",
            "Collecting jupyterlab-pygments\n",
            "  Downloading jupyterlab_pygments-0.2.2-py2.py3-none-any.whl (21 kB)\n",
            "Requirement already satisfied: pandocfilters>=1.4.1 in /usr/local/lib/python3.7/dist-packages (from nbconvert>=6.4.4->jupyter-server<3,>=1.16.0->jupyterlab->-r requirements.txt (line 3)) (1.5.0)\n",
            "Collecting tinycss2\n",
            "  Downloading tinycss2-1.2.1-py3-none-any.whl (21 kB)\n",
            "Collecting mistune<3,>=2.0.3\n",
            "  Downloading mistune-2.0.4-py2.py3-none-any.whl (24 kB)\n",
            "Requirement already satisfied: bleach in /usr/local/lib/python3.7/dist-packages (from nbconvert>=6.4.4->jupyter-server<3,>=1.16.0->jupyterlab->-r requirements.txt (line 3)) (5.0.1)\n",
            "Collecting nbclient>=0.5.0\n",
            "  Downloading nbclient-0.7.0-py3-none-any.whl (71 kB)\n",
            "\u001b[K     |████████████████████████████████| 71 kB 260 kB/s \n",
            "\u001b[?25hRequirement already satisfied: defusedxml in /usr/local/lib/python3.7/dist-packages (from nbconvert>=6.4.4->jupyter-server<3,>=1.16.0->jupyterlab->-r requirements.txt (line 3)) (0.7.1)\n",
            "Collecting traitlets>=5.1\n",
            "  Downloading traitlets-5.5.0-py3-none-any.whl (107 kB)\n",
            "\u001b[K     |████████████████████████████████| 107 kB 77.4 MB/s \n",
            "\u001b[?25hCollecting nest-asyncio\n",
            "  Downloading nest_asyncio-1.5.6-py3-none-any.whl (5.2 kB)\n",
            "Requirement already satisfied: fastjsonschema in /usr/local/lib/python3.7/dist-packages (from nbformat>=5.2.0->jupyter-server<3,>=1.16.0->jupyterlab->-r requirements.txt (line 3)) (2.16.2)\n",
            "Requirement already satisfied: ipykernel in /usr/local/lib/python3.7/dist-packages (from notebook<7->jupyterlab->-r requirements.txt (line 3)) (5.3.4)\n",
            "Requirement already satisfied: ipython-genutils in /usr/local/lib/python3.7/dist-packages (from notebook<7->jupyterlab->-r requirements.txt (line 3)) (0.2.0)\n",
            "Requirement already satisfied: ptyprocess in /usr/local/lib/python3.7/dist-packages (from terminado>=0.8.3->jupyter-server<3,>=1.16.0->jupyterlab->-r requirements.txt (line 3)) (0.7.0)\n",
            "Requirement already satisfied: kiwisolver>=1.0.1 in /usr/local/lib/python3.7/dist-packages (from matplotlib->-r requirements.txt (line 4)) (1.4.4)\n",
            "Requirement already satisfied: cycler>=0.10 in /usr/local/lib/python3.7/dist-packages (from matplotlib->-r requirements.txt (line 4)) (0.11.0)\n",
            "Requirement already satisfied: pyparsing!=2.0.4,!=2.1.2,!=2.1.6,>=2.0.1 in /usr/local/lib/python3.7/dist-packages (from matplotlib->-r requirements.txt (line 4)) (3.0.9)\n",
            "Requirement already satisfied: scipy>=1.0 in /usr/local/lib/python3.7/dist-packages (from seaborn->-r requirements.txt (line 5)) (1.7.3)\n",
            "Requirement already satisfied: iterators<0.0.3,>=0.0.2 in /usr/local/lib/python3.7/dist-packages (from flwr->-r requirements.txt (line 8)) (0.0.2)\n",
            "Requirement already satisfied: protobuf<4.0.0,>=3.19.0 in /usr/local/lib/python3.7/dist-packages (from flwr->-r requirements.txt (line 8)) (3.20.3)\n",
            "Requirement already satisfied: grpcio<2.0.0,>=1.43.0 in /usr/local/lib/python3.7/dist-packages (from flwr->-r requirements.txt (line 8)) (1.43.0)\n",
            "Collecting argon2-cffi-bindings\n",
            "  Downloading argon2_cffi_bindings-21.2.0-cp36-abi3-manylinux_2_17_x86_64.manylinux2014_x86_64.whl (86 kB)\n",
            "\u001b[K     |████████████████████████████████| 86 kB 5.8 MB/s \n",
            "\u001b[?25hRequirement already satisfied: cffi>=1.0.1 in /usr/local/lib/python3.7/dist-packages (from argon2-cffi-bindings->argon2-cffi->jupyter-server<3,>=1.16.0->jupyterlab->-r requirements.txt (line 3)) (1.15.1)\n",
            "Requirement already satisfied: pycparser in /usr/local/lib/python3.7/dist-packages (from cffi>=1.0.1->argon2-cffi-bindings->argon2-cffi->jupyter-server<3,>=1.16.0->jupyterlab->-r requirements.txt (line 3)) (2.21)\n",
            "Requirement already satisfied: webencodings in /usr/local/lib/python3.7/dist-packages (from bleach->nbconvert>=6.4.4->jupyter-server<3,>=1.16.0->jupyterlab->-r requirements.txt (line 3)) (0.5.1)\n",
            "Requirement already satisfied: pickleshare in /usr/local/lib/python3.7/dist-packages (from ipython->jupyterlab->-r requirements.txt (line 3)) (0.7.5)\n",
            "Requirement already satisfied: pexpect in /usr/local/lib/python3.7/dist-packages (from ipython->jupyterlab->-r requirements.txt (line 3)) (4.8.0)\n",
            "Requirement already satisfied: decorator in /usr/local/lib/python3.7/dist-packages (from ipython->jupyterlab->-r requirements.txt (line 3)) (4.4.2)\n",
            "Requirement already satisfied: setuptools>=18.5 in /usr/local/lib/python3.7/dist-packages (from ipython->jupyterlab->-r requirements.txt (line 3)) (57.4.0)\n",
            "Requirement already satisfied: prompt-toolkit<2.1.0,>=2.0.0 in /usr/local/lib/python3.7/dist-packages (from ipython->jupyterlab->-r requirements.txt (line 3)) (2.0.10)\n",
            "Requirement already satisfied: backcall in /usr/local/lib/python3.7/dist-packages (from ipython->jupyterlab->-r requirements.txt (line 3)) (0.2.0)\n",
            "Collecting jedi>=0.10\n",
            "  Downloading jedi-0.18.1-py2.py3-none-any.whl (1.6 MB)\n",
            "\u001b[K     |████████████████████████████████| 1.6 MB 67.9 MB/s \n",
            "\u001b[?25hRequirement already satisfied: parso<0.9.0,>=0.8.0 in /usr/local/lib/python3.7/dist-packages (from jedi>=0.10->ipython->jupyterlab->-r requirements.txt (line 3)) (0.8.3)\n",
            "Requirement already satisfied: wcwidth in /usr/local/lib/python3.7/dist-packages (from prompt-toolkit<2.1.0,>=2.0.0->ipython->jupyterlab->-r requirements.txt (line 3)) (0.2.5)\n",
            "Collecting notebook-shim>=0.1.0\n",
            "  Downloading notebook_shim-0.2.0-py3-none-any.whl (13 kB)\n",
            "Requirement already satisfied: certifi>=2017.4.17 in /usr/local/lib/python3.7/dist-packages (from requests->jupyterlab-server~=2.10->jupyterlab->-r requirements.txt (line 3)) (2022.9.24)\n",
            "Requirement already satisfied: chardet<4,>=3.0.2 in /usr/local/lib/python3.7/dist-packages (from requests->jupyterlab-server~=2.10->jupyterlab->-r requirements.txt (line 3)) (3.0.4)\n",
            "Collecting urllib3>=1.25.3\n",
            "  Downloading urllib3-1.25.11-py2.py3-none-any.whl (127 kB)\n",
            "\u001b[K     |████████████████████████████████| 127 kB 80.1 MB/s \n",
            "\u001b[?25hBuilding wheels for collected packages: openapi-client\n",
            "  Building wheel for openapi-client (setup.py) ... \u001b[?25l\u001b[?25hdone\n",
            "  Created wheel for openapi-client: filename=openapi_client-1.0.0-py3-none-any.whl size=60250 sha256=5fd04ad234c7e2acfa6cd10cc03558be194b40cbeef4fa8cd643c51d51f6aba2\n",
            "  Stored in directory: /tmp/pip-ephem-wheel-cache-atjk8wxa/wheels/bf/47/68/547e7c10907734e247c90be194331c6553f9494d5b7326709f\n",
            "Successfully built openapi-client\n",
            "Installing collected packages: traitlets, tornado, nest-asyncio, tinycss2, sniffio, nbclient, mistune, jupyterlab-pygments, jinja2, argon2-cffi-bindings, websocket-client, nbconvert, jedi, argon2-cffi, anyio, urllib3, jupyter-server, notebook-shim, json5, nbclassic, jupyterlab-server, openapi-client, jupyterlab\n",
            "  Attempting uninstall: traitlets\n",
            "    Found existing installation: traitlets 5.1.1\n",
            "    Uninstalling traitlets-5.1.1:\n",
            "      Successfully uninstalled traitlets-5.1.1\n",
            "  Attempting uninstall: tornado\n",
            "    Found existing installation: tornado 5.1.1\n",
            "    Uninstalling tornado-5.1.1:\n",
            "      Successfully uninstalled tornado-5.1.1\n",
            "  Attempting uninstall: mistune\n",
            "    Found existing installation: mistune 0.8.4\n",
            "    Uninstalling mistune-0.8.4:\n",
            "      Successfully uninstalled mistune-0.8.4\n",
            "  Attempting uninstall: jinja2\n",
            "    Found existing installation: Jinja2 2.11.3\n",
            "    Uninstalling Jinja2-2.11.3:\n",
            "      Successfully uninstalled Jinja2-2.11.3\n",
            "  Attempting uninstall: nbconvert\n",
            "    Found existing installation: nbconvert 5.6.1\n",
            "    Uninstalling nbconvert-5.6.1:\n",
            "      Successfully uninstalled nbconvert-5.6.1\n",
            "  Attempting uninstall: urllib3\n",
            "    Found existing installation: urllib3 1.24.3\n",
            "    Uninstalling urllib3-1.24.3:\n",
            "      Successfully uninstalled urllib3-1.24.3\n",
            "\u001b[31mERROR: pip's dependency resolver does not currently take into account all the packages that are installed. This behaviour is the source of the following dependency conflicts.\n",
            "google-colab 1.0.0 requires tornado~=5.1.0, but you have tornado 6.2 which is incompatible.\n",
            "flask 1.1.4 requires Jinja2<3.0,>=2.10.1, but you have jinja2 3.1.2 which is incompatible.\u001b[0m\n",
            "Successfully installed anyio-3.6.2 argon2-cffi-21.3.0 argon2-cffi-bindings-21.2.0 jedi-0.18.1 jinja2-3.1.2 json5-0.9.10 jupyter-server-1.21.0 jupyterlab-3.5.0 jupyterlab-pygments-0.2.2 jupyterlab-server-2.16.1 mistune-2.0.4 nbclassic-0.4.7 nbclient-0.7.0 nbconvert-7.2.2 nest-asyncio-1.5.6 notebook-shim-0.2.0 openapi-client-1.0.0 sniffio-1.3.0 tinycss2-1.2.1 tornado-6.2 traitlets-5.5.0 urllib3-1.25.11 websocket-client-1.4.1\n"
          ]
        },
        {
          "output_type": "display_data",
          "data": {
            "application/vnd.colab-display-data+json": {
              "pip_warning": {
                "packages": [
                  "tornado"
                ]
              }
            }
          },
          "metadata": {}
        }
      ]
    },
    {
      "cell_type": "markdown",
      "metadata": {
        "id": "grNc2GELvjD3"
      },
      "source": [
        "## Imports"
      ]
    },
    {
      "cell_type": "code",
      "execution_count": 2,
      "metadata": {
        "colab": {
          "base_uri": "https://localhost:8080/"
        },
        "id": "RHQ-3tCTvlPv",
        "outputId": "c57020c8-9de7-4992-ba54-2b55564cd771"
      },
      "outputs": [
        {
          "output_type": "stream",
          "name": "stdout",
          "text": [
            "Training on cuda:0\n"
          ]
        }
      ],
      "source": [
        "import os\n",
        "import sys\n",
        "import math\n",
        "import time\n",
        "from glob import glob\n",
        "from PIL import Image\n",
        "from random import sample\n",
        "from collections import OrderedDict\n",
        "from typing import Dict, List, Optional, Tuple\n",
        "\n",
        "import flwr as fl\n",
        "import numpy as np\n",
        "import pandas as pd\n",
        "import matplotlib.pyplot as plt\n",
        "from sklearn.model_selection import train_test_split\n",
        "\n",
        "import torch\n",
        "import torch.nn as nnqunt\n",
        "import torch.nn.functional as F\n",
        "from torch.utils.data import Dataset, DataLoader, random_split\n",
        "\n",
        "from torchvision.utils import make_grid\n",
        "from torchvision.datasets import CIFAR10\n",
        "from torchvision import transforms as T, models\n",
        "\n",
        "DEVICE = torch.device(\"cuda:0\" if torch.cuda.is_available() else \"cpu\")\n",
        "print(f\"Training on {DEVICE}\")"
      ]
    },
    {
      "cell_type": "markdown",
      "metadata": {
        "id": "G5XXXYdm6ic5"
      },
      "source": [
        "## Data utils"
      ]
    },
    {
      "cell_type": "code",
      "source": [
        "from PIL import Image\n",
        "from itertools import chain\n",
        "\n",
        "import numpy as np\n",
        "import pandas as pd\n",
        "\n",
        "from torch.utils.data import Dataset\n",
        "\n",
        "class NIH_Dataset(Dataset):\n",
        "  \"\"\"\n",
        "  Main Dataset class to represent NIH Chest X-Ray data\n",
        "  ...\n",
        "  Attributes\n",
        "  ----------\n",
        "  data_df: pandas.DataFrame\n",
        "    A DataFrame that needs to at least have the following two columns:\n",
        "      1. \"path\": Holds chest x-ray image locations\n",
        "      2. \"disease_vec\": Holds multilabel one-hot encoded vector\n",
        "  transform: torchvision.transform.Compose\n",
        "    Image transformations that will be applied to each image when calling \"__getitem__\"\n",
        "  \"\"\"\n",
        "  def __init__(\n",
        "    self, \n",
        "    data_df,\n",
        "    transform=None\n",
        "    ) -> Dataset:\n",
        "    \"\"\"\n",
        "    Parameters\n",
        "    ----------\n",
        "    data_df: pandas.DataFrame\n",
        "      A DataFrame that needs to at least have the following two columns: \n",
        "        1. \"path\": Holds chest x-ray image locations\n",
        "        2. \"disease_vec\": Holds multilabel one-hot encoded vector\n",
        "    transform: torchvision.transform.Compose\n",
        "      Image transformations that will be applied to each image when calling \"__getitem__\"\n",
        "    \"\"\"\n",
        "    self.data_df = data_df\n",
        "    self.transform = transform \n",
        "\n",
        "  def __len__(\n",
        "    self\n",
        "    ) -> int:\n",
        "    return len(self.data_df)\n",
        "\n",
        "  def __getitem__(\n",
        "    self, \n",
        "    idx\n",
        "    ) -> Tuple[torch.Tensor, np.ndarray]:\n",
        "    img_file = self.data_df['path'].iloc[idx]\n",
        "    img = Image.open(img_file).convert('RGB')\n",
        "    label = np.array(self.data_df.iloc[:,-1].iloc[idx], dtype=float)\n",
        "    if self.transform:\n",
        "        img = self.transform(img)\n",
        "\n",
        "    return img, label"
      ],
      "metadata": {
        "id": "u_JTNAxeF1QS"
      },
      "execution_count": 3,
      "outputs": []
    },
    {
      "cell_type": "code",
      "source": [
        "def load_and_preprocess_data_df(\n",
        "    data_df_root_path: str,\n",
        "    num_data_samples: int = 11000\n",
        "    ) -> Tuple[pd.DataFrame, List]:\n",
        "  \"\"\"\n",
        "  Loads and preprocesses NIH DataFrame that holds information of the data, e.g. image labels.\n",
        "\n",
        "  Parameters\n",
        "  ----------\n",
        "  data_df_root_path: str\n",
        "    This should be the path to the root directory of the NIH data set that, \n",
        "    at least, includes the img-file directories and the panda.DataFrame \n",
        "    \"Data_Entry_2017.csv\". The direcotry should have the following structure:\n",
        "\n",
        "    NIH\n",
        "      |\n",
        "      images_0**\n",
        "      ...\n",
        "      Data_Entry_2017.csv\n",
        "      ...\n",
        "      train_val_list.txt\n",
        "\n",
        "  num_data_samples: int\n",
        "    The total number of data points that we want to sample for our data set.\n",
        "    Maximum is 112120.\n",
        "  \n",
        "  Returns\n",
        "  -------\n",
        "  preprocessed_xray_df: pd.DataFrame\n",
        "    Preprocessed pandas DataFrame with column \"path\"\n",
        "\n",
        "  all_labels: List\n",
        "    List containing all labels as strings\n",
        "  \"\"\"\n",
        "  # Load the DataFrame\n",
        "  all_xray_df = pd.read_csv(\n",
        "      os.path.join(\n",
        "          data_df_root_path,\n",
        "          'Data_Entry_2017.csv'\n",
        "          )\n",
        "      )\n",
        "  # Extract all image paths\n",
        "  all_image_paths = {\n",
        "      os.path.basename(x): x for x in \n",
        "      glob(os.path.join(data_df_root_path, 'images*', '*', '*.png'))\n",
        "      }\n",
        "  # Add image file name column\n",
        "  all_xray_df['path'] = all_xray_df['Image Index'].map(all_image_paths.get)\n",
        "  # Count labels\n",
        "  all_xray_df['Finding Labels'] = all_xray_df['Finding Labels'].map(lambda x: x.replace('No Finding', ''))  \n",
        "  all_labels = np.unique(list(chain(*all_xray_df['Finding Labels'].map(lambda x: x.split('|')).tolist())))\n",
        "  all_labels = [x for x in all_labels if len(x)>0]\n",
        "  for c_label in all_labels:\n",
        "      if len(c_label)>1: # leave out empty labels\n",
        "          all_xray_df[c_label] = all_xray_df['Finding Labels'].map(lambda finding: 1.0 if c_label in finding else 0)\n",
        "  MIN_CASES = 1000\n",
        "  all_labels = [\n",
        "      c_label for c_label in all_labels if all_xray_df[c_label].sum() > MIN_CASES\n",
        "      ]\n",
        "  sample_weights = all_xray_df['Finding Labels'].map(lambda x: len(x.split('|')) if len(x)>0 else 0).values + 4e-2\n",
        "  sample_weights /= sample_weights.sum()\n",
        "  preprocessed_xray_df = all_xray_df.sample(num_data_samples, weights=sample_weights)\n",
        "  # Create one-hot encoding of the vector\n",
        "  preprocessed_xray_df['disease_vec'] = all_xray_df.apply(lambda x: [x[all_labels].values], 1).map(lambda x: x[0])\n",
        "  \n",
        "  return preprocessed_xray_df, all_labels"
      ],
      "metadata": {
        "id": "c8Zx3mVnIF3h"
      },
      "execution_count": 4,
      "outputs": []
    },
    {
      "cell_type": "code",
      "source": [
        "def inv_data_transform(\n",
        "    img: torch.Tensor\n",
        "    ) -> torch.Tensor:\n",
        "  \"\"\"\n",
        "  Helper function that un-normalizes torch image tensor\n",
        "  \"\"\"\n",
        "  img = img.permute(1,2,0)\n",
        "  img = img * torch.Tensor([0.229, 0.224, 0.225]) + torch.Tensor([0.485, 0.456, 0.406])\n",
        "  return img\n",
        "\n",
        "def get_data_loaders(\n",
        "    data_df_root_path: str,\n",
        "    num_data_samples: int = 11000,\n",
        "    global_train_frac: float = 0.8,\n",
        "    local_train_frac: float = 0.8,\n",
        "    batch_size: int = 32,\n",
        "    num_clients: int = 10\n",
        "    ) -> Tuple[Tuple[DataLoader, ...], Tuple[DataLoader, ...], DataLoader, List]:\n",
        "\n",
        "  \"\"\"\n",
        "  Main function to create DataLoaders of the NIH X-Ray data set.\n",
        "  \n",
        "  Parameters\n",
        "  ----------\n",
        "  data_df_root_path: str\n",
        "    This should be the path to the root directory of the NIH data set that, \n",
        "    at least, includes the img-file directories and the panda.DataFrame \n",
        "    \"Data_Entry_2017.csv\". The direcotry should have the following structure:\n",
        "    NIHs\n",
        "      |\n",
        "      images_0**\n",
        "      ...\n",
        "      Data_Entry_2017.csv\n",
        "      ...\n",
        "      train_val_list.txt\n",
        "\n",
        "  num_data_samples: int\n",
        "    The total number of data points that we want to sample for our data set.\n",
        "    Maximum is 112120.\n",
        "\n",
        "  global_train_frac: float\n",
        "    The fraction of points used for the global training data set, e.g. the data set that will be later split into local client data sets.\n",
        "\n",
        "  local_train_frac: float\n",
        "      The fraction of points on each local client used for training.\n",
        "\n",
        "  batch_size: int\n",
        "    Batch size on each client\n",
        "\n",
        "  num_clients: int\n",
        "    Total number of clients in the FL setup\n",
        "\n",
        "  Returns\n",
        "  -------\n",
        "  trainloaders: List[torch.utils.data.DataLoader, ...]\n",
        "    List of local training DataLoaders, one for each client\n",
        "\n",
        "  valloaders: List[torch.utils.data.DataLoader, ...]\n",
        "    List of local calidation DataLoaders, one for each client\n",
        "\n",
        "  testloader: torch.utils.data.DataLoader\n",
        "    Global test DataLoader, for the central server\n",
        "  \n",
        "  all_labels: List[str, ...]\n",
        "    List of all string labels\n",
        "\n",
        "  preprocessed_data_df: pd.DataFrame\n",
        "    preprocessed Dataframe that represents the data\n",
        "  \"\"\"\n",
        "  \n",
        "  preprocessed_xray_df, all_labels = load_and_preprocess_data_df(\n",
        "      data_df_root_path,\n",
        "      num_data_samples\n",
        "  )\n",
        "\n",
        "  train_data_transform = T.Compose([\n",
        "    T.RandomRotation((-20,+20)),\n",
        "    T.Resize((224,224)),\n",
        "    T.ToTensor(),\n",
        "    T.Normalize(mean=[0.485, 0.456, 0.406],\n",
        "                std=[0.229, 0.224, 0.225])\n",
        "                ])\n",
        "\n",
        "  test_data_transform = T.Compose([\n",
        "    T.Resize((512,512)),\n",
        "    T.ToTensor(),\n",
        "    T.Normalize(mean=[0.485, 0.456, 0.406],\n",
        "                std=[0.229, 0.224, 0.225])\n",
        "                ])\n",
        "  \n",
        "  train_df, test_df = train_test_split(\n",
        "      preprocessed_xray_df,\n",
        "      test_size = 1 - global_train_frac,\n",
        "      random_state = 42,\n",
        "      stratify = preprocessed_xray_df['Finding Labels'].map( lambda x: x[:4])\n",
        "  )\n",
        "\n",
        "  trainset = NIH_Dataset(\n",
        "      train_df,\n",
        "      transform = train_data_transform\n",
        "      )\n",
        "  \n",
        "  testset = NIH_Dataset(\n",
        "      test_df,\n",
        "      transform = test_data_transform\n",
        "      )\n",
        "\n",
        "  # Split training set into `num_clients` partitions to simulate different local datasets\n",
        "  partition_size = len(trainset) // num_clients\n",
        "  lengths = [partition_size] * num_clients\n",
        "  lengths[-1] += len(trainset) - np.sum(lengths)\n",
        "  datasets = random_split(trainset, lengths, torch.Generator().manual_seed(42))\n",
        "\n",
        "  # Split each partition into train/val and create DataLoader\n",
        "  trainloaders = []\n",
        "  valloaders = []\n",
        "  for ds in datasets:      \n",
        "      len_train = math.ceil(len(ds) * local_train_frac)\n",
        "      len_val = len(ds) - math.ceil(len(ds) * local_train_frac)\n",
        "      lengths = [len_train, len_val]\n",
        "      ds_train, ds_val = random_split(ds, lengths, torch.Generator().manual_seed(42))\n",
        "      trainloaders.append(DataLoader(ds_train, batch_size=batch_size, shuffle=True, drop_last = True))\n",
        "      valloaders.append(DataLoader(ds_val, batch_size=batch_size, drop_last = True))\n",
        "  testloader = DataLoader(testset, batch_size=batch_size)\n",
        "\n",
        "  return trainloaders, valloaders, testloader, all_labels, preprocessed_xray_df"
      ],
      "metadata": {
        "id": "WsANZ4VtIDlU"
      },
      "execution_count": 5,
      "outputs": []
    },
    {
      "cell_type": "markdown",
      "source": [
        "## Load the data"
      ],
      "metadata": {
        "id": "1YKYlHhyS8wA"
      }
    },
    {
      "cell_type": "code",
      "execution_count": 12,
      "metadata": {
        "id": "rigzBUI_Wovp"
      },
      "outputs": [],
      "source": [
        "num_clients = 100\n",
        "\n",
        "data_df_root_path = '/content/NIH/'\n",
        "num_data_samples = 112120\n",
        "global_train_frac = 0.95\n",
        "local_train_frac = 0.9\n",
        "batch_size = 25\n",
        "\n",
        "trainloaders, valloaders, testloader, all_labels, preprocessed_xray_df = get_data_loaders(\n",
        "    data_df_root_path = data_df_root_path,\n",
        "    num_clients = num_clients,\n",
        "    num_data_samples = num_data_samples,\n",
        "    global_train_frac = global_train_frac,\n",
        "    local_train_frac = local_train_frac,\n",
        "    batch_size = batch_size\n",
        ")"
      ]
    },
    {
      "cell_type": "code",
      "execution_count": 13,
      "metadata": {
        "colab": {
          "base_uri": "https://localhost:8080/",
          "height": 248
        },
        "id": "H5Oi7dIN3aWP",
        "outputId": "57f3b95c-2996-42a7-f253-add78280b9fc"
      },
      "outputs": [
        {
          "output_type": "display_data",
          "data": {
            "text/plain": [
              "<Figure size 432x288 with 1 Axes>"
            ],
            "image/png": "[encoded data removed]"
          },
          "metadata": {
            "needs_background": "light"
          }
        }
      ],
      "source": [
        "plt.imshow(\n",
        "    inv_data_transform(\n",
        "        testloader.dataset[0][0]\n",
        "    )\n",
        ")\n",
        "plt.axis('off');"
      ]
    },
    {
      "cell_type": "code",
      "execution_count": 14,
      "metadata": {
        "colab": {
          "base_uri": "https://localhost:8080/"
        },
        "id": "mh6Nm_YzvJpo",
        "outputId": "a20bbc95-7fb0-49e9-8ece-7606bdc665c9"
      },
      "outputs": [
        {
          "output_type": "execute_result",
          "data": {
            "text/plain": [
              "(959, 106, 5607, 13)"
            ]
          },
          "metadata": {},
          "execution_count": 14
        }
      ],
      "source": [
        "len(trainloaders[0].dataset), len(valloaders[0].dataset) ,len(testloader.dataset), len(all_labels)"
      ]
    },
    {
      "cell_type": "markdown",
      "metadata": {
        "id": "UwdUHQgA5qt8"
      },
      "source": [
        "## Training utils"
      ]
    },
    {
      "cell_type": "code",
      "execution_count": 15,
      "metadata": {
        "id": "ZpaMF3WiAfkx"
      },
      "outputs": [],
      "source": [
        "def compute_class_freqs(labels):\n",
        "\n",
        "    labels = np.array(labels)\n",
        "    N = labels.shape[0]\n",
        "\n",
        "    positive_frequencies = np.sum(labels, axis = 0) / N\n",
        "    negative_frequencies = 1 - positive_frequencies\n",
        "\n",
        "    return positive_frequencies, negative_frequencies\n",
        "\n",
        "def weighted_loss(pos_weights, neg_weights, y_pred, y_true, epsilon = 1e-7):\n",
        "    y_pred = torch.sigmoid(y_pred)\n",
        "    loss = 0.0\n",
        "    for i in range(len(pos_weights)):\n",
        "        loss_pos = -1 * torch.mean(pos_weights[i] * y_true[:,i] * torch.log(y_pred[:,i] + epsilon))\n",
        "        loss_neg = -1 * torch.mean(neg_weights[i] * (1-y_true[:,i]) * torch.log((1-y_pred[:,i]) + epsilon))\n",
        "        loss += loss_pos + loss_neg\n",
        "    return loss\n",
        "\n",
        "def train(\n",
        "    net,\n",
        "    trainloader,\n",
        "    epochs\n",
        "    ):\n",
        "    print(f'Entered train function, total num. of epochs: {epochs}')\n",
        "    # ToDo: Class weights should be different for each client\n",
        "    freq_pos, freq_neg = compute_class_freqs(preprocessed_xray_df.iloc[:,-1])    \n",
        "    pos_weights = freq_neg\n",
        "    neg_weights = freq_pos\n",
        "\n",
        "    valid_loss_min = np.Inf\n",
        "    optimizer = torch.optim.Adam(\n",
        "        net.parameters(),\n",
        "        lr = 1e-4\n",
        "        )\n",
        "    start_time = time.time()\n",
        "    for i in range(epochs):\n",
        "        train_loss = 0.0\n",
        "        valid_loss = 0.0\n",
        "        train_acc = 0.0\n",
        "        valid_acc = 0.0 \n",
        "        net.train()\n",
        "        for j, (images, labels) in enumerate(trainloader):\n",
        "            images = images.to(DEVICE)\n",
        "            labels = labels.to(DEVICE)\n",
        "            ps = net(images)\n",
        "            \n",
        "            loss = weighted_loss(pos_weights, neg_weights, ps, labels)\n",
        "\n",
        "            optimizer.zero_grad()\n",
        "            loss.backward()\n",
        "            optimizer.step()\n",
        "            train_loss += loss.item()\n",
        "        avg_train_loss = train_loss / len(trainloader)\n",
        "        print(\"Epoch : {} Train Loss : {:.6f} \".format(i+1,avg_train_loss))\n",
        "    end_time = time.time()\n",
        "    time_delta = end_time - start_time\n",
        "    print('\\n')\n",
        "    print(f'Time to complete local training round: {time_delta}')\n",
        "    print('\\n')\n",
        "\n",
        "def test(net, testloader, pathology_list):\n",
        "    \n",
        "    # ToDo: Class weights should be different for each client\n",
        "    freq_pos, freq_neg = compute_class_freqs(preprocessed_xray_df.iloc[:,-1])    \n",
        "    pos_weights = freq_neg\n",
        "    neg_weights = freq_pos\n",
        "\n",
        "    per_class_accuracy = [0 for i in range(len(pathology_list))]\n",
        "    total = 0.0\n",
        "    loss = 0.0\n",
        "    with torch.no_grad():\n",
        "        for images,labels in testloader:\n",
        "            ps = net(images.to(DEVICE))\n",
        "            labels = labels.to(DEVICE)\n",
        "            loss += weighted_loss( pos_weights, neg_weights, ps, labels)\n",
        "            ps = (ps >= 0.5).float()\n",
        "\n",
        "            for i in range(ps.shape[1]):\n",
        "                x1 = ps[:,i:i+1]\n",
        "                x2 = labels[:,i:i+1]\n",
        "                per_class_accuracy[i] += int((x1 == x2).sum())\n",
        "\n",
        "        per_class_accuracy = [(i/len(testloader.dataset)) * 100.0 for i in per_class_accuracy]\n",
        "\n",
        "    return loss, np.mean(per_class_accuracy)\n",
        "\n",
        "def get_acc_data(\n",
        "    class_names,\n",
        "    acc_list\n",
        "    ):\n",
        "    df = pd.DataFrame(list(zip(class_names, acc_list)), columns =['Labels', 'Class Acc.']) \n",
        "    return df"
      ]
    },
    {
      "cell_type": "markdown",
      "source": [
        "## Server utils"
      ],
      "metadata": {
        "id": "fNwpqPidJz3m"
      }
    },
    {
      "cell_type": "code",
      "execution_count": 16,
      "metadata": {
        "id": "FfVrX3hA6kqX"
      },
      "outputs": [],
      "source": [
        "def server_eval(\n",
        "    server_round: int,\n",
        "    parameters: fl.common.NDArrays,\n",
        "    config: Dict[str, fl.common.Scalar]\n",
        "    ):\n",
        "\n",
        "    # ToDo: Class weights should be different for each client\n",
        "    freq_pos, freq_neg = compute_class_freqs(preprocessed_xray_df.iloc[:,-1])    \n",
        "    pos_weights = freq_neg\n",
        "    neg_weights = freq_pos\n",
        "\n",
        "    net = init_net().to(DEVICE)\n",
        "\n",
        "    set_parameters(net, parameters)  # Update model with the latest parameters\n",
        "\n",
        "    per_class_accuracy = [0 for i in range(len(all_labels))]\n",
        "    total = 0.0\n",
        "    loss = 0.0\n",
        "    with torch.no_grad():\n",
        "        for images,labels in testloader:\n",
        "          \n",
        "            ps = net(images.to(DEVICE))\n",
        "            labels = labels.to(DEVICE)\n",
        "            ps = torch.sigmoid(ps)\n",
        "            ps = (ps >= 0.5).float()\n",
        "            loss += weighted_loss( pos_weights, neg_weights, ps, labels)\n",
        "\n",
        "            for i in range(ps.shape[1]):\n",
        "                x1 = ps[:,i:i+1]\n",
        "                x2 = labels[:,i:i+1]\n",
        "                per_class_accuracy[i] += int((x1 == x2).sum())\n",
        "\n",
        "        per_class_accuracy = [(i/len(testloader.dataset))*100.0 for i in per_class_accuracy]\n",
        "\n",
        "    test_df = get_acc_data(all_labels, per_class_accuracy)\n",
        "    print('\\nServer eval')\n",
        "    print(test_df)\n",
        "    print('\\n')\n",
        "\n",
        "    return loss,  {\"mean_class_acc.\": np.mean(per_class_accuracy)}"
      ]
    },
    {
      "cell_type": "markdown",
      "metadata": {
        "id": "kZByeD1upefu"
      },
      "source": [
        "## Client utils"
      ]
    },
    {
      "cell_type": "code",
      "execution_count": 17,
      "metadata": {
        "id": "S5l-5slg58Nf"
      },
      "outputs": [],
      "source": [
        "class FlowerClient(fl.client.NumPyClient):\n",
        "    def __init__(self, net, trainloader, valloader, location: str, *args, **kwargs):\n",
        "        super(FlowerClient, self).__init__(*args, **kwargs)\n",
        "        self.net = net\n",
        "        self.trainloader = trainloader\n",
        "        self.valloader = valloader\n",
        "\n",
        "        ### Giving the client a location upon instantiation\n",
        "        self.location = location\n",
        "\n",
        "    def get_parameters(self, config):\n",
        "        return get_parameters(self.net)\n",
        "\n",
        "    def fit(self, parameters, config):\n",
        "        set_parameters(self.net, parameters)\n",
        "        epochs = config[\"local_epochs\"]\n",
        "        train(self.net, self.trainloader, epochs=epochs)\n",
        "        return get_parameters(self.net), len(self.trainloader), {}\n",
        "\n",
        "    def evaluate(self, parameters, config):\n",
        "        set_parameters(self.net, parameters)\n",
        "        loss, accuracy = test(self.net, self.valloader)\n",
        "        return float(loss), len(self.valloader), {\"accuracy\": float(accuracy)}\n",
        "\n",
        "    # Make sure the get_properties() method returns the client's location inside a dict\n",
        "    def get_properties(self, config) -> dict:\n",
        "        return {'location': self.location}\n",
        "\n",
        "def get_parameters(net) -> List[np.ndarray]:\n",
        "    return [val.cpu().numpy() for _, val in net.state_dict().items()]\n",
        "\n",
        "def set_parameters(net, parameters: List[np.ndarray]):\n",
        "    params_dict = zip(net.state_dict().keys(), parameters)\n",
        "    state_dict = OrderedDict({k: torch.Tensor(v) for k, v in params_dict})\n",
        "    try:\n",
        "      net.load_state_dict(state_dict, strict=True)\n",
        "    except:\n",
        "      print('Skip loading params')\n",
        "\n",
        "def init_net():  \n",
        "  net = models.resnet18(\n",
        "    weights=None\n",
        "  )\n",
        "  net.fc = torch.nn.Linear(\n",
        "      net.fc.in_features,\n",
        "      len(all_labels)\n",
        "  )\n",
        "  return net\n",
        "\n",
        "available_regions = ['westcentralus', 'ukwest', 'uksouth', 'westeurope', \n",
        "                     'westus', 'australiacentral', 'australiaeast', \n",
        "                     'swedencentral', 'norwaywest', 'norwayeast', 'northeurope', \n",
        "                     'centralus', 'francesouth', 'francecentral']\n",
        "\n",
        "client_regions_by_cid = [sample(available_regions, 1)[0] for i in range(0, num_clients)]\n",
        "\n",
        "def client_fn(cid: str) -> FlowerClient:\n",
        "    \"\"\"Create a Flower client representing a single organization.\"\"\"\n",
        "\n",
        "    # Load model\n",
        "    net = init_net().to(DEVICE)\n",
        "\n",
        "    trainloader = trainloaders[int(cid)]\n",
        "    valloader = valloaders[int(cid)]\n",
        "\n",
        "    return FlowerClient(net, trainloader, valloader, location=client_regions_by_cid[int(cid)])"
      ]
    },
    {
      "cell_type": "markdown",
      "metadata": {
        "id": "esohU8khStKD"
      },
      "source": [
        "## Random client selection training"
      ]
    },
    {
      "cell_type": "markdown",
      "source": [
        "### Training"
      ],
      "metadata": {
        "id": "2dbzhhDtLN04"
      }
    },
    {
      "cell_type": "code",
      "execution_count": 22,
      "metadata": {
        "id": "ZNEdoe3uSumm",
        "colab": {
          "base_uri": "https://localhost:8080/"
        },
        "outputId": "c895675b-c222-4a49-e970-0de4bc63d6e2"
      },
      "outputs": [
        {
          "output_type": "stream",
          "name": "stderr",
          "text": [
            "INFO flower 2022-10-27 11:43:36,292 | app.py:145 | Starting Flower simulation, config: ServerConfig(num_rounds=2, round_timeout=None)\n",
            "INFO:flower:Starting Flower simulation, config: ServerConfig(num_rounds=2, round_timeout=None)\n",
            "INFO flower 2022-10-27 11:43:41,421 | app.py:179 | Flower VCE: Ray initialized with resources: {'GPU': 1.0, 'CPU': 8.0, 'accelerator_type:T4': 1.0, 'memory': 32658616320.0, 'node:172.28.0.2': 1.0, 'object_store_memory': 16329308160.0}\n",
            "INFO:flower:Flower VCE: Ray initialized with resources: {'GPU': 1.0, 'CPU': 8.0, 'accelerator_type:T4': 1.0, 'memory': 32658616320.0, 'node:172.28.0.2': 1.0, 'object_store_memory': 16329308160.0}\n",
            "INFO flower 2022-10-27 11:43:41,425 | server.py:86 | Initializing global parameters\n",
            "INFO:flower:Initializing global parameters\n",
            "INFO flower 2022-10-27 11:43:41,427 | server.py:266 | Using initial parameters provided by strategy\n",
            "INFO:flower:Using initial parameters provided by strategy\n",
            "INFO flower 2022-10-27 11:43:41,432 | server.py:88 | Evaluating initial parameters\n",
            "INFO:flower:Evaluating initial parameters\n"
          ]
        },
        {
          "output_type": "stream",
          "name": "stdout",
          "text": [
            "Skip loading params\n"
          ]
        },
        {
          "output_type": "stream",
          "name": "stderr",
          "text": [
            "INFO flower 2022-10-27 11:46:29,368 | server.py:95 | initial parameters (loss, other metrics): tensor(223.5734, device='cuda:0', dtype=torch.float64), {'mean_class_acc.': 41.04073205196801}\n",
            "INFO:flower:initial parameters (loss, other metrics): tensor(223.5734, device='cuda:0', dtype=torch.float64), {'mean_class_acc.': 41.04073205196801}\n",
            "INFO flower 2022-10-27 11:46:29,374 | server.py:101 | FL starting\n",
            "INFO:flower:FL starting\n",
            "DEBUG flower 2022-10-27 11:46:29,377 | server.py:220 | fit_round 1: strategy sampled 3 clients (out of 100)\n",
            "DEBUG:flower:fit_round 1: strategy sampled 3 clients (out of 100)\n"
          ]
        },
        {
          "output_type": "stream",
          "name": "stdout",
          "text": [
            "\n",
            "Server eval\n",
            "                Labels  Class Acc.\n",
            "0          Atelectasis   10.308543\n",
            "1         Cardiomegaly    2.479044\n",
            "2        Consolidation    4.369538\n",
            "3                Edema   97.841983\n",
            "4             Effusion   42.571785\n",
            "5            Emphysema    2.336365\n",
            "6             Fibrosis   51.346531\n",
            "7         Infiltration   79.953629\n",
            "8                 Mass   94.596041\n",
            "9               Nodule   28.036383\n",
            "10  Pleural_Thickening   46.281434\n",
            "11           Pneumonia   68.253968\n",
            "12        Pneumothorax    5.154271\n",
            "\n",
            "\n",
            "\u001b[2m\u001b[36m(launch_and_fit pid=26794)\u001b[0m Skip loading params\n",
            "\u001b[2m\u001b[36m(launch_and_fit pid=26794)\u001b[0m Entered train function, total num. of epochs: 5\n",
            "\u001b[2m\u001b[36m(launch_and_fit pid=26794)\u001b[0m Epoch : 1 Train Loss : 0.924836 \n",
            "\u001b[2m\u001b[36m(launch_and_fit pid=26794)\u001b[0m Epoch : 2 Train Loss : 0.886008 \n",
            "\u001b[2m\u001b[36m(launch_and_fit pid=26794)\u001b[0m Epoch : 3 Train Loss : 0.875271 \n",
            "\u001b[2m\u001b[36m(launch_and_fit pid=26794)\u001b[0m Epoch : 4 Train Loss : 0.842165 \n",
            "\u001b[2m\u001b[36m(launch_and_fit pid=26794)\u001b[0m Epoch : 5 Train Loss : 0.836306 \n",
            "\u001b[2m\u001b[36m(launch_and_fit pid=26794)\u001b[0m \n",
            "\u001b[2m\u001b[36m(launch_and_fit pid=26794)\u001b[0m \n",
            "\u001b[2m\u001b[36m(launch_and_fit pid=26794)\u001b[0m Time to complete local training round: 129.6843364238739\n",
            "\u001b[2m\u001b[36m(launch_and_fit pid=26794)\u001b[0m \n",
            "\u001b[2m\u001b[36m(launch_and_fit pid=26794)\u001b[0m \n",
            "\u001b[2m\u001b[36m(launch_and_fit pid=26875)\u001b[0m Skip loading params\n",
            "\u001b[2m\u001b[36m(launch_and_fit pid=26875)\u001b[0m Entered train function, total num. of epochs: 5\n",
            "\u001b[2m\u001b[36m(launch_and_fit pid=26875)\u001b[0m Epoch : 1 Train Loss : 0.936635 \n",
            "\u001b[2m\u001b[36m(launch_and_fit pid=26875)\u001b[0m Epoch : 2 Train Loss : 0.877581 \n",
            "\u001b[2m\u001b[36m(launch_and_fit pid=26875)\u001b[0m Epoch : 3 Train Loss : 0.851918 \n",
            "\u001b[2m\u001b[36m(launch_and_fit pid=26875)\u001b[0m Epoch : 4 Train Loss : 0.827934 \n",
            "\u001b[2m\u001b[36m(launch_and_fit pid=26875)\u001b[0m Epoch : 5 Train Loss : 0.806695 \n",
            "\u001b[2m\u001b[36m(launch_and_fit pid=26875)\u001b[0m \n",
            "\u001b[2m\u001b[36m(launch_and_fit pid=26875)\u001b[0m \n",
            "\u001b[2m\u001b[36m(launch_and_fit pid=26875)\u001b[0m Time to complete local training round: 126.50175452232361\n",
            "\u001b[2m\u001b[36m(launch_and_fit pid=26875)\u001b[0m \n",
            "\u001b[2m\u001b[36m(launch_and_fit pid=26875)\u001b[0m \n",
            "\u001b[2m\u001b[36m(launch_and_fit pid=26945)\u001b[0m Skip loading params\n",
            "\u001b[2m\u001b[36m(launch_and_fit pid=26945)\u001b[0m Entered train function, total num. of epochs: 5\n",
            "\u001b[2m\u001b[36m(launch_and_fit pid=26945)\u001b[0m Epoch : 1 Train Loss : 0.910019 \n",
            "\u001b[2m\u001b[36m(launch_and_fit pid=26945)\u001b[0m Epoch : 2 Train Loss : 0.878922 \n",
            "\u001b[2m\u001b[36m(launch_and_fit pid=26945)\u001b[0m Epoch : 3 Train Loss : 0.859429 \n",
            "\u001b[2m\u001b[36m(launch_and_fit pid=26945)\u001b[0m Epoch : 4 Train Loss : 0.843673 \n"
          ]
        },
        {
          "output_type": "stream",
          "name": "stderr",
          "text": [
            "DEBUG flower 2022-10-27 11:53:12,280 | server.py:234 | fit_round 1 received 3 results and 0 failures\n",
            "DEBUG:flower:fit_round 1 received 3 results and 0 failures\n"
          ]
        },
        {
          "output_type": "stream",
          "name": "stdout",
          "text": [
            "\u001b[2m\u001b[36m(launch_and_fit pid=26945)\u001b[0m Epoch : 5 Train Loss : 0.836022 \n",
            "\u001b[2m\u001b[36m(launch_and_fit pid=26945)\u001b[0m \n",
            "\u001b[2m\u001b[36m(launch_and_fit pid=26945)\u001b[0m \n",
            "\u001b[2m\u001b[36m(launch_and_fit pid=26945)\u001b[0m Time to complete local training round: 127.7530632019043\n",
            "\u001b[2m\u001b[36m(launch_and_fit pid=26945)\u001b[0m \n",
            "\u001b[2m\u001b[36m(launch_and_fit pid=26945)\u001b[0m \n"
          ]
        },
        {
          "output_type": "stream",
          "name": "stderr",
          "text": [
            "WARNING flower 2022-10-27 11:53:12,522 | fedavg.py:243 | No fit_metrics_aggregation_fn provided\n",
            "WARNING:flower:No fit_metrics_aggregation_fn provided\n",
            "INFO flower 2022-10-27 11:56:01,167 | server.py:122 | fit progress: (1, tensor(207.4587, device='cuda:0', dtype=torch.float64), {'mean_class_acc.': 86.11351195620858}, 571.7901375419997)\n",
            "INFO:flower:fit progress: (1, tensor(207.4587, device='cuda:0', dtype=torch.float64), {'mean_class_acc.': 86.11351195620858}, 571.7901375419997)\n",
            "DEBUG flower 2022-10-27 11:56:01,172 | server.py:170 | evaluate_round 1: strategy sampled 3 clients (out of 100)\n",
            "DEBUG:flower:evaluate_round 1: strategy sampled 3 clients (out of 100)\n"
          ]
        },
        {
          "output_type": "stream",
          "name": "stdout",
          "text": [
            "\n",
            "Server eval\n",
            "                Labels  Class Acc.\n",
            "0          Atelectasis   86.641698\n",
            "1         Cardiomegaly   91.742465\n",
            "2        Consolidation   95.594792\n",
            "3                Edema   96.896736\n",
            "4             Effusion   87.925807\n",
            "5            Emphysema   63.224541\n",
            "6             Fibrosis   98.555377\n",
            "7         Infiltration   77.688604\n",
            "8                 Mass   78.776529\n",
            "9               Nodule   76.279650\n",
            "10  Pleural_Thickening   73.622258\n",
            "11           Pneumonia   98.929909\n",
            "12        Pneumothorax   93.597289\n",
            "\n",
            "\n"
          ]
        },
        {
          "output_type": "stream",
          "name": "stderr",
          "text": [
            "DEBUG flower 2022-10-27 11:56:18,919 | server.py:184 | evaluate_round 1 received 0 results and 3 failures\n",
            "DEBUG:flower:evaluate_round 1 received 0 results and 3 failures\n",
            "DEBUG flower 2022-10-27 11:56:18,922 | server.py:220 | fit_round 2: strategy sampled 3 clients (out of 100)\n",
            "DEBUG:flower:fit_round 2: strategy sampled 3 clients (out of 100)\n"
          ]
        },
        {
          "output_type": "stream",
          "name": "stdout",
          "text": [
            "\u001b[2m\u001b[36m(launch_and_fit pid=27264)\u001b[0m Entered train function, total num. of epochs: 5\n",
            "\u001b[2m\u001b[36m(launch_and_fit pid=27264)\u001b[0m Epoch : 1 Train Loss : 0.919014 \n",
            "\u001b[2m\u001b[36m(launch_and_fit pid=27264)\u001b[0m Epoch : 2 Train Loss : 0.896469 \n",
            "\u001b[2m\u001b[36m(launch_and_fit pid=27264)\u001b[0m Epoch : 3 Train Loss : 0.874140 \n",
            "\u001b[2m\u001b[36m(launch_and_fit pid=27264)\u001b[0m Epoch : 4 Train Loss : 0.861062 \n",
            "\u001b[2m\u001b[36m(launch_and_fit pid=27264)\u001b[0m Epoch : 5 Train Loss : 0.843518 \n",
            "\u001b[2m\u001b[36m(launch_and_fit pid=27264)\u001b[0m \n",
            "\u001b[2m\u001b[36m(launch_and_fit pid=27264)\u001b[0m \n",
            "\u001b[2m\u001b[36m(launch_and_fit pid=27264)\u001b[0m Time to complete local training round: 128.36606621742249\n",
            "\u001b[2m\u001b[36m(launch_and_fit pid=27264)\u001b[0m \n",
            "\u001b[2m\u001b[36m(launch_and_fit pid=27264)\u001b[0m \n",
            "\u001b[2m\u001b[36m(launch_and_fit pid=27381)\u001b[0m Entered train function, total num. of epochs: 5\n",
            "\u001b[2m\u001b[36m(launch_and_fit pid=27381)\u001b[0m Epoch : 1 Train Loss : 0.904205 \n",
            "\u001b[2m\u001b[36m(launch_and_fit pid=27381)\u001b[0m Epoch : 2 Train Loss : 0.868718 \n",
            "\u001b[2m\u001b[36m(launch_and_fit pid=27381)\u001b[0m Epoch : 3 Train Loss : 0.851314 \n",
            "\u001b[2m\u001b[36m(launch_and_fit pid=27381)\u001b[0m Epoch : 4 Train Loss : 0.834065 \n",
            "\u001b[2m\u001b[36m(launch_and_fit pid=27381)\u001b[0m Epoch : 5 Train Loss : 0.818880 \n",
            "\u001b[2m\u001b[36m(launch_and_fit pid=27381)\u001b[0m \n",
            "\u001b[2m\u001b[36m(launch_and_fit pid=27381)\u001b[0m \n",
            "\u001b[2m\u001b[36m(launch_and_fit pid=27381)\u001b[0m Time to complete local training round: 127.98099946975708\n",
            "\u001b[2m\u001b[36m(launch_and_fit pid=27381)\u001b[0m \n",
            "\u001b[2m\u001b[36m(launch_and_fit pid=27381)\u001b[0m \n",
            "\u001b[2m\u001b[36m(launch_and_fit pid=27461)\u001b[0m Entered train function, total num. of epochs: 5\n",
            "\u001b[2m\u001b[36m(launch_and_fit pid=27461)\u001b[0m Epoch : 1 Train Loss : 0.925963 \n",
            "\u001b[2m\u001b[36m(launch_and_fit pid=27461)\u001b[0m Epoch : 2 Train Loss : 0.889114 \n",
            "\u001b[2m\u001b[36m(launch_and_fit pid=27461)\u001b[0m Epoch : 3 Train Loss : 0.866443 \n",
            "\u001b[2m\u001b[36m(launch_and_fit pid=27461)\u001b[0m Epoch : 4 Train Loss : 0.848419 \n"
          ]
        },
        {
          "output_type": "stream",
          "name": "stderr",
          "text": [
            "DEBUG flower 2022-10-27 12:03:00,851 | server.py:234 | fit_round 2 received 3 results and 0 failures\n",
            "DEBUG:flower:fit_round 2 received 3 results and 0 failures\n"
          ]
        },
        {
          "output_type": "stream",
          "name": "stdout",
          "text": [
            "\u001b[2m\u001b[36m(launch_and_fit pid=27461)\u001b[0m Epoch : 5 Train Loss : 0.839798 \n",
            "\u001b[2m\u001b[36m(launch_and_fit pid=27461)\u001b[0m \n",
            "\u001b[2m\u001b[36m(launch_and_fit pid=27461)\u001b[0m \n",
            "\u001b[2m\u001b[36m(launch_and_fit pid=27461)\u001b[0m Time to complete local training round: 126.9220552444458\n",
            "\u001b[2m\u001b[36m(launch_and_fit pid=27461)\u001b[0m \n",
            "\u001b[2m\u001b[36m(launch_and_fit pid=27461)\u001b[0m \n"
          ]
        },
        {
          "output_type": "stream",
          "name": "stderr",
          "text": [
            "INFO flower 2022-10-27 12:05:51,108 | server.py:122 | fit progress: (2, tensor(210.2549, device='cuda:0', dtype=torch.float64), {'mean_class_acc.': 64.45788917699029}, 1161.731386587)\n",
            "INFO:flower:fit progress: (2, tensor(210.2549, device='cuda:0', dtype=torch.float64), {'mean_class_acc.': 64.45788917699029}, 1161.731386587)\n",
            "DEBUG flower 2022-10-27 12:05:51,113 | server.py:170 | evaluate_round 2: strategy sampled 3 clients (out of 100)\n",
            "DEBUG:flower:evaluate_round 2: strategy sampled 3 clients (out of 100)\n"
          ]
        },
        {
          "output_type": "stream",
          "name": "stdout",
          "text": [
            "\n",
            "Server eval\n",
            "                Labels  Class Acc.\n",
            "0          Atelectasis   63.527733\n",
            "1         Cardiomegaly   88.246834\n",
            "2        Consolidation   70.073123\n",
            "3                Edema   73.515249\n",
            "4             Effusion   70.840021\n",
            "5            Emphysema   72.623506\n",
            "6             Fibrosis   46.388443\n",
            "7         Infiltration   49.081505\n",
            "8                 Mass   56.304619\n",
            "9               Nodule   52.559301\n",
            "10  Pleural_Thickening   49.135010\n",
            "11           Pneumonia   69.609417\n",
            "12        Pneumothorax   76.047797\n",
            "\n",
            "\n"
          ]
        },
        {
          "output_type": "stream",
          "name": "stderr",
          "text": [
            "DEBUG flower 2022-10-27 12:06:09,189 | server.py:184 | evaluate_round 2 received 0 results and 3 failures\n",
            "DEBUG:flower:evaluate_round 2 received 0 results and 3 failures\n",
            "INFO flower 2022-10-27 12:06:09,196 | server.py:144 | FL finished in 1179.8185982989999\n",
            "INFO:flower:FL finished in 1179.8185982989999\n",
            "INFO flower 2022-10-27 12:06:09,204 | app.py:180 | app_fit: losses_distributed []\n",
            "INFO:flower:app_fit: losses_distributed []\n",
            "INFO flower 2022-10-27 12:06:09,206 | app.py:181 | app_fit: metrics_distributed {}\n",
            "INFO:flower:app_fit: metrics_distributed {}\n",
            "INFO flower 2022-10-27 12:06:09,212 | app.py:182 | app_fit: losses_centralized [(0, tensor(223.5734, device='cuda:0', dtype=torch.float64)), (1, tensor(207.4587, device='cuda:0', dtype=torch.float64)), (2, tensor(210.2549, device='cuda:0', dtype=torch.float64))]\n",
            "INFO:flower:app_fit: losses_centralized [(0, tensor(223.5734, device='cuda:0', dtype=torch.float64)), (1, tensor(207.4587, device='cuda:0', dtype=torch.float64)), (2, tensor(210.2549, device='cuda:0', dtype=torch.float64))]\n",
            "INFO flower 2022-10-27 12:06:09,215 | app.py:183 | app_fit: metrics_centralized {'mean_class_acc.': [(0, 41.04073205196801), (1, 86.11351195620858), (2, 64.45788917699029)]}\n",
            "INFO:flower:app_fit: metrics_centralized {'mean_class_acc.': [(0, 41.04073205196801), (1, 86.11351195620858), (2, 64.45788917699029)]}\n"
          ]
        },
        {
          "output_type": "execute_result",
          "data": {
            "text/plain": [
              "History (loss, centralized):\n",
              "\tround 0: 223.5733576230357\n",
              "\tround 1: 207.45867697240362\n",
              "\tround 2: 210.2548843501983\n",
              "History (metrics, centralized):\n",
              "{'mean_class_acc.': [(0, 41.04073205196801), (1, 86.11351195620858), (2, 64.45788917699029)]}"
            ]
          },
          "metadata": {},
          "execution_count": 22
        }
      ],
      "source": [
        "num_rounds = 2\n",
        "# 35 local epochs take approx 15 minutes\n",
        "local_epochs = 5\n",
        "fraction_fit = 0.03\n",
        "fraction_evaluate = 0.03\n",
        "min_fit_clients = 2\n",
        "min_evaluate_clients = 2\n",
        "\n",
        "client_resources = {\n",
        "    \"num_cpus\": 1,\n",
        "    \"num_gpus\": 1\n",
        "    }\n",
        "\n",
        "def fit_config(server_round: int):\n",
        "    config = {\n",
        "        \"server_round\": server_round,\n",
        "        \"local_epochs\": local_epochs,\n",
        "    }\n",
        "    return config\n",
        "\n",
        "# Create an instance of the model and get the parameters\n",
        "net = init_net()\n",
        "params = get_parameters(init_net())\n",
        "\n",
        "# Pass parameters to the Strategy for server-side parameter initialization\n",
        "strategy = fl.server.strategy.FedAvg(\n",
        "    fraction_fit=fraction_fit,\n",
        "    fraction_evaluate=fraction_evaluate,\n",
        "    min_fit_clients=min_fit_clients,\n",
        "    min_evaluate_clients=min_evaluate_clients,\n",
        "    min_available_clients=num_clients,\n",
        "    initial_parameters=fl.common.ndarrays_to_parameters(params),\n",
        "    evaluate_fn=server_eval,\n",
        "    on_fit_config_fn=fit_config,\n",
        ")\n",
        "\n",
        "# Start simulation\n",
        "fl.simulation.start_simulation(\n",
        "    client_fn=client_fn,\n",
        "    num_clients=num_clients,\n",
        "    client_resources=client_resources,\n",
        "    config=fl.server.ServerConfig(num_rounds=num_rounds),\n",
        "    strategy=strategy\n",
        ")"
      ]
    },
    {
      "cell_type": "markdown",
      "source": [
        "## Carbon-aware training, powered by the Carbon-aware-SDK"
      ],
      "metadata": {
        "id": "j9rsnl7hJ6ac"
      }
    },
    {
      "cell_type": "markdown",
      "source": [
        "### Simple LowCarbClientManger extension that keeps track of selected clients in each round for later CO2 emissions calculation"
      ],
      "metadata": {
        "id": "f_UK_QXgYUyj"
      }
    },
    {
      "cell_type": "code",
      "source": [
        "%cd carbonhack22"
      ],
      "metadata": {
        "colab": {
          "base_uri": "https://localhost:8080/"
        },
        "id": "Zux_VlfH_Bv8",
        "outputId": "c9d52377-bb3c-4313-9cc8-381c6e0a79d5"
      },
      "execution_count": 18,
      "outputs": [
        {
          "output_type": "stream",
          "name": "stdout",
          "text": [
            "/content/carbonhack22\n"
          ]
        }
      ]
    },
    {
      "cell_type": "code",
      "source": [
        "from flwr.server import SimpleClientManager\n",
        "from typing import Dict, List, Optional\n",
        "from flwr.server.criterion import Criterion\n",
        "from flwr.server.client_proxy import ClientProxy\n",
        "from lowcarb.lowcarb_client_manager import LowcarbClientManager\n",
        "\n",
        "class LowcarbClientManagerMonitor(LowcarbClientManager):\n",
        "  def __init__(self, api_host, workload_duration=15, forecast_window=12, num_rounds=1):\n",
        "    super().__init__(api_host, workload_duration=15, forecast_window=12)\n",
        "    # Dict that keeps track of training round start times for post-hoc CO2 emissions calculation\n",
        "    self.start_times: Dict[int: int] = dict()\n",
        "    # Dict that keeps track of client selection for post-hoc CO2 emissions calculation\n",
        "    self.client_selection_per_round: Dict[int: List] = {k: [] for k in range(num_rounds)}\n",
        "    self.selection_round = 0\n",
        "    def sample(\n",
        "            self,\n",
        "            num_clients: int,\n",
        "            min_num_clients: Optional[int] = None,\n",
        "            criterion: Optional[Criterion] = None,\n",
        "    ) -> List[ClientProxy]:\n",
        "        \"\"\"Sample a number of Flower ClientProxy instances.\n",
        "        This implementation is identical to Flower 1.1.0 `SimpleClientManager.sample(...)` besides calling\n",
        "        `self._sample(available_cids, num_clients)` instead of `random.sample(available_cids, num_clients)`.\n",
        "        \"\"\"\n",
        "        # Block until at least num_clients are connected.\n",
        "        if min_num_clients is None:\n",
        "            min_num_clients = num_clients\n",
        "        self.wait_for(min_num_clients)\n",
        "        # Sample clients which meet the criterion\n",
        "        available_cids = list(self.clients)\n",
        "        if criterion is not None:\n",
        "            available_cids = [\n",
        "                cid for cid in available_cids if criterion.select(self.clients[cid])\n",
        "            ]\n",
        "        sampled_cids = self._sample(available_cids, num_clients)\n",
        "        self.client_selection_per_round[self.selection_round].append(sampled_cids)\n",
        "        self.client_selection_per_round[self.selection_round] = time.localtime()\n",
        "        self.selection_round += 1\n",
        "        return [self.clients[cid] for cid in sampled_cids]"
      ],
      "metadata": {
        "id": "0uLMPA5dU7PA"
      },
      "execution_count": 19,
      "outputs": []
    },
    {
      "cell_type": "markdown",
      "source": [
        "### Taining"
      ],
      "metadata": {
        "id": "_qH4Pu7eLqL6"
      }
    },
    {
      "cell_type": "code",
      "source": [
        "num_rounds = 2\n",
        "# 35 local epochs take approx 15 minutes\n",
        "local_epochs = 5\n",
        "fraction_fit = 0.03\n",
        "fraction_evaluate = 0.03\n",
        "min_fit_clients = 2\n",
        "min_evaluate_clients = 2\n",
        "\n",
        "### LowCarbClientManager ###\n",
        "carbon_aware_sdk_api = 'https://carbon-aware-api.azurewebsites.net' # URL to the Carbon-Aware_SDK's WebApi\n",
        "workload_duration = 15  # estimated workload of each training in minutes\n",
        "forecast_window = 12    # forecast window considered by the client manager in hours\n",
        "lowcarb_client_manager = LowcarbClientManagerMonitor(\n",
        "    api_host=carbon_aware_sdk_api, \n",
        "    workload_duration=15, \n",
        "    forecast_window=12, \n",
        "    num_rounds=num_rounds\n",
        "    )\n",
        "### LowCarbClientManager ###\n",
        "\n",
        "client_resources = {\n",
        "    \"num_cpus\": 1,\n",
        "    \"num_gpus\": 1\n",
        "    }\n",
        "def fit_config(server_round: int):\n",
        "    config = {\n",
        "        \"server_round\": server_round,\n",
        "        \"local_epochs\": local_epochs,\n",
        "    }\n",
        "    return config\n",
        "# Create an instance of the model and get the parameters\n",
        "net = init_net()\n",
        "params = get_parameters(init_net())\n",
        "# Pass parameters to the Strategy for server-side parameter initialization\n",
        "strategy = fl.server.strategy.FedAvg(\n",
        "    fraction_fit=fraction_fit,\n",
        "    fraction_evaluate=fraction_evaluate,\n",
        "    min_fit_clients=min_fit_clients,\n",
        "    min_evaluate_clients=min_evaluate_clients,\n",
        "    min_available_clients=num_clients,\n",
        "    initial_parameters=fl.common.ndarrays_to_parameters(params),\n",
        "    evaluate_fn=server_eval,\n",
        "    on_fit_config_fn=fit_config,\n",
        ")\n",
        "# Start simulation\n",
        "fl.simulation.start_simulation(\n",
        "    client_fn=client_fn,\n",
        "    num_clients=num_clients,\n",
        "    config=fl.server.ServerConfig(num_rounds=num_rounds),\n",
        "    strategy=strategy,\n",
        "    client_manager=lowcarb_client_manager,  # pass the lowcarb_client_manager to the simulation\n",
        "    client_resources=client_resources\n",
        ")"
      ],
      "metadata": {
        "colab": {
          "base_uri": "https://localhost:8080/"
        },
        "id": "B1Ee-buUNyLN",
        "outputId": "b95eade2-f4c7-4e6c-8fac-b2acd4c9aacf"
      },
      "execution_count": null,
      "outputs": [
        {
          "metadata": {
            "tags": null
          },
          "name": "stderr",
          "output_type": "stream",
          "text": [
            "INFO flower 2022-10-27 13:14:26,224 | app.py:145 | Starting Flower simulation, config: ServerConfig(num_rounds=2, round_timeout=None)\n",
            "INFO:flower:Starting Flower simulation, config: ServerConfig(num_rounds=2, round_timeout=None)\n",
            "INFO flower 2022-10-27 13:14:28,849 | app.py:179 | Flower VCE: Ray initialized with resources: {'GPU': 1.0, 'object_store_memory': 16324091904.0, 'memory': 32648183808.0, 'node:172.28.0.2': 1.0, 'CPU': 8.0, 'accelerator_type:T4': 1.0}\n",
            "INFO:flower:Flower VCE: Ray initialized with resources: {'GPU': 1.0, 'object_store_memory': 16324091904.0, 'memory': 32648183808.0, 'node:172.28.0.2': 1.0, 'CPU': 8.0, 'accelerator_type:T4': 1.0}\n",
            "INFO flower 2022-10-27 13:14:28,853 | server.py:86 | Initializing global parameters\n",
            "INFO:flower:Initializing global parameters\n",
            "INFO flower 2022-10-27 13:14:28,858 | server.py:266 | Using initial parameters provided by strategy\n",
            "INFO:flower:Using initial parameters provided by strategy\n",
            "INFO flower 2022-10-27 13:14:28,860 | server.py:88 | Evaluating initial parameters\n",
            "INFO:flower:Evaluating initial parameters\n"
          ]
        },
        {
          "metadata": {
            "tags": null
          },
          "name": "stdout",
          "output_type": "stream",
          "text": [
            "Skip loading params\n"
          ]
        },
        {
          "metadata": {
            "tags": null
          },
          "name": "stderr",
          "output_type": "stream",
          "text": [
            "INFO flower 2022-10-27 13:17:34,649 | server.py:95 | initial parameters (loss, other metrics): tensor(224.0263, device='cuda:0', dtype=torch.float64), {'mean_class_acc.': 38.79079721776351}\n",
            "INFO:flower:initial parameters (loss, other metrics): tensor(224.0263, device='cuda:0', dtype=torch.float64), {'mean_class_acc.': 38.79079721776351}\n",
            "INFO flower 2022-10-27 13:17:34,655 | server.py:101 | FL starting\n",
            "INFO:flower:FL starting\n"
          ]
        },
        {
          "metadata": {
            "tags": null
          },
          "name": "stdout",
          "output_type": "stream",
          "text": [
            "\n",
            "Server eval\n",
            "                Labels  Class Acc.\n",
            "0          Atelectasis   41.020153\n",
            "1         Cardiomegaly    2.550383\n",
            "2        Consolidation   58.409131\n",
            "3                Edema   16.657749\n",
            "4             Effusion   88.211165\n",
            "5            Emphysema    2.211521\n",
            "6             Fibrosis    1.515962\n",
            "7         Infiltration   24.986624\n",
            "8                 Mass   26.680935\n",
            "9               Nodule   94.150169\n",
            "10  Pleural_Thickening   49.099340\n",
            "11           Pneumonia   93.650794\n",
            "12        Pneumothorax    5.136437\n",
            "\n",
            "\n"
          ]
        },
        {
          "metadata": {
            "tags": null
          },
          "name": "stderr",
          "output_type": "stream",
          "text": [
            "DEBUG flower 2022-10-27 13:27:15,816 | server.py:220 | fit_round 1: strategy sampled 3 clients (out of 100)\n",
            "DEBUG:flower:fit_round 1: strategy sampled 3 clients (out of 100)\n"
          ]
        },
        {
          "metadata": {
            "tags": null
          },
          "name": "stdout",
          "output_type": "stream",
          "text": [
            "--- Available Clients with their locations\n",
            "0 ukwest\n",
            "1 swedencentral\n",
            "2 francecentral\n",
            "3 westeurope\n",
            "4 northeurope\n",
            "5 uksouth\n",
            "6 swedencentral\n",
            "7 ukwest\n",
            "8 ukwest\n",
            "9 westus\n",
            "10 westcentralus\n",
            "11 norwaywest\n",
            "12 ukwest\n",
            "13 ukwest\n",
            "14 norwayeast\n",
            "15 francecentral\n",
            "16 australiaeast\n",
            "17 westcentralus\n",
            "18 westcentralus\n",
            "19 westeurope\n",
            "20 australiacentral\n",
            "21 australiaeast\n",
            "22 norwayeast\n",
            "23 westcentralus\n",
            "24 australiacentral\n",
            "25 australiaeast\n",
            "26 westus\n",
            "27 uksouth\n",
            "28 northeurope\n",
            "29 northeurope\n",
            "30 australiaeast\n",
            "31 westcentralus\n",
            "32 northeurope\n",
            "33 westus\n",
            "34 australiaeast\n",
            "35 swedencentral\n",
            "36 northeurope\n",
            "37 northeurope\n",
            "38 ukwest\n",
            "39 westus\n",
            "40 centralus\n",
            "41 uksouth\n",
            "42 swedencentral\n",
            "43 ukwest\n",
            "44 australiacentral\n",
            "45 westeurope\n",
            "46 norwaywest\n",
            "47 centralus\n",
            "48 westus\n",
            "49 francecentral\n",
            "50 westeurope\n",
            "51 norwaywest\n",
            "52 francecentral\n",
            "53 westus\n",
            "54 ukwest\n",
            "55 westeurope\n",
            "56 westeurope\n",
            "57 australiaeast\n",
            "58 westus\n",
            "59 norwaywest\n",
            "60 francecentral\n",
            "61 norwaywest\n",
            "62 francesouth\n",
            "63 norwayeast\n",
            "64 westcentralus\n",
            "65 ukwest\n",
            "66 centralus\n",
            "67 swedencentral\n",
            "68 westeurope\n",
            "69 australiaeast\n",
            "70 westcentralus\n",
            "71 norwayeast\n",
            "72 northeurope\n",
            "73 francecentral\n",
            "74 australiacentral\n",
            "75 swedencentral\n",
            "76 norwaywest\n",
            "77 centralus\n",
            "78 australiaeast\n",
            "79 westeurope\n",
            "80 francesouth\n",
            "81 australiacentral\n",
            "82 centralus\n",
            "83 westus\n",
            "84 norwayeast\n",
            "85 northeurope\n",
            "86 northeurope\n",
            "87 westcentralus\n",
            "88 northeurope\n",
            "89 uksouth\n",
            "90 centralus\n",
            "91 norwayeast\n",
            "92 uksouth\n",
            "93 australiacentral\n",
            "94 centralus\n",
            "95 ukwest\n",
            "96 centralus\n",
            "97 westcentralus\n",
            "98 uksouth\n",
            "99 westcentralus\n",
            "--- Available Clients with their participation\n",
            "0 0\n",
            "1 0\n",
            "2 0\n",
            "3 0\n",
            "4 0\n",
            "5 0\n",
            "6 0\n",
            "7 0\n",
            "8 0\n",
            "9 0\n",
            "10 0\n",
            "11 0\n",
            "12 0\n",
            "13 0\n",
            "14 0\n",
            "15 0\n",
            "16 0\n",
            "17 0\n",
            "18 0\n",
            "19 0\n",
            "20 0\n",
            "21 0\n",
            "22 0\n",
            "23 0\n",
            "24 0\n",
            "25 0\n",
            "26 0\n",
            "27 0\n",
            "28 0\n",
            "29 0\n",
            "30 0\n",
            "31 0\n",
            "32 0\n",
            "33 0\n",
            "34 0\n",
            "35 0\n",
            "36 0\n",
            "37 0\n",
            "38 0\n",
            "39 0\n",
            "40 0\n",
            "41 0\n",
            "42 0\n",
            "43 0\n",
            "44 0\n",
            "45 0\n",
            "46 0\n",
            "47 0\n",
            "48 0\n",
            "49 0\n",
            "50 0\n",
            "51 0\n",
            "52 0\n",
            "53 0\n",
            "54 0\n",
            "55 0\n",
            "56 0\n",
            "57 0\n",
            "58 0\n",
            "59 0\n",
            "60 0\n",
            "61 0\n",
            "62 0\n",
            "63 0\n",
            "64 0\n",
            "65 0\n",
            "66 0\n",
            "67 0\n",
            "68 0\n",
            "69 0\n",
            "70 0\n",
            "71 0\n",
            "72 0\n",
            "73 0\n",
            "74 0\n",
            "75 0\n",
            "76 0\n",
            "77 0\n",
            "78 0\n",
            "79 0\n",
            "80 0\n",
            "81 0\n",
            "82 0\n",
            "83 0\n",
            "84 0\n",
            "85 0\n",
            "86 0\n",
            "87 0\n",
            "88 0\n",
            "89 0\n",
            "90 0\n",
            "91 0\n",
            "92 0\n",
            "93 0\n",
            "94 0\n",
            "95 0\n",
            "96 0\n",
            "97 0\n",
            "98 0\n",
            "99 0\n",
            "--- Selected low carbon clients\n",
            "30\n",
            "34\n",
            "21\n",
            "\u001b[2m\u001b[36m(launch_and_fit pid=41506)\u001b[0m Skip loading params\n",
            "\u001b[2m\u001b[36m(launch_and_fit pid=41506)\u001b[0m Entered train function, total num. of epochs: 5\n",
            "\u001b[2m\u001b[36m(launch_and_fit pid=41506)\u001b[0m Epoch : 1 Train Loss : 0.942703 \n",
            "\u001b[2m\u001b[36m(launch_and_fit pid=41506)\u001b[0m Epoch : 2 Train Loss : 0.905802 \n",
            "\u001b[2m\u001b[36m(launch_and_fit pid=41506)\u001b[0m Epoch : 3 Train Loss : 0.885065 \n",
            "\u001b[2m\u001b[36m(launch_and_fit pid=41506)\u001b[0m Epoch : 4 Train Loss : 0.867167 \n",
            "\u001b[2m\u001b[36m(launch_and_fit pid=41506)\u001b[0m Epoch : 5 Train Loss : 0.858842 \n",
            "\u001b[2m\u001b[36m(launch_and_fit pid=41506)\u001b[0m \n",
            "\u001b[2m\u001b[36m(launch_and_fit pid=41506)\u001b[0m \n",
            "\u001b[2m\u001b[36m(launch_and_fit pid=41506)\u001b[0m Time to complete local training round: 126.85654950141907\n",
            "\u001b[2m\u001b[36m(launch_and_fit pid=41506)\u001b[0m \n",
            "\u001b[2m\u001b[36m(launch_and_fit pid=41506)\u001b[0m \n",
            "\u001b[2m\u001b[36m(launch_and_fit pid=41578)\u001b[0m Skip loading params\n",
            "\u001b[2m\u001b[36m(launch_and_fit pid=41578)\u001b[0m Entered train function, total num. of epochs: 5\n",
            "\u001b[2m\u001b[36m(launch_and_fit pid=41578)\u001b[0m Epoch : 1 Train Loss : 0.892290 \n",
            "\u001b[2m\u001b[36m(launch_and_fit pid=41578)\u001b[0m Epoch : 2 Train Loss : 0.850207 \n",
            "\u001b[2m\u001b[36m(launch_and_fit pid=41578)\u001b[0m Epoch : 3 Train Loss : 0.845958 \n",
            "\u001b[2m\u001b[36m(launch_and_fit pid=41578)\u001b[0m Epoch : 4 Train Loss : 0.814206 \n",
            "\u001b[2m\u001b[36m(launch_and_fit pid=41578)\u001b[0m Epoch : 5 Train Loss : 0.812080 \n",
            "\u001b[2m\u001b[36m(launch_and_fit pid=41578)\u001b[0m \n",
            "\u001b[2m\u001b[36m(launch_and_fit pid=41578)\u001b[0m \n",
            "\u001b[2m\u001b[36m(launch_and_fit pid=41578)\u001b[0m Time to complete local training round: 126.6811089515686\n",
            "\u001b[2m\u001b[36m(launch_and_fit pid=41578)\u001b[0m \n",
            "\u001b[2m\u001b[36m(launch_and_fit pid=41578)\u001b[0m \n"
          ]
        },
        {
          "metadata": {
            "tags": null
          },
          "name": "stderr",
          "output_type": "stream",
          "text": [
            "\u001b[2m\u001b[36m(launch_and_get_properties pid=41111)\u001b[0m E1027 13:31:44.448073812   41140 chttp2_transport.cc:1103]   Received a GOAWAY with error code ENHANCE_YOUR_CALM and debug data equal to \"too_many_pings\"\n"
          ]
        },
        {
          "metadata": {
            "tags": null
          },
          "name": "stdout",
          "output_type": "stream",
          "text": [
            "\u001b[2m\u001b[36m(launch_and_fit pid=41664)\u001b[0m Skip loading params\n",
            "\u001b[2m\u001b[36m(launch_and_fit pid=41664)\u001b[0m Entered train function, total num. of epochs: 5\n",
            "\u001b[2m\u001b[36m(launch_and_fit pid=41664)\u001b[0m Epoch : 1 Train Loss : 0.933494 \n",
            "\u001b[2m\u001b[36m(launch_and_fit pid=41664)\u001b[0m Epoch : 2 Train Loss : 0.893364 \n",
            "\u001b[2m\u001b[36m(launch_and_fit pid=41664)\u001b[0m Epoch : 3 Train Loss : 0.871935 \n",
            "\u001b[2m\u001b[36m(launch_and_fit pid=41664)\u001b[0m Epoch : 4 Train Loss : 0.849392 \n"
          ]
        },
        {
          "metadata": {
            "tags": null
          },
          "name": "stderr",
          "output_type": "stream",
          "text": [
            "DEBUG flower 2022-10-27 13:33:55,210 | server.py:234 | fit_round 1 received 3 results and 0 failures\n",
            "DEBUG:flower:fit_round 1 received 3 results and 0 failures\n"
          ]
        },
        {
          "metadata": {
            "tags": null
          },
          "name": "stdout",
          "output_type": "stream",
          "text": [
            "\u001b[2m\u001b[36m(launch_and_fit pid=41664)\u001b[0m Epoch : 5 Train Loss : 0.828066 \n",
            "\u001b[2m\u001b[36m(launch_and_fit pid=41664)\u001b[0m \n",
            "\u001b[2m\u001b[36m(launch_and_fit pid=41664)\u001b[0m \n",
            "\u001b[2m\u001b[36m(launch_and_fit pid=41664)\u001b[0m Time to complete local training round: 126.79603934288025\n",
            "\u001b[2m\u001b[36m(launch_and_fit pid=41664)\u001b[0m \n",
            "\u001b[2m\u001b[36m(launch_and_fit pid=41664)\u001b[0m \n"
          ]
        },
        {
          "metadata": {
            "tags": null
          },
          "name": "stderr",
          "output_type": "stream",
          "text": [
            "WARNING flower 2022-10-27 13:33:55,653 | fedavg.py:243 | No fit_metrics_aggregation_fn provided\n",
            "WARNING:flower:No fit_metrics_aggregation_fn provided\n",
            "INFO flower 2022-10-27 13:36:45,289 | server.py:122 | fit progress: (1, tensor(207.4112, device='cuda:0', dtype=torch.float64), {'mean_class_acc.': 86.41121674829539}, 1150.6312204240003)\n",
            "INFO:flower:fit progress: (1, tensor(207.4112, device='cuda:0', dtype=torch.float64), {'mean_class_acc.': 86.41121674829539}, 1150.6312204240003)\n"
          ]
        },
        {
          "metadata": {
            "tags": null
          },
          "name": "stdout",
          "output_type": "stream",
          "text": [
            "\n",
            "Server eval\n",
            "                Labels  Class Acc.\n",
            "0          Atelectasis   55.573390\n",
            "1         Cardiomegaly   94.239344\n",
            "2        Consolidation   95.969324\n",
            "3                Edema   98.127341\n",
            "4             Effusion   83.984305\n",
            "5            Emphysema   97.770644\n",
            "6             Fibrosis   75.869449\n",
            "7         Infiltration   75.958623\n",
            "8                 Mass   94.025325\n",
            "9               Nodule   79.596932\n",
            "10  Pleural_Thickening   97.092920\n",
            "11           Pneumonia   98.858570\n",
            "12        Pneumothorax   76.279650\n",
            "\n",
            "\n"
          ]
        },
        {
          "metadata": {
            "tags": null
          },
          "name": "stderr",
          "output_type": "stream",
          "text": [
            "\u001b[2m\u001b[36m(launch_and_fit pid=41664)\u001b[0m E1027 13:37:28.061906002   41692 chttp2_transport.cc:1103]   Received a GOAWAY with error code ENHANCE_YOUR_CALM and debug data equal to \"too_many_pings\"\n",
            "DEBUG flower 2022-10-27 13:46:24,050 | server.py:170 | evaluate_round 1: strategy sampled 3 clients (out of 100)\n",
            "DEBUG:flower:evaluate_round 1: strategy sampled 3 clients (out of 100)\n"
          ]
        },
        {
          "metadata": {
            "tags": null
          },
          "name": "stdout",
          "output_type": "stream",
          "text": [
            "--- Available Clients with their locations\n",
            "0 ukwest\n",
            "1 swedencentral\n",
            "2 francecentral\n",
            "3 westeurope\n",
            "4 northeurope\n",
            "5 uksouth\n",
            "6 swedencentral\n",
            "7 ukwest\n",
            "8 ukwest\n",
            "9 westus\n",
            "10 westcentralus\n",
            "11 norwaywest\n",
            "12 ukwest\n",
            "13 ukwest\n",
            "14 norwayeast\n",
            "15 francecentral\n",
            "16 australiaeast\n",
            "17 westcentralus\n",
            "18 westcentralus\n",
            "19 westeurope\n",
            "20 australiacentral\n",
            "21 australiaeast\n",
            "22 norwayeast\n",
            "23 westcentralus\n",
            "24 australiacentral\n",
            "25 australiaeast\n",
            "26 westus\n",
            "27 uksouth\n",
            "28 northeurope\n",
            "29 northeurope\n",
            "30 australiaeast\n",
            "31 westcentralus\n",
            "32 northeurope\n",
            "33 westus\n",
            "34 australiaeast\n",
            "35 swedencentral\n",
            "36 northeurope\n",
            "37 northeurope\n",
            "38 ukwest\n",
            "39 westus\n",
            "40 centralus\n",
            "41 uksouth\n",
            "42 swedencentral\n",
            "43 ukwest\n",
            "44 australiacentral\n",
            "45 westeurope\n",
            "46 norwaywest\n",
            "47 centralus\n",
            "48 westus\n",
            "49 francecentral\n",
            "50 westeurope\n",
            "51 norwaywest\n",
            "52 francecentral\n",
            "53 westus\n",
            "54 ukwest\n",
            "55 westeurope\n",
            "56 westeurope\n",
            "57 australiaeast\n",
            "58 westus\n",
            "59 norwaywest\n",
            "60 francecentral\n",
            "61 norwaywest\n",
            "62 francesouth\n",
            "63 norwayeast\n",
            "64 westcentralus\n",
            "65 ukwest\n",
            "66 centralus\n",
            "67 swedencentral\n",
            "68 westeurope\n",
            "69 australiaeast\n",
            "70 westcentralus\n",
            "71 norwayeast\n",
            "72 northeurope\n",
            "73 francecentral\n",
            "74 australiacentral\n",
            "75 swedencentral\n",
            "76 norwaywest\n",
            "77 centralus\n",
            "78 australiaeast\n",
            "79 westeurope\n",
            "80 francesouth\n",
            "81 australiacentral\n",
            "82 centralus\n",
            "83 westus\n",
            "84 norwayeast\n",
            "85 northeurope\n",
            "86 northeurope\n",
            "87 westcentralus\n",
            "88 northeurope\n",
            "89 uksouth\n",
            "90 centralus\n",
            "91 norwayeast\n",
            "92 uksouth\n",
            "93 australiacentral\n",
            "94 centralus\n",
            "95 ukwest\n",
            "96 centralus\n",
            "97 westcentralus\n",
            "98 uksouth\n",
            "99 westcentralus\n",
            "--- Available Clients with their participation\n",
            "0 0\n",
            "1 0\n",
            "2 0\n",
            "3 0\n",
            "4 0\n",
            "5 0\n",
            "6 0\n",
            "7 0\n",
            "8 0\n",
            "9 0\n",
            "10 0\n",
            "11 0\n",
            "12 0\n",
            "13 0\n",
            "14 0\n",
            "15 0\n",
            "16 0\n",
            "17 0\n",
            "18 0\n",
            "19 0\n",
            "20 0\n",
            "21 1\n",
            "22 0\n",
            "23 0\n",
            "24 0\n",
            "25 0\n",
            "26 0\n",
            "27 0\n",
            "28 0\n",
            "29 0\n",
            "30 1\n",
            "31 0\n",
            "32 0\n",
            "33 0\n",
            "34 1\n",
            "35 0\n",
            "36 0\n",
            "37 0\n",
            "38 0\n",
            "39 0\n",
            "40 0\n",
            "41 0\n",
            "42 0\n",
            "43 0\n",
            "44 0\n",
            "45 0\n",
            "46 0\n",
            "47 0\n",
            "48 0\n",
            "49 0\n",
            "50 0\n",
            "51 0\n",
            "52 0\n",
            "53 0\n",
            "54 0\n",
            "55 0\n",
            "56 0\n",
            "57 0\n",
            "58 0\n",
            "59 0\n",
            "60 0\n",
            "61 0\n",
            "62 0\n",
            "63 0\n",
            "64 0\n",
            "65 0\n",
            "66 0\n",
            "67 0\n",
            "68 0\n",
            "69 0\n",
            "70 0\n",
            "71 0\n",
            "72 0\n",
            "73 0\n",
            "74 0\n",
            "75 0\n",
            "76 0\n",
            "77 0\n",
            "78 0\n",
            "79 0\n",
            "80 0\n",
            "81 0\n",
            "82 0\n",
            "83 0\n",
            "84 0\n",
            "85 0\n",
            "86 0\n",
            "87 0\n",
            "88 0\n",
            "89 0\n",
            "90 0\n",
            "91 0\n",
            "92 0\n",
            "93 0\n",
            "94 0\n",
            "95 0\n",
            "96 0\n",
            "97 0\n",
            "98 0\n",
            "99 0\n",
            "--- Selected low carbon clients\n",
            "60\n",
            "2\n",
            "73\n"
          ]
        },
        {
          "metadata": {
            "tags": null
          },
          "name": "stderr",
          "output_type": "stream",
          "text": [
            "DEBUG flower 2022-10-27 13:46:42,080 | server.py:184 | evaluate_round 1 received 0 results and 3 failures\n",
            "DEBUG:flower:evaluate_round 1 received 0 results and 3 failures\n"
          ]
        }
      ]
    },
    {
      "cell_type": "markdown",
      "source": [
        "### Compare training and CO2 traces"
      ],
      "metadata": {
        "id": "Rf_3XN7NrbDh"
      }
    },
    {
      "cell_type": "code",
      "source": [
        "lowcarb_selected_clients_per_round "
      ],
      "metadata": {
        "id": "CNhMp177raWq"
      },
      "execution_count": null,
      "outputs": []
    },
    {
      "cell_type": "code",
      "source": [],
      "metadata": {
        "id": "m7NpB6iKr0Mu"
      },
      "execution_count": null,
      "outputs": []
    },
    {
      "cell_type": "code",
      "source": [],
      "metadata": {
        "id": "BJfcGEm_r0QV"
      },
      "execution_count": null,
      "outputs": []
    },
    {
      "cell_type": "code",
      "source": [],
      "metadata": {
        "id": "lBjs1pbMraaX"
      },
      "execution_count": null,
      "outputs": []
    }
  ],
  "metadata": {
    "accelerator": "GPU",
    "colab": {
      "collapsed_sections": [],
      "provenance": [],
      "machine_shape": "hm"
    },
    "gpuClass": "standard",
    "kernelspec": {
      "display_name": "Python 3",
      "name": "python3"
    },
    "language_info": {
      "name": "python"
    }
  },
  "nbformat": 4,
  "nbformat_minor": 0
}