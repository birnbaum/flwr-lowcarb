{
  "cells": [
    {
      "cell_type": "markdown",
      "metadata": {
        "id": "FLU2v46A66u2"
      },
      "source": [
        "# LowCarb thorax disease classification in Flower"
      ]
    },
    {
      "cell_type": "markdown",
      "metadata": {
        "id": "xEQcvKMXWQm2"
      },
      "source": [
        "## Create dirs, get data, pull lowcarb repo"
      ]
    },
    {
      "cell_type": "code",
      "execution_count": null,
      "metadata": {
        "id": "7UareTDwWQnE",
        "colab": {
          "base_uri": "https://localhost:8080/"
        },
        "outputId": "899d7496-115e-4a8c-e6a7-a34b3e3c71db"
      },
      "outputs": [
        {
          "output_type": "stream",
          "name": "stdout",
          "text": [
            "mkdir: cannot create directory ‘/root/.kaggle/’: File exists\n"
          ]
        }
      ],
      "source": [
        "!mkdir NIH\n",
        "!mkdir /root/.kaggle/"
      ]
    },
    {
      "cell_type": "markdown",
      "metadata": {
        "id": "9QmSontrWQnF"
      },
      "source": [
        "### Copy Kaggle API-key to created directory at '/root/.kaggle'"
      ]
    },
    {
      "cell_type": "code",
      "execution_count": null,
      "metadata": {
        "id": "5p8kHvQ8WQnF"
      },
      "outputs": [],
      "source": [
        "!cp '/content/drive/MyDrive/professional/Research_Jobs/UMI/projects/APIs/kaggle.json' '/root/.kaggle'"
      ]
    },
    {
      "cell_type": "code",
      "execution_count": null,
      "metadata": {
        "colab": {
          "base_uri": "https://localhost:8080/"
        },
        "id": "lD5Bb6JuWQnF",
        "outputId": "e6dc7d60-1a1a-4069-a6f4-c8ddc7c3b317"
      },
      "outputs": [
        {
          "output_type": "stream",
          "name": "stdout",
          "text": [
            "Downloading data.zip to /content\n",
            "100% 42.0G/42.0G [13:20<00:00, 60.1MB/s]\n",
            "100% 42.0G/42.0G [13:20<00:00, 56.3MB/s]\n"
          ]
        }
      ],
      "source": [
        "!kaggle datasets download -d nih-chest-xrays/data"
      ]
    },
    {
      "cell_type": "code",
      "execution_count": null,
      "metadata": {
        "id": "qLex1k_5WQnG"
      },
      "outputs": [],
      "source": [
        "!unzip -q '/content/data.zip' -d '/content/NIH/'"
      ]
    },
    {
      "cell_type": "code",
      "execution_count": null,
      "metadata": {
        "id": "N2_whCjXKKRJ"
      },
      "outputs": [],
      "source": [
        "!cp -r /content/drive/MyDrive/carbonhack22/openapi_client /content/"
      ]
    },
    {
      "cell_type": "code",
      "execution_count": null,
      "metadata": {
        "id": "F46L3o7hWUEt"
      },
      "outputs": [],
      "source": [
        "# Copy SSH key to access carbonhack22 GitHub repo\n",
        "!cp -r /content/drive/MyDrive/carbonhack22/.ssh ~/"
      ]
    },
    {
      "cell_type": "code",
      "execution_count": null,
      "metadata": {
        "colab": {
          "base_uri": "https://localhost:8080/"
        },
        "id": "YxD0Spp9Lsq1",
        "outputId": "3b166c72-3c23-45d1-b52e-b6156cae3548"
      },
      "outputs": [
        {
          "output_type": "stream",
          "name": "stdout",
          "text": [
            "Cloning into 'carbonhack22'...\n",
            "Warning: Permanently added the RSA host key for IP address '20.205.243.166' to the list of known hosts.\n",
            "remote: Enumerating objects: 331, done.\u001b[K\n",
            "remote: Counting objects: 100% (9/9), done.\u001b[K\n",
            "remote: Compressing objects: 100% (9/9), done.\u001b[K\n",
            "remote: Total 331 (delta 0), reused 2 (delta 0), pack-reused 322\u001b[K\n",
            "Receiving objects: 100% (331/331), 1.43 MiB | 1.23 MiB/s, done.\n",
            "Resolving deltas: 100% (159/159), done.\n",
            "/content/carbonhack22\n"
          ]
        }
      ],
      "source": [
        "!git clone git@github.com:birnbaum/carbonhack22.git\n",
        "%cd carbonhack22"
      ]
    },
    {
      "cell_type": "code",
      "execution_count": null,
      "metadata": {
        "colab": {
          "base_uri": "https://localhost:8080/",
          "height": 1000
        },
        "id": "YwPdzrJlLu6X",
        "outputId": "d666aa12-2889-4806-c397-5957015268ac"
      },
      "outputs": [
        {
          "output_type": "stream",
          "name": "stdout",
          "text": [
            "Looking in indexes: https://pypi.org/simple, https://us-python.pkg.dev/colab-wheels/public/simple/\n",
            "Processing ./carbon_sdk_client\n",
            "\u001b[33m  DEPRECATION: A future pip version will change local packages to be built in-place without first copying to a temporary directory. We recommend you use --use-feature=in-tree-build to test your packages with this new behavior before it becomes the default.\n",
            "   pip 21.3 will remove support for this functionality. You can find discussion regarding this at https://github.com/pypa/pip/issues/7555.\u001b[0m\n",
            "Requirement already satisfied: pandas in /usr/local/lib/python3.7/dist-packages (from -r requirements.txt (line 2)) (1.3.5)\n",
            "Collecting jupyterlab\n",
            "  Downloading jupyterlab-3.5.0-py3-none-any.whl (8.8 MB)\n",
            "\u001b[K     |████████████████████████████████| 8.8 MB 36.1 MB/s \n",
            "\u001b[?25hRequirement already satisfied: matplotlib in /usr/local/lib/python3.7/dist-packages (from -r requirements.txt (line 4)) (3.2.2)\n",
            "Requirement already satisfied: seaborn in /usr/local/lib/python3.7/dist-packages (from -r requirements.txt (line 5)) (0.11.2)\n",
            "Requirement already satisfied: flwr in /usr/local/lib/python3.7/dist-packages (from -r requirements.txt (line 8)) (1.0.0)\n",
            "Collecting urllib3>=1.25.3\n",
            "  Downloading urllib3-1.26.12-py2.py3-none-any.whl (140 kB)\n",
            "\u001b[K     |████████████████████████████████| 140 kB 71.4 MB/s \n",
            "\u001b[?25hRequirement already satisfied: python-dateutil in /usr/local/lib/python3.7/dist-packages (from openapi-client==1.0.0->-r requirements.txt (line 10)) (2.8.2)\n",
            "Requirement already satisfied: numpy>=1.17.3 in /usr/local/lib/python3.7/dist-packages (from pandas->-r requirements.txt (line 2)) (1.21.6)\n",
            "Requirement already satisfied: pytz>=2017.3 in /usr/local/lib/python3.7/dist-packages (from pandas->-r requirements.txt (line 2)) (2022.4)\n",
            "Requirement already satisfied: six>=1.5 in /usr/local/lib/python3.7/dist-packages (from python-dateutil->openapi-client==1.0.0->-r requirements.txt (line 10)) (1.15.0)\n",
            "Requirement already satisfied: ipython in /usr/local/lib/python3.7/dist-packages (from jupyterlab->-r requirements.txt (line 3)) (7.9.0)\n",
            "Collecting nbclassic\n",
            "  Downloading nbclassic-0.4.7-py3-none-any.whl (9.8 MB)\n",
            "\u001b[K     |████████████████████████████████| 9.8 MB 60.6 MB/s \n",
            "\u001b[?25hCollecting jupyter-server<3,>=1.16.0\n",
            "  Downloading jupyter_server-1.21.0-py3-none-any.whl (346 kB)\n",
            "\u001b[K     |████████████████████████████████| 346 kB 69.7 MB/s \n",
            "\u001b[?25hRequirement already satisfied: tomli in /usr/local/lib/python3.7/dist-packages (from jupyterlab->-r requirements.txt (line 3)) (2.0.1)\n",
            "Collecting jupyterlab-server~=2.10\n",
            "  Downloading jupyterlab_server-2.16.1-py3-none-any.whl (54 kB)\n",
            "\u001b[K     |████████████████████████████████| 54 kB 3.3 MB/s \n",
            "\u001b[?25hRequirement already satisfied: jinja2>=2.1 in /usr/local/lib/python3.7/dist-packages (from jupyterlab->-r requirements.txt (line 3)) (2.11.3)\n",
            "Requirement already satisfied: jupyter-core in /usr/local/lib/python3.7/dist-packages (from jupyterlab->-r requirements.txt (line 3)) (4.11.1)\n",
            "Collecting tornado>=6.1.0\n",
            "  Downloading tornado-6.2-cp37-abi3-manylinux_2_5_x86_64.manylinux1_x86_64.manylinux_2_17_x86_64.manylinux2014_x86_64.whl (423 kB)\n",
            "\u001b[K     |████████████████████████████████| 423 kB 73.6 MB/s \n",
            "\u001b[?25hRequirement already satisfied: notebook<7 in /usr/local/lib/python3.7/dist-packages (from jupyterlab->-r requirements.txt (line 3)) (5.5.0)\n",
            "Requirement already satisfied: packaging in /usr/local/lib/python3.7/dist-packages (from jupyterlab->-r requirements.txt (line 3)) (21.3)\n",
            "Requirement already satisfied: MarkupSafe>=0.23 in /usr/local/lib/python3.7/dist-packages (from jinja2>=2.1->jupyterlab->-r requirements.txt (line 3)) (2.0.1)\n",
            "Collecting nbconvert>=6.4.4\n",
            "  Downloading nbconvert-7.2.2-py3-none-any.whl (271 kB)\n",
            "\u001b[K     |████████████████████████████████| 271 kB 73.7 MB/s \n",
            "\u001b[?25hCollecting websocket-client\n",
            "  Downloading websocket_client-1.4.1-py3-none-any.whl (55 kB)\n",
            "\u001b[K     |████████████████████████████████| 55 kB 4.0 MB/s \n",
            "\u001b[?25hRequirement already satisfied: prometheus-client in /usr/local/lib/python3.7/dist-packages (from jupyter-server<3,>=1.16.0->jupyterlab->-r requirements.txt (line 3)) (0.13.1)\n",
            "Requirement already satisfied: pyzmq>=17 in /usr/local/lib/python3.7/dist-packages (from jupyter-server<3,>=1.16.0->jupyterlab->-r requirements.txt (line 3)) (23.2.1)\n",
            "Requirement already satisfied: traitlets>=5.1 in /usr/local/lib/python3.7/dist-packages (from jupyter-server<3,>=1.16.0->jupyterlab->-r requirements.txt (line 3)) (5.1.1)\n",
            "Collecting anyio<4,>=3.1.0\n",
            "  Downloading anyio-3.6.2-py3-none-any.whl (80 kB)\n",
            "\u001b[K     |████████████████████████████████| 80 kB 11.8 MB/s \n",
            "\u001b[?25hRequirement already satisfied: nbformat>=5.2.0 in /usr/local/lib/python3.7/dist-packages (from jupyter-server<3,>=1.16.0->jupyterlab->-r requirements.txt (line 3)) (5.7.0)\n",
            "Requirement already satisfied: terminado>=0.8.3 in /usr/local/lib/python3.7/dist-packages (from jupyter-server<3,>=1.16.0->jupyterlab->-r requirements.txt (line 3)) (0.13.3)\n",
            "Collecting argon2-cffi\n",
            "  Downloading argon2_cffi-21.3.0-py3-none-any.whl (14 kB)\n",
            "Requirement already satisfied: jupyter-client>=6.1.12 in /usr/local/lib/python3.7/dist-packages (from jupyter-server<3,>=1.16.0->jupyterlab->-r requirements.txt (line 3)) (6.1.12)\n",
            "Requirement already satisfied: Send2Trash in /usr/local/lib/python3.7/dist-packages (from jupyter-server<3,>=1.16.0->jupyterlab->-r requirements.txt (line 3)) (1.8.0)\n",
            "Collecting sniffio>=1.1\n",
            "  Downloading sniffio-1.3.0-py3-none-any.whl (10 kB)\n",
            "Requirement already satisfied: typing-extensions in /usr/local/lib/python3.7/dist-packages (from anyio<4,>=3.1.0->jupyter-server<3,>=1.16.0->jupyterlab->-r requirements.txt (line 3)) (4.1.1)\n",
            "Requirement already satisfied: idna>=2.8 in /usr/local/lib/python3.7/dist-packages (from anyio<4,>=3.1.0->jupyter-server<3,>=1.16.0->jupyterlab->-r requirements.txt (line 3)) (2.10)\n",
            "Requirement already satisfied: requests in /usr/local/lib/python3.7/dist-packages (from jupyterlab-server~=2.10->jupyterlab->-r requirements.txt (line 3)) (2.23.0)\n",
            "Requirement already satisfied: importlib-metadata>=4.8.3 in /usr/local/lib/python3.7/dist-packages (from jupyterlab-server~=2.10->jupyterlab->-r requirements.txt (line 3)) (4.13.0)\n",
            "Requirement already satisfied: babel in /usr/local/lib/python3.7/dist-packages (from jupyterlab-server~=2.10->jupyterlab->-r requirements.txt (line 3)) (2.10.3)\n",
            "Collecting jinja2>=2.1\n",
            "  Downloading Jinja2-3.1.2-py3-none-any.whl (133 kB)\n",
            "\u001b[K     |████████████████████████████████| 133 kB 26.2 MB/s \n",
            "\u001b[?25hCollecting json5\n",
            "  Downloading json5-0.9.10-py2.py3-none-any.whl (19 kB)\n",
            "Requirement already satisfied: jsonschema>=3.0.1 in /usr/local/lib/python3.7/dist-packages (from jupyterlab-server~=2.10->jupyterlab->-r requirements.txt (line 3)) (4.3.3)\n",
            "Requirement already satisfied: zipp>=0.5 in /usr/local/lib/python3.7/dist-packages (from importlib-metadata>=4.8.3->jupyterlab-server~=2.10->jupyterlab->-r requirements.txt (line 3)) (3.9.0)\n",
            "Requirement already satisfied: pyrsistent!=0.17.0,!=0.17.1,!=0.17.2,>=0.14.0 in /usr/local/lib/python3.7/dist-packages (from jsonschema>=3.0.1->jupyterlab-server~=2.10->jupyterlab->-r requirements.txt (line 3)) (0.18.1)\n",
            "Requirement already satisfied: attrs>=17.4.0 in /usr/local/lib/python3.7/dist-packages (from jsonschema>=3.0.1->jupyterlab-server~=2.10->jupyterlab->-r requirements.txt (line 3)) (22.1.0)\n",
            "Requirement already satisfied: importlib-resources>=1.4.0 in /usr/local/lib/python3.7/dist-packages (from jsonschema>=3.0.1->jupyterlab-server~=2.10->jupyterlab->-r requirements.txt (line 3)) (5.10.0)\n",
            "Requirement already satisfied: defusedxml in /usr/local/lib/python3.7/dist-packages (from nbconvert>=6.4.4->jupyter-server<3,>=1.16.0->jupyterlab->-r requirements.txt (line 3)) (0.7.1)\n",
            "Collecting tinycss2\n",
            "  Downloading tinycss2-1.2.1-py3-none-any.whl (21 kB)\n",
            "Collecting jupyterlab-pygments\n",
            "  Downloading jupyterlab_pygments-0.2.2-py2.py3-none-any.whl (21 kB)\n",
            "Collecting mistune<3,>=2.0.3\n",
            "  Downloading mistune-2.0.4-py2.py3-none-any.whl (24 kB)\n",
            "Requirement already satisfied: pandocfilters>=1.4.1 in /usr/local/lib/python3.7/dist-packages (from nbconvert>=6.4.4->jupyter-server<3,>=1.16.0->jupyterlab->-r requirements.txt (line 3)) (1.5.0)\n",
            "Requirement already satisfied: pygments>=2.4.1 in /usr/local/lib/python3.7/dist-packages (from nbconvert>=6.4.4->jupyter-server<3,>=1.16.0->jupyterlab->-r requirements.txt (line 3)) (2.6.1)\n",
            "Collecting nbclient>=0.5.0\n",
            "  Downloading nbclient-0.7.0-py3-none-any.whl (71 kB)\n",
            "\u001b[K     |████████████████████████████████| 71 kB 255 kB/s \n",
            "\u001b[?25hRequirement already satisfied: beautifulsoup4 in /usr/local/lib/python3.7/dist-packages (from nbconvert>=6.4.4->jupyter-server<3,>=1.16.0->jupyterlab->-r requirements.txt (line 3)) (4.6.3)\n",
            "Requirement already satisfied: bleach in /usr/local/lib/python3.7/dist-packages (from nbconvert>=6.4.4->jupyter-server<3,>=1.16.0->jupyterlab->-r requirements.txt (line 3)) (5.0.1)\n",
            "Collecting nest-asyncio\n",
            "  Downloading nest_asyncio-1.5.6-py3-none-any.whl (5.2 kB)\n",
            "Collecting traitlets>=5.1\n",
            "  Downloading traitlets-5.5.0-py3-none-any.whl (107 kB)\n",
            "\u001b[K     |████████████████████████████████| 107 kB 75.7 MB/s \n",
            "\u001b[?25hRequirement already satisfied: fastjsonschema in /usr/local/lib/python3.7/dist-packages (from nbformat>=5.2.0->jupyter-server<3,>=1.16.0->jupyterlab->-r requirements.txt (line 3)) (2.16.2)\n",
            "Requirement already satisfied: ipykernel in /usr/local/lib/python3.7/dist-packages (from notebook<7->jupyterlab->-r requirements.txt (line 3)) (5.3.4)\n",
            "Requirement already satisfied: ipython-genutils in /usr/local/lib/python3.7/dist-packages (from notebook<7->jupyterlab->-r requirements.txt (line 3)) (0.2.0)\n",
            "Requirement already satisfied: ptyprocess in /usr/local/lib/python3.7/dist-packages (from terminado>=0.8.3->jupyter-server<3,>=1.16.0->jupyterlab->-r requirements.txt (line 3)) (0.7.0)\n",
            "Requirement already satisfied: cycler>=0.10 in /usr/local/lib/python3.7/dist-packages (from matplotlib->-r requirements.txt (line 4)) (0.11.0)\n",
            "Requirement already satisfied: kiwisolver>=1.0.1 in /usr/local/lib/python3.7/dist-packages (from matplotlib->-r requirements.txt (line 4)) (1.4.4)\n",
            "Requirement already satisfied: pyparsing!=2.0.4,!=2.1.2,!=2.1.6,>=2.0.1 in /usr/local/lib/python3.7/dist-packages (from matplotlib->-r requirements.txt (line 4)) (3.0.9)\n",
            "Requirement already satisfied: scipy>=1.0 in /usr/local/lib/python3.7/dist-packages (from seaborn->-r requirements.txt (line 5)) (1.7.3)\n",
            "Requirement already satisfied: iterators<0.0.3,>=0.0.2 in /usr/local/lib/python3.7/dist-packages (from flwr->-r requirements.txt (line 8)) (0.0.2)\n",
            "Requirement already satisfied: protobuf<4.0.0,>=3.19.0 in /usr/local/lib/python3.7/dist-packages (from flwr->-r requirements.txt (line 8)) (3.20.3)\n",
            "Requirement already satisfied: grpcio<2.0.0,>=1.43.0 in /usr/local/lib/python3.7/dist-packages (from flwr->-r requirements.txt (line 8)) (1.43.0)\n",
            "Collecting argon2-cffi-bindings\n",
            "  Downloading argon2_cffi_bindings-21.2.0-cp36-abi3-manylinux_2_17_x86_64.manylinux2014_x86_64.whl (86 kB)\n",
            "\u001b[K     |████████████████████████████████| 86 kB 5.2 MB/s \n",
            "\u001b[?25hRequirement already satisfied: cffi>=1.0.1 in /usr/local/lib/python3.7/dist-packages (from argon2-cffi-bindings->argon2-cffi->jupyter-server<3,>=1.16.0->jupyterlab->-r requirements.txt (line 3)) (1.15.1)\n",
            "Requirement already satisfied: pycparser in /usr/local/lib/python3.7/dist-packages (from cffi>=1.0.1->argon2-cffi-bindings->argon2-cffi->jupyter-server<3,>=1.16.0->jupyterlab->-r requirements.txt (line 3)) (2.21)\n",
            "Requirement already satisfied: webencodings in /usr/local/lib/python3.7/dist-packages (from bleach->nbconvert>=6.4.4->jupyter-server<3,>=1.16.0->jupyterlab->-r requirements.txt (line 3)) (0.5.1)\n",
            "Requirement already satisfied: pexpect in /usr/local/lib/python3.7/dist-packages (from ipython->jupyterlab->-r requirements.txt (line 3)) (4.8.0)\n",
            "Requirement already satisfied: backcall in /usr/local/lib/python3.7/dist-packages (from ipython->jupyterlab->-r requirements.txt (line 3)) (0.2.0)\n",
            "Requirement already satisfied: pickleshare in /usr/local/lib/python3.7/dist-packages (from ipython->jupyterlab->-r requirements.txt (line 3)) (0.7.5)\n",
            "Requirement already satisfied: setuptools>=18.5 in /usr/local/lib/python3.7/dist-packages (from ipython->jupyterlab->-r requirements.txt (line 3)) (57.4.0)\n",
            "Requirement already satisfied: prompt-toolkit<2.1.0,>=2.0.0 in /usr/local/lib/python3.7/dist-packages (from ipython->jupyterlab->-r requirements.txt (line 3)) (2.0.10)\n",
            "Requirement already satisfied: decorator in /usr/local/lib/python3.7/dist-packages (from ipython->jupyterlab->-r requirements.txt (line 3)) (4.4.2)\n",
            "Collecting jedi>=0.10\n",
            "  Downloading jedi-0.18.1-py2.py3-none-any.whl (1.6 MB)\n",
            "\u001b[K     |████████████████████████████████| 1.6 MB 61.3 MB/s \n",
            "\u001b[?25hRequirement already satisfied: parso<0.9.0,>=0.8.0 in /usr/local/lib/python3.7/dist-packages (from jedi>=0.10->ipython->jupyterlab->-r requirements.txt (line 3)) (0.8.3)\n",
            "Requirement already satisfied: wcwidth in /usr/local/lib/python3.7/dist-packages (from prompt-toolkit<2.1.0,>=2.0.0->ipython->jupyterlab->-r requirements.txt (line 3)) (0.2.5)\n",
            "Collecting notebook-shim>=0.1.0\n",
            "  Downloading notebook_shim-0.2.0-py3-none-any.whl (13 kB)\n",
            "Requirement already satisfied: chardet<4,>=3.0.2 in /usr/local/lib/python3.7/dist-packages (from requests->jupyterlab-server~=2.10->jupyterlab->-r requirements.txt (line 3)) (3.0.4)\n",
            "Collecting urllib3>=1.25.3\n",
            "  Downloading urllib3-1.25.11-py2.py3-none-any.whl (127 kB)\n",
            "\u001b[K     |████████████████████████████████| 127 kB 76.4 MB/s \n",
            "\u001b[?25hRequirement already satisfied: certifi>=2017.4.17 in /usr/local/lib/python3.7/dist-packages (from requests->jupyterlab-server~=2.10->jupyterlab->-r requirements.txt (line 3)) (2022.9.24)\n",
            "Building wheels for collected packages: openapi-client\n",
            "  Building wheel for openapi-client (setup.py) ... \u001b[?25l\u001b[?25hdone\n",
            "  Created wheel for openapi-client: filename=openapi_client-1.0.0-py3-none-any.whl size=60250 sha256=b12f0629e5352e500d6efce9fa9a25478a365efcb65b50452cbd922607bd8a3c\n",
            "  Stored in directory: /tmp/pip-ephem-wheel-cache-ni9v9ofn/wheels/bf/47/68/547e7c10907734e247c90be194331c6553f9494d5b7326709f\n",
            "Successfully built openapi-client\n",
            "Installing collected packages: traitlets, tornado, nest-asyncio, tinycss2, sniffio, nbclient, mistune, jupyterlab-pygments, jinja2, argon2-cffi-bindings, websocket-client, nbconvert, jedi, argon2-cffi, anyio, urllib3, jupyter-server, notebook-shim, json5, nbclassic, jupyterlab-server, openapi-client, jupyterlab\n",
            "  Attempting uninstall: traitlets\n",
            "    Found existing installation: traitlets 5.1.1\n",
            "    Uninstalling traitlets-5.1.1:\n",
            "      Successfully uninstalled traitlets-5.1.1\n",
            "  Attempting uninstall: tornado\n",
            "    Found existing installation: tornado 5.1.1\n",
            "    Uninstalling tornado-5.1.1:\n",
            "      Successfully uninstalled tornado-5.1.1\n",
            "  Attempting uninstall: mistune\n",
            "    Found existing installation: mistune 0.8.4\n",
            "    Uninstalling mistune-0.8.4:\n",
            "      Successfully uninstalled mistune-0.8.4\n",
            "  Attempting uninstall: jinja2\n",
            "    Found existing installation: Jinja2 2.11.3\n",
            "    Uninstalling Jinja2-2.11.3:\n",
            "      Successfully uninstalled Jinja2-2.11.3\n",
            "  Attempting uninstall: nbconvert\n",
            "    Found existing installation: nbconvert 5.6.1\n",
            "    Uninstalling nbconvert-5.6.1:\n",
            "      Successfully uninstalled nbconvert-5.6.1\n",
            "  Attempting uninstall: urllib3\n",
            "    Found existing installation: urllib3 1.24.3\n",
            "    Uninstalling urllib3-1.24.3:\n",
            "      Successfully uninstalled urllib3-1.24.3\n",
            "\u001b[31mERROR: pip's dependency resolver does not currently take into account all the packages that are installed. This behaviour is the source of the following dependency conflicts.\n",
            "google-colab 1.0.0 requires tornado~=5.1.0, but you have tornado 6.2 which is incompatible.\n",
            "flask 1.1.4 requires Jinja2<3.0,>=2.10.1, but you have jinja2 3.1.2 which is incompatible.\u001b[0m\n",
            "Successfully installed anyio-3.6.2 argon2-cffi-21.3.0 argon2-cffi-bindings-21.2.0 jedi-0.18.1 jinja2-3.1.2 json5-0.9.10 jupyter-server-1.21.0 jupyterlab-3.5.0 jupyterlab-pygments-0.2.2 jupyterlab-server-2.16.1 mistune-2.0.4 nbclassic-0.4.7 nbclient-0.7.0 nbconvert-7.2.2 nest-asyncio-1.5.6 notebook-shim-0.2.0 openapi-client-1.0.0 sniffio-1.3.0 tinycss2-1.2.1 tornado-6.2 traitlets-5.5.0 urllib3-1.25.11 websocket-client-1.4.1\n"
          ]
        },
        {
          "output_type": "display_data",
          "data": {
            "application/vnd.colab-display-data+json": {
              "pip_warning": {
                "packages": [
                  "tornado",
                  "urllib3"
                ]
              }
            }
          },
          "metadata": {}
        }
      ],
      "source": [
        "!pip install -r requirements.txt"
      ]
    },
    {
      "cell_type": "markdown",
      "metadata": {
        "id": "vHtLCCz2NWC3"
      },
      "source": [
        "## Check GPU availability"
      ]
    },
    {
      "cell_type": "code",
      "execution_count": null,
      "metadata": {
        "colab": {
          "base_uri": "https://localhost:8080/"
        },
        "id": "4mKwZQyyLwUv",
        "outputId": "526c106a-ccfe-4bc2-d56f-07bea70f71a0"
      },
      "outputs": [
        {
          "output_type": "stream",
          "name": "stdout",
          "text": [
            "Mon Oct 24 18:35:17 2022       \n",
            "+-----------------------------------------------------------------------------+\n",
            "| NVIDIA-SMI 460.32.03    Driver Version: 460.32.03    CUDA Version: 11.2     |\n",
            "|-------------------------------+----------------------+----------------------+\n",
            "| GPU  Name        Persistence-M| Bus-Id        Disp.A | Volatile Uncorr. ECC |\n",
            "| Fan  Temp  Perf  Pwr:Usage/Cap|         Memory-Usage | GPU-Util  Compute M. |\n",
            "|                               |                      |               MIG M. |\n",
            "|===============================+======================+======================|\n",
            "|   0  Tesla T4            Off  | 00000000:00:04.0 Off |                    0 |\n",
            "| N/A   38C    P8     9W /  70W |      0MiB / 15109MiB |      0%      Default |\n",
            "|                               |                      |                  N/A |\n",
            "+-------------------------------+----------------------+----------------------+\n",
            "                                                                               \n",
            "+-----------------------------------------------------------------------------+\n",
            "| Processes:                                                                  |\n",
            "|  GPU   GI   CI        PID   Type   Process name                  GPU Memory |\n",
            "|        ID   ID                                                   Usage      |\n",
            "|=============================================================================|\n",
            "|  No running processes found                                                 |\n",
            "+-----------------------------------------------------------------------------+\n"
          ]
        }
      ],
      "source": [
        "gpu_info = !nvidia-smi\n",
        "gpu_info = '\\n'.join(gpu_info)\n",
        "if gpu_info.find('failed') >= 0:\n",
        "  print('Not connected to a GPU')\n",
        "else:\n",
        "  print(gpu_info)"
      ]
    },
    {
      "cell_type": "markdown",
      "metadata": {
        "id": "mtoyp-b2NYIe"
      },
      "source": [
        "## Create dirs, get data "
      ]
    },
    {
      "cell_type": "code",
      "execution_count": null,
      "metadata": {
        "id": "7fODONtR3CgP"
      },
      "outputs": [],
      "source": [
        "# !mkdir NIH\n",
        "# !mkdir /root/.kaggle/"
      ]
    },
    {
      "cell_type": "markdown",
      "metadata": {
        "id": "NmJd_Jb62xQt"
      },
      "source": [
        "### Copy Kaggle API-key to created directory at '/root/.kaggle'"
      ]
    },
    {
      "cell_type": "code",
      "execution_count": null,
      "metadata": {
        "id": "vgDZ9Zbqmn9E"
      },
      "outputs": [],
      "source": [
        "# !cp '/content/drive/MyDrive/professional/Research_Jobs/UMI/projects/APIs/kaggle.json' '/root/.kaggle'"
      ]
    },
    {
      "cell_type": "code",
      "execution_count": null,
      "metadata": {
        "colab": {
          "base_uri": "https://localhost:8080/"
        },
        "id": "ZWLdG0c35F5v",
        "outputId": "9277faae-a3e5-42da-af3c-4f1d4edf65f3"
      },
      "outputs": [
        {
          "name": "stdout",
          "output_type": "stream",
          "text": [
            "Downloading data.zip to /content/carbonhack22\n",
            "100% 42.0G/42.0G [11:09<00:00, 63.4MB/s]\n",
            "100% 42.0G/42.0G [11:09<00:00, 67.3MB/s]\n"
          ]
        }
      ],
      "source": [
        "# !kaggle datasets download -d nih-chest-xrays/data"
      ]
    },
    {
      "cell_type": "code",
      "execution_count": null,
      "metadata": {
        "id": "Q9vB9RBo3GWB"
      },
      "outputs": [],
      "source": [
        "# !unzip -q '/content/data.zip' -d '/content/NIH/'"
      ]
    },
    {
      "cell_type": "markdown",
      "metadata": {
        "id": "8CowQiKO63e8"
      },
      "source": [
        "## Install packages"
      ]
    },
    {
      "cell_type": "code",
      "execution_count": null,
      "metadata": {
        "colab": {
          "base_uri": "https://localhost:8080/",
          "height": 1000
        },
        "id": "lHXOfCIZ6vey",
        "outputId": "ba438167-ba28-4225-a2a3-cbd126da160e"
      },
      "outputs": [
        {
          "output_type": "stream",
          "name": "stdout",
          "text": [
            "Looking in indexes: https://pypi.org/simple, https://us-python.pkg.dev/colab-wheels/public/simple/\n",
            "Collecting flwr[simulation]\n",
            "  Downloading flwr-1.0.0-py3-none-any.whl (90 kB)\n",
            "\u001b[K     |████████████████████████████████| 90 kB 7.4 MB/s \n",
            "\u001b[?25hCollecting iterators<0.0.3,>=0.0.2\n",
            "  Downloading iterators-0.0.2-py3-none-any.whl (3.9 kB)\n",
            "Requirement already satisfied: importlib-metadata<5.0.0,>=4.0.0 in /usr/local/lib/python3.7/dist-packages (from flwr[simulation]) (4.13.0)\n",
            "Requirement already satisfied: numpy<2.0.0,>=1.21.0 in /usr/local/lib/python3.7/dist-packages (from flwr[simulation]) (1.21.6)\n",
            "Collecting protobuf<4.0.0,>=3.19.0\n",
            "  Downloading protobuf-3.20.3-cp37-cp37m-manylinux_2_5_x86_64.manylinux1_x86_64.whl (1.0 MB)\n",
            "\u001b[K     |████████████████████████████████| 1.0 MB 59.7 MB/s \n",
            "\u001b[?25hRequirement already satisfied: grpcio<2.0.0,>=1.43.0 in /usr/local/lib/python3.7/dist-packages (from flwr[simulation]) (1.49.1)\n",
            "Collecting ray[default]<1.14.0,>=1.13.0\n",
            "  Downloading ray-1.13.0-cp37-cp37m-manylinux2014_x86_64.whl (54.5 MB)\n",
            "\u001b[K     |████████████████████████████████| 54.5 MB 143 kB/s \n",
            "\u001b[?25hRequirement already satisfied: six>=1.5.2 in /usr/local/lib/python3.7/dist-packages (from grpcio<2.0.0,>=1.43.0->flwr[simulation]) (1.15.0)\n",
            "Requirement already satisfied: zipp>=0.5 in /usr/local/lib/python3.7/dist-packages (from importlib-metadata<5.0.0,>=4.0.0->flwr[simulation]) (3.9.0)\n",
            "Requirement already satisfied: typing-extensions>=3.6.4 in /usr/local/lib/python3.7/dist-packages (from importlib-metadata<5.0.0,>=4.0.0->flwr[simulation]) (4.1.1)\n",
            "Requirement already satisfied: frozenlist in /usr/local/lib/python3.7/dist-packages (from ray[default]<1.14.0,>=1.13.0->flwr[simulation]) (1.3.1)\n",
            "Collecting virtualenv\n",
            "  Downloading virtualenv-20.16.5-py3-none-any.whl (8.8 MB)\n",
            "\u001b[K     |████████████████████████████████| 8.8 MB 55.5 MB/s \n",
            "\u001b[?25hRequirement already satisfied: attrs in /usr/local/lib/python3.7/dist-packages (from ray[default]<1.14.0,>=1.13.0->flwr[simulation]) (22.1.0)\n",
            "Requirement already satisfied: aiosignal in /usr/local/lib/python3.7/dist-packages (from ray[default]<1.14.0,>=1.13.0->flwr[simulation]) (1.2.0)\n",
            "Requirement already satisfied: jsonschema in /usr/local/lib/python3.7/dist-packages (from ray[default]<1.14.0,>=1.13.0->flwr[simulation]) (4.3.3)\n",
            "Requirement already satisfied: msgpack<2.0.0,>=1.0.0 in /usr/local/lib/python3.7/dist-packages (from ray[default]<1.14.0,>=1.13.0->flwr[simulation]) (1.0.4)\n",
            "Requirement already satisfied: filelock in /usr/local/lib/python3.7/dist-packages (from ray[default]<1.14.0,>=1.13.0->flwr[simulation]) (3.8.0)\n",
            "Requirement already satisfied: click<=8.0.4,>=7.0 in /usr/local/lib/python3.7/dist-packages (from ray[default]<1.14.0,>=1.13.0->flwr[simulation]) (7.1.2)\n",
            "Requirement already satisfied: requests in /usr/local/lib/python3.7/dist-packages (from ray[default]<1.14.0,>=1.13.0->flwr[simulation]) (2.23.0)\n",
            "Requirement already satisfied: pyyaml in /usr/local/lib/python3.7/dist-packages (from ray[default]<1.14.0,>=1.13.0->flwr[simulation]) (6.0)\n",
            "Collecting grpcio<2.0.0,>=1.43.0\n",
            "  Downloading grpcio-1.43.0-cp37-cp37m-manylinux_2_17_x86_64.manylinux2014_x86_64.whl (4.1 MB)\n",
            "\u001b[K     |████████████████████████████████| 4.1 MB 57.2 MB/s \n",
            "\u001b[?25hCollecting prometheus-client<0.14.0,>=0.7.1\n",
            "  Downloading prometheus_client-0.13.1-py3-none-any.whl (57 kB)\n",
            "\u001b[K     |████████████████████████████████| 57 kB 6.2 MB/s \n",
            "\u001b[?25hRequirement already satisfied: aiohttp>=3.7 in /usr/local/lib/python3.7/dist-packages (from ray[default]<1.14.0,>=1.13.0->flwr[simulation]) (3.8.3)\n",
            "Collecting aiohttp-cors\n",
            "  Downloading aiohttp_cors-0.7.0-py3-none-any.whl (27 kB)\n",
            "Collecting py-spy>=0.2.0\n",
            "  Downloading py_spy-0.3.14-py2.py3-none-manylinux_2_5_x86_64.manylinux1_x86_64.whl (3.0 MB)\n",
            "\u001b[K     |████████████████████████████████| 3.0 MB 60.9 MB/s \n",
            "\u001b[?25hCollecting gpustat>=1.0.0b1\n",
            "  Downloading gpustat-1.0.0.tar.gz (90 kB)\n",
            "\u001b[K     |████████████████████████████████| 90 kB 9.1 MB/s \n",
            "\u001b[?25hCollecting colorful\n",
            "  Downloading colorful-0.5.4-py2.py3-none-any.whl (201 kB)\n",
            "\u001b[K     |████████████████████████████████| 201 kB 66.3 MB/s \n",
            "\u001b[?25hCollecting opencensus\n",
            "  Downloading opencensus-0.11.0-py2.py3-none-any.whl (128 kB)\n",
            "\u001b[K     |████████████████████████████████| 128 kB 73.7 MB/s \n",
            "\u001b[?25hRequirement already satisfied: smart-open in /usr/local/lib/python3.7/dist-packages (from ray[default]<1.14.0,>=1.13.0->flwr[simulation]) (5.2.1)\n",
            "Requirement already satisfied: async-timeout<5.0,>=4.0.0a3 in /usr/local/lib/python3.7/dist-packages (from aiohttp>=3.7->ray[default]<1.14.0,>=1.13.0->flwr[simulation]) (4.0.2)\n",
            "Requirement already satisfied: charset-normalizer<3.0,>=2.0 in /usr/local/lib/python3.7/dist-packages (from aiohttp>=3.7->ray[default]<1.14.0,>=1.13.0->flwr[simulation]) (2.1.1)\n",
            "Requirement already satisfied: yarl<2.0,>=1.0 in /usr/local/lib/python3.7/dist-packages (from aiohttp>=3.7->ray[default]<1.14.0,>=1.13.0->flwr[simulation]) (1.8.1)\n",
            "Requirement already satisfied: asynctest==0.13.0 in /usr/local/lib/python3.7/dist-packages (from aiohttp>=3.7->ray[default]<1.14.0,>=1.13.0->flwr[simulation]) (0.13.0)\n",
            "Requirement already satisfied: multidict<7.0,>=4.5 in /usr/local/lib/python3.7/dist-packages (from aiohttp>=3.7->ray[default]<1.14.0,>=1.13.0->flwr[simulation]) (6.0.2)\n",
            "Collecting nvidia-ml-py<=11.495.46,>=11.450.129\n",
            "  Downloading nvidia_ml_py-11.495.46-py3-none-any.whl (25 kB)\n",
            "Collecting psutil>=5.6.0\n",
            "  Downloading psutil-5.9.3-cp37-cp37m-manylinux_2_12_x86_64.manylinux2010_x86_64.manylinux_2_17_x86_64.manylinux2014_x86_64.whl (291 kB)\n",
            "\u001b[K     |████████████████████████████████| 291 kB 52.2 MB/s \n",
            "\u001b[?25hCollecting blessed>=1.17.1\n",
            "  Downloading blessed-1.19.1-py2.py3-none-any.whl (58 kB)\n",
            "\u001b[K     |████████████████████████████████| 58 kB 7.0 MB/s \n",
            "\u001b[?25hRequirement already satisfied: wcwidth>=0.1.4 in /usr/local/lib/python3.7/dist-packages (from blessed>=1.17.1->gpustat>=1.0.0b1->ray[default]<1.14.0,>=1.13.0->flwr[simulation]) (0.2.5)\n",
            "Requirement already satisfied: idna>=2.0 in /usr/local/lib/python3.7/dist-packages (from yarl<2.0,>=1.0->aiohttp>=3.7->ray[default]<1.14.0,>=1.13.0->flwr[simulation]) (2.10)\n",
            "Requirement already satisfied: importlib-resources>=1.4.0 in /usr/local/lib/python3.7/dist-packages (from jsonschema->ray[default]<1.14.0,>=1.13.0->flwr[simulation]) (5.10.0)\n",
            "Requirement already satisfied: pyrsistent!=0.17.0,!=0.17.1,!=0.17.2,>=0.14.0 in /usr/local/lib/python3.7/dist-packages (from jsonschema->ray[default]<1.14.0,>=1.13.0->flwr[simulation]) (0.18.1)\n",
            "Collecting opencensus-context>=0.1.3\n",
            "  Downloading opencensus_context-0.1.3-py2.py3-none-any.whl (5.1 kB)\n",
            "Requirement already satisfied: google-api-core<3.0.0,>=1.0.0 in /usr/local/lib/python3.7/dist-packages (from opencensus->ray[default]<1.14.0,>=1.13.0->flwr[simulation]) (1.31.6)\n",
            "Requirement already satisfied: googleapis-common-protos<2.0dev,>=1.6.0 in /usr/local/lib/python3.7/dist-packages (from google-api-core<3.0.0,>=1.0.0->opencensus->ray[default]<1.14.0,>=1.13.0->flwr[simulation]) (1.56.4)\n",
            "Requirement already satisfied: pytz in /usr/local/lib/python3.7/dist-packages (from google-api-core<3.0.0,>=1.0.0->opencensus->ray[default]<1.14.0,>=1.13.0->flwr[simulation]) (2022.4)\n",
            "Requirement already satisfied: google-auth<2.0dev,>=1.25.0 in /usr/local/lib/python3.7/dist-packages (from google-api-core<3.0.0,>=1.0.0->opencensus->ray[default]<1.14.0,>=1.13.0->flwr[simulation]) (1.35.0)\n",
            "Requirement already satisfied: setuptools>=40.3.0 in /usr/local/lib/python3.7/dist-packages (from google-api-core<3.0.0,>=1.0.0->opencensus->ray[default]<1.14.0,>=1.13.0->flwr[simulation]) (57.4.0)\n",
            "Requirement already satisfied: packaging>=14.3 in /usr/local/lib/python3.7/dist-packages (from google-api-core<3.0.0,>=1.0.0->opencensus->ray[default]<1.14.0,>=1.13.0->flwr[simulation]) (21.3)\n",
            "Requirement already satisfied: pyasn1-modules>=0.2.1 in /usr/local/lib/python3.7/dist-packages (from google-auth<2.0dev,>=1.25.0->google-api-core<3.0.0,>=1.0.0->opencensus->ray[default]<1.14.0,>=1.13.0->flwr[simulation]) (0.2.8)\n",
            "Requirement already satisfied: cachetools<5.0,>=2.0.0 in /usr/local/lib/python3.7/dist-packages (from google-auth<2.0dev,>=1.25.0->google-api-core<3.0.0,>=1.0.0->opencensus->ray[default]<1.14.0,>=1.13.0->flwr[simulation]) (4.2.4)\n",
            "Requirement already satisfied: rsa<5,>=3.1.4 in /usr/local/lib/python3.7/dist-packages (from google-auth<2.0dev,>=1.25.0->google-api-core<3.0.0,>=1.0.0->opencensus->ray[default]<1.14.0,>=1.13.0->flwr[simulation]) (4.9)\n",
            "Requirement already satisfied: pyparsing!=3.0.5,>=2.0.2 in /usr/local/lib/python3.7/dist-packages (from packaging>=14.3->google-api-core<3.0.0,>=1.0.0->opencensus->ray[default]<1.14.0,>=1.13.0->flwr[simulation]) (3.0.9)\n",
            "Requirement already satisfied: pyasn1<0.5.0,>=0.4.6 in /usr/local/lib/python3.7/dist-packages (from pyasn1-modules>=0.2.1->google-auth<2.0dev,>=1.25.0->google-api-core<3.0.0,>=1.0.0->opencensus->ray[default]<1.14.0,>=1.13.0->flwr[simulation]) (0.4.8)\n",
            "Requirement already satisfied: certifi>=2017.4.17 in /usr/local/lib/python3.7/dist-packages (from requests->ray[default]<1.14.0,>=1.13.0->flwr[simulation]) (2022.9.24)\n",
            "Requirement already satisfied: chardet<4,>=3.0.2 in /usr/local/lib/python3.7/dist-packages (from requests->ray[default]<1.14.0,>=1.13.0->flwr[simulation]) (3.0.4)\n",
            "Requirement already satisfied: urllib3!=1.25.0,!=1.25.1,<1.26,>=1.21.1 in /usr/local/lib/python3.7/dist-packages (from requests->ray[default]<1.14.0,>=1.13.0->flwr[simulation]) (1.24.3)\n",
            "Collecting platformdirs<3,>=2.4\n",
            "  Downloading platformdirs-2.5.2-py3-none-any.whl (14 kB)\n",
            "Collecting distlib<1,>=0.3.5\n",
            "  Downloading distlib-0.3.6-py2.py3-none-any.whl (468 kB)\n",
            "\u001b[K     |████████████████████████████████| 468 kB 56.5 MB/s \n",
            "\u001b[?25hBuilding wheels for collected packages: gpustat\n",
            "  Building wheel for gpustat (setup.py) ... \u001b[?25l\u001b[?25hdone\n",
            "  Created wheel for gpustat: filename=gpustat-1.0.0-py3-none-any.whl size=19889 sha256=0a57736a083f03aafbe0e232321bba1b990c59c84c5ef94d558b1ee0e09fe218\n",
            "  Stored in directory: /root/.cache/pip/wheels/d2/31/5c/eb69af6e2285e7d6ec8d7dc26435be7c81c6ad22c45efdcca7\n",
            "Successfully built gpustat\n",
            "Installing collected packages: protobuf, platformdirs, distlib, virtualenv, psutil, opencensus-context, nvidia-ml-py, grpcio, blessed, ray, py-spy, prometheus-client, opencensus, iterators, gpustat, colorful, aiohttp-cors, flwr\n",
            "  Attempting uninstall: protobuf\n",
            "    Found existing installation: protobuf 3.17.3\n",
            "    Uninstalling protobuf-3.17.3:\n",
            "      Successfully uninstalled protobuf-3.17.3\n",
            "  Attempting uninstall: psutil\n",
            "    Found existing installation: psutil 5.4.8\n",
            "    Uninstalling psutil-5.4.8:\n",
            "      Successfully uninstalled psutil-5.4.8\n",
            "  Attempting uninstall: grpcio\n",
            "    Found existing installation: grpcio 1.49.1\n",
            "    Uninstalling grpcio-1.49.1:\n",
            "      Successfully uninstalled grpcio-1.49.1\n",
            "\u001b[31mERROR: pip's dependency resolver does not currently take into account all the packages that are installed. This behaviour is the source of the following dependency conflicts.\n",
            "tensorflow 2.9.2 requires protobuf<3.20,>=3.9.2, but you have protobuf 3.20.3 which is incompatible.\n",
            "tensorboard 2.9.1 requires protobuf<3.20,>=3.9.2, but you have protobuf 3.20.3 which is incompatible.\u001b[0m\n",
            "Successfully installed aiohttp-cors-0.7.0 blessed-1.19.1 colorful-0.5.4 distlib-0.3.6 flwr-1.0.0 gpustat-1.0.0 grpcio-1.43.0 iterators-0.0.2 nvidia-ml-py-11.495.46 opencensus-0.11.0 opencensus-context-0.1.3 platformdirs-2.5.2 prometheus-client-0.13.1 protobuf-3.20.3 psutil-5.9.3 py-spy-0.3.14 ray-1.13.0 virtualenv-20.16.5\n"
          ]
        },
        {
          "output_type": "display_data",
          "data": {
            "application/vnd.colab-display-data+json": {
              "pip_warning": {
                "packages": [
                  "google",
                  "grpc",
                  "psutil"
                ]
              }
            }
          },
          "metadata": {}
        }
      ],
      "source": [
        "!pip install flwr[simulation]"
      ]
    },
    {
      "cell_type": "markdown",
      "metadata": {
        "id": "grNc2GELvjD3"
      },
      "source": [
        "## Imports"
      ]
    },
    {
      "cell_type": "code",
      "execution_count": 1,
      "metadata": {
        "colab": {
          "base_uri": "https://localhost:8080/"
        },
        "id": "z3IsC91895Pu",
        "outputId": "218aa4e4-b722-44d5-ac62-fd5ac4a21f4c"
      },
      "outputs": [
        {
          "output_type": "stream",
          "name": "stdout",
          "text": [
            "/content/carbonhack22\n"
          ]
        }
      ],
      "source": [
        "%cd carbonhack22"
      ]
    },
    {
      "cell_type": "code",
      "execution_count": 2,
      "metadata": {
        "colab": {
          "base_uri": "https://localhost:8080/"
        },
        "id": "RHQ-3tCTvlPv",
        "outputId": "8e49a487-ce9c-465b-f274-6df520d564d8"
      },
      "outputs": [
        {
          "output_type": "stream",
          "name": "stdout",
          "text": [
            "Training on cuda:0\n"
          ]
        }
      ],
      "source": [
        "import os\n",
        "import sys\n",
        "import math\n",
        "import time\n",
        "from glob import glob\n",
        "from PIL import Image\n",
        "from collections import OrderedDict\n",
        "from typing import Dict, List, Optional, Tuple\n",
        "\n",
        "import flwr as fl\n",
        "import numpy as np\n",
        "import pandas as pd\n",
        "import matplotlib.pyplot as plt\n",
        "from sklearn.model_selection import train_test_split\n",
        "\n",
        "import torch\n",
        "import torch.nn as nnqunt\n",
        "import torch.nn.functional as F\n",
        "from torch.utils.data import Dataset, DataLoader, random_split\n",
        "\n",
        "from torchvision.utils import make_grid\n",
        "from torchvision.datasets import CIFAR10\n",
        "from torchvision import transforms as T, models\n",
        "\n",
        "DEVICE = torch.device(\"cuda:0\" if torch.cuda.is_available() else \"cpu\")\n",
        "print(f\"Training on {DEVICE}\")"
      ]
    },
    {
      "cell_type": "markdown",
      "metadata": {
        "id": "G5XXXYdm6ic5"
      },
      "source": [
        "## Data utils"
      ]
    },
    {
      "cell_type": "code",
      "source": [
        "from PIL import Image\n",
        "from itertools import chain\n",
        "\n",
        "import numpy as np\n",
        "import pandas as pd\n",
        "\n",
        "from torch.utils.data import Dataset\n",
        "\n",
        "class NIH_Dataset(Dataset):\n",
        "  \"\"\"\n",
        "  Main Dataset class to represent NIH Chest X-Ray data\n",
        "  ...\n",
        "  Attributes\n",
        "  ----------\n",
        "  data_df: pandas.DataFrame\n",
        "    A DataFrame that needs to at least have the following two columns: \n",
        "      1. \"path\": Holds chest x-ray image locations\n",
        "      2. \"disease_vec\": Holds multilabel one-hot encoded vector\n",
        "  transform: torchvision.transform.Compose\n",
        "    Image transformations that will be applied to each image when calling \"__getitem__\"\n",
        "  \"\"\"\n",
        "  def __init__(\n",
        "    self, \n",
        "    data_df,\n",
        "    transform=None\n",
        "    ) -> Dataset:\n",
        "    \"\"\"\n",
        "    Parameters\n",
        "    ----------\n",
        "    data_df: pandas.DataFrame\n",
        "      A DataFrame that needs to at least have the following two columns: \n",
        "        1. \"path\": Holds chest x-ray image locations\n",
        "        2. \"disease_vec\": Holds multilabel one-hot encoded vector\n",
        "    transform: torchvision.transform.Compose\n",
        "      Image transformations that will be applied to each image when calling \"__getitem__\"\n",
        "    \"\"\"\n",
        "    self.data_df = data_df\n",
        "    self.transform = transform \n",
        "\n",
        "  def __len__(\n",
        "    self\n",
        "    ) -> int:\n",
        "    return len(self.data_df)\n",
        "\n",
        "  def __getitem__(\n",
        "    self, \n",
        "    idx\n",
        "    ) -> Tuple[torch.Tensor, np.ndarray]:\n",
        "    img_file = self.data_df['path'].iloc[idx]\n",
        "    img = Image.open(img_file).convert('RGB')\n",
        "    label = np.array(self.data_df.iloc[:,-1].iloc[idx], dtype=float)\n",
        "    if self.transform:\n",
        "        img = self.transform(img)\n",
        "\n",
        "    return img, label"
      ],
      "metadata": {
        "id": "u_JTNAxeF1QS"
      },
      "execution_count": 3,
      "outputs": []
    },
    {
      "cell_type": "code",
      "source": [
        "def load_and_preprocess_data_df(\n",
        "    data_df_root_path: str,\n",
        "    num_data_samples: int = 11000\n",
        "    ) -> Tuple[pd.DataFrame, List]:\n",
        "  \"\"\"\n",
        "  Loads and preprocesses NIH DataFrame that holds information of the data, e.g. image labels.\n",
        "\n",
        "  Parameters\n",
        "  ----------\n",
        "  data_df_root_path: str\n",
        "    This should be the path to the root directory of the NIH data set that, \n",
        "    at least, includes the img-file directories and the panda.DataFrame \n",
        "    \"Data_Entry_2017.csv\". The direcotry should have the following structure:\n",
        "\n",
        "    NIH\n",
        "      |\n",
        "      images_0**\n",
        "      ...\n",
        "      Data_Entry_2017.csv\n",
        "      ...\n",
        "      train_val_list.txt\n",
        "\n",
        "  num_data_samples: int\n",
        "    The total number of data points that we want to sample for our data set.\n",
        "    Maximum is 112120.\n",
        "  \"\"\"\n",
        "\n",
        "  # Load the DataFrame\n",
        "  all_xray_df = pd.read_csv(\n",
        "      os.path.join(\n",
        "          data_df_root_path,\n",
        "          'Data_Entry_2017.csv'\n",
        "          )\n",
        "      )\n",
        "  \n",
        "  # Extract all image paths\n",
        "  all_image_paths = {\n",
        "      os.path.basename(x): x for x in \n",
        "      glob(os.path.join(data_df_root_path, 'images*', '*', '*.png'))\n",
        "      }\n",
        "\n",
        "  # Add image file name column\n",
        "  all_xray_df['path'] = all_xray_df['Image Index'].map(all_image_paths.get)\n",
        "  \n",
        "  # Count labels\n",
        "  all_xray_df['Finding Labels'] = all_xray_df['Finding Labels'].map(lambda x: x.replace('No Finding', ''))  \n",
        "  all_labels = np.unique(list(chain(*all_xray_df['Finding Labels'].map(lambda x: x.split('|')).tolist())))\n",
        "  all_labels = [x for x in all_labels if len(x)>0]\n",
        "  for c_label in all_labels:\n",
        "      if len(c_label)>1: # leave out empty labels\n",
        "          all_xray_df[c_label] = all_xray_df['Finding Labels'].map(lambda finding: 1.0 if c_label in finding else 0)\n",
        "  MIN_CASES = 1000\n",
        "  all_labels = [\n",
        "      c_label for c_label in all_labels if all_xray_df[c_label].sum() > MIN_CASES\n",
        "      ]\n",
        "  sample_weights = all_xray_df['Finding Labels'].map(lambda x: len(x.split('|')) if len(x)>0 else 0).values + 4e-2\n",
        "  sample_weights /= sample_weights.sum()\n",
        "  preprocessed_xray_df = all_xray_df.sample(num_data_samples, weights=sample_weights)\n",
        "  # Create one-hot encoding of the vector\n",
        "  preprocessed_xray_df['disease_vec'] = all_xray_df.apply(lambda x: [x[all_labels].values], 1).map(lambda x: x[0])\n",
        "  return preprocessed_xray_df, all_labels\n"
      ],
      "metadata": {
        "id": "c8Zx3mVnIF3h"
      },
      "execution_count": 4,
      "outputs": []
    },
    {
      "cell_type": "code",
      "source": [
        "def inv_data_transform(\n",
        "    img: torch.Tensor\n",
        "    ) -> torch.Tensor:\n",
        "  \"\"\"\n",
        "  Helper function that un-normalizes torch image tensor\n",
        "  \"\"\"\n",
        "  img = img.permute(1,2,0)\n",
        "  img = img * torch.Tensor([0.229, 0.224, 0.225]) + torch.Tensor([0.485, 0.456, 0.406])\n",
        "  return img\n",
        "\n",
        "def get_data_loaders(\n",
        "    data_df_root_path: str,\n",
        "    num_data_samples: int = 11000,\n",
        "    global_train_frac: float = 0.8,\n",
        "    local_train_frac: float = 0.8,\n",
        "    batch_size: int = 32,\n",
        "    num_clients: int = 10\n",
        "    ) -> Tuple[Tuple[DataLoader, ...], Tuple[DataLoader, ...], DataLoader, List]:\n",
        "\n",
        "  \"\"\"\n",
        "  Main function to create DataLoaders of the NIH X-Ray data set.\n",
        "  \n",
        "  Parameters\n",
        "  ----------\n",
        "  data_df_root_path: str\n",
        "    This should be the path to the root directory of the NIH data set that, \n",
        "    at least, includes the img-file directories and the panda.DataFrame \n",
        "    \"Data_Entry_2017.csv\". The direcotry should have the following structure:\n",
        "    NIH\n",
        "      |\n",
        "      images_0**\n",
        "      ...\n",
        "      Data_Entry_2017.csv\n",
        "      ...\n",
        "      train_val_list.txt\n",
        "\n",
        "  num_data_samples: int\n",
        "    The total number of data points that we want to sample for our data set.\n",
        "    Maximum is 112120.\n",
        "\n",
        "  global_train_frac: float\n",
        "    The fraction of points used for the global training data set, e.g. the data set that will be later split into local client data sets.\n",
        "\n",
        "  local_train_frac: float\n",
        "      The fraction of points on each local client used for training.\n",
        "\n",
        "  batch_size: int\n",
        "    Batch size on each client\n",
        "\n",
        "  num_clients: int\n",
        "    Total number of clients in the FL setup\n",
        "\n",
        "  Returns\n",
        "  -------\n",
        "  trainloaders: List[torch.utils.data.DataLoader, ...]\n",
        "    List of local training DataLoaders, one for each client\n",
        "\n",
        "  valloaders: List[torch.utils.data.DataLoader, ...]\n",
        "    List of local calidation DataLoaders, one for each client\n",
        "\n",
        "  testloader: torch.utils.data.DataLoader\n",
        "    Global test DataLoader, for the central server\n",
        "  \n",
        "  all_labels: List[str, ...]\n",
        "    List of all string labels\n",
        "\n",
        "  preprocessed_data_df: pd.DataFrame\n",
        "    preprocessed Dataframe that represents the data\n",
        "  \"\"\"\n",
        "  \n",
        "  preprocessed_xray_df, all_labels = load_and_preprocess_data_df(\n",
        "      data_df_root_path,\n",
        "      num_data_samples\n",
        "  )\n",
        "\n",
        "  train_data_transform = T.Compose([\n",
        "    T.RandomRotation((-20,+20)),\n",
        "    T.Resize((224,224)),\n",
        "    T.ToTensor(),\n",
        "    T.Normalize(mean=[0.485, 0.456, 0.406],\n",
        "                std=[0.229, 0.224, 0.225])\n",
        "                ])\n",
        "\n",
        "  test_data_transform = T.Compose([\n",
        "    T.Resize((512,512)),\n",
        "    T.ToTensor(),\n",
        "    T.Normalize(mean=[0.485, 0.456, 0.406],\n",
        "                std=[0.229, 0.224, 0.225])\n",
        "                ])\n",
        "  \n",
        "  train_df, test_df = train_test_split(\n",
        "      preprocessed_xray_df,\n",
        "      test_size = 1 - global_train_frac,\n",
        "      random_state = 42,\n",
        "      stratify = preprocessed_xray_df['Finding Labels'].map( lambda x: x[:4])\n",
        "  )\n",
        "\n",
        "  trainset = NIH_Dataset(\n",
        "      train_df,\n",
        "      transform = train_data_transform\n",
        "      )\n",
        "  \n",
        "  testset = NIH_Dataset(\n",
        "      test_df,\n",
        "      transform = test_data_transform\n",
        "      )\n",
        "\n",
        "  # Split training set into `num_clients` partitions to simulate different local datasets\n",
        "  partition_size = len(trainset) // num_clients\n",
        "  lengths = [partition_size] * num_clients\n",
        "  lengths[-1] += len(trainset) - np.sum(lengths)\n",
        "  datasets = random_split(trainset, lengths, torch.Generator().manual_seed(42))\n",
        "\n",
        "  # Split each partition into train/val and create DataLoader\n",
        "  trainloaders = []\n",
        "  valloaders = []\n",
        "  for ds in datasets:      \n",
        "      len_train = math.ceil(len(ds) * local_train_frac)\n",
        "      len_val = len(ds) - math.ceil(len(ds) * local_train_frac)\n",
        "      lengths = [len_train, len_val]\n",
        "      ds_train, ds_val = random_split(ds, lengths, torch.Generator().manual_seed(42))\n",
        "      trainloaders.append(DataLoader(ds_train, batch_size=batch_size, shuffle=True, drop_last = True))\n",
        "      valloaders.append(DataLoader(ds_val, batch_size=batch_size, drop_last = True))\n",
        "  testloader = DataLoader(testset, batch_size=batch_size)\n",
        "\n",
        "  return trainloaders, valloaders, testloader, all_labels, preprocessed_xray_df"
      ],
      "metadata": {
        "id": "WsANZ4VtIDlU"
      },
      "execution_count": 5,
      "outputs": []
    },
    {
      "cell_type": "markdown",
      "source": [
        "## Load the data"
      ],
      "metadata": {
        "id": "1YKYlHhyS8wA"
      }
    },
    {
      "cell_type": "code",
      "execution_count": 6,
      "metadata": {
        "id": "rigzBUI_Wovp"
      },
      "outputs": [],
      "source": [
        "num_clients = 10\n",
        "\n",
        "data_df_root_path = '/content/NIH/'\n",
        "num_data_samples = 11000\n",
        "global_train_frac = 0.95\n",
        "local_train_frac = 0.9\n",
        "batch_size = 2\n",
        "\n",
        "trainloaders, valloaders, testloader, all_labels, preprocessed_xray_df = get_data_loaders(\n",
        "    data_df_root_path = data_df_root_path,\n",
        "    num_clients = num_clients,\n",
        "    num_data_samples = num_data_samples,\n",
        "    global_train_frac = global_train_frac,\n",
        "    local_train_frac = local_train_frac,\n",
        "    batch_size = batch_size\n",
        ")"
      ]
    },
    {
      "cell_type": "code",
      "execution_count": 7,
      "metadata": {
        "colab": {
          "base_uri": "https://localhost:8080/",
          "height": 248
        },
        "id": "H5Oi7dIN3aWP",
        "outputId": "63590dec-5471-46ac-92dc-fa1181bda870"
      },
      "outputs": [
        {
          "output_type": "display_data",
          "data": {
            "text/plain": [
              "<Figure size 432x288 with 1 Axes>"
            ],
            "image/png": "[encoded data removed]"
          },
          "metadata": {
            "needs_background": "light"
          }
        }
      ],
      "source": [
        "plt.imshow(\n",
        "    inv_data_transform(\n",
        "        testloader.dataset[0][0]\n",
        "    )\n",
        ")\n",
        "plt.axis('off');"
      ]
    },
    {
      "cell_type": "code",
      "execution_count": 8,
      "metadata": {
        "colab": {
          "base_uri": "https://localhost:8080/"
        },
        "id": "mh6Nm_YzvJpo",
        "outputId": "d210553d-8c23-4d4d-eb3e-c72e25c5bec6"
      },
      "outputs": [
        {
          "output_type": "execute_result",
          "data": {
            "text/plain": [
              "(940, 104, 551, 13)"
            ]
          },
          "metadata": {},
          "execution_count": 8
        }
      ],
      "source": [
        "len(trainloaders[0].dataset), len(valloaders[0].dataset) ,len(testloader.dataset), len(all_labels)"
      ]
    },
    {
      "cell_type": "markdown",
      "metadata": {
        "id": "T12Z3wswS8b-"
      },
      "source": [
        "### Lowcarb utils"
      ]
    },
    {
      "cell_type": "code",
      "execution_count": 10,
      "metadata": {
        "id": "kD3u3LdHS-yZ"
      },
      "outputs": [],
      "source": [
        "from logging import INFO\n",
        "from typing import Dict, List, Optional\n",
        "import random\n",
        "\n",
        "import pandas as pd\n",
        "from flwr.common.logger import log\n",
        "\n",
        "import flwr as fl\n",
        "from flwr.server.client_manager import ClientManager\n",
        "from flwr.server.criterion import Criterion\n",
        "from flwr.server.client_proxy import ClientProxy\n",
        "\n",
        "import requests\n",
        "from pandas import DataFrame\n",
        "from ray.exceptions import RaySystemError\n",
        "\n",
        "from backtest.strategy import CarbonAwareStrategy\n",
        "\n",
        "from lowcarb.carbon_sdk_webapi import CarbonSDK_WebAPI\n",
        "\n",
        "import numpy as np\n",
        "\n",
        "class Object(object):\n",
        "    pass\n",
        "\n",
        "class LowCarb_ClientManager(fl.server.client_manager.SimpleClientManager):\n",
        "    '''\n",
        "    Implementation of lowcarbs ClientManager, which is a simple extension of flower's own standard SimpleClientManager.\n",
        "    lowcarb achieves carbon aware federated learning by implementing the sample() method to select clients in a way to minmize the carbon foodprint while maintaining net integrity.\n",
        "    '''\n",
        "    def __init__(self, api_host, workload_duration=15, forecast_window=12, **kargs):\n",
        "        super(LowCarb_ClientManager, self).__init__(**kargs)\n",
        "        self.host = api_host\n",
        "        self.api = CarbonSDK_WebAPI(self.host)\n",
        "        self.workload_duration = workload_duration\n",
        "        self.forecast_window = forecast_window\n",
        "\n",
        "        self.client_participation: dict[str: int] = {}\n",
        "\n",
        "    def sample(\n",
        "            self,\n",
        "            num_clients: int,\n",
        "            min_num_clients: Optional[int] = None,\n",
        "            criterion: Optional[Criterion] = None,\n",
        "    ) -> List[ClientProxy]:\n",
        "\n",
        "        ##### each sample round add any new client to the participitation DataFrame\n",
        "        for cid in list(self.clients.keys()):\n",
        "            if not (cid in self.client_participation.keys()):\n",
        "                self.client_participation[cid] = 0\n",
        "\n",
        "\n",
        "        \"\"\"Sample a number of Flower ClientProxy instances.\"\"\"\n",
        "        # Block until at least num_clients are connected.\n",
        "        if min_num_clients is None:\n",
        "            min_num_clients = num_clients\n",
        "        self.wait_for(min_num_clients)\n",
        "        # Sample clients which meet the criterion\n",
        "        available_cids = list(self.clients)\n",
        "        if criterion is not None:\n",
        "            available_cids = [\n",
        "                cid for cid in available_cids if criterion.select(self.clients[cid])\n",
        "            ]\n",
        "\n",
        "        if num_clients > len(available_cids):\n",
        "            log(\n",
        "                INFO,\n",
        "                \"Sampling failed: number of available clients\"\n",
        "                \" (%s) is less than number of requested clients (%s).\",\n",
        "                len(available_cids),\n",
        "                num_clients,\n",
        "            )\n",
        "            return []\n",
        "\n",
        "        # Sampled_cids = random.sample(available_cids, num_clients)\n",
        "\n",
        "        # Data for the strategy to select the next best clients\n",
        "        client_locations = self._get_client_locations()\n",
        "\n",
        "        print(client_locations)\n",
        "\n",
        "        present_locations = pd.Series(client_locations.values()).unique()\n",
        "        forecasts = self._get_location_forecasts(present_locations)\n",
        "\n",
        "        available_cids_participation = {cid: self.client_participation[cid] for cid in available_cids}\n",
        "\n",
        "        strategy = CarbonAwareStrategy(clients_per_round=num_clients, max_forecast_duration=self.forecast_window)\n",
        "        selected_clients = strategy.select(forecasts=forecasts, past_participation=available_cids_participation, client_location_map=client_locations)\n",
        "\n",
        "        for client in selected_clients:\n",
        "            self.client_participation[client] = self.client_participation[client] + 1\n",
        "\n",
        "        print('_______________________________________________________________________\\n Available Clients with their locations\\n_______________________________________________________________________')\n",
        "        for client, location in client_locations.items():\n",
        "            print(f'{client} {location}')\n",
        "\n",
        "        print('_______________________________________________________________________\\n Available Clients with their participation\\n_______________________________________________________________________')\n",
        "        for client, participation in available_cids_participation.items():\n",
        "            print(f'{client} {participation}')\n",
        "\n",
        "        print('_______________________________________________________________________\\n selected low carbon clients\\n_______________________________________________________________________')\n",
        "        for client in selected_clients:\n",
        "            print(f'{client}')\n",
        "        \n",
        "        print('_______________________________________________________________________\\n CO2 intensity of selected clients\\n_______________________________________________________________________')\n",
        "        for client in selected_clients:\n",
        "            print(f'Client: {client}, CO2 intensity: {forecasts[client_locations[client]]}')\n",
        "\n",
        "        return [self.clients[cid] for cid in selected_clients]\n",
        "\n",
        "        # return [self.clients[cid] for cid in sampled_cids]\n",
        "\n",
        "    def _get_client_locations(self) -> Dict[str, str]:\n",
        "        '''\n",
        "        Fetches all the clients' location and puts it in a DataFrame\n",
        "        :return: pandas Dataframe with 'cid' and 'location' column\n",
        "        '''\n",
        "        client_props = []\n",
        "        for cid, client in self.clients.items():\n",
        "            Ins = Object()  ##### weird hack for gRPC, I guess the Ins for get_properties are missing in flwr\n",
        "            Ins.config = {'config_value': 'config_sample_value'}\n",
        "            try:\n",
        "                client_prop = client.get_properties(ins=Ins, timeout=500)\n",
        "                client_prop.properties.update({'cid': cid})\n",
        "                client_props.append(client_prop.properties)\n",
        "            except RaySystemError as error:\n",
        "                print(error)\n",
        "\n",
        "        location_df = pd.DataFrame({\n",
        "            'cid': [client_prop['cid'] for client_prop in client_props],\n",
        "            'location': [client_prop['location'] for client_prop in client_props]\n",
        "        })\n",
        "\n",
        "        client_locations = {client['cid']: client['location'] for i, client in\n",
        "                                location_df.iterrows()}\n",
        "\n",
        "        return client_locations\n",
        "\n",
        "    def _get_location_forecasts(self, locations) -> Dict[str, list]:\n",
        "        forecasts_response = self.api.get_forecast_batch(locations, windowSize=self.workload_duration, forecast_window=self.forecast_window)\n",
        "        forecasts = {region: forecast['value'].to_list() for region, forecast in forecasts_response.groupby('region')}\n",
        "        return forecasts"
      ]
    },
    {
      "cell_type": "code",
      "source": [
        "class Lowcarb_Client(object):\n",
        "    def __init__(self, *args, **kwargs):\n",
        "        super(Lowcarb_Client, self).__init__(*args, **kwargs)\n",
        "        self.location = None\n",
        "\n",
        "    def get_properties(self, config):\n",
        "        return {'location': self.location}\n",
        "\n",
        "def lowcarb(func):\n",
        "    def wrapper(*args):\n",
        "        properties = func(*args)\n",
        "        properties['location'] = args[0].location\n",
        "\n",
        "        return properties\n",
        "\n",
        "    return wrapper"
      ],
      "metadata": {
        "id": "2G4usDFgW7BR"
      },
      "execution_count": 11,
      "outputs": []
    },
    {
      "cell_type": "markdown",
      "metadata": {
        "id": "9o_uC5yi5e83"
      },
      "source": [
        "### FL utils basic"
      ]
    },
    {
      "cell_type": "code",
      "execution_count": 12,
      "metadata": {
        "id": "RYlrQJOH5eRz"
      },
      "outputs": [],
      "source": [
        "class FlowerClient(Lowcarb_Client, fl.client.NumPyClient):\n",
        "    def __init__(self, net, trainloader, valloader, location, *args, **kwargs):\n",
        "        super(FlowerClient, self).__init__(*args, **kwargs)\n",
        "        self.net = net\n",
        "        self.trainloader = trainloader\n",
        "        self.valloader = valloader\n",
        "\n",
        "        self.location = location\n",
        "\n",
        "    def get_parameters(self, config):\n",
        "        print(f\"[Client {self.cid}] get_parameters\")\n",
        "        return get_parameters(self.net)\n",
        "\n",
        "    def fit(self, parameters, config):\n",
        "        # Read values from config\n",
        "        # server_round = config[\"server_round\"]\n",
        "        # local_epochs = config[\"local_epochs\"]\n",
        "        local_epochs = 30\n",
        "\n",
        "        # Use values provided by the config\n",
        "        # print(f\"[Client {self.cid}, round {server_round}] fit, config: {config}\")\n",
        "        set_parameters(self.net, parameters)\n",
        "        train(self.net, self.trainloader, epochs=local_epochs)\n",
        "        return get_parameters(self.net), len(self.trainloader), {}\n",
        "\n",
        "    def evaluate(self, parameters, config):\n",
        "        print(f\"[Client {self.cid}] evaluate, config: {config}\")\n",
        "        set_parameters(self.net, parameters)\n",
        "        loss, accuracy = test(self.net, self.valloader)\n",
        "        return float(loss), len(self.valloader), {\"accuracy\": float(accuracy)}\n",
        "\n",
        "def get_parameters(net) -> List[np.ndarray]:\n",
        "    return [val.cpu().numpy() for _, val in net.state_dict().items()]\n",
        "\n",
        "def set_parameters(net, parameters: List[np.ndarray]):\n",
        "    # print('Entered set params function')\n",
        "    params_dict = zip(net.state_dict().keys(), parameters)\n",
        "    # print('Created params dict')\n",
        "    state_dict = OrderedDict({k: torch.Tensor(v) for k, v in params_dict})\n",
        "    # print('Created state dict')\n",
        "    # print([k for k in state_dict.keys()])\n",
        "    # print([k for k in net.state_dict().keys()])\n",
        "    try:\n",
        "      net.load_state_dict(state_dict, strict=True)\n",
        "      print('Finished loading model weights')\n",
        "    except:\n",
        "      print('Failed to load state dict')"
      ]
    },
    {
      "cell_type": "markdown",
      "metadata": {
        "id": "UwdUHQgA5qt8"
      },
      "source": [
        "### FL training utils"
      ]
    },
    {
      "cell_type": "code",
      "execution_count": 13,
      "metadata": {
        "id": "ZpaMF3WiAfkx"
      },
      "outputs": [],
      "source": [
        "def compute_class_freqs(labels):\n",
        "\n",
        "    labels = np.array(labels)\n",
        "    N = labels.shape[0]\n",
        "\n",
        "    positive_frequencies = np.sum(labels, axis = 0) / N\n",
        "    negative_frequencies = 1 - positive_frequencies\n",
        "\n",
        "    return positive_frequencies, negative_frequencies\n",
        "\n",
        "def weighted_loss(pos_weights, neg_weights, y_pred, y_true, epsilon = 1e-7):\n",
        "    y_pred = torch.sigmoid(y_pred)\n",
        "    loss = 0.0\n",
        "    for i in range(len(pos_weights)):\n",
        "        loss_pos = -1 * torch.mean(pos_weights[i] * y_true[:,i] * torch.log(y_pred[:,i] + epsilon))\n",
        "        loss_neg = -1 * torch.mean(neg_weights[i] * (1-y_true[:,i]) * torch.log((1-y_pred[:,i]) + epsilon))\n",
        "        loss += loss_pos + loss_neg\n",
        "    return loss\n",
        "\n",
        "def train(\n",
        "    net,\n",
        "    trainloader,\n",
        "    epochs\n",
        "    ):\n",
        "    print(f'Entered train function, total num. of epochs: {epochs}')\n",
        "    # ToDo: Class weights should be different for each client\n",
        "    freq_pos, freq_neg = compute_class_freqs(preprocessed_xray_df.iloc[:,-1])    \n",
        "    pos_weights = freq_neg\n",
        "    neg_weights = freq_pos\n",
        "\n",
        "    valid_loss_min = np.Inf\n",
        "    optimizer = torch.optim.Adam(\n",
        "        net.parameters(),\n",
        "        lr = 1e-4\n",
        "        )\n",
        "    start_time = time.time()\n",
        "    for i in range(epochs):\n",
        "        train_loss = 0.0\n",
        "        valid_loss = 0.0\n",
        "        train_acc = 0.0\n",
        "        valid_acc = 0.0 \n",
        "        net.train()\n",
        "        for j, (images, labels) in enumerate(trainloader):\n",
        "            images = images.to(DEVICE)\n",
        "            labels = labels.to(DEVICE)\n",
        "            ps = net(images)\n",
        "            \n",
        "            loss = weighted_loss(pos_weights, neg_weights, ps, labels)\n",
        "\n",
        "            optimizer.zero_grad()\n",
        "            loss.backward()\n",
        "            optimizer.step()\n",
        "            train_loss += loss.item()\n",
        "        avg_train_loss = train_loss / len(trainloader)\n",
        "        print(\"Epoch : {} Train Loss : {:.6f} \".format(i+1,avg_train_loss))\n",
        "    end_time = time.time()\n",
        "    time_delta = end_time - start_time\n",
        "    print('\\n')\n",
        "    print(f'Time to complete local training round: {time_delta}')\n",
        "    print('\\n')\n",
        "\n",
        "def test(net, testloader, pathology_list):\n",
        "    \n",
        "    # ToDo: Class weights should be different for each client\n",
        "    freq_pos, freq_neg = compute_class_freqs(preprocessed_xray_df.iloc[:,-1])    \n",
        "    pos_weights = freq_neg\n",
        "    neg_weights = freq_pos\n",
        "\n",
        "    per_class_accuracy = [0 for i in range(len(pathology_list))]\n",
        "    total = 0.0\n",
        "    loss = 0.0\n",
        "    with torch.no_grad():\n",
        "        for images,labels in testloader:\n",
        "            ps = net(images.to(DEVICE))\n",
        "            labels = labels.to(DEVICE)\n",
        "            loss += weighted_loss( pos_weights, neg_weights, ps, labels)\n",
        "            ps = (ps >= 0.5).float()\n",
        "\n",
        "            for i in range(ps.shape[1]):\n",
        "                x1 = ps[:,i:i+1]\n",
        "                x2 = labels[:,i:i+1]\n",
        "                per_class_accuracy[i] += int((x1 == x2).sum())\n",
        "\n",
        "        per_class_accuracy = [(i/len(testloader.dataset)) * 100.0 for i in per_class_accuracy]\n",
        "\n",
        "    return loss, np.mean(per_class_accuracy)\n",
        "\n",
        "def get_acc_data(\n",
        "    class_names,\n",
        "    acc_list\n",
        "    ):\n",
        "    df = pd.DataFrame(list(zip(class_names, acc_list)), columns =['Labels', 'Class Acc.']) \n",
        "    return df"
      ]
    },
    {
      "cell_type": "code",
      "execution_count": 14,
      "metadata": {
        "id": "FfVrX3hA6kqX"
      },
      "outputs": [],
      "source": [
        "def server_eval(\n",
        "    server_round: int,\n",
        "    parameters: fl.common.NDArrays,\n",
        "    config: Dict[str, fl.common.Scalar]\n",
        "    ):\n",
        "    # ToDo: Class weights should be different for each client\n",
        "    freq_pos, freq_neg = compute_class_freqs(preprocessed_xray_df.iloc[:,-1])    \n",
        "    pos_weights = freq_neg\n",
        "    neg_weights = freq_pos\n",
        "\n",
        "    net = init_net().to(DEVICE)\n",
        "\n",
        "    set_parameters(net, parameters)  # Update model with the latest parameters\n",
        "\n",
        "    per_class_accuracy = [0 for i in range(len(all_labels))]\n",
        "    total = 0.0\n",
        "    loss = 0.0\n",
        "    with torch.no_grad():\n",
        "        for images,labels in testloader:\n",
        "          \n",
        "            ps = net(images.to(DEVICE))\n",
        "            labels = labels.to(DEVICE)\n",
        "            ps = torch.sigmoid(ps)\n",
        "            ps = (ps >= 0.5).float()\n",
        "            loss += weighted_loss( pos_weights, neg_weights, ps, labels)\n",
        "\n",
        "            for i in range(ps.shape[1]):\n",
        "                x1 = ps[:,i:i+1]\n",
        "                x2 = labels[:,i:i+1]\n",
        "                per_class_accuracy[i] += int((x1 == x2).sum())\n",
        "\n",
        "        per_class_accuracy = [(i/len(testloader.dataset))*100.0 for i in per_class_accuracy]\n",
        "\n",
        "    test_df = get_acc_data(all_labels, per_class_accuracy)\n",
        "    print('\\nServer eval')\n",
        "    print(test_df)\n",
        "    print('\\n')\n",
        "\n",
        "    return loss,  {\"mean_class_acc.\": np.mean(per_class_accuracy)}"
      ]
    },
    {
      "cell_type": "markdown",
      "metadata": {
        "id": "kZByeD1upefu"
      },
      "source": [
        "## Training"
      ]
    },
    {
      "cell_type": "code",
      "execution_count": 15,
      "metadata": {
        "id": "S5l-5slg58Nf"
      },
      "outputs": [],
      "source": [
        "from random import sample\n",
        "def init_net():\n",
        "  net = models.vgg11(\n",
        "    weights=None\n",
        "  )\n",
        "  net.classifier[-1] = torch.nn.Linear(\n",
        "      net.classifier[-1].in_features,\n",
        "      len(all_labels)\n",
        "  )\n",
        "  return net\n",
        "\n",
        "available_regions = ['westcentralus', 'ukwest', 'uksouth', 'westeurope', \n",
        "                     'westus', 'australiacentral', 'australiaeast', \n",
        "                     'swedencentral', 'norwaywest', 'norwayeast', 'northeurope',\n",
        "                     'centralus', 'francesouth', 'francecentral']\n",
        "\n",
        "regions = [\n",
        "    sample(available_regions, 1)[0] for i in range(0, num_clients)\n",
        "    ]\n",
        "\n",
        "def client_fn(cid: str) -> FlowerClient:\n",
        "    \"\"\"Create a Flower client representing a single organization.\"\"\"\n",
        "\n",
        "    # Load model\n",
        "    net = init_net().to(DEVICE)\n",
        "\n",
        "    trainloader = trainloaders[int(cid)]\n",
        "    valloader = valloaders[int(cid)]\n",
        "    print(f'Created client: {cid}')\n",
        "\n",
        "    return FlowerClient(net, trainloader, valloader, regions[int(cid)])"
      ]
    },
    {
      "cell_type": "markdown",
      "metadata": {
        "id": "esohU8khStKD"
      },
      "source": [
        "### 35 local epochs take approx 15min. on A100 for each client and 30 local epochs on Tesla T4 "
      ]
    },
    {
      "cell_type": "code",
      "execution_count": 16,
      "metadata": {
        "colab": {
          "base_uri": "https://localhost:8080/"
        },
        "id": "zG4dwUFMCbyU",
        "outputId": "3eb96f5b-56c0-4b20-aad4-2c68393a98c3"
      },
      "outputs": [
        {
          "output_type": "execute_result",
          "data": {
            "text/plain": [
              "10"
            ]
          },
          "metadata": {},
          "execution_count": 16
        }
      ],
      "source": [
        "num_clients"
      ]
    },
    {
      "cell_type": "code",
      "execution_count": null,
      "metadata": {
        "colab": {
          "base_uri": "https://localhost:8080/"
        },
        "id": "ZNEdoe3uSumm",
        "outputId": "74688aea-7db9-4240-8ff8-8c5829ba5971"
      },
      "outputs": [
        {
          "output_type": "stream",
          "name": "stderr",
          "text": [
            "INFO flower 2022-10-24 21:10:18,525 | app.py:145 | Starting Flower simulation, config: ServerConfig(num_rounds=10, round_timeout=None)\n",
            "INFO:flower:Starting Flower simulation, config: ServerConfig(num_rounds=10, round_timeout=None)\n",
            "INFO flower 2022-10-24 21:10:22,968 | app.py:179 | Flower VCE: Ray initialized with resources: {'memory': 8003992782.0, 'accelerator_type:T4': 1.0, 'node:172.28.0.2': 1.0, 'CPU': 2.0, 'object_store_memory': 4001996390.0, 'GPU': 1.0}\n",
            "INFO:flower:Flower VCE: Ray initialized with resources: {'memory': 8003992782.0, 'accelerator_type:T4': 1.0, 'node:172.28.0.2': 1.0, 'CPU': 2.0, 'object_store_memory': 4001996390.0, 'GPU': 1.0}\n",
            "INFO flower 2022-10-24 21:10:22,976 | server.py:86 | Initializing global parameters\n",
            "INFO:flower:Initializing global parameters\n",
            "INFO flower 2022-10-24 21:10:22,982 | server.py:266 | Using initial parameters provided by strategy\n",
            "INFO:flower:Using initial parameters provided by strategy\n",
            "INFO flower 2022-10-24 21:10:22,990 | server.py:88 | Evaluating initial parameters\n",
            "INFO:flower:Evaluating initial parameters\n",
            "INFO flower 2022-10-24 21:10:22,994 | server.py:101 | FL starting\n",
            "INFO:flower:FL starting\n"
          ]
        },
        {
          "output_type": "stream",
          "name": "stdout",
          "text": [
            "\u001b[2m\u001b[36m(launch_and_get_properties pid=9132)\u001b[0m Created client: 0\n",
            "\u001b[2m\u001b[36m(launch_and_get_properties pid=9179)\u001b[0m Created client: 1\n",
            "\u001b[2m\u001b[36m(launch_and_get_properties pid=9224)\u001b[0m Created client: 2\n",
            "\u001b[2m\u001b[36m(launch_and_get_properties pid=9269)\u001b[0m Created client: 3\n",
            "\u001b[2m\u001b[36m(launch_and_get_properties pid=9314)\u001b[0m Created client: 4\n",
            "\u001b[2m\u001b[36m(launch_and_get_properties pid=9359)\u001b[0m Created client: 5\n",
            "\u001b[2m\u001b[36m(launch_and_get_properties pid=9405)\u001b[0m Created client: 6\n",
            "\u001b[2m\u001b[36m(launch_and_get_properties pid=9450)\u001b[0m Created client: 7\n",
            "\u001b[2m\u001b[36m(launch_and_get_properties pid=9495)\u001b[0m Created client: 8\n",
            "{'0': 'norwaywest', '1': 'northeurope', '2': 'westcentralus', '3': 'northeurope', '4': 'westeurope', '5': 'francecentral', '6': 'northeurope', '7': 'australiacentral', '8': 'australiacentral', '9': 'westeurope'}\n",
            "\u001b[2m\u001b[36m(launch_and_get_properties pid=9542)\u001b[0m Created client: 9\n"
          ]
        },
        {
          "output_type": "stream",
          "name": "stderr",
          "text": [
            "DEBUG flower 2022-10-24 21:11:30,449 | server.py:220 | fit_round 1: strategy sampled 5 clients (out of 10)\n",
            "DEBUG:flower:fit_round 1: strategy sampled 5 clients (out of 10)\n"
          ]
        },
        {
          "output_type": "stream",
          "name": "stdout",
          "text": [
            "_______________________________________________________________________\n",
            " Available Clients with their locations\n",
            "_______________________________________________________________________\n",
            "0 norwaywest\n",
            "1 northeurope\n",
            "2 westcentralus\n",
            "3 northeurope\n",
            "4 westeurope\n",
            "5 francecentral\n",
            "6 northeurope\n",
            "7 australiacentral\n",
            "8 australiacentral\n",
            "9 westeurope\n",
            "_______________________________________________________________________\n",
            " Available Clients with their participation\n",
            "_______________________________________________________________________\n",
            "0 0\n",
            "1 0\n",
            "2 0\n",
            "3 0\n",
            "4 0\n",
            "5 0\n",
            "6 0\n",
            "7 0\n",
            "8 0\n",
            "9 0\n",
            "_______________________________________________________________________\n",
            " selected low carbon clients\n",
            "_______________________________________________________________________\n",
            "7\n",
            "8\n",
            "0\n",
            "4\n",
            "9\n",
            "_______________________________________________________________________\n",
            " CO2 intensity of selected clients\n",
            "_______________________________________________________________________\n",
            "Client: 7, CO2 intensity: [821.7633264085555, 821.5783162393334, 821.006157895, 821.6376361398889, 821.8655212714445, 821.682449057889, 821.7945182664444, 823.5160135274443, 825.5310444758888, 826.5138094875555, 829.1808979245556, 832.1908937769999, 835.3908646564445, 834.7810176882223, 833.7894857342222, 832.8696581404445, 832.5883777157778, 832.447091518111, 832.8793848323335, 833.7505235965555, 834.7423877715555, 837.0883477236666, 839.3641352233333, 840.7899169038889, 843.8319351668889, 847.6890575898889, 851.8620667891112, 849.6867576774443, 848.3612698175556, 848.2389386722223, 847.8653008166667, 846.4648971271112, 843.6919778532222, 843.9767281414445, 843.3730826315555, 843.1955474343333, 843.4364076405557, 844.403908944, 846.9790644546666, 847.9353809854445, 846.6183832172222, 845.3012931653334, 846.238045572, 846.9298957505555, 847.5470331234444, 847.0021353556667, 850.4508659178889, 852.9837001678889, 854.851741792, 845.7292860635555, 841.340739279, 839.8254240458889, 847.4198478605556, 851.0107136294444, 855.3083241506667, 855.6037239667778, 858.3244291776667, 852.8620888345556, 849.7020952123332, 845.5452541005557, 846.6728490002223, 848.5849837302222, 846.900660304889, 842.3021498646667, 838.1812439882223, 831.3761033811112, 827.4512078794445, 828.0740668357778, 835.6389968106666, 843.284933333, 843.9806409662222, 841.4467177696667, 838.8982322204445, 839.084275966, 838.9013514063333, 841.5304189984445, 843.4927006387777, 845.8918344034444, 845.5055167807777, 843.0957334883333, 844.0816915125556, 845.1022005181111, 847.7031400677779, 846.9105161937778, 845.931073391889, 845.8030575764444, 842.8060367986666, 840.3465680138889, 837.847435736111, 838.2480204039999, 838.4738383827778, 837.8229067541112, 838.3102380097778, 838.7900389232223, 840.8290266952222, 841.2680013423334, 843.7205857703333, 846.1466663473334, 848.6254777755555, 848.4592934616667, 847.6796446622222, 846.2141256617778, 842.6950011665555, 835.867158793, 829.7744291515555, 824.7252425032223, 822.9112606143333, 821.3607299579999, 820.5980428849998, 819.9949510766667, 819.3015136199999, 818.0577890332222, 816.7530465275556, 815.5774456972222, 815.4556867102222, 814.0281885545555, 812.9036390138889, 811.796420334, 811.3987702846666, 810.6556473356668, 810.0291339486668, 809.9828814064444, 808.6150907425556, 807.1465079264444, 805.630749732, 805.4757132774446, 805.4201400911112, 805.3495800475555, 805.2492493133334, 805.0920349657777, 804.9871638782222, 804.910236266, 804.8811484739999, 804.8939943516666, 805.4685889831111, 805.9848234634445, 806.0132837268889, 805.4636425819999, 804.9590727492223, 806.5652688755556, 808.1635655253333]\n",
            "Client: 8, CO2 intensity: [821.7633264085555, 821.5783162393334, 821.006157895, 821.6376361398889, 821.8655212714445, 821.682449057889, 821.7945182664444, 823.5160135274443, 825.5310444758888, 826.5138094875555, 829.1808979245556, 832.1908937769999, 835.3908646564445, 834.7810176882223, 833.7894857342222, 832.8696581404445, 832.5883777157778, 832.447091518111, 832.8793848323335, 833.7505235965555, 834.7423877715555, 837.0883477236666, 839.3641352233333, 840.7899169038889, 843.8319351668889, 847.6890575898889, 851.8620667891112, 849.6867576774443, 848.3612698175556, 848.2389386722223, 847.8653008166667, 846.4648971271112, 843.6919778532222, 843.9767281414445, 843.3730826315555, 843.1955474343333, 843.4364076405557, 844.403908944, 846.9790644546666, 847.9353809854445, 846.6183832172222, 845.3012931653334, 846.238045572, 846.9298957505555, 847.5470331234444, 847.0021353556667, 850.4508659178889, 852.9837001678889, 854.851741792, 845.7292860635555, 841.340739279, 839.8254240458889, 847.4198478605556, 851.0107136294444, 855.3083241506667, 855.6037239667778, 858.3244291776667, 852.8620888345556, 849.7020952123332, 845.5452541005557, 846.6728490002223, 848.5849837302222, 846.900660304889, 842.3021498646667, 838.1812439882223, 831.3761033811112, 827.4512078794445, 828.0740668357778, 835.6389968106666, 843.284933333, 843.9806409662222, 841.4467177696667, 838.8982322204445, 839.084275966, 838.9013514063333, 841.5304189984445, 843.4927006387777, 845.8918344034444, 845.5055167807777, 843.0957334883333, 844.0816915125556, 845.1022005181111, 847.7031400677779, 846.9105161937778, 845.931073391889, 845.8030575764444, 842.8060367986666, 840.3465680138889, 837.847435736111, 838.2480204039999, 838.4738383827778, 837.8229067541112, 838.3102380097778, 838.7900389232223, 840.8290266952222, 841.2680013423334, 843.7205857703333, 846.1466663473334, 848.6254777755555, 848.4592934616667, 847.6796446622222, 846.2141256617778, 842.6950011665555, 835.867158793, 829.7744291515555, 824.7252425032223, 822.9112606143333, 821.3607299579999, 820.5980428849998, 819.9949510766667, 819.3015136199999, 818.0577890332222, 816.7530465275556, 815.5774456972222, 815.4556867102222, 814.0281885545555, 812.9036390138889, 811.796420334, 811.3987702846666, 810.6556473356668, 810.0291339486668, 809.9828814064444, 808.6150907425556, 807.1465079264444, 805.630749732, 805.4757132774446, 805.4201400911112, 805.3495800475555, 805.2492493133334, 805.0920349657777, 804.9871638782222, 804.910236266, 804.8811484739999, 804.8939943516666, 805.4685889831111, 805.9848234634445, 806.0132837268889, 805.4636425819999, 804.9590727492223, 806.5652688755556, 808.1635655253333]\n",
            "Client: 0, CO2 intensity: [619.8178608876667, 619.7659052186667, 619.7139495496667, 619.6619938806667, 619.6696534197778, 619.6773129588889, 619.684972498, 619.1769881718889, 617.7564666567778, 616.3359451416666, 615.3506331025555, 615.2778582524445, 615.2050834023333, 615.491863929889, 615.8092457005555, 616.1266274712223, 615.8246386057777, 615.4920484972222, 615.1594583886667, 614.8040004031111, 616.0461377118888, 617.2882750206666, 619.3908092822222, 619.8957482494444, 620.4006872166666, 620.1598639238889, 619.9190406311111, 619.6782173383333, 619.3838695552222, 619.0933053998889, 618.8027412445556, 618.2918407565555, 617.1839022645555, 616.0759637725555, 615.3637189174444, 615.2447284385555, 615.1257379596667, 615.3761587473333, 615.5998172897778, 615.8234758322222, 615.7164268516667, 615.6361401163333, 615.5558533809999, 603.4026379893332, 591.0847332779999, 578.7668285666666, 578.7507343061111, 578.8993293652222, 579.0479244243334, 578.978010366, 578.9080963076667, 578.8381822493334, 581.9078302233333, 584.9860421157778, 588.0642540082222, 600.2042543877778, 612.7928822794445, 625.3815101711111, 625.5505183633334, 625.3505582503333, 625.1505981373334, 625.1339501752223, 625.0825851213333, 625.0312200674445, 623.146216717, 621.4680947497778, 619.7899727825555, 621.8975088154444, 623.4800434256667, 625.0625780358889, 624.7974287851112, 624.8040916613334, 624.8107545375556, 624.8766450307778, 624.9353374028889, 624.994029775, 625.0234682446667, 625.0529067143334, 625.082345184, 621.463388286, 618.2094868684445, 614.9555854508889, 615.2713984002222, 615.2561162353334, 615.2408340704444, 614.9727871145556, 614.6440175472222, 614.3152479798889, 614.4395909077778, 614.5906960808888, 614.7418012539999, 609.6511977242222, 604.5906786493333, 599.5301595744445, 599.4367870240001, 599.3672974702223, 599.2978079164444, 599.4964206888889, 599.6453479689999, 599.794275249111, 599.7893473046666, 599.780137401, 599.7709274973333, 600.0027254536667, 599.7599826618889, 599.5172398701111, 598.958148884, 598.8735986460001, 598.7890484080001, 598.7933303672222, 598.7890484080001, 598.7847664487779, 599.1775808373334, 599.5789591443333, 599.9803374513333, 598.1491723553333, 596.4214571793333, 594.6937420033333, 594.9085044064444, 595.0155349303334, 595.1225654542222, 595.1039057094445, 595.0895279238889, 595.0751501383334, 594.9467282751111, 594.8225883711111, 594.6984484671111, 593.4211511052222, 591.5217699693334, 589.6223888334445, 588.9257399074444, 588.8396946751111, 588.7536494427777, 589.0900416357778, 589.4336319498889, 589.777222264, 589.655795498, 589.4985996071111, 589.3414037162222, 589.5129404792222, 587.9735761388889]\n",
            "Client: 4, CO2 intensity: [423.7743840275556, 423.3278974951111, 422.9257993761111, 422.5287030284445, 420.55834657266666, 418.60075293933335, 416.6581461633333, 432.60024025300004, 448.6523087134444, 464.79668846277775, 464.7008888535555, 464.5799419622222, 464.5520354004444, 464.7253347802222, 464.9330098024444, 465.03880372599997, 465.60487135244443, 466.1365541081111, 466.669602661, 460.0253862025555, 454.8701749216666, 449.6747741313333, 451.21271730411104, 451.21957397588886, 451.2245111487778, 451.1521700316667, 451.082708163, 451.0161255427778, 450.7367277035556, 450.46616140522224, 450.20444510444446, 440.6524091997778, 432.1111463805555, 423.6542584603334, 424.87341715177774, 425.1636859995556, 425.2848174581111, 425.4514262765555, 425.6203421852222, 425.9582016875556, 426.1924174743333, 426.4260518743333, 426.65911411599996, 431.73328193588884, 436.7506307408889, 441.7065740357778, 441.75942485577775, 441.8101900662223, 441.8634469341111, 441.92149332099996, 441.98288960266666, 442.04428588433336, 442.1010956708889, 442.1560966988889, 442.212638863, 451.1655788393333, 460.1748025856667, 469.24031010211115, 469.46954257422226, 469.70471811044445, 469.9458551674444, 470.1929537453333, 470.43959090522225, 470.6925587203333, 470.95185719066666, 471.22739757522226, 472.00604971166666, 469.98861938955554, 468.0028054302222, 465.48569630633335, 465.27959010533334, 464.90347904922226, 464.53292346600006, 465.07209965022224, 465.73831344366664, 466.403013786, 465.5776476893333, 465.0342633726667, 464.49759730244443, 464.7756293443333, 464.889544225, 465.3728888288889, 466.42350074611113, 467.4781546852222, 468.30077073055554, 461.85234316611115, 455.4191147112223, 448.98839637044443, 452.29822165199994, 456.6119264337778, 460.95004022877777, 463.2915151976667, 464.4960469378889, 465.74049133677784, 466.35790556044446, 467.054517573, 467.6456494263333, 464.79558105955556, 462.45009175388884, 460.0803872305555, 464.4879444374444, 468.5368783312222, 472.5715820932222, 476.87098291633333, 480.45317402644446, 483.7030149654445, 481.3955003628889, 479.2763365958889, 476.9607010361111, 476.03487500811116, 474.52773610233334, 473.16998589455557, 471.88008259233334, 471.1425889432222, 470.2739418362222, 485.3980063755555, 500.7777703245556, 516.4508853937778, 515.390989746, 513.0183044623334, 510.3339774481111, 508.3023723644445, 507.2103804792223, 506.4444450234445, 509.5732283308889, 512.9541304442222, 516.3083072257778, 518.6556514318888, 520.1797520641111, 521.1178518114444, 518.6288522733333, 516.9254076852222, 515.5726223353333, 514.8364575701111, 514.0111283867777, 512.434444557, 510.82928200711115, 509.3591857398889, 508.7775590978889, 510.1205254723334, 511.3608171091111]\n",
            "Client: 9, CO2 intensity: [423.7743840275556, 423.3278974951111, 422.9257993761111, 422.5287030284445, 420.55834657266666, 418.60075293933335, 416.6581461633333, 432.60024025300004, 448.6523087134444, 464.79668846277775, 464.7008888535555, 464.5799419622222, 464.5520354004444, 464.7253347802222, 464.9330098024444, 465.03880372599997, 465.60487135244443, 466.1365541081111, 466.669602661, 460.0253862025555, 454.8701749216666, 449.6747741313333, 451.21271730411104, 451.21957397588886, 451.2245111487778, 451.1521700316667, 451.082708163, 451.0161255427778, 450.7367277035556, 450.46616140522224, 450.20444510444446, 440.6524091997778, 432.1111463805555, 423.6542584603334, 424.87341715177774, 425.1636859995556, 425.2848174581111, 425.4514262765555, 425.6203421852222, 425.9582016875556, 426.1924174743333, 426.4260518743333, 426.65911411599996, 431.73328193588884, 436.7506307408889, 441.7065740357778, 441.75942485577775, 441.8101900662223, 441.8634469341111, 441.92149332099996, 441.98288960266666, 442.04428588433336, 442.1010956708889, 442.1560966988889, 442.212638863, 451.1655788393333, 460.1748025856667, 469.24031010211115, 469.46954257422226, 469.70471811044445, 469.9458551674444, 470.1929537453333, 470.43959090522225, 470.6925587203333, 470.95185719066666, 471.22739757522226, 472.00604971166666, 469.98861938955554, 468.0028054302222, 465.48569630633335, 465.27959010533334, 464.90347904922226, 464.53292346600006, 465.07209965022224, 465.73831344366664, 466.403013786, 465.5776476893333, 465.0342633726667, 464.49759730244443, 464.7756293443333, 464.889544225, 465.3728888288889, 466.42350074611113, 467.4781546852222, 468.30077073055554, 461.85234316611115, 455.4191147112223, 448.98839637044443, 452.29822165199994, 456.6119264337778, 460.95004022877777, 463.2915151976667, 464.4960469378889, 465.74049133677784, 466.35790556044446, 467.054517573, 467.6456494263333, 464.79558105955556, 462.45009175388884, 460.0803872305555, 464.4879444374444, 468.5368783312222, 472.5715820932222, 476.87098291633333, 480.45317402644446, 483.7030149654445, 481.3955003628889, 479.2763365958889, 476.9607010361111, 476.03487500811116, 474.52773610233334, 473.16998589455557, 471.88008259233334, 471.1425889432222, 470.2739418362222, 485.3980063755555, 500.7777703245556, 516.4508853937778, 515.390989746, 513.0183044623334, 510.3339774481111, 508.3023723644445, 507.2103804792223, 506.4444450234445, 509.5732283308889, 512.9541304442222, 516.3083072257778, 518.6556514318888, 520.1797520641111, 521.1178518114444, 518.6288522733333, 516.9254076852222, 515.5726223353333, 514.8364575701111, 514.0111283867777, 512.434444557, 510.82928200711115, 509.3591857398889, 508.7775590978889, 510.1205254723334, 511.3608171091111]\n",
            "\u001b[2m\u001b[36m(launch_and_fit pid=9618)\u001b[0m Created client: 4\n",
            "\u001b[2m\u001b[36m(launch_and_fit pid=9618)\u001b[0m Finished loading model weights\n",
            "\u001b[2m\u001b[36m(launch_and_fit pid=9618)\u001b[0m Entered train function, total num. of epochs: 30\n",
            "\u001b[2m\u001b[36m(launch_and_fit pid=9618)\u001b[0m Epoch : 1 Train Loss : 1.965456 \n",
            "\u001b[2m\u001b[36m(launch_and_fit pid=9618)\u001b[0m Epoch : 2 Train Loss : 1.962096 \n",
            "\u001b[2m\u001b[36m(launch_and_fit pid=9618)\u001b[0m Epoch : 3 Train Loss : 1.960588 \n",
            "\u001b[2m\u001b[36m(launch_and_fit pid=9618)\u001b[0m Epoch : 4 Train Loss : 1.959483 \n",
            "\u001b[2m\u001b[36m(launch_and_fit pid=9618)\u001b[0m Epoch : 5 Train Loss : 1.959190 \n",
            "\u001b[2m\u001b[36m(launch_and_fit pid=9618)\u001b[0m Epoch : 6 Train Loss : 1.959144 \n",
            "\u001b[2m\u001b[36m(launch_and_fit pid=9618)\u001b[0m Epoch : 7 Train Loss : 1.958962 \n",
            "\u001b[2m\u001b[36m(launch_and_fit pid=9618)\u001b[0m Epoch : 8 Train Loss : 1.959135 \n",
            "\u001b[2m\u001b[36m(launch_and_fit pid=9618)\u001b[0m Epoch : 9 Train Loss : 1.958870 \n",
            "\u001b[2m\u001b[36m(launch_and_fit pid=9618)\u001b[0m Epoch : 10 Train Loss : 1.959089 \n",
            "\u001b[2m\u001b[36m(launch_and_fit pid=9618)\u001b[0m Epoch : 11 Train Loss : 1.959566 \n",
            "\u001b[2m\u001b[36m(launch_and_fit pid=9618)\u001b[0m Epoch : 12 Train Loss : 1.959170 \n",
            "\u001b[2m\u001b[36m(launch_and_fit pid=9618)\u001b[0m Epoch : 13 Train Loss : 1.958687 \n",
            "\u001b[2m\u001b[36m(launch_and_fit pid=9618)\u001b[0m Epoch : 14 Train Loss : 1.958469 \n",
            "\u001b[2m\u001b[36m(launch_and_fit pid=9618)\u001b[0m Epoch : 15 Train Loss : 1.958848 \n",
            "\u001b[2m\u001b[36m(launch_and_fit pid=9618)\u001b[0m Epoch : 16 Train Loss : 1.958384 \n",
            "\u001b[2m\u001b[36m(launch_and_fit pid=9618)\u001b[0m Epoch : 17 Train Loss : 1.958449 \n",
            "\u001b[2m\u001b[36m(launch_and_fit pid=9618)\u001b[0m Epoch : 18 Train Loss : 1.958565 \n",
            "\u001b[2m\u001b[36m(launch_and_fit pid=9618)\u001b[0m Epoch : 19 Train Loss : 1.958275 \n",
            "\u001b[2m\u001b[36m(launch_and_fit pid=9618)\u001b[0m Epoch : 20 Train Loss : 1.958135 \n",
            "\u001b[2m\u001b[36m(launch_and_fit pid=9618)\u001b[0m Epoch : 21 Train Loss : 1.958202 \n",
            "\u001b[2m\u001b[36m(launch_and_fit pid=9618)\u001b[0m Epoch : 22 Train Loss : 1.958517 \n",
            "\u001b[2m\u001b[36m(launch_and_fit pid=9618)\u001b[0m Epoch : 23 Train Loss : 1.958189 \n",
            "\u001b[2m\u001b[36m(launch_and_fit pid=9618)\u001b[0m Epoch : 24 Train Loss : 1.958412 \n",
            "\u001b[2m\u001b[36m(launch_and_fit pid=9618)\u001b[0m Epoch : 25 Train Loss : 1.958100 \n",
            "\u001b[2m\u001b[36m(launch_and_fit pid=9618)\u001b[0m Epoch : 26 Train Loss : 1.958313 \n",
            "\u001b[2m\u001b[36m(launch_and_fit pid=9618)\u001b[0m Epoch : 27 Train Loss : 1.958277 \n",
            "\u001b[2m\u001b[36m(launch_and_fit pid=9618)\u001b[0m Epoch : 28 Train Loss : 1.958045 \n",
            "\u001b[2m\u001b[36m(launch_and_fit pid=9618)\u001b[0m Epoch : 29 Train Loss : 1.958502 \n",
            "\u001b[2m\u001b[36m(launch_and_fit pid=9618)\u001b[0m Epoch : 30 Train Loss : 1.958118 \n",
            "\u001b[2m\u001b[36m(launch_and_fit pid=9618)\u001b[0m \n",
            "\u001b[2m\u001b[36m(launch_and_fit pid=9618)\u001b[0m \n",
            "\u001b[2m\u001b[36m(launch_and_fit pid=9618)\u001b[0m Time to complete local training round: 1746.7872080802917\n",
            "\u001b[2m\u001b[36m(launch_and_fit pid=9618)\u001b[0m \n",
            "\u001b[2m\u001b[36m(launch_and_fit pid=9618)\u001b[0m \n",
            "\u001b[2m\u001b[36m(launch_and_fit pid=10138)\u001b[0m Created client: 8\n",
            "\u001b[2m\u001b[36m(launch_and_fit pid=10138)\u001b[0m Finished loading model weights\n",
            "\u001b[2m\u001b[36m(launch_and_fit pid=10138)\u001b[0m Entered train function, total num. of epochs: 30\n"
          ]
        }
      ],
      "source": [
        "num_rounds = 10\n",
        "local_epochs = 30\n",
        "fraction_fit = 0.05\n",
        "fraction_evaluate = 0.05\n",
        "min_fit_clients = 5\n",
        "min_evaluate_clients = 5\n",
        "\n",
        "client_resources = {\n",
        "    \"num_cpus\": 1,\n",
        "    \"num_gpus\": 1\n",
        "    }\n",
        "\n",
        "# def fit_config(server_round: int):    \n",
        "#     config = {\n",
        "#         \"server_round\": server_round,\n",
        "#         \"local_epochs\": local_epochs,\n",
        "#     }\n",
        "#     return config\n",
        "\n",
        "# Create an instance of the model and get the parameters\n",
        "net = init_net()\n",
        "params = get_parameters(init_net())\n",
        "\n",
        "# Pass parameters to the Strategy for server-side parameter initialization\n",
        "strategy = fl.server.strategy.FedAvg(\n",
        "    fraction_fit=fraction_fit,\n",
        "    fraction_evaluate=fraction_evaluate,\n",
        "    min_fit_clients=min_fit_clients,\n",
        "    min_evaluate_clients=min_evaluate_clients,\n",
        "    min_available_clients=num_clients,\n",
        "    initial_parameters=fl.common.ndarrays_to_parameters(params),\n",
        "    # evaluate_fn=server_eval,\n",
        "    # on_fit_config_fn=fit_config,\n",
        ")\n",
        "\n",
        "# Start simulation\n",
        "fl.simulation.start_simulation(\n",
        "    client_fn=client_fn,\n",
        "    num_clients=num_clients,\n",
        "    config=fl.server.ServerConfig(num_rounds=num_rounds),\n",
        "    client_resources=client_resources,\n",
        "    client_manager=LowCarb_ClientManager(api_host='https://carbon-aware-api.azurewebsites.net', workload_duration=15, forecast_window=12),\n",
        "    strategy=strategy,\n",
        ")"
      ]
    },
    {
      "cell_type": "code",
      "execution_count": null,
      "metadata": {
        "id": "lI1gXFV1OFcR"
      },
      "outputs": [],
      "source": []
    }
  ],
  "metadata": {
    "accelerator": "GPU",
    "colab": {
      "collapsed_sections": [],
      "provenance": []
    },
    "gpuClass": "premium",
    "kernelspec": {
      "display_name": "Python 3",
      "name": "python3"
    },
    "language_info": {
      "name": "python"
    }
  },
  "nbformat": 4,
  "nbformat_minor": 0
}