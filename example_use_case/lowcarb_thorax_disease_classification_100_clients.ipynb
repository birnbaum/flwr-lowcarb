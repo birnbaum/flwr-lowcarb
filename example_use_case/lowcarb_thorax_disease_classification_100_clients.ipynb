{
  "cells": [
    {
      "cell_type": "markdown",
      "metadata": {
        "id": "FLU2v46A66u2"
      },
      "source": [
        "# LowCarb thorax disease classification in Flower"
      ]
    },
    {
      "cell_type": "code",
      "source": [
        "!cp -r /content/drive/MyDrive/carbonhack22/openapi_client /content/"
      ],
      "metadata": {
        "id": "N2_whCjXKKRJ"
      },
      "execution_count": 3,
      "outputs": []
    },
    {
      "cell_type": "code",
      "source": [
        "!ssh-keygen -t rsa -b 4096"
      ],
      "metadata": {
        "colab": {
          "base_uri": "https://localhost:8080/"
        },
        "id": "fFW3c8yZFztb",
        "outputId": "a1985814-332a-42a1-fc7f-943471ba1a0b"
      },
      "execution_count": 7,
      "outputs": [
        {
          "output_type": "stream",
          "name": "stdout",
          "text": [
            "Generating public/private rsa key pair.\n",
            "Enter file in which to save the key (/root/.ssh/id_rsa): \n",
            "Created directory '/root/.ssh'.\n",
            "Enter passphrase (empty for no passphrase): \n",
            "Enter same passphrase again: \n",
            "Your identification has been saved in /root/.ssh/id_rsa.\n",
            "Your public key has been saved in /root/.ssh/id_rsa.pub.\n",
            "The key fingerprint is:\n",
            "SHA256:M37orNTGoCZeOVQNJsrgzJmQ2aefqvxke+1xgOyMUFY root@fa926a31eee4\n",
            "The key's randomart image is:\n",
            "+---[RSA 4096]----+\n",
            "|o+  .Eo          |\n",
            "|Bo+.oo o         |\n",
            "| *o=  . .        |\n",
            "|  + ...          |\n",
            "| . ..+..S        |\n",
            "|  ..*o =.+       |\n",
            "|  .=*oo.*..      |\n",
            "|..++.+ =o.       |\n",
            "|.ooo. ooo        |\n",
            "+----[SHA256]-----+\n"
          ]
        }
      ]
    },
    {
      "cell_type": "code",
      "source": [
        "!ssh-keyscan -t rsa github.com >> ~/.ssh/known_hosts"
      ],
      "metadata": {
        "colab": {
          "base_uri": "https://localhost:8080/"
        },
        "id": "-NIY7qXTFzv5",
        "outputId": "27626b27-8219-4a52-8a8f-dd679f52ec82"
      },
      "execution_count": 8,
      "outputs": [
        {
          "output_type": "stream",
          "name": "stdout",
          "text": [
            "# github.com:22 SSH-2.0-babeld-2f5f2727\n"
          ]
        }
      ]
    },
    {
      "cell_type": "code",
      "source": [
        "!cat /root/.ssh/id_rsa.pub"
      ],
      "metadata": {
        "colab": {
          "base_uri": "https://localhost:8080/"
        },
        "id": "jLUJNMh4Fzy6",
        "outputId": "a87737d5-ece9-4882-9050-47367186e1c9"
      },
      "execution_count": 9,
      "outputs": [
        {
          "output_type": "stream",
          "name": "stdout",
          "text": [
            "ssh-rsa AAAAB3NzaC1yc2EAAAADAQABAAACAQDdn723TTOHHLiXfFlIj7Gz65Wymv22Ibo1AjFSNW8atchM8u6Fwg8iROfJzb7xYL6B8lmJsuO2G3lkaUwGefbinoXhB9zEHnQgyXnWj4HZSljsUt68SiXQwnMXDAnFjXeAZKp41XZjLBxLBnybrOzMHdlU4DDMlxJd9DBZxnJ5fCoFyo0N1YLTd8+X5ZEe4J86KoikIladz21OgdS9MPRNAkecwu1xRpZz4N0WOjRGmolzO2+qUnUKr4OzS74K3r6NSbsTLQc1gBwIQZPXU7svGsB8D1MIiG83CCZ/D+sK3TkGR2is4pTslZ7A2CmQ8ZhDmIAn0HALNvrqoTgZgsumg0YQ60VNXsCCan1wkc9xCt29X6bZbRuKbLDIUdAOfsFtWgnECzKloe/ag+YCoUpGJgkRcMQ7awaWAeeekC/OgdwWIu17x3VtGC392PtN+lTCr/8jpw5tWmjZgCK5C13xavuMNe/Dk1cxt/l/LrZvxx+/d8OwWTVWfk/uD19DX4+jfAzIlYghoH+PBjlqU1LfuNKSV3UDPfiPR5DM7F1/P3ZrhYpz29oXMQyBxTY+BDiWj81SvJYAWlxABMdi1LSAT1KTxjcX/I6P0datGdM6yJUShsJGl/w01wwcgJZHqno1sIqQUgVN4y57+Vgw59DK/ckeIVa6xV1s9x0j/+1sFQ== root@fa926a31eee4\n"
          ]
        }
      ]
    },
    {
      "cell_type": "code",
      "source": [
        "!git clone git@github.com:birnbaum/carbonhack22.git"
      ],
      "metadata": {
        "colab": {
          "base_uri": "https://localhost:8080/"
        },
        "id": "813E_NCtKOtJ",
        "outputId": "2048aa56-92a3-4332-afb2-4390199fdc83"
      },
      "execution_count": 2,
      "outputs": [
        {
          "output_type": "stream",
          "name": "stdout",
          "text": [
            "Cloning into 'carbonhack22'...\n",
            "remote: Enumerating objects: 297, done.\u001b[K\n",
            "remote: Counting objects: 100% (297/297), done.\u001b[K\n",
            "remote: Compressing objects: 100% (199/199), done.\u001b[K\n",
            "remote: Total 297 (delta 144), reused 243 (delta 90), pack-reused 0\u001b[K\n",
            "Receiving objects: 100% (297/297), 794.22 KiB | 863.00 KiB/s, done.\n",
            "Resolving deltas: 100% (144/144), done.\n"
          ]
        }
      ]
    },
    {
      "cell_type": "code",
      "source": [
        "%cd carbonhack22"
      ],
      "metadata": {
        "colab": {
          "base_uri": "https://localhost:8080/"
        },
        "id": "YxD0Spp9Lsq1",
        "outputId": "d4562499-a02b-46d8-d961-9517d131ecb1"
      },
      "execution_count": 4,
      "outputs": [
        {
          "output_type": "stream",
          "name": "stdout",
          "text": [
            "backtest\t\t\t    optimization.ipynb\n",
            "benchmark\t\t\t    README.md\n",
            "carbon_sdk_client\t\t    requirements.txt\n",
            "example_use_case\t\t    util\n",
            "flwr_lowcarb_demo_simulation.ipynb  webapi_forecast_demo_notebook.ipynb\n",
            "lowcarb\n"
          ]
        }
      ]
    },
    {
      "cell_type": "code",
      "source": [
        "!pip install -r requirements.txt"
      ],
      "metadata": {
        "colab": {
          "base_uri": "https://localhost:8080/",
          "height": 1000
        },
        "id": "YwPdzrJlLu6X",
        "outputId": "33063a5b-7b76-45f1-e672-bf5c2c329171"
      },
      "execution_count": 5,
      "outputs": [
        {
          "output_type": "stream",
          "name": "stdout",
          "text": [
            "Looking in indexes: https://pypi.org/simple, https://us-python.pkg.dev/colab-wheels/public/simple/\n",
            "Processing ./carbon_sdk_client\n",
            "\u001b[33m  DEPRECATION: A future pip version will change local packages to be built in-place without first copying to a temporary directory. We recommend you use --use-feature=in-tree-build to test your packages with this new behavior before it becomes the default.\n",
            "   pip 21.3 will remove support for this functionality. You can find discussion regarding this at https://github.com/pypa/pip/issues/7555.\u001b[0m\n",
            "Requirement already satisfied: pandas in /usr/local/lib/python3.7/dist-packages (from -r requirements.txt (line 2)) (1.3.5)\n",
            "Collecting jupyterlab\n",
            "  Downloading jupyterlab-3.4.8-py3-none-any.whl (8.8 MB)\n",
            "\u001b[K     |████████████████████████████████| 8.8 MB 26.1 MB/s \n",
            "\u001b[?25hRequirement already satisfied: matplotlib in /usr/local/lib/python3.7/dist-packages (from -r requirements.txt (line 4)) (3.2.2)\n",
            "Requirement already satisfied: seaborn in /usr/local/lib/python3.7/dist-packages (from -r requirements.txt (line 5)) (0.11.2)\n",
            "Requirement already satisfied: flwr in /usr/local/lib/python3.7/dist-packages (from -r requirements.txt (line 8)) (1.0.0)\n",
            "Collecting urllib3>=1.25.3\n",
            "  Downloading urllib3-1.26.12-py2.py3-none-any.whl (140 kB)\n",
            "\u001b[K     |████████████████████████████████| 140 kB 96.6 MB/s \n",
            "\u001b[?25hRequirement already satisfied: python-dateutil in /usr/local/lib/python3.7/dist-packages (from openapi-client==1.0.0->-r requirements.txt (line 10)) (2.8.2)\n",
            "Requirement already satisfied: pytz>=2017.3 in /usr/local/lib/python3.7/dist-packages (from pandas->-r requirements.txt (line 2)) (2022.4)\n",
            "Requirement already satisfied: numpy>=1.17.3 in /usr/local/lib/python3.7/dist-packages (from pandas->-r requirements.txt (line 2)) (1.21.6)\n",
            "Requirement already satisfied: six>=1.5 in /usr/local/lib/python3.7/dist-packages (from python-dateutil->openapi-client==1.0.0->-r requirements.txt (line 10)) (1.15.0)\n",
            "Requirement already satisfied: notebook<7 in /usr/local/lib/python3.7/dist-packages (from jupyterlab->-r requirements.txt (line 3)) (5.5.0)\n",
            "Requirement already satisfied: tomli in /usr/local/lib/python3.7/dist-packages (from jupyterlab->-r requirements.txt (line 3)) (2.0.1)\n",
            "Collecting tornado>=6.1.0\n",
            "  Downloading tornado-6.2-cp37-abi3-manylinux_2_5_x86_64.manylinux1_x86_64.manylinux_2_17_x86_64.manylinux2014_x86_64.whl (423 kB)\n",
            "\u001b[K     |████████████████████████████████| 423 kB 90.9 MB/s \n",
            "\u001b[?25hRequirement already satisfied: ipython in /usr/local/lib/python3.7/dist-packages (from jupyterlab->-r requirements.txt (line 3)) (7.9.0)\n",
            "Requirement already satisfied: jinja2>=2.1 in /usr/local/lib/python3.7/dist-packages (from jupyterlab->-r requirements.txt (line 3)) (3.1.2)\n",
            "Requirement already satisfied: jupyter-core in /usr/local/lib/python3.7/dist-packages (from jupyterlab->-r requirements.txt (line 3)) (4.11.1)\n",
            "Collecting nbclassic\n",
            "  Downloading nbclassic-0.4.7-py3-none-any.whl (9.8 MB)\n",
            "\u001b[K     |████████████████████████████████| 9.8 MB 78.0 MB/s \n",
            "\u001b[?25hCollecting jupyter-server~=1.16\n",
            "  Downloading jupyter_server-1.21.0-py3-none-any.whl (346 kB)\n",
            "\u001b[K     |████████████████████████████████| 346 kB 100.2 MB/s \n",
            "\u001b[?25hRequirement already satisfied: packaging in /usr/local/lib/python3.7/dist-packages (from jupyterlab->-r requirements.txt (line 3)) (21.3)\n",
            "Collecting jupyterlab-server~=2.10\n",
            "  Downloading jupyterlab_server-2.16.1-py3-none-any.whl (54 kB)\n",
            "\u001b[K     |████████████████████████████████| 54 kB 3.3 MB/s \n",
            "\u001b[?25hRequirement already satisfied: MarkupSafe>=2.0 in /usr/local/lib/python3.7/dist-packages (from jinja2>=2.1->jupyterlab->-r requirements.txt (line 3)) (2.0.1)\n",
            "Requirement already satisfied: jupyter-client>=6.1.12 in /usr/local/lib/python3.7/dist-packages (from jupyter-server~=1.16->jupyterlab->-r requirements.txt (line 3)) (6.1.12)\n",
            "Requirement already satisfied: terminado>=0.8.3 in /usr/local/lib/python3.7/dist-packages (from jupyter-server~=1.16->jupyterlab->-r requirements.txt (line 3)) (0.13.3)\n",
            "Collecting nbconvert>=6.4.4\n",
            "  Downloading nbconvert-7.2.2-py3-none-any.whl (271 kB)\n",
            "\u001b[K     |████████████████████████████████| 271 kB 98.0 MB/s \n",
            "\u001b[?25hRequirement already satisfied: traitlets>=5.1 in /usr/local/lib/python3.7/dist-packages (from jupyter-server~=1.16->jupyterlab->-r requirements.txt (line 3)) (5.1.1)\n",
            "Requirement already satisfied: nbformat>=5.2.0 in /usr/local/lib/python3.7/dist-packages (from jupyter-server~=1.16->jupyterlab->-r requirements.txt (line 3)) (5.7.0)\n",
            "Requirement already satisfied: pyzmq>=17 in /usr/local/lib/python3.7/dist-packages (from jupyter-server~=1.16->jupyterlab->-r requirements.txt (line 3)) (23.2.1)\n",
            "Requirement already satisfied: prometheus-client in /usr/local/lib/python3.7/dist-packages (from jupyter-server~=1.16->jupyterlab->-r requirements.txt (line 3)) (0.13.1)\n",
            "Requirement already satisfied: Send2Trash in /usr/local/lib/python3.7/dist-packages (from jupyter-server~=1.16->jupyterlab->-r requirements.txt (line 3)) (1.8.0)\n",
            "Collecting argon2-cffi\n",
            "  Downloading argon2_cffi-21.3.0-py3-none-any.whl (14 kB)\n",
            "Collecting websocket-client\n",
            "  Downloading websocket_client-1.4.1-py3-none-any.whl (55 kB)\n",
            "\u001b[K     |████████████████████████████████| 55 kB 4.2 MB/s \n",
            "\u001b[?25hRequirement already satisfied: anyio<4,>=3.1.0 in /usr/local/lib/python3.7/dist-packages (from jupyter-server~=1.16->jupyterlab->-r requirements.txt (line 3)) (3.6.2)\n",
            "Requirement already satisfied: sniffio>=1.1 in /usr/local/lib/python3.7/dist-packages (from anyio<4,>=3.1.0->jupyter-server~=1.16->jupyterlab->-r requirements.txt (line 3)) (1.3.0)\n",
            "Requirement already satisfied: typing-extensions in /usr/local/lib/python3.7/dist-packages (from anyio<4,>=3.1.0->jupyter-server~=1.16->jupyterlab->-r requirements.txt (line 3)) (4.1.1)\n",
            "Requirement already satisfied: idna>=2.8 in /usr/local/lib/python3.7/dist-packages (from anyio<4,>=3.1.0->jupyter-server~=1.16->jupyterlab->-r requirements.txt (line 3)) (2.10)\n",
            "Requirement already satisfied: babel in /usr/local/lib/python3.7/dist-packages (from jupyterlab-server~=2.10->jupyterlab->-r requirements.txt (line 3)) (2.10.3)\n",
            "Requirement already satisfied: requests in /usr/local/lib/python3.7/dist-packages (from jupyterlab-server~=2.10->jupyterlab->-r requirements.txt (line 3)) (2.23.0)\n",
            "Requirement already satisfied: importlib-metadata>=4.8.3 in /usr/local/lib/python3.7/dist-packages (from jupyterlab-server~=2.10->jupyterlab->-r requirements.txt (line 3)) (4.13.0)\n",
            "Requirement already satisfied: jsonschema>=3.0.1 in /usr/local/lib/python3.7/dist-packages (from jupyterlab-server~=2.10->jupyterlab->-r requirements.txt (line 3)) (4.3.3)\n",
            "Collecting json5\n",
            "  Downloading json5-0.9.10-py2.py3-none-any.whl (19 kB)\n",
            "Requirement already satisfied: zipp>=0.5 in /usr/local/lib/python3.7/dist-packages (from importlib-metadata>=4.8.3->jupyterlab-server~=2.10->jupyterlab->-r requirements.txt (line 3)) (3.9.0)\n",
            "Requirement already satisfied: pyrsistent!=0.17.0,!=0.17.1,!=0.17.2,>=0.14.0 in /usr/local/lib/python3.7/dist-packages (from jsonschema>=3.0.1->jupyterlab-server~=2.10->jupyterlab->-r requirements.txt (line 3)) (0.18.1)\n",
            "Requirement already satisfied: attrs>=17.4.0 in /usr/local/lib/python3.7/dist-packages (from jsonschema>=3.0.1->jupyterlab-server~=2.10->jupyterlab->-r requirements.txt (line 3)) (22.1.0)\n",
            "Requirement already satisfied: importlib-resources>=1.4.0 in /usr/local/lib/python3.7/dist-packages (from jsonschema>=3.0.1->jupyterlab-server~=2.10->jupyterlab->-r requirements.txt (line 3)) (5.10.0)\n",
            "Requirement already satisfied: pygments>=2.4.1 in /usr/local/lib/python3.7/dist-packages (from nbconvert>=6.4.4->jupyter-server~=1.16->jupyterlab->-r requirements.txt (line 3)) (2.6.1)\n",
            "Collecting mistune<3,>=2.0.3\n",
            "  Downloading mistune-2.0.4-py2.py3-none-any.whl (24 kB)\n",
            "Requirement already satisfied: pandocfilters>=1.4.1 in /usr/local/lib/python3.7/dist-packages (from nbconvert>=6.4.4->jupyter-server~=1.16->jupyterlab->-r requirements.txt (line 3)) (1.5.0)\n",
            "Requirement already satisfied: defusedxml in /usr/local/lib/python3.7/dist-packages (from nbconvert>=6.4.4->jupyter-server~=1.16->jupyterlab->-r requirements.txt (line 3)) (0.7.1)\n",
            "Collecting tinycss2\n",
            "  Downloading tinycss2-1.2.1-py3-none-any.whl (21 kB)\n",
            "Collecting jupyterlab-pygments\n",
            "  Downloading jupyterlab_pygments-0.2.2-py2.py3-none-any.whl (21 kB)\n",
            "Collecting nbclient>=0.5.0\n",
            "  Downloading nbclient-0.7.0-py3-none-any.whl (71 kB)\n",
            "\u001b[K     |████████████████████████████████| 71 kB 234 kB/s \n",
            "\u001b[?25hRequirement already satisfied: bleach in /usr/local/lib/python3.7/dist-packages (from nbconvert>=6.4.4->jupyter-server~=1.16->jupyterlab->-r requirements.txt (line 3)) (5.0.1)\n",
            "Requirement already satisfied: beautifulsoup4 in /usr/local/lib/python3.7/dist-packages (from nbconvert>=6.4.4->jupyter-server~=1.16->jupyterlab->-r requirements.txt (line 3)) (4.6.3)\n",
            "Collecting nest-asyncio\n",
            "  Downloading nest_asyncio-1.5.6-py3-none-any.whl (5.2 kB)\n",
            "Collecting traitlets>=5.1\n",
            "  Downloading traitlets-5.5.0-py3-none-any.whl (107 kB)\n",
            "\u001b[K     |████████████████████████████████| 107 kB 76.7 MB/s \n",
            "\u001b[?25hRequirement already satisfied: fastjsonschema in /usr/local/lib/python3.7/dist-packages (from nbformat>=5.2.0->jupyter-server~=1.16->jupyterlab->-r requirements.txt (line 3)) (2.16.2)\n",
            "Requirement already satisfied: ipython-genutils in /usr/local/lib/python3.7/dist-packages (from notebook<7->jupyterlab->-r requirements.txt (line 3)) (0.2.0)\n",
            "Requirement already satisfied: ipykernel in /usr/local/lib/python3.7/dist-packages (from notebook<7->jupyterlab->-r requirements.txt (line 3)) (5.3.4)\n",
            "Requirement already satisfied: ptyprocess in /usr/local/lib/python3.7/dist-packages (from terminado>=0.8.3->jupyter-server~=1.16->jupyterlab->-r requirements.txt (line 3)) (0.7.0)\n",
            "Requirement already satisfied: kiwisolver>=1.0.1 in /usr/local/lib/python3.7/dist-packages (from matplotlib->-r requirements.txt (line 4)) (1.4.4)\n",
            "Requirement already satisfied: cycler>=0.10 in /usr/local/lib/python3.7/dist-packages (from matplotlib->-r requirements.txt (line 4)) (0.11.0)\n",
            "Requirement already satisfied: pyparsing!=2.0.4,!=2.1.2,!=2.1.6,>=2.0.1 in /usr/local/lib/python3.7/dist-packages (from matplotlib->-r requirements.txt (line 4)) (3.0.9)\n",
            "Requirement already satisfied: scipy>=1.0 in /usr/local/lib/python3.7/dist-packages (from seaborn->-r requirements.txt (line 5)) (1.7.3)\n",
            "Requirement already satisfied: protobuf<4.0.0,>=3.19.0 in /usr/local/lib/python3.7/dist-packages (from flwr->-r requirements.txt (line 8)) (3.20.3)\n",
            "Requirement already satisfied: iterators<0.0.3,>=0.0.2 in /usr/local/lib/python3.7/dist-packages (from flwr->-r requirements.txt (line 8)) (0.0.2)\n",
            "Requirement already satisfied: grpcio<2.0.0,>=1.43.0 in /usr/local/lib/python3.7/dist-packages (from flwr->-r requirements.txt (line 8)) (1.43.0)\n",
            "Collecting argon2-cffi-bindings\n",
            "  Downloading argon2_cffi_bindings-21.2.0-cp36-abi3-manylinux_2_17_x86_64.manylinux2014_x86_64.whl (86 kB)\n",
            "\u001b[K     |████████████████████████████████| 86 kB 5.6 MB/s \n",
            "\u001b[?25hRequirement already satisfied: cffi>=1.0.1 in /usr/local/lib/python3.7/dist-packages (from argon2-cffi-bindings->argon2-cffi->jupyter-server~=1.16->jupyterlab->-r requirements.txt (line 3)) (1.15.1)\n",
            "Requirement already satisfied: pycparser in /usr/local/lib/python3.7/dist-packages (from cffi>=1.0.1->argon2-cffi-bindings->argon2-cffi->jupyter-server~=1.16->jupyterlab->-r requirements.txt (line 3)) (2.21)\n",
            "Requirement already satisfied: webencodings in /usr/local/lib/python3.7/dist-packages (from bleach->nbconvert>=6.4.4->jupyter-server~=1.16->jupyterlab->-r requirements.txt (line 3)) (0.5.1)\n",
            "Requirement already satisfied: prompt-toolkit<2.1.0,>=2.0.0 in /usr/local/lib/python3.7/dist-packages (from ipython->jupyterlab->-r requirements.txt (line 3)) (2.0.10)\n",
            "Requirement already satisfied: decorator in /usr/local/lib/python3.7/dist-packages (from ipython->jupyterlab->-r requirements.txt (line 3)) (4.4.2)\n",
            "Collecting jedi>=0.10\n",
            "  Downloading jedi-0.18.1-py2.py3-none-any.whl (1.6 MB)\n",
            "\u001b[K     |████████████████████████████████| 1.6 MB 72.6 MB/s \n",
            "\u001b[?25hRequirement already satisfied: setuptools>=18.5 in /usr/local/lib/python3.7/dist-packages (from ipython->jupyterlab->-r requirements.txt (line 3)) (57.4.0)\n",
            "Requirement already satisfied: pickleshare in /usr/local/lib/python3.7/dist-packages (from ipython->jupyterlab->-r requirements.txt (line 3)) (0.7.5)\n",
            "Requirement already satisfied: backcall in /usr/local/lib/python3.7/dist-packages (from ipython->jupyterlab->-r requirements.txt (line 3)) (0.2.0)\n",
            "Requirement already satisfied: pexpect in /usr/local/lib/python3.7/dist-packages (from ipython->jupyterlab->-r requirements.txt (line 3)) (4.8.0)\n",
            "Requirement already satisfied: parso<0.9.0,>=0.8.0 in /usr/local/lib/python3.7/dist-packages (from jedi>=0.10->ipython->jupyterlab->-r requirements.txt (line 3)) (0.8.3)\n",
            "Requirement already satisfied: wcwidth in /usr/local/lib/python3.7/dist-packages (from prompt-toolkit<2.1.0,>=2.0.0->ipython->jupyterlab->-r requirements.txt (line 3)) (0.2.5)\n",
            "Collecting notebook-shim>=0.1.0\n",
            "  Downloading notebook_shim-0.2.0-py3-none-any.whl (13 kB)\n",
            "Requirement already satisfied: certifi>=2017.4.17 in /usr/local/lib/python3.7/dist-packages (from requests->jupyterlab-server~=2.10->jupyterlab->-r requirements.txt (line 3)) (2022.9.24)\n",
            "Collecting urllib3>=1.25.3\n",
            "  Downloading urllib3-1.25.11-py2.py3-none-any.whl (127 kB)\n",
            "\u001b[K     |████████████████████████████████| 127 kB 90.1 MB/s \n",
            "\u001b[?25hRequirement already satisfied: chardet<4,>=3.0.2 in /usr/local/lib/python3.7/dist-packages (from requests->jupyterlab-server~=2.10->jupyterlab->-r requirements.txt (line 3)) (3.0.4)\n",
            "Building wheels for collected packages: openapi-client\n",
            "  Building wheel for openapi-client (setup.py) ... \u001b[?25l\u001b[?25hdone\n",
            "  Created wheel for openapi-client: filename=openapi_client-1.0.0-py3-none-any.whl size=60250 sha256=3284a8180962d70053ebd1dcd5ab55812ebf50a52a74b1cf7e0119167a9e006a\n",
            "  Stored in directory: /tmp/pip-ephem-wheel-cache-rw9iuozx/wheels/bf/47/68/547e7c10907734e247c90be194331c6553f9494d5b7326709f\n",
            "Successfully built openapi-client\n",
            "Installing collected packages: traitlets, tornado, nest-asyncio, tinycss2, nbclient, mistune, jupyterlab-pygments, argon2-cffi-bindings, websocket-client, nbconvert, jedi, argon2-cffi, urllib3, jupyter-server, notebook-shim, json5, nbclassic, jupyterlab-server, openapi-client, jupyterlab\n",
            "  Attempting uninstall: traitlets\n",
            "    Found existing installation: traitlets 5.1.1\n",
            "    Uninstalling traitlets-5.1.1:\n",
            "      Successfully uninstalled traitlets-5.1.1\n",
            "  Attempting uninstall: tornado\n",
            "    Found existing installation: tornado 5.1.1\n",
            "    Uninstalling tornado-5.1.1:\n",
            "      Successfully uninstalled tornado-5.1.1\n",
            "  Attempting uninstall: mistune\n",
            "    Found existing installation: mistune 0.8.4\n",
            "    Uninstalling mistune-0.8.4:\n",
            "      Successfully uninstalled mistune-0.8.4\n",
            "  Attempting uninstall: nbconvert\n",
            "    Found existing installation: nbconvert 5.6.1\n",
            "    Uninstalling nbconvert-5.6.1:\n",
            "      Successfully uninstalled nbconvert-5.6.1\n",
            "  Attempting uninstall: urllib3\n",
            "    Found existing installation: urllib3 1.24.3\n",
            "    Uninstalling urllib3-1.24.3:\n",
            "      Successfully uninstalled urllib3-1.24.3\n",
            "\u001b[31mERROR: pip's dependency resolver does not currently take into account all the packages that are installed. This behaviour is the source of the following dependency conflicts.\n",
            "ray 1.13.0 requires click<=8.0.4,>=7.0, but you have click 8.1.3 which is incompatible.\n",
            "google-colab 1.0.0 requires tornado~=5.1.0, but you have tornado 6.2 which is incompatible.\u001b[0m\n",
            "Successfully installed argon2-cffi-21.3.0 argon2-cffi-bindings-21.2.0 jedi-0.18.1 json5-0.9.10 jupyter-server-1.21.0 jupyterlab-3.4.8 jupyterlab-pygments-0.2.2 jupyterlab-server-2.16.1 mistune-2.0.4 nbclassic-0.4.7 nbclient-0.7.0 nbconvert-7.2.2 nest-asyncio-1.5.6 notebook-shim-0.2.0 openapi-client-1.0.0 tinycss2-1.2.1 tornado-6.2 traitlets-5.5.0 urllib3-1.25.11 websocket-client-1.4.1\n"
          ]
        },
        {
          "output_type": "display_data",
          "data": {
            "application/vnd.colab-display-data+json": {
              "pip_warning": {
                "packages": [
                  "openapi_client",
                  "tornado",
                  "urllib3"
                ]
              }
            }
          },
          "metadata": {}
        }
      ]
    },
    {
      "cell_type": "code",
      "source": [
        "%cd carbonhack22"
      ],
      "metadata": {
        "colab": {
          "base_uri": "https://localhost:8080/"
        },
        "id": "kGX8Wx-xL0D_",
        "outputId": "38484967-5c22-40ba-b563-20827d0aa185"
      },
      "execution_count": 3,
      "outputs": [
        {
          "output_type": "stream",
          "name": "stdout",
          "text": [
            "/content/carbonhack22\n"
          ]
        }
      ]
    },
    {
      "cell_type": "markdown",
      "metadata": {
        "id": "vHtLCCz2NWC3"
      },
      "source": [
        "## Check GPU availability"
      ]
    },
    {
      "cell_type": "code",
      "execution_count": 4,
      "metadata": {
        "colab": {
          "base_uri": "https://localhost:8080/"
        },
        "id": "4mKwZQyyLwUv",
        "outputId": "3c2b705c-1a1d-4f29-ada7-9361a78f29b4"
      },
      "outputs": [
        {
          "output_type": "stream",
          "name": "stdout",
          "text": [
            "Sun Oct 23 00:26:54 2022       \n",
            "+-----------------------------------------------------------------------------+\n",
            "| NVIDIA-SMI 460.32.03    Driver Version: 460.32.03    CUDA Version: 11.2     |\n",
            "|-------------------------------+----------------------+----------------------+\n",
            "| GPU  Name        Persistence-M| Bus-Id        Disp.A | Volatile Uncorr. ECC |\n",
            "| Fan  Temp  Perf  Pwr:Usage/Cap|         Memory-Usage | GPU-Util  Compute M. |\n",
            "|                               |                      |               MIG M. |\n",
            "|===============================+======================+======================|\n",
            "|   0  Tesla T4            Off  | 00000000:00:04.0 Off |                    0 |\n",
            "| N/A   35C    P8     9W /  70W |      0MiB / 15109MiB |      0%      Default |\n",
            "|                               |                      |                  N/A |\n",
            "+-------------------------------+----------------------+----------------------+\n",
            "                                                                               \n",
            "+-----------------------------------------------------------------------------+\n",
            "| Processes:                                                                  |\n",
            "|  GPU   GI   CI        PID   Type   Process name                  GPU Memory |\n",
            "|        ID   ID                                                   Usage      |\n",
            "|=============================================================================|\n",
            "|  No running processes found                                                 |\n",
            "+-----------------------------------------------------------------------------+\n"
          ]
        }
      ],
      "source": [
        "gpu_info = !nvidia-smi\n",
        "gpu_info = '\\n'.join(gpu_info)\n",
        "if gpu_info.find('failed') >= 0:\n",
        "  print('Not connected to a GPU')\n",
        "else:\n",
        "  print(gpu_info)"
      ]
    },
    {
      "cell_type": "markdown",
      "metadata": {
        "id": "mtoyp-b2NYIe"
      },
      "source": [
        "## Create dirs, get data "
      ]
    },
    {
      "cell_type": "code",
      "execution_count": 5,
      "metadata": {
        "id": "7fODONtR3CgP"
      },
      "outputs": [],
      "source": [
        "# !mkdir NIH\n",
        "# !mkdir /root/.kaggle/"
      ]
    },
    {
      "cell_type": "markdown",
      "metadata": {
        "id": "NmJd_Jb62xQt"
      },
      "source": [
        "### Copy Kaggle API-key to created directory at '/root/.kaggle'"
      ]
    },
    {
      "cell_type": "code",
      "execution_count": 6,
      "metadata": {
        "id": "vgDZ9Zbqmn9E"
      },
      "outputs": [],
      "source": [
        "# !cp '/content/drive/MyDrive/professional/Research_Jobs/UMI/projects/APIs/kaggle.json' '/root/.kaggle'"
      ]
    },
    {
      "cell_type": "code",
      "execution_count": 7,
      "metadata": {
        "id": "ZWLdG0c35F5v"
      },
      "outputs": [],
      "source": [
        "# !kaggle datasets download -d nih-chest-xrays/data"
      ]
    },
    {
      "cell_type": "code",
      "execution_count": 8,
      "metadata": {
        "id": "Q9vB9RBo3GWB"
      },
      "outputs": [],
      "source": [
        "# !unzip -q '/content/data.zip' -d '/content/NIH/'"
      ]
    },
    {
      "cell_type": "markdown",
      "metadata": {
        "id": "8CowQiKO63e8"
      },
      "source": [
        "## Install packages"
      ]
    },
    {
      "cell_type": "code",
      "execution_count": 9,
      "metadata": {
        "colab": {
          "base_uri": "https://localhost:8080/"
        },
        "id": "lHXOfCIZ6vey",
        "outputId": "84aaea0c-609c-4c91-fca8-03e1ef6687c4"
      },
      "outputs": [
        {
          "output_type": "stream",
          "name": "stdout",
          "text": [
            "Looking in indexes: https://pypi.org/simple, https://us-python.pkg.dev/colab-wheels/public/simple/\n",
            "Requirement already satisfied: flwr[simulation] in /usr/local/lib/python3.7/dist-packages (1.0.0)\n",
            "Requirement already satisfied: importlib-metadata<5.0.0,>=4.0.0 in /usr/local/lib/python3.7/dist-packages (from flwr[simulation]) (4.13.0)\n",
            "Requirement already satisfied: iterators<0.0.3,>=0.0.2 in /usr/local/lib/python3.7/dist-packages (from flwr[simulation]) (0.0.2)\n",
            "Requirement already satisfied: grpcio<2.0.0,>=1.43.0 in /usr/local/lib/python3.7/dist-packages (from flwr[simulation]) (1.43.0)\n",
            "Requirement already satisfied: protobuf<4.0.0,>=3.19.0 in /usr/local/lib/python3.7/dist-packages (from flwr[simulation]) (3.20.3)\n",
            "Requirement already satisfied: numpy<2.0.0,>=1.21.0 in /usr/local/lib/python3.7/dist-packages (from flwr[simulation]) (1.21.6)\n",
            "Requirement already satisfied: ray[default]<1.14.0,>=1.13.0 in /usr/local/lib/python3.7/dist-packages (from flwr[simulation]) (1.13.0)\n",
            "Requirement already satisfied: six>=1.5.2 in /usr/local/lib/python3.7/dist-packages (from grpcio<2.0.0,>=1.43.0->flwr[simulation]) (1.15.0)\n",
            "Requirement already satisfied: typing-extensions>=3.6.4 in /usr/local/lib/python3.7/dist-packages (from importlib-metadata<5.0.0,>=4.0.0->flwr[simulation]) (4.1.1)\n",
            "Requirement already satisfied: zipp>=0.5 in /usr/local/lib/python3.7/dist-packages (from importlib-metadata<5.0.0,>=4.0.0->flwr[simulation]) (3.9.0)\n",
            "Requirement already satisfied: aiosignal in /usr/local/lib/python3.7/dist-packages (from ray[default]<1.14.0,>=1.13.0->flwr[simulation]) (1.2.0)\n",
            "Requirement already satisfied: jsonschema in /usr/local/lib/python3.7/dist-packages (from ray[default]<1.14.0,>=1.13.0->flwr[simulation]) (4.3.3)\n",
            "Requirement already satisfied: requests in /usr/local/lib/python3.7/dist-packages (from ray[default]<1.14.0,>=1.13.0->flwr[simulation]) (2.23.0)\n",
            "Requirement already satisfied: virtualenv in /usr/local/lib/python3.7/dist-packages (from ray[default]<1.14.0,>=1.13.0->flwr[simulation]) (20.16.5)\n",
            "Requirement already satisfied: frozenlist in /usr/local/lib/python3.7/dist-packages (from ray[default]<1.14.0,>=1.13.0->flwr[simulation]) (1.3.1)\n",
            "Collecting click<=8.0.4,>=7.0\n",
            "  Downloading click-8.0.4-py3-none-any.whl (97 kB)\n",
            "\u001b[K     |████████████████████████████████| 97 kB 6.6 MB/s \n",
            "\u001b[?25hRequirement already satisfied: attrs in /usr/local/lib/python3.7/dist-packages (from ray[default]<1.14.0,>=1.13.0->flwr[simulation]) (22.1.0)\n",
            "Requirement already satisfied: msgpack<2.0.0,>=1.0.0 in /usr/local/lib/python3.7/dist-packages (from ray[default]<1.14.0,>=1.13.0->flwr[simulation]) (1.0.4)\n",
            "Requirement already satisfied: filelock in /usr/local/lib/python3.7/dist-packages (from ray[default]<1.14.0,>=1.13.0->flwr[simulation]) (3.8.0)\n",
            "Requirement already satisfied: pyyaml in /usr/local/lib/python3.7/dist-packages (from ray[default]<1.14.0,>=1.13.0->flwr[simulation]) (6.0)\n",
            "Requirement already satisfied: aiohttp-cors in /usr/local/lib/python3.7/dist-packages (from ray[default]<1.14.0,>=1.13.0->flwr[simulation]) (0.7.0)\n",
            "Requirement already satisfied: opencensus in /usr/local/lib/python3.7/dist-packages (from ray[default]<1.14.0,>=1.13.0->flwr[simulation]) (0.11.0)\n",
            "Requirement already satisfied: py-spy>=0.2.0 in /usr/local/lib/python3.7/dist-packages (from ray[default]<1.14.0,>=1.13.0->flwr[simulation]) (0.3.14)\n",
            "Requirement already satisfied: smart-open in /usr/local/lib/python3.7/dist-packages (from ray[default]<1.14.0,>=1.13.0->flwr[simulation]) (5.2.1)\n",
            "Requirement already satisfied: colorful in /usr/local/lib/python3.7/dist-packages (from ray[default]<1.14.0,>=1.13.0->flwr[simulation]) (0.5.4)\n",
            "Requirement already satisfied: gpustat>=1.0.0b1 in /usr/local/lib/python3.7/dist-packages (from ray[default]<1.14.0,>=1.13.0->flwr[simulation]) (1.0.0)\n",
            "Requirement already satisfied: prometheus-client<0.14.0,>=0.7.1 in /usr/local/lib/python3.7/dist-packages (from ray[default]<1.14.0,>=1.13.0->flwr[simulation]) (0.13.1)\n",
            "Requirement already satisfied: aiohttp>=3.7 in /usr/local/lib/python3.7/dist-packages (from ray[default]<1.14.0,>=1.13.0->flwr[simulation]) (3.8.3)\n",
            "Requirement already satisfied: asynctest==0.13.0 in /usr/local/lib/python3.7/dist-packages (from aiohttp>=3.7->ray[default]<1.14.0,>=1.13.0->flwr[simulation]) (0.13.0)\n",
            "Requirement already satisfied: multidict<7.0,>=4.5 in /usr/local/lib/python3.7/dist-packages (from aiohttp>=3.7->ray[default]<1.14.0,>=1.13.0->flwr[simulation]) (6.0.2)\n",
            "Requirement already satisfied: charset-normalizer<3.0,>=2.0 in /usr/local/lib/python3.7/dist-packages (from aiohttp>=3.7->ray[default]<1.14.0,>=1.13.0->flwr[simulation]) (2.1.1)\n",
            "Requirement already satisfied: async-timeout<5.0,>=4.0.0a3 in /usr/local/lib/python3.7/dist-packages (from aiohttp>=3.7->ray[default]<1.14.0,>=1.13.0->flwr[simulation]) (4.0.2)\n",
            "Requirement already satisfied: yarl<2.0,>=1.0 in /usr/local/lib/python3.7/dist-packages (from aiohttp>=3.7->ray[default]<1.14.0,>=1.13.0->flwr[simulation]) (1.8.1)\n",
            "Requirement already satisfied: psutil>=5.6.0 in /usr/local/lib/python3.7/dist-packages (from gpustat>=1.0.0b1->ray[default]<1.14.0,>=1.13.0->flwr[simulation]) (5.9.3)\n",
            "Requirement already satisfied: nvidia-ml-py<=11.495.46,>=11.450.129 in /usr/local/lib/python3.7/dist-packages (from gpustat>=1.0.0b1->ray[default]<1.14.0,>=1.13.0->flwr[simulation]) (11.495.46)\n",
            "Requirement already satisfied: blessed>=1.17.1 in /usr/local/lib/python3.7/dist-packages (from gpustat>=1.0.0b1->ray[default]<1.14.0,>=1.13.0->flwr[simulation]) (1.19.1)\n",
            "Requirement already satisfied: wcwidth>=0.1.4 in /usr/local/lib/python3.7/dist-packages (from blessed>=1.17.1->gpustat>=1.0.0b1->ray[default]<1.14.0,>=1.13.0->flwr[simulation]) (0.2.5)\n",
            "Requirement already satisfied: idna>=2.0 in /usr/local/lib/python3.7/dist-packages (from yarl<2.0,>=1.0->aiohttp>=3.7->ray[default]<1.14.0,>=1.13.0->flwr[simulation]) (2.10)\n",
            "Requirement already satisfied: pyrsistent!=0.17.0,!=0.17.1,!=0.17.2,>=0.14.0 in /usr/local/lib/python3.7/dist-packages (from jsonschema->ray[default]<1.14.0,>=1.13.0->flwr[simulation]) (0.18.1)\n",
            "Requirement already satisfied: importlib-resources>=1.4.0 in /usr/local/lib/python3.7/dist-packages (from jsonschema->ray[default]<1.14.0,>=1.13.0->flwr[simulation]) (5.10.0)\n",
            "Requirement already satisfied: opencensus-context>=0.1.3 in /usr/local/lib/python3.7/dist-packages (from opencensus->ray[default]<1.14.0,>=1.13.0->flwr[simulation]) (0.1.3)\n",
            "Requirement already satisfied: google-api-core<3.0.0,>=1.0.0 in /usr/local/lib/python3.7/dist-packages (from opencensus->ray[default]<1.14.0,>=1.13.0->flwr[simulation]) (1.31.6)\n",
            "Requirement already satisfied: pytz in /usr/local/lib/python3.7/dist-packages (from google-api-core<3.0.0,>=1.0.0->opencensus->ray[default]<1.14.0,>=1.13.0->flwr[simulation]) (2022.4)\n",
            "Requirement already satisfied: packaging>=14.3 in /usr/local/lib/python3.7/dist-packages (from google-api-core<3.0.0,>=1.0.0->opencensus->ray[default]<1.14.0,>=1.13.0->flwr[simulation]) (21.3)\n",
            "Requirement already satisfied: setuptools>=40.3.0 in /usr/local/lib/python3.7/dist-packages (from google-api-core<3.0.0,>=1.0.0->opencensus->ray[default]<1.14.0,>=1.13.0->flwr[simulation]) (57.4.0)\n",
            "Requirement already satisfied: googleapis-common-protos<2.0dev,>=1.6.0 in /usr/local/lib/python3.7/dist-packages (from google-api-core<3.0.0,>=1.0.0->opencensus->ray[default]<1.14.0,>=1.13.0->flwr[simulation]) (1.56.4)\n",
            "Requirement already satisfied: google-auth<2.0dev,>=1.25.0 in /usr/local/lib/python3.7/dist-packages (from google-api-core<3.0.0,>=1.0.0->opencensus->ray[default]<1.14.0,>=1.13.0->flwr[simulation]) (1.35.0)\n",
            "Requirement already satisfied: rsa<5,>=3.1.4 in /usr/local/lib/python3.7/dist-packages (from google-auth<2.0dev,>=1.25.0->google-api-core<3.0.0,>=1.0.0->opencensus->ray[default]<1.14.0,>=1.13.0->flwr[simulation]) (4.9)\n",
            "Requirement already satisfied: pyasn1-modules>=0.2.1 in /usr/local/lib/python3.7/dist-packages (from google-auth<2.0dev,>=1.25.0->google-api-core<3.0.0,>=1.0.0->opencensus->ray[default]<1.14.0,>=1.13.0->flwr[simulation]) (0.2.8)\n",
            "Requirement already satisfied: cachetools<5.0,>=2.0.0 in /usr/local/lib/python3.7/dist-packages (from google-auth<2.0dev,>=1.25.0->google-api-core<3.0.0,>=1.0.0->opencensus->ray[default]<1.14.0,>=1.13.0->flwr[simulation]) (4.2.4)\n",
            "Requirement already satisfied: pyparsing!=3.0.5,>=2.0.2 in /usr/local/lib/python3.7/dist-packages (from packaging>=14.3->google-api-core<3.0.0,>=1.0.0->opencensus->ray[default]<1.14.0,>=1.13.0->flwr[simulation]) (3.0.9)\n",
            "Requirement already satisfied: pyasn1<0.5.0,>=0.4.6 in /usr/local/lib/python3.7/dist-packages (from pyasn1-modules>=0.2.1->google-auth<2.0dev,>=1.25.0->google-api-core<3.0.0,>=1.0.0->opencensus->ray[default]<1.14.0,>=1.13.0->flwr[simulation]) (0.4.8)\n",
            "Requirement already satisfied: certifi>=2017.4.17 in /usr/local/lib/python3.7/dist-packages (from requests->ray[default]<1.14.0,>=1.13.0->flwr[simulation]) (2022.9.24)\n",
            "Requirement already satisfied: urllib3!=1.25.0,!=1.25.1,<1.26,>=1.21.1 in /usr/local/lib/python3.7/dist-packages (from requests->ray[default]<1.14.0,>=1.13.0->flwr[simulation]) (1.25.11)\n",
            "Requirement already satisfied: chardet<4,>=3.0.2 in /usr/local/lib/python3.7/dist-packages (from requests->ray[default]<1.14.0,>=1.13.0->flwr[simulation]) (3.0.4)\n",
            "Requirement already satisfied: platformdirs<3,>=2.4 in /usr/local/lib/python3.7/dist-packages (from virtualenv->ray[default]<1.14.0,>=1.13.0->flwr[simulation]) (2.5.2)\n",
            "Requirement already satisfied: distlib<1,>=0.3.5 in /usr/local/lib/python3.7/dist-packages (from virtualenv->ray[default]<1.14.0,>=1.13.0->flwr[simulation]) (0.3.6)\n",
            "Installing collected packages: click\n",
            "  Attempting uninstall: click\n",
            "    Found existing installation: click 8.1.3\n",
            "    Uninstalling click-8.1.3:\n",
            "      Successfully uninstalled click-8.1.3\n",
            "\u001b[31mERROR: pip's dependency resolver does not currently take into account all the packages that are installed. This behaviour is the source of the following dependency conflicts.\n",
            "spacy 3.4.1 requires typer<0.5.0,>=0.3.0, but you have typer 0.6.1 which is incompatible.\n",
            "flask 1.1.4 requires click<8.0,>=5.1, but you have click 8.0.4 which is incompatible.\n",
            "flask 1.1.4 requires Jinja2<3.0,>=2.10.1, but you have jinja2 3.1.2 which is incompatible.\u001b[0m\n",
            "Successfully installed click-8.0.4\n"
          ]
        }
      ],
      "source": [
        "!pip install flwr[simulation]"
      ]
    },
    {
      "cell_type": "markdown",
      "metadata": {
        "id": "grNc2GELvjD3"
      },
      "source": [
        "## Imports"
      ]
    },
    {
      "cell_type": "code",
      "execution_count": 10,
      "metadata": {
        "colab": {
          "base_uri": "https://localhost:8080/"
        },
        "id": "RHQ-3tCTvlPv",
        "outputId": "6bc9ccb2-0c25-49d0-eedf-e3dc74ef776c"
      },
      "outputs": [
        {
          "output_type": "stream",
          "name": "stdout",
          "text": [
            "Training on cuda:0\n"
          ]
        }
      ],
      "source": [
        "import os\n",
        "import sys\n",
        "import math\n",
        "import time\n",
        "from glob import glob\n",
        "from PIL import Image\n",
        "from collections import OrderedDict\n",
        "from typing import Dict, List, Optional, Tuple\n",
        "\n",
        "import flwr as fl\n",
        "import numpy as np\n",
        "import pandas as pd\n",
        "import matplotlib.pyplot as plt\n",
        "from sklearn.model_selection import train_test_split\n",
        "\n",
        "import torch\n",
        "import torch.nn as nnqunt\n",
        "import torch.nn.functional as F\n",
        "from torch.utils.data import Dataset, DataLoader, random_split\n",
        "\n",
        "from torchvision.utils import make_grid\n",
        "from torchvision.datasets import CIFAR10\n",
        "from torchvision import transforms as T, models\n",
        "\n",
        "DEVICE = torch.device(\"cuda:0\" if torch.cuda.is_available() else \"cpu\")\n",
        "print(f\"Training on {DEVICE}\")"
      ]
    },
    {
      "cell_type": "markdown",
      "metadata": {
        "id": "G5XXXYdm6ic5"
      },
      "source": [
        "## Data"
      ]
    },
    {
      "cell_type": "markdown",
      "metadata": {
        "id": "45ozbtM24s2k"
      },
      "source": [
        "### Preprocess"
      ]
    },
    {
      "cell_type": "code",
      "execution_count": 11,
      "metadata": {
        "id": "Yz34zjmYPihV"
      },
      "outputs": [],
      "source": [
        "root_img_dir = '/content/NIH/'"
      ]
    },
    {
      "cell_type": "code",
      "execution_count": 12,
      "metadata": {
        "colab": {
          "base_uri": "https://localhost:8080/",
          "height": 243
        },
        "id": "OPOdXKySPN2-",
        "outputId": "eb126123-4345-4012-d577-a3d2925d996f"
      },
      "outputs": [
        {
          "output_type": "stream",
          "name": "stdout",
          "text": [
            "Scans found: 112120 , Total Headers 112120\n"
          ]
        },
        {
          "output_type": "execute_result",
          "data": {
            "text/plain": [
              "            Image Index                                Finding Labels  \\\n",
              "72310  00017814_004.png                                    No Finding   \n",
              "43500  00011226_020.png  Atelectasis|Consolidation|Pleural_Thickening   \n",
              "45427  00011648_000.png                                    No Finding   \n",
              "\n",
              "       Follow-up #  Patient ID  Patient Age Patient Gender View Position  \\\n",
              "72310            4       17814           65              M            PA   \n",
              "43500           20       11226           45              F            AP   \n",
              "45427            0       11648           38              M            PA   \n",
              "\n",
              "       OriginalImage[Width  Height]  OriginalImagePixelSpacing[x     y]  \\\n",
              "72310                 3056     2504                        0.139  0.139   \n",
              "43500                 2500     2048                        0.168  0.168   \n",
              "45427                 2992     2991                        0.143  0.143   \n",
              "\n",
              "       Unnamed: 11                                             path  \n",
              "72310          NaN  /content/NIH/images_008/images/00017814_004.png  \n",
              "43500          NaN  /content/NIH/images_005/images/00011226_020.png  \n",
              "45427          NaN  /content/NIH/images_006/images/00011648_000.png  "
            ],
            "text/html": [
              "\n",
              "  <div id=\"df-361e5894-4b3a-4091-a862-ee66fbcfb64c\">\n",
              "    <div class=\"colab-df-container\">\n",
              "      <div>\n",
              "<style scoped>\n",
              "    .dataframe tbody tr th:only-of-type {\n",
              "        vertical-align: middle;\n",
              "    }\n",
              "\n",
              "    .dataframe tbody tr th {\n",
              "        vertical-align: top;\n",
              "    }\n",
              "\n",
              "    .dataframe thead th {\n",
              "        text-align: right;\n",
              "    }\n",
              "</style>\n",
              "<table border=\"1\" class=\"dataframe\">\n",
              "  <thead>\n",
              "    <tr style=\"text-align: right;\">\n",
              "      <th></th>\n",
              "      <th>Image Index</th>\n",
              "      <th>Finding Labels</th>\n",
              "      <th>Follow-up #</th>\n",
              "      <th>Patient ID</th>\n",
              "      <th>Patient Age</th>\n",
              "      <th>Patient Gender</th>\n",
              "      <th>View Position</th>\n",
              "      <th>OriginalImage[Width</th>\n",
              "      <th>Height]</th>\n",
              "      <th>OriginalImagePixelSpacing[x</th>\n",
              "      <th>y]</th>\n",
              "      <th>Unnamed: 11</th>\n",
              "      <th>path</th>\n",
              "    </tr>\n",
              "  </thead>\n",
              "  <tbody>\n",
              "    <tr>\n",
              "      <th>72310</th>\n",
              "      <td>00017814_004.png</td>\n",
              "      <td>No Finding</td>\n",
              "      <td>4</td>\n",
              "      <td>17814</td>\n",
              "      <td>65</td>\n",
              "      <td>M</td>\n",
              "      <td>PA</td>\n",
              "      <td>3056</td>\n",
              "      <td>2504</td>\n",
              "      <td>0.139</td>\n",
              "      <td>0.139</td>\n",
              "      <td>NaN</td>\n",
              "      <td>/content/NIH/images_008/images/00017814_004.png</td>\n",
              "    </tr>\n",
              "    <tr>\n",
              "      <th>43500</th>\n",
              "      <td>00011226_020.png</td>\n",
              "      <td>Atelectasis|Consolidation|Pleural_Thickening</td>\n",
              "      <td>20</td>\n",
              "      <td>11226</td>\n",
              "      <td>45</td>\n",
              "      <td>F</td>\n",
              "      <td>AP</td>\n",
              "      <td>2500</td>\n",
              "      <td>2048</td>\n",
              "      <td>0.168</td>\n",
              "      <td>0.168</td>\n",
              "      <td>NaN</td>\n",
              "      <td>/content/NIH/images_005/images/00011226_020.png</td>\n",
              "    </tr>\n",
              "    <tr>\n",
              "      <th>45427</th>\n",
              "      <td>00011648_000.png</td>\n",
              "      <td>No Finding</td>\n",
              "      <td>0</td>\n",
              "      <td>11648</td>\n",
              "      <td>38</td>\n",
              "      <td>M</td>\n",
              "      <td>PA</td>\n",
              "      <td>2992</td>\n",
              "      <td>2991</td>\n",
              "      <td>0.143</td>\n",
              "      <td>0.143</td>\n",
              "      <td>NaN</td>\n",
              "      <td>/content/NIH/images_006/images/00011648_000.png</td>\n",
              "    </tr>\n",
              "  </tbody>\n",
              "</table>\n",
              "</div>\n",
              "      <button class=\"colab-df-convert\" onclick=\"convertToInteractive('df-361e5894-4b3a-4091-a862-ee66fbcfb64c')\"\n",
              "              title=\"Convert this dataframe to an interactive table.\"\n",
              "              style=\"display:none;\">\n",
              "        \n",
              "  <svg xmlns=\"http://www.w3.org/2000/svg\" height=\"24px\"viewBox=\"0 0 24 24\"\n",
              "       width=\"24px\">\n",
              "    <path d=\"M0 0h24v24H0V0z\" fill=\"none\"/>\n",
              "    <path d=\"M18.56 5.44l.94 2.06.94-2.06 2.06-.94-2.06-.94-.94-2.06-.94 2.06-2.06.94zm-11 1L8.5 8.5l.94-2.06 2.06-.94-2.06-.94L8.5 2.5l-.94 2.06-2.06.94zm10 10l.94 2.06.94-2.06 2.06-.94-2.06-.94-.94-2.06-.94 2.06-2.06.94z\"/><path d=\"M17.41 7.96l-1.37-1.37c-.4-.4-.92-.59-1.43-.59-.52 0-1.04.2-1.43.59L10.3 9.45l-7.72 7.72c-.78.78-.78 2.05 0 2.83L4 21.41c.39.39.9.59 1.41.59.51 0 1.02-.2 1.41-.59l7.78-7.78 2.81-2.81c.8-.78.8-2.07 0-2.86zM5.41 20L4 18.59l7.72-7.72 1.47 1.35L5.41 20z\"/>\n",
              "  </svg>\n",
              "      </button>\n",
              "      \n",
              "  <style>\n",
              "    .colab-df-container {\n",
              "      display:flex;\n",
              "      flex-wrap:wrap;\n",
              "      gap: 12px;\n",
              "    }\n",
              "\n",
              "    .colab-df-convert {\n",
              "      background-color: #E8F0FE;\n",
              "      border: none;\n",
              "      border-radius: 50%;\n",
              "      cursor: pointer;\n",
              "      display: none;\n",
              "      fill: #1967D2;\n",
              "      height: 32px;\n",
              "      padding: 0 0 0 0;\n",
              "      width: 32px;\n",
              "    }\n",
              "\n",
              "    .colab-df-convert:hover {\n",
              "      background-color: #E2EBFA;\n",
              "      box-shadow: 0px 1px 2px rgba(60, 64, 67, 0.3), 0px 1px 3px 1px rgba(60, 64, 67, 0.15);\n",
              "      fill: #174EA6;\n",
              "    }\n",
              "\n",
              "    [theme=dark] .colab-df-convert {\n",
              "      background-color: #3B4455;\n",
              "      fill: #D2E3FC;\n",
              "    }\n",
              "\n",
              "    [theme=dark] .colab-df-convert:hover {\n",
              "      background-color: #434B5C;\n",
              "      box-shadow: 0px 1px 3px 1px rgba(0, 0, 0, 0.15);\n",
              "      filter: drop-shadow(0px 1px 2px rgba(0, 0, 0, 0.3));\n",
              "      fill: #FFFFFF;\n",
              "    }\n",
              "  </style>\n",
              "\n",
              "      <script>\n",
              "        const buttonEl =\n",
              "          document.querySelector('#df-361e5894-4b3a-4091-a862-ee66fbcfb64c button.colab-df-convert');\n",
              "        buttonEl.style.display =\n",
              "          google.colab.kernel.accessAllowed ? 'block' : 'none';\n",
              "\n",
              "        async function convertToInteractive(key) {\n",
              "          const element = document.querySelector('#df-361e5894-4b3a-4091-a862-ee66fbcfb64c');\n",
              "          const dataTable =\n",
              "            await google.colab.kernel.invokeFunction('convertToInteractive',\n",
              "                                                     [key], {});\n",
              "          if (!dataTable) return;\n",
              "\n",
              "          const docLinkHtml = 'Like what you see? Visit the ' +\n",
              "            '<a target=\"_blank\" href=https://colab.research.google.com/notebooks/data_table.ipynb>data table notebook</a>'\n",
              "            + ' to learn more about interactive tables.';\n",
              "          element.innerHTML = '';\n",
              "          dataTable['output_type'] = 'display_data';\n",
              "          await google.colab.output.renderOutput(dataTable, element);\n",
              "          const docLink = document.createElement('div');\n",
              "          docLink.innerHTML = docLinkHtml;\n",
              "          element.appendChild(docLink);\n",
              "        }\n",
              "      </script>\n",
              "    </div>\n",
              "  </div>\n",
              "  "
            ]
          },
          "metadata": {},
          "execution_count": 12
        }
      ],
      "source": [
        "all_xray_df = pd.read_csv(\n",
        "    os.path.join(\n",
        "        root_img_dir,\n",
        "        'Data_Entry_2017.csv'\n",
        "        )\n",
        "    )\n",
        "\n",
        "all_image_paths = {\n",
        "    os.path.basename(x): x for x in \n",
        "    glob(os.path.join(root_img_dir, 'images*', '*', '*.png'))\n",
        "    }\n",
        "\n",
        "print('Scans found:', len(all_image_paths), ', Total Headers', all_xray_df.shape[0])\n",
        "all_xray_df['path'] = all_xray_df['Image Index'].map(all_image_paths.get)\n",
        "# all_xray_df['Patient Age'] = all_xray_df['Patient Age'].map(lambda x: int(x[:-1]))\n",
        "\n",
        "all_xray_df.sample(3)"
      ]
    },
    {
      "cell_type": "code",
      "execution_count": 13,
      "metadata": {
        "colab": {
          "base_uri": "https://localhost:8080/",
          "height": 583
        },
        "id": "w6zolca4PN5x",
        "outputId": "fcd8fabd-61e6-45ed-f499-b9e52a642e0e"
      },
      "outputs": [
        {
          "output_type": "display_data",
          "data": {
            "text/plain": [
              "<Figure size 864x576 with 1 Axes>"
            ],
            "image/png": "[encoded data removed]"
          },
          "metadata": {
            "needs_background": "light"
          }
        }
      ],
      "source": [
        "label_counts = all_xray_df['Finding Labels'].value_counts()[:15]\n",
        "fig, ax1 = plt.subplots(1,1,figsize = (12, 8))\n",
        "ax1.bar(np.arange(len(label_counts))+0.5, label_counts)\n",
        "ax1.set_xticks(np.arange(len(label_counts))+0.5)\n",
        "_ = ax1.set_xticklabels(label_counts.index, rotation = 90)"
      ]
    },
    {
      "cell_type": "code",
      "execution_count": 14,
      "metadata": {
        "colab": {
          "base_uri": "https://localhost:8080/",
          "height": 273
        },
        "id": "us8ftKY8PN8b",
        "outputId": "1e5a07b6-ac9b-4cec-b566-41ebc7baf75c"
      },
      "outputs": [
        {
          "output_type": "stream",
          "name": "stdout",
          "text": [
            "All Labels (14): ['Atelectasis', 'Cardiomegaly', 'Consolidation', 'Edema', 'Effusion', 'Emphysema', 'Fibrosis', 'Hernia', 'Infiltration', 'Mass', 'Nodule', 'Pleural_Thickening', 'Pneumonia', 'Pneumothorax']\n"
          ]
        },
        {
          "output_type": "execute_result",
          "data": {
            "text/plain": [
              "            Image Index Finding Labels  Follow-up #  Patient ID  Patient Age  \\\n",
              "53410  00013490_001.png         Nodule            1       13490           43   \n",
              "93480  00023409_000.png                           0       23409           22   \n",
              "97476  00025721_000.png   Infiltration            0       25721           53   \n",
              "\n",
              "      Patient Gender View Position  OriginalImage[Width  Height]  \\\n",
              "53410              F            PA                 2992     2991   \n",
              "93480              F            PA                 2048     2500   \n",
              "97476              M            PA                 3056     2544   \n",
              "\n",
              "       OriginalImagePixelSpacing[x  ...  Effusion  Emphysema Fibrosis  Hernia  \\\n",
              "53410                        0.143  ...       0.0        0.0      0.0     0.0   \n",
              "93480                        0.168  ...       0.0        0.0      0.0     0.0   \n",
              "97476                        0.139  ...       0.0        0.0      0.0     0.0   \n",
              "\n",
              "       Infiltration  Mass  Nodule  Pleural_Thickening  Pneumonia  Pneumothorax  \n",
              "53410           0.0   0.0     1.0                 0.0        0.0           0.0  \n",
              "93480           0.0   0.0     0.0                 0.0        0.0           0.0  \n",
              "97476           1.0   0.0     0.0                 0.0        0.0           0.0  \n",
              "\n",
              "[3 rows x 27 columns]"
            ],
            "text/html": [
              "\n",
              "  <div id=\"df-5a66f8fb-0a25-416c-939b-7c3bbeb74fdc\">\n",
              "    <div class=\"colab-df-container\">\n",
              "      <div>\n",
              "<style scoped>\n",
              "    .dataframe tbody tr th:only-of-type {\n",
              "        vertical-align: middle;\n",
              "    }\n",
              "\n",
              "    .dataframe tbody tr th {\n",
              "        vertical-align: top;\n",
              "    }\n",
              "\n",
              "    .dataframe thead th {\n",
              "        text-align: right;\n",
              "    }\n",
              "</style>\n",
              "<table border=\"1\" class=\"dataframe\">\n",
              "  <thead>\n",
              "    <tr style=\"text-align: right;\">\n",
              "      <th></th>\n",
              "      <th>Image Index</th>\n",
              "      <th>Finding Labels</th>\n",
              "      <th>Follow-up #</th>\n",
              "      <th>Patient ID</th>\n",
              "      <th>Patient Age</th>\n",
              "      <th>Patient Gender</th>\n",
              "      <th>View Position</th>\n",
              "      <th>OriginalImage[Width</th>\n",
              "      <th>Height]</th>\n",
              "      <th>OriginalImagePixelSpacing[x</th>\n",
              "      <th>...</th>\n",
              "      <th>Effusion</th>\n",
              "      <th>Emphysema</th>\n",
              "      <th>Fibrosis</th>\n",
              "      <th>Hernia</th>\n",
              "      <th>Infiltration</th>\n",
              "      <th>Mass</th>\n",
              "      <th>Nodule</th>\n",
              "      <th>Pleural_Thickening</th>\n",
              "      <th>Pneumonia</th>\n",
              "      <th>Pneumothorax</th>\n",
              "    </tr>\n",
              "  </thead>\n",
              "  <tbody>\n",
              "    <tr>\n",
              "      <th>53410</th>\n",
              "      <td>00013490_001.png</td>\n",
              "      <td>Nodule</td>\n",
              "      <td>1</td>\n",
              "      <td>13490</td>\n",
              "      <td>43</td>\n",
              "      <td>F</td>\n",
              "      <td>PA</td>\n",
              "      <td>2992</td>\n",
              "      <td>2991</td>\n",
              "      <td>0.143</td>\n",
              "      <td>...</td>\n",
              "      <td>0.0</td>\n",
              "      <td>0.0</td>\n",
              "      <td>0.0</td>\n",
              "      <td>0.0</td>\n",
              "      <td>0.0</td>\n",
              "      <td>0.0</td>\n",
              "      <td>1.0</td>\n",
              "      <td>0.0</td>\n",
              "      <td>0.0</td>\n",
              "      <td>0.0</td>\n",
              "    </tr>\n",
              "    <tr>\n",
              "      <th>93480</th>\n",
              "      <td>00023409_000.png</td>\n",
              "      <td></td>\n",
              "      <td>0</td>\n",
              "      <td>23409</td>\n",
              "      <td>22</td>\n",
              "      <td>F</td>\n",
              "      <td>PA</td>\n",
              "      <td>2048</td>\n",
              "      <td>2500</td>\n",
              "      <td>0.168</td>\n",
              "      <td>...</td>\n",
              "      <td>0.0</td>\n",
              "      <td>0.0</td>\n",
              "      <td>0.0</td>\n",
              "      <td>0.0</td>\n",
              "      <td>0.0</td>\n",
              "      <td>0.0</td>\n",
              "      <td>0.0</td>\n",
              "      <td>0.0</td>\n",
              "      <td>0.0</td>\n",
              "      <td>0.0</td>\n",
              "    </tr>\n",
              "    <tr>\n",
              "      <th>97476</th>\n",
              "      <td>00025721_000.png</td>\n",
              "      <td>Infiltration</td>\n",
              "      <td>0</td>\n",
              "      <td>25721</td>\n",
              "      <td>53</td>\n",
              "      <td>M</td>\n",
              "      <td>PA</td>\n",
              "      <td>3056</td>\n",
              "      <td>2544</td>\n",
              "      <td>0.139</td>\n",
              "      <td>...</td>\n",
              "      <td>0.0</td>\n",
              "      <td>0.0</td>\n",
              "      <td>0.0</td>\n",
              "      <td>0.0</td>\n",
              "      <td>1.0</td>\n",
              "      <td>0.0</td>\n",
              "      <td>0.0</td>\n",
              "      <td>0.0</td>\n",
              "      <td>0.0</td>\n",
              "      <td>0.0</td>\n",
              "    </tr>\n",
              "  </tbody>\n",
              "</table>\n",
              "<p>3 rows × 27 columns</p>\n",
              "</div>\n",
              "      <button class=\"colab-df-convert\" onclick=\"convertToInteractive('df-5a66f8fb-0a25-416c-939b-7c3bbeb74fdc')\"\n",
              "              title=\"Convert this dataframe to an interactive table.\"\n",
              "              style=\"display:none;\">\n",
              "        \n",
              "  <svg xmlns=\"http://www.w3.org/2000/svg\" height=\"24px\"viewBox=\"0 0 24 24\"\n",
              "       width=\"24px\">\n",
              "    <path d=\"M0 0h24v24H0V0z\" fill=\"none\"/>\n",
              "    <path d=\"M18.56 5.44l.94 2.06.94-2.06 2.06-.94-2.06-.94-.94-2.06-.94 2.06-2.06.94zm-11 1L8.5 8.5l.94-2.06 2.06-.94-2.06-.94L8.5 2.5l-.94 2.06-2.06.94zm10 10l.94 2.06.94-2.06 2.06-.94-2.06-.94-.94-2.06-.94 2.06-2.06.94z\"/><path d=\"M17.41 7.96l-1.37-1.37c-.4-.4-.92-.59-1.43-.59-.52 0-1.04.2-1.43.59L10.3 9.45l-7.72 7.72c-.78.78-.78 2.05 0 2.83L4 21.41c.39.39.9.59 1.41.59.51 0 1.02-.2 1.41-.59l7.78-7.78 2.81-2.81c.8-.78.8-2.07 0-2.86zM5.41 20L4 18.59l7.72-7.72 1.47 1.35L5.41 20z\"/>\n",
              "  </svg>\n",
              "      </button>\n",
              "      \n",
              "  <style>\n",
              "    .colab-df-container {\n",
              "      display:flex;\n",
              "      flex-wrap:wrap;\n",
              "      gap: 12px;\n",
              "    }\n",
              "\n",
              "    .colab-df-convert {\n",
              "      background-color: #E8F0FE;\n",
              "      border: none;\n",
              "      border-radius: 50%;\n",
              "      cursor: pointer;\n",
              "      display: none;\n",
              "      fill: #1967D2;\n",
              "      height: 32px;\n",
              "      padding: 0 0 0 0;\n",
              "      width: 32px;\n",
              "    }\n",
              "\n",
              "    .colab-df-convert:hover {\n",
              "      background-color: #E2EBFA;\n",
              "      box-shadow: 0px 1px 2px rgba(60, 64, 67, 0.3), 0px 1px 3px 1px rgba(60, 64, 67, 0.15);\n",
              "      fill: #174EA6;\n",
              "    }\n",
              "\n",
              "    [theme=dark] .colab-df-convert {\n",
              "      background-color: #3B4455;\n",
              "      fill: #D2E3FC;\n",
              "    }\n",
              "\n",
              "    [theme=dark] .colab-df-convert:hover {\n",
              "      background-color: #434B5C;\n",
              "      box-shadow: 0px 1px 3px 1px rgba(0, 0, 0, 0.15);\n",
              "      filter: drop-shadow(0px 1px 2px rgba(0, 0, 0, 0.3));\n",
              "      fill: #FFFFFF;\n",
              "    }\n",
              "  </style>\n",
              "\n",
              "      <script>\n",
              "        const buttonEl =\n",
              "          document.querySelector('#df-5a66f8fb-0a25-416c-939b-7c3bbeb74fdc button.colab-df-convert');\n",
              "        buttonEl.style.display =\n",
              "          google.colab.kernel.accessAllowed ? 'block' : 'none';\n",
              "\n",
              "        async function convertToInteractive(key) {\n",
              "          const element = document.querySelector('#df-5a66f8fb-0a25-416c-939b-7c3bbeb74fdc');\n",
              "          const dataTable =\n",
              "            await google.colab.kernel.invokeFunction('convertToInteractive',\n",
              "                                                     [key], {});\n",
              "          if (!dataTable) return;\n",
              "\n",
              "          const docLinkHtml = 'Like what you see? Visit the ' +\n",
              "            '<a target=\"_blank\" href=https://colab.research.google.com/notebooks/data_table.ipynb>data table notebook</a>'\n",
              "            + ' to learn more about interactive tables.';\n",
              "          element.innerHTML = '';\n",
              "          dataTable['output_type'] = 'display_data';\n",
              "          await google.colab.output.renderOutput(dataTable, element);\n",
              "          const docLink = document.createElement('div');\n",
              "          docLink.innerHTML = docLinkHtml;\n",
              "          element.appendChild(docLink);\n",
              "        }\n",
              "      </script>\n",
              "    </div>\n",
              "  </div>\n",
              "  "
            ]
          },
          "metadata": {},
          "execution_count": 14
        }
      ],
      "source": [
        "all_xray_df['Finding Labels'] = all_xray_df['Finding Labels'].map(lambda x: x.replace('No Finding', ''))\n",
        "from itertools import chain\n",
        "all_labels = np.unique(list(chain(*all_xray_df['Finding Labels'].map(lambda x: x.split('|')).tolist())))\n",
        "all_labels = [x for x in all_labels if len(x)>0]\n",
        "print('All Labels ({}): {}'.format(len(all_labels), all_labels))\n",
        "for c_label in all_labels:\n",
        "    if len(c_label)>1: # leave out empty labels\n",
        "        all_xray_df[c_label] = all_xray_df['Finding Labels'].map(lambda finding: 1.0 if c_label in finding else 0)\n",
        "all_xray_df.sample(3)"
      ]
    },
    {
      "cell_type": "code",
      "execution_count": 15,
      "metadata": {
        "colab": {
          "base_uri": "https://localhost:8080/"
        },
        "id": "ym5CxJBDTuQZ",
        "outputId": "ce7519b3-abb1-42df-c580-3af9c08cc05d"
      },
      "outputs": [
        {
          "output_type": "stream",
          "name": "stdout",
          "text": [
            "Clean Labels (13) [('Atelectasis', 11559), ('Cardiomegaly', 2776), ('Consolidation', 4667), ('Edema', 2303), ('Effusion', 13317), ('Emphysema', 2516), ('Fibrosis', 1686), ('Infiltration', 19894), ('Mass', 5782), ('Nodule', 6331), ('Pleural_Thickening', 3385), ('Pneumonia', 1431), ('Pneumothorax', 5302)]\n"
          ]
        }
      ],
      "source": [
        "# keep at least 1000 cases\n",
        "MIN_CASES = 1000\n",
        "all_labels = [\n",
        "    c_label for c_label in all_labels if all_xray_df[c_label].sum()>MIN_CASES\n",
        "    ]\n",
        "print('Clean Labels ({})'.format(len(all_labels)), \n",
        "      [(c_label,int(all_xray_df[c_label].sum())) for c_label in all_labels])"
      ]
    },
    {
      "cell_type": "code",
      "execution_count": 16,
      "metadata": {
        "colab": {
          "base_uri": "https://localhost:8080/",
          "height": 583
        },
        "id": "-bMuE8iDT2LT",
        "outputId": "b917c254-4a9d-45e1-cdd6-6450b64c0906"
      },
      "outputs": [
        {
          "output_type": "display_data",
          "data": {
            "text/plain": [
              "<Figure size 864x576 with 1 Axes>"
            ],
            "image/png": "[encoded data removed]"
          },
          "metadata": {
            "needs_background": "light"
          }
        }
      ],
      "source": [
        "# since the dataset is very unbiased, we can resample it to be a more reasonable collection\n",
        "# weight is 0.1 + number of findings\n",
        "sample_weights = all_xray_df['Finding Labels'].map(lambda x: len(x.split('|')) if len(x)>0 else 0).values + 4e-2\n",
        "sample_weights /= sample_weights.sum()\n",
        "\n",
        "all_xray_df = all_xray_df.sample(112120, weights=sample_weights)\n",
        "\n",
        "label_counts = all_xray_df['Finding Labels'].value_counts()[:15]\n",
        "fig, ax1 = plt.subplots(1,1,figsize = (12, 8))\n",
        "ax1.bar(np.arange(len(label_counts))+0.5, label_counts)\n",
        "ax1.set_xticks(np.arange(len(label_counts))+0.5)\n",
        "_ = ax1.set_xticklabels(label_counts.index, rotation = 90)"
      ]
    },
    {
      "cell_type": "code",
      "execution_count": 17,
      "metadata": {
        "colab": {
          "base_uri": "https://localhost:8080/",
          "height": 583
        },
        "id": "T1zRuIqHT5pF",
        "outputId": "888cb5d8-c01f-48f2-9d48-4288c1922f1a"
      },
      "outputs": [
        {
          "output_type": "display_data",
          "data": {
            "text/plain": [
              "<Figure size 864x576 with 1 Axes>"
            ],
            "image/png": "[encoded data removed]"
          },
          "metadata": {
            "needs_background": "light"
          }
        }
      ],
      "source": [
        "label_counts = 100*np.mean(all_xray_df[all_labels].values,0)\n",
        "fig, ax1 = plt.subplots(1,1,figsize = (12, 8))\n",
        "ax1.bar(np.arange(len(label_counts))+0.5, label_counts)\n",
        "ax1.set_xticks(np.arange(len(label_counts))+0.5)\n",
        "ax1.set_xticklabels(all_labels, rotation = 90)\n",
        "ax1.set_title('Adjusted Frequency of Diseases in Patient Group')\n",
        "_ = ax1.set_ylabel('Frequency (%)')"
      ]
    },
    {
      "cell_type": "code",
      "execution_count": 18,
      "metadata": {
        "id": "YGv8mwYIUGQY"
      },
      "outputs": [],
      "source": [
        "all_xray_df['disease_vec'] = all_xray_df.apply(lambda x: [x[all_labels].values], 1).map(lambda x: x[0])"
      ]
    },
    {
      "cell_type": "code",
      "execution_count": 19,
      "metadata": {
        "colab": {
          "base_uri": "https://localhost:8080/",
          "height": 410
        },
        "id": "L-aF9NwEWWr-",
        "outputId": "a35c613f-d222-491c-a24d-4927e3b24fd7"
      },
      "outputs": [
        {
          "output_type": "execute_result",
          "data": {
            "text/plain": [
              "            Image Index Finding Labels  Follow-up #  Patient ID  Patient Age  \\\n",
              "99233  00026236_002.png   Infiltration            2       26236           34   \n",
              "12384  00003227_001.png                           1        3227           16   \n",
              "47242  00012021_024.png                          24       12021           25   \n",
              "\n",
              "      Patient Gender View Position  OriginalImage[Width  Height]  \\\n",
              "99233              F            AP                 3056     2544   \n",
              "12384              M            PA                 2500     2048   \n",
              "47242              M            AP                 2500     2048   \n",
              "\n",
              "       OriginalImagePixelSpacing[x  ...  Emphysema  Fibrosis Hernia  \\\n",
              "99233                        0.139  ...        0.0       0.0    0.0   \n",
              "12384                        0.171  ...        0.0       0.0    0.0   \n",
              "47242                        0.168  ...        0.0       0.0    0.0   \n",
              "\n",
              "       Infiltration  Mass  Nodule  Pleural_Thickening  Pneumonia  \\\n",
              "99233           1.0   0.0     0.0                 0.0        0.0   \n",
              "12384           0.0   0.0     0.0                 0.0        0.0   \n",
              "47242           0.0   0.0     0.0                 0.0        0.0   \n",
              "\n",
              "       Pneumothorax                                        disease_vec  \n",
              "99233           0.0  [0.0, 0.0, 0.0, 0.0, 0.0, 0.0, 0.0, 1.0, 0.0, ...  \n",
              "12384           0.0  [0.0, 0.0, 0.0, 0.0, 0.0, 0.0, 0.0, 0.0, 0.0, ...  \n",
              "47242           0.0  [0.0, 0.0, 0.0, 0.0, 0.0, 0.0, 0.0, 0.0, 0.0, ...  \n",
              "\n",
              "[3 rows x 28 columns]"
            ],
            "text/html": [
              "\n",
              "  <div id=\"df-b6c67356-c674-4a56-ba6c-8b6952bbe7c3\">\n",
              "    <div class=\"colab-df-container\">\n",
              "      <div>\n",
              "<style scoped>\n",
              "    .dataframe tbody tr th:only-of-type {\n",
              "        vertical-align: middle;\n",
              "    }\n",
              "\n",
              "    .dataframe tbody tr th {\n",
              "        vertical-align: top;\n",
              "    }\n",
              "\n",
              "    .dataframe thead th {\n",
              "        text-align: right;\n",
              "    }\n",
              "</style>\n",
              "<table border=\"1\" class=\"dataframe\">\n",
              "  <thead>\n",
              "    <tr style=\"text-align: right;\">\n",
              "      <th></th>\n",
              "      <th>Image Index</th>\n",
              "      <th>Finding Labels</th>\n",
              "      <th>Follow-up #</th>\n",
              "      <th>Patient ID</th>\n",
              "      <th>Patient Age</th>\n",
              "      <th>Patient Gender</th>\n",
              "      <th>View Position</th>\n",
              "      <th>OriginalImage[Width</th>\n",
              "      <th>Height]</th>\n",
              "      <th>OriginalImagePixelSpacing[x</th>\n",
              "      <th>...</th>\n",
              "      <th>Emphysema</th>\n",
              "      <th>Fibrosis</th>\n",
              "      <th>Hernia</th>\n",
              "      <th>Infiltration</th>\n",
              "      <th>Mass</th>\n",
              "      <th>Nodule</th>\n",
              "      <th>Pleural_Thickening</th>\n",
              "      <th>Pneumonia</th>\n",
              "      <th>Pneumothorax</th>\n",
              "      <th>disease_vec</th>\n",
              "    </tr>\n",
              "  </thead>\n",
              "  <tbody>\n",
              "    <tr>\n",
              "      <th>99233</th>\n",
              "      <td>00026236_002.png</td>\n",
              "      <td>Infiltration</td>\n",
              "      <td>2</td>\n",
              "      <td>26236</td>\n",
              "      <td>34</td>\n",
              "      <td>F</td>\n",
              "      <td>AP</td>\n",
              "      <td>3056</td>\n",
              "      <td>2544</td>\n",
              "      <td>0.139</td>\n",
              "      <td>...</td>\n",
              "      <td>0.0</td>\n",
              "      <td>0.0</td>\n",
              "      <td>0.0</td>\n",
              "      <td>1.0</td>\n",
              "      <td>0.0</td>\n",
              "      <td>0.0</td>\n",
              "      <td>0.0</td>\n",
              "      <td>0.0</td>\n",
              "      <td>0.0</td>\n",
              "      <td>[0.0, 0.0, 0.0, 0.0, 0.0, 0.0, 0.0, 1.0, 0.0, ...</td>\n",
              "    </tr>\n",
              "    <tr>\n",
              "      <th>12384</th>\n",
              "      <td>00003227_001.png</td>\n",
              "      <td></td>\n",
              "      <td>1</td>\n",
              "      <td>3227</td>\n",
              "      <td>16</td>\n",
              "      <td>M</td>\n",
              "      <td>PA</td>\n",
              "      <td>2500</td>\n",
              "      <td>2048</td>\n",
              "      <td>0.171</td>\n",
              "      <td>...</td>\n",
              "      <td>0.0</td>\n",
              "      <td>0.0</td>\n",
              "      <td>0.0</td>\n",
              "      <td>0.0</td>\n",
              "      <td>0.0</td>\n",
              "      <td>0.0</td>\n",
              "      <td>0.0</td>\n",
              "      <td>0.0</td>\n",
              "      <td>0.0</td>\n",
              "      <td>[0.0, 0.0, 0.0, 0.0, 0.0, 0.0, 0.0, 0.0, 0.0, ...</td>\n",
              "    </tr>\n",
              "    <tr>\n",
              "      <th>47242</th>\n",
              "      <td>00012021_024.png</td>\n",
              "      <td></td>\n",
              "      <td>24</td>\n",
              "      <td>12021</td>\n",
              "      <td>25</td>\n",
              "      <td>M</td>\n",
              "      <td>AP</td>\n",
              "      <td>2500</td>\n",
              "      <td>2048</td>\n",
              "      <td>0.168</td>\n",
              "      <td>...</td>\n",
              "      <td>0.0</td>\n",
              "      <td>0.0</td>\n",
              "      <td>0.0</td>\n",
              "      <td>0.0</td>\n",
              "      <td>0.0</td>\n",
              "      <td>0.0</td>\n",
              "      <td>0.0</td>\n",
              "      <td>0.0</td>\n",
              "      <td>0.0</td>\n",
              "      <td>[0.0, 0.0, 0.0, 0.0, 0.0, 0.0, 0.0, 0.0, 0.0, ...</td>\n",
              "    </tr>\n",
              "  </tbody>\n",
              "</table>\n",
              "<p>3 rows × 28 columns</p>\n",
              "</div>\n",
              "      <button class=\"colab-df-convert\" onclick=\"convertToInteractive('df-b6c67356-c674-4a56-ba6c-8b6952bbe7c3')\"\n",
              "              title=\"Convert this dataframe to an interactive table.\"\n",
              "              style=\"display:none;\">\n",
              "        \n",
              "  <svg xmlns=\"http://www.w3.org/2000/svg\" height=\"24px\"viewBox=\"0 0 24 24\"\n",
              "       width=\"24px\">\n",
              "    <path d=\"M0 0h24v24H0V0z\" fill=\"none\"/>\n",
              "    <path d=\"M18.56 5.44l.94 2.06.94-2.06 2.06-.94-2.06-.94-.94-2.06-.94 2.06-2.06.94zm-11 1L8.5 8.5l.94-2.06 2.06-.94-2.06-.94L8.5 2.5l-.94 2.06-2.06.94zm10 10l.94 2.06.94-2.06 2.06-.94-2.06-.94-.94-2.06-.94 2.06-2.06.94z\"/><path d=\"M17.41 7.96l-1.37-1.37c-.4-.4-.92-.59-1.43-.59-.52 0-1.04.2-1.43.59L10.3 9.45l-7.72 7.72c-.78.78-.78 2.05 0 2.83L4 21.41c.39.39.9.59 1.41.59.51 0 1.02-.2 1.41-.59l7.78-7.78 2.81-2.81c.8-.78.8-2.07 0-2.86zM5.41 20L4 18.59l7.72-7.72 1.47 1.35L5.41 20z\"/>\n",
              "  </svg>\n",
              "      </button>\n",
              "      \n",
              "  <style>\n",
              "    .colab-df-container {\n",
              "      display:flex;\n",
              "      flex-wrap:wrap;\n",
              "      gap: 12px;\n",
              "    }\n",
              "\n",
              "    .colab-df-convert {\n",
              "      background-color: #E8F0FE;\n",
              "      border: none;\n",
              "      border-radius: 50%;\n",
              "      cursor: pointer;\n",
              "      display: none;\n",
              "      fill: #1967D2;\n",
              "      height: 32px;\n",
              "      padding: 0 0 0 0;\n",
              "      width: 32px;\n",
              "    }\n",
              "\n",
              "    .colab-df-convert:hover {\n",
              "      background-color: #E2EBFA;\n",
              "      box-shadow: 0px 1px 2px rgba(60, 64, 67, 0.3), 0px 1px 3px 1px rgba(60, 64, 67, 0.15);\n",
              "      fill: #174EA6;\n",
              "    }\n",
              "\n",
              "    [theme=dark] .colab-df-convert {\n",
              "      background-color: #3B4455;\n",
              "      fill: #D2E3FC;\n",
              "    }\n",
              "\n",
              "    [theme=dark] .colab-df-convert:hover {\n",
              "      background-color: #434B5C;\n",
              "      box-shadow: 0px 1px 3px 1px rgba(0, 0, 0, 0.15);\n",
              "      filter: drop-shadow(0px 1px 2px rgba(0, 0, 0, 0.3));\n",
              "      fill: #FFFFFF;\n",
              "    }\n",
              "  </style>\n",
              "\n",
              "      <script>\n",
              "        const buttonEl =\n",
              "          document.querySelector('#df-b6c67356-c674-4a56-ba6c-8b6952bbe7c3 button.colab-df-convert');\n",
              "        buttonEl.style.display =\n",
              "          google.colab.kernel.accessAllowed ? 'block' : 'none';\n",
              "\n",
              "        async function convertToInteractive(key) {\n",
              "          const element = document.querySelector('#df-b6c67356-c674-4a56-ba6c-8b6952bbe7c3');\n",
              "          const dataTable =\n",
              "            await google.colab.kernel.invokeFunction('convertToInteractive',\n",
              "                                                     [key], {});\n",
              "          if (!dataTable) return;\n",
              "\n",
              "          const docLinkHtml = 'Like what you see? Visit the ' +\n",
              "            '<a target=\"_blank\" href=https://colab.research.google.com/notebooks/data_table.ipynb>data table notebook</a>'\n",
              "            + ' to learn more about interactive tables.';\n",
              "          element.innerHTML = '';\n",
              "          dataTable['output_type'] = 'display_data';\n",
              "          await google.colab.output.renderOutput(dataTable, element);\n",
              "          const docLink = document.createElement('div');\n",
              "          docLink.innerHTML = docLinkHtml;\n",
              "          element.appendChild(docLink);\n",
              "        }\n",
              "      </script>\n",
              "    </div>\n",
              "  </div>\n",
              "  "
            ]
          },
          "metadata": {},
          "execution_count": 19
        }
      ],
      "source": [
        "all_xray_df.sample(3)"
      ]
    },
    {
      "cell_type": "code",
      "execution_count": 20,
      "metadata": {
        "colab": {
          "base_uri": "https://localhost:8080/"
        },
        "id": "uAwaQtgN_4U3",
        "outputId": "c0ece5be-edab-4352-81d6-b15e94a57e12"
      },
      "outputs": [
        {
          "output_type": "execute_result",
          "data": {
            "text/plain": [
              "112120"
            ]
          },
          "metadata": {},
          "execution_count": 20
        }
      ],
      "source": [
        "len(all_xray_df)"
      ]
    },
    {
      "cell_type": "markdown",
      "metadata": {
        "id": "gWddu_dD42zn"
      },
      "source": [
        "### Get DataLoaders"
      ]
    },
    {
      "cell_type": "code",
      "execution_count": 21,
      "metadata": {
        "id": "5Qon97klUzXo"
      },
      "outputs": [],
      "source": [
        "class NIH_Dataset(Dataset):\n",
        "  def __init__(\n",
        "    self, \n",
        "    data_df,\n",
        "    transform=None\n",
        "    ):\n",
        "    self.data_df = data_df\n",
        "    self.transform = transform \n",
        "\n",
        "  def __len__(\n",
        "    self\n",
        "    ):\n",
        "    return len(self.data_df)\n",
        "\n",
        "  def __getitem__(\n",
        "    self, \n",
        "    idx\n",
        "    ):\n",
        "    img_file = self.data_df['path'].iloc[idx]\n",
        "    img = Image.open(img_file).convert('RGB')\n",
        "    label = np.array(self.data_df.iloc[:,-1].iloc[idx], dtype=float)\n",
        "    if self.transform:\n",
        "        img = self.transform(img)\n",
        "\n",
        "    return img, label\n",
        "\n",
        "def get_data_loaders(\n",
        "    data_df: pd.DataFrame,\n",
        "    global_train_frac: float = 0.8,\n",
        "    local_train_frac: float = 0.8,\n",
        "    batch_size: int = 32,\n",
        "    num_clients: int = 10\n",
        "    ):\n",
        "  train_data_transform = T.Compose([\n",
        "    T.RandomRotation((-20,+20)),\n",
        "    # T.Resize((512,512)),\n",
        "    T.Resize((224,224)),\n",
        "    T.ToTensor(),\n",
        "    T.Normalize(mean=[0.485, 0.456, 0.406],\n",
        "                std=[0.229, 0.224, 0.225])\n",
        "                ])\n",
        "\n",
        "  test_data_transform = T.Compose([\n",
        "    T.Resize((512,512)),\n",
        "    T.ToTensor(),\n",
        "    T.Normalize(mean=[0.485, 0.456, 0.406],\n",
        "                std=[0.229, 0.224, 0.225])\n",
        "                ])\n",
        "  \n",
        "  train_df, test_df = train_test_split(\n",
        "      data_df,\n",
        "      test_size = 1 - global_train_frac,\n",
        "      random_state = 42,\n",
        "      stratify = data_df['Finding Labels'].map( lambda x: x[:4])\n",
        "  )\n",
        "\n",
        "  trainset = NIH_Dataset(\n",
        "      train_df,\n",
        "      transform = train_data_transform\n",
        "      )\n",
        "  \n",
        "  testset = NIH_Dataset(\n",
        "      test_df,\n",
        "      transform = test_data_transform\n",
        "      )\n",
        "\n",
        "  # Split training set into `num_clients` partitions to simulate different local datasets\n",
        "  partition_size = len(trainset) // num_clients\n",
        "  lengths = [partition_size] * num_clients\n",
        "  lengths[-1] += len(trainset) - np.sum(lengths)\n",
        "  datasets = random_split(trainset, lengths, torch.Generator().manual_seed(42))\n",
        "\n",
        "  # Split each partition into train/val and create DataLoader\n",
        "  trainloaders = []\n",
        "  valloaders = []\n",
        "  for ds in datasets:      \n",
        "      len_train = math.ceil(len(ds) * local_train_frac)\n",
        "      len_val = len(ds) - math.ceil(len(ds) * local_train_frac)\n",
        "      lengths = [len_train, len_val]\n",
        "      ds_train, ds_val = random_split(ds, lengths, torch.Generator().manual_seed(42))\n",
        "      trainloaders.append(DataLoader(ds_train, batch_size=batch_size, shuffle=True, drop_last = True))\n",
        "      valloaders.append(DataLoader(ds_val, batch_size=batch_size, drop_last = True))\n",
        "  testloader = DataLoader(testset, batch_size=batch_size)\n",
        "\n",
        "  return trainloaders, valloaders, testloader\n",
        "\n",
        "def inv_data_transform(img):\n",
        "    img = img.permute(1,2,0)\n",
        "    img = img * torch.Tensor([0.229, 0.224, 0.225]) + torch.Tensor([0.485, 0.456, 0.406])\n",
        "    return img"
      ]
    },
    {
      "cell_type": "code",
      "execution_count": 22,
      "metadata": {
        "id": "rigzBUI_Wovp"
      },
      "outputs": [],
      "source": [
        "num_clients = 100\n",
        "\n",
        "trainloaders, valloaders, testloader = get_data_loaders(\n",
        "    all_xray_df,\n",
        "    global_train_frac = 0.95,\n",
        "    local_train_frac = 0.9,\n",
        "    num_clients = num_clients,\n",
        "    batch_size = 25\n",
        ")"
      ]
    },
    {
      "cell_type": "code",
      "execution_count": 23,
      "metadata": {
        "colab": {
          "base_uri": "https://localhost:8080/",
          "height": 248
        },
        "id": "H5Oi7dIN3aWP",
        "outputId": "3fd60559-5d42-4784-8de4-476d3fb50521"
      },
      "outputs": [
        {
          "output_type": "display_data",
          "data": {
            "text/plain": [
              "<Figure size 432x288 with 1 Axes>"
            ],
            "image/png": "[encoded data removed]"
          },
          "metadata": {
            "needs_background": "light"
          }
        }
      ],
      "source": [
        "plt.imshow(\n",
        "    inv_data_transform(\n",
        "        testloader.dataset[0][0]\n",
        "    )\n",
        ")\n",
        "plt.axis('off');"
      ]
    },
    {
      "cell_type": "code",
      "execution_count": 24,
      "metadata": {
        "colab": {
          "base_uri": "https://localhost:8080/"
        },
        "id": "mh6Nm_YzvJpo",
        "outputId": "64b5dd3e-3927-48ed-d057-09fcb731a574"
      },
      "outputs": [
        {
          "output_type": "execute_result",
          "data": {
            "text/plain": [
              "(959, 106, 5607)"
            ]
          },
          "metadata": {},
          "execution_count": 24
        }
      ],
      "source": [
        "len(trainloaders[0].dataset), len(valloaders[0].dataset) ,len(testloader.dataset)"
      ]
    },
    {
      "cell_type": "code",
      "execution_count": 25,
      "metadata": {
        "colab": {
          "base_uri": "https://localhost:8080/"
        },
        "id": "aHFmMLT5aZ2h",
        "outputId": "7005be0f-8217-4fb6-b0c5-6c0f192884e3"
      },
      "outputs": [
        {
          "output_type": "execute_result",
          "data": {
            "text/plain": [
              "13"
            ]
          },
          "metadata": {},
          "execution_count": 25
        }
      ],
      "source": [
        "len(all_labels)"
      ]
    },
    {
      "cell_type": "markdown",
      "source": [
        "### Lowcarb client"
      ],
      "metadata": {
        "id": "EXjZUaf7NC3k"
      }
    },
    {
      "cell_type": "code",
      "source": [
        "class Lowcarb_Client(object):\n",
        "    def __init__(self, *args, **kwargs):\n",
        "        super(Lowcarb_Client, self).__init__(*args, **kwargs)\n",
        "        self.location = None\n",
        "\n",
        "    def get_properties(self, config):\n",
        "        return {'location': self.location}\n",
        "\n",
        "\n",
        "def lowcarb(func):\n",
        "    def wrapper(*args):\n",
        "        properties = func(*args)\n",
        "        properties['location'] = args[0].location\n",
        "\n",
        "        return properties\n",
        "\n",
        "    return wrapper\n",
        "\n",
        "class Lowcarb_Client(object):\n",
        "    def __init__(self, *args, **kwargs):\n",
        "        super(Lowcarb_Client, self).__init__(*args, **kwargs)\n",
        "        self.location = None\n",
        "\n",
        "    def get_properties(self, config):\n",
        "        return {'location': self.location}\n",
        "\n",
        "\n",
        "def lowcarb(func):\n",
        "    def wrapper(*args):\n",
        "        properties = func(*args)\n",
        "        properties['location'] = args[0].location\n",
        "\n",
        "        return properties\n",
        "\n",
        "    return wrapper"
      ],
      "metadata": {
        "id": "hPdDwNxENET5"
      },
      "execution_count": 28,
      "outputs": []
    },
    {
      "cell_type": "markdown",
      "source": [
        "### Lowcarb client manager "
      ],
      "metadata": {
        "id": "T12Z3wswS8b-"
      }
    },
    {
      "cell_type": "code",
      "source": [
        "from logging import INFO\n",
        "from typing import Dict, List, Optional\n",
        "import random\n",
        "\n",
        "import pandas as pd\n",
        "from flwr.common.logger import log\n",
        "\n",
        "import flwr as fl\n",
        "from flwr.server.client_manager import ClientManager\n",
        "from flwr.server.criterion import Criterion\n",
        "from flwr.server.client_proxy import ClientProxy\n",
        "\n",
        "import requests\n",
        "from pandas import DataFrame\n",
        "from ray.exceptions import RaySystemError\n",
        "\n",
        "from backtest.strategy import CarbonAwareStrategy\n",
        "\n",
        "from lowcarb.carbon_sdk_webapi import CarbonSDK_WebAPI\n",
        "\n",
        "import numpy as np\n",
        "\n",
        "class Object(object):\n",
        "    pass\n",
        "\n",
        "class LowCarb_ClientManager(fl.server.client_manager.SimpleClientManager):\n",
        "    '''\n",
        "    Implementation of lowcarbs ClientManager, which is a simple extension of flower's own standard SimpleClientManager.\n",
        "    lowcarb achieves carbon aware federated learning by implementing the sample() method to select clients in a way to minmize the carbon foodprint while maintaining net integrity.\n",
        "    '''\n",
        "    def __init__(self, api_host, workload_duration=15, forecast_window=12, **kargs):\n",
        "        super(LowCarb_ClientManager, self).__init__(**kargs)\n",
        "        self.host = api_host\n",
        "        self.api = CarbonSDK_WebAPI(self.host)\n",
        "        self.workload_duration = workload_duration\n",
        "        self.forecast_window = forecast_window\n",
        "\n",
        "        self.client_participation: dict[str: int] = {}\n",
        "\n",
        "    def sample(\n",
        "            self,\n",
        "            num_clients: int,\n",
        "            min_num_clients: Optional[int] = None,\n",
        "            criterion: Optional[Criterion] = None,\n",
        "    ) -> List[ClientProxy]:\n",
        "\n",
        "        ##### each sample round add any new client to the participitation DataFrame\n",
        "        for cid in list(self.clients.keys()):\n",
        "            if not (cid in self.client_participation.keys()):\n",
        "                self.client_participation[cid] = 0\n",
        "\n",
        "\n",
        "        \"\"\"Sample a number of Flower ClientProxy instances.\"\"\"\n",
        "        # Block until at least num_clients are connected.\n",
        "        if min_num_clients is None:\n",
        "            min_num_clients = num_clients\n",
        "        self.wait_for(min_num_clients)\n",
        "        # Sample clients which meet the criterion\n",
        "        available_cids = list(self.clients)\n",
        "        if criterion is not None:\n",
        "            available_cids = [\n",
        "                cid for cid in available_cids if criterion.select(self.clients[cid])\n",
        "            ]\n",
        "\n",
        "        if num_clients > len(available_cids):\n",
        "            log(\n",
        "                INFO,\n",
        "                \"Sampling failed: number of available clients\"\n",
        "                \" (%s) is less than number of requested clients (%s).\",\n",
        "                len(available_cids),\n",
        "                num_clients,\n",
        "            )\n",
        "            return []\n",
        "\n",
        "        # sampled_cids = random.sample(available_cids, num_clients)\n",
        "\n",
        "\n",
        "\n",
        "        # data for the strategy to select the next best clients\n",
        "        client_locations = self._get_client_locations()\n",
        "        present_locations = pd.Series(client_locations.values()).unique()\n",
        "        forecasts = self._get_location_forecasts(present_locations)\n",
        "\n",
        "        available_cids_participation = {cid: self.client_participation[cid] for cid in available_cids}\n",
        "\n",
        "        strategy = CarbonAwareStrategy(clients_per_round=num_clients, max_forecast_duration=self.forecast_window)\n",
        "        selected_clients = strategy.select(forecasts=forecasts, past_participation=available_cids_participation, client_location_map=client_locations)\n",
        "\n",
        "        for client in selected_clients:\n",
        "            self.client_participation[client] = self.client_participation[client] + 1\n",
        "\n",
        "\n",
        "        print('_______________________________________________________________________\\n Available Clients with their locations\\n_______________________________________________________________________')\n",
        "        for client, location in client_locations.items():\n",
        "            print(f'{client} {location}')\n",
        "\n",
        "        print('_______________________________________________________________________\\n Available Clients with their participation\\n_______________________________________________________________________')\n",
        "        for client, participation in available_cids_participation.items():\n",
        "            print(f'{client} {participation}')\n",
        "\n",
        "        print('_______________________________________________________________________\\n selected low carbon clients\\n_______________________________________________________________________')\n",
        "        for client in selected_clients:\n",
        "            print(f'{client}')\n",
        "\n",
        "        return [self.clients[cid] for cid in selected_clients]\n",
        "\n",
        "        # return [self.clients[cid] for cid in sampled_cids]\n",
        "\n",
        "    def _get_client_locations(self) -> Dict[str, str]:\n",
        "        '''\n",
        "        Fetches all the clients' location and puts it in a DataFrame\n",
        "        :return: pandas Dataframe with 'cid' and 'location' column\n",
        "        '''\n",
        "        client_props = []\n",
        "        for cid, client in self.clients.items():\n",
        "            Ins = Object()  ##### weird hack for gRPC, I guess the Ins for get_properties are missing in flwr\n",
        "            Ins.config = {'config_value': 'config_sample_value'}\n",
        "            try:\n",
        "                client_prop = client.get_properties(ins=Ins, timeout=500)\n",
        "                client_prop.properties.update({'cid': cid})\n",
        "                client_props.append(client_prop.properties)\n",
        "            except RaySystemError as error:\n",
        "                print(error)\n",
        "\n",
        "\n",
        "        location_df = pd.DataFrame({\n",
        "            'cid': [client_prop['cid'] for client_prop in client_props],\n",
        "            'location': [client_prop['location'] for client_prop in client_props]\n",
        "        })\n",
        "\n",
        "        client_locations = {client['cid']: client['location'] for i, client in\n",
        "                                location_df.iterrows()}\n",
        "\n",
        "        return client_locations\n",
        "\n",
        "    def _get_location_forecasts(self, locations) -> Dict[str, list]:\n",
        "        forecasts_response = self.api.get_forecast_batch(locations, windowSize=self.workload_duration, forecast_window=self.forecast_window)\n",
        "        forecasts = {region: forecast['value'].to_list() for region, forecast in forecasts_response.groupby('region')}\n",
        "        return forecasts"
      ],
      "metadata": {
        "id": "kD3u3LdHS-yZ"
      },
      "execution_count": null,
      "outputs": []
    },
    {
      "cell_type": "markdown",
      "source": [
        "### FL utils basic"
      ],
      "metadata": {
        "id": "9o_uC5yi5e83"
      }
    },
    {
      "cell_type": "code",
      "source": [
        "class FlowerClient(Lowcarb_Client, fl.client.NumPyClient):\n",
        "    def __init__(self, net, trainloader, valloader, location, *args, **kwargs):\n",
        "        super(FlowerClient, self).__init__(*args, **kwargs)\n",
        "        self.net = net\n",
        "        self.trainloader = trainloader\n",
        "        self.valloader = valloader\n",
        "\n",
        "        self.location = location\n",
        "\n",
        "    def get_parameters(self, config):\n",
        "        print(f\"[Client {self.cid}] get_parameters\")\n",
        "        return get_parameters(self.net)\n",
        "\n",
        "    def fit(self, parameters, config):\n",
        "        # Read values from config\n",
        "        server_round = config[\"server_round\"]\n",
        "        local_epochs = config[\"local_epochs\"]\n",
        "\n",
        "        # Use values provided by the config\n",
        "        print(f\"[Client {self.cid}, round {server_round}] fit, config: {config}\")\n",
        "        set_parameters(self.net, parameters)\n",
        "        train(self.net, self.trainloader, epochs=local_epochs)\n",
        "        return get_parameters(self.net), len(self.trainloader), {}\n",
        "\n",
        "    def evaluate(self, parameters, config):\n",
        "        print(f\"[Client {self.cid}] evaluate, config: {config}\")\n",
        "        set_parameters(self.net, parameters)\n",
        "        loss, accuracy = test(self.net, self.valloader)\n",
        "        return float(loss), len(self.valloader), {\"accuracy\": float(accuracy)}\n",
        "\n",
        "def get_parameters(net) -> List[np.ndarray]:\n",
        "    return [val.cpu().numpy() for _, val in net.state_dict().items()]\n",
        "\n",
        "def set_parameters(net, parameters: List[np.ndarray]):\n",
        "    params_dict = zip(net.state_dict().keys(), parameters)\n",
        "    state_dict = OrderedDict({k: torch.Tensor(v) for k, v in params_dict})\n",
        "    net.load_state_dict(state_dict, strict=True)"
      ],
      "metadata": {
        "id": "RYlrQJOH5eRz"
      },
      "execution_count": 53,
      "outputs": []
    },
    {
      "cell_type": "markdown",
      "source": [
        "### FL training utils"
      ],
      "metadata": {
        "id": "UwdUHQgA5qt8"
      }
    },
    {
      "cell_type": "code",
      "execution_count": 54,
      "metadata": {
        "id": "ZpaMF3WiAfkx"
      },
      "outputs": [],
      "source": [
        "def compute_class_freqs(labels):\n",
        "\n",
        "    labels = np.array(labels)\n",
        "    N = labels.shape[0]\n",
        "\n",
        "    positive_frequencies = np.sum(labels, axis = 0) / N\n",
        "    negative_frequencies = 1 - positive_frequencies\n",
        "\n",
        "    return positive_frequencies, negative_frequencies\n",
        "\n",
        "def weighted_loss(pos_weights, neg_weights, y_pred, y_true, epsilon = 1e-7):\n",
        "    y_pred = torch.sigmoid(y_pred)\n",
        "    loss = 0.0\n",
        "    for i in range(len(pos_weights)):\n",
        "        loss_pos = -1 * torch.mean(pos_weights[i] * y_true[:,i] * torch.log(y_pred[:,i] + epsilon))\n",
        "        loss_neg = -1 * torch.mean(neg_weights[i] * (1-y_true[:,i]) * torch.log((1-y_pred[:,i]) + epsilon))\n",
        "        loss += loss_pos + loss_neg\n",
        "    return loss\n",
        "\n",
        "def train(\n",
        "    net,\n",
        "    trainloader,\n",
        "    epochs\n",
        "    ):\n",
        "    print(f'Entered train function, total num. of epochs: {epochs}')\n",
        "    # ToDo: Class weights should be different for each client\n",
        "    freq_pos, freq_neg = compute_class_freqs(all_xray_df.iloc[:,-1])    \n",
        "    pos_weights = freq_neg\n",
        "    neg_weights = freq_pos\n",
        "\n",
        "    valid_loss_min = np.Inf\n",
        "    optimizer = torch.optim.Adam(\n",
        "        net.parameters(),\n",
        "        lr = 1e-4\n",
        "        )\n",
        "    start_time = time.time()\n",
        "    for i in range(epochs):\n",
        "        train_loss = 0.0\n",
        "        valid_loss = 0.0\n",
        "        train_acc = 0.0\n",
        "        valid_acc = 0.0 \n",
        "        net.train()\n",
        "        for j, (images, labels) in enumerate(trainloader):\n",
        "            images = images.to(DEVICE)\n",
        "            labels = labels.to(DEVICE)\n",
        "            ps = net(images)\n",
        "            \n",
        "            loss = weighted_loss(pos_weights, neg_weights, ps, labels)\n",
        "\n",
        "            optimizer.zero_grad()\n",
        "            loss.backward()\n",
        "            optimizer.step()\n",
        "            train_loss += loss.item()\n",
        "        avg_train_loss = train_loss / len(trainloader)\n",
        "        print(\"Epoch : {} Train Loss : {:.6f} \".format(i+1,avg_train_loss))\n",
        "    end_time = time.time()\n",
        "    time_delta = end_time - start_time\n",
        "    print('\\n')\n",
        "    print(f'Time to complete local training round: {time_delta}')\n",
        "    print('\\n')\n",
        "\n",
        "def test(net, testloader, pathology_list):\n",
        "    \n",
        "    # ToDo: Class weights should be different for each client\n",
        "    freq_pos, freq_neg = compute_class_freqs(all_xray_df.iloc[:,-1])    \n",
        "    pos_weights = freq_neg\n",
        "    neg_weights = freq_pos\n",
        "\n",
        "    per_class_accuracy = [0 for i in range(len(pathology_list))]\n",
        "    total = 0.0\n",
        "    loss = 0.0\n",
        "    with torch.no_grad():\n",
        "        for images,labels in testloader:\n",
        "            ps = net(images.to(DEVICE))\n",
        "            labels = labels.to(DEVICE)\n",
        "            loss += weighted_loss( pos_weights, neg_weights, ps, labels)\n",
        "            ps = (ps >= 0.5).float()\n",
        "\n",
        "            for i in range(ps.shape[1]):\n",
        "                x1 = ps[:,i:i+1]\n",
        "                x2 = labels[:,i:i+1]\n",
        "                per_class_accuracy[i] += int((x1 == x2).sum())\n",
        "\n",
        "        per_class_accuracy = [(i/len(testloader.dataset)) * 100.0 for i in per_class_accuracy]\n",
        "\n",
        "    return loss, np.mean(per_class_accuracy)\n",
        "\n",
        "def get_acc_data(\n",
        "    class_names,\n",
        "    acc_list\n",
        "    ):\n",
        "    df = pd.DataFrame(list(zip(class_names, acc_list)), columns =['Labels', 'Class Acc.']) \n",
        "    return df"
      ]
    },
    {
      "cell_type": "code",
      "execution_count": 55,
      "metadata": {
        "id": "FfVrX3hA6kqX"
      },
      "outputs": [],
      "source": [
        "def server_eval(\n",
        "    server_round: int,\n",
        "    parameters: fl.common.NDArrays, \n",
        "    config: Dict[str, fl.common.Scalar]\n",
        "    ):\n",
        "    # ToDo: Class weights should be different for each client\n",
        "    freq_pos, freq_neg = compute_class_freqs(all_xray_df.iloc[:,-1])    \n",
        "    pos_weights = freq_neg\n",
        "    neg_weights = freq_pos\n",
        "\n",
        "    net = init_net().to(DEVICE)\n",
        "\n",
        "    set_parameters(net, parameters)  # Update model with the latest parameters\n",
        "\n",
        "    per_class_accuracy = [0 for i in range(len(all_labels))]\n",
        "    total = 0.0\n",
        "    loss = 0.0\n",
        "    with torch.no_grad():\n",
        "        for images,labels in testloader:\n",
        "          \n",
        "            ps = net(images.to(DEVICE))\n",
        "            labels = labels.to(DEVICE)\n",
        "            ps = torch.sigmoid(ps)\n",
        "            ps = (ps >= 0.5).float()\n",
        "            loss += weighted_loss( pos_weights, neg_weights, ps, labels)\n",
        "\n",
        "            for i in range(ps.shape[1]):\n",
        "                x1 = ps[:,i:i+1]\n",
        "                x2 = labels[:,i:i+1]\n",
        "                per_class_accuracy[i] += int((x1 == x2).sum())\n",
        "\n",
        "        per_class_accuracy = [(i/len(testloader.dataset))*100.0 for i in per_class_accuracy]\n",
        "\n",
        "    test_df = get_acc_data(all_labels, per_class_accuracy)\n",
        "    print('\\nServer eval')\n",
        "    print(test_df)\n",
        "    print('\\n')\n",
        "\n",
        "    return loss,  {\"mean_class_acc.\": np.mean(per_class_accuracy)}"
      ]
    },
    {
      "cell_type": "markdown",
      "metadata": {
        "id": "kZByeD1upefu"
      },
      "source": [
        "## Training"
      ]
    },
    {
      "cell_type": "code",
      "source": [
        "from random import sample\n",
        "def init_net():\n",
        "  # net = models.vgg11(\n",
        "  #   weights=\"IMAGENET1K_V1\"\n",
        "  # )\n",
        "  # net.classifier[-1] = torch.nn.Linear(\n",
        "  #     net.classifier[-1].in_features,\n",
        "  #     len(all_labels)\n",
        "  # )\n",
        "  net = models.resnet18(\n",
        "    weights=\"IMAGENET1K_V1\"\n",
        "  )\n",
        "  net.fc = torch.nn.Linear(\n",
        "      net.fc.in_features,\n",
        "      len(all_labels)\n",
        "  )\n",
        "  return net\n",
        "\n",
        "available_regions = ['westcentralus', 'ukwest', 'uksouth', 'westeurope', 'westus', 'australiacentral', 'australiaeast', 'swedencentral', 'norwaywest', 'norwayeast', 'northeurope', 'centralus', 'francesouth', 'francecentral']\n",
        "regions = [sample(available_regions, 1)[0] for i in range(0, num_clients)]\n",
        "\n",
        "def client_fn(cid: str) -> FlowerClient:\n",
        "    \"\"\"Create a Flower client representing a single organization.\"\"\"\n",
        "\n",
        "    # Load model\n",
        "    net = init_net().to(DEVICE)\n",
        "    trainloader = trainloaders[int(cid)]\n",
        "    valloader = valloaders[int(cid)]\n",
        "    print(f'Created client: {cid}')\n",
        "\n",
        "    return FlowerClient(net, trainloader, valloader, regions[int(cid)])"
      ],
      "metadata": {
        "id": "S5l-5slg58Nf"
      },
      "execution_count": 56,
      "outputs": []
    },
    {
      "cell_type": "markdown",
      "metadata": {
        "id": "esohU8khStKD"
      },
      "source": [
        "### 35 local epochs take approx 15min. on A100 for each client and 30 local epochs on Tesla T4 "
      ]
    },
    {
      "cell_type": "code",
      "execution_count": 57,
      "metadata": {
        "colab": {
          "base_uri": "https://localhost:8080/",
          "height": 1000
        },
        "id": "ZNEdoe3uSumm",
        "outputId": "bd681187-010a-4848-c4c0-62fd34030869"
      },
      "outputs": [
        {
          "output_type": "stream",
          "name": "stderr",
          "text": [
            "INFO flower 2022-10-23 00:40:38,640 | app.py:145 | Starting Flower simulation, config: ServerConfig(num_rounds=3, round_timeout=None)\n",
            "INFO:flower:Starting Flower simulation, config: ServerConfig(num_rounds=3, round_timeout=None)\n",
            "INFO flower 2022-10-23 00:40:43,384 | app.py:179 | Flower VCE: Ray initialized with resources: {'node:172.28.0.2': 1.0, 'object_store_memory': 16326868992.0, 'accelerator_type:T4': 1.0, 'memory': 32653737984.0, 'CPU': 8.0, 'GPU': 1.0}\n",
            "INFO:flower:Flower VCE: Ray initialized with resources: {'node:172.28.0.2': 1.0, 'object_store_memory': 16326868992.0, 'accelerator_type:T4': 1.0, 'memory': 32653737984.0, 'CPU': 8.0, 'GPU': 1.0}\n",
            "INFO flower 2022-10-23 00:40:43,388 | server.py:86 | Initializing global parameters\n",
            "INFO:flower:Initializing global parameters\n",
            "INFO flower 2022-10-23 00:40:43,391 | server.py:266 | Using initial parameters provided by strategy\n",
            "INFO:flower:Using initial parameters provided by strategy\n",
            "INFO flower 2022-10-23 00:40:43,393 | server.py:88 | Evaluating initial parameters\n",
            "INFO:flower:Evaluating initial parameters\n",
            "INFO flower 2022-10-23 00:40:43,399 | server.py:101 | FL starting\n",
            "INFO:flower:FL starting\n"
          ]
        },
        {
          "output_type": "stream",
          "name": "stdout",
          "text": [
            "\u001b[2m\u001b[36m(launch_and_get_properties pid=5459)\u001b[0m Created client: 0\n",
            "\u001b[2m\u001b[36m(launch_and_get_properties pid=5518)\u001b[0m Created client: 1\n",
            "\u001b[2m\u001b[36m(launch_and_get_properties pid=5577)\u001b[0m Created client: 2\n",
            "\u001b[2m\u001b[36m(launch_and_get_properties pid=5634)\u001b[0m Created client: 3\n",
            "\u001b[2m\u001b[36m(launch_and_get_properties pid=5693)\u001b[0m Created client: 4\n",
            "\u001b[2m\u001b[36m(launch_and_get_properties pid=5751)\u001b[0m Created client: 5\n",
            "\u001b[2m\u001b[36m(launch_and_get_properties pid=5810)\u001b[0m Created client: 6\n",
            "\u001b[2m\u001b[36m(launch_and_get_properties pid=5867)\u001b[0m Created client: 7\n",
            "\u001b[2m\u001b[36m(launch_and_get_properties pid=5926)\u001b[0m Created client: 8\n",
            "\u001b[2m\u001b[36m(launch_and_get_properties pid=5985)\u001b[0m Created client: 9\n",
            "\u001b[2m\u001b[36m(launch_and_get_properties pid=6044)\u001b[0m Created client: 10\n",
            "\u001b[2m\u001b[36m(launch_and_get_properties pid=6101)\u001b[0m Created client: 11\n",
            "\u001b[2m\u001b[36m(launch_and_get_properties pid=6160)\u001b[0m Created client: 12\n",
            "\u001b[2m\u001b[36m(launch_and_get_properties pid=6219)\u001b[0m Created client: 13\n",
            "\u001b[2m\u001b[36m(launch_and_get_properties pid=6277)\u001b[0m Created client: 14\n",
            "\u001b[2m\u001b[36m(launch_and_get_properties pid=6336)\u001b[0m Created client: 15\n",
            "\u001b[2m\u001b[36m(launch_and_get_properties pid=6393)\u001b[0m Created client: 16\n",
            "\u001b[2m\u001b[36m(launch_and_get_properties pid=6452)\u001b[0m Created client: 17\n",
            "\u001b[2m\u001b[36m(launch_and_get_properties pid=6509)\u001b[0m Created client: 18\n",
            "\u001b[2m\u001b[36m(launch_and_get_properties pid=6568)\u001b[0m Created client: 19\n",
            "\u001b[2m\u001b[36m(launch_and_get_properties pid=6627)\u001b[0m Created client: 20\n",
            "\u001b[2m\u001b[36m(launch_and_get_properties pid=6686)\u001b[0m Created client: 21\n",
            "\u001b[2m\u001b[36m(launch_and_get_properties pid=6743)\u001b[0m Created client: 22\n",
            "\u001b[2m\u001b[36m(launch_and_get_properties pid=6803)\u001b[0m Created client: 23\n",
            "\u001b[2m\u001b[36m(launch_and_get_properties pid=6860)\u001b[0m Created client: 24\n",
            "\u001b[2m\u001b[36m(launch_and_get_properties pid=6919)\u001b[0m Created client: 25\n",
            "\u001b[2m\u001b[36m(launch_and_get_properties pid=6976)\u001b[0m Created client: 26\n",
            "\u001b[2m\u001b[36m(launch_and_get_properties pid=7035)\u001b[0m Created client: 27\n",
            "\u001b[2m\u001b[36m(launch_and_get_properties pid=7092)\u001b[0m Created client: 28\n",
            "\u001b[2m\u001b[36m(launch_and_get_properties pid=7151)\u001b[0m Created client: 29\n",
            "\u001b[2m\u001b[36m(launch_and_get_properties pid=7208)\u001b[0m Created client: 30\n",
            "\u001b[2m\u001b[36m(launch_and_get_properties pid=7269)\u001b[0m Created client: 31\n",
            "\u001b[2m\u001b[36m(launch_and_get_properties pid=7327)\u001b[0m Created client: 32\n",
            "\u001b[2m\u001b[36m(launch_and_get_properties pid=7386)\u001b[0m Created client: 33\n",
            "\u001b[2m\u001b[36m(launch_and_get_properties pid=7443)\u001b[0m Created client: 34\n",
            "\u001b[2m\u001b[36m(launch_and_get_properties pid=7502)\u001b[0m Created client: 35\n",
            "\u001b[2m\u001b[36m(launch_and_get_properties pid=7559)\u001b[0m Created client: 36\n",
            "\u001b[2m\u001b[36m(launch_and_get_properties pid=7618)\u001b[0m Created client: 37\n",
            "\u001b[2m\u001b[36m(launch_and_get_properties pid=7675)\u001b[0m Created client: 38\n",
            "\u001b[2m\u001b[36m(launch_and_get_properties pid=7734)\u001b[0m Created client: 39\n",
            "\u001b[2m\u001b[36m(launch_and_get_properties pid=7791)\u001b[0m Created client: 40\n",
            "\u001b[2m\u001b[36m(launch_and_get_properties pid=7850)\u001b[0m Created client: 41\n",
            "\u001b[2m\u001b[36m(launch_and_get_properties pid=7912)\u001b[0m Created client: 42\n",
            "\u001b[2m\u001b[36m(launch_and_get_properties pid=7969)\u001b[0m Created client: 43\n",
            "\u001b[2m\u001b[36m(launch_and_get_properties pid=8028)\u001b[0m Created client: 44\n",
            "\u001b[2m\u001b[36m(launch_and_get_properties pid=8085)\u001b[0m Created client: 45\n",
            "\u001b[2m\u001b[36m(launch_and_get_properties pid=8144)\u001b[0m Created client: 46\n",
            "\u001b[2m\u001b[36m(launch_and_get_properties pid=8201)\u001b[0m Created client: 47\n",
            "\u001b[2m\u001b[36m(launch_and_get_properties pid=8260)\u001b[0m Created client: 48\n",
            "\u001b[2m\u001b[36m(launch_and_get_properties pid=8317)\u001b[0m Created client: 49\n",
            "\u001b[2m\u001b[36m(launch_and_get_properties pid=8376)\u001b[0m Created client: 50\n",
            "\u001b[2m\u001b[36m(launch_and_get_properties pid=8434)\u001b[0m Created client: 51\n",
            "\u001b[2m\u001b[36m(launch_and_get_properties pid=8493)\u001b[0m Created client: 52\n",
            "\u001b[2m\u001b[36m(launch_and_get_properties pid=8552)\u001b[0m Created client: 53\n",
            "\u001b[2m\u001b[36m(launch_and_get_properties pid=8611)\u001b[0m Created client: 54\n",
            "\u001b[2m\u001b[36m(launch_and_get_properties pid=8668)\u001b[0m Created client: 55\n",
            "\u001b[2m\u001b[36m(launch_and_get_properties pid=8727)\u001b[0m Created client: 56\n",
            "\u001b[2m\u001b[36m(launch_and_get_properties pid=8784)\u001b[0m Created client: 57\n",
            "\u001b[2m\u001b[36m(launch_and_get_properties pid=8843)\u001b[0m Created client: 58\n",
            "\u001b[2m\u001b[36m(launch_and_get_properties pid=8900)\u001b[0m Created client: 59\n",
            "\u001b[2m\u001b[36m(launch_and_get_properties pid=8960)\u001b[0m Created client: 60\n",
            "\u001b[2m\u001b[36m(launch_and_get_properties pid=9017)\u001b[0m Created client: 61\n",
            "\u001b[2m\u001b[36m(launch_and_get_properties pid=9076)\u001b[0m Created client: 62\n",
            "\u001b[2m\u001b[36m(launch_and_get_properties pid=9133)\u001b[0m Created client: 63\n",
            "\u001b[2m\u001b[36m(launch_and_get_properties pid=9194)\u001b[0m Created client: 64\n",
            "\u001b[2m\u001b[36m(launch_and_get_properties pid=9251)\u001b[0m Created client: 65\n",
            "\u001b[2m\u001b[36m(launch_and_get_properties pid=9310)\u001b[0m Created client: 66\n",
            "\u001b[2m\u001b[36m(launch_and_get_properties pid=9367)\u001b[0m Created client: 67\n",
            "\u001b[2m\u001b[36m(launch_and_get_properties pid=9426)\u001b[0m Created client: 68\n",
            "\u001b[2m\u001b[36m(launch_and_get_properties pid=9483)\u001b[0m Created client: 69\n",
            "\u001b[2m\u001b[36m(launch_and_get_properties pid=9543)\u001b[0m Created client: 70\n",
            "\u001b[2m\u001b[36m(launch_and_get_properties pid=9602)\u001b[0m Created client: 71\n",
            "\u001b[2m\u001b[36m(launch_and_get_properties pid=9659)\u001b[0m Created client: 72\n",
            "\u001b[2m\u001b[36m(launch_and_get_properties pid=9718)\u001b[0m Created client: 73\n",
            "\u001b[2m\u001b[36m(launch_and_get_properties pid=9775)\u001b[0m Created client: 74\n",
            "\u001b[2m\u001b[36m(launch_and_get_properties pid=9834)\u001b[0m Created client: 75\n",
            "\u001b[2m\u001b[36m(launch_and_get_properties pid=9891)\u001b[0m Created client: 76\n",
            "\u001b[2m\u001b[36m(launch_and_get_properties pid=9948)\u001b[0m Created client: 77\n",
            "\u001b[2m\u001b[36m(launch_and_get_properties pid=10005)\u001b[0m Created client: 78\n",
            "\u001b[2m\u001b[36m(launch_and_get_properties pid=10062)\u001b[0m Created client: 79\n",
            "\u001b[2m\u001b[36m(launch_and_get_properties pid=10120)\u001b[0m Created client: 80\n",
            "\u001b[2m\u001b[36m(launch_and_get_properties pid=10177)\u001b[0m Created client: 81\n",
            "\u001b[2m\u001b[36m(launch_and_get_properties pid=10234)\u001b[0m Created client: 82\n",
            "\u001b[2m\u001b[36m(launch_and_get_properties pid=10291)\u001b[0m Created client: 83\n",
            "\u001b[2m\u001b[36m(launch_and_get_properties pid=10348)\u001b[0m Created client: 84\n",
            "\u001b[2m\u001b[36m(launch_and_get_properties pid=10405)\u001b[0m Created client: 85\n",
            "\u001b[2m\u001b[36m(launch_and_get_properties pid=10464)\u001b[0m Created client: 86\n",
            "\u001b[2m\u001b[36m(launch_and_get_properties pid=10523)\u001b[0m Created client: 87\n",
            "\u001b[2m\u001b[36m(launch_and_get_properties pid=10580)\u001b[0m Created client: 88\n",
            "\u001b[2m\u001b[36m(launch_and_get_properties pid=10639)\u001b[0m Created client: 89\n",
            "\u001b[2m\u001b[36m(launch_and_get_properties pid=10697)\u001b[0m Created client: 90\n",
            "\u001b[2m\u001b[36m(launch_and_get_properties pid=10756)\u001b[0m Created client: 91\n",
            "\u001b[2m\u001b[36m(launch_and_get_properties pid=10813)\u001b[0m Created client: 92\n",
            "\u001b[2m\u001b[36m(launch_and_get_properties pid=10870)\u001b[0m Created client: 93\n",
            "\u001b[2m\u001b[36m(launch_and_get_properties pid=10927)\u001b[0m Created client: 94\n",
            "\u001b[2m\u001b[36m(launch_and_get_properties pid=10984)\u001b[0m Created client: 95\n",
            "\u001b[2m\u001b[36m(launch_and_get_properties pid=11041)\u001b[0m Created client: 96\n",
            "\u001b[2m\u001b[36m(launch_and_get_properties pid=11100)\u001b[0m Created client: 97\n",
            "\u001b[2m\u001b[36m(launch_and_get_properties pid=11157)\u001b[0m Created client: 98\n",
            "\u001b[2m\u001b[36m(launch_and_get_properties pid=11214)\u001b[0m Created client: 99\n"
          ]
        },
        {
          "output_type": "stream",
          "name": "stderr",
          "text": [
            "DEBUG flower 2022-10-23 00:50:12,295 | server.py:220 | fit_round 1: strategy sampled 1 clients (out of 100)\n",
            "DEBUG:flower:fit_round 1: strategy sampled 1 clients (out of 100)\n"
          ]
        },
        {
          "output_type": "stream",
          "name": "stdout",
          "text": [
            "_______________________________________________________________________\n",
            " Available Clients with their locations\n",
            "_______________________________________________________________________\n",
            "0 norwaywest\n",
            "1 westcentralus\n",
            "2 ukwest\n",
            "3 westcentralus\n",
            "4 australiaeast\n",
            "5 francecentral\n",
            "6 westcentralus\n",
            "7 westcentralus\n",
            "8 northeurope\n",
            "9 uksouth\n",
            "10 australiacentral\n",
            "11 norwayeast\n",
            "12 northeurope\n",
            "13 ukwest\n",
            "14 norwayeast\n",
            "15 norwaywest\n",
            "16 westeurope\n",
            "17 centralus\n",
            "18 norwayeast\n",
            "19 centralus\n",
            "20 westus\n",
            "21 ukwest\n",
            "22 norwayeast\n",
            "23 swedencentral\n",
            "24 westcentralus\n",
            "25 westeurope\n",
            "26 ukwest\n",
            "27 westus\n",
            "28 centralus\n",
            "29 francecentral\n",
            "30 norwaywest\n",
            "31 northeurope\n",
            "32 australiacentral\n",
            "33 norwaywest\n",
            "34 ukwest\n",
            "35 australiacentral\n",
            "36 swedencentral\n",
            "37 northeurope\n",
            "38 norwayeast\n",
            "39 ukwest\n",
            "40 francecentral\n",
            "41 westcentralus\n",
            "42 norwaywest\n",
            "43 francecentral\n",
            "44 swedencentral\n",
            "45 westeurope\n",
            "46 northeurope\n",
            "47 australiaeast\n",
            "48 swedencentral\n",
            "49 francecentral\n",
            "50 westeurope\n",
            "51 westus\n",
            "52 swedencentral\n",
            "53 westcentralus\n",
            "54 swedencentral\n",
            "55 uksouth\n",
            "56 northeurope\n",
            "57 westcentralus\n",
            "58 australiacentral\n",
            "59 francecentral\n",
            "60 uksouth\n",
            "61 ukwest\n",
            "62 westcentralus\n",
            "63 australiaeast\n",
            "64 westeurope\n",
            "65 norwaywest\n",
            "66 ukwest\n",
            "67 northeurope\n",
            "68 ukwest\n",
            "69 francecentral\n",
            "70 norwaywest\n",
            "71 australiacentral\n",
            "72 westus\n",
            "73 australiacentral\n",
            "74 westeurope\n",
            "75 norwaywest\n",
            "76 westeurope\n",
            "77 westeurope\n",
            "78 norwayeast\n",
            "79 ukwest\n",
            "80 uksouth\n",
            "81 francesouth\n",
            "82 norwayeast\n",
            "83 australiacentral\n",
            "84 northeurope\n",
            "85 norwaywest\n",
            "86 australiacentral\n",
            "87 northeurope\n",
            "88 norwayeast\n",
            "89 centralus\n",
            "90 francecentral\n",
            "91 norwaywest\n",
            "92 ukwest\n",
            "93 uksouth\n",
            "94 australiaeast\n",
            "95 francecentral\n",
            "96 westeurope\n",
            "97 norwaywest\n",
            "98 norwayeast\n",
            "99 swedencentral\n",
            "_______________________________________________________________________\n",
            " Available Clients with their participation\n",
            "_______________________________________________________________________\n",
            "0 0\n",
            "1 0\n",
            "2 0\n",
            "3 0\n",
            "4 0\n",
            "5 0\n",
            "6 0\n",
            "7 0\n",
            "8 0\n",
            "9 0\n",
            "10 0\n",
            "11 0\n",
            "12 0\n",
            "13 0\n",
            "14 0\n",
            "15 0\n",
            "16 0\n",
            "17 0\n",
            "18 0\n",
            "19 0\n",
            "20 0\n",
            "21 0\n",
            "22 0\n",
            "23 0\n",
            "24 0\n",
            "25 0\n",
            "26 0\n",
            "27 0\n",
            "28 0\n",
            "29 0\n",
            "30 0\n",
            "31 0\n",
            "32 0\n",
            "33 0\n",
            "34 0\n",
            "35 0\n",
            "36 0\n",
            "37 0\n",
            "38 0\n",
            "39 0\n",
            "40 0\n",
            "41 0\n",
            "42 0\n",
            "43 0\n",
            "44 0\n",
            "45 0\n",
            "46 0\n",
            "47 0\n",
            "48 0\n",
            "49 0\n",
            "50 0\n",
            "51 0\n",
            "52 0\n",
            "53 0\n",
            "54 0\n",
            "55 0\n",
            "56 0\n",
            "57 0\n",
            "58 0\n",
            "59 0\n",
            "60 0\n",
            "61 0\n",
            "62 0\n",
            "63 0\n",
            "64 0\n",
            "65 0\n",
            "66 0\n",
            "67 0\n",
            "68 0\n",
            "69 0\n",
            "70 0\n",
            "71 0\n",
            "72 0\n",
            "73 0\n",
            "74 0\n",
            "75 0\n",
            "76 0\n",
            "77 0\n",
            "78 0\n",
            "79 0\n",
            "80 0\n",
            "81 0\n",
            "82 0\n",
            "83 0\n",
            "84 0\n",
            "85 0\n",
            "86 0\n",
            "87 0\n",
            "88 0\n",
            "89 0\n",
            "90 0\n",
            "91 0\n",
            "92 0\n",
            "93 0\n",
            "94 0\n",
            "95 0\n",
            "96 0\n",
            "97 0\n",
            "98 0\n",
            "99 0\n",
            "_______________________________________________________________________\n",
            " selected low carbon clients\n",
            "_______________________________________________________________________\n",
            "53\n"
          ]
        },
        {
          "output_type": "stream",
          "name": "stderr",
          "text": [
            "DEBUG flower 2022-10-23 00:50:18,021 | server.py:234 | fit_round 1 received 0 results and 1 failures\n",
            "DEBUG:flower:fit_round 1 received 0 results and 1 failures\n"
          ]
        },
        {
          "output_type": "stream",
          "name": "stdout",
          "text": [
            "\u001b[2m\u001b[36m(launch_and_fit pid=11276)\u001b[0m Created client: 53\n",
            "\u001b[2m\u001b[36m(launch_and_get_properties pid=11334)\u001b[0m Created client: 0\n",
            "\u001b[2m\u001b[36m(launch_and_get_properties pid=11391)\u001b[0m Created client: 1\n",
            "\u001b[2m\u001b[36m(launch_and_get_properties pid=11448)\u001b[0m Created client: 2\n",
            "\u001b[2m\u001b[36m(launch_and_get_properties pid=11505)\u001b[0m Created client: 3\n",
            "\u001b[2m\u001b[36m(launch_and_get_properties pid=11565)\u001b[0m Created client: 4\n",
            "\u001b[2m\u001b[36m(launch_and_get_properties pid=11622)\u001b[0m Created client: 5\n",
            "\u001b[2m\u001b[36m(launch_and_get_properties pid=11679)\u001b[0m Created client: 6\n",
            "\u001b[2m\u001b[36m(launch_and_get_properties pid=11737)\u001b[0m Created client: 7\n",
            "\u001b[2m\u001b[36m(launch_and_get_properties pid=11794)\u001b[0m Created client: 8\n",
            "\u001b[2m\u001b[36m(launch_and_get_properties pid=11851)\u001b[0m Created client: 9\n",
            "\u001b[2m\u001b[36m(launch_and_get_properties pid=11908)\u001b[0m Created client: 10\n",
            "\u001b[2m\u001b[36m(launch_and_get_properties pid=11965)\u001b[0m Created client: 11\n",
            "\u001b[2m\u001b[36m(launch_and_get_properties pid=12022)\u001b[0m Created client: 12\n",
            "\u001b[2m\u001b[36m(launch_and_get_properties pid=12079)\u001b[0m Created client: 13\n",
            "\u001b[2m\u001b[36m(launch_and_get_properties pid=12138)\u001b[0m Created client: 14\n",
            "\u001b[2m\u001b[36m(launch_and_get_properties pid=12197)\u001b[0m Created client: 15\n",
            "\u001b[2m\u001b[36m(launch_and_get_properties pid=12257)\u001b[0m Created client: 16\n",
            "\u001b[2m\u001b[36m(launch_and_get_properties pid=12314)\u001b[0m Created client: 17\n"
          ]
        },
        {
          "output_type": "error",
          "ename": "KeyboardInterrupt",
          "evalue": "ignored",
          "traceback": [
            "\u001b[0;31m---------------------------------------------------------------------------\u001b[0m",
            "\u001b[0;31mKeyboardInterrupt\u001b[0m                         Traceback (most recent call last)",
            "\u001b[0;32m<ipython-input-57-1f85534dd797>\u001b[0m in \u001b[0;36m<module>\u001b[0;34m\u001b[0m\n\u001b[1;32m     41\u001b[0m     \u001b[0mclient_resources\u001b[0m\u001b[0;34m=\u001b[0m\u001b[0mclient_resources\u001b[0m\u001b[0;34m,\u001b[0m\u001b[0;34m\u001b[0m\u001b[0;34m\u001b[0m\u001b[0m\n\u001b[1;32m     42\u001b[0m     \u001b[0mclient_manager\u001b[0m\u001b[0;34m=\u001b[0m\u001b[0mLowCarb_ClientManager\u001b[0m\u001b[0;34m(\u001b[0m\u001b[0mapi_host\u001b[0m\u001b[0;34m=\u001b[0m\u001b[0;34m'https://carbon-aware-api.azurewebsites.net'\u001b[0m\u001b[0;34m,\u001b[0m \u001b[0mworkload_duration\u001b[0m\u001b[0;34m=\u001b[0m\u001b[0;36m15\u001b[0m\u001b[0;34m,\u001b[0m \u001b[0mforecast_window\u001b[0m\u001b[0;34m=\u001b[0m\u001b[0;36m12\u001b[0m\u001b[0;34m)\u001b[0m\u001b[0;34m,\u001b[0m\u001b[0;34m\u001b[0m\u001b[0;34m\u001b[0m\u001b[0m\n\u001b[0;32m---> 43\u001b[0;31m     \u001b[0mstrategy\u001b[0m\u001b[0;34m=\u001b[0m\u001b[0mstrategy\u001b[0m\u001b[0;34m,\u001b[0m\u001b[0;34m\u001b[0m\u001b[0;34m\u001b[0m\u001b[0m\n\u001b[0m\u001b[1;32m     44\u001b[0m )\n",
            "\u001b[0;32m/usr/local/lib/python3.7/dist-packages/flwr/simulation/app.py\u001b[0m in \u001b[0;36mstart_simulation\u001b[0;34m(client_fn, num_clients, clients_ids, client_resources, server, config, strategy, client_manager, ray_init_args, keep_initialised)\u001b[0m\n\u001b[1;32m    193\u001b[0m     hist = _fl(\n\u001b[1;32m    194\u001b[0m         \u001b[0mserver\u001b[0m\u001b[0;34m=\u001b[0m\u001b[0minitialized_server\u001b[0m\u001b[0;34m,\u001b[0m\u001b[0;34m\u001b[0m\u001b[0;34m\u001b[0m\u001b[0m\n\u001b[0;32m--> 195\u001b[0;31m         \u001b[0mconfig\u001b[0m\u001b[0;34m=\u001b[0m\u001b[0minitialized_config\u001b[0m\u001b[0;34m,\u001b[0m\u001b[0;34m\u001b[0m\u001b[0;34m\u001b[0m\u001b[0m\n\u001b[0m\u001b[1;32m    196\u001b[0m     )\n\u001b[1;32m    197\u001b[0m \u001b[0;34m\u001b[0m\u001b[0m\n",
            "\u001b[0;32m/usr/local/lib/python3.7/dist-packages/flwr/server/app.py\u001b[0m in \u001b[0;36m_fl\u001b[0;34m(server, config)\u001b[0m\n\u001b[1;32m    177\u001b[0m ) -> History:\n\u001b[1;32m    178\u001b[0m     \u001b[0;31m# Fit model\u001b[0m\u001b[0;34m\u001b[0m\u001b[0;34m\u001b[0m\u001b[0;34m\u001b[0m\u001b[0m\n\u001b[0;32m--> 179\u001b[0;31m     \u001b[0mhist\u001b[0m \u001b[0;34m=\u001b[0m \u001b[0mserver\u001b[0m\u001b[0;34m.\u001b[0m\u001b[0mfit\u001b[0m\u001b[0;34m(\u001b[0m\u001b[0mnum_rounds\u001b[0m\u001b[0;34m=\u001b[0m\u001b[0mconfig\u001b[0m\u001b[0;34m.\u001b[0m\u001b[0mnum_rounds\u001b[0m\u001b[0;34m,\u001b[0m \u001b[0mtimeout\u001b[0m\u001b[0;34m=\u001b[0m\u001b[0mconfig\u001b[0m\u001b[0;34m.\u001b[0m\u001b[0mround_timeout\u001b[0m\u001b[0;34m)\u001b[0m\u001b[0;34m\u001b[0m\u001b[0;34m\u001b[0m\u001b[0m\n\u001b[0m\u001b[1;32m    180\u001b[0m     \u001b[0mlog\u001b[0m\u001b[0;34m(\u001b[0m\u001b[0mINFO\u001b[0m\u001b[0;34m,\u001b[0m \u001b[0;34m\"app_fit: losses_distributed %s\"\u001b[0m\u001b[0;34m,\u001b[0m \u001b[0mstr\u001b[0m\u001b[0;34m(\u001b[0m\u001b[0mhist\u001b[0m\u001b[0;34m.\u001b[0m\u001b[0mlosses_distributed\u001b[0m\u001b[0;34m)\u001b[0m\u001b[0;34m)\u001b[0m\u001b[0;34m\u001b[0m\u001b[0;34m\u001b[0m\u001b[0m\n\u001b[1;32m    181\u001b[0m     \u001b[0mlog\u001b[0m\u001b[0;34m(\u001b[0m\u001b[0mINFO\u001b[0m\u001b[0;34m,\u001b[0m \u001b[0;34m\"app_fit: metrics_distributed %s\"\u001b[0m\u001b[0;34m,\u001b[0m \u001b[0mstr\u001b[0m\u001b[0;34m(\u001b[0m\u001b[0mhist\u001b[0m\u001b[0;34m.\u001b[0m\u001b[0mmetrics_distributed\u001b[0m\u001b[0;34m)\u001b[0m\u001b[0;34m)\u001b[0m\u001b[0;34m\u001b[0m\u001b[0;34m\u001b[0m\u001b[0m\n",
            "\u001b[0;32m/usr/local/lib/python3.7/dist-packages/flwr/server/server.py\u001b[0m in \u001b[0;36mfit\u001b[0;34m(self, num_rounds, timeout)\u001b[0m\n\u001b[1;32m    128\u001b[0m \u001b[0;34m\u001b[0m\u001b[0m\n\u001b[1;32m    129\u001b[0m             \u001b[0;31m# Evaluate model on a sample of available clients\u001b[0m\u001b[0;34m\u001b[0m\u001b[0;34m\u001b[0m\u001b[0;34m\u001b[0m\u001b[0m\n\u001b[0;32m--> 130\u001b[0;31m             \u001b[0mres_fed\u001b[0m \u001b[0;34m=\u001b[0m \u001b[0mself\u001b[0m\u001b[0;34m.\u001b[0m\u001b[0mevaluate_round\u001b[0m\u001b[0;34m(\u001b[0m\u001b[0mserver_round\u001b[0m\u001b[0;34m=\u001b[0m\u001b[0mcurrent_round\u001b[0m\u001b[0;34m,\u001b[0m \u001b[0mtimeout\u001b[0m\u001b[0;34m=\u001b[0m\u001b[0mtimeout\u001b[0m\u001b[0;34m)\u001b[0m\u001b[0;34m\u001b[0m\u001b[0;34m\u001b[0m\u001b[0m\n\u001b[0m\u001b[1;32m    131\u001b[0m             \u001b[0;32mif\u001b[0m \u001b[0mres_fed\u001b[0m\u001b[0;34m:\u001b[0m\u001b[0;34m\u001b[0m\u001b[0;34m\u001b[0m\u001b[0m\n\u001b[1;32m    132\u001b[0m                 \u001b[0mloss_fed\u001b[0m\u001b[0;34m,\u001b[0m \u001b[0mevaluate_metrics_fed\u001b[0m\u001b[0;34m,\u001b[0m \u001b[0m_\u001b[0m \u001b[0;34m=\u001b[0m \u001b[0mres_fed\u001b[0m\u001b[0;34m\u001b[0m\u001b[0;34m\u001b[0m\u001b[0m\n",
            "\u001b[0;32m/usr/local/lib/python3.7/dist-packages/flwr/server/server.py\u001b[0m in \u001b[0;36mevaluate_round\u001b[0;34m(self, server_round, timeout)\u001b[0m\n\u001b[1;32m    158\u001b[0m             \u001b[0mserver_round\u001b[0m\u001b[0;34m=\u001b[0m\u001b[0mserver_round\u001b[0m\u001b[0;34m,\u001b[0m\u001b[0;34m\u001b[0m\u001b[0;34m\u001b[0m\u001b[0m\n\u001b[1;32m    159\u001b[0m             \u001b[0mparameters\u001b[0m\u001b[0;34m=\u001b[0m\u001b[0mself\u001b[0m\u001b[0;34m.\u001b[0m\u001b[0mparameters\u001b[0m\u001b[0;34m,\u001b[0m\u001b[0;34m\u001b[0m\u001b[0;34m\u001b[0m\u001b[0m\n\u001b[0;32m--> 160\u001b[0;31m             \u001b[0mclient_manager\u001b[0m\u001b[0;34m=\u001b[0m\u001b[0mself\u001b[0m\u001b[0;34m.\u001b[0m\u001b[0m_client_manager\u001b[0m\u001b[0;34m,\u001b[0m\u001b[0;34m\u001b[0m\u001b[0;34m\u001b[0m\u001b[0m\n\u001b[0m\u001b[1;32m    161\u001b[0m         )\n\u001b[1;32m    162\u001b[0m         \u001b[0;32mif\u001b[0m \u001b[0;32mnot\u001b[0m \u001b[0mclient_instructions\u001b[0m\u001b[0;34m:\u001b[0m\u001b[0;34m\u001b[0m\u001b[0;34m\u001b[0m\u001b[0m\n",
            "\u001b[0;32m/usr/local/lib/python3.7/dist-packages/flwr/server/strategy/fedavg.py\u001b[0m in \u001b[0;36mconfigure_evaluate\u001b[0;34m(self, server_round, parameters, client_manager)\u001b[0m\n\u001b[1;32m    209\u001b[0m         )\n\u001b[1;32m    210\u001b[0m         clients = client_manager.sample(\n\u001b[0;32m--> 211\u001b[0;31m             \u001b[0mnum_clients\u001b[0m\u001b[0;34m=\u001b[0m\u001b[0msample_size\u001b[0m\u001b[0;34m,\u001b[0m \u001b[0mmin_num_clients\u001b[0m\u001b[0;34m=\u001b[0m\u001b[0mmin_num_clients\u001b[0m\u001b[0;34m\u001b[0m\u001b[0;34m\u001b[0m\u001b[0m\n\u001b[0m\u001b[1;32m    212\u001b[0m         )\n\u001b[1;32m    213\u001b[0m \u001b[0;34m\u001b[0m\u001b[0m\n",
            "\u001b[0;32m<ipython-input-28-fb74389b56af>\u001b[0m in \u001b[0;36msample\u001b[0;34m(self, num_clients, min_num_clients, criterion)\u001b[0m\n\u001b[1;32m    115\u001b[0m \u001b[0;34m\u001b[0m\u001b[0m\n\u001b[1;32m    116\u001b[0m         \u001b[0;31m# data for the strategy to select the next best clients\u001b[0m\u001b[0;34m\u001b[0m\u001b[0;34m\u001b[0m\u001b[0;34m\u001b[0m\u001b[0m\n\u001b[0;32m--> 117\u001b[0;31m         \u001b[0mclient_locations\u001b[0m \u001b[0;34m=\u001b[0m \u001b[0mself\u001b[0m\u001b[0;34m.\u001b[0m\u001b[0m_get_client_locations\u001b[0m\u001b[0;34m(\u001b[0m\u001b[0;34m)\u001b[0m\u001b[0;34m\u001b[0m\u001b[0;34m\u001b[0m\u001b[0m\n\u001b[0m\u001b[1;32m    118\u001b[0m         \u001b[0mpresent_locations\u001b[0m \u001b[0;34m=\u001b[0m \u001b[0mpd\u001b[0m\u001b[0;34m.\u001b[0m\u001b[0mSeries\u001b[0m\u001b[0;34m(\u001b[0m\u001b[0mclient_locations\u001b[0m\u001b[0;34m.\u001b[0m\u001b[0mvalues\u001b[0m\u001b[0;34m(\u001b[0m\u001b[0;34m)\u001b[0m\u001b[0;34m)\u001b[0m\u001b[0;34m.\u001b[0m\u001b[0munique\u001b[0m\u001b[0;34m(\u001b[0m\u001b[0;34m)\u001b[0m\u001b[0;34m\u001b[0m\u001b[0;34m\u001b[0m\u001b[0m\n\u001b[1;32m    119\u001b[0m         \u001b[0mforecasts\u001b[0m \u001b[0;34m=\u001b[0m \u001b[0mself\u001b[0m\u001b[0;34m.\u001b[0m\u001b[0m_get_location_forecasts\u001b[0m\u001b[0;34m(\u001b[0m\u001b[0mpresent_locations\u001b[0m\u001b[0;34m)\u001b[0m\u001b[0;34m\u001b[0m\u001b[0;34m\u001b[0m\u001b[0m\n",
            "\u001b[0;32m<ipython-input-28-fb74389b56af>\u001b[0m in \u001b[0;36m_get_client_locations\u001b[0;34m(self)\u001b[0m\n\u001b[1;32m    154\u001b[0m             \u001b[0mIns\u001b[0m\u001b[0;34m.\u001b[0m\u001b[0mconfig\u001b[0m \u001b[0;34m=\u001b[0m \u001b[0;34m{\u001b[0m\u001b[0;34m'config_value'\u001b[0m\u001b[0;34m:\u001b[0m \u001b[0;34m'config_sample_value'\u001b[0m\u001b[0;34m}\u001b[0m\u001b[0;34m\u001b[0m\u001b[0;34m\u001b[0m\u001b[0m\n\u001b[1;32m    155\u001b[0m             \u001b[0;32mtry\u001b[0m\u001b[0;34m:\u001b[0m\u001b[0;34m\u001b[0m\u001b[0;34m\u001b[0m\u001b[0m\n\u001b[0;32m--> 156\u001b[0;31m                 \u001b[0mclient_prop\u001b[0m \u001b[0;34m=\u001b[0m \u001b[0mclient\u001b[0m\u001b[0;34m.\u001b[0m\u001b[0mget_properties\u001b[0m\u001b[0;34m(\u001b[0m\u001b[0mins\u001b[0m\u001b[0;34m=\u001b[0m\u001b[0mIns\u001b[0m\u001b[0;34m,\u001b[0m \u001b[0mtimeout\u001b[0m\u001b[0;34m=\u001b[0m\u001b[0;36m500\u001b[0m\u001b[0;34m)\u001b[0m\u001b[0;34m\u001b[0m\u001b[0;34m\u001b[0m\u001b[0m\n\u001b[0m\u001b[1;32m    157\u001b[0m                 \u001b[0mclient_prop\u001b[0m\u001b[0;34m.\u001b[0m\u001b[0mproperties\u001b[0m\u001b[0;34m.\u001b[0m\u001b[0mupdate\u001b[0m\u001b[0;34m(\u001b[0m\u001b[0;34m{\u001b[0m\u001b[0;34m'cid'\u001b[0m\u001b[0;34m:\u001b[0m \u001b[0mcid\u001b[0m\u001b[0;34m}\u001b[0m\u001b[0;34m)\u001b[0m\u001b[0;34m\u001b[0m\u001b[0;34m\u001b[0m\u001b[0m\n\u001b[1;32m    158\u001b[0m                 \u001b[0mclient_props\u001b[0m\u001b[0;34m.\u001b[0m\u001b[0mappend\u001b[0m\u001b[0;34m(\u001b[0m\u001b[0mclient_prop\u001b[0m\u001b[0;34m.\u001b[0m\u001b[0mproperties\u001b[0m\u001b[0;34m)\u001b[0m\u001b[0;34m\u001b[0m\u001b[0;34m\u001b[0m\u001b[0m\n",
            "\u001b[0;32m/usr/local/lib/python3.7/dist-packages/flwr/simulation/ray_transport/ray_client_proxy.py\u001b[0m in \u001b[0;36mget_properties\u001b[0;34m(self, ins, timeout)\u001b[0m\n\u001b[1;32m     42\u001b[0m             \u001b[0;34m**\u001b[0m\u001b[0mself\u001b[0m\u001b[0;34m.\u001b[0m\u001b[0mresources\u001b[0m\u001b[0;34m,\u001b[0m\u001b[0;34m\u001b[0m\u001b[0;34m\u001b[0m\u001b[0m\n\u001b[1;32m     43\u001b[0m         ).remote(self.client_fn, self.cid, ins)\n\u001b[0;32m---> 44\u001b[0;31m         \u001b[0mres\u001b[0m \u001b[0;34m=\u001b[0m \u001b[0mray\u001b[0m\u001b[0;34m.\u001b[0m\u001b[0mworker\u001b[0m\u001b[0;34m.\u001b[0m\u001b[0mget\u001b[0m\u001b[0;34m(\u001b[0m\u001b[0mfuture_get_properties_res\u001b[0m\u001b[0;34m,\u001b[0m \u001b[0mtimeout\u001b[0m\u001b[0;34m=\u001b[0m\u001b[0mtimeout\u001b[0m\u001b[0;34m)\u001b[0m\u001b[0;34m\u001b[0m\u001b[0;34m\u001b[0m\u001b[0m\n\u001b[0m\u001b[1;32m     45\u001b[0m         return cast(\n\u001b[1;32m     46\u001b[0m             \u001b[0mcommon\u001b[0m\u001b[0;34m.\u001b[0m\u001b[0mGetPropertiesRes\u001b[0m\u001b[0;34m,\u001b[0m\u001b[0;34m\u001b[0m\u001b[0;34m\u001b[0m\u001b[0m\n",
            "\u001b[0;32m/usr/local/lib/python3.7/dist-packages/ray/_private/client_mode_hook.py\u001b[0m in \u001b[0;36mwrapper\u001b[0;34m(*args, **kwargs)\u001b[0m\n\u001b[1;32m    103\u001b[0m             \u001b[0;32mif\u001b[0m \u001b[0mfunc\u001b[0m\u001b[0;34m.\u001b[0m\u001b[0m__name__\u001b[0m \u001b[0;34m!=\u001b[0m \u001b[0;34m\"init\"\u001b[0m \u001b[0;32mor\u001b[0m \u001b[0mis_client_mode_enabled_by_default\u001b[0m\u001b[0;34m:\u001b[0m\u001b[0;34m\u001b[0m\u001b[0;34m\u001b[0m\u001b[0m\n\u001b[1;32m    104\u001b[0m                 \u001b[0;32mreturn\u001b[0m \u001b[0mgetattr\u001b[0m\u001b[0;34m(\u001b[0m\u001b[0mray\u001b[0m\u001b[0;34m,\u001b[0m \u001b[0mfunc\u001b[0m\u001b[0;34m.\u001b[0m\u001b[0m__name__\u001b[0m\u001b[0;34m)\u001b[0m\u001b[0;34m(\u001b[0m\u001b[0;34m*\u001b[0m\u001b[0margs\u001b[0m\u001b[0;34m,\u001b[0m \u001b[0;34m**\u001b[0m\u001b[0mkwargs\u001b[0m\u001b[0;34m)\u001b[0m\u001b[0;34m\u001b[0m\u001b[0;34m\u001b[0m\u001b[0m\n\u001b[0;32m--> 105\u001b[0;31m         \u001b[0;32mreturn\u001b[0m \u001b[0mfunc\u001b[0m\u001b[0;34m(\u001b[0m\u001b[0;34m*\u001b[0m\u001b[0margs\u001b[0m\u001b[0;34m,\u001b[0m \u001b[0;34m**\u001b[0m\u001b[0mkwargs\u001b[0m\u001b[0;34m)\u001b[0m\u001b[0;34m\u001b[0m\u001b[0;34m\u001b[0m\u001b[0m\n\u001b[0m\u001b[1;32m    106\u001b[0m \u001b[0;34m\u001b[0m\u001b[0m\n\u001b[1;32m    107\u001b[0m     \u001b[0;32mreturn\u001b[0m \u001b[0mwrapper\u001b[0m\u001b[0;34m\u001b[0m\u001b[0;34m\u001b[0m\u001b[0m\n",
            "\u001b[0;32m/usr/local/lib/python3.7/dist-packages/ray/worker.py\u001b[0m in \u001b[0;36mget\u001b[0;34m(object_refs, timeout)\u001b[0m\n\u001b[1;32m   1823\u001b[0m \u001b[0;34m\u001b[0m\u001b[0m\n\u001b[1;32m   1824\u001b[0m         \u001b[0;31m# TODO(ujvl): Consider how to allow user to retrieve the ready objects.\u001b[0m\u001b[0;34m\u001b[0m\u001b[0;34m\u001b[0m\u001b[0;34m\u001b[0m\u001b[0m\n\u001b[0;32m-> 1825\u001b[0;31m         \u001b[0mvalues\u001b[0m\u001b[0;34m,\u001b[0m \u001b[0mdebugger_breakpoint\u001b[0m \u001b[0;34m=\u001b[0m \u001b[0mworker\u001b[0m\u001b[0;34m.\u001b[0m\u001b[0mget_objects\u001b[0m\u001b[0;34m(\u001b[0m\u001b[0mobject_refs\u001b[0m\u001b[0;34m,\u001b[0m \u001b[0mtimeout\u001b[0m\u001b[0;34m=\u001b[0m\u001b[0mtimeout\u001b[0m\u001b[0;34m)\u001b[0m\u001b[0;34m\u001b[0m\u001b[0;34m\u001b[0m\u001b[0m\n\u001b[0m\u001b[1;32m   1826\u001b[0m         \u001b[0;32mfor\u001b[0m \u001b[0mi\u001b[0m\u001b[0;34m,\u001b[0m \u001b[0mvalue\u001b[0m \u001b[0;32min\u001b[0m \u001b[0menumerate\u001b[0m\u001b[0;34m(\u001b[0m\u001b[0mvalues\u001b[0m\u001b[0;34m)\u001b[0m\u001b[0;34m:\u001b[0m\u001b[0;34m\u001b[0m\u001b[0;34m\u001b[0m\u001b[0m\n\u001b[1;32m   1827\u001b[0m             \u001b[0;32mif\u001b[0m \u001b[0misinstance\u001b[0m\u001b[0;34m(\u001b[0m\u001b[0mvalue\u001b[0m\u001b[0;34m,\u001b[0m \u001b[0mRayError\u001b[0m\u001b[0;34m)\u001b[0m\u001b[0;34m:\u001b[0m\u001b[0;34m\u001b[0m\u001b[0;34m\u001b[0m\u001b[0m\n",
            "\u001b[0;32m/usr/local/lib/python3.7/dist-packages/ray/worker.py\u001b[0m in \u001b[0;36mget_objects\u001b[0;34m(self, object_refs, timeout)\u001b[0m\n\u001b[1;32m    363\u001b[0m         \u001b[0mtimeout_ms\u001b[0m \u001b[0;34m=\u001b[0m \u001b[0mint\u001b[0m\u001b[0;34m(\u001b[0m\u001b[0mtimeout\u001b[0m \u001b[0;34m*\u001b[0m \u001b[0;36m1000\u001b[0m\u001b[0;34m)\u001b[0m \u001b[0;32mif\u001b[0m \u001b[0mtimeout\u001b[0m \u001b[0;32melse\u001b[0m \u001b[0;34m-\u001b[0m\u001b[0;36m1\u001b[0m\u001b[0;34m\u001b[0m\u001b[0;34m\u001b[0m\u001b[0m\n\u001b[1;32m    364\u001b[0m         data_metadata_pairs = self.core_worker.get_objects(\n\u001b[0;32m--> 365\u001b[0;31m             \u001b[0mobject_refs\u001b[0m\u001b[0;34m,\u001b[0m \u001b[0mself\u001b[0m\u001b[0;34m.\u001b[0m\u001b[0mcurrent_task_id\u001b[0m\u001b[0;34m,\u001b[0m \u001b[0mtimeout_ms\u001b[0m\u001b[0;34m\u001b[0m\u001b[0;34m\u001b[0m\u001b[0m\n\u001b[0m\u001b[1;32m    366\u001b[0m         )\n\u001b[1;32m    367\u001b[0m         \u001b[0mdebugger_breakpoint\u001b[0m \u001b[0;34m=\u001b[0m \u001b[0;34mb\"\"\u001b[0m\u001b[0;34m\u001b[0m\u001b[0;34m\u001b[0m\u001b[0m\n",
            "\u001b[0;32mpython/ray/_raylet.pyx\u001b[0m in \u001b[0;36mray._raylet.CoreWorker.get_objects\u001b[0;34m()\u001b[0m\n",
            "\u001b[0;32mpython/ray/_raylet.pyx\u001b[0m in \u001b[0;36mray._raylet.check_status\u001b[0;34m()\u001b[0m\n",
            "\u001b[0;31mKeyboardInterrupt\u001b[0m: "
          ]
        }
      ],
      "source": [
        "num_rounds = 3\n",
        "local_epochs = 3\n",
        "fraction_fit = 0.01\n",
        "fraction_evaluate = 0.01\n",
        "min_fit_clients = 1\n",
        "min_evaluate_clients = 1\n",
        "\n",
        "client_resources = {\n",
        "    \"num_cpus\": 1,\n",
        "    \"num_gpus\": 1\n",
        "    }\n",
        "\n",
        "def fit_config(server_round: int):    \n",
        "    config = {\n",
        "        \"server_round\": server_round,\n",
        "        \"local_epochs\": local_epochs,\n",
        "    }\n",
        "    return config\n",
        "\n",
        "# Create an instance of the model and get the parameters\n",
        "net = init_net()\n",
        "params = get_parameters(init_net())\n",
        "\n",
        "# Pass parameters to the Strategy for server-side parameter initialization\n",
        "strategy = fl.server.strategy.FedAvg(\n",
        "    fraction_fit=fraction_fit,\n",
        "    fraction_evaluate=fraction_evaluate,\n",
        "    min_fit_clients=min_fit_clients,\n",
        "    min_evaluate_clients=min_evaluate_clients,\n",
        "    min_available_clients=num_clients,\n",
        "    initial_parameters=fl.common.ndarrays_to_parameters(params),\n",
        "    # evaluate_fn=server_eval,\n",
        "    on_fit_config_fn=fit_config,\n",
        ")\n",
        "\n",
        "# Start simulation\n",
        "fl.simulation.start_simulation(\n",
        "    client_fn=client_fn,\n",
        "    num_clients=num_clients,\n",
        "    config=fl.server.ServerConfig(num_rounds=num_rounds),\n",
        "    client_resources=client_resources,\n",
        "    client_manager=LowCarb_ClientManager(api_host='https://carbon-aware-api.azurewebsites.net', workload_duration=15, forecast_window=12),\n",
        "    strategy=strategy,\n",
        ")"
      ]
    },
    {
      "cell_type": "code",
      "source": [],
      "metadata": {
        "id": "lI1gXFV1OFcR"
      },
      "execution_count": null,
      "outputs": []
    }
  ],
  "metadata": {
    "accelerator": "GPU",
    "colab": {
      "collapsed_sections": [],
      "machine_shape": "hm",
      "provenance": []
    },
    "gpuClass": "premium",
    "kernelspec": {
      "display_name": "Python 3",
      "name": "python3"
    },
    "language_info": {
      "name": "python"
    }
  },
  "nbformat": 4,
  "nbformat_minor": 0
}