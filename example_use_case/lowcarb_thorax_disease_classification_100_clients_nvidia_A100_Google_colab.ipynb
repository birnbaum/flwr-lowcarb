{
  "cells": [
    {
      "cell_type": "markdown",
      "metadata": {
        "id": "FLU2v46A66u2"
      },
      "source": [
        "# LowCarb thorax disease classification in Flower"
      ]
    },
    {
      "cell_type": "markdown",
      "metadata": {
        "id": "vHtLCCz2NWC3"
      },
      "source": [
        "## Check GPU availability"
      ]
    },
    {
      "cell_type": "code",
      "execution_count": 1,
      "metadata": {
        "colab": {
          "base_uri": "https://localhost:8080/"
        },
        "id": "4mKwZQyyLwUv",
        "outputId": "752a3fc7-0a72-4449-e254-4f8ea9d175d1"
      },
      "outputs": [
        {
          "name": "stdout",
          "output_type": "stream",
          "text": [
            "Thu Oct 20 17:06:47 2022       \n",
            "+-----------------------------------------------------------------------------+\n",
            "| NVIDIA-SMI 460.32.03    Driver Version: 460.32.03    CUDA Version: 11.2     |\n",
            "|-------------------------------+----------------------+----------------------+\n",
            "| GPU  Name        Persistence-M| Bus-Id        Disp.A | Volatile Uncorr. ECC |\n",
            "| Fan  Temp  Perf  Pwr:Usage/Cap|         Memory-Usage | GPU-Util  Compute M. |\n",
            "|                               |                      |               MIG M. |\n",
            "|===============================+======================+======================|\n",
            "|   0  A100-SXM4-40GB      Off  | 00000000:00:04.0 Off |                    0 |\n",
            "| N/A   29C    P0    55W / 400W |      0MiB / 40536MiB |      0%      Default |\n",
            "|                               |                      |             Disabled |\n",
            "+-------------------------------+----------------------+----------------------+\n",
            "                                                                               \n",
            "+-----------------------------------------------------------------------------+\n",
            "| Processes:                                                                  |\n",
            "|  GPU   GI   CI        PID   Type   Process name                  GPU Memory |\n",
            "|        ID   ID                                                   Usage      |\n",
            "|=============================================================================|\n",
            "|  No running processes found                                                 |\n",
            "+-----------------------------------------------------------------------------+\n"
          ]
        }
      ],
      "source": [
        "gpu_info = !nvidia-smi\n",
        "gpu_info = '\\n'.join(gpu_info)\n",
        "if gpu_info.find('failed') >= 0:\n",
        "  print('Not connected to a GPU')\n",
        "else:\n",
        "  print(gpu_info)"
      ]
    },
    {
      "cell_type": "markdown",
      "metadata": {
        "id": "mtoyp-b2NYIe"
      },
      "source": [
        "## Create dirs, get data "
      ]
    },
    {
      "cell_type": "code",
      "execution_count": 2,
      "metadata": {
        "id": "7fODONtR3CgP"
      },
      "outputs": [],
      "source": [
        "# !mkdir NIH\n",
        "# !mkdir /root/.kaggle/"
      ]
    },
    {
      "cell_type": "markdown",
      "metadata": {
        "id": "NmJd_Jb62xQt"
      },
      "source": [
        "### Copy Kaggle API-key to created directory at '/root/.kaggle'"
      ]
    },
    {
      "cell_type": "code",
      "execution_count": 3,
      "metadata": {
        "id": "vgDZ9Zbqmn9E"
      },
      "outputs": [],
      "source": [
        "# !cp '/content/drive/MyDrive/professional/Research_Jobs/UMI/projects/APIs/kaggle.json' '/root/.kaggle'"
      ]
    },
    {
      "cell_type": "code",
      "execution_count": 4,
      "metadata": {
        "colab": {
          "base_uri": "https://localhost:8080/"
        },
        "id": "ZWLdG0c35F5v",
        "outputId": "174ac7d5-0ee5-4f55-d056-5acbfdbfee88"
      },
      "outputs": [
        {
          "name": "stdout",
          "output_type": "stream",
          "text": [
            "Downloading data.zip to /content\n",
            "100% 42.0G/42.0G [02:56<00:00, 350MB/s]\n",
            "100% 42.0G/42.0G [02:56<00:00, 255MB/s]\n"
          ]
        }
      ],
      "source": [
        "# !kaggle datasets download -d nih-chest-xrays/data"
      ]
    },
    {
      "cell_type": "code",
      "execution_count": 5,
      "metadata": {
        "id": "Q9vB9RBo3GWB"
      },
      "outputs": [],
      "source": [
        "# !unzip -q '/content/data.zip' -d '/content/NIH/'"
      ]
    },
    {
      "cell_type": "markdown",
      "metadata": {
        "id": "8CowQiKO63e8"
      },
      "source": [
        "## Install packages"
      ]
    },
    {
      "cell_type": "code",
      "execution_count": 6,
      "metadata": {
        "colab": {
          "base_uri": "https://localhost:8080/",
          "height": 1000
        },
        "id": "lHXOfCIZ6vey",
        "outputId": "eb45fcd6-dc80-4bc1-b39b-cf32bbd4c08b"
      },
      "outputs": [
        {
          "name": "stdout",
          "output_type": "stream",
          "text": [
            "Looking in indexes: https://pypi.org/simple, https://us-python.pkg.dev/colab-wheels/public/simple/\n",
            "Collecting flwr[simulation]\n",
            "  Downloading flwr-1.0.0-py3-none-any.whl (90 kB)\n",
            "\u001b[K     |████████████████████████████████| 90 kB 3.8 MB/s \n",
            "\u001b[?25hRequirement already satisfied: importlib-metadata<5.0.0,>=4.0.0 in /usr/local/lib/python3.7/dist-packages (from flwr[simulation]) (4.13.0)\n",
            "Collecting iterators<0.0.3,>=0.0.2\n",
            "  Downloading iterators-0.0.2-py3-none-any.whl (3.9 kB)\n",
            "Requirement already satisfied: grpcio<2.0.0,>=1.43.0 in /usr/local/lib/python3.7/dist-packages (from flwr[simulation]) (1.49.1)\n",
            "Requirement already satisfied: numpy<2.0.0,>=1.21.0 in /usr/local/lib/python3.7/dist-packages (from flwr[simulation]) (1.21.6)\n",
            "Collecting protobuf<4.0.0,>=3.19.0\n",
            "  Downloading protobuf-3.20.3-cp37-cp37m-manylinux_2_5_x86_64.manylinux1_x86_64.whl (1.0 MB)\n",
            "\u001b[K     |████████████████████████████████| 1.0 MB 28.6 MB/s \n",
            "\u001b[?25hCollecting ray[default]<1.14.0,>=1.13.0\n",
            "  Downloading ray-1.13.0-cp37-cp37m-manylinux2014_x86_64.whl (54.5 MB)\n",
            "\u001b[K     |████████████████████████████████| 54.5 MB 244 kB/s \n",
            "\u001b[?25hRequirement already satisfied: six>=1.5.2 in /usr/local/lib/python3.7/dist-packages (from grpcio<2.0.0,>=1.43.0->flwr[simulation]) (1.15.0)\n",
            "Requirement already satisfied: zipp>=0.5 in /usr/local/lib/python3.7/dist-packages (from importlib-metadata<5.0.0,>=4.0.0->flwr[simulation]) (3.9.0)\n",
            "Requirement already satisfied: typing-extensions>=3.6.4 in /usr/local/lib/python3.7/dist-packages (from importlib-metadata<5.0.0,>=4.0.0->flwr[simulation]) (4.1.1)\n",
            "Requirement already satisfied: requests in /usr/local/lib/python3.7/dist-packages (from ray[default]<1.14.0,>=1.13.0->flwr[simulation]) (2.23.0)\n",
            "Collecting virtualenv\n",
            "  Downloading virtualenv-20.16.5-py3-none-any.whl (8.8 MB)\n",
            "\u001b[K     |████████████████████████████████| 8.8 MB 38.1 MB/s \n",
            "\u001b[?25hRequirement already satisfied: msgpack<2.0.0,>=1.0.0 in /usr/local/lib/python3.7/dist-packages (from ray[default]<1.14.0,>=1.13.0->flwr[simulation]) (1.0.4)\n",
            "Requirement already satisfied: frozenlist in /usr/local/lib/python3.7/dist-packages (from ray[default]<1.14.0,>=1.13.0->flwr[simulation]) (1.3.1)\n",
            "Requirement already satisfied: jsonschema in /usr/local/lib/python3.7/dist-packages (from ray[default]<1.14.0,>=1.13.0->flwr[simulation]) (4.3.3)\n",
            "Requirement already satisfied: attrs in /usr/local/lib/python3.7/dist-packages (from ray[default]<1.14.0,>=1.13.0->flwr[simulation]) (22.1.0)\n",
            "Requirement already satisfied: click<=8.0.4,>=7.0 in /usr/local/lib/python3.7/dist-packages (from ray[default]<1.14.0,>=1.13.0->flwr[simulation]) (7.1.2)\n",
            "Collecting grpcio<2.0.0,>=1.43.0\n",
            "  Downloading grpcio-1.43.0-cp37-cp37m-manylinux_2_17_x86_64.manylinux2014_x86_64.whl (4.1 MB)\n",
            "\u001b[K     |████████████████████████████████| 4.1 MB 67.7 MB/s \n",
            "\u001b[?25hRequirement already satisfied: pyyaml in /usr/local/lib/python3.7/dist-packages (from ray[default]<1.14.0,>=1.13.0->flwr[simulation]) (6.0)\n",
            "Requirement already satisfied: aiosignal in /usr/local/lib/python3.7/dist-packages (from ray[default]<1.14.0,>=1.13.0->flwr[simulation]) (1.2.0)\n",
            "Requirement already satisfied: filelock in /usr/local/lib/python3.7/dist-packages (from ray[default]<1.14.0,>=1.13.0->flwr[simulation]) (3.8.0)\n",
            "Requirement already satisfied: aiohttp>=3.7 in /usr/local/lib/python3.7/dist-packages (from ray[default]<1.14.0,>=1.13.0->flwr[simulation]) (3.8.3)\n",
            "Collecting prometheus-client<0.14.0,>=0.7.1\n",
            "  Downloading prometheus_client-0.13.1-py3-none-any.whl (57 kB)\n",
            "\u001b[K     |████████████████████████████████| 57 kB 6.1 MB/s \n",
            "\u001b[?25hCollecting aiohttp-cors\n",
            "  Downloading aiohttp_cors-0.7.0-py3-none-any.whl (27 kB)\n",
            "Collecting gpustat>=1.0.0b1\n",
            "  Downloading gpustat-1.0.0.tar.gz (90 kB)\n",
            "\u001b[K     |████████████████████████████████| 90 kB 12.5 MB/s \n",
            "\u001b[?25hCollecting opencensus\n",
            "  Downloading opencensus-0.11.0-py2.py3-none-any.whl (128 kB)\n",
            "\u001b[K     |████████████████████████████████| 128 kB 76.3 MB/s \n",
            "\u001b[?25hCollecting py-spy>=0.2.0\n",
            "  Downloading py_spy-0.3.14-py2.py3-none-manylinux_2_5_x86_64.manylinux1_x86_64.whl (3.0 MB)\n",
            "\u001b[K     |████████████████████████████████| 3.0 MB 63.1 MB/s \n",
            "\u001b[?25hCollecting colorful\n",
            "  Downloading colorful-0.5.4-py2.py3-none-any.whl (201 kB)\n",
            "\u001b[K     |████████████████████████████████| 201 kB 86.4 MB/s \n",
            "\u001b[?25hRequirement already satisfied: smart-open in /usr/local/lib/python3.7/dist-packages (from ray[default]<1.14.0,>=1.13.0->flwr[simulation]) (5.2.1)\n",
            "Requirement already satisfied: charset-normalizer<3.0,>=2.0 in /usr/local/lib/python3.7/dist-packages (from aiohttp>=3.7->ray[default]<1.14.0,>=1.13.0->flwr[simulation]) (2.1.1)\n",
            "Requirement already satisfied: asynctest==0.13.0 in /usr/local/lib/python3.7/dist-packages (from aiohttp>=3.7->ray[default]<1.14.0,>=1.13.0->flwr[simulation]) (0.13.0)\n",
            "Requirement already satisfied: yarl<2.0,>=1.0 in /usr/local/lib/python3.7/dist-packages (from aiohttp>=3.7->ray[default]<1.14.0,>=1.13.0->flwr[simulation]) (1.8.1)\n",
            "Requirement already satisfied: async-timeout<5.0,>=4.0.0a3 in /usr/local/lib/python3.7/dist-packages (from aiohttp>=3.7->ray[default]<1.14.0,>=1.13.0->flwr[simulation]) (4.0.2)\n",
            "Requirement already satisfied: multidict<7.0,>=4.5 in /usr/local/lib/python3.7/dist-packages (from aiohttp>=3.7->ray[default]<1.14.0,>=1.13.0->flwr[simulation]) (6.0.2)\n",
            "Collecting nvidia-ml-py<=11.495.46,>=11.450.129\n",
            "  Downloading nvidia_ml_py-11.495.46-py3-none-any.whl (25 kB)\n",
            "Collecting psutil>=5.6.0\n",
            "  Downloading psutil-5.9.3-cp37-cp37m-manylinux_2_12_x86_64.manylinux2010_x86_64.manylinux_2_17_x86_64.manylinux2014_x86_64.whl (291 kB)\n",
            "\u001b[K     |████████████████████████████████| 291 kB 84.4 MB/s \n",
            "\u001b[?25hCollecting blessed>=1.17.1\n",
            "  Downloading blessed-1.19.1-py2.py3-none-any.whl (58 kB)\n",
            "\u001b[K     |████████████████████████████████| 58 kB 6.9 MB/s \n",
            "\u001b[?25hRequirement already satisfied: wcwidth>=0.1.4 in /usr/local/lib/python3.7/dist-packages (from blessed>=1.17.1->gpustat>=1.0.0b1->ray[default]<1.14.0,>=1.13.0->flwr[simulation]) (0.2.5)\n",
            "Requirement already satisfied: idna>=2.0 in /usr/local/lib/python3.7/dist-packages (from yarl<2.0,>=1.0->aiohttp>=3.7->ray[default]<1.14.0,>=1.13.0->flwr[simulation]) (2.10)\n",
            "Requirement already satisfied: importlib-resources>=1.4.0 in /usr/local/lib/python3.7/dist-packages (from jsonschema->ray[default]<1.14.0,>=1.13.0->flwr[simulation]) (5.10.0)\n",
            "Requirement already satisfied: pyrsistent!=0.17.0,!=0.17.1,!=0.17.2,>=0.14.0 in /usr/local/lib/python3.7/dist-packages (from jsonschema->ray[default]<1.14.0,>=1.13.0->flwr[simulation]) (0.18.1)\n",
            "Requirement already satisfied: google-api-core<3.0.0,>=1.0.0 in /usr/local/lib/python3.7/dist-packages (from opencensus->ray[default]<1.14.0,>=1.13.0->flwr[simulation]) (1.31.6)\n",
            "Collecting opencensus-context>=0.1.3\n",
            "  Downloading opencensus_context-0.1.3-py2.py3-none-any.whl (5.1 kB)\n",
            "Requirement already satisfied: packaging>=14.3 in /usr/local/lib/python3.7/dist-packages (from google-api-core<3.0.0,>=1.0.0->opencensus->ray[default]<1.14.0,>=1.13.0->flwr[simulation]) (21.3)\n",
            "Requirement already satisfied: pytz in /usr/local/lib/python3.7/dist-packages (from google-api-core<3.0.0,>=1.0.0->opencensus->ray[default]<1.14.0,>=1.13.0->flwr[simulation]) (2022.4)\n",
            "Requirement already satisfied: setuptools>=40.3.0 in /usr/local/lib/python3.7/dist-packages (from google-api-core<3.0.0,>=1.0.0->opencensus->ray[default]<1.14.0,>=1.13.0->flwr[simulation]) (57.4.0)\n",
            "Requirement already satisfied: googleapis-common-protos<2.0dev,>=1.6.0 in /usr/local/lib/python3.7/dist-packages (from google-api-core<3.0.0,>=1.0.0->opencensus->ray[default]<1.14.0,>=1.13.0->flwr[simulation]) (1.56.4)\n",
            "Requirement already satisfied: google-auth<2.0dev,>=1.25.0 in /usr/local/lib/python3.7/dist-packages (from google-api-core<3.0.0,>=1.0.0->opencensus->ray[default]<1.14.0,>=1.13.0->flwr[simulation]) (1.35.0)\n",
            "Requirement already satisfied: cachetools<5.0,>=2.0.0 in /usr/local/lib/python3.7/dist-packages (from google-auth<2.0dev,>=1.25.0->google-api-core<3.0.0,>=1.0.0->opencensus->ray[default]<1.14.0,>=1.13.0->flwr[simulation]) (4.2.4)\n",
            "Requirement already satisfied: pyasn1-modules>=0.2.1 in /usr/local/lib/python3.7/dist-packages (from google-auth<2.0dev,>=1.25.0->google-api-core<3.0.0,>=1.0.0->opencensus->ray[default]<1.14.0,>=1.13.0->flwr[simulation]) (0.2.8)\n",
            "Requirement already satisfied: rsa<5,>=3.1.4 in /usr/local/lib/python3.7/dist-packages (from google-auth<2.0dev,>=1.25.0->google-api-core<3.0.0,>=1.0.0->opencensus->ray[default]<1.14.0,>=1.13.0->flwr[simulation]) (4.9)\n",
            "Requirement already satisfied: pyparsing!=3.0.5,>=2.0.2 in /usr/local/lib/python3.7/dist-packages (from packaging>=14.3->google-api-core<3.0.0,>=1.0.0->opencensus->ray[default]<1.14.0,>=1.13.0->flwr[simulation]) (3.0.9)\n",
            "Requirement already satisfied: pyasn1<0.5.0,>=0.4.6 in /usr/local/lib/python3.7/dist-packages (from pyasn1-modules>=0.2.1->google-auth<2.0dev,>=1.25.0->google-api-core<3.0.0,>=1.0.0->opencensus->ray[default]<1.14.0,>=1.13.0->flwr[simulation]) (0.4.8)\n",
            "Requirement already satisfied: certifi>=2017.4.17 in /usr/local/lib/python3.7/dist-packages (from requests->ray[default]<1.14.0,>=1.13.0->flwr[simulation]) (2022.9.24)\n",
            "Requirement already satisfied: chardet<4,>=3.0.2 in /usr/local/lib/python3.7/dist-packages (from requests->ray[default]<1.14.0,>=1.13.0->flwr[simulation]) (3.0.4)\n",
            "Requirement already satisfied: urllib3!=1.25.0,!=1.25.1,<1.26,>=1.21.1 in /usr/local/lib/python3.7/dist-packages (from requests->ray[default]<1.14.0,>=1.13.0->flwr[simulation]) (1.24.3)\n",
            "Collecting distlib<1,>=0.3.5\n",
            "  Downloading distlib-0.3.6-py2.py3-none-any.whl (468 kB)\n",
            "\u001b[K     |████████████████████████████████| 468 kB 68.5 MB/s \n",
            "\u001b[?25hCollecting platformdirs<3,>=2.4\n",
            "  Downloading platformdirs-2.5.2-py3-none-any.whl (14 kB)\n",
            "Building wheels for collected packages: gpustat\n",
            "  Building wheel for gpustat (setup.py) ... \u001b[?25l\u001b[?25hdone\n",
            "  Created wheel for gpustat: filename=gpustat-1.0.0-py3-none-any.whl size=19889 sha256=87030987d7ebb6c5d0d7a76e0fc6f0c338a0d998d447ff413724212090b7201a\n",
            "  Stored in directory: /root/.cache/pip/wheels/d2/31/5c/eb69af6e2285e7d6ec8d7dc26435be7c81c6ad22c45efdcca7\n",
            "Successfully built gpustat\n",
            "Installing collected packages: protobuf, platformdirs, distlib, virtualenv, psutil, opencensus-context, nvidia-ml-py, grpcio, blessed, ray, py-spy, prometheus-client, opencensus, iterators, gpustat, colorful, aiohttp-cors, flwr\n",
            "  Attempting uninstall: protobuf\n",
            "    Found existing installation: protobuf 3.17.3\n",
            "    Uninstalling protobuf-3.17.3:\n",
            "      Successfully uninstalled protobuf-3.17.3\n",
            "  Attempting uninstall: psutil\n",
            "    Found existing installation: psutil 5.4.8\n",
            "    Uninstalling psutil-5.4.8:\n",
            "      Successfully uninstalled psutil-5.4.8\n",
            "  Attempting uninstall: grpcio\n",
            "    Found existing installation: grpcio 1.49.1\n",
            "    Uninstalling grpcio-1.49.1:\n",
            "      Successfully uninstalled grpcio-1.49.1\n",
            "\u001b[31mERROR: pip's dependency resolver does not currently take into account all the packages that are installed. This behaviour is the source of the following dependency conflicts.\n",
            "tensorflow 2.9.2 requires protobuf<3.20,>=3.9.2, but you have protobuf 3.20.3 which is incompatible.\n",
            "tensorboard 2.9.1 requires protobuf<3.20,>=3.9.2, but you have protobuf 3.20.3 which is incompatible.\u001b[0m\n",
            "Successfully installed aiohttp-cors-0.7.0 blessed-1.19.1 colorful-0.5.4 distlib-0.3.6 flwr-1.0.0 gpustat-1.0.0 grpcio-1.43.0 iterators-0.0.2 nvidia-ml-py-11.495.46 opencensus-0.11.0 opencensus-context-0.1.3 platformdirs-2.5.2 prometheus-client-0.13.1 protobuf-3.20.3 psutil-5.9.3 py-spy-0.3.14 ray-1.13.0 virtualenv-20.16.5\n"
          ]
        },
        {
          "data": {
            "application/vnd.colab-display-data+json": {
              "pip_warning": {
                "packages": [
                  "google",
                  "psutil"
                ]
              }
            }
          },
          "metadata": {},
          "output_type": "display_data"
        }
      ],
      "source": [
        "!pip install flwr[simulation]"
      ]
    },
    {
      "cell_type": "markdown",
      "metadata": {
        "id": "grNc2GELvjD3"
      },
      "source": [
        "## Imports"
      ]
    },
    {
      "cell_type": "code",
      "execution_count": 2,
      "metadata": {
        "colab": {
          "base_uri": "https://localhost:8080/"
        },
        "id": "RHQ-3tCTvlPv",
        "outputId": "94ab0c9f-e037-447d-fa8b-551ed7f7bb14"
      },
      "outputs": [
        {
          "name": "stdout",
          "output_type": "stream",
          "text": [
            "Training on cuda:0\n"
          ]
        }
      ],
      "source": [
        "import os\n",
        "import sys\n",
        "import math\n",
        "from glob import glob\n",
        "from PIL import Image\n",
        "from collections import OrderedDict\n",
        "from typing import Dict, List, Optional, Tuple\n",
        "\n",
        "import flwr as fl\n",
        "import numpy as np\n",
        "import pandas as pd\n",
        "import matplotlib.pyplot as plt\n",
        "from sklearn.model_selection import train_test_split\n",
        "\n",
        "import torch\n",
        "import torch.nn as nnqunt\n",
        "import torch.nn.functional as F\n",
        "from torch.utils.data import Dataset, DataLoader, random_split\n",
        "\n",
        "from torchvision.utils import make_grid\n",
        "from torchvision.datasets import CIFAR10\n",
        "from torchvision import transforms as T, models\n",
        "\n",
        "DEVICE = torch.device(\"cuda:0\" if torch.cuda.is_available() else \"cpu\")\n",
        "# DEVICE = torch.device(\"cpu\")\n",
        "print(f\"Training on {DEVICE}\")"
      ]
    },
    {
      "cell_type": "markdown",
      "metadata": {
        "id": "G5XXXYdm6ic5"
      },
      "source": [
        "## Data"
      ]
    },
    {
      "cell_type": "markdown",
      "metadata": {
        "id": "45ozbtM24s2k"
      },
      "source": [
        "### Preprocess"
      ]
    },
    {
      "cell_type": "code",
      "execution_count": 3,
      "metadata": {
        "id": "Yz34zjmYPihV"
      },
      "outputs": [],
      "source": [
        "root_img_dir = '/content/NIH/'"
      ]
    },
    {
      "cell_type": "code",
      "execution_count": 4,
      "metadata": {
        "colab": {
          "base_uri": "https://localhost:8080/",
          "height": 205
        },
        "id": "OPOdXKySPN2-",
        "outputId": "fcb51a28-4e0e-4289-84ef-a889b585c244"
      },
      "outputs": [
        {
          "name": "stdout",
          "output_type": "stream",
          "text": [
            "Scans found: 112120 , Total Headers 112120\n"
          ]
        },
        {
          "data": {
            "text/html": [
              "\n",
              "  <div id=\"df-f8a2daf6-799e-4724-8112-a43f144cd164\">\n",
              "    <div class=\"colab-df-container\">\n",
              "      <div>\n",
              "<style scoped>\n",
              "    .dataframe tbody tr th:only-of-type {\n",
              "        vertical-align: middle;\n",
              "    }\n",
              "\n",
              "    .dataframe tbody tr th {\n",
              "        vertical-align: top;\n",
              "    }\n",
              "\n",
              "    .dataframe thead th {\n",
              "        text-align: right;\n",
              "    }\n",
              "</style>\n",
              "<table border=\"1\" class=\"dataframe\">\n",
              "  <thead>\n",
              "    <tr style=\"text-align: right;\">\n",
              "      <th></th>\n",
              "      <th>Image Index</th>\n",
              "      <th>Finding Labels</th>\n",
              "      <th>Follow-up #</th>\n",
              "      <th>Patient ID</th>\n",
              "      <th>Patient Age</th>\n",
              "      <th>Patient Gender</th>\n",
              "      <th>View Position</th>\n",
              "      <th>OriginalImage[Width</th>\n",
              "      <th>Height]</th>\n",
              "      <th>OriginalImagePixelSpacing[x</th>\n",
              "      <th>y]</th>\n",
              "      <th>Unnamed: 11</th>\n",
              "      <th>path</th>\n",
              "    </tr>\n",
              "  </thead>\n",
              "  <tbody>\n",
              "    <tr>\n",
              "      <th>2872</th>\n",
              "      <td>00000765_004.png</td>\n",
              "      <td>No Finding</td>\n",
              "      <td>4</td>\n",
              "      <td>765</td>\n",
              "      <td>38</td>\n",
              "      <td>M</td>\n",
              "      <td>PA</td>\n",
              "      <td>2992</td>\n",
              "      <td>2991</td>\n",
              "      <td>0.143</td>\n",
              "      <td>0.143</td>\n",
              "      <td>NaN</td>\n",
              "      <td>/content/NIH/images_001/images/00000765_004.png</td>\n",
              "    </tr>\n",
              "    <tr>\n",
              "      <th>103443</th>\n",
              "      <td>00027600_000.png</td>\n",
              "      <td>Infiltration</td>\n",
              "      <td>0</td>\n",
              "      <td>27600</td>\n",
              "      <td>26</td>\n",
              "      <td>F</td>\n",
              "      <td>PA</td>\n",
              "      <td>2992</td>\n",
              "      <td>2991</td>\n",
              "      <td>0.143</td>\n",
              "      <td>0.143</td>\n",
              "      <td>NaN</td>\n",
              "      <td>/content/NIH/images_011/images/00027600_000.png</td>\n",
              "    </tr>\n",
              "    <tr>\n",
              "      <th>86474</th>\n",
              "      <td>00021321_001.png</td>\n",
              "      <td>Pneumothorax</td>\n",
              "      <td>1</td>\n",
              "      <td>21321</td>\n",
              "      <td>48</td>\n",
              "      <td>F</td>\n",
              "      <td>PA</td>\n",
              "      <td>3056</td>\n",
              "      <td>2544</td>\n",
              "      <td>0.139</td>\n",
              "      <td>0.139</td>\n",
              "      <td>NaN</td>\n",
              "      <td>/content/NIH/images_010/images/00021321_001.png</td>\n",
              "    </tr>\n",
              "  </tbody>\n",
              "</table>\n",
              "</div>\n",
              "      <button class=\"colab-df-convert\" onclick=\"convertToInteractive('df-f8a2daf6-799e-4724-8112-a43f144cd164')\"\n",
              "              title=\"Convert this dataframe to an interactive table.\"\n",
              "              style=\"display:none;\">\n",
              "        \n",
              "  <svg xmlns=\"http://www.w3.org/2000/svg\" height=\"24px\"viewBox=\"0 0 24 24\"\n",
              "       width=\"24px\">\n",
              "    <path d=\"M0 0h24v24H0V0z\" fill=\"none\"/>\n",
              "    <path d=\"M18.56 5.44l.94 2.06.94-2.06 2.06-.94-2.06-.94-.94-2.06-.94 2.06-2.06.94zm-11 1L8.5 8.5l.94-2.06 2.06-.94-2.06-.94L8.5 2.5l-.94 2.06-2.06.94zm10 10l.94 2.06.94-2.06 2.06-.94-2.06-.94-.94-2.06-.94 2.06-2.06.94z\"/><path d=\"M17.41 7.96l-1.37-1.37c-.4-.4-.92-.59-1.43-.59-.52 0-1.04.2-1.43.59L10.3 9.45l-7.72 7.72c-.78.78-.78 2.05 0 2.83L4 21.41c.39.39.9.59 1.41.59.51 0 1.02-.2 1.41-.59l7.78-7.78 2.81-2.81c.8-.78.8-2.07 0-2.86zM5.41 20L4 18.59l7.72-7.72 1.47 1.35L5.41 20z\"/>\n",
              "  </svg>\n",
              "      </button>\n",
              "      \n",
              "  <style>\n",
              "    .colab-df-container {\n",
              "      display:flex;\n",
              "      flex-wrap:wrap;\n",
              "      gap: 12px;\n",
              "    }\n",
              "\n",
              "    .colab-df-convert {\n",
              "      background-color: #E8F0FE;\n",
              "      border: none;\n",
              "      border-radius: 50%;\n",
              "      cursor: pointer;\n",
              "      display: none;\n",
              "      fill: #1967D2;\n",
              "      height: 32px;\n",
              "      padding: 0 0 0 0;\n",
              "      width: 32px;\n",
              "    }\n",
              "\n",
              "    .colab-df-convert:hover {\n",
              "      background-color: #E2EBFA;\n",
              "      box-shadow: 0px 1px 2px rgba(60, 64, 67, 0.3), 0px 1px 3px 1px rgba(60, 64, 67, 0.15);\n",
              "      fill: #174EA6;\n",
              "    }\n",
              "\n",
              "    [theme=dark] .colab-df-convert {\n",
              "      background-color: #3B4455;\n",
              "      fill: #D2E3FC;\n",
              "    }\n",
              "\n",
              "    [theme=dark] .colab-df-convert:hover {\n",
              "      background-color: #434B5C;\n",
              "      box-shadow: 0px 1px 3px 1px rgba(0, 0, 0, 0.15);\n",
              "      filter: drop-shadow(0px 1px 2px rgba(0, 0, 0, 0.3));\n",
              "      fill: #FFFFFF;\n",
              "    }\n",
              "  </style>\n",
              "\n",
              "      <script>\n",
              "        const buttonEl =\n",
              "          document.querySelector('#df-f8a2daf6-799e-4724-8112-a43f144cd164 button.colab-df-convert');\n",
              "        buttonEl.style.display =\n",
              "          google.colab.kernel.accessAllowed ? 'block' : 'none';\n",
              "\n",
              "        async function convertToInteractive(key) {\n",
              "          const element = document.querySelector('#df-f8a2daf6-799e-4724-8112-a43f144cd164');\n",
              "          const dataTable =\n",
              "            await google.colab.kernel.invokeFunction('convertToInteractive',\n",
              "                                                     [key], {});\n",
              "          if (!dataTable) return;\n",
              "\n",
              "          const docLinkHtml = 'Like what you see? Visit the ' +\n",
              "            '<a target=\"_blank\" href=https://colab.research.google.com/notebooks/data_table.ipynb>data table notebook</a>'\n",
              "            + ' to learn more about interactive tables.';\n",
              "          element.innerHTML = '';\n",
              "          dataTable['output_type'] = 'display_data';\n",
              "          await google.colab.output.renderOutput(dataTable, element);\n",
              "          const docLink = document.createElement('div');\n",
              "          docLink.innerHTML = docLinkHtml;\n",
              "          element.appendChild(docLink);\n",
              "        }\n",
              "      </script>\n",
              "    </div>\n",
              "  </div>\n",
              "  "
            ],
            "text/plain": [
              "             Image Index Finding Labels  Follow-up #  Patient ID  Patient Age  \\\n",
              "2872    00000765_004.png     No Finding            4         765           38   \n",
              "103443  00027600_000.png   Infiltration            0       27600           26   \n",
              "86474   00021321_001.png   Pneumothorax            1       21321           48   \n",
              "\n",
              "       Patient Gender View Position  OriginalImage[Width  Height]  \\\n",
              "2872                M            PA                 2992     2991   \n",
              "103443              F            PA                 2992     2991   \n",
              "86474               F            PA                 3056     2544   \n",
              "\n",
              "        OriginalImagePixelSpacing[x     y]  Unnamed: 11  \\\n",
              "2872                          0.143  0.143          NaN   \n",
              "103443                        0.143  0.143          NaN   \n",
              "86474                         0.139  0.139          NaN   \n",
              "\n",
              "                                                   path  \n",
              "2872    /content/NIH/images_001/images/00000765_004.png  \n",
              "103443  /content/NIH/images_011/images/00027600_000.png  \n",
              "86474   /content/NIH/images_010/images/00021321_001.png  "
            ]
          },
          "execution_count": 4,
          "metadata": {},
          "output_type": "execute_result"
        }
      ],
      "source": [
        "all_xray_df = pd.read_csv(\n",
        "    os.path.join(\n",
        "        root_img_dir,\n",
        "        'Data_Entry_2017.csv'\n",
        "        )\n",
        "    )\n",
        "\n",
        "all_image_paths = {\n",
        "    os.path.basename(x): x for x in \n",
        "    glob(os.path.join(root_img_dir, 'images*', '*', '*.png'))\n",
        "    }\n",
        "\n",
        "print('Scans found:', len(all_image_paths), ', Total Headers', all_xray_df.shape[0])\n",
        "all_xray_df['path'] = all_xray_df['Image Index'].map(all_image_paths.get)\n",
        "# all_xray_df['Patient Age'] = all_xray_df['Patient Age'].map(lambda x: int(x[:-1]))\n",
        "\n",
        "all_xray_df.sample(3)"
      ]
    },
    {
      "cell_type": "code",
      "execution_count": 5,
      "metadata": {
        "colab": {
          "base_uri": "https://localhost:8080/",
          "height": 583
        },
        "id": "w6zolca4PN5x",
        "outputId": "5179c78b-d9c7-4156-c524-304401549aa3"
      },
      "outputs": [
        {
          "data": {
            "image/png": "[encoded data removed]",
            "text/plain": [
              "<Figure size 864x576 with 1 Axes>"
            ]
          },
          "metadata": {
            "needs_background": "light"
          },
          "output_type": "display_data"
        }
      ],
      "source": [
        "label_counts = all_xray_df['Finding Labels'].value_counts()[:15]\n",
        "fig, ax1 = plt.subplots(1,1,figsize = (12, 8))\n",
        "ax1.bar(np.arange(len(label_counts))+0.5, label_counts)\n",
        "ax1.set_xticks(np.arange(len(label_counts))+0.5)\n",
        "_ = ax1.set_xticklabels(label_counts.index, rotation = 90)"
      ]
    },
    {
      "cell_type": "code",
      "execution_count": 6,
      "metadata": {
        "colab": {
          "base_uri": "https://localhost:8080/",
          "height": 272
        },
        "id": "us8ftKY8PN8b",
        "outputId": "24d581cc-8370-4114-b593-0ae760b7416d"
      },
      "outputs": [
        {
          "name": "stdout",
          "output_type": "stream",
          "text": [
            "All Labels (14): ['Atelectasis', 'Cardiomegaly', 'Consolidation', 'Edema', 'Effusion', 'Emphysema', 'Fibrosis', 'Hernia', 'Infiltration', 'Mass', 'Nodule', 'Pleural_Thickening', 'Pneumonia', 'Pneumothorax']\n"
          ]
        },
        {
          "data": {
            "text/html": [
              "\n",
              "  <div id=\"df-edbaac99-9b19-444b-852f-eba367c34996\">\n",
              "    <div class=\"colab-df-container\">\n",
              "      <div>\n",
              "<style scoped>\n",
              "    .dataframe tbody tr th:only-of-type {\n",
              "        vertical-align: middle;\n",
              "    }\n",
              "\n",
              "    .dataframe tbody tr th {\n",
              "        vertical-align: top;\n",
              "    }\n",
              "\n",
              "    .dataframe thead th {\n",
              "        text-align: right;\n",
              "    }\n",
              "</style>\n",
              "<table border=\"1\" class=\"dataframe\">\n",
              "  <thead>\n",
              "    <tr style=\"text-align: right;\">\n",
              "      <th></th>\n",
              "      <th>Image Index</th>\n",
              "      <th>Finding Labels</th>\n",
              "      <th>Follow-up #</th>\n",
              "      <th>Patient ID</th>\n",
              "      <th>Patient Age</th>\n",
              "      <th>Patient Gender</th>\n",
              "      <th>View Position</th>\n",
              "      <th>OriginalImage[Width</th>\n",
              "      <th>Height]</th>\n",
              "      <th>OriginalImagePixelSpacing[x</th>\n",
              "      <th>...</th>\n",
              "      <th>Effusion</th>\n",
              "      <th>Emphysema</th>\n",
              "      <th>Fibrosis</th>\n",
              "      <th>Hernia</th>\n",
              "      <th>Infiltration</th>\n",
              "      <th>Mass</th>\n",
              "      <th>Nodule</th>\n",
              "      <th>Pleural_Thickening</th>\n",
              "      <th>Pneumonia</th>\n",
              "      <th>Pneumothorax</th>\n",
              "    </tr>\n",
              "  </thead>\n",
              "  <tbody>\n",
              "    <tr>\n",
              "      <th>76802</th>\n",
              "      <td>00018865_022.png</td>\n",
              "      <td>Emphysema</td>\n",
              "      <td>22</td>\n",
              "      <td>18865</td>\n",
              "      <td>70</td>\n",
              "      <td>F</td>\n",
              "      <td>PA</td>\n",
              "      <td>2594</td>\n",
              "      <td>2991</td>\n",
              "      <td>0.143</td>\n",
              "      <td>...</td>\n",
              "      <td>0.0</td>\n",
              "      <td>1.0</td>\n",
              "      <td>0.0</td>\n",
              "      <td>0.0</td>\n",
              "      <td>0.0</td>\n",
              "      <td>0.0</td>\n",
              "      <td>0.0</td>\n",
              "      <td>0.0</td>\n",
              "      <td>0.0</td>\n",
              "      <td>0.0</td>\n",
              "    </tr>\n",
              "    <tr>\n",
              "      <th>106202</th>\n",
              "      <td>00028591_006.png</td>\n",
              "      <td></td>\n",
              "      <td>6</td>\n",
              "      <td>28591</td>\n",
              "      <td>58</td>\n",
              "      <td>M</td>\n",
              "      <td>AP</td>\n",
              "      <td>3056</td>\n",
              "      <td>2544</td>\n",
              "      <td>0.139</td>\n",
              "      <td>...</td>\n",
              "      <td>0.0</td>\n",
              "      <td>0.0</td>\n",
              "      <td>0.0</td>\n",
              "      <td>0.0</td>\n",
              "      <td>0.0</td>\n",
              "      <td>0.0</td>\n",
              "      <td>0.0</td>\n",
              "      <td>0.0</td>\n",
              "      <td>0.0</td>\n",
              "      <td>0.0</td>\n",
              "    </tr>\n",
              "    <tr>\n",
              "      <th>75949</th>\n",
              "      <td>00018626_015.png</td>\n",
              "      <td>Consolidation</td>\n",
              "      <td>15</td>\n",
              "      <td>18626</td>\n",
              "      <td>28</td>\n",
              "      <td>M</td>\n",
              "      <td>AP</td>\n",
              "      <td>3056</td>\n",
              "      <td>2544</td>\n",
              "      <td>0.139</td>\n",
              "      <td>...</td>\n",
              "      <td>0.0</td>\n",
              "      <td>0.0</td>\n",
              "      <td>0.0</td>\n",
              "      <td>0.0</td>\n",
              "      <td>0.0</td>\n",
              "      <td>0.0</td>\n",
              "      <td>0.0</td>\n",
              "      <td>0.0</td>\n",
              "      <td>0.0</td>\n",
              "      <td>0.0</td>\n",
              "    </tr>\n",
              "  </tbody>\n",
              "</table>\n",
              "<p>3 rows × 27 columns</p>\n",
              "</div>\n",
              "      <button class=\"colab-df-convert\" onclick=\"convertToInteractive('df-edbaac99-9b19-444b-852f-eba367c34996')\"\n",
              "              title=\"Convert this dataframe to an interactive table.\"\n",
              "              style=\"display:none;\">\n",
              "        \n",
              "  <svg xmlns=\"http://www.w3.org/2000/svg\" height=\"24px\"viewBox=\"0 0 24 24\"\n",
              "       width=\"24px\">\n",
              "    <path d=\"M0 0h24v24H0V0z\" fill=\"none\"/>\n",
              "    <path d=\"M18.56 5.44l.94 2.06.94-2.06 2.06-.94-2.06-.94-.94-2.06-.94 2.06-2.06.94zm-11 1L8.5 8.5l.94-2.06 2.06-.94-2.06-.94L8.5 2.5l-.94 2.06-2.06.94zm10 10l.94 2.06.94-2.06 2.06-.94-2.06-.94-.94-2.06-.94 2.06-2.06.94z\"/><path d=\"M17.41 7.96l-1.37-1.37c-.4-.4-.92-.59-1.43-.59-.52 0-1.04.2-1.43.59L10.3 9.45l-7.72 7.72c-.78.78-.78 2.05 0 2.83L4 21.41c.39.39.9.59 1.41.59.51 0 1.02-.2 1.41-.59l7.78-7.78 2.81-2.81c.8-.78.8-2.07 0-2.86zM5.41 20L4 18.59l7.72-7.72 1.47 1.35L5.41 20z\"/>\n",
              "  </svg>\n",
              "      </button>\n",
              "      \n",
              "  <style>\n",
              "    .colab-df-container {\n",
              "      display:flex;\n",
              "      flex-wrap:wrap;\n",
              "      gap: 12px;\n",
              "    }\n",
              "\n",
              "    .colab-df-convert {\n",
              "      background-color: #E8F0FE;\n",
              "      border: none;\n",
              "      border-radius: 50%;\n",
              "      cursor: pointer;\n",
              "      display: none;\n",
              "      fill: #1967D2;\n",
              "      height: 32px;\n",
              "      padding: 0 0 0 0;\n",
              "      width: 32px;\n",
              "    }\n",
              "\n",
              "    .colab-df-convert:hover {\n",
              "      background-color: #E2EBFA;\n",
              "      box-shadow: 0px 1px 2px rgba(60, 64, 67, 0.3), 0px 1px 3px 1px rgba(60, 64, 67, 0.15);\n",
              "      fill: #174EA6;\n",
              "    }\n",
              "\n",
              "    [theme=dark] .colab-df-convert {\n",
              "      background-color: #3B4455;\n",
              "      fill: #D2E3FC;\n",
              "    }\n",
              "\n",
              "    [theme=dark] .colab-df-convert:hover {\n",
              "      background-color: #434B5C;\n",
              "      box-shadow: 0px 1px 3px 1px rgba(0, 0, 0, 0.15);\n",
              "      filter: drop-shadow(0px 1px 2px rgba(0, 0, 0, 0.3));\n",
              "      fill: #FFFFFF;\n",
              "    }\n",
              "  </style>\n",
              "\n",
              "      <script>\n",
              "        const buttonEl =\n",
              "          document.querySelector('#df-edbaac99-9b19-444b-852f-eba367c34996 button.colab-df-convert');\n",
              "        buttonEl.style.display =\n",
              "          google.colab.kernel.accessAllowed ? 'block' : 'none';\n",
              "\n",
              "        async function convertToInteractive(key) {\n",
              "          const element = document.querySelector('#df-edbaac99-9b19-444b-852f-eba367c34996');\n",
              "          const dataTable =\n",
              "            await google.colab.kernel.invokeFunction('convertToInteractive',\n",
              "                                                     [key], {});\n",
              "          if (!dataTable) return;\n",
              "\n",
              "          const docLinkHtml = 'Like what you see? Visit the ' +\n",
              "            '<a target=\"_blank\" href=https://colab.research.google.com/notebooks/data_table.ipynb>data table notebook</a>'\n",
              "            + ' to learn more about interactive tables.';\n",
              "          element.innerHTML = '';\n",
              "          dataTable['output_type'] = 'display_data';\n",
              "          await google.colab.output.renderOutput(dataTable, element);\n",
              "          const docLink = document.createElement('div');\n",
              "          docLink.innerHTML = docLinkHtml;\n",
              "          element.appendChild(docLink);\n",
              "        }\n",
              "      </script>\n",
              "    </div>\n",
              "  </div>\n",
              "  "
            ],
            "text/plain": [
              "             Image Index Finding Labels  Follow-up #  Patient ID  Patient Age  \\\n",
              "76802   00018865_022.png      Emphysema           22       18865           70   \n",
              "106202  00028591_006.png                           6       28591           58   \n",
              "75949   00018626_015.png  Consolidation           15       18626           28   \n",
              "\n",
              "       Patient Gender View Position  OriginalImage[Width  Height]  \\\n",
              "76802               F            PA                 2594     2991   \n",
              "106202              M            AP                 3056     2544   \n",
              "75949               M            AP                 3056     2544   \n",
              "\n",
              "        OriginalImagePixelSpacing[x  ...  Effusion  Emphysema Fibrosis  \\\n",
              "76802                         0.143  ...       0.0        1.0      0.0   \n",
              "106202                        0.139  ...       0.0        0.0      0.0   \n",
              "75949                         0.139  ...       0.0        0.0      0.0   \n",
              "\n",
              "        Hernia  Infiltration  Mass  Nodule  Pleural_Thickening  Pneumonia  \\\n",
              "76802      0.0           0.0   0.0     0.0                 0.0        0.0   \n",
              "106202     0.0           0.0   0.0     0.0                 0.0        0.0   \n",
              "75949      0.0           0.0   0.0     0.0                 0.0        0.0   \n",
              "\n",
              "        Pneumothorax  \n",
              "76802            0.0  \n",
              "106202           0.0  \n",
              "75949            0.0  \n",
              "\n",
              "[3 rows x 27 columns]"
            ]
          },
          "execution_count": 6,
          "metadata": {},
          "output_type": "execute_result"
        }
      ],
      "source": [
        "all_xray_df['Finding Labels'] = all_xray_df['Finding Labels'].map(lambda x: x.replace('No Finding', ''))\n",
        "from itertools import chain\n",
        "all_labels = np.unique(list(chain(*all_xray_df['Finding Labels'].map(lambda x: x.split('|')).tolist())))\n",
        "all_labels = [x for x in all_labels if len(x)>0]\n",
        "print('All Labels ({}): {}'.format(len(all_labels), all_labels))\n",
        "for c_label in all_labels:\n",
        "    if len(c_label)>1: # leave out empty labels\n",
        "        all_xray_df[c_label] = all_xray_df['Finding Labels'].map(lambda finding: 1.0 if c_label in finding else 0)\n",
        "all_xray_df.sample(3)"
      ]
    },
    {
      "cell_type": "code",
      "execution_count": 7,
      "metadata": {
        "colab": {
          "base_uri": "https://localhost:8080/"
        },
        "id": "ym5CxJBDTuQZ",
        "outputId": "2f307eda-6699-4039-a12e-87c5eeba7a7b"
      },
      "outputs": [
        {
          "name": "stdout",
          "output_type": "stream",
          "text": [
            "Clean Labels (13) [('Atelectasis', 11559), ('Cardiomegaly', 2776), ('Consolidation', 4667), ('Edema', 2303), ('Effusion', 13317), ('Emphysema', 2516), ('Fibrosis', 1686), ('Infiltration', 19894), ('Mass', 5782), ('Nodule', 6331), ('Pleural_Thickening', 3385), ('Pneumonia', 1431), ('Pneumothorax', 5302)]\n"
          ]
        }
      ],
      "source": [
        "# keep at least 1000 cases\n",
        "MIN_CASES = 1000\n",
        "all_labels = [\n",
        "    c_label for c_label in all_labels if all_xray_df[c_label].sum()>MIN_CASES\n",
        "    ]\n",
        "print('Clean Labels ({})'.format(len(all_labels)), \n",
        "      [(c_label,int(all_xray_df[c_label].sum())) for c_label in all_labels])"
      ]
    },
    {
      "cell_type": "code",
      "execution_count": 8,
      "metadata": {
        "colab": {
          "base_uri": "https://localhost:8080/",
          "height": 583
        },
        "id": "-bMuE8iDT2LT",
        "outputId": "7b87919a-5af4-4b79-f7c0-5791d3be0ccf"
      },
      "outputs": [
        {
          "data": {
            "image/png": "[encoded data removed]",
            "text/plain": [
              "<Figure size 864x576 with 1 Axes>"
            ]
          },
          "metadata": {
            "needs_background": "light"
          },
          "output_type": "display_data"
        }
      ],
      "source": [
        "# since the dataset is very unbiased, we can resample it to be a more reasonable collection\n",
        "# weight is 0.1 + number of findings\n",
        "sample_weights = all_xray_df['Finding Labels'].map(lambda x: len(x.split('|')) if len(x)>0 else 0).values + 4e-2\n",
        "sample_weights /= sample_weights.sum()\n",
        "\n",
        "all_xray_df = all_xray_df.sample(112120, weights=sample_weights)\n",
        "\n",
        "label_counts = all_xray_df['Finding Labels'].value_counts()[:15]\n",
        "fig, ax1 = plt.subplots(1,1,figsize = (12, 8))\n",
        "ax1.bar(np.arange(len(label_counts))+0.5, label_counts)\n",
        "ax1.set_xticks(np.arange(len(label_counts))+0.5)\n",
        "_ = ax1.set_xticklabels(label_counts.index, rotation = 90)"
      ]
    },
    {
      "cell_type": "code",
      "execution_count": 9,
      "metadata": {
        "colab": {
          "base_uri": "https://localhost:8080/",
          "height": 583
        },
        "id": "T1zRuIqHT5pF",
        "outputId": "90de820e-4615-462e-ffd8-0c7cdd9a6fd6"
      },
      "outputs": [
        {
          "data": {
            "image/png": "[encoded data removed]",
            "text/plain": [
              "<Figure size 864x576 with 1 Axes>"
            ]
          },
          "metadata": {
            "needs_background": "light"
          },
          "output_type": "display_data"
        }
      ],
      "source": [
        "label_counts = 100*np.mean(all_xray_df[all_labels].values,0)\n",
        "fig, ax1 = plt.subplots(1,1,figsize = (12, 8))\n",
        "ax1.bar(np.arange(len(label_counts))+0.5, label_counts)\n",
        "ax1.set_xticks(np.arange(len(label_counts))+0.5)\n",
        "ax1.set_xticklabels(all_labels, rotation = 90)\n",
        "ax1.set_title('Adjusted Frequency of Diseases in Patient Group')\n",
        "_ = ax1.set_ylabel('Frequency (%)')"
      ]
    },
    {
      "cell_type": "code",
      "execution_count": 10,
      "metadata": {
        "id": "YGv8mwYIUGQY"
      },
      "outputs": [],
      "source": [
        "all_xray_df['disease_vec'] = all_xray_df.apply(lambda x: [x[all_labels].values], 1).map(lambda x: x[0])"
      ]
    },
    {
      "cell_type": "code",
      "execution_count": 11,
      "metadata": {
        "colab": {
          "base_uri": "https://localhost:8080/",
          "height": 411
        },
        "id": "L-aF9NwEWWr-",
        "outputId": "10925fa1-0159-4812-a2ec-86fdf440d7fc"
      },
      "outputs": [
        {
          "data": {
            "text/html": [
              "\n",
              "  <div id=\"df-a0ce68d5-dc7f-4c0d-b542-d88d34b656ab\">\n",
              "    <div class=\"colab-df-container\">\n",
              "      <div>\n",
              "<style scoped>\n",
              "    .dataframe tbody tr th:only-of-type {\n",
              "        vertical-align: middle;\n",
              "    }\n",
              "\n",
              "    .dataframe tbody tr th {\n",
              "        vertical-align: top;\n",
              "    }\n",
              "\n",
              "    .dataframe thead th {\n",
              "        text-align: right;\n",
              "    }\n",
              "</style>\n",
              "<table border=\"1\" class=\"dataframe\">\n",
              "  <thead>\n",
              "    <tr style=\"text-align: right;\">\n",
              "      <th></th>\n",
              "      <th>Image Index</th>\n",
              "      <th>Finding Labels</th>\n",
              "      <th>Follow-up #</th>\n",
              "      <th>Patient ID</th>\n",
              "      <th>Patient Age</th>\n",
              "      <th>Patient Gender</th>\n",
              "      <th>View Position</th>\n",
              "      <th>OriginalImage[Width</th>\n",
              "      <th>Height]</th>\n",
              "      <th>OriginalImagePixelSpacing[x</th>\n",
              "      <th>...</th>\n",
              "      <th>Emphysema</th>\n",
              "      <th>Fibrosis</th>\n",
              "      <th>Hernia</th>\n",
              "      <th>Infiltration</th>\n",
              "      <th>Mass</th>\n",
              "      <th>Nodule</th>\n",
              "      <th>Pleural_Thickening</th>\n",
              "      <th>Pneumonia</th>\n",
              "      <th>Pneumothorax</th>\n",
              "      <th>disease_vec</th>\n",
              "    </tr>\n",
              "  </thead>\n",
              "  <tbody>\n",
              "    <tr>\n",
              "      <th>26201</th>\n",
              "      <td>00006875_020.png</td>\n",
              "      <td>Consolidation|Effusion|Infiltration</td>\n",
              "      <td>20</td>\n",
              "      <td>6875</td>\n",
              "      <td>55</td>\n",
              "      <td>F</td>\n",
              "      <td>PA</td>\n",
              "      <td>2992</td>\n",
              "      <td>2991</td>\n",
              "      <td>0.143</td>\n",
              "      <td>...</td>\n",
              "      <td>0.0</td>\n",
              "      <td>0.0</td>\n",
              "      <td>0.0</td>\n",
              "      <td>1.0</td>\n",
              "      <td>0.0</td>\n",
              "      <td>0.0</td>\n",
              "      <td>0.0</td>\n",
              "      <td>0.0</td>\n",
              "      <td>0.0</td>\n",
              "      <td>[0.0, 0.0, 1.0, 0.0, 1.0, 0.0, 0.0, 1.0, 0.0, ...</td>\n",
              "    </tr>\n",
              "    <tr>\n",
              "      <th>39347</th>\n",
              "      <td>00010312_002.png</td>\n",
              "      <td></td>\n",
              "      <td>2</td>\n",
              "      <td>10312</td>\n",
              "      <td>69</td>\n",
              "      <td>M</td>\n",
              "      <td>AP</td>\n",
              "      <td>2500</td>\n",
              "      <td>2048</td>\n",
              "      <td>0.168</td>\n",
              "      <td>...</td>\n",
              "      <td>0.0</td>\n",
              "      <td>0.0</td>\n",
              "      <td>0.0</td>\n",
              "      <td>0.0</td>\n",
              "      <td>0.0</td>\n",
              "      <td>0.0</td>\n",
              "      <td>0.0</td>\n",
              "      <td>0.0</td>\n",
              "      <td>0.0</td>\n",
              "      <td>[0.0, 0.0, 0.0, 0.0, 0.0, 0.0, 0.0, 0.0, 0.0, ...</td>\n",
              "    </tr>\n",
              "    <tr>\n",
              "      <th>22526</th>\n",
              "      <td>00005969_001.png</td>\n",
              "      <td>Mass</td>\n",
              "      <td>1</td>\n",
              "      <td>5969</td>\n",
              "      <td>46</td>\n",
              "      <td>M</td>\n",
              "      <td>PA</td>\n",
              "      <td>2500</td>\n",
              "      <td>2048</td>\n",
              "      <td>0.171</td>\n",
              "      <td>...</td>\n",
              "      <td>0.0</td>\n",
              "      <td>0.0</td>\n",
              "      <td>0.0</td>\n",
              "      <td>0.0</td>\n",
              "      <td>1.0</td>\n",
              "      <td>0.0</td>\n",
              "      <td>0.0</td>\n",
              "      <td>0.0</td>\n",
              "      <td>0.0</td>\n",
              "      <td>[0.0, 0.0, 0.0, 0.0, 0.0, 0.0, 0.0, 0.0, 1.0, ...</td>\n",
              "    </tr>\n",
              "  </tbody>\n",
              "</table>\n",
              "<p>3 rows × 28 columns</p>\n",
              "</div>\n",
              "      <button class=\"colab-df-convert\" onclick=\"convertToInteractive('df-a0ce68d5-dc7f-4c0d-b542-d88d34b656ab')\"\n",
              "              title=\"Convert this dataframe to an interactive table.\"\n",
              "              style=\"display:none;\">\n",
              "        \n",
              "  <svg xmlns=\"http://www.w3.org/2000/svg\" height=\"24px\"viewBox=\"0 0 24 24\"\n",
              "       width=\"24px\">\n",
              "    <path d=\"M0 0h24v24H0V0z\" fill=\"none\"/>\n",
              "    <path d=\"M18.56 5.44l.94 2.06.94-2.06 2.06-.94-2.06-.94-.94-2.06-.94 2.06-2.06.94zm-11 1L8.5 8.5l.94-2.06 2.06-.94-2.06-.94L8.5 2.5l-.94 2.06-2.06.94zm10 10l.94 2.06.94-2.06 2.06-.94-2.06-.94-.94-2.06-.94 2.06-2.06.94z\"/><path d=\"M17.41 7.96l-1.37-1.37c-.4-.4-.92-.59-1.43-.59-.52 0-1.04.2-1.43.59L10.3 9.45l-7.72 7.72c-.78.78-.78 2.05 0 2.83L4 21.41c.39.39.9.59 1.41.59.51 0 1.02-.2 1.41-.59l7.78-7.78 2.81-2.81c.8-.78.8-2.07 0-2.86zM5.41 20L4 18.59l7.72-7.72 1.47 1.35L5.41 20z\"/>\n",
              "  </svg>\n",
              "      </button>\n",
              "      \n",
              "  <style>\n",
              "    .colab-df-container {\n",
              "      display:flex;\n",
              "      flex-wrap:wrap;\n",
              "      gap: 12px;\n",
              "    }\n",
              "\n",
              "    .colab-df-convert {\n",
              "      background-color: #E8F0FE;\n",
              "      border: none;\n",
              "      border-radius: 50%;\n",
              "      cursor: pointer;\n",
              "      display: none;\n",
              "      fill: #1967D2;\n",
              "      height: 32px;\n",
              "      padding: 0 0 0 0;\n",
              "      width: 32px;\n",
              "    }\n",
              "\n",
              "    .colab-df-convert:hover {\n",
              "      background-color: #E2EBFA;\n",
              "      box-shadow: 0px 1px 2px rgba(60, 64, 67, 0.3), 0px 1px 3px 1px rgba(60, 64, 67, 0.15);\n",
              "      fill: #174EA6;\n",
              "    }\n",
              "\n",
              "    [theme=dark] .colab-df-convert {\n",
              "      background-color: #3B4455;\n",
              "      fill: #D2E3FC;\n",
              "    }\n",
              "\n",
              "    [theme=dark] .colab-df-convert:hover {\n",
              "      background-color: #434B5C;\n",
              "      box-shadow: 0px 1px 3px 1px rgba(0, 0, 0, 0.15);\n",
              "      filter: drop-shadow(0px 1px 2px rgba(0, 0, 0, 0.3));\n",
              "      fill: #FFFFFF;\n",
              "    }\n",
              "  </style>\n",
              "\n",
              "      <script>\n",
              "        const buttonEl =\n",
              "          document.querySelector('#df-a0ce68d5-dc7f-4c0d-b542-d88d34b656ab button.colab-df-convert');\n",
              "        buttonEl.style.display =\n",
              "          google.colab.kernel.accessAllowed ? 'block' : 'none';\n",
              "\n",
              "        async function convertToInteractive(key) {\n",
              "          const element = document.querySelector('#df-a0ce68d5-dc7f-4c0d-b542-d88d34b656ab');\n",
              "          const dataTable =\n",
              "            await google.colab.kernel.invokeFunction('convertToInteractive',\n",
              "                                                     [key], {});\n",
              "          if (!dataTable) return;\n",
              "\n",
              "          const docLinkHtml = 'Like what you see? Visit the ' +\n",
              "            '<a target=\"_blank\" href=https://colab.research.google.com/notebooks/data_table.ipynb>data table notebook</a>'\n",
              "            + ' to learn more about interactive tables.';\n",
              "          element.innerHTML = '';\n",
              "          dataTable['output_type'] = 'display_data';\n",
              "          await google.colab.output.renderOutput(dataTable, element);\n",
              "          const docLink = document.createElement('div');\n",
              "          docLink.innerHTML = docLinkHtml;\n",
              "          element.appendChild(docLink);\n",
              "        }\n",
              "      </script>\n",
              "    </div>\n",
              "  </div>\n",
              "  "
            ],
            "text/plain": [
              "            Image Index                       Finding Labels  Follow-up #  \\\n",
              "26201  00006875_020.png  Consolidation|Effusion|Infiltration           20   \n",
              "39347  00010312_002.png                                                 2   \n",
              "22526  00005969_001.png                                 Mass            1   \n",
              "\n",
              "       Patient ID  Patient Age Patient Gender View Position  \\\n",
              "26201        6875           55              F            PA   \n",
              "39347       10312           69              M            AP   \n",
              "22526        5969           46              M            PA   \n",
              "\n",
              "       OriginalImage[Width  Height]  OriginalImagePixelSpacing[x  ...  \\\n",
              "26201                 2992     2991                        0.143  ...   \n",
              "39347                 2500     2048                        0.168  ...   \n",
              "22526                 2500     2048                        0.171  ...   \n",
              "\n",
              "       Emphysema  Fibrosis Hernia  Infiltration  Mass  Nodule  \\\n",
              "26201        0.0       0.0    0.0           1.0   0.0     0.0   \n",
              "39347        0.0       0.0    0.0           0.0   0.0     0.0   \n",
              "22526        0.0       0.0    0.0           0.0   1.0     0.0   \n",
              "\n",
              "       Pleural_Thickening  Pneumonia  Pneumothorax  \\\n",
              "26201                 0.0        0.0           0.0   \n",
              "39347                 0.0        0.0           0.0   \n",
              "22526                 0.0        0.0           0.0   \n",
              "\n",
              "                                             disease_vec  \n",
              "26201  [0.0, 0.0, 1.0, 0.0, 1.0, 0.0, 0.0, 1.0, 0.0, ...  \n",
              "39347  [0.0, 0.0, 0.0, 0.0, 0.0, 0.0, 0.0, 0.0, 0.0, ...  \n",
              "22526  [0.0, 0.0, 0.0, 0.0, 0.0, 0.0, 0.0, 0.0, 1.0, ...  \n",
              "\n",
              "[3 rows x 28 columns]"
            ]
          },
          "execution_count": 11,
          "metadata": {},
          "output_type": "execute_result"
        }
      ],
      "source": [
        "all_xray_df.sample(3)"
      ]
    },
    {
      "cell_type": "code",
      "execution_count": 12,
      "metadata": {
        "colab": {
          "base_uri": "https://localhost:8080/"
        },
        "id": "uAwaQtgN_4U3",
        "outputId": "3667bb0f-15c0-4b83-9dda-093c41165396"
      },
      "outputs": [
        {
          "data": {
            "text/plain": [
              "112120"
            ]
          },
          "execution_count": 12,
          "metadata": {},
          "output_type": "execute_result"
        }
      ],
      "source": [
        "len(all_xray_df)"
      ]
    },
    {
      "cell_type": "code",
      "execution_count": 14,
      "metadata": {
        "id": "rigzBUI_Wovp"
      },
      "outputs": [],
      "source": [
        "num_clients = 100\n",
        "\n",
        "trainloaders, valloaders, testloader = get_data_loaders(\n",
        "    all_xray_df,\n",
        "    global_train_frac = 0.95,\n",
        "    local_train_frac = 0.9,\n",
        "    num_clients = num_clients,\n",
        "    batch_size = 25\n",
        ")"
      ]
    },
    {
      "cell_type": "code",
      "execution_count": 15,
      "metadata": {
        "colab": {
          "base_uri": "https://localhost:8080/",
          "height": 248
        },
        "id": "H5Oi7dIN3aWP",
        "outputId": "47ec124d-c065-4fa9-a94b-2f70a74c34ac"
      },
      "outputs": [
        {
          "data": {
            "image/png": "[encoded data removed]",
            "text/plain": [
              "<Figure size 432x288 with 1 Axes>"
            ]
          },
          "metadata": {
            "needs_background": "light"
          },
          "output_type": "display_data"
        }
      ],
      "source": [
        "plt.imshow(\n",
        "    inv_data_transform(\n",
        "        testloader.dataset[0][0]\n",
        "    )\n",
        ")\n",
        "plt.axis('off');"
      ]
    },
    {
      "cell_type": "code",
      "execution_count": 16,
      "metadata": {
        "colab": {
          "base_uri": "https://localhost:8080/"
        },
        "id": "mh6Nm_YzvJpo",
        "outputId": "f1d86d84-549e-4cd4-a7d5-d38134a23afa"
      },
      "outputs": [
        {
          "data": {
            "text/plain": [
              "(959, 106, 5607)"
            ]
          },
          "execution_count": 16,
          "metadata": {},
          "output_type": "execute_result"
        }
      ],
      "source": [
        "len(trainloaders[0].dataset), len(valloaders[0].dataset) ,len(testloader.dataset)"
      ]
    },
    {
      "cell_type": "code",
      "execution_count": 17,
      "metadata": {
        "colab": {
          "base_uri": "https://localhost:8080/"
        },
        "id": "aHFmMLT5aZ2h",
        "outputId": "58c3058c-b599-48e7-ae42-3a933c40d113"
      },
      "outputs": [
        {
          "data": {
            "text/plain": [
              "13"
            ]
          },
          "execution_count": 17,
          "metadata": {},
          "output_type": "execute_result"
        }
      ],
      "source": [
        "len(all_labels)"
      ]
    },
    {
      "cell_type": "markdown",
      "metadata": {
        "id": "kZByeD1upefu"
      },
      "source": [
        "## Training"
      ]
    },
    {
      "cell_type": "markdown",
      "metadata": {},
      "source": [
        "### Util function"
      ]
    },
    {
      "cell_type": "code",
      "execution_count": null,
      "metadata": {},
      "outputs": [],
      "source": [
        "def client_fn(cid) -> FlowerClient:\n",
        "    net = init_net().to(DEVICE)\n",
        "    trainloader = trainloaders[int(cid)]\n",
        "    valloader = valloaders[int(cid)]\n",
        "    print(f'Created client: {cid}')\n",
        "    return FlowerClient(cid, net, trainloader, valloader)"
      ]
    },
    {
      "cell_type": "markdown",
      "metadata": {
        "id": "zY2kIz7JUwMQ"
      },
      "source": [
        "### 35 local epochs result in approx. 15min. local training time"
      ]
    },
    {
      "cell_type": "code",
      "execution_count": null,
      "metadata": {
        "colab": {
          "base_uri": "https://localhost:8080/"
        },
        "id": "ZOO41NlAxKlp",
        "outputId": "5d0df0e8-24b1-4542-c1bf-4934a2834ee4"
      },
      "outputs": [
        {
          "name": "stderr",
          "output_type": "stream",
          "text": [
            "INFO flower 2022-10-20 17:07:59,754 | app.py:145 | Starting Flower simulation, config: ServerConfig(num_rounds=100, round_timeout=None)\n",
            "INFO:flower:Starting Flower simulation, config: ServerConfig(num_rounds=100, round_timeout=None)\n",
            "INFO flower 2022-10-20 17:08:02,631 | app.py:179 | Flower VCE: Ray initialized with resources: {'GPU': 1.0, 'node:172.28.0.2': 1.0, 'CPU': 12.0, 'object_store_memory': 26770797772.0, 'memory': 53541595547.0}\n",
            "INFO:flower:Flower VCE: Ray initialized with resources: {'GPU': 1.0, 'node:172.28.0.2': 1.0, 'CPU': 12.0, 'object_store_memory': 26770797772.0, 'memory': 53541595547.0}\n",
            "INFO flower 2022-10-20 17:08:02,635 | server.py:86 | Initializing global parameters\n",
            "INFO:flower:Initializing global parameters\n",
            "INFO flower 2022-10-20 17:08:02,638 | server.py:266 | Using initial parameters provided by strategy\n",
            "INFO:flower:Using initial parameters provided by strategy\n",
            "INFO flower 2022-10-20 17:08:02,640 | server.py:88 | Evaluating initial parameters\n",
            "INFO:flower:Evaluating initial parameters\n",
            "INFO flower 2022-10-20 17:11:03,400 | server.py:95 | initial parameters (loss, other metrics): tensor(205.8210, device='cuda:0', dtype=torch.float64), {'mean_class_acc.': 89.44314112853439}\n",
            "INFO:flower:initial parameters (loss, other metrics): tensor(205.8210, device='cuda:0', dtype=torch.float64), {'mean_class_acc.': 89.44314112853439}\n",
            "INFO flower 2022-10-20 17:11:03,413 | server.py:101 | FL starting\n",
            "INFO:flower:FL starting\n",
            "DEBUG flower 2022-10-20 17:11:03,416 | server.py:220 | fit_round 1: strategy sampled 10 clients (out of 100)\n",
            "DEBUG:flower:fit_round 1: strategy sampled 10 clients (out of 100)\n"
          ]
        },
        {
          "name": "stdout",
          "output_type": "stream",
          "text": [
            "\n",
            "Server eval\n",
            "                Labels  Class Acc.\n",
            "0          Atelectasis   82.307829\n",
            "1         Cardiomegaly   96.736223\n",
            "2        Consolidation   73.693597\n",
            "3                Edema   97.627965\n",
            "4             Effusion   71.339397\n",
            "5            Emphysema   94.738719\n",
            "6             Fibrosis   96.914571\n",
            "7         Infiltration   81.701445\n",
            "8                 Mass   94.132335\n",
            "9               Nodule   84.519351\n",
            "10  Pleural_Thickening   96.326021\n",
            "11           Pneumonia   98.698056\n",
            "12        Pneumothorax   94.025325\n",
            "\n",
            "\n",
            "\u001b[2m\u001b[36m(launch_and_fit pid=4613)\u001b[0m Created client: 6\n",
            "\u001b[2m\u001b[36m(launch_and_fit pid=4613)\u001b[0m [Client 6, round 1] fit, config: {'server_round': 1, 'local_epochs': 35}\n",
            "\u001b[2m\u001b[36m(launch_and_fit pid=4613)\u001b[0m Entered train function, total num. of epochs: 35\n",
            "\u001b[2m\u001b[36m(launch_and_fit pid=4613)\u001b[0m Iteration 0, loss: 0.7854915060113733\n",
            "\u001b[2m\u001b[36m(launch_and_fit pid=4613)\u001b[0m Epoch : 1 Train Loss : 0.913871 \n",
            "\u001b[2m\u001b[36m(launch_and_fit pid=4613)\u001b[0m Iteration 0, loss: 0.7870507666847981\n",
            "\u001b[2m\u001b[36m(launch_and_fit pid=4613)\u001b[0m Epoch : 2 Train Loss : 0.905857 \n",
            "\u001b[2m\u001b[36m(launch_and_fit pid=4613)\u001b[0m Iteration 0, loss: 1.019546002137089\n",
            "\u001b[2m\u001b[36m(launch_and_fit pid=4613)\u001b[0m Epoch : 3 Train Loss : 0.894305 \n",
            "\u001b[2m\u001b[36m(launch_and_fit pid=4613)\u001b[0m Iteration 0, loss: 0.8659564388540762\n",
            "\u001b[2m\u001b[36m(launch_and_fit pid=4613)\u001b[0m Epoch : 4 Train Loss : 0.882051 \n",
            "\u001b[2m\u001b[36m(launch_and_fit pid=4613)\u001b[0m Iteration 0, loss: 0.8300514333291518\n",
            "\u001b[2m\u001b[36m(launch_and_fit pid=4613)\u001b[0m Epoch : 5 Train Loss : 0.881594 \n",
            "\u001b[2m\u001b[36m(launch_and_fit pid=4613)\u001b[0m Iteration 0, loss: 0.6574924241128327\n",
            "\u001b[2m\u001b[36m(launch_and_fit pid=4613)\u001b[0m Epoch : 6 Train Loss : 0.862268 \n",
            "\u001b[2m\u001b[36m(launch_and_fit pid=4613)\u001b[0m Iteration 0, loss: 0.7599108780710411\n",
            "\u001b[2m\u001b[36m(launch_and_fit pid=4613)\u001b[0m Epoch : 7 Train Loss : 0.833402 \n",
            "\u001b[2m\u001b[36m(launch_and_fit pid=4613)\u001b[0m Iteration 0, loss: 0.810264480609908\n",
            "\u001b[2m\u001b[36m(launch_and_fit pid=4613)\u001b[0m Epoch : 8 Train Loss : 0.827046 \n",
            "\u001b[2m\u001b[36m(launch_and_fit pid=4613)\u001b[0m Iteration 0, loss: 1.0242638119191907\n",
            "\u001b[2m\u001b[36m(launch_and_fit pid=4613)\u001b[0m Epoch : 9 Train Loss : 0.789920 \n",
            "\u001b[2m\u001b[36m(launch_and_fit pid=4613)\u001b[0m Iteration 0, loss: 0.9101795899250621\n",
            "\u001b[2m\u001b[36m(launch_and_fit pid=4613)\u001b[0m Epoch : 10 Train Loss : 0.763542 \n",
            "\u001b[2m\u001b[36m(launch_and_fit pid=4613)\u001b[0m Iteration 0, loss: 0.7168880909713509\n",
            "\u001b[2m\u001b[36m(launch_and_fit pid=4613)\u001b[0m Epoch : 11 Train Loss : 0.731233 \n",
            "\u001b[2m\u001b[36m(launch_and_fit pid=4613)\u001b[0m Iteration 0, loss: 0.8327045111899805\n",
            "\u001b[2m\u001b[36m(launch_and_fit pid=4613)\u001b[0m Epoch : 12 Train Loss : 0.733083 \n",
            "\u001b[2m\u001b[36m(launch_and_fit pid=4613)\u001b[0m Iteration 0, loss: 0.6023741659638673\n",
            "\u001b[2m\u001b[36m(launch_and_fit pid=4613)\u001b[0m Epoch : 13 Train Loss : 0.683760 \n",
            "\u001b[2m\u001b[36m(launch_and_fit pid=4613)\u001b[0m Iteration 0, loss: 0.5070754724595338\n",
            "\u001b[2m\u001b[36m(launch_and_fit pid=4613)\u001b[0m Epoch : 14 Train Loss : 0.683396 \n",
            "\u001b[2m\u001b[36m(launch_and_fit pid=4613)\u001b[0m Iteration 0, loss: 0.58167183878797\n",
            "\u001b[2m\u001b[36m(launch_and_fit pid=4613)\u001b[0m Epoch : 15 Train Loss : 0.651322 \n",
            "\u001b[2m\u001b[36m(launch_and_fit pid=4613)\u001b[0m Iteration 0, loss: 0.44586363973809806\n",
            "\u001b[2m\u001b[36m(launch_and_fit pid=4613)\u001b[0m Epoch : 16 Train Loss : 0.626667 \n",
            "\u001b[2m\u001b[36m(launch_and_fit pid=4613)\u001b[0m Iteration 0, loss: 0.6083523239921935\n",
            "\u001b[2m\u001b[36m(launch_and_fit pid=4613)\u001b[0m Epoch : 17 Train Loss : 0.569253 \n",
            "\u001b[2m\u001b[36m(launch_and_fit pid=4613)\u001b[0m Iteration 0, loss: 0.4573472576626716\n",
            "\u001b[2m\u001b[36m(launch_and_fit pid=4613)\u001b[0m Epoch : 18 Train Loss : 0.569941 \n",
            "\u001b[2m\u001b[36m(launch_and_fit pid=4613)\u001b[0m Iteration 0, loss: 0.3809040703863068\n",
            "\u001b[2m\u001b[36m(launch_and_fit pid=4613)\u001b[0m Epoch : 19 Train Loss : 0.497301 \n",
            "\u001b[2m\u001b[36m(launch_and_fit pid=4613)\u001b[0m Iteration 0, loss: 0.32532814648953623\n",
            "\u001b[2m\u001b[36m(launch_and_fit pid=4613)\u001b[0m Epoch : 20 Train Loss : 0.464602 \n",
            "\u001b[2m\u001b[36m(launch_and_fit pid=4613)\u001b[0m Iteration 0, loss: 0.23270421495696977\n",
            "\u001b[2m\u001b[36m(launch_and_fit pid=4613)\u001b[0m Epoch : 21 Train Loss : 0.433997 \n",
            "\u001b[2m\u001b[36m(launch_and_fit pid=4613)\u001b[0m Iteration 0, loss: 0.3954607056352951\n",
            "\u001b[2m\u001b[36m(launch_and_fit pid=4613)\u001b[0m Epoch : 22 Train Loss : 0.404873 \n",
            "\u001b[2m\u001b[36m(launch_and_fit pid=4613)\u001b[0m Iteration 0, loss: 0.33119311145252217\n",
            "\u001b[2m\u001b[36m(launch_and_fit pid=4613)\u001b[0m Epoch : 23 Train Loss : 0.332537 \n",
            "\u001b[2m\u001b[36m(launch_and_fit pid=4613)\u001b[0m Iteration 0, loss: 0.24071881245949975\n",
            "\u001b[2m\u001b[36m(launch_and_fit pid=4613)\u001b[0m Epoch : 24 Train Loss : 0.323350 \n",
            "\u001b[2m\u001b[36m(launch_and_fit pid=4613)\u001b[0m Iteration 0, loss: 0.3416330109181272\n",
            "\u001b[2m\u001b[36m(launch_and_fit pid=4613)\u001b[0m Epoch : 25 Train Loss : 0.289945 \n",
            "\u001b[2m\u001b[36m(launch_and_fit pid=4613)\u001b[0m Iteration 0, loss: 0.1872097141667551\n",
            "\u001b[2m\u001b[36m(launch_and_fit pid=4613)\u001b[0m Epoch : 26 Train Loss : 0.234564 \n",
            "\u001b[2m\u001b[36m(launch_and_fit pid=4613)\u001b[0m Iteration 0, loss: 0.28424642447381754\n",
            "\u001b[2m\u001b[36m(launch_and_fit pid=4613)\u001b[0m Epoch : 27 Train Loss : 0.212606 \n",
            "\u001b[2m\u001b[36m(launch_and_fit pid=4613)\u001b[0m Iteration 0, loss: 0.22349998220222944\n",
            "\u001b[2m\u001b[36m(launch_and_fit pid=4613)\u001b[0m Epoch : 28 Train Loss : 0.225132 \n",
            "\u001b[2m\u001b[36m(launch_and_fit pid=4613)\u001b[0m Iteration 0, loss: 0.1872072736468929\n",
            "\u001b[2m\u001b[36m(launch_and_fit pid=4613)\u001b[0m Epoch : 29 Train Loss : 0.190388 \n",
            "\u001b[2m\u001b[36m(launch_and_fit pid=4613)\u001b[0m Iteration 0, loss: 0.12592662634956056\n",
            "\u001b[2m\u001b[36m(launch_and_fit pid=4613)\u001b[0m Epoch : 30 Train Loss : 0.140519 \n",
            "\u001b[2m\u001b[36m(launch_and_fit pid=4613)\u001b[0m Iteration 0, loss: 0.06348981502781931\n",
            "\u001b[2m\u001b[36m(launch_and_fit pid=4613)\u001b[0m Epoch : 31 Train Loss : 0.144234 \n",
            "\u001b[2m\u001b[36m(launch_and_fit pid=4613)\u001b[0m Iteration 0, loss: 0.22579299656573257\n",
            "\u001b[2m\u001b[36m(launch_and_fit pid=4613)\u001b[0m Epoch : 32 Train Loss : 0.185123 \n",
            "\u001b[2m\u001b[36m(launch_and_fit pid=4613)\u001b[0m Iteration 0, loss: 0.13237268428068394\n",
            "\u001b[2m\u001b[36m(launch_and_fit pid=4613)\u001b[0m Epoch : 33 Train Loss : 0.136877 \n",
            "\u001b[2m\u001b[36m(launch_and_fit pid=4613)\u001b[0m Iteration 0, loss: 0.21794970432034505\n",
            "\u001b[2m\u001b[36m(launch_and_fit pid=4613)\u001b[0m Epoch : 34 Train Loss : 0.123602 \n",
            "\u001b[2m\u001b[36m(launch_and_fit pid=4613)\u001b[0m Iteration 0, loss: 0.031168751946218893\n",
            "\u001b[2m\u001b[36m(launch_and_fit pid=4613)\u001b[0m Epoch : 35 Train Loss : 0.102441 \n",
            "\u001b[2m\u001b[36m(launch_and_fit pid=4613)\u001b[0m \n",
            "\u001b[2m\u001b[36m(launch_and_fit pid=4613)\u001b[0m \n",
            "\u001b[2m\u001b[36m(launch_and_fit pid=4613)\u001b[0m Time to complete local training round: 947.0575952529907\n",
            "\u001b[2m\u001b[36m(launch_and_fit pid=4613)\u001b[0m \n",
            "\u001b[2m\u001b[36m(launch_and_fit pid=4613)\u001b[0m \n",
            "\u001b[2m\u001b[36m(launch_and_fit pid=5153)\u001b[0m Created client: 28\n",
            "\u001b[2m\u001b[36m(launch_and_fit pid=5153)\u001b[0m [Client 28, round 1] fit, config: {'server_round': 1, 'local_epochs': 35}\n",
            "\u001b[2m\u001b[36m(launch_and_fit pid=5153)\u001b[0m Entered train function, total num. of epochs: 35\n",
            "\u001b[2m\u001b[36m(launch_and_fit pid=5153)\u001b[0m Iteration 0, loss: 1.1838870413648979\n",
            "\u001b[2m\u001b[36m(launch_and_fit pid=5153)\u001b[0m Epoch : 1 Train Loss : 0.926267 \n",
            "\u001b[2m\u001b[36m(launch_and_fit pid=5153)\u001b[0m Iteration 0, loss: 1.1195753237730768\n",
            "\u001b[2m\u001b[36m(launch_and_fit pid=5153)\u001b[0m Epoch : 2 Train Loss : 0.914427 \n",
            "\u001b[2m\u001b[36m(launch_and_fit pid=5153)\u001b[0m Iteration 0, loss: 1.00744273080298\n",
            "\u001b[2m\u001b[36m(launch_and_fit pid=5153)\u001b[0m Epoch : 3 Train Loss : 0.898745 \n",
            "\u001b[2m\u001b[36m(launch_and_fit pid=5153)\u001b[0m Iteration 0, loss: 0.8956663111314958\n",
            "\u001b[2m\u001b[36m(launch_and_fit pid=5153)\u001b[0m Epoch : 4 Train Loss : 0.878070 \n",
            "\u001b[2m\u001b[36m(launch_and_fit pid=5153)\u001b[0m Iteration 0, loss: 0.7053643817532775\n",
            "\u001b[2m\u001b[36m(launch_and_fit pid=5153)\u001b[0m Epoch : 5 Train Loss : 0.855471 \n",
            "\u001b[2m\u001b[36m(launch_and_fit pid=5153)\u001b[0m Iteration 0, loss: 0.5566550567950437\n",
            "\u001b[2m\u001b[36m(launch_and_fit pid=5153)\u001b[0m Epoch : 6 Train Loss : 0.799132 \n",
            "\u001b[2m\u001b[36m(launch_and_fit pid=5153)\u001b[0m Iteration 0, loss: 0.8489916187493709\n",
            "\u001b[2m\u001b[36m(launch_and_fit pid=5153)\u001b[0m Epoch : 7 Train Loss : 0.775003 \n",
            "\u001b[2m\u001b[36m(launch_and_fit pid=5153)\u001b[0m Iteration 0, loss: 0.8115613643133888\n",
            "\u001b[2m\u001b[36m(launch_and_fit pid=5153)\u001b[0m Epoch : 8 Train Loss : 0.773578 \n",
            "\u001b[2m\u001b[36m(launch_and_fit pid=5153)\u001b[0m Iteration 0, loss: 0.7700894942251856\n",
            "\u001b[2m\u001b[36m(launch_and_fit pid=5153)\u001b[0m Epoch : 9 Train Loss : 0.740735 \n",
            "\u001b[2m\u001b[36m(launch_and_fit pid=5153)\u001b[0m Iteration 0, loss: 0.5224074600161855\n",
            "\u001b[2m\u001b[36m(launch_and_fit pid=5153)\u001b[0m Epoch : 10 Train Loss : 0.705663 \n",
            "\u001b[2m\u001b[36m(launch_and_fit pid=5153)\u001b[0m Iteration 0, loss: 0.7016932400314189\n",
            "\u001b[2m\u001b[36m(launch_and_fit pid=5153)\u001b[0m Epoch : 11 Train Loss : 0.637154 \n",
            "\u001b[2m\u001b[36m(launch_and_fit pid=5153)\u001b[0m Iteration 0, loss: 0.6903290633354036\n",
            "\u001b[2m\u001b[36m(launch_and_fit pid=5153)\u001b[0m Epoch : 12 Train Loss : 0.611062 \n",
            "\u001b[2m\u001b[36m(launch_and_fit pid=5153)\u001b[0m Iteration 0, loss: 0.5543662203501538\n",
            "\u001b[2m\u001b[36m(launch_and_fit pid=5153)\u001b[0m Epoch : 13 Train Loss : 0.548021 \n",
            "\u001b[2m\u001b[36m(launch_and_fit pid=5153)\u001b[0m Iteration 0, loss: 0.5556383612964692\n",
            "\u001b[2m\u001b[36m(launch_and_fit pid=5153)\u001b[0m Epoch : 14 Train Loss : 0.511417 \n",
            "\u001b[2m\u001b[36m(launch_and_fit pid=5153)\u001b[0m Iteration 0, loss: 0.5856742451234918\n",
            "\u001b[2m\u001b[36m(launch_and_fit pid=5153)\u001b[0m Epoch : 15 Train Loss : 0.508225 \n",
            "\u001b[2m\u001b[36m(launch_and_fit pid=5153)\u001b[0m Iteration 0, loss: 0.452281597762389\n",
            "\u001b[2m\u001b[36m(launch_and_fit pid=5153)\u001b[0m Epoch : 16 Train Loss : 0.430360 \n",
            "\u001b[2m\u001b[36m(launch_and_fit pid=5153)\u001b[0m Iteration 0, loss: 0.5106183918865786\n",
            "\u001b[2m\u001b[36m(launch_and_fit pid=5153)\u001b[0m Epoch : 17 Train Loss : 0.384288 \n",
            "\u001b[2m\u001b[36m(launch_and_fit pid=5153)\u001b[0m Iteration 0, loss: 0.44465212278473887\n",
            "\u001b[2m\u001b[36m(launch_and_fit pid=5153)\u001b[0m Epoch : 18 Train Loss : 0.312949 \n",
            "\u001b[2m\u001b[36m(launch_and_fit pid=5153)\u001b[0m Iteration 0, loss: 0.4059532500620114\n",
            "\u001b[2m\u001b[36m(launch_and_fit pid=5153)\u001b[0m Epoch : 19 Train Loss : 0.274886 \n",
            "\u001b[2m\u001b[36m(launch_and_fit pid=5153)\u001b[0m Iteration 0, loss: 0.17971868871327315\n"
          ]
        }
      ],
      "source": [
        "num_rounds = 100\n",
        "local_epochs = 35\n",
        "fraction_fit = 0.1\n",
        "fraction_evaluate = 0.1\n",
        "min_fit_clients = 10\n",
        "min_evaluate_clients = 10\n",
        "\n",
        "client_resources = {\n",
        "    \"num_cpus\": 1,\n",
        "    \"num_gpus\": 1\n",
        "    }\n",
        "\n",
        "def fit_config(server_round: int):    \n",
        "    config = {\n",
        "        \"server_round\": server_round,\n",
        "        \"local_epochs\": local_epochs,\n",
        "    }\n",
        "    return config\n",
        "\n",
        "# Create an instance of the model and get the parameters\n",
        "net = init_net()\n",
        "params = get_parameters(init_net())\n",
        "\n",
        "# Pass parameters to the Strategy for server-side parameter initialization\n",
        "strategy = fl.server.strategy.FedAvg(\n",
        "    fraction_fit=fraction_fit,\n",
        "    fraction_evaluate=fraction_evaluate,\n",
        "    min_fit_clients=min_fit_clients,\n",
        "    min_evaluate_clients=min_evaluate_clients,\n",
        "    min_available_clients=num_clients,\n",
        "    initial_parameters=fl.common.ndarrays_to_parameters(params),\n",
        "    evaluate_fn=server_eval,\n",
        "    on_fit_config_fn=fit_config,\n",
        ")\n",
        "\n",
        "# Start simulation\n",
        "fl.simulation.start_simulation(\n",
        "    client_fn=client_fn,\n",
        "    num_clients=num_clients,\n",
        "    client_resources=client_resources,\n",
        "    config=fl.server.ServerConfig(num_rounds=num_rounds),\n",
        "    strategy=strategy,\n",
        ")"
      ]
    },
    {
      "cell_type": "code",
      "execution_count": null,
      "metadata": {
        "id": "PPNUPCyfTcT8"
      },
      "outputs": [],
      "source": []
    }
  ],
  "metadata": {
    "accelerator": "GPU",
    "colab": {
      "collapsed_sections": [
        "45ozbtM24s2k"
      ],
      "machine_shape": "hm",
      "provenance": []
    },
    "gpuClass": "premium",
    "kernelspec": {
      "display_name": "Python 3.10.6 64-bit",
      "language": "python",
      "name": "python3"
    },
    "language_info": {
      "codemirror_mode": {
        "name": "ipython",
        "version": 3
      },
      "file_extension": ".py",
      "mimetype": "text/x-python",
      "name": "python",
      "nbconvert_exporter": "python",
      "pygments_lexer": "ipython3",
      "version": "3.10.6"
    },
    "vscode": {
      "interpreter": {
        "hash": "31f2aee4e71d21fbe5cf8b01ff0e069b9275f58929596ceb00d14d90e3e16cd6"
      }
    }
  },
  "nbformat": 4,
  "nbformat_minor": 0
}
