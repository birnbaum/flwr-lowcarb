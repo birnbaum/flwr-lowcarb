{
 "cells": [
  {
   "cell_type": "markdown",
   "source": [
    "# Carbon Aware Federated Learning using Flower and Carbon Aware SDK\n",
    "This notebook follows along the official \"Introduction to Federated Learning\" from the official Flower [documentation](https://flower.dev/docs/tutorial/Flower-1-Intro-to-FL-PyTorch.html) using PyTorch and the CIFAR10 dataset\n",
    "\n",
    "The extra steps to make your federated learning carben aware using the Carbon Aware SDK are highlighted along the way."
   ],
   "metadata": {
    "collapsed": false
   }
  },
  {
   "cell_type": "code",
   "execution_count": 1,
   "metadata": {},
   "outputs": [],
   "source": [
    "import random\n",
    "from collections import OrderedDict\n",
    "from typing import List\n",
    "\n",
    "import flwr as fl\n",
    "import numpy as np\n",
    "import torch\n",
    "import torch.nn as nn\n",
    "import torch.nn.functional as F\n",
    "import torchvision.transforms as transforms\n",
    "from torch.utils.data import DataLoader, random_split\n",
    "from torchvision.datasets import CIFAR10"
   ]
  },
  {
   "cell_type": "raw",
   "source": [
    "from lowcarb import Lowcarb_Client, LowCarb_ClientManager"
   ],
   "metadata": {
    "collapsed": false
   }
  },
  {
   "cell_type": "code",
   "execution_count": 2,
   "metadata": {},
   "outputs": [],
   "source": [
    "DEVICE = torch.device(\"cpu\")\n",
    "NUM_CLIENTS = 20\n",
    "BATCH_SIZE = 32"
   ]
  },
  {
   "cell_type": "code",
   "execution_count": 3,
   "outputs": [
    {
     "name": "stdout",
     "output_type": "stream",
     "text": [
      "Files already downloaded and verified\n",
      "Files already downloaded and verified\n"
     ]
    }
   ],
   "source": [
    "CLASSES = ('plane', 'car', 'bird', 'cat', 'deer', 'dog', 'frog', 'horse', 'ship', 'truck')\n",
    "def load_datasets(num_clients: int):\n",
    "    # Download and transform CIFAR-10 (train and test)\n",
    "    transform = transforms.Compose(\n",
    "      [transforms.ToTensor(), transforms.Normalize((0.5, 0.5, 0.5), (0.5, 0.5, 0.5))]\n",
    "    )\n",
    "    trainset = CIFAR10(\"./dataset\", train=True, download=True, transform=transform)\n",
    "    testset = CIFAR10(\"./dataset\", train=False, download=True, transform=transform)\n",
    "\n",
    "    # Split training set into `num_clients` partitions to simulate different local datasets\n",
    "    partition_size = len(trainset) // num_clients\n",
    "    lengths = [partition_size] * num_clients\n",
    "    datasets = random_split(trainset, lengths, torch.Generator().manual_seed(42))\n",
    "\n",
    "    # Split each partition into train/val and create DataLoader\n",
    "    trainloaders = []\n",
    "    valloaders = []\n",
    "    for ds in datasets:\n",
    "        len_val = len(ds) // 10  # 10 % validation set\n",
    "        len_train = len(ds) - len_val\n",
    "        lengths = [len_train, len_val]\n",
    "        ds_train, ds_val = random_split(ds, lengths, torch.Generator().manual_seed(42))\n",
    "        trainloaders.append(DataLoader(ds_train, batch_size=32, shuffle=True))\n",
    "        valloaders.append(DataLoader(ds_val, batch_size=32))\n",
    "    testloader = DataLoader(testset, batch_size=32)\n",
    "    return trainloaders, valloaders, testloader\n",
    "\n",
    "trainloaders, valloaders, testloader = load_datasets(num_clients=NUM_CLIENTS)"
   ],
   "metadata": {
    "collapsed": false
   }
  },
  {
   "cell_type": "raw",
   "source": [
    "\n",
    "# class LowCarb_Strategy(LowCarb_Strategy, fl.server.strategy.FedAvg):\n",
    "#     def __init__(self, **kargs):\n",
    "#         super(LowCarb_Strategy, self).__init__(**kargs)\n",
    "\n",
    "class My_LowCarb_ClientManager(LowCarb_ClientManager):\n",
    "    def __init__(self, **kargs):\n",
    "        super(LowCarb_ClientManager, self).__init__(**kargs)"
   ],
   "metadata": {
    "collapsed": false
   }
  },
  {
   "cell_type": "markdown",
   "source": [
    "## Implementation of the neural net\n",
    "using the CIFAR10 dataset following along the [Flower documentation](https://flower.dev/docs/tutorial/Flower-1-Intro-to-FL-PyTorch.html)"
   ],
   "metadata": {
    "collapsed": false
   }
  },
  {
   "cell_type": "code",
   "execution_count": 4,
   "metadata": {},
   "outputs": [],
   "source": [
    "def load_datasets(num_clients: int):\n",
    "    # Download and transform CIFAR-10 (train and test)\n",
    "    transform = transforms.Compose(\n",
    "      [transforms.ToTensor(), transforms.Normalize((0.5, 0.5, 0.5), (0.5, 0.5, 0.5))]\n",
    "    )\n",
    "    trainset = CIFAR10(\"./dataset\", train=True, download=True, transform=transform)\n",
    "    testset = CIFAR10(\"./dataset\", train=False, download=True, transform=transform)\n",
    "\n",
    "    # Split training set into `num_clients` partitions to simulate different local datasets\n",
    "    partition_size = len(trainset) // num_clients\n",
    "    lengths = [partition_size] * num_clients\n",
    "    datasets = random_split(trainset, lengths, torch.Generator().manual_seed(42))\n",
    "\n",
    "    # Split each partition into train/val and create DataLoader\n",
    "    trainloaders = []\n",
    "    valloaders = []\n",
    "    for ds in datasets:\n",
    "        len_val = len(ds) // 10  # 10 % validation set\n",
    "        len_train = len(ds) - len_val\n",
    "        lengths = [len_train, len_val]\n",
    "        ds_train, ds_val = random_split(ds, lengths, torch.Generator().manual_seed(42))\n",
    "        trainloaders.append(DataLoader(ds_train, batch_size=32, shuffle=True))\n",
    "        valloaders.append(DataLoader(ds_val, batch_size=32))\n",
    "    testloader = DataLoader(testset, batch_size=32)\n",
    "    return trainloaders, valloaders, testloader\n",
    "\n",
    "\n",
    "class Net(nn.Module):\n",
    "    def __init__(self) -> None:\n",
    "        super(Net, self).__init__()\n",
    "        self.conv1 = nn.Conv2d(3, 6, 5)\n",
    "        self.pool = nn.MaxPool2d(2, 2)\n",
    "        self.conv2 = nn.Conv2d(6, 16, 5)\n",
    "        self.fc1 = nn.Linear(16 * 5 * 5, 120)\n",
    "        self.fc2 = nn.Linear(120, 84)\n",
    "        self.fc3 = nn.Linear(84, 10)\n",
    "\n",
    "    def forward(self, x: torch.Tensor) -> torch.Tensor:\n",
    "        x = self.pool(F.relu(self.conv1(x)))\n",
    "        x = self.pool(F.relu(self.conv2(x)))\n",
    "        x = x.view(-1, 16 * 5 * 5)\n",
    "        x = F.relu(self.fc1(x))\n",
    "        x = F.relu(self.fc2(x))\n",
    "        x = self.fc3(x)\n",
    "        return x\n",
    "\n",
    "def train(net, trainloader, epochs: int):\n",
    "    \"\"\"Train the network on the training set.\"\"\"\n",
    "    criterion = torch.nn.CrossEntropyLoss()\n",
    "    optimizer = torch.optim.Adam(net.parameters())\n",
    "    net.train()\n",
    "    for epoch in range(epochs):\n",
    "        correct, total, epoch_loss = 0, 0, 0.0\n",
    "        for images, labels in trainloader:\n",
    "            images, labels = images.to(DEVICE), labels.to(DEVICE)\n",
    "            optimizer.zero_grad()\n",
    "            outputs = net(images)\n",
    "            loss = criterion(net(images), labels)\n",
    "            loss.backward()\n",
    "            optimizer.step()\n",
    "            # Metrics\n",
    "            epoch_loss += loss\n",
    "            total += labels.size(0)\n",
    "            correct += (torch.max(outputs.data, 1)[1] == labels).sum().item()\n",
    "        epoch_loss /= len(trainloader.dataset)\n",
    "        epoch_acc = correct / total\n",
    "        print(f\"Epoch {epoch+1}: train loss {epoch_loss}, accuracy {epoch_acc}\")\n",
    "\n",
    "def test(net, testloader):\n",
    "    \"\"\"Evaluate the network on the entire test set.\"\"\"\n",
    "    criterion = torch.nn.CrossEntropyLoss()\n",
    "    correct, total, loss = 0, 0, 0.0\n",
    "    net.eval()\n",
    "    with torch.no_grad():\n",
    "        for images, labels in testloader:\n",
    "            images, labels = images.to(DEVICE), labels.to(DEVICE)\n",
    "            outputs = net(images)\n",
    "            loss += criterion(outputs, labels).item()\n",
    "            _, predicted = torch.max(outputs.data, 1)\n",
    "            total += labels.size(0)\n",
    "            correct += (predicted == labels).sum().item()\n",
    "    loss /= len(testloader.dataset)\n",
    "    accuracy = correct / total\n",
    "    return loss, accuracy\n",
    "\n",
    "def weighted_average(metrics):\n",
    "    # Multiply accuracy of each client by number of examples used\n",
    "    accuracies = [num_examples * m[\"accuracy\"] for num_examples, m in metrics]\n",
    "    examples = [num_examples for num_examples, _ in metrics]\n",
    "\n",
    "    # Aggregate and return custom metric (weighted average)\n",
    "    return {\"accuracy\": sum(accuracies) / sum(examples)}"
   ]
  },
  {
   "cell_type": "markdown",
   "source": [
    "## Implementation of the Flower Client\n",
    "The simple implementation of the FlowerClient follows once again the [Flower documentation](https://flower.dev/docs/tutorial/Flower-1-Intro-to-FL-PyTorch.html), however, we make it carbon aware using the lowcarb framework.\n",
    "Here you have two options:\n",
    "-   inherit lowcarb's Lowcarb_Client and make sure your client has a 'location' attribute,\n",
    "-   if your own future client implementation needs to implement the get_properties() method, decorate it with @lowcarb and go on with your business.\n",
    "```\n",
    "from lowcarb import Lowcarb_Client, lowcarb\n",
    "\n",
    "class My_Custom_Client(Lowcarb_Client, fl.client.NumPyClient)\n",
    "\n",
    "    @lowcarb\n",
    "    def get_properties(config):\n",
    "        my_business = {'value1': 123, 'value2': 456, 'value3': 789}\n",
    "\n",
    "        return my_business\n",
    "```\n",
    "\n",
    "Note:\n",
    "-   the @lowcarb decorated attaches a 'location' attribute to your get_properties() return. lowcarb's Client_Manager we will meet further down needs this information for a carbon aware scheduling.\n",
    "    ```\n",
    "    my_custom_client.get_properties({}) -> {'value1': 123, 'value2': 456, 'value3': 789, 'location': my_custom_client.location}\n",
    "    ```\n",
    "-   If the locatio of the client changes througout its lifetime, update the location in your get_properties() implementation"
   ],
   "metadata": {
    "collapsed": false
   }
  },
  {
   "cell_type": "code",
   "execution_count": 5,
   "metadata": {},
   "outputs": [],
   "source": [
    "from lowcarb import Lowcarb_Client\n",
    "\n",
    "class FlowerClient(Lowcarb_Client, fl.client.NumPyClient):\n",
    "    def __init__(self, net, trainloader, valloader, location, *args, **kwargs):\n",
    "        super(FlowerClient, self).__init__(*args, **kwargs)\n",
    "        self.net = net\n",
    "        self.trainloader = trainloader\n",
    "        self.valloader = valloader\n",
    "\n",
    "        self.location = location\n",
    "\n",
    "    def get_parameters(self, config):\n",
    "        return get_parameters(self.net)\n",
    "\n",
    "    def fit(self, parameters, config):\n",
    "        local_epochs = 1\n",
    "\n",
    "        set_parameters(self.net, parameters)\n",
    "        # train(self.net, self.trainloader, epochs=local_epochs)\n",
    "        return get_parameters(self.net), len(self.trainloader), {'fit_runtime': 100}\n",
    "\n",
    "    def evaluate(self, parameters, config):\n",
    "        set_parameters(self.net, parameters)\n",
    "        loss, accuracy = test(self.net, self.valloader)\n",
    "        return float(loss), len(self.valloader), {\"accuracy\": float(accuracy)}\n",
    "\n",
    "def get_parameters(net) -> List[np.ndarray]:\n",
    "    return [val.cpu().numpy() for _, val in net.state_dict().items()]\n",
    "\n",
    "def set_parameters(net, parameters: List[np.ndarray]):\n",
    "    params_dict = zip(net.state_dict().keys(), parameters)\n",
    "    state_dict = OrderedDict({k: torch.Tensor(v) for k, v in params_dict})\n",
    "    net.load_state_dict(state_dict, strict=True)"
   ]
  },
  {
   "cell_type": "markdown",
   "source": [
    "## Generating clients around the world\n",
    "\n",
    "The client_generator generates instances of clients to be used in the simulation. It onces again follows along the tutorial in the [Flower documentation](https://flower.dev/docs/tutorial/Flower-1-Intro-to-FL-PyTorch.html), however, the location is chosen randomly from regions = ['eastus', 'westus', 'germany', 'norway', 'denmark']\n",
    "If you need a more sophisticated selection of available clients feel free to edit client_generator()\n",
    "\n",
    "\n",
    "IMPORTANT: this is not the selection of clients that will participate in each federated learning round, this is the function to create the pool of available clients that later on will be selected."
   ],
   "metadata": {
    "collapsed": false
   }
  },
  {
   "cell_type": "code",
   "execution_count": 5,
   "outputs": [],
   "source": [],
   "metadata": {
    "collapsed": false
   }
  },
  {
   "cell_type": "code",
   "execution_count": 5,
   "outputs": [],
   "source": [],
   "metadata": {
    "collapsed": false
   }
  },
  {
   "cell_type": "code",
   "execution_count": 6,
   "outputs": [],
   "source": [
    "from random import sample\n",
    "available_regions = ['westcentralus', 'ukwest', 'uksouth', 'westeurope', 'westus', 'australiacentral', 'australiaeast', 'swedencentral', 'norwaywest', 'norwayeast', 'northeurope', 'centralus', 'francesouth', 'francecentral']\n",
    "regions = [sample(available_regions, 1)[0] for i in range(0, NUM_CLIENTS)]\n",
    "\n",
    "def client_generator(cid: str) -> FlowerClient:\n",
    "    \"\"\"Create a Flower client representing a single organization.\"\"\"\n",
    "\n",
    "    # Load model\n",
    "    net = Net().to(DEVICE)\n",
    "\n",
    "    # Load data (CIFAR-10)\n",
    "    # Note: each client gets a different trainloader/valloader, so each client\n",
    "    # will train and evaluate on their own unique data\n",
    "    trainloader = trainloaders[int(cid)]\n",
    "    valloader = valloaders[int(cid)]\n",
    "\n",
    "    # Create a  single Flower client representing a single organization\n",
    "    return FlowerClient(net, trainloader, valloader, regions[int(cid)])"
   ],
   "metadata": {
    "collapsed": false
   }
  },
  {
   "cell_type": "code",
   "execution_count": 7,
   "metadata": {},
   "outputs": [],
   "source": [
    "# Create FedAvg strategy\n",
    "strategy = fl.server.strategy.FedAvg(\n",
    "    fraction_fit=0.025,  # Sample 100% of available clients for training\n",
    "    fraction_evaluate=0.025,  # Sample 50% of available clients for evaluation\n",
    "    min_fit_clients=10,  # Never sample less than 10 clients for training\n",
    "    min_evaluate_clients=5,  # Never sample less than 5 clients for evaluation\n",
    "    min_available_clients=10,  # Wait until all 10 clients are available\n",
    "    evaluate_metrics_aggregation_fn=weighted_average,  # <-- pass the metric aggregation function\n",
    "    # on_fit_config_fn=fit_config,  # fit_config function\n",
    "    # evaluate_fn=server_evaluate\n",
    ")"
   ]
  },
  {
   "cell_type": "markdown",
   "source": [
    "Here we start the federated learning simulation with our modified client_generator that gives us clients spread around the world, each with their own data.\n",
    "\n",
    "To make it carbon aware, use lowcarb's client_manager and you are good to go."
   ],
   "metadata": {
    "collapsed": false
   }
  },
  {
   "cell_type": "markdown",
   "source": [
    "__For some reason the simulation fails on Windows 10 after a few rounds, which is probably related to an [open Ray issue](https://github.com/ray-project/ray/issues/24361)__\n",
    "Maybe it works on MacOS/Linux"
   ],
   "metadata": {
    "collapsed": false
   }
  },
  {
   "cell_type": "code",
   "execution_count": 8,
   "outputs": [
    {
     "name": "stderr",
     "output_type": "stream",
     "text": [
      "INFO flower 2022-10-22 12:15:22,493 | app.py:142 | Starting Flower simulation, config: ServerConfig(num_rounds=5, round_timeout=None)\n",
      "INFO flower 2022-10-22 12:15:25,147 | app.py:176 | Flower VCE: Ray initialized with resources: {'object_store_memory': 16171597824.0, 'CPU': 24.0, 'node:127.0.0.1': 1.0, 'memory': 32343195648.0}\n",
      "INFO flower 2022-10-22 12:15:25,148 | server.py:86 | Initializing global parameters\n",
      "INFO flower 2022-10-22 12:15:25,148 | server.py:270 | Requesting initial parameters from one random client\n"
     ]
    },
    {
     "name": "stdout",
     "output_type": "stream",
     "text": [
      "_______________________________________________________________________\n",
      " Available Clients with their locations\n",
      "_______________________________________________________________________\n",
      "0 westeurope\n",
      "1 australiaeast\n",
      "2 westeurope\n",
      "3 centralus\n",
      "4 centralus\n",
      "5 ukwest\n",
      "6 uksouth\n",
      "7 francecentral\n",
      "8 australiacentral\n",
      "9 northeurope\n",
      "10 francesouth\n",
      "11 australiacentral\n",
      "12 francecentral\n",
      "13 swedencentral\n",
      "14 westcentralus\n",
      "15 northeurope\n",
      "16 australiacentral\n",
      "17 westcentralus\n",
      "18 uksouth\n",
      "19 uksouth\n",
      "_______________________________________________________________________\n",
      " Available Clients with their participation\n",
      "_______________________________________________________________________\n",
      "0 0\n",
      "1 0\n",
      "2 0\n",
      "3 0\n",
      "4 0\n",
      "5 0\n",
      "6 0\n",
      "7 0\n",
      "8 0\n",
      "9 0\n",
      "10 0\n",
      "11 0\n",
      "12 0\n",
      "13 0\n",
      "14 0\n",
      "15 0\n",
      "16 0\n",
      "17 0\n",
      "18 0\n",
      "19 0\n",
      "_______________________________________________________________________\n",
      " selected low carbon clients\n",
      "_______________________________________________________________________\n",
      "3\n"
     ]
    },
    {
     "name": "stderr",
     "output_type": "stream",
     "text": [
      "INFO flower 2022-10-22 12:15:43,770 | server.py:274 | Received initial parameters from one random client\n",
      "INFO flower 2022-10-22 12:15:43,770 | server.py:88 | Evaluating initial parameters\n",
      "INFO flower 2022-10-22 12:15:43,771 | server.py:101 | FL starting\n",
      "DEBUG flower 2022-10-22 12:16:00,702 | server.py:215 | fit_round 1: LowCarb_Strategy sampled 10 clients (out of 20)\n"
     ]
    },
    {
     "name": "stdout",
     "output_type": "stream",
     "text": [
      "_______________________________________________________________________\n",
      " Available Clients with their locations\n",
      "_______________________________________________________________________\n",
      "0 westeurope\n",
      "1 australiaeast\n",
      "2 westeurope\n",
      "3 centralus\n",
      "4 centralus\n",
      "5 ukwest\n",
      "6 uksouth\n",
      "7 francecentral\n",
      "8 australiacentral\n",
      "9 northeurope\n",
      "10 francesouth\n",
      "11 australiacentral\n",
      "12 francecentral\n",
      "13 swedencentral\n",
      "14 westcentralus\n",
      "15 northeurope\n",
      "16 australiacentral\n",
      "17 westcentralus\n",
      "18 uksouth\n",
      "19 uksouth\n",
      "_______________________________________________________________________\n",
      " Available Clients with their participation\n",
      "_______________________________________________________________________\n",
      "0 0\n",
      "1 0\n",
      "2 0\n",
      "3 1\n",
      "4 0\n",
      "5 0\n",
      "6 0\n",
      "7 0\n",
      "8 0\n",
      "9 0\n",
      "10 0\n",
      "11 0\n",
      "12 0\n",
      "13 0\n",
      "14 0\n",
      "15 0\n",
      "16 0\n",
      "17 0\n",
      "18 0\n",
      "19 0\n",
      "_______________________________________________________________________\n",
      " selected low carbon clients\n",
      "_______________________________________________________________________\n",
      "10\n",
      "12\n",
      "7\n",
      "6\n",
      "18\n",
      "19\n",
      "5\n",
      "2\n",
      "0\n",
      "9\n"
     ]
    },
    {
     "name": "stderr",
     "output_type": "stream",
     "text": [
      "DEBUG flower 2022-10-22 12:16:07,954 | server.py:229 | fit_round 1 received 10 results and 0 failures\n",
      "WARNING flower 2022-10-22 12:16:07,972 | fedavg.py:243 | No fit_metrics_aggregation_fn provided\n",
      "DEBUG flower 2022-10-22 12:16:24,894 | server.py:165 | evaluate_round 1: LowCarb_Strategy sampled 5 clients (out of 20)\n"
     ]
    },
    {
     "name": "stdout",
     "output_type": "stream",
     "text": [
      "_______________________________________________________________________\n",
      " Available Clients with their locations\n",
      "_______________________________________________________________________\n",
      "0 westeurope\n",
      "1 australiaeast\n",
      "2 westeurope\n",
      "3 centralus\n",
      "4 centralus\n",
      "5 ukwest\n",
      "6 uksouth\n",
      "7 francecentral\n",
      "8 australiacentral\n",
      "9 northeurope\n",
      "10 francesouth\n",
      "11 australiacentral\n",
      "12 francecentral\n",
      "13 swedencentral\n",
      "14 westcentralus\n",
      "15 northeurope\n",
      "16 australiacentral\n",
      "17 westcentralus\n",
      "18 uksouth\n",
      "19 uksouth\n",
      "_______________________________________________________________________\n",
      " Available Clients with their participation\n",
      "_______________________________________________________________________\n",
      "0 1\n",
      "1 0\n",
      "2 1\n",
      "3 1\n",
      "4 0\n",
      "5 1\n",
      "6 1\n",
      "7 1\n",
      "8 0\n",
      "9 1\n",
      "10 1\n",
      "11 0\n",
      "12 1\n",
      "13 0\n",
      "14 0\n",
      "15 0\n",
      "16 0\n",
      "17 0\n",
      "18 1\n",
      "19 1\n",
      "_______________________________________________________________________\n",
      " selected low carbon clients\n",
      "_______________________________________________________________________\n",
      "15\n",
      "13\n",
      "4\n",
      "14\n",
      "17\n"
     ]
    },
    {
     "name": "stderr",
     "output_type": "stream",
     "text": [
      "DEBUG flower 2022-10-22 12:16:28,159 | server.py:179 | evaluate_round 1 received 5 results and 0 failures\n",
      "DEBUG flower 2022-10-22 12:16:45,553 | server.py:215 | fit_round 2: LowCarb_Strategy sampled 10 clients (out of 20)\n"
     ]
    },
    {
     "name": "stdout",
     "output_type": "stream",
     "text": [
      "_______________________________________________________________________\n",
      " Available Clients with their locations\n",
      "_______________________________________________________________________\n",
      "0 westeurope\n",
      "1 australiaeast\n",
      "2 westeurope\n",
      "3 centralus\n",
      "4 centralus\n",
      "5 ukwest\n",
      "6 uksouth\n",
      "7 francecentral\n",
      "8 australiacentral\n",
      "9 northeurope\n",
      "10 francesouth\n",
      "11 australiacentral\n",
      "12 francecentral\n",
      "13 swedencentral\n",
      "14 westcentralus\n",
      "15 northeurope\n",
      "16 australiacentral\n",
      "17 westcentralus\n",
      "18 uksouth\n",
      "19 uksouth\n",
      "_______________________________________________________________________\n",
      " Available Clients with their participation\n",
      "_______________________________________________________________________\n",
      "0 1\n",
      "1 0\n",
      "2 1\n",
      "3 1\n",
      "4 1\n",
      "5 1\n",
      "6 1\n",
      "7 1\n",
      "8 0\n",
      "9 1\n",
      "10 1\n",
      "11 0\n",
      "12 1\n",
      "13 1\n",
      "14 1\n",
      "15 1\n",
      "16 0\n",
      "17 1\n",
      "18 1\n",
      "19 1\n",
      "_______________________________________________________________________\n",
      " selected low carbon clients\n",
      "_______________________________________________________________________\n",
      "8\n",
      "16\n",
      "1\n",
      "11\n",
      "3\n",
      "4\n",
      "14\n",
      "17\n",
      "19\n",
      "18\n"
     ]
    },
    {
     "name": "stderr",
     "output_type": "stream",
     "text": [
      "DEBUG flower 2022-10-22 12:16:51,870 | server.py:229 | fit_round 2 received 10 results and 0 failures\n"
     ]
    },
    {
     "name": "stdout",
     "output_type": "stream",
     "text": [
      "System error: Unknown error\n"
     ]
    },
    {
     "name": "stderr",
     "output_type": "stream",
     "text": [
      "\u001B[2m\u001B[36m(pid=)\u001B[0m [2022-10-22 12:17:03,306 E 19668 23332] (raylet.exe) agent_manager.cc:107: The raylet exited immediately because the Ray agent failed. The raylet fate shares with the agent. This can happen because the Ray agent was unexpectedly killed or failed. See `dashboard_agent.log` for the root cause.\n"
     ]
    },
    {
     "name": "stdout",
     "output_type": "stream",
     "text": [
      "System error: Unknown error\n",
      "System error: Unknown error\n"
     ]
    },
    {
     "name": "stderr",
     "output_type": "stream",
     "text": [
      "\u001B[2m\u001B[36m(pid=)\u001B[0m [2022-10-22 12:17:05,382 E 29080 4988] (gcs_server.exe) gcs_server.cc:283: Failed to get the resource load: GrpcUnavailable: RPC Error message: failed to connect to all addresses; RPC Error details: \n",
      "\u001B[2m\u001B[36m(pid=)\u001B[0m [2022-10-22 12:17:05,382 E 29080 4988] (gcs_server.exe) gcs_server.cc:283: Failed to get the resource load: GrpcUnavailable: RPC Error message: failed to connect to all addresses; RPC Error details: \n",
      "\u001B[2m\u001B[36m(pid=)\u001B[0m [2022-10-22 12:17:05,383 E 29080 4988] (gcs_server.exe) gcs_server.cc:283: Failed to get the resource load: GrpcUnavailable: RPC Error message: failed to connect to all addresses; RPC Error details: \n",
      "\u001B[2m\u001B[36m(pid=)\u001B[0m [2022-10-22 12:17:06,358 E 29080 4988] (gcs_server.exe) gcs_server.cc:283: Failed to get the resource load: GrpcUnavailable: RPC Error message: failed to connect to all addresses; RPC Error details: \n",
      "\u001B[2m\u001B[36m(pid=)\u001B[0m [2022-10-22 12:17:07,365 E 29080 4988] (gcs_server.exe) gcs_server.cc:283: Failed to get the resource load: GrpcUnavailable: RPC Error message: failed to connect to all addresses; RPC Error details: \n",
      "\u001B[2m\u001B[36m(pid=)\u001B[0m [2022-10-22 12:17:08,367 E 29080 4988] (gcs_server.exe) gcs_server.cc:283: Failed to get the resource load: GrpcUnavailable: RPC Error message: failed to connect to all addresses; RPC Error details: \n"
     ]
    },
    {
     "ename": "KeyError",
     "evalue": "'17'",
     "output_type": "error",
     "traceback": [
      "\u001B[1;31m---------------------------------------------------------------------------\u001B[0m",
      "\u001B[1;31mKeyError\u001B[0m                                  Traceback (most recent call last)",
      "Cell \u001B[1;32mIn [8], line 3\u001B[0m\n\u001B[0;32m      1\u001B[0m \u001B[38;5;28;01mfrom\u001B[39;00m \u001B[38;5;21;01mlowcarb\u001B[39;00m \u001B[38;5;28;01mimport\u001B[39;00m LowCarb_ClientManager\n\u001B[0;32m      2\u001B[0m \u001B[38;5;66;03m# Start simulation\u001B[39;00m\n\u001B[1;32m----> 3\u001B[0m \u001B[43mfl\u001B[49m\u001B[38;5;241;43m.\u001B[39;49m\u001B[43msimulation\u001B[49m\u001B[38;5;241;43m.\u001B[39;49m\u001B[43mstart_simulation\u001B[49m\u001B[43m(\u001B[49m\n\u001B[0;32m      4\u001B[0m \u001B[43m    \u001B[49m\u001B[43mclient_fn\u001B[49m\u001B[38;5;241;43m=\u001B[39;49m\u001B[43mclient_generator\u001B[49m\u001B[43m,\u001B[49m\n\u001B[0;32m      5\u001B[0m \u001B[43m    \u001B[49m\u001B[43mnum_clients\u001B[49m\u001B[38;5;241;43m=\u001B[39;49m\u001B[43mNUM_CLIENTS\u001B[49m\u001B[43m,\u001B[49m\n\u001B[0;32m      6\u001B[0m \u001B[43m    \u001B[49m\u001B[43mconfig\u001B[49m\u001B[38;5;241;43m=\u001B[39;49m\u001B[43mfl\u001B[49m\u001B[38;5;241;43m.\u001B[39;49m\u001B[43mserver\u001B[49m\u001B[38;5;241;43m.\u001B[39;49m\u001B[43mServerConfig\u001B[49m\u001B[43m(\u001B[49m\u001B[43mnum_rounds\u001B[49m\u001B[38;5;241;43m=\u001B[39;49m\u001B[38;5;241;43m5\u001B[39;49m\u001B[43m)\u001B[49m\u001B[43m,\u001B[49m\n\u001B[0;32m      7\u001B[0m \u001B[43m    \u001B[49m\u001B[43mstrategy\u001B[49m\u001B[38;5;241;43m=\u001B[39;49m\u001B[43mstrategy\u001B[49m\u001B[43m,\u001B[49m\n\u001B[0;32m      8\u001B[0m \u001B[43m    \u001B[49m\u001B[43mclient_manager\u001B[49m\u001B[38;5;241;43m=\u001B[39;49m\u001B[43mLowCarb_ClientManager\u001B[49m\u001B[43m(\u001B[49m\u001B[43mapi_host\u001B[49m\u001B[38;5;241;43m=\u001B[39;49m\u001B[38;5;124;43m'\u001B[39;49m\u001B[38;5;124;43mhttps://carbon-aware-api.azurewebsites.net\u001B[39;49m\u001B[38;5;124;43m'\u001B[39;49m\u001B[43m,\u001B[49m\u001B[43m \u001B[49m\u001B[43mworkload_duration\u001B[49m\u001B[38;5;241;43m=\u001B[39;49m\u001B[38;5;241;43m15\u001B[39;49m\u001B[43m,\u001B[49m\u001B[43m \u001B[49m\u001B[43mforecast_window\u001B[49m\u001B[38;5;241;43m=\u001B[39;49m\u001B[38;5;241;43m12\u001B[39;49m\u001B[43m)\u001B[49m\u001B[43m,\u001B[49m\n\u001B[0;32m      9\u001B[0m \u001B[43m)\u001B[49m\n",
      "File \u001B[1;32m~\\Documents\\Programming\\Carbon_Hack_22\\carbonhack22\\venv\\lib\\site-packages\\flwr\\simulation\\app.py:193\u001B[0m, in \u001B[0;36mstart_simulation\u001B[1;34m(client_fn, num_clients, clients_ids, client_resources, server, config, strategy, client_manager, ray_init_args, keep_initialised)\u001B[0m\n\u001B[0;32m    190\u001B[0m     initialized_server\u001B[38;5;241m.\u001B[39mclient_manager()\u001B[38;5;241m.\u001B[39mregister(client\u001B[38;5;241m=\u001B[39mclient_proxy)\n\u001B[0;32m    192\u001B[0m \u001B[38;5;66;03m# Start training\u001B[39;00m\n\u001B[1;32m--> 193\u001B[0m hist \u001B[38;5;241m=\u001B[39m \u001B[43m_fl\u001B[49m\u001B[43m(\u001B[49m\n\u001B[0;32m    194\u001B[0m \u001B[43m    \u001B[49m\u001B[43mserver\u001B[49m\u001B[38;5;241;43m=\u001B[39;49m\u001B[43minitialized_server\u001B[49m\u001B[43m,\u001B[49m\n\u001B[0;32m    195\u001B[0m \u001B[43m    \u001B[49m\u001B[43mconfig\u001B[49m\u001B[38;5;241;43m=\u001B[39;49m\u001B[43minitialized_config\u001B[49m\u001B[43m,\u001B[49m\n\u001B[0;32m    196\u001B[0m \u001B[43m\u001B[49m\u001B[43m)\u001B[49m\n\u001B[0;32m    198\u001B[0m \u001B[38;5;28;01mreturn\u001B[39;00m hist\n",
      "File \u001B[1;32m~\\Documents\\Programming\\Carbon_Hack_22\\carbonhack22\\venv\\lib\\site-packages\\flwr\\server\\app.py:179\u001B[0m, in \u001B[0;36m_fl\u001B[1;34m(server, config)\u001B[0m\n\u001B[0;32m    174\u001B[0m \u001B[38;5;28;01mdef\u001B[39;00m \u001B[38;5;21m_fl\u001B[39m(\n\u001B[0;32m    175\u001B[0m     server: Server,\n\u001B[0;32m    176\u001B[0m     config: ServerConfig,\n\u001B[0;32m    177\u001B[0m ) \u001B[38;5;241m-\u001B[39m\u001B[38;5;241m>\u001B[39m History:\n\u001B[0;32m    178\u001B[0m     \u001B[38;5;66;03m# Fit model\u001B[39;00m\n\u001B[1;32m--> 179\u001B[0m     hist \u001B[38;5;241m=\u001B[39m \u001B[43mserver\u001B[49m\u001B[38;5;241;43m.\u001B[39;49m\u001B[43mfit\u001B[49m\u001B[43m(\u001B[49m\u001B[43mnum_rounds\u001B[49m\u001B[38;5;241;43m=\u001B[39;49m\u001B[43mconfig\u001B[49m\u001B[38;5;241;43m.\u001B[39;49m\u001B[43mnum_rounds\u001B[49m\u001B[43m,\u001B[49m\u001B[43m \u001B[49m\u001B[43mtimeout\u001B[49m\u001B[38;5;241;43m=\u001B[39;49m\u001B[43mconfig\u001B[49m\u001B[38;5;241;43m.\u001B[39;49m\u001B[43mround_timeout\u001B[49m\u001B[43m)\u001B[49m\n\u001B[0;32m    180\u001B[0m     log(INFO, \u001B[38;5;124m\"\u001B[39m\u001B[38;5;124mapp_fit: losses_distributed \u001B[39m\u001B[38;5;132;01m%s\u001B[39;00m\u001B[38;5;124m\"\u001B[39m, \u001B[38;5;28mstr\u001B[39m(hist\u001B[38;5;241m.\u001B[39mlosses_distributed))\n\u001B[0;32m    181\u001B[0m     log(INFO, \u001B[38;5;124m\"\u001B[39m\u001B[38;5;124mapp_fit: metrics_distributed \u001B[39m\u001B[38;5;132;01m%s\u001B[39;00m\u001B[38;5;124m\"\u001B[39m, \u001B[38;5;28mstr\u001B[39m(hist\u001B[38;5;241m.\u001B[39mmetrics_distributed))\n",
      "File \u001B[1;32m~\\Documents\\Programming\\Carbon_Hack_22\\carbonhack22\\venv\\lib\\site-packages\\flwr\\server\\server.py:130\u001B[0m, in \u001B[0;36mServer.fit\u001B[1;34m(self, num_rounds, timeout)\u001B[0m\n\u001B[0;32m    125\u001B[0m     history\u001B[38;5;241m.\u001B[39madd_metrics_centralized(\n\u001B[0;32m    126\u001B[0m         server_round\u001B[38;5;241m=\u001B[39mcurrent_round, metrics\u001B[38;5;241m=\u001B[39mmetrics_cen\n\u001B[0;32m    127\u001B[0m     )\n\u001B[0;32m    129\u001B[0m \u001B[38;5;66;03m# Evaluate model on a sample of available clients\u001B[39;00m\n\u001B[1;32m--> 130\u001B[0m res_fed \u001B[38;5;241m=\u001B[39m \u001B[38;5;28;43mself\u001B[39;49m\u001B[38;5;241;43m.\u001B[39;49m\u001B[43mevaluate_round\u001B[49m\u001B[43m(\u001B[49m\u001B[43mserver_round\u001B[49m\u001B[38;5;241;43m=\u001B[39;49m\u001B[43mcurrent_round\u001B[49m\u001B[43m,\u001B[49m\u001B[43m \u001B[49m\u001B[43mtimeout\u001B[49m\u001B[38;5;241;43m=\u001B[39;49m\u001B[43mtimeout\u001B[49m\u001B[43m)\u001B[49m\n\u001B[0;32m    131\u001B[0m \u001B[38;5;28;01mif\u001B[39;00m res_fed:\n\u001B[0;32m    132\u001B[0m     loss_fed, evaluate_metrics_fed, _ \u001B[38;5;241m=\u001B[39m res_fed\n",
      "File \u001B[1;32m~\\Documents\\Programming\\Carbon_Hack_22\\carbonhack22\\venv\\lib\\site-packages\\flwr\\server\\server.py:157\u001B[0m, in \u001B[0;36mServer.evaluate_round\u001B[1;34m(self, server_round, timeout)\u001B[0m\n\u001B[0;32m    154\u001B[0m \u001B[38;5;124;03m\"\"\"Validate current global model on a number of clients.\"\"\"\u001B[39;00m\n\u001B[0;32m    156\u001B[0m \u001B[38;5;66;03m# Get clients and their respective instructions from LowCarb_Strategy\u001B[39;00m\n\u001B[1;32m--> 157\u001B[0m client_instructions \u001B[38;5;241m=\u001B[39m \u001B[38;5;28;43mself\u001B[39;49m\u001B[38;5;241;43m.\u001B[39;49m\u001B[43mstrategy\u001B[49m\u001B[38;5;241;43m.\u001B[39;49m\u001B[43mconfigure_evaluate\u001B[49m\u001B[43m(\u001B[49m\n\u001B[0;32m    158\u001B[0m \u001B[43m    \u001B[49m\u001B[43mserver_round\u001B[49m\u001B[38;5;241;43m=\u001B[39;49m\u001B[43mserver_round\u001B[49m\u001B[43m,\u001B[49m\n\u001B[0;32m    159\u001B[0m \u001B[43m    \u001B[49m\u001B[43mparameters\u001B[49m\u001B[38;5;241;43m=\u001B[39;49m\u001B[38;5;28;43mself\u001B[39;49m\u001B[38;5;241;43m.\u001B[39;49m\u001B[43mparameters\u001B[49m\u001B[43m,\u001B[49m\n\u001B[0;32m    160\u001B[0m \u001B[43m    \u001B[49m\u001B[43mclient_manager\u001B[49m\u001B[38;5;241;43m=\u001B[39;49m\u001B[38;5;28;43mself\u001B[39;49m\u001B[38;5;241;43m.\u001B[39;49m\u001B[43m_client_manager\u001B[49m\u001B[43m,\u001B[49m\n\u001B[0;32m    161\u001B[0m \u001B[43m\u001B[49m\u001B[43m)\u001B[49m\n\u001B[0;32m    162\u001B[0m \u001B[38;5;28;01mif\u001B[39;00m \u001B[38;5;129;01mnot\u001B[39;00m client_instructions:\n\u001B[0;32m    163\u001B[0m     log(INFO, \u001B[38;5;124m\"\u001B[39m\u001B[38;5;124mevaluate_round \u001B[39m\u001B[38;5;132;01m%s\u001B[39;00m\u001B[38;5;124m: no clients selected, cancel\u001B[39m\u001B[38;5;124m\"\u001B[39m, server_round)\n",
      "File \u001B[1;32m~\\Documents\\Programming\\Carbon_Hack_22\\carbonhack22\\venv\\lib\\site-packages\\flwr\\server\\strategy\\fedavg.py:210\u001B[0m, in \u001B[0;36mFedAvg.configure_evaluate\u001B[1;34m(self, server_round, parameters, client_manager)\u001B[0m\n\u001B[0;32m    206\u001B[0m \u001B[38;5;66;03m# Sample clients\u001B[39;00m\n\u001B[0;32m    207\u001B[0m sample_size, min_num_clients \u001B[38;5;241m=\u001B[39m \u001B[38;5;28mself\u001B[39m\u001B[38;5;241m.\u001B[39mnum_evaluation_clients(\n\u001B[0;32m    208\u001B[0m     client_manager\u001B[38;5;241m.\u001B[39mnum_available()\n\u001B[0;32m    209\u001B[0m )\n\u001B[1;32m--> 210\u001B[0m clients \u001B[38;5;241m=\u001B[39m \u001B[43mclient_manager\u001B[49m\u001B[38;5;241;43m.\u001B[39;49m\u001B[43msample\u001B[49m\u001B[43m(\u001B[49m\n\u001B[0;32m    211\u001B[0m \u001B[43m    \u001B[49m\u001B[43mnum_clients\u001B[49m\u001B[38;5;241;43m=\u001B[39;49m\u001B[43msample_size\u001B[49m\u001B[43m,\u001B[49m\u001B[43m \u001B[49m\u001B[43mmin_num_clients\u001B[49m\u001B[38;5;241;43m=\u001B[39;49m\u001B[43mmin_num_clients\u001B[49m\n\u001B[0;32m    212\u001B[0m \u001B[43m\u001B[49m\u001B[43m)\u001B[49m\n\u001B[0;32m    214\u001B[0m \u001B[38;5;66;03m# Return client/config pairs\u001B[39;00m\n\u001B[0;32m    215\u001B[0m \u001B[38;5;28;01mreturn\u001B[39;00m [(client, evaluate_ins) \u001B[38;5;28;01mfor\u001B[39;00m client \u001B[38;5;129;01min\u001B[39;00m clients]\n",
      "File \u001B[1;32m~\\Documents\\Programming\\Carbon_Hack_22\\carbonhack22\\lowcarb\\lowcarb_client_manager.py:92\u001B[0m, in \u001B[0;36mLowCarb_ClientManager.sample\u001B[1;34m(self, num_clients, min_num_clients, criterion)\u001B[0m\n\u001B[0;32m     89\u001B[0m available_cids_participation \u001B[38;5;241m=\u001B[39m {cid: \u001B[38;5;28mself\u001B[39m\u001B[38;5;241m.\u001B[39mclient_participation[cid] \u001B[38;5;28;01mfor\u001B[39;00m cid \u001B[38;5;129;01min\u001B[39;00m available_cids}\n\u001B[0;32m     91\u001B[0m strategy \u001B[38;5;241m=\u001B[39m CarbonAwareStrategy(clients_per_round\u001B[38;5;241m=\u001B[39mnum_clients, max_forecast_duration\u001B[38;5;241m=\u001B[39m\u001B[38;5;28mself\u001B[39m\u001B[38;5;241m.\u001B[39mforecast_window)\n\u001B[1;32m---> 92\u001B[0m selected_clients \u001B[38;5;241m=\u001B[39m \u001B[43mstrategy\u001B[49m\u001B[38;5;241;43m.\u001B[39;49m\u001B[43mselect\u001B[49m\u001B[43m(\u001B[49m\u001B[43mforecasts\u001B[49m\u001B[38;5;241;43m=\u001B[39;49m\u001B[43mforecasts\u001B[49m\u001B[43m,\u001B[49m\u001B[43m \u001B[49m\u001B[43mpast_participation\u001B[49m\u001B[38;5;241;43m=\u001B[39;49m\u001B[43mavailable_cids_participation\u001B[49m\u001B[43m,\u001B[49m\u001B[43m \u001B[49m\u001B[43mclient_location_map\u001B[49m\u001B[38;5;241;43m=\u001B[39;49m\u001B[43mclient_locations\u001B[49m\u001B[43m)\u001B[49m\n\u001B[0;32m     94\u001B[0m \u001B[38;5;28;01mfor\u001B[39;00m client \u001B[38;5;129;01min\u001B[39;00m selected_clients:\n\u001B[0;32m     95\u001B[0m     \u001B[38;5;28mself\u001B[39m\u001B[38;5;241m.\u001B[39mclient_participation[client] \u001B[38;5;241m=\u001B[39m \u001B[38;5;28mself\u001B[39m\u001B[38;5;241m.\u001B[39mclient_participation[client] \u001B[38;5;241m+\u001B[39m \u001B[38;5;241m1\u001B[39m\n",
      "File \u001B[1;32m~\\Documents\\Programming\\Carbon_Hack_22\\carbonhack22\\backtest\\strategy.py:43\u001B[0m, in \u001B[0;36mCarbonAwareStrategy.select\u001B[1;34m(self, forecasts, past_participation, client_location_map)\u001B[0m\n\u001B[0;32m     41\u001B[0m participation \u001B[38;5;241m=\u001B[39m np\u001B[38;5;241m.\u001B[39marray(\u001B[38;5;28mlist\u001B[39m(past_participation\u001B[38;5;241m.\u001B[39mvalues()))\n\u001B[0;32m     42\u001B[0m client_windows \u001B[38;5;241m=\u001B[39m \u001B[38;5;28mself\u001B[39m\u001B[38;5;241m.\u001B[39m_calc_forecast_windows(participation)\n\u001B[1;32m---> 43\u001B[0m deltas \u001B[38;5;241m=\u001B[39m [\u001B[38;5;28mself\u001B[39m\u001B[38;5;241m.\u001B[39m_lowest_delta(forecasts[client_location_map[c]], w) \u001B[38;5;28;01mfor\u001B[39;00m c, w \u001B[38;5;129;01min\u001B[39;00m \u001B[38;5;28mzip\u001B[39m(clients, client_windows)]\n\u001B[0;32m     44\u001B[0m clients_sorted_by_score \u001B[38;5;241m=\u001B[39m pd\u001B[38;5;241m.\u001B[39mSeries(clients, index\u001B[38;5;241m=\u001B[39mdeltas)\u001B[38;5;241m.\u001B[39msort_index(ascending\u001B[38;5;241m=\u001B[39m\u001B[38;5;28;01mFalse\u001B[39;00m)\n\u001B[0;32m     45\u001B[0m \u001B[38;5;28;01mreturn\u001B[39;00m \u001B[38;5;28mlist\u001B[39m(clients_sorted_by_score\u001B[38;5;241m.\u001B[39miloc[:\u001B[38;5;28mself\u001B[39m\u001B[38;5;241m.\u001B[39mclients_per_round]\u001B[38;5;241m.\u001B[39mvalues)\n",
      "File \u001B[1;32m~\\Documents\\Programming\\Carbon_Hack_22\\carbonhack22\\backtest\\strategy.py:43\u001B[0m, in \u001B[0;36m<listcomp>\u001B[1;34m(.0)\u001B[0m\n\u001B[0;32m     41\u001B[0m participation \u001B[38;5;241m=\u001B[39m np\u001B[38;5;241m.\u001B[39marray(\u001B[38;5;28mlist\u001B[39m(past_participation\u001B[38;5;241m.\u001B[39mvalues()))\n\u001B[0;32m     42\u001B[0m client_windows \u001B[38;5;241m=\u001B[39m \u001B[38;5;28mself\u001B[39m\u001B[38;5;241m.\u001B[39m_calc_forecast_windows(participation)\n\u001B[1;32m---> 43\u001B[0m deltas \u001B[38;5;241m=\u001B[39m [\u001B[38;5;28mself\u001B[39m\u001B[38;5;241m.\u001B[39m_lowest_delta(forecasts[\u001B[43mclient_location_map\u001B[49m\u001B[43m[\u001B[49m\u001B[43mc\u001B[49m\u001B[43m]\u001B[49m], w) \u001B[38;5;28;01mfor\u001B[39;00m c, w \u001B[38;5;129;01min\u001B[39;00m \u001B[38;5;28mzip\u001B[39m(clients, client_windows)]\n\u001B[0;32m     44\u001B[0m clients_sorted_by_score \u001B[38;5;241m=\u001B[39m pd\u001B[38;5;241m.\u001B[39mSeries(clients, index\u001B[38;5;241m=\u001B[39mdeltas)\u001B[38;5;241m.\u001B[39msort_index(ascending\u001B[38;5;241m=\u001B[39m\u001B[38;5;28;01mFalse\u001B[39;00m)\n\u001B[0;32m     45\u001B[0m \u001B[38;5;28;01mreturn\u001B[39;00m \u001B[38;5;28mlist\u001B[39m(clients_sorted_by_score\u001B[38;5;241m.\u001B[39miloc[:\u001B[38;5;28mself\u001B[39m\u001B[38;5;241m.\u001B[39mclients_per_round]\u001B[38;5;241m.\u001B[39mvalues)\n",
      "\u001B[1;31mKeyError\u001B[0m: '17'"
     ]
    }
   ],
   "source": [
    "from lowcarb import LowCarb_ClientManager\n",
    "# Start simulation\n",
    "fl.simulation.start_simulation(\n",
    "    client_fn=client_generator,\n",
    "    num_clients=NUM_CLIENTS,\n",
    "    config=fl.server.ServerConfig(num_rounds=5),\n",
    "    strategy=strategy,\n",
    "    client_manager=LowCarb_ClientManager(api_host='https://carbon-aware-api.azurewebsites.net', workload_duration=15, forecast_window=12),\n",
    ")"
   ],
   "metadata": {
    "collapsed": false
   }
  },
  {
   "cell_type": "code",
   "execution_count": null,
   "metadata": {},
   "outputs": [],
   "source": []
  }
 ],
 "metadata": {
  "kernelspec": {
   "display_name": "Python 3 (ipykernel)",
   "language": "python",
   "name": "python3"
  },
  "language_info": {
   "codemirror_mode": {
    "name": "ipython",
    "version": 3
   },
   "file_extension": ".py",
   "mimetype": "text/x-python",
   "name": "python",
   "nbconvert_exporter": "python",
   "pygments_lexer": "ipython3",
   "version": "3.9.1"
  }
 },
 "nbformat": 4,
 "nbformat_minor": 1
}
