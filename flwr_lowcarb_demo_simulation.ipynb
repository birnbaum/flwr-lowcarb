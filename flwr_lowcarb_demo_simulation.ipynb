{
 "cells": [
  {
   "cell_type": "markdown",
   "source": [
    "# Carbon Aware Federated Learning using Flower and Carbon Aware SDK\n",
    "This notebook follows along the official \"Introduction to Federated Learning\" from the official Flower [documentation](https://flower.dev/docs/tutorial/Flower-1-Intro-to-FL-PyTorch.html) using PyTorch and the CIFAR10 dataset\n",
    "\n",
    "The extra steps to make your federated learning carben aware using the Carbon Aware SDK are highlighted along the way."
   ],
   "metadata": {
    "collapsed": false
   }
  },
  {
   "cell_type": "code",
   "execution_count": 1,
   "metadata": {},
   "outputs": [],
   "source": [
    "import random\n",
    "from collections import OrderedDict\n",
    "from typing import List\n",
    "\n",
    "import flwr as fl\n",
    "import numpy as np\n",
    "import torch\n",
    "import torch.nn as nn\n",
    "import torch.nn.functional as F\n",
    "import torchvision.transforms as transforms\n",
    "from torch.utils.data import DataLoader, random_split\n",
    "from torchvision.datasets import CIFAR10"
   ]
  },
  {
   "cell_type": "raw",
   "source": [
    "from lowcarb import Lowcarb_Client, LowCarb_ClientManager"
   ],
   "metadata": {
    "collapsed": false
   }
  },
  {
   "cell_type": "code",
   "execution_count": 2,
   "metadata": {},
   "outputs": [],
   "source": [
    "DEVICE = torch.device(\"cpu\")\n",
    "NUM_CLIENTS = 10\n",
    "BATCH_SIZE = 32"
   ]
  },
  {
   "cell_type": "code",
   "execution_count": 3,
   "outputs": [
    {
     "name": "stdout",
     "output_type": "stream",
     "text": [
      "Files already downloaded and verified\n",
      "Files already downloaded and verified\n"
     ]
    }
   ],
   "source": [
    "CLASSES = ('plane', 'car', 'bird', 'cat', 'deer', 'dog', 'frog', 'horse', 'ship', 'truck')\n",
    "def load_datasets(num_clients: int):\n",
    "    # Download and transform CIFAR-10 (train and test)\n",
    "    transform = transforms.Compose(\n",
    "      [transforms.ToTensor(), transforms.Normalize((0.5, 0.5, 0.5), (0.5, 0.5, 0.5))]\n",
    "    )\n",
    "    trainset = CIFAR10(\"./dataset\", train=True, download=True, transform=transform)\n",
    "    testset = CIFAR10(\"./dataset\", train=False, download=True, transform=transform)\n",
    "\n",
    "    # Split training set into `num_clients` partitions to simulate different local datasets\n",
    "    partition_size = len(trainset) // num_clients\n",
    "    lengths = [partition_size] * num_clients\n",
    "    datasets = random_split(trainset, lengths, torch.Generator().manual_seed(42))\n",
    "\n",
    "    # Split each partition into train/val and create DataLoader\n",
    "    trainloaders = []\n",
    "    valloaders = []\n",
    "    for ds in datasets:\n",
    "        len_val = len(ds) // 10  # 10 % validation set\n",
    "        len_train = len(ds) - len_val\n",
    "        lengths = [len_train, len_val]\n",
    "        ds_train, ds_val = random_split(ds, lengths, torch.Generator().manual_seed(42))\n",
    "        trainloaders.append(DataLoader(ds_train, batch_size=32, shuffle=True))\n",
    "        valloaders.append(DataLoader(ds_val, batch_size=32))\n",
    "    testloader = DataLoader(testset, batch_size=32)\n",
    "    return trainloaders, valloaders, testloader\n",
    "\n",
    "trainloaders, valloaders, testloader = load_datasets(num_clients=NUM_CLIENTS)"
   ],
   "metadata": {
    "collapsed": false
   }
  },
  {
   "cell_type": "raw",
   "source": [
    "\n",
    "# class LowCarb_Strategy(LowCarb_Strategy, fl.server.strategy.FedAvg):\n",
    "#     def __init__(self, **kargs):\n",
    "#         super(LowCarb_Strategy, self).__init__(**kargs)\n",
    "\n",
    "class My_LowCarb_ClientManager(LowCarb_ClientManager):\n",
    "    def __init__(self, **kargs):\n",
    "        super(LowCarb_ClientManager, self).__init__(**kargs)"
   ],
   "metadata": {
    "collapsed": false
   }
  },
  {
   "cell_type": "markdown",
   "source": [
    "## Implementation of the neural net\n",
    "using the CIFAR10 dataset following along the [Flower documentation](https://flower.dev/docs/tutorial/Flower-1-Intro-to-FL-PyTorch.html)"
   ],
   "metadata": {
    "collapsed": false
   }
  },
  {
   "cell_type": "code",
   "execution_count": 4,
   "metadata": {},
   "outputs": [],
   "source": [
    "def load_datasets(num_clients: int):\n",
    "    # Download and transform CIFAR-10 (train and test)\n",
    "    transform = transforms.Compose(\n",
    "      [transforms.ToTensor(), transforms.Normalize((0.5, 0.5, 0.5), (0.5, 0.5, 0.5))]\n",
    "    )\n",
    "    trainset = CIFAR10(\"./dataset\", train=True, download=True, transform=transform)\n",
    "    testset = CIFAR10(\"./dataset\", train=False, download=True, transform=transform)\n",
    "\n",
    "    # Split training set into `num_clients` partitions to simulate different local datasets\n",
    "    partition_size = len(trainset) // num_clients\n",
    "    lengths = [partition_size] * num_clients\n",
    "    datasets = random_split(trainset, lengths, torch.Generator().manual_seed(42))\n",
    "\n",
    "    # Split each partition into train/val and create DataLoader\n",
    "    trainloaders = []\n",
    "    valloaders = []\n",
    "    for ds in datasets:\n",
    "        len_val = len(ds) // 10  # 10 % validation set\n",
    "        len_train = len(ds) - len_val\n",
    "        lengths = [len_train, len_val]\n",
    "        ds_train, ds_val = random_split(ds, lengths, torch.Generator().manual_seed(42))\n",
    "        trainloaders.append(DataLoader(ds_train, batch_size=32, shuffle=True))\n",
    "        valloaders.append(DataLoader(ds_val, batch_size=32))\n",
    "    testloader = DataLoader(testset, batch_size=32)\n",
    "    return trainloaders, valloaders, testloader\n",
    "\n",
    "\n",
    "class Net(nn.Module):\n",
    "    def __init__(self) -> None:\n",
    "        super(Net, self).__init__()\n",
    "        self.conv1 = nn.Conv2d(3, 6, 5)\n",
    "        self.pool = nn.MaxPool2d(2, 2)\n",
    "        self.conv2 = nn.Conv2d(6, 16, 5)\n",
    "        self.fc1 = nn.Linear(16 * 5 * 5, 120)\n",
    "        self.fc2 = nn.Linear(120, 84)\n",
    "        self.fc3 = nn.Linear(84, 10)\n",
    "\n",
    "    def forward(self, x: torch.Tensor) -> torch.Tensor:\n",
    "        x = self.pool(F.relu(self.conv1(x)))\n",
    "        x = self.pool(F.relu(self.conv2(x)))\n",
    "        x = x.view(-1, 16 * 5 * 5)\n",
    "        x = F.relu(self.fc1(x))\n",
    "        x = F.relu(self.fc2(x))\n",
    "        x = self.fc3(x)\n",
    "        return x\n",
    "\n",
    "def train(net, trainloader, epochs: int):\n",
    "    \"\"\"Train the network on the training set.\"\"\"\n",
    "    criterion = torch.nn.CrossEntropyLoss()\n",
    "    optimizer = torch.optim.Adam(net.parameters())\n",
    "    net.train()\n",
    "    for epoch in range(epochs):\n",
    "        correct, total, epoch_loss = 0, 0, 0.0\n",
    "        for images, labels in trainloader:\n",
    "            images, labels = images.to(DEVICE), labels.to(DEVICE)\n",
    "            optimizer.zero_grad()\n",
    "            outputs = net(images)\n",
    "            loss = criterion(net(images), labels)\n",
    "            loss.backward()\n",
    "            optimizer.step()\n",
    "            # Metrics\n",
    "            epoch_loss += loss\n",
    "            total += labels.size(0)\n",
    "            correct += (torch.max(outputs.data, 1)[1] == labels).sum().item()\n",
    "        epoch_loss /= len(trainloader.dataset)\n",
    "        epoch_acc = correct / total\n",
    "        print(f\"Epoch {epoch+1}: train loss {epoch_loss}, accuracy {epoch_acc}\")\n",
    "\n",
    "def test(net, testloader):\n",
    "    \"\"\"Evaluate the network on the entire test set.\"\"\"\n",
    "    criterion = torch.nn.CrossEntropyLoss()\n",
    "    correct, total, loss = 0, 0, 0.0\n",
    "    net.eval()\n",
    "    with torch.no_grad():\n",
    "        for images, labels in testloader:\n",
    "            images, labels = images.to(DEVICE), labels.to(DEVICE)\n",
    "            outputs = net(images)\n",
    "            loss += criterion(outputs, labels).item()\n",
    "            _, predicted = torch.max(outputs.data, 1)\n",
    "            total += labels.size(0)\n",
    "            correct += (predicted == labels).sum().item()\n",
    "    loss /= len(testloader.dataset)\n",
    "    accuracy = correct / total\n",
    "    return loss, accuracy\n",
    "\n",
    "def weighted_average(metrics):\n",
    "    # Multiply accuracy of each client by number of examples used\n",
    "    accuracies = [num_examples * m[\"accuracy\"] for num_examples, m in metrics]\n",
    "    examples = [num_examples for num_examples, _ in metrics]\n",
    "\n",
    "    # Aggregate and return custom metric (weighted average)\n",
    "    return {\"accuracy\": sum(accuracies) / sum(examples)}"
   ]
  },
  {
   "cell_type": "markdown",
   "source": [
    "## Implementation of the Flower Client\n",
    "The simple implementation of the FlowerClient follows once again the [Flower documentation](https://flower.dev/docs/tutorial/Flower-1-Intro-to-FL-PyTorch.html), however, we make it carbon aware using the lowcarb framework.\n",
    "Here you have two options:\n",
    "-   inherit lowcarb's Lowcarb_Client and make sure your client has a 'location' attribute,\n",
    "-   if your own future client implementation needs to implement the get_properties() method, decorate it with @lowcarb and go on with your business.\n",
    "```\n",
    "from lowcarb import Lowcarb_Client, lowcarb\n",
    "\n",
    "class My_Custom_Client(Lowcarb_Client, fl.client.NumPyClient)\n",
    "\n",
    "    @lowcarb\n",
    "    def get_properties(config):\n",
    "        my_business = {'value1': 123, 'value2': 456, 'value3': 789}\n",
    "\n",
    "        return my_business\n",
    "```\n",
    "\n",
    "Note:\n",
    "-   the @lowcarb decorated attaches a 'location' attribute to your get_properties() return. lowcarb's Client_Manager we will meet further down needs this information for a carbon aware scheduling.\n",
    "    ```\n",
    "    my_custom_client.get_properties({}) -> {'value1': 123, 'value2': 456, 'value3': 789, 'location': my_custom_client.location}\n",
    "    ```\n",
    "-   If the locatio of the client changes througout its lifetime, update the location in your get_properties() implementation"
   ],
   "metadata": {
    "collapsed": false
   }
  },
  {
   "cell_type": "code",
   "execution_count": 5,
   "metadata": {},
   "outputs": [],
   "source": [
    "from lowcarb import Lowcarb_Client\n",
    "\n",
    "class FlowerClient(Lowcarb_Client, fl.client.NumPyClient):\n",
    "    def __init__(self, net, trainloader, valloader, location, *args, **kwargs):\n",
    "        super(FlowerClient, self).__init__(*args, **kwargs)\n",
    "        self.net = net\n",
    "        self.trainloader = trainloader\n",
    "        self.valloader = valloader\n",
    "\n",
    "        self.location = location\n",
    "\n",
    "    def get_parameters(self, config):\n",
    "        return get_parameters(self.net)\n",
    "\n",
    "    def fit(self, parameters, config):\n",
    "        # local_epochs, internal_value = config[\"carbon_optimization\"](self.location, 10)\n",
    "        local_epochs, internal_value = 1, 'test inernalt value'\n",
    "\n",
    "\n",
    "        # print(f'fitting with {local_epochs} local_epochs and \"{internal_value}\" came along')\n",
    "\n",
    "        set_parameters(self.net, parameters)\n",
    "        train(self.net, self.trainloader, epochs=local_epochs)\n",
    "        return get_parameters(self.net), len(self.trainloader), {'fit_runtime': 100}\n",
    "\n",
    "    def evaluate(self, parameters, config):\n",
    "        set_parameters(self.net, parameters)\n",
    "        loss, accuracy = test(self.net, self.valloader)\n",
    "        return float(loss), len(self.valloader), {\"accuracy\": float(accuracy)}\n",
    "\n",
    "def get_parameters(net) -> List[np.ndarray]:\n",
    "    return [val.cpu().numpy() for _, val in net.state_dict().items()]\n",
    "\n",
    "def set_parameters(net, parameters: List[np.ndarray]):\n",
    "    params_dict = zip(net.state_dict().keys(), parameters)\n",
    "    state_dict = OrderedDict({k: torch.Tensor(v) for k, v in params_dict})\n",
    "    net.load_state_dict(state_dict, strict=True)"
   ]
  },
  {
   "cell_type": "markdown",
   "source": [
    "## Generating clients around the world\n",
    "\n",
    "The client_generator generates instances of clients to be used in the simulation. It onces again follows along the tutorial in the [Flower documentation](https://flower.dev/docs/tutorial/Flower-1-Intro-to-FL-PyTorch.html), however, the location is chosen randomly from regions = ['eastus', 'westus', 'germany', 'norway', 'denmark']\n",
    "If you need a more sophisticated selection of available clients feel free to edit client_generator()\n",
    "\n",
    "\n",
    "IMPORTANT: this is not the selection of clients that will participate in each federated learning round, this is the function to create the pool of available clients that later on will be selected."
   ],
   "metadata": {
    "collapsed": false
   }
  },
  {
   "cell_type": "code",
   "execution_count": 6,
   "outputs": [],
   "source": [
    "def client_generator(cid: str) -> FlowerClient:\n",
    "    \"\"\"Create a Flower client representing a single organization.\"\"\"\n",
    "\n",
    "    # Load model\n",
    "    net = Net().to(DEVICE)\n",
    "\n",
    "    # Load data (CIFAR-10)\n",
    "    # Note: each client gets a different trainloader/valloader, so each client\n",
    "    # will train and evaluate on their own unique data\n",
    "    trainloader = trainloaders[int(cid)]\n",
    "    valloader = valloaders[int(cid)]\n",
    "\n",
    "    regions = ['eastus', 'westus', 'germany', 'norway', 'denmark']\n",
    "\n",
    "    location = regions[int(random.random()*len(regions))] ### weird hack because random.choice is somehow not working with Ray. I guess every spawned process gets the same random seed and starts at the same position. This somehow is not the case for random.random\n",
    "\n",
    "    # Create a  single Flower client representing a single organization\n",
    "    return FlowerClient(net, trainloader, valloader, location)"
   ],
   "metadata": {
    "collapsed": false
   }
  },
  {
   "cell_type": "code",
   "execution_count": 7,
   "metadata": {},
   "outputs": [],
   "source": [
    "# Create FedAvg strategy\n",
    "strategy = fl.server.strategy.FedAvg(\n",
    "    fraction_fit=0.025,  # Sample 100% of available clients for training\n",
    "    fraction_evaluate=0.025,  # Sample 50% of available clients for evaluation\n",
    "    min_fit_clients=10,  # Never sample less than 10 clients for training\n",
    "    min_evaluate_clients=5,  # Never sample less than 5 clients for evaluation\n",
    "    min_available_clients=10,  # Wait until all 10 clients are available\n",
    "    evaluate_metrics_aggregation_fn=weighted_average,  # <-- pass the metric aggregation function\n",
    "    # on_fit_config_fn=fit_config,  # fit_config function\n",
    "    # evaluate_fn=server_evaluate\n",
    ")"
   ]
  },
  {
   "cell_type": "markdown",
   "source": [
    "Here we start the federated learning simulation with our modified client_generator that gives us clients spread around the world, each with their own data.\n",
    "\n",
    "To make it carbon aware, use lowcarb's client_manager and you are good to go."
   ],
   "metadata": {
    "collapsed": false
   }
  },
  {
   "cell_type": "markdown",
   "source": [
    "__For some reason the simulation fails on Windows 10 after a few rounds, which is probably related to an [open Ray issue](https://github.com/ray-project/ray/issues/24361)__\n",
    "Maybe it works on MacOS/Linux"
   ],
   "metadata": {
    "collapsed": false
   }
  },
  {
   "cell_type": "code",
   "execution_count": null,
   "outputs": [
    {
     "name": "stderr",
     "output_type": "stream",
     "text": [
      "INFO flower 2022-10-13 14:00:54,045 | app.py:142 | Starting Flower simulation, config: ServerConfig(num_rounds=5, round_timeout=None)\n",
      "INFO flower 2022-10-13 14:00:56,660 | app.py:176 | Flower VCE: Ray initialized with resources: {'CPU': 24.0, 'object_store_memory': 13518057062.0, 'node:127.0.0.1': 1.0, 'memory': 27036114126.0}\n",
      "INFO flower 2022-10-13 14:00:56,660 | server.py:86 | Initializing global parameters\n",
      "INFO flower 2022-10-13 14:00:56,661 | server.py:270 | Requesting initial parameters from one random client\n"
     ]
    },
    {
     "name": "stdout",
     "output_type": "stream",
     "text": [
      "_______________________________________________________________________\n",
      " Available Clients with their locations\n",
      "_______________________________________________________________________\n",
      "  cid location\n",
      "0   0   norway\n",
      "1   1  germany\n",
      "2   2  denmark\n",
      "3   3   eastus\n",
      "4   4   norway\n",
      "5   5   norway\n",
      "6   6  denmark\n",
      "7   7   westus\n",
      "8   8  denmark\n",
      "9   9   westus\n",
      "                         time       value  region\n",
      "0   2022-10-13 12:05:00+00:00  452.940912  westus\n",
      "1   2022-10-13 12:10:00+00:00  452.987852  westus\n",
      "2   2022-10-13 12:15:00+00:00  452.859186  westus\n",
      "3   2022-10-13 12:20:00+00:00  452.584744  westus\n",
      "4   2022-10-13 12:25:00+00:00  452.548255  westus\n",
      "..                        ...         ...     ...\n",
      "282 2022-10-14 11:35:00+00:00  451.697146  westus\n",
      "283 2022-10-14 11:40:00+00:00  451.600899  westus\n",
      "284 2022-10-14 11:45:00+00:00  451.514785  westus\n",
      "285 2022-10-14 11:50:00+00:00  451.533735  westus\n",
      "286 2022-10-14 11:55:00+00:00  456.039648  westus\n",
      "\n",
      "[1722 rows x 3 columns]\n",
      "_______________________________________________________________________\n",
      " selected low carbon clients\n",
      "_______________________________________________________________________\n",
      "  cid location\n",
      "0   0   norway\n",
      "4   4   norway\n",
      "5   5   norway\n"
     ]
    },
    {
     "name": "stderr",
     "output_type": "stream",
     "text": [
      "INFO flower 2022-10-13 14:01:09,071 | server.py:274 | Received initial parameters from one random client\n",
      "INFO flower 2022-10-13 14:01:09,071 | server.py:88 | Evaluating initial parameters\n",
      "INFO flower 2022-10-13 14:01:09,072 | server.py:101 | FL starting\n"
     ]
    },
    {
     "name": "stdout",
     "output_type": "stream",
     "text": [
      "_______________________________________________________________________\n",
      " Available Clients with their locations\n",
      "_______________________________________________________________________\n",
      "  cid location\n",
      "0   0   westus\n",
      "1   1   westus\n",
      "2   2  germany\n",
      "3   3  denmark\n",
      "4   4   westus\n",
      "5   5  denmark\n",
      "6   6   norway\n",
      "7   7   eastus\n",
      "8   8  germany\n",
      "9   9   westus\n"
     ]
    },
    {
     "name": "stderr",
     "output_type": "stream",
     "text": [
      "DEBUG flower 2022-10-13 14:01:19,148 | server.py:215 | fit_round 1: LowCarb_Strategy sampled 1 clients (out of 10)\n"
     ]
    },
    {
     "name": "stdout",
     "output_type": "stream",
     "text": [
      "                         time       value  region\n",
      "0   2022-10-13 12:05:00+00:00  452.940912  westus\n",
      "1   2022-10-13 12:10:00+00:00  452.987852  westus\n",
      "2   2022-10-13 12:15:00+00:00  452.859186  westus\n",
      "3   2022-10-13 12:20:00+00:00  452.584744  westus\n",
      "4   2022-10-13 12:25:00+00:00  452.548255  westus\n",
      "..                        ...         ...     ...\n",
      "282 2022-10-14 11:35:00+00:00  451.697146  westus\n",
      "283 2022-10-14 11:40:00+00:00  451.600899  westus\n",
      "284 2022-10-14 11:45:00+00:00  451.514785  westus\n",
      "285 2022-10-14 11:50:00+00:00  451.533735  westus\n",
      "286 2022-10-14 11:55:00+00:00  456.039648  westus\n",
      "\n",
      "[1722 rows x 3 columns]\n",
      "_______________________________________________________________________\n",
      " selected low carbon clients\n",
      "_______________________________________________________________________\n",
      "  cid location\n",
      "6   6   norway\n"
     ]
    },
    {
     "name": "stderr",
     "output_type": "stream",
     "text": [
      "DEBUG flower 2022-10-13 14:01:20,813 | server.py:229 | fit_round 1 received 1 results and 0 failures\n",
      "WARNING flower 2022-10-13 14:01:20,816 | fedavg.py:243 | No fit_metrics_aggregation_fn provided\n"
     ]
    },
    {
     "name": "stdout",
     "output_type": "stream",
     "text": [
      "\u001B[2m\u001B[36m(launch_and_fit pid=11772)\u001B[0m Epoch 1: train loss 0.06491637974977493, accuracy 0.22755555555555557\n",
      "_______________________________________________________________________\n",
      " Available Clients with their locations\n",
      "_______________________________________________________________________\n",
      "  cid location\n",
      "0   0   eastus\n",
      "1   1  denmark\n",
      "2   2  germany\n",
      "3   3  denmark\n",
      "4   4   eastus\n",
      "5   5  denmark\n",
      "6   6   eastus\n",
      "7   7   norway\n",
      "8   8  denmark\n",
      "9   9   norway\n"
     ]
    },
    {
     "name": "stderr",
     "output_type": "stream",
     "text": [
      "DEBUG flower 2022-10-13 14:01:30,866 | server.py:165 | evaluate_round 1: LowCarb_Strategy sampled 2 clients (out of 10)\n"
     ]
    },
    {
     "name": "stdout",
     "output_type": "stream",
     "text": [
      "                         time       value  region\n",
      "0   2022-10-13 12:05:00+00:00  452.940912  westus\n",
      "1   2022-10-13 12:10:00+00:00  452.987852  westus\n",
      "2   2022-10-13 12:15:00+00:00  452.859186  westus\n",
      "3   2022-10-13 12:20:00+00:00  452.584744  westus\n",
      "4   2022-10-13 12:25:00+00:00  452.548255  westus\n",
      "..                        ...         ...     ...\n",
      "282 2022-10-14 11:35:00+00:00  451.697146  westus\n",
      "283 2022-10-14 11:40:00+00:00  451.600899  westus\n",
      "284 2022-10-14 11:45:00+00:00  451.514785  westus\n",
      "285 2022-10-14 11:50:00+00:00  451.533735  westus\n",
      "286 2022-10-14 11:55:00+00:00  456.039648  westus\n",
      "\n",
      "[1722 rows x 3 columns]\n",
      "_______________________________________________________________________\n",
      " selected low carbon clients\n",
      "_______________________________________________________________________\n",
      "  cid location\n",
      "7   7   norway\n",
      "9   9   norway\n"
     ]
    },
    {
     "name": "stderr",
     "output_type": "stream",
     "text": [
      "DEBUG flower 2022-10-13 14:01:32,894 | server.py:179 | evaluate_round 1 received 2 results and 0 failures\n"
     ]
    },
    {
     "name": "stdout",
     "output_type": "stream",
     "text": [
      "_______________________________________________________________________\n",
      " Available Clients with their locations\n",
      "_______________________________________________________________________\n",
      "  cid location\n",
      "0   0  germany\n",
      "1   1  denmark\n",
      "2   2   westus\n",
      "3   3   norway\n",
      "4   4  denmark\n",
      "5   5   eastus\n",
      "6   6   eastus\n",
      "7   7   norway\n",
      "8   8   eastus\n",
      "9   9   norway\n"
     ]
    },
    {
     "name": "stderr",
     "output_type": "stream",
     "text": [
      "DEBUG flower 2022-10-13 14:01:42,883 | server.py:215 | fit_round 2: LowCarb_Strategy sampled 3 clients (out of 10)\n"
     ]
    },
    {
     "name": "stdout",
     "output_type": "stream",
     "text": [
      "                         time       value  region\n",
      "0   2022-10-13 12:05:00+00:00  452.940912  westus\n",
      "1   2022-10-13 12:10:00+00:00  452.987852  westus\n",
      "2   2022-10-13 12:15:00+00:00  452.859186  westus\n",
      "3   2022-10-13 12:20:00+00:00  452.584744  westus\n",
      "4   2022-10-13 12:25:00+00:00  452.548255  westus\n",
      "..                        ...         ...     ...\n",
      "282 2022-10-14 11:35:00+00:00  451.697146  westus\n",
      "283 2022-10-14 11:40:00+00:00  451.600899  westus\n",
      "284 2022-10-14 11:45:00+00:00  451.514785  westus\n",
      "285 2022-10-14 11:50:00+00:00  451.533735  westus\n",
      "286 2022-10-14 11:55:00+00:00  456.039648  westus\n",
      "\n",
      "[1722 rows x 3 columns]\n",
      "_______________________________________________________________________\n",
      " selected low carbon clients\n",
      "_______________________________________________________________________\n",
      "  cid location\n",
      "3   3   norway\n",
      "7   7   norway\n",
      "9   9   norway\n",
      "\u001B[2m\u001B[36m(launch_and_fit pid=11772)\u001B[0m Epoch 1: train loss 0.05637894570827484, accuracy 0.33266666666666667\n"
     ]
    },
    {
     "name": "stderr",
     "output_type": "stream",
     "text": [
      "DEBUG flower 2022-10-13 14:01:47,785 | server.py:229 | fit_round 2 received 3 results and 0 failures\n"
     ]
    },
    {
     "name": "stdout",
     "output_type": "stream",
     "text": [
      "\u001B[2m\u001B[36m(launch_and_fit pid=24412)\u001B[0m Epoch 1: train loss 0.05531826242804527, accuracy 0.3393333333333333\n",
      "\u001B[2m\u001B[36m(launch_and_fit pid=29100)\u001B[0m Epoch 1: train loss 0.056043900549411774, accuracy 0.3337777777777778\n"
     ]
    },
    {
     "ename": "KeyboardInterrupt",
     "evalue": "",
     "output_type": "error",
     "traceback": [
      "\u001B[1;31m---------------------------------------------------------------------------\u001B[0m",
      "\u001B[1;31mKeyboardInterrupt\u001B[0m                         Traceback (most recent call last)",
      "Cell \u001B[1;32mIn [8], line 3\u001B[0m\n\u001B[0;32m      1\u001B[0m \u001B[38;5;28;01mfrom\u001B[39;00m \u001B[38;5;21;01mlowcarb\u001B[39;00m \u001B[38;5;28;01mimport\u001B[39;00m LowCarb_ClientManager\n\u001B[0;32m      2\u001B[0m \u001B[38;5;66;03m# Start simulation\u001B[39;00m\n\u001B[1;32m----> 3\u001B[0m \u001B[43mfl\u001B[49m\u001B[38;5;241;43m.\u001B[39;49m\u001B[43msimulation\u001B[49m\u001B[38;5;241;43m.\u001B[39;49m\u001B[43mstart_simulation\u001B[49m\u001B[43m(\u001B[49m\n\u001B[0;32m      4\u001B[0m \u001B[43m    \u001B[49m\u001B[43mclient_fn\u001B[49m\u001B[38;5;241;43m=\u001B[39;49m\u001B[43mclient_generator\u001B[49m\u001B[43m,\u001B[49m\n\u001B[0;32m      5\u001B[0m \u001B[43m    \u001B[49m\u001B[43mnum_clients\u001B[49m\u001B[38;5;241;43m=\u001B[39;49m\u001B[43mNUM_CLIENTS\u001B[49m\u001B[43m,\u001B[49m\n\u001B[0;32m      6\u001B[0m \u001B[43m    \u001B[49m\u001B[43mconfig\u001B[49m\u001B[38;5;241;43m=\u001B[39;49m\u001B[43mfl\u001B[49m\u001B[38;5;241;43m.\u001B[39;49m\u001B[43mserver\u001B[49m\u001B[38;5;241;43m.\u001B[39;49m\u001B[43mServerConfig\u001B[49m\u001B[43m(\u001B[49m\u001B[43mnum_rounds\u001B[49m\u001B[38;5;241;43m=\u001B[39;49m\u001B[38;5;241;43m5\u001B[39;49m\u001B[43m)\u001B[49m\u001B[43m,\u001B[49m\n\u001B[0;32m      7\u001B[0m \u001B[43m    \u001B[49m\u001B[43mstrategy\u001B[49m\u001B[38;5;241;43m=\u001B[39;49m\u001B[43mstrategy\u001B[49m\u001B[43m,\u001B[49m\n\u001B[0;32m      8\u001B[0m \u001B[43m    \u001B[49m\u001B[43mclient_manager\u001B[49m\u001B[38;5;241;43m=\u001B[39;49m\u001B[43mLowCarb_ClientManager\u001B[49m\u001B[43m(\u001B[49m\u001B[43m)\u001B[49m\u001B[43m,\u001B[49m\n\u001B[0;32m      9\u001B[0m \u001B[43m)\u001B[49m\n",
      "File \u001B[1;32m~\\Documents\\Programming\\Carbon_Hack_22\\carbonhack22\\venv\\lib\\site-packages\\flwr\\simulation\\app.py:193\u001B[0m, in \u001B[0;36mstart_simulation\u001B[1;34m(client_fn, num_clients, clients_ids, client_resources, server, config, strategy, client_manager, ray_init_args, keep_initialised)\u001B[0m\n\u001B[0;32m    190\u001B[0m     initialized_server\u001B[38;5;241m.\u001B[39mclient_manager()\u001B[38;5;241m.\u001B[39mregister(client\u001B[38;5;241m=\u001B[39mclient_proxy)\n\u001B[0;32m    192\u001B[0m \u001B[38;5;66;03m# Start training\u001B[39;00m\n\u001B[1;32m--> 193\u001B[0m hist \u001B[38;5;241m=\u001B[39m \u001B[43m_fl\u001B[49m\u001B[43m(\u001B[49m\n\u001B[0;32m    194\u001B[0m \u001B[43m    \u001B[49m\u001B[43mserver\u001B[49m\u001B[38;5;241;43m=\u001B[39;49m\u001B[43minitialized_server\u001B[49m\u001B[43m,\u001B[49m\n\u001B[0;32m    195\u001B[0m \u001B[43m    \u001B[49m\u001B[43mconfig\u001B[49m\u001B[38;5;241;43m=\u001B[39;49m\u001B[43minitialized_config\u001B[49m\u001B[43m,\u001B[49m\n\u001B[0;32m    196\u001B[0m \u001B[43m\u001B[49m\u001B[43m)\u001B[49m\n\u001B[0;32m    198\u001B[0m \u001B[38;5;28;01mreturn\u001B[39;00m hist\n",
      "File \u001B[1;32m~\\Documents\\Programming\\Carbon_Hack_22\\carbonhack22\\venv\\lib\\site-packages\\flwr\\server\\app.py:179\u001B[0m, in \u001B[0;36m_fl\u001B[1;34m(server, config)\u001B[0m\n\u001B[0;32m    174\u001B[0m \u001B[38;5;28;01mdef\u001B[39;00m \u001B[38;5;21m_fl\u001B[39m(\n\u001B[0;32m    175\u001B[0m     server: Server,\n\u001B[0;32m    176\u001B[0m     config: ServerConfig,\n\u001B[0;32m    177\u001B[0m ) \u001B[38;5;241m-\u001B[39m\u001B[38;5;241m>\u001B[39m History:\n\u001B[0;32m    178\u001B[0m     \u001B[38;5;66;03m# Fit model\u001B[39;00m\n\u001B[1;32m--> 179\u001B[0m     hist \u001B[38;5;241m=\u001B[39m \u001B[43mserver\u001B[49m\u001B[38;5;241;43m.\u001B[39;49m\u001B[43mfit\u001B[49m\u001B[43m(\u001B[49m\u001B[43mnum_rounds\u001B[49m\u001B[38;5;241;43m=\u001B[39;49m\u001B[43mconfig\u001B[49m\u001B[38;5;241;43m.\u001B[39;49m\u001B[43mnum_rounds\u001B[49m\u001B[43m,\u001B[49m\u001B[43m \u001B[49m\u001B[43mtimeout\u001B[49m\u001B[38;5;241;43m=\u001B[39;49m\u001B[43mconfig\u001B[49m\u001B[38;5;241;43m.\u001B[39;49m\u001B[43mround_timeout\u001B[49m\u001B[43m)\u001B[49m\n\u001B[0;32m    180\u001B[0m     log(INFO, \u001B[38;5;124m\"\u001B[39m\u001B[38;5;124mapp_fit: losses_distributed \u001B[39m\u001B[38;5;132;01m%s\u001B[39;00m\u001B[38;5;124m\"\u001B[39m, \u001B[38;5;28mstr\u001B[39m(hist\u001B[38;5;241m.\u001B[39mlosses_distributed))\n\u001B[0;32m    181\u001B[0m     log(INFO, \u001B[38;5;124m\"\u001B[39m\u001B[38;5;124mapp_fit: metrics_distributed \u001B[39m\u001B[38;5;132;01m%s\u001B[39;00m\u001B[38;5;124m\"\u001B[39m, \u001B[38;5;28mstr\u001B[39m(hist\u001B[38;5;241m.\u001B[39mmetrics_distributed))\n",
      "File \u001B[1;32m~\\Documents\\Programming\\Carbon_Hack_22\\carbonhack22\\venv\\lib\\site-packages\\flwr\\server\\server.py:130\u001B[0m, in \u001B[0;36mServer.fit\u001B[1;34m(self, num_rounds, timeout)\u001B[0m\n\u001B[0;32m    125\u001B[0m     history\u001B[38;5;241m.\u001B[39madd_metrics_centralized(\n\u001B[0;32m    126\u001B[0m         server_round\u001B[38;5;241m=\u001B[39mcurrent_round, metrics\u001B[38;5;241m=\u001B[39mmetrics_cen\n\u001B[0;32m    127\u001B[0m     )\n\u001B[0;32m    129\u001B[0m \u001B[38;5;66;03m# Evaluate model on a sample of available clients\u001B[39;00m\n\u001B[1;32m--> 130\u001B[0m res_fed \u001B[38;5;241m=\u001B[39m \u001B[38;5;28;43mself\u001B[39;49m\u001B[38;5;241;43m.\u001B[39;49m\u001B[43mevaluate_round\u001B[49m\u001B[43m(\u001B[49m\u001B[43mserver_round\u001B[49m\u001B[38;5;241;43m=\u001B[39;49m\u001B[43mcurrent_round\u001B[49m\u001B[43m,\u001B[49m\u001B[43m \u001B[49m\u001B[43mtimeout\u001B[49m\u001B[38;5;241;43m=\u001B[39;49m\u001B[43mtimeout\u001B[49m\u001B[43m)\u001B[49m\n\u001B[0;32m    131\u001B[0m \u001B[38;5;28;01mif\u001B[39;00m res_fed:\n\u001B[0;32m    132\u001B[0m     loss_fed, evaluate_metrics_fed, _ \u001B[38;5;241m=\u001B[39m res_fed\n",
      "File \u001B[1;32m~\\Documents\\Programming\\Carbon_Hack_22\\carbonhack22\\venv\\lib\\site-packages\\flwr\\server\\server.py:157\u001B[0m, in \u001B[0;36mServer.evaluate_round\u001B[1;34m(self, server_round, timeout)\u001B[0m\n\u001B[0;32m    154\u001B[0m \u001B[38;5;124;03m\"\"\"Validate current global model on a number of clients.\"\"\"\u001B[39;00m\n\u001B[0;32m    156\u001B[0m \u001B[38;5;66;03m# Get clients and their respective instructions from LowCarb_Strategy\u001B[39;00m\n\u001B[1;32m--> 157\u001B[0m client_instructions \u001B[38;5;241m=\u001B[39m \u001B[38;5;28;43mself\u001B[39;49m\u001B[38;5;241;43m.\u001B[39;49m\u001B[43mstrategy\u001B[49m\u001B[38;5;241;43m.\u001B[39;49m\u001B[43mconfigure_evaluate\u001B[49m\u001B[43m(\u001B[49m\n\u001B[0;32m    158\u001B[0m \u001B[43m    \u001B[49m\u001B[43mserver_round\u001B[49m\u001B[38;5;241;43m=\u001B[39;49m\u001B[43mserver_round\u001B[49m\u001B[43m,\u001B[49m\n\u001B[0;32m    159\u001B[0m \u001B[43m    \u001B[49m\u001B[43mparameters\u001B[49m\u001B[38;5;241;43m=\u001B[39;49m\u001B[38;5;28;43mself\u001B[39;49m\u001B[38;5;241;43m.\u001B[39;49m\u001B[43mparameters\u001B[49m\u001B[43m,\u001B[49m\n\u001B[0;32m    160\u001B[0m \u001B[43m    \u001B[49m\u001B[43mclient_manager\u001B[49m\u001B[38;5;241;43m=\u001B[39;49m\u001B[38;5;28;43mself\u001B[39;49m\u001B[38;5;241;43m.\u001B[39;49m\u001B[43m_client_manager\u001B[49m\u001B[43m,\u001B[49m\n\u001B[0;32m    161\u001B[0m \u001B[43m\u001B[49m\u001B[43m)\u001B[49m\n\u001B[0;32m    162\u001B[0m \u001B[38;5;28;01mif\u001B[39;00m \u001B[38;5;129;01mnot\u001B[39;00m client_instructions:\n\u001B[0;32m    163\u001B[0m     log(INFO, \u001B[38;5;124m\"\u001B[39m\u001B[38;5;124mevaluate_round \u001B[39m\u001B[38;5;132;01m%s\u001B[39;00m\u001B[38;5;124m: no clients selected, cancel\u001B[39m\u001B[38;5;124m\"\u001B[39m, server_round)\n",
      "File \u001B[1;32m~\\Documents\\Programming\\Carbon_Hack_22\\carbonhack22\\venv\\lib\\site-packages\\flwr\\server\\strategy\\fedavg.py:210\u001B[0m, in \u001B[0;36mFedAvg.configure_evaluate\u001B[1;34m(self, server_round, parameters, client_manager)\u001B[0m\n\u001B[0;32m    206\u001B[0m \u001B[38;5;66;03m# Sample clients\u001B[39;00m\n\u001B[0;32m    207\u001B[0m sample_size, min_num_clients \u001B[38;5;241m=\u001B[39m \u001B[38;5;28mself\u001B[39m\u001B[38;5;241m.\u001B[39mnum_evaluation_clients(\n\u001B[0;32m    208\u001B[0m     client_manager\u001B[38;5;241m.\u001B[39mnum_available()\n\u001B[0;32m    209\u001B[0m )\n\u001B[1;32m--> 210\u001B[0m clients \u001B[38;5;241m=\u001B[39m \u001B[43mclient_manager\u001B[49m\u001B[38;5;241;43m.\u001B[39;49m\u001B[43msample\u001B[49m\u001B[43m(\u001B[49m\n\u001B[0;32m    211\u001B[0m \u001B[43m    \u001B[49m\u001B[43mnum_clients\u001B[49m\u001B[38;5;241;43m=\u001B[39;49m\u001B[43msample_size\u001B[49m\u001B[43m,\u001B[49m\u001B[43m \u001B[49m\u001B[43mmin_num_clients\u001B[49m\u001B[38;5;241;43m=\u001B[39;49m\u001B[43mmin_num_clients\u001B[49m\n\u001B[0;32m    212\u001B[0m \u001B[43m\u001B[49m\u001B[43m)\u001B[49m\n\u001B[0;32m    214\u001B[0m \u001B[38;5;66;03m# Return client/config pairs\u001B[39;00m\n\u001B[0;32m    215\u001B[0m \u001B[38;5;28;01mreturn\u001B[39;00m [(client, evaluate_ins) \u001B[38;5;28;01mfor\u001B[39;00m client \u001B[38;5;129;01min\u001B[39;00m clients]\n",
      "File \u001B[1;32m~\\Documents\\Programming\\Carbon_Hack_22\\carbonhack22\\lowcarb\\lowcarb_client_manager.py:64\u001B[0m, in \u001B[0;36mLowCarb_ClientManager.sample\u001B[1;34m(self, num_clients, min_num_clients, criterion)\u001B[0m\n\u001B[0;32m     57\u001B[0m     \u001B[38;5;28;01mreturn\u001B[39;00m []\n\u001B[0;32m     59\u001B[0m \u001B[38;5;66;03m# sampled_cids = random.sample(available_cids, num_clients)\u001B[39;00m\n\u001B[1;32m---> 64\u001B[0m clients_properties \u001B[38;5;241m=\u001B[39m \u001B[38;5;28;43mself\u001B[39;49m\u001B[38;5;241;43m.\u001B[39;49m\u001B[43mget_client_locations\u001B[49m\u001B[43m(\u001B[49m\u001B[43m)\u001B[49m\n\u001B[0;32m     66\u001B[0m \u001B[38;5;28mprint\u001B[39m(\u001B[38;5;124m'\u001B[39m\u001B[38;5;124m_______________________________________________________________________\u001B[39m\u001B[38;5;130;01m\\n\u001B[39;00m\u001B[38;5;124m Available Clients with their locations\u001B[39m\u001B[38;5;130;01m\\n\u001B[39;00m\u001B[38;5;124m_______________________________________________________________________\u001B[39m\u001B[38;5;124m'\u001B[39m)\n\u001B[0;32m     67\u001B[0m \u001B[38;5;28mprint\u001B[39m(clients_properties)\n",
      "File \u001B[1;32m~\\Documents\\Programming\\Carbon_Hack_22\\carbonhack22\\lowcarb\\lowcarb_client_manager.py:87\u001B[0m, in \u001B[0;36mLowCarb_ClientManager.get_client_locations\u001B[1;34m(self)\u001B[0m\n\u001B[0;32m     85\u001B[0m Ins\u001B[38;5;241m.\u001B[39mconfig \u001B[38;5;241m=\u001B[39m {\u001B[38;5;124m'\u001B[39m\u001B[38;5;124mconfig_value\u001B[39m\u001B[38;5;124m'\u001B[39m: \u001B[38;5;124m'\u001B[39m\u001B[38;5;124mconfig_sample_value\u001B[39m\u001B[38;5;124m'\u001B[39m}\n\u001B[0;32m     86\u001B[0m \u001B[38;5;28;01mtry\u001B[39;00m:\n\u001B[1;32m---> 87\u001B[0m     client_prop \u001B[38;5;241m=\u001B[39m \u001B[43mclient\u001B[49m\u001B[38;5;241;43m.\u001B[39;49m\u001B[43mget_properties\u001B[49m\u001B[43m(\u001B[49m\u001B[43mins\u001B[49m\u001B[38;5;241;43m=\u001B[39;49m\u001B[43mIns\u001B[49m\u001B[43m,\u001B[49m\u001B[43m \u001B[49m\u001B[43mtimeout\u001B[49m\u001B[38;5;241;43m=\u001B[39;49m\u001B[38;5;241;43m500\u001B[39;49m\u001B[43m)\u001B[49m\n\u001B[0;32m     88\u001B[0m     client_prop\u001B[38;5;241m.\u001B[39mproperties\u001B[38;5;241m.\u001B[39mupdate({\u001B[38;5;124m'\u001B[39m\u001B[38;5;124mcid\u001B[39m\u001B[38;5;124m'\u001B[39m: cid})\n\u001B[0;32m     89\u001B[0m     client_props\u001B[38;5;241m.\u001B[39mappend(client_prop\u001B[38;5;241m.\u001B[39mproperties)\n",
      "File \u001B[1;32m~\\Documents\\Programming\\Carbon_Hack_22\\carbonhack22\\venv\\lib\\site-packages\\flwr\\simulation\\ray_transport\\ray_client_proxy.py:41\u001B[0m, in \u001B[0;36mRayClientProxy.get_properties\u001B[1;34m(self, ins, timeout)\u001B[0m\n\u001B[0;32m     37\u001B[0m \u001B[38;5;28;01mdef\u001B[39;00m \u001B[38;5;21mget_properties\u001B[39m(\n\u001B[0;32m     38\u001B[0m     \u001B[38;5;28mself\u001B[39m, ins: common\u001B[38;5;241m.\u001B[39mGetPropertiesIns, timeout: Optional[\u001B[38;5;28mfloat\u001B[39m]\n\u001B[0;32m     39\u001B[0m ) \u001B[38;5;241m-\u001B[39m\u001B[38;5;241m>\u001B[39m common\u001B[38;5;241m.\u001B[39mGetPropertiesRes:\n\u001B[0;32m     40\u001B[0m     \u001B[38;5;124;03m\"\"\"Returns client's properties.\"\"\"\u001B[39;00m\n\u001B[1;32m---> 41\u001B[0m     future_get_properties_res \u001B[38;5;241m=\u001B[39m \u001B[43mlaunch_and_get_properties\u001B[49m\u001B[38;5;241;43m.\u001B[39;49m\u001B[43moptions\u001B[49m\u001B[43m(\u001B[49m\u001B[43m  \u001B[49m\u001B[38;5;66;43;03m# type: ignore\u001B[39;49;00m\n\u001B[0;32m     42\u001B[0m \u001B[43m        \u001B[49m\u001B[38;5;241;43m*\u001B[39;49m\u001B[38;5;241;43m*\u001B[39;49m\u001B[38;5;28;43mself\u001B[39;49m\u001B[38;5;241;43m.\u001B[39;49m\u001B[43mresources\u001B[49m\u001B[43m,\u001B[49m\n\u001B[0;32m     43\u001B[0m \u001B[43m    \u001B[49m\u001B[43m)\u001B[49m\u001B[38;5;241;43m.\u001B[39;49m\u001B[43mremote\u001B[49m\u001B[43m(\u001B[49m\u001B[38;5;28;43mself\u001B[39;49m\u001B[38;5;241;43m.\u001B[39;49m\u001B[43mclient_fn\u001B[49m\u001B[43m,\u001B[49m\u001B[43m \u001B[49m\u001B[38;5;28;43mself\u001B[39;49m\u001B[38;5;241;43m.\u001B[39;49m\u001B[43mcid\u001B[49m\u001B[43m,\u001B[49m\u001B[43m \u001B[49m\u001B[43mins\u001B[49m\u001B[43m)\u001B[49m\n\u001B[0;32m     44\u001B[0m     res \u001B[38;5;241m=\u001B[39m ray\u001B[38;5;241m.\u001B[39mworker\u001B[38;5;241m.\u001B[39mget(future_get_properties_res, timeout\u001B[38;5;241m=\u001B[39mtimeout)\n\u001B[0;32m     45\u001B[0m     \u001B[38;5;28;01mreturn\u001B[39;00m cast(\n\u001B[0;32m     46\u001B[0m         common\u001B[38;5;241m.\u001B[39mGetPropertiesRes,\n\u001B[0;32m     47\u001B[0m         res,\n\u001B[0;32m     48\u001B[0m     )\n",
      "File \u001B[1;32m~\\Documents\\Programming\\Carbon_Hack_22\\carbonhack22\\venv\\lib\\site-packages\\ray\\remote_function.py:157\u001B[0m, in \u001B[0;36mRemoteFunction.options.<locals>.FuncWrapper.remote\u001B[1;34m(self, *args, **kwargs)\u001B[0m\n\u001B[0;32m    156\u001B[0m \u001B[38;5;28;01mdef\u001B[39;00m \u001B[38;5;21mremote\u001B[39m(\u001B[38;5;28mself\u001B[39m, \u001B[38;5;241m*\u001B[39margs, \u001B[38;5;241m*\u001B[39m\u001B[38;5;241m*\u001B[39mkwargs):\n\u001B[1;32m--> 157\u001B[0m     \u001B[38;5;28;01mreturn\u001B[39;00m func_cls\u001B[38;5;241m.\u001B[39m_remote(args\u001B[38;5;241m=\u001B[39margs, kwargs\u001B[38;5;241m=\u001B[39mkwargs, \u001B[38;5;241m*\u001B[39m\u001B[38;5;241m*\u001B[39mupdated_options)\n",
      "File \u001B[1;32m~\\Documents\\Programming\\Carbon_Hack_22\\carbonhack22\\venv\\lib\\site-packages\\ray\\util\\tracing\\tracing_helper.py:303\u001B[0m, in \u001B[0;36m_tracing_task_invocation.<locals>._invocation_remote_span\u001B[1;34m(self, args, kwargs, *_args, **_kwargs)\u001B[0m\n\u001B[0;32m    301\u001B[0m     \u001B[38;5;28;01mif\u001B[39;00m kwargs \u001B[38;5;129;01mis\u001B[39;00m \u001B[38;5;129;01mnot\u001B[39;00m \u001B[38;5;28;01mNone\u001B[39;00m:\n\u001B[0;32m    302\u001B[0m         \u001B[38;5;28;01massert\u001B[39;00m \u001B[38;5;124m\"\u001B[39m\u001B[38;5;124m_ray_trace_ctx\u001B[39m\u001B[38;5;124m\"\u001B[39m \u001B[38;5;129;01mnot\u001B[39;00m \u001B[38;5;129;01min\u001B[39;00m kwargs\n\u001B[1;32m--> 303\u001B[0m     \u001B[38;5;28;01mreturn\u001B[39;00m method(\u001B[38;5;28mself\u001B[39m, args, kwargs, \u001B[38;5;241m*\u001B[39m_args, \u001B[38;5;241m*\u001B[39m\u001B[38;5;241m*\u001B[39m_kwargs)\n\u001B[0;32m    305\u001B[0m \u001B[38;5;28;01massert\u001B[39;00m \u001B[38;5;124m\"\u001B[39m\u001B[38;5;124m_ray_trace_ctx\u001B[39m\u001B[38;5;124m\"\u001B[39m \u001B[38;5;129;01mnot\u001B[39;00m \u001B[38;5;129;01min\u001B[39;00m kwargs\n\u001B[0;32m    307\u001B[0m tracer \u001B[38;5;241m=\u001B[39m _opentelemetry\u001B[38;5;241m.\u001B[39mtrace\u001B[38;5;241m.\u001B[39mget_tracer(\u001B[38;5;18m__name__\u001B[39m)\n",
      "File \u001B[1;32m~\\Documents\\Programming\\Carbon_Hack_22\\carbonhack22\\venv\\lib\\site-packages\\ray\\remote_function.py:319\u001B[0m, in \u001B[0;36mRemoteFunction._remote\u001B[1;34m(self, args, kwargs, **task_options)\u001B[0m\n\u001B[0;32m    316\u001B[0m \u001B[38;5;28;01mif\u001B[39;00m \u001B[38;5;28mself\u001B[39m\u001B[38;5;241m.\u001B[39m_decorator \u001B[38;5;129;01mis\u001B[39;00m \u001B[38;5;129;01mnot\u001B[39;00m \u001B[38;5;28;01mNone\u001B[39;00m:\n\u001B[0;32m    317\u001B[0m     invocation \u001B[38;5;241m=\u001B[39m \u001B[38;5;28mself\u001B[39m\u001B[38;5;241m.\u001B[39m_decorator(invocation)\n\u001B[1;32m--> 319\u001B[0m \u001B[38;5;28;01mreturn\u001B[39;00m \u001B[43minvocation\u001B[49m\u001B[43m(\u001B[49m\u001B[43margs\u001B[49m\u001B[43m,\u001B[49m\u001B[43m \u001B[49m\u001B[43mkwargs\u001B[49m\u001B[43m)\u001B[49m\n",
      "File \u001B[1;32m~\\Documents\\Programming\\Carbon_Hack_22\\carbonhack22\\venv\\lib\\site-packages\\ray\\remote_function.py:295\u001B[0m, in \u001B[0;36mRemoteFunction._remote.<locals>.invocation\u001B[1;34m(args, kwargs)\u001B[0m\n\u001B[0;32m    291\u001B[0m \u001B[38;5;28;01mif\u001B[39;00m worker\u001B[38;5;241m.\u001B[39mmode \u001B[38;5;241m==\u001B[39m ray\u001B[38;5;241m.\u001B[39mworker\u001B[38;5;241m.\u001B[39mLOCAL_MODE:\n\u001B[0;32m    292\u001B[0m     \u001B[38;5;28;01massert\u001B[39;00m (\n\u001B[0;32m    293\u001B[0m         \u001B[38;5;129;01mnot\u001B[39;00m \u001B[38;5;28mself\u001B[39m\u001B[38;5;241m.\u001B[39m_is_cross_language\n\u001B[0;32m    294\u001B[0m     ), \u001B[38;5;124m\"\u001B[39m\u001B[38;5;124mCross language remote function cannot be executed locally.\u001B[39m\u001B[38;5;124m\"\u001B[39m\n\u001B[1;32m--> 295\u001B[0m object_refs \u001B[38;5;241m=\u001B[39m \u001B[43mworker\u001B[49m\u001B[38;5;241;43m.\u001B[39;49m\u001B[43mcore_worker\u001B[49m\u001B[38;5;241;43m.\u001B[39;49m\u001B[43msubmit_task\u001B[49m\u001B[43m(\u001B[49m\n\u001B[0;32m    296\u001B[0m \u001B[43m    \u001B[49m\u001B[38;5;28;43mself\u001B[39;49m\u001B[38;5;241;43m.\u001B[39;49m\u001B[43m_language\u001B[49m\u001B[43m,\u001B[49m\n\u001B[0;32m    297\u001B[0m \u001B[43m    \u001B[49m\u001B[38;5;28;43mself\u001B[39;49m\u001B[38;5;241;43m.\u001B[39;49m\u001B[43m_function_descriptor\u001B[49m\u001B[43m,\u001B[49m\n\u001B[0;32m    298\u001B[0m \u001B[43m    \u001B[49m\u001B[43mlist_args\u001B[49m\u001B[43m,\u001B[49m\n\u001B[0;32m    299\u001B[0m \u001B[43m    \u001B[49m\u001B[43mname\u001B[49m\u001B[43m \u001B[49m\u001B[38;5;28;43;01mif\u001B[39;49;00m\u001B[43m \u001B[49m\u001B[43mname\u001B[49m\u001B[43m \u001B[49m\u001B[38;5;129;43;01mis\u001B[39;49;00m\u001B[43m \u001B[49m\u001B[38;5;129;43;01mnot\u001B[39;49;00m\u001B[43m \u001B[49m\u001B[38;5;28;43;01mNone\u001B[39;49;00m\u001B[43m \u001B[49m\u001B[38;5;28;43;01melse\u001B[39;49;00m\u001B[43m \u001B[49m\u001B[38;5;124;43m\"\u001B[39;49m\u001B[38;5;124;43m\"\u001B[39;49m\u001B[43m,\u001B[49m\n\u001B[0;32m    300\u001B[0m \u001B[43m    \u001B[49m\u001B[43mnum_returns\u001B[49m\u001B[43m,\u001B[49m\n\u001B[0;32m    301\u001B[0m \u001B[43m    \u001B[49m\u001B[43mresources\u001B[49m\u001B[43m,\u001B[49m\n\u001B[0;32m    302\u001B[0m \u001B[43m    \u001B[49m\u001B[43mmax_retries\u001B[49m\u001B[43m,\u001B[49m\n\u001B[0;32m    303\u001B[0m \u001B[43m    \u001B[49m\u001B[43mretry_exceptions\u001B[49m\u001B[43m,\u001B[49m\n\u001B[0;32m    304\u001B[0m \u001B[43m    \u001B[49m\u001B[43mscheduling_strategy\u001B[49m\u001B[43m,\u001B[49m\n\u001B[0;32m    305\u001B[0m \u001B[43m    \u001B[49m\u001B[43mworker\u001B[49m\u001B[38;5;241;43m.\u001B[39;49m\u001B[43mdebugger_breakpoint\u001B[49m\u001B[43m,\u001B[49m\n\u001B[0;32m    306\u001B[0m \u001B[43m    \u001B[49m\u001B[43mserialized_runtime_env_info\u001B[49m\u001B[43m \u001B[49m\u001B[38;5;129;43;01mor\u001B[39;49;00m\u001B[43m \u001B[49m\u001B[38;5;124;43m\"\u001B[39;49m\u001B[38;5;132;43;01m{}\u001B[39;49;00m\u001B[38;5;124;43m\"\u001B[39;49m\u001B[43m,\u001B[49m\n\u001B[0;32m    307\u001B[0m \u001B[43m\u001B[49m\u001B[43m)\u001B[49m\n\u001B[0;32m    308\u001B[0m \u001B[38;5;66;03m# Reset worker's debug context from the last \"remote\" command\u001B[39;00m\n\u001B[0;32m    309\u001B[0m \u001B[38;5;66;03m# (which applies only to this .remote call).\u001B[39;00m\n\u001B[0;32m    310\u001B[0m worker\u001B[38;5;241m.\u001B[39mdebugger_breakpoint \u001B[38;5;241m=\u001B[39m \u001B[38;5;124mb\u001B[39m\u001B[38;5;124m\"\u001B[39m\u001B[38;5;124m\"\u001B[39m\n",
      "File \u001B[1;32mpython\\ray\\_raylet.pyx:1524\u001B[0m, in \u001B[0;36mray._raylet.CoreWorker.submit_task\u001B[1;34m()\u001B[0m\n",
      "File \u001B[1;32mpython\\ray\\_raylet.pyx:1528\u001B[0m, in \u001B[0;36mray._raylet.CoreWorker.submit_task\u001B[1;34m()\u001B[0m\n",
      "File \u001B[1;32mpython\\ray\\_raylet.pyx:372\u001B[0m, in \u001B[0;36mray._raylet.prepare_args_and_increment_put_refs\u001B[1;34m()\u001B[0m\n",
      "File \u001B[1;32mpython\\ray\\_raylet.pyx:415\u001B[0m, in \u001B[0;36mray._raylet.prepare_args_internal\u001B[1;34m()\u001B[0m\n",
      "File \u001B[1;32m~\\Documents\\Programming\\Carbon_Hack_22\\carbonhack22\\venv\\lib\\site-packages\\ray\\serialization.py:421\u001B[0m, in \u001B[0;36mSerializationContext.serialize\u001B[1;34m(self, value)\u001B[0m\n\u001B[0;32m    419\u001B[0m     \u001B[38;5;28;01mreturn\u001B[39;00m RawSerializedObject(value)\n\u001B[0;32m    420\u001B[0m \u001B[38;5;28;01melse\u001B[39;00m:\n\u001B[1;32m--> 421\u001B[0m     \u001B[38;5;28;01mreturn\u001B[39;00m \u001B[38;5;28;43mself\u001B[39;49m\u001B[38;5;241;43m.\u001B[39;49m\u001B[43m_serialize_to_msgpack\u001B[49m\u001B[43m(\u001B[49m\u001B[43mvalue\u001B[49m\u001B[43m)\u001B[49m\n",
      "File \u001B[1;32m~\\Documents\\Programming\\Carbon_Hack_22\\carbonhack22\\venv\\lib\\site-packages\\ray\\serialization.py:399\u001B[0m, in \u001B[0;36mSerializationContext._serialize_to_msgpack\u001B[1;34m(self, value)\u001B[0m\n\u001B[0;32m    397\u001B[0m \u001B[38;5;28;01mif\u001B[39;00m python_objects:\n\u001B[0;32m    398\u001B[0m     metadata \u001B[38;5;241m=\u001B[39m ray_constants\u001B[38;5;241m.\u001B[39mOBJECT_METADATA_TYPE_PYTHON\n\u001B[1;32m--> 399\u001B[0m     pickle5_serialized_object \u001B[38;5;241m=\u001B[39m \u001B[38;5;28;43mself\u001B[39;49m\u001B[38;5;241;43m.\u001B[39;49m\u001B[43m_serialize_to_pickle5\u001B[49m\u001B[43m(\u001B[49m\n\u001B[0;32m    400\u001B[0m \u001B[43m        \u001B[49m\u001B[43mmetadata\u001B[49m\u001B[43m,\u001B[49m\u001B[43m \u001B[49m\u001B[43mpython_objects\u001B[49m\n\u001B[0;32m    401\u001B[0m \u001B[43m    \u001B[49m\u001B[43m)\u001B[49m\n\u001B[0;32m    402\u001B[0m \u001B[38;5;28;01melse\u001B[39;00m:\n\u001B[0;32m    403\u001B[0m     pickle5_serialized_object \u001B[38;5;241m=\u001B[39m \u001B[38;5;28;01mNone\u001B[39;00m\n",
      "File \u001B[1;32m~\\Documents\\Programming\\Carbon_Hack_22\\carbonhack22\\venv\\lib\\site-packages\\ray\\serialization.py:356\u001B[0m, in \u001B[0;36mSerializationContext._serialize_to_pickle5\u001B[1;34m(self, metadata, value)\u001B[0m\n\u001B[0;32m    354\u001B[0m \u001B[38;5;28;01mtry\u001B[39;00m:\n\u001B[0;32m    355\u001B[0m     \u001B[38;5;28mself\u001B[39m\u001B[38;5;241m.\u001B[39mset_in_band_serialization()\n\u001B[1;32m--> 356\u001B[0m     inband \u001B[38;5;241m=\u001B[39m \u001B[43mpickle\u001B[49m\u001B[38;5;241;43m.\u001B[39;49m\u001B[43mdumps\u001B[49m\u001B[43m(\u001B[49m\n\u001B[0;32m    357\u001B[0m \u001B[43m        \u001B[49m\u001B[43mvalue\u001B[49m\u001B[43m,\u001B[49m\u001B[43m \u001B[49m\u001B[43mprotocol\u001B[49m\u001B[38;5;241;43m=\u001B[39;49m\u001B[38;5;241;43m5\u001B[39;49m\u001B[43m,\u001B[49m\u001B[43m \u001B[49m\u001B[43mbuffer_callback\u001B[49m\u001B[38;5;241;43m=\u001B[39;49m\u001B[43mwriter\u001B[49m\u001B[38;5;241;43m.\u001B[39;49m\u001B[43mbuffer_callback\u001B[49m\n\u001B[0;32m    358\u001B[0m \u001B[43m    \u001B[49m\u001B[43m)\u001B[49m\n\u001B[0;32m    359\u001B[0m \u001B[38;5;28;01mexcept\u001B[39;00m \u001B[38;5;167;01mException\u001B[39;00m \u001B[38;5;28;01mas\u001B[39;00m e:\n\u001B[0;32m    360\u001B[0m     \u001B[38;5;28mself\u001B[39m\u001B[38;5;241m.\u001B[39mget_and_clear_contained_object_refs()\n",
      "File \u001B[1;32m~\\Documents\\Programming\\Carbon_Hack_22\\carbonhack22\\venv\\lib\\site-packages\\ray\\cloudpickle\\cloudpickle_fast.py:73\u001B[0m, in \u001B[0;36mdumps\u001B[1;34m(obj, protocol, buffer_callback)\u001B[0m\n\u001B[0;32m     69\u001B[0m \u001B[38;5;28;01mwith\u001B[39;00m io\u001B[38;5;241m.\u001B[39mBytesIO() \u001B[38;5;28;01mas\u001B[39;00m file:\n\u001B[0;32m     70\u001B[0m     cp \u001B[38;5;241m=\u001B[39m CloudPickler(\n\u001B[0;32m     71\u001B[0m         file, protocol\u001B[38;5;241m=\u001B[39mprotocol, buffer_callback\u001B[38;5;241m=\u001B[39mbuffer_callback\n\u001B[0;32m     72\u001B[0m     )\n\u001B[1;32m---> 73\u001B[0m     \u001B[43mcp\u001B[49m\u001B[38;5;241;43m.\u001B[39;49m\u001B[43mdump\u001B[49m\u001B[43m(\u001B[49m\u001B[43mobj\u001B[49m\u001B[43m)\u001B[49m\n\u001B[0;32m     74\u001B[0m     \u001B[38;5;28;01mreturn\u001B[39;00m file\u001B[38;5;241m.\u001B[39mgetvalue()\n",
      "File \u001B[1;32m~\\Documents\\Programming\\Carbon_Hack_22\\carbonhack22\\venv\\lib\\site-packages\\ray\\cloudpickle\\cloudpickle_fast.py:620\u001B[0m, in \u001B[0;36mCloudPickler.dump\u001B[1;34m(self, obj)\u001B[0m\n\u001B[0;32m    618\u001B[0m \u001B[38;5;28;01mdef\u001B[39;00m \u001B[38;5;21mdump\u001B[39m(\u001B[38;5;28mself\u001B[39m, obj):\n\u001B[0;32m    619\u001B[0m     \u001B[38;5;28;01mtry\u001B[39;00m:\n\u001B[1;32m--> 620\u001B[0m         \u001B[38;5;28;01mreturn\u001B[39;00m \u001B[43mPickler\u001B[49m\u001B[38;5;241;43m.\u001B[39;49m\u001B[43mdump\u001B[49m\u001B[43m(\u001B[49m\u001B[38;5;28;43mself\u001B[39;49m\u001B[43m,\u001B[49m\u001B[43m \u001B[49m\u001B[43mobj\u001B[49m\u001B[43m)\u001B[49m\n\u001B[0;32m    621\u001B[0m     \u001B[38;5;28;01mexcept\u001B[39;00m \u001B[38;5;167;01mRuntimeError\u001B[39;00m \u001B[38;5;28;01mas\u001B[39;00m e:\n\u001B[0;32m    622\u001B[0m         \u001B[38;5;28;01mif\u001B[39;00m \u001B[38;5;124m\"\u001B[39m\u001B[38;5;124mrecursion\u001B[39m\u001B[38;5;124m\"\u001B[39m \u001B[38;5;129;01min\u001B[39;00m e\u001B[38;5;241m.\u001B[39margs[\u001B[38;5;241m0\u001B[39m]:\n",
      "File \u001B[1;32m~\\Documents\\Programming\\Carbon_Hack_22\\carbonhack22\\venv\\lib\\site-packages\\ray\\cloudpickle\\cloudpickle_fast.py:664\u001B[0m, in \u001B[0;36mCloudPickler.reducer_override\u001B[1;34m(self, obj)\u001B[0m\n\u001B[0;32m    661\u001B[0m     \u001B[38;5;28mself\u001B[39m\u001B[38;5;241m.\u001B[39mglobals_ref \u001B[38;5;241m=\u001B[39m {}\n\u001B[0;32m    662\u001B[0m     \u001B[38;5;28mself\u001B[39m\u001B[38;5;241m.\u001B[39mproto \u001B[38;5;241m=\u001B[39m \u001B[38;5;28mint\u001B[39m(protocol)\n\u001B[1;32m--> 664\u001B[0m \u001B[38;5;28;01mdef\u001B[39;00m \u001B[38;5;21mreducer_override\u001B[39m(\u001B[38;5;28mself\u001B[39m, obj):\n\u001B[0;32m    665\u001B[0m     \u001B[38;5;124;03m\"\"\"Type-agnostic reducing callback for function and classes.\u001B[39;00m\n\u001B[0;32m    666\u001B[0m \n\u001B[0;32m    667\u001B[0m \u001B[38;5;124;03m    For performance reasons, subclasses of the C _pickle.Pickler class\u001B[39;00m\n\u001B[1;32m   (...)\u001B[0m\n\u001B[0;32m    694\u001B[0m \u001B[38;5;124;03m      https://github.com/cloudpipe/cloudpickle/issues/248\u001B[39;00m\n\u001B[0;32m    695\u001B[0m \u001B[38;5;124;03m    \"\"\"\u001B[39;00m\n\u001B[0;32m    696\u001B[0m     \u001B[38;5;28;01mif\u001B[39;00m sys\u001B[38;5;241m.\u001B[39mversion_info[:\u001B[38;5;241m2\u001B[39m] \u001B[38;5;241m<\u001B[39m (\u001B[38;5;241m3\u001B[39m, \u001B[38;5;241m7\u001B[39m) \u001B[38;5;129;01mand\u001B[39;00m _is_parametrized_type_hint(obj):  \u001B[38;5;66;03m# noqa  # pragma: no branch\u001B[39;00m\n",
      "\u001B[1;31mKeyboardInterrupt\u001B[0m: "
     ]
    },
    {
     "name": "stderr",
     "output_type": "stream",
     "text": [
      "2022-10-13 14:01:52,709\tERROR worker.py:501 -- print_logs: <_MultiThreadedRendezvous of RPC that terminated with:\n",
      "\tstatus = StatusCode.UNKNOWN\n",
      "\tdetails = \"Stream removed\"\n",
      "\tdebug_error_string = \"UNKNOWN:Error received from peer ipv4:127.0.0.1:62628 {grpc_message:\"Stream removed\", grpc_status:2, created_time:\"2022-10-13T12:01:52.678685808+00:00\"}\"\n",
      ">\n",
      "Exception in thread ray_listen_error_messages:\n",
      "Traceback (most recent call last):\n",
      "  File \"C:\\Program Files\\Python39\\lib\\threading.py\", line 954, in _bootstrap_inner\n",
      "2022-10-13 14:01:52,723\tERROR import_thread.py:76 -- ImportThread: <_MultiThreadedRendezvous of RPC that terminated with:\n",
      "\tstatus = StatusCode.UNKNOWN\n",
      "\tdetails = \"Stream removed\"\n",
      "\tdebug_error_string = \"UNKNOWN:Error received from peer ipv4:127.0.0.1:62628 {grpc_message:\"Stream removed\", grpc_status:2, created_time:\"2022-10-13T12:01:52.678668028+00:00\"}\"\n",
      ">\n",
      "    self.run()\n",
      "  File \"C:\\Program Files\\Python39\\lib\\threading.py\", line 892, in run\n"
     ]
    }
   ],
   "source": [
    "from lowcarb import LowCarb_ClientManager\n",
    "# Start simulation\n",
    "fl.simulation.start_simulation(\n",
    "    client_fn=client_generator,\n",
    "    num_clients=NUM_CLIENTS,\n",
    "    config=fl.server.ServerConfig(num_rounds=5),\n",
    "    strategy=strategy,\n",
    "    client_manager=LowCarb_ClientManager(),\n",
    ")"
   ],
   "metadata": {
    "collapsed": false,
    "pycharm": {
     "is_executing": true
    }
   }
  },
  {
   "cell_type": "code",
   "execution_count": 8,
   "metadata": {},
   "outputs": [
    {
     "name": "stderr",
     "output_type": "stream",
     "text": [
      "    _, error_data = worker.gcs_error_subscriber.poll()\n",
      "  File \"C:\\Users\\skype\\Documents\\Programming\\Carbon_Hack_22\\carbonhack22\\venv\\lib\\site-packages\\ray\\_private\\gcs_pubsub.py\", line 317, in poll\n",
      "    self._poll_locked(timeout=timeout)\n",
      "  File \"C:\\Users\\skype\\Documents\\Programming\\Carbon_Hack_22\\carbonhack22\\venv\\lib\\site-packages\\ray\\_private\\gcs_pubsub.py\", line 249, in _poll_locked\n",
      "    fut.result(timeout=1)\n",
      "  File \"C:\\Users\\skype\\Documents\\Programming\\Carbon_Hack_22\\carbonhack22\\venv\\lib\\site-packages\\grpc\\_channel.py\", line 744, in result\n",
      "    raise self\n",
      "grpc._channel._MultiThreadedRendezvous: <_MultiThreadedRendezvous of RPC that terminated with:\n",
      "\tstatus = StatusCode.UNKNOWN\n",
      "\tdetails = \"Stream removed\"\n",
      "\tdebug_error_string = \"UNKNOWN:Error received from peer ipv4:127.0.0.1:62628 {created_time:\"2022-10-13T12:01:52.678378868+00:00\", grpc_status:2, grpc_message:\"Stream removed\"}\"\n",
      ">\n"
     ]
    }
   ],
   "source": []
  }
 ],
 "metadata": {
  "kernelspec": {
   "display_name": "Python 3 (ipykernel)",
   "language": "python",
   "name": "python3"
  },
  "language_info": {
   "codemirror_mode": {
    "name": "ipython",
    "version": 3
   },
   "file_extension": ".py",
   "mimetype": "text/x-python",
   "name": "python",
   "nbconvert_exporter": "python",
   "pygments_lexer": "ipython3",
   "version": "3.9.1"
  }
 },
 "nbformat": 4,
 "nbformat_minor": 1
}
