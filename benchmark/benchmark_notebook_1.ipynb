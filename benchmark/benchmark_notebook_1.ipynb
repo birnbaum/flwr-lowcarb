{
 "cells": [
  {
   "cell_type": "code",
   "execution_count": 1,
   "outputs": [],
   "source": [
    "from pandas import DataFrame\n",
    "%matplotlib inline\n",
    "from datetime import datetime\n",
    "from IPython import display\n",
    "\n",
    "\n",
    "import numpy as np\n",
    "from matplotlib import pyplot as plt\n",
    "\n",
    "from benchmark import run_benchmark, run_benchmark_comparison\n",
    "from lowcarb.carbon_sdk_webapi import CarbonSDK_WebAPI\n",
    "\n",
    "try:\n",
    "    plt.style.use('../util//matplotlib_stylesheet.mplstyle')\n",
    "except OSError:\n",
    "    pass"
   ],
   "metadata": {
    "collapsed": false
   }
  },
  {
   "cell_type": "markdown",
   "source": [
    "Using the public CarbonSDK_WebAPI from the hackathon. Appears to have the full access to worldwide data"
   ],
   "metadata": {
    "collapsed": false
   }
  },
  {
   "cell_type": "code",
   "execution_count": 2,
   "outputs": [],
   "source": [
    "api = CarbonSDK_WebAPI('https://carbon-aware-api.azurewebsites.net')"
   ],
   "metadata": {
    "collapsed": false
   }
  },
  {
   "cell_type": "markdown",
   "source": [
    "# Multi Region Benchmarks"
   ],
   "metadata": {
    "collapsed": false
   }
  },
  {
   "cell_type": "code",
   "execution_count": 3,
   "outputs": [],
   "source": [
    "config = {\n",
    "    'selected_regions': ['westcentralus', 'ukwest', 'uksouth', 'westeurope', 'westus', 'australiacentral', 'australiaeast', 'swedencentral', 'norwaywest', 'norwayeast', 'northeurope', 'centralus', 'francesouth', 'francecentral'],\n",
    "    'sim_start': datetime(year=2022, day=5, month=10, hour=0, minute=0, second=0),\n",
    "    'sim_end': datetime(year=2022, day=9, month=10, hour=0, minute=0, second=0),\n",
    "    'round_time': 12,   ###scheduling window in hours\n",
    "    'windowSize': 60,   ###workload durating in minutes\n",
    "    'num_clients': 7,\n",
    "}"
   ],
   "metadata": {
    "collapsed": false
   }
  },
  {
   "cell_type": "markdown",
   "source": [
    "## Random Client Selection"
   ],
   "metadata": {
    "collapsed": false
   }
  },
  {
   "cell_type": "code",
   "execution_count": 4,
   "outputs": [],
   "source": [
    "###### this client selector selects random 3 clients\n",
    "def random_select_clients(api, config: dict, i_round: int, round_start_time: datetime, available_clients: DataFrame, num_clients: int) -> DataFrame:\n",
    "    selected_clients = available_clients.sample(num_clients)\n",
    "    selected_clients.loc[:, 'scheduled_time'] = np.zeros(num_clients)\n",
    "    return selected_clients"
   ],
   "metadata": {
    "collapsed": false
   }
  },
  {
   "cell_type": "code",
   "execution_count": 5,
   "outputs": [
    {
     "data": {
      "text/plain": "              region  trained  untrained_since  emissions_total  emissions_1  \\\n0      westcentralus        4                0      2312.735197          NaN   \n1             ukwest        3                2      1122.376520          NaN   \n2            uksouth        5                0      1735.349909          NaN   \n3         westeurope        4                0      1700.687892          NaN   \n4             westus        3                1      1241.444517   413.978636   \n5   australiacentral        5                2      3254.109462   735.103135   \n6      australiaeast        4                1      2718.568070          NaN   \n7      swedencentral        5                2      2644.972708   545.293627   \n8         norwaywest        5                0      2803.522141   575.495319   \n9         norwayeast        3                1      1707.510678          NaN   \n10       northeurope        2                0      1005.595385          NaN   \n11         centralus        4                1      2634.521184   663.983631   \n12       francesouth        6                0      1696.246467   294.097953   \n13     francecentral        3                0       869.460975   294.097953   \n\n    emissions_2  emissions_3  emissions_4  emissions_5  emissions_6  \\\n0           NaN   591.711247   593.053124          NaN   593.903610   \n1    357.260690          NaN   374.100307          NaN   391.015523   \n2    357.260690          NaN   374.100307   313.243331          NaN   \n3    462.002729   341.139262          NaN   415.301614          NaN   \n4           NaN          NaN          NaN   417.342780          NaN   \n5    508.439247   524.333880          NaN   744.534076   741.699124   \n6           NaN   524.333880          NaN   744.534076   741.699124   \n7    458.808682          NaN   499.159504   586.986326   554.724569   \n8    524.938670          NaN   545.199129          NaN   583.697781   \n9           NaN   570.827098   545.199129          NaN          NaN   \n10          NaN   515.148635          NaN          NaN          NaN   \n11          NaN   663.756835          NaN   660.865183          NaN   \n12   279.715295          NaN   272.968108          NaN   274.102089   \n13          NaN          NaN          NaN          NaN          NaN   \n\n    emissions_7  emissions_8  \n0           NaN   534.067216  \n1           NaN          NaN  \n2    338.020814   352.724767  \n3           NaN   482.244288  \n4    410.123101          NaN  \n5           NaN          NaN  \n6    708.000991          NaN  \n7           NaN          NaN  \n8           NaN   574.191241  \n9    591.484450          NaN  \n10          NaN   490.446750  \n11   645.915535          NaN  \n12   293.247467   282.115554  \n13   293.247467   282.115554  ",
      "text/html": "<div>\n<style scoped>\n    .dataframe tbody tr th:only-of-type {\n        vertical-align: middle;\n    }\n\n    .dataframe tbody tr th {\n        vertical-align: top;\n    }\n\n    .dataframe thead th {\n        text-align: right;\n    }\n</style>\n<table border=\"1\" class=\"dataframe\">\n  <thead>\n    <tr style=\"text-align: right;\">\n      <th></th>\n      <th>region</th>\n      <th>trained</th>\n      <th>untrained_since</th>\n      <th>emissions_total</th>\n      <th>emissions_1</th>\n      <th>emissions_2</th>\n      <th>emissions_3</th>\n      <th>emissions_4</th>\n      <th>emissions_5</th>\n      <th>emissions_6</th>\n      <th>emissions_7</th>\n      <th>emissions_8</th>\n    </tr>\n  </thead>\n  <tbody>\n    <tr>\n      <th>0</th>\n      <td>westcentralus</td>\n      <td>4</td>\n      <td>0</td>\n      <td>2312.735197</td>\n      <td>NaN</td>\n      <td>NaN</td>\n      <td>591.711247</td>\n      <td>593.053124</td>\n      <td>NaN</td>\n      <td>593.903610</td>\n      <td>NaN</td>\n      <td>534.067216</td>\n    </tr>\n    <tr>\n      <th>1</th>\n      <td>ukwest</td>\n      <td>3</td>\n      <td>2</td>\n      <td>1122.376520</td>\n      <td>NaN</td>\n      <td>357.260690</td>\n      <td>NaN</td>\n      <td>374.100307</td>\n      <td>NaN</td>\n      <td>391.015523</td>\n      <td>NaN</td>\n      <td>NaN</td>\n    </tr>\n    <tr>\n      <th>2</th>\n      <td>uksouth</td>\n      <td>5</td>\n      <td>0</td>\n      <td>1735.349909</td>\n      <td>NaN</td>\n      <td>357.260690</td>\n      <td>NaN</td>\n      <td>374.100307</td>\n      <td>313.243331</td>\n      <td>NaN</td>\n      <td>338.020814</td>\n      <td>352.724767</td>\n    </tr>\n    <tr>\n      <th>3</th>\n      <td>westeurope</td>\n      <td>4</td>\n      <td>0</td>\n      <td>1700.687892</td>\n      <td>NaN</td>\n      <td>462.002729</td>\n      <td>341.139262</td>\n      <td>NaN</td>\n      <td>415.301614</td>\n      <td>NaN</td>\n      <td>NaN</td>\n      <td>482.244288</td>\n    </tr>\n    <tr>\n      <th>4</th>\n      <td>westus</td>\n      <td>3</td>\n      <td>1</td>\n      <td>1241.444517</td>\n      <td>413.978636</td>\n      <td>NaN</td>\n      <td>NaN</td>\n      <td>NaN</td>\n      <td>417.342780</td>\n      <td>NaN</td>\n      <td>410.123101</td>\n      <td>NaN</td>\n    </tr>\n    <tr>\n      <th>5</th>\n      <td>australiacentral</td>\n      <td>5</td>\n      <td>2</td>\n      <td>3254.109462</td>\n      <td>735.103135</td>\n      <td>508.439247</td>\n      <td>524.333880</td>\n      <td>NaN</td>\n      <td>744.534076</td>\n      <td>741.699124</td>\n      <td>NaN</td>\n      <td>NaN</td>\n    </tr>\n    <tr>\n      <th>6</th>\n      <td>australiaeast</td>\n      <td>4</td>\n      <td>1</td>\n      <td>2718.568070</td>\n      <td>NaN</td>\n      <td>NaN</td>\n      <td>524.333880</td>\n      <td>NaN</td>\n      <td>744.534076</td>\n      <td>741.699124</td>\n      <td>708.000991</td>\n      <td>NaN</td>\n    </tr>\n    <tr>\n      <th>7</th>\n      <td>swedencentral</td>\n      <td>5</td>\n      <td>2</td>\n      <td>2644.972708</td>\n      <td>545.293627</td>\n      <td>458.808682</td>\n      <td>NaN</td>\n      <td>499.159504</td>\n      <td>586.986326</td>\n      <td>554.724569</td>\n      <td>NaN</td>\n      <td>NaN</td>\n    </tr>\n    <tr>\n      <th>8</th>\n      <td>norwaywest</td>\n      <td>5</td>\n      <td>0</td>\n      <td>2803.522141</td>\n      <td>575.495319</td>\n      <td>524.938670</td>\n      <td>NaN</td>\n      <td>545.199129</td>\n      <td>NaN</td>\n      <td>583.697781</td>\n      <td>NaN</td>\n      <td>574.191241</td>\n    </tr>\n    <tr>\n      <th>9</th>\n      <td>norwayeast</td>\n      <td>3</td>\n      <td>1</td>\n      <td>1707.510678</td>\n      <td>NaN</td>\n      <td>NaN</td>\n      <td>570.827098</td>\n      <td>545.199129</td>\n      <td>NaN</td>\n      <td>NaN</td>\n      <td>591.484450</td>\n      <td>NaN</td>\n    </tr>\n    <tr>\n      <th>10</th>\n      <td>northeurope</td>\n      <td>2</td>\n      <td>0</td>\n      <td>1005.595385</td>\n      <td>NaN</td>\n      <td>NaN</td>\n      <td>515.148635</td>\n      <td>NaN</td>\n      <td>NaN</td>\n      <td>NaN</td>\n      <td>NaN</td>\n      <td>490.446750</td>\n    </tr>\n    <tr>\n      <th>11</th>\n      <td>centralus</td>\n      <td>4</td>\n      <td>1</td>\n      <td>2634.521184</td>\n      <td>663.983631</td>\n      <td>NaN</td>\n      <td>663.756835</td>\n      <td>NaN</td>\n      <td>660.865183</td>\n      <td>NaN</td>\n      <td>645.915535</td>\n      <td>NaN</td>\n    </tr>\n    <tr>\n      <th>12</th>\n      <td>francesouth</td>\n      <td>6</td>\n      <td>0</td>\n      <td>1696.246467</td>\n      <td>294.097953</td>\n      <td>279.715295</td>\n      <td>NaN</td>\n      <td>272.968108</td>\n      <td>NaN</td>\n      <td>274.102089</td>\n      <td>293.247467</td>\n      <td>282.115554</td>\n    </tr>\n    <tr>\n      <th>13</th>\n      <td>francecentral</td>\n      <td>3</td>\n      <td>0</td>\n      <td>869.460975</td>\n      <td>294.097953</td>\n      <td>NaN</td>\n      <td>NaN</td>\n      <td>NaN</td>\n      <td>NaN</td>\n      <td>NaN</td>\n      <td>293.247467</td>\n      <td>282.115554</td>\n    </tr>\n  </tbody>\n</table>\n</div>"
     },
     "metadata": {},
     "output_type": "display_data"
    },
    {
     "name": "stdout",
     "output_type": "stream",
     "text": [
      "Total training emission: 27447.101104884998\n"
     ]
    }
   ],
   "source": [
    "result = run_benchmark(api, config, random_select_clients)\n",
    "print(f'Total training emission: {result[\"emissions_total\"].sum()}')"
   ],
   "metadata": {
    "collapsed": false
   }
  },
  {
   "cell_type": "markdown",
   "source": [
    "## Round Robin Client Selection"
   ],
   "metadata": {
    "collapsed": false
   }
  },
  {
   "cell_type": "code",
   "execution_count": 6,
   "outputs": [],
   "source": [
    "####this client selector selects always the 3 least trained clients\n",
    "def round_robin_select_clients(api, config: dict, i_round: int, round_start_time: datetime, available_clients: DataFrame, num_clients: int) -> DataFrame:\n",
    "    selected_clients = available_clients.sort_values(by='untrained_since', ascending=False).iloc[0:num_clients]\n",
    "    selected_clients.loc[:, 'scheduled_time'] = np.zeros(num_clients)\n",
    "    return selected_clients"
   ],
   "metadata": {
    "collapsed": false
   }
  },
  {
   "cell_type": "code",
   "execution_count": 7,
   "outputs": [
    {
     "data": {
      "text/plain": "              region  trained  untrained_since  emissions_total  emissions_1  \\\n0      westcentralus        4                1      2378.506091   593.998108   \n1             ukwest        4                1      1324.281824   344.862499   \n2            uksouth        4                1      1324.281824   344.862499   \n3         westeurope        4                1      1576.781577   405.039087   \n4             westus        4                1      1655.064060   413.978636   \n5   australiacentral        4                1      2711.972081   735.103135   \n6      australiaeast        4                1      2711.972081   735.103135   \n7      swedencentral        4                0      2065.924249          NaN   \n8         norwaywest        4                0      2228.026822          NaN   \n9         norwayeast        4                0      2228.026822          NaN   \n10       northeurope        4                0      2001.438533          NaN   \n11         centralus        4                0      2574.174499          NaN   \n12       francesouth        4                0      1108.901047          NaN   \n13     francecentral        4                0      1108.901047          NaN   \n\n    emissions_2  emissions_3  emissions_4  emissions_5  emissions_6  \\\n0           NaN   591.711247          NaN   601.633580          NaN   \n1           NaN   328.155180          NaN   313.243331          NaN   \n2           NaN   328.155180          NaN   313.243331          NaN   \n3           NaN   341.139262          NaN   415.301614          NaN   \n4           NaN   413.619542          NaN   417.342780          NaN   \n5           NaN   524.333880          NaN   744.534076          NaN   \n6           NaN   524.333880          NaN   744.534076          NaN   \n7    458.808682          NaN   499.159504          NaN   554.724569   \n8    524.938670          NaN   545.199129          NaN   583.697781   \n9    524.938670          NaN   545.199129          NaN   583.697781   \n10   501.748760          NaN   494.812577          NaN   514.430447   \n11   652.057932          NaN   634.594625          NaN   650.697154   \n12   279.715295          NaN   272.968108          NaN   274.102089   \n13   279.715295          NaN   272.968108          NaN   274.102089   \n\n    emissions_7  emissions_8  \n0    591.163156          NaN  \n1    338.020814          NaN  \n2    338.020814          NaN  \n3    415.301614          NaN  \n4    410.123101          NaN  \n5    708.000991          NaN  \n6    708.000991          NaN  \n7           NaN   553.231494  \n8           NaN   574.191241  \n9           NaN   574.191241  \n10          NaN   490.446750  \n11          NaN   636.824788  \n12          NaN   282.115554  \n13          NaN   282.115554  ",
      "text/html": "<div>\n<style scoped>\n    .dataframe tbody tr th:only-of-type {\n        vertical-align: middle;\n    }\n\n    .dataframe tbody tr th {\n        vertical-align: top;\n    }\n\n    .dataframe thead th {\n        text-align: right;\n    }\n</style>\n<table border=\"1\" class=\"dataframe\">\n  <thead>\n    <tr style=\"text-align: right;\">\n      <th></th>\n      <th>region</th>\n      <th>trained</th>\n      <th>untrained_since</th>\n      <th>emissions_total</th>\n      <th>emissions_1</th>\n      <th>emissions_2</th>\n      <th>emissions_3</th>\n      <th>emissions_4</th>\n      <th>emissions_5</th>\n      <th>emissions_6</th>\n      <th>emissions_7</th>\n      <th>emissions_8</th>\n    </tr>\n  </thead>\n  <tbody>\n    <tr>\n      <th>0</th>\n      <td>westcentralus</td>\n      <td>4</td>\n      <td>1</td>\n      <td>2378.506091</td>\n      <td>593.998108</td>\n      <td>NaN</td>\n      <td>591.711247</td>\n      <td>NaN</td>\n      <td>601.633580</td>\n      <td>NaN</td>\n      <td>591.163156</td>\n      <td>NaN</td>\n    </tr>\n    <tr>\n      <th>1</th>\n      <td>ukwest</td>\n      <td>4</td>\n      <td>1</td>\n      <td>1324.281824</td>\n      <td>344.862499</td>\n      <td>NaN</td>\n      <td>328.155180</td>\n      <td>NaN</td>\n      <td>313.243331</td>\n      <td>NaN</td>\n      <td>338.020814</td>\n      <td>NaN</td>\n    </tr>\n    <tr>\n      <th>2</th>\n      <td>uksouth</td>\n      <td>4</td>\n      <td>1</td>\n      <td>1324.281824</td>\n      <td>344.862499</td>\n      <td>NaN</td>\n      <td>328.155180</td>\n      <td>NaN</td>\n      <td>313.243331</td>\n      <td>NaN</td>\n      <td>338.020814</td>\n      <td>NaN</td>\n    </tr>\n    <tr>\n      <th>3</th>\n      <td>westeurope</td>\n      <td>4</td>\n      <td>1</td>\n      <td>1576.781577</td>\n      <td>405.039087</td>\n      <td>NaN</td>\n      <td>341.139262</td>\n      <td>NaN</td>\n      <td>415.301614</td>\n      <td>NaN</td>\n      <td>415.301614</td>\n      <td>NaN</td>\n    </tr>\n    <tr>\n      <th>4</th>\n      <td>westus</td>\n      <td>4</td>\n      <td>1</td>\n      <td>1655.064060</td>\n      <td>413.978636</td>\n      <td>NaN</td>\n      <td>413.619542</td>\n      <td>NaN</td>\n      <td>417.342780</td>\n      <td>NaN</td>\n      <td>410.123101</td>\n      <td>NaN</td>\n    </tr>\n    <tr>\n      <th>5</th>\n      <td>australiacentral</td>\n      <td>4</td>\n      <td>1</td>\n      <td>2711.972081</td>\n      <td>735.103135</td>\n      <td>NaN</td>\n      <td>524.333880</td>\n      <td>NaN</td>\n      <td>744.534076</td>\n      <td>NaN</td>\n      <td>708.000991</td>\n      <td>NaN</td>\n    </tr>\n    <tr>\n      <th>6</th>\n      <td>australiaeast</td>\n      <td>4</td>\n      <td>1</td>\n      <td>2711.972081</td>\n      <td>735.103135</td>\n      <td>NaN</td>\n      <td>524.333880</td>\n      <td>NaN</td>\n      <td>744.534076</td>\n      <td>NaN</td>\n      <td>708.000991</td>\n      <td>NaN</td>\n    </tr>\n    <tr>\n      <th>7</th>\n      <td>swedencentral</td>\n      <td>4</td>\n      <td>0</td>\n      <td>2065.924249</td>\n      <td>NaN</td>\n      <td>458.808682</td>\n      <td>NaN</td>\n      <td>499.159504</td>\n      <td>NaN</td>\n      <td>554.724569</td>\n      <td>NaN</td>\n      <td>553.231494</td>\n    </tr>\n    <tr>\n      <th>8</th>\n      <td>norwaywest</td>\n      <td>4</td>\n      <td>0</td>\n      <td>2228.026822</td>\n      <td>NaN</td>\n      <td>524.938670</td>\n      <td>NaN</td>\n      <td>545.199129</td>\n      <td>NaN</td>\n      <td>583.697781</td>\n      <td>NaN</td>\n      <td>574.191241</td>\n    </tr>\n    <tr>\n      <th>9</th>\n      <td>norwayeast</td>\n      <td>4</td>\n      <td>0</td>\n      <td>2228.026822</td>\n      <td>NaN</td>\n      <td>524.938670</td>\n      <td>NaN</td>\n      <td>545.199129</td>\n      <td>NaN</td>\n      <td>583.697781</td>\n      <td>NaN</td>\n      <td>574.191241</td>\n    </tr>\n    <tr>\n      <th>10</th>\n      <td>northeurope</td>\n      <td>4</td>\n      <td>0</td>\n      <td>2001.438533</td>\n      <td>NaN</td>\n      <td>501.748760</td>\n      <td>NaN</td>\n      <td>494.812577</td>\n      <td>NaN</td>\n      <td>514.430447</td>\n      <td>NaN</td>\n      <td>490.446750</td>\n    </tr>\n    <tr>\n      <th>11</th>\n      <td>centralus</td>\n      <td>4</td>\n      <td>0</td>\n      <td>2574.174499</td>\n      <td>NaN</td>\n      <td>652.057932</td>\n      <td>NaN</td>\n      <td>634.594625</td>\n      <td>NaN</td>\n      <td>650.697154</td>\n      <td>NaN</td>\n      <td>636.824788</td>\n    </tr>\n    <tr>\n      <th>12</th>\n      <td>francesouth</td>\n      <td>4</td>\n      <td>0</td>\n      <td>1108.901047</td>\n      <td>NaN</td>\n      <td>279.715295</td>\n      <td>NaN</td>\n      <td>272.968108</td>\n      <td>NaN</td>\n      <td>274.102089</td>\n      <td>NaN</td>\n      <td>282.115554</td>\n    </tr>\n    <tr>\n      <th>13</th>\n      <td>francecentral</td>\n      <td>4</td>\n      <td>0</td>\n      <td>1108.901047</td>\n      <td>NaN</td>\n      <td>279.715295</td>\n      <td>NaN</td>\n      <td>272.968108</td>\n      <td>NaN</td>\n      <td>274.102089</td>\n      <td>NaN</td>\n      <td>282.115554</td>\n    </tr>\n  </tbody>\n</table>\n</div>"
     },
     "metadata": {},
     "output_type": "display_data"
    },
    {
     "name": "stdout",
     "output_type": "stream",
     "text": [
      "Total training emission: 26998.25255508792\n"
     ]
    }
   ],
   "source": [
    "result = run_benchmark(api, config, round_robin_select_clients)\n",
    "print(f'Total training emission: {result[\"emissions_total\"].sum()}')"
   ],
   "metadata": {
    "collapsed": false
   }
  },
  {
   "cell_type": "markdown",
   "source": [
    "## Forecast Client Selection"
   ],
   "metadata": {
    "collapsed": false
   }
  },
  {
   "cell_type": "code",
   "execution_count": 8,
   "outputs": [],
   "source": [
    "#### this client selector selects the optimum based on the forecast and gives the optimum delay\n",
    "def forecast_client_selection(api, config: dict, i_round: int, round_start_time: datetime, available_clients: DataFrame, num_clients: int) -> DataFrame:\n",
    "    scheduled_times = api\\\n",
    "        .get_historic_forecast_batch(regions=available_clients.loc[:, 'region'].to_list(),\n",
    "                                     start_time=round_start_time, windowSize=config['windowSize'],\n",
    "                                     roundtime=config['round_time'])\\\n",
    "        .groupby('region', group_keys=True)\\\n",
    "        .apply(lambda df: df.iloc[df['value'].idxmin()][['value', 'timestamp_indv']])\n",
    "\n",
    "    selected_clients = available_clients\\\n",
    "                           .merge(scheduled_times, on='region')\\\n",
    "                           .rename(columns={'timestamp_indv': 'scheduled_time'})\\\n",
    "                           .sort_values('value', ascending=True)\\\n",
    "                           .iloc[0:num_clients][['region', 'scheduled_time']]\n",
    "\n",
    "    return selected_clients"
   ],
   "metadata": {
    "collapsed": false
   }
  },
  {
   "cell_type": "code",
   "execution_count": 9,
   "outputs": [
    {
     "data": {
      "text/plain": "              region  trained  untrained_since  emissions_total  emissions_1  \\\n0      westcentralus        0                8         0.000000          NaN   \n1             ukwest        8                0      2845.781830   332.917900   \n2            uksouth        8                0      2845.781830   332.917900   \n3         westeurope        8                0      2979.440382   382.926459   \n4             westus        8                0      2957.119857   373.835712   \n5   australiacentral        0                8         0.000000          NaN   \n6      australiaeast        0                8         0.000000          NaN   \n7      swedencentral        7                0      4080.138967          NaN   \n8         norwaywest        0                8         0.000000          NaN   \n9         norwayeast        0                8         0.000000          NaN   \n10       northeurope        1                7       477.538267   477.538267   \n11         centralus        0                8         0.000000          NaN   \n12       francesouth        8                0      1800.761709   242.974313   \n13     francecentral        8                0      1800.761709   242.974313   \n\n    emissions_2  emissions_3  emissions_4  emissions_5  emissions_6  \\\n0           NaN          NaN          NaN          NaN          NaN   \n1    338.115312   316.134982   383.398951   370.584966   386.725295   \n2    338.115312   316.134982   383.398951   370.584966   386.725295   \n3    330.744436   360.341339   373.986909   379.165422   375.971376   \n4    386.781994   377.747946   382.586264   384.514032   410.312098   \n5           NaN          NaN          NaN          NaN          NaN   \n6           NaN          NaN          NaN          NaN          NaN   \n7    588.214805   610.535330   591.408852   596.851960   554.724569   \n8           NaN          NaN          NaN          NaN          NaN   \n9           NaN          NaN          NaN          NaN          NaN   \n10          NaN          NaN          NaN          NaN          NaN   \n11          NaN          NaN          NaN          NaN          NaN   \n12   228.837351   227.287577   225.700003   230.028031   222.279161   \n13   228.837351   227.287577   225.700003   230.028031   222.279161   \n\n    emissions_7  emissions_8  \n0           NaN          NaN  \n1    374.799595   343.104829  \n2    374.799595   343.104829  \n3    379.978108   396.326333  \n4    389.805943   251.535869  \n5           NaN          NaN  \n6           NaN          NaN  \n7    583.962377   554.441074  \n8           NaN          NaN  \n9           NaN          NaN  \n10          NaN          NaN  \n11          NaN          NaN  \n12   213.434110   210.221164  \n13   213.434110   210.221164  ",
      "text/html": "<div>\n<style scoped>\n    .dataframe tbody tr th:only-of-type {\n        vertical-align: middle;\n    }\n\n    .dataframe tbody tr th {\n        vertical-align: top;\n    }\n\n    .dataframe thead th {\n        text-align: right;\n    }\n</style>\n<table border=\"1\" class=\"dataframe\">\n  <thead>\n    <tr style=\"text-align: right;\">\n      <th></th>\n      <th>region</th>\n      <th>trained</th>\n      <th>untrained_since</th>\n      <th>emissions_total</th>\n      <th>emissions_1</th>\n      <th>emissions_2</th>\n      <th>emissions_3</th>\n      <th>emissions_4</th>\n      <th>emissions_5</th>\n      <th>emissions_6</th>\n      <th>emissions_7</th>\n      <th>emissions_8</th>\n    </tr>\n  </thead>\n  <tbody>\n    <tr>\n      <th>0</th>\n      <td>westcentralus</td>\n      <td>0</td>\n      <td>8</td>\n      <td>0.000000</td>\n      <td>NaN</td>\n      <td>NaN</td>\n      <td>NaN</td>\n      <td>NaN</td>\n      <td>NaN</td>\n      <td>NaN</td>\n      <td>NaN</td>\n      <td>NaN</td>\n    </tr>\n    <tr>\n      <th>1</th>\n      <td>ukwest</td>\n      <td>8</td>\n      <td>0</td>\n      <td>2845.781830</td>\n      <td>332.917900</td>\n      <td>338.115312</td>\n      <td>316.134982</td>\n      <td>383.398951</td>\n      <td>370.584966</td>\n      <td>386.725295</td>\n      <td>374.799595</td>\n      <td>343.104829</td>\n    </tr>\n    <tr>\n      <th>2</th>\n      <td>uksouth</td>\n      <td>8</td>\n      <td>0</td>\n      <td>2845.781830</td>\n      <td>332.917900</td>\n      <td>338.115312</td>\n      <td>316.134982</td>\n      <td>383.398951</td>\n      <td>370.584966</td>\n      <td>386.725295</td>\n      <td>374.799595</td>\n      <td>343.104829</td>\n    </tr>\n    <tr>\n      <th>3</th>\n      <td>westeurope</td>\n      <td>8</td>\n      <td>0</td>\n      <td>2979.440382</td>\n      <td>382.926459</td>\n      <td>330.744436</td>\n      <td>360.341339</td>\n      <td>373.986909</td>\n      <td>379.165422</td>\n      <td>375.971376</td>\n      <td>379.978108</td>\n      <td>396.326333</td>\n    </tr>\n    <tr>\n      <th>4</th>\n      <td>westus</td>\n      <td>8</td>\n      <td>0</td>\n      <td>2957.119857</td>\n      <td>373.835712</td>\n      <td>386.781994</td>\n      <td>377.747946</td>\n      <td>382.586264</td>\n      <td>384.514032</td>\n      <td>410.312098</td>\n      <td>389.805943</td>\n      <td>251.535869</td>\n    </tr>\n    <tr>\n      <th>5</th>\n      <td>australiacentral</td>\n      <td>0</td>\n      <td>8</td>\n      <td>0.000000</td>\n      <td>NaN</td>\n      <td>NaN</td>\n      <td>NaN</td>\n      <td>NaN</td>\n      <td>NaN</td>\n      <td>NaN</td>\n      <td>NaN</td>\n      <td>NaN</td>\n    </tr>\n    <tr>\n      <th>6</th>\n      <td>australiaeast</td>\n      <td>0</td>\n      <td>8</td>\n      <td>0.000000</td>\n      <td>NaN</td>\n      <td>NaN</td>\n      <td>NaN</td>\n      <td>NaN</td>\n      <td>NaN</td>\n      <td>NaN</td>\n      <td>NaN</td>\n      <td>NaN</td>\n    </tr>\n    <tr>\n      <th>7</th>\n      <td>swedencentral</td>\n      <td>7</td>\n      <td>0</td>\n      <td>4080.138967</td>\n      <td>NaN</td>\n      <td>588.214805</td>\n      <td>610.535330</td>\n      <td>591.408852</td>\n      <td>596.851960</td>\n      <td>554.724569</td>\n      <td>583.962377</td>\n      <td>554.441074</td>\n    </tr>\n    <tr>\n      <th>8</th>\n      <td>norwaywest</td>\n      <td>0</td>\n      <td>8</td>\n      <td>0.000000</td>\n      <td>NaN</td>\n      <td>NaN</td>\n      <td>NaN</td>\n      <td>NaN</td>\n      <td>NaN</td>\n      <td>NaN</td>\n      <td>NaN</td>\n      <td>NaN</td>\n    </tr>\n    <tr>\n      <th>9</th>\n      <td>norwayeast</td>\n      <td>0</td>\n      <td>8</td>\n      <td>0.000000</td>\n      <td>NaN</td>\n      <td>NaN</td>\n      <td>NaN</td>\n      <td>NaN</td>\n      <td>NaN</td>\n      <td>NaN</td>\n      <td>NaN</td>\n      <td>NaN</td>\n    </tr>\n    <tr>\n      <th>10</th>\n      <td>northeurope</td>\n      <td>1</td>\n      <td>7</td>\n      <td>477.538267</td>\n      <td>477.538267</td>\n      <td>NaN</td>\n      <td>NaN</td>\n      <td>NaN</td>\n      <td>NaN</td>\n      <td>NaN</td>\n      <td>NaN</td>\n      <td>NaN</td>\n    </tr>\n    <tr>\n      <th>11</th>\n      <td>centralus</td>\n      <td>0</td>\n      <td>8</td>\n      <td>0.000000</td>\n      <td>NaN</td>\n      <td>NaN</td>\n      <td>NaN</td>\n      <td>NaN</td>\n      <td>NaN</td>\n      <td>NaN</td>\n      <td>NaN</td>\n      <td>NaN</td>\n    </tr>\n    <tr>\n      <th>12</th>\n      <td>francesouth</td>\n      <td>8</td>\n      <td>0</td>\n      <td>1800.761709</td>\n      <td>242.974313</td>\n      <td>228.837351</td>\n      <td>227.287577</td>\n      <td>225.700003</td>\n      <td>230.028031</td>\n      <td>222.279161</td>\n      <td>213.434110</td>\n      <td>210.221164</td>\n    </tr>\n    <tr>\n      <th>13</th>\n      <td>francecentral</td>\n      <td>8</td>\n      <td>0</td>\n      <td>1800.761709</td>\n      <td>242.974313</td>\n      <td>228.837351</td>\n      <td>227.287577</td>\n      <td>225.700003</td>\n      <td>230.028031</td>\n      <td>222.279161</td>\n      <td>213.434110</td>\n      <td>210.221164</td>\n    </tr>\n  </tbody>\n</table>\n</div>"
     },
     "metadata": {},
     "output_type": "display_data"
    },
    {
     "name": "stdout",
     "output_type": "stream",
     "text": [
      "Total training emission: 19787.32455205917\n"
     ]
    }
   ],
   "source": [
    "result = run_benchmark(api, config, forecast_client_selection)\n",
    "print(f'Total training emission: {result[\"emissions_total\"].sum()}')"
   ],
   "metadata": {
    "collapsed": false
   }
  },
  {
   "cell_type": "markdown",
   "source": [
    "## Weighted selection"
   ],
   "metadata": {
    "collapsed": false
   }
  },
  {
   "cell_type": "markdown",
   "source": [
    "### 3 Clients"
   ],
   "metadata": {
    "collapsed": false
   }
  },
  {
   "cell_type": "code",
   "execution_count": 35,
   "outputs": [
    {
     "data": {
      "text/plain": "0"
     },
     "execution_count": 35,
     "metadata": {},
     "output_type": "execute_result"
    }
   ],
   "source": [
    "max(-3, 0)"
   ],
   "metadata": {
    "collapsed": false
   }
  },
  {
   "cell_type": "code",
   "execution_count": 43,
   "outputs": [],
   "source": [
    "##### this client selector selects the best from the forecast, however, priotizes clients with untrained rounds higher than 3\n",
    "def weighted_client_selection(api, config: dict, i_round: int, round_start_time: datetime, available_clients: DataFrame, num_clients: int) -> DataFrame:\n",
    "    untrained_treshold = 3\n",
    "\n",
    "    scheduled_times = api\\\n",
    "        .get_historic_forecast_batch(regions=available_clients.loc[:, 'region'].to_list(),\n",
    "                                     start_time=round_start_time, windowSize=config['windowSize'],\n",
    "                                     roundtime=config['round_time'])\\\n",
    "        .groupby('region', group_keys=True)\\\n",
    "        .apply(lambda df: df.iloc[df['value'].idxmin()][['value', 'timestamp_indv']])\n",
    "\n",
    "\n",
    "\n",
    "    merged_clients = available_clients\\\n",
    "                           .merge(scheduled_times, on='region')\\\n",
    "                           .rename(columns={'timestamp_indv': 'scheduled_time'})\\\n",
    "                           .sort_values(['value'], ascending=[True])\\\n",
    "\n",
    "\n",
    "    untrained_clients_indices = merged_clients.query(f'untrained_since >= {untrained_treshold}').index\n",
    "\n",
    "    if len(untrained_clients_indices) > num_clients:\n",
    "        return merged_clients.loc[untrained_clients_indices].sort_values(['untrained_since', 'value'], ascending=[False, True]).iloc[0:num_clients][['region', 'scheduled_time']]\n",
    "\n",
    "    else:\n",
    "        n_remaining = max(0, num_clients - len(untrained_clients_indices))\n",
    "\n",
    "        fill_up = merged_clients.query(f'untrained_since < {untrained_treshold}')[:n_remaining].index\n",
    "        selected_clients_list_indices = list(untrained_clients_indices.values) + list(fill_up.values)\n",
    "\n",
    "        return merged_clients.loc[selected_clients_list_indices].iloc[0:num_clients][['region', 'scheduled_time']]"
   ],
   "metadata": {
    "collapsed": false
   }
  },
  {
   "cell_type": "code",
   "execution_count": 20,
   "outputs": [],
   "source": [
    "config_for_weighted_selection_3_clients = {\n",
    "    'selected_regions': ['westcentralus', 'ukwest', 'uksouth', 'westeurope', 'westus', 'australiacentral', 'australiaeast', 'swedencentral', 'norwaywest', 'norwayeast', 'northeurope', 'centralus', 'francesouth', 'francecentral'],\n",
    "    'sim_start': datetime(year=2022, day=5, month=10, hour=0, minute=0, second=0),\n",
    "    'sim_end': datetime(year=2022, day=9, month=10, hour=0, minute=0, second=0),\n",
    "    'round_time': 3,   ###scheduling window in hours\n",
    "    'windowSize': 60,   ###workload durating in minutes\n",
    "    'num_clients': 3,\n",
    "}"
   ],
   "metadata": {
    "collapsed": false
   }
  },
  {
   "cell_type": "code",
   "execution_count": 21,
   "outputs": [
    {
     "data": {
      "text/plain": "              region  trained  untrained_since  emissions_total  emissions_1  \\\n0      westcentralus        6                1      3136.194345          NaN   \n1             ukwest        9                3      2923.176028   314.509610   \n2            uksouth        6                4      1977.057943          NaN   \n3         westeurope        6                4      2062.579005          NaN   \n4             westus        7                2      2363.613141          NaN   \n5   australiacentral        6                0      4005.617520          NaN   \n6      australiaeast        6                0      4005.617520          NaN   \n7      swedencentral        6                3      3068.665781          NaN   \n8         norwaywest        6                2      3111.076668          NaN   \n9         norwayeast        6                2      3176.129373          NaN   \n10       northeurope        6                3      2688.555375          NaN   \n11         centralus        6                1      3411.959607          NaN   \n12       francesouth       10                1      2231.863457   270.945842   \n13     francecentral       10                0      2185.143443   270.945842   \n\n    emissions_2  emissions_3  emissions_4  emissions_5  emissions_6  ...  \\\n0           NaN          NaN          NaN          NaN   640.755922  ...   \n1    361.380821   337.756219          NaN          NaN          NaN  ...   \n2           NaN          NaN   300.334848          NaN          NaN  ...   \n3           NaN          NaN   349.587419          NaN          NaN  ...   \n4           NaN          NaN   362.155708          NaN          NaN  ...   \n5           NaN          NaN          NaN          NaN          NaN  ...   \n6           NaN          NaN          NaN          NaN          NaN  ...   \n7           NaN          NaN          NaN   444.804018          NaN  ...   \n8           NaN          NaN          NaN   477.821762          NaN  ...   \n9           NaN          NaN          NaN          NaN   542.874468  ...   \n10          NaN          NaN          NaN   447.468873          NaN  ...   \n11          NaN          NaN          NaN          NaN   592.750729  ...   \n12   278.203320   220.597089          NaN          NaN          NaN  ...   \n13   278.203320   220.597089          NaN          NaN          NaN  ...   \n\n    emissions_23  emissions_24  emissions_25  emissions_26  emissions_27  \\\n0            NaN           NaN           NaN    538.470842           NaN   \n1            NaN           NaN    303.037503           NaN           NaN   \n2     362.533702           NaN           NaN           NaN           NaN   \n3     341.611754           NaN           NaN           NaN           NaN   \n4            NaN           NaN           NaN    370.906261           NaN   \n5            NaN           NaN           NaN           NaN    628.622326   \n6            NaN           NaN           NaN           NaN    628.622326   \n7            NaN    566.574669           NaN           NaN           NaN   \n8            NaN           NaN    536.788771           NaN           NaN   \n9            NaN           NaN    536.788771           NaN           NaN   \n10           NaN    446.920782           NaN           NaN           NaN   \n11           NaN           NaN           NaN    566.328974           NaN   \n12    210.750355           NaN           NaN           NaN    200.034235   \n13           NaN    201.754106           NaN           NaN           NaN   \n\n    emissions_28  emissions_29  emissions_30  emissions_31  emissions_32  \n0            NaN           NaN           NaN    625.277082           NaN  \n1            NaN    311.731356           NaN           NaN           NaN  \n2     341.195961           NaN           NaN           NaN           NaN  \n3     345.580687           NaN           NaN           NaN           NaN  \n4            NaN           NaN    161.535583           NaN           NaN  \n5            NaN           NaN           NaN           NaN    680.388555  \n6            NaN           NaN           NaN           NaN    680.388555  \n7            NaN    504.678211           NaN           NaN           NaN  \n8            NaN           NaN    486.269920           NaN           NaN  \n9            NaN           NaN    486.269920           NaN           NaN  \n10           NaN    452.628486           NaN           NaN           NaN  \n11           NaN           NaN           NaN    546.049615           NaN  \n12           NaN           NaN           NaN    202.264398           NaN  \n13    194.118635           NaN           NaN           NaN    191.170284  \n\n[14 rows x 36 columns]",
      "text/html": "<div>\n<style scoped>\n    .dataframe tbody tr th:only-of-type {\n        vertical-align: middle;\n    }\n\n    .dataframe tbody tr th {\n        vertical-align: top;\n    }\n\n    .dataframe thead th {\n        text-align: right;\n    }\n</style>\n<table border=\"1\" class=\"dataframe\">\n  <thead>\n    <tr style=\"text-align: right;\">\n      <th></th>\n      <th>region</th>\n      <th>trained</th>\n      <th>untrained_since</th>\n      <th>emissions_total</th>\n      <th>emissions_1</th>\n      <th>emissions_2</th>\n      <th>emissions_3</th>\n      <th>emissions_4</th>\n      <th>emissions_5</th>\n      <th>emissions_6</th>\n      <th>...</th>\n      <th>emissions_23</th>\n      <th>emissions_24</th>\n      <th>emissions_25</th>\n      <th>emissions_26</th>\n      <th>emissions_27</th>\n      <th>emissions_28</th>\n      <th>emissions_29</th>\n      <th>emissions_30</th>\n      <th>emissions_31</th>\n      <th>emissions_32</th>\n    </tr>\n  </thead>\n  <tbody>\n    <tr>\n      <th>0</th>\n      <td>westcentralus</td>\n      <td>6</td>\n      <td>1</td>\n      <td>3136.194345</td>\n      <td>NaN</td>\n      <td>NaN</td>\n      <td>NaN</td>\n      <td>NaN</td>\n      <td>NaN</td>\n      <td>640.755922</td>\n      <td>...</td>\n      <td>NaN</td>\n      <td>NaN</td>\n      <td>NaN</td>\n      <td>538.470842</td>\n      <td>NaN</td>\n      <td>NaN</td>\n      <td>NaN</td>\n      <td>NaN</td>\n      <td>625.277082</td>\n      <td>NaN</td>\n    </tr>\n    <tr>\n      <th>1</th>\n      <td>ukwest</td>\n      <td>9</td>\n      <td>3</td>\n      <td>2923.176028</td>\n      <td>314.509610</td>\n      <td>361.380821</td>\n      <td>337.756219</td>\n      <td>NaN</td>\n      <td>NaN</td>\n      <td>NaN</td>\n      <td>...</td>\n      <td>NaN</td>\n      <td>NaN</td>\n      <td>303.037503</td>\n      <td>NaN</td>\n      <td>NaN</td>\n      <td>NaN</td>\n      <td>311.731356</td>\n      <td>NaN</td>\n      <td>NaN</td>\n      <td>NaN</td>\n    </tr>\n    <tr>\n      <th>2</th>\n      <td>uksouth</td>\n      <td>6</td>\n      <td>4</td>\n      <td>1977.057943</td>\n      <td>NaN</td>\n      <td>NaN</td>\n      <td>NaN</td>\n      <td>300.334848</td>\n      <td>NaN</td>\n      <td>NaN</td>\n      <td>...</td>\n      <td>362.533702</td>\n      <td>NaN</td>\n      <td>NaN</td>\n      <td>NaN</td>\n      <td>NaN</td>\n      <td>341.195961</td>\n      <td>NaN</td>\n      <td>NaN</td>\n      <td>NaN</td>\n      <td>NaN</td>\n    </tr>\n    <tr>\n      <th>3</th>\n      <td>westeurope</td>\n      <td>6</td>\n      <td>4</td>\n      <td>2062.579005</td>\n      <td>NaN</td>\n      <td>NaN</td>\n      <td>NaN</td>\n      <td>349.587419</td>\n      <td>NaN</td>\n      <td>NaN</td>\n      <td>...</td>\n      <td>341.611754</td>\n      <td>NaN</td>\n      <td>NaN</td>\n      <td>NaN</td>\n      <td>NaN</td>\n      <td>345.580687</td>\n      <td>NaN</td>\n      <td>NaN</td>\n      <td>NaN</td>\n      <td>NaN</td>\n    </tr>\n    <tr>\n      <th>4</th>\n      <td>westus</td>\n      <td>7</td>\n      <td>2</td>\n      <td>2363.613141</td>\n      <td>NaN</td>\n      <td>NaN</td>\n      <td>NaN</td>\n      <td>362.155708</td>\n      <td>NaN</td>\n      <td>NaN</td>\n      <td>...</td>\n      <td>NaN</td>\n      <td>NaN</td>\n      <td>NaN</td>\n      <td>370.906261</td>\n      <td>NaN</td>\n      <td>NaN</td>\n      <td>NaN</td>\n      <td>161.535583</td>\n      <td>NaN</td>\n      <td>NaN</td>\n    </tr>\n    <tr>\n      <th>5</th>\n      <td>australiacentral</td>\n      <td>6</td>\n      <td>0</td>\n      <td>4005.617520</td>\n      <td>NaN</td>\n      <td>NaN</td>\n      <td>NaN</td>\n      <td>NaN</td>\n      <td>NaN</td>\n      <td>NaN</td>\n      <td>...</td>\n      <td>NaN</td>\n      <td>NaN</td>\n      <td>NaN</td>\n      <td>NaN</td>\n      <td>628.622326</td>\n      <td>NaN</td>\n      <td>NaN</td>\n      <td>NaN</td>\n      <td>NaN</td>\n      <td>680.388555</td>\n    </tr>\n    <tr>\n      <th>6</th>\n      <td>australiaeast</td>\n      <td>6</td>\n      <td>0</td>\n      <td>4005.617520</td>\n      <td>NaN</td>\n      <td>NaN</td>\n      <td>NaN</td>\n      <td>NaN</td>\n      <td>NaN</td>\n      <td>NaN</td>\n      <td>...</td>\n      <td>NaN</td>\n      <td>NaN</td>\n      <td>NaN</td>\n      <td>NaN</td>\n      <td>628.622326</td>\n      <td>NaN</td>\n      <td>NaN</td>\n      <td>NaN</td>\n      <td>NaN</td>\n      <td>680.388555</td>\n    </tr>\n    <tr>\n      <th>7</th>\n      <td>swedencentral</td>\n      <td>6</td>\n      <td>3</td>\n      <td>3068.665781</td>\n      <td>NaN</td>\n      <td>NaN</td>\n      <td>NaN</td>\n      <td>NaN</td>\n      <td>444.804018</td>\n      <td>NaN</td>\n      <td>...</td>\n      <td>NaN</td>\n      <td>566.574669</td>\n      <td>NaN</td>\n      <td>NaN</td>\n      <td>NaN</td>\n      <td>NaN</td>\n      <td>504.678211</td>\n      <td>NaN</td>\n      <td>NaN</td>\n      <td>NaN</td>\n    </tr>\n    <tr>\n      <th>8</th>\n      <td>norwaywest</td>\n      <td>6</td>\n      <td>2</td>\n      <td>3111.076668</td>\n      <td>NaN</td>\n      <td>NaN</td>\n      <td>NaN</td>\n      <td>NaN</td>\n      <td>477.821762</td>\n      <td>NaN</td>\n      <td>...</td>\n      <td>NaN</td>\n      <td>NaN</td>\n      <td>536.788771</td>\n      <td>NaN</td>\n      <td>NaN</td>\n      <td>NaN</td>\n      <td>NaN</td>\n      <td>486.269920</td>\n      <td>NaN</td>\n      <td>NaN</td>\n    </tr>\n    <tr>\n      <th>9</th>\n      <td>norwayeast</td>\n      <td>6</td>\n      <td>2</td>\n      <td>3176.129373</td>\n      <td>NaN</td>\n      <td>NaN</td>\n      <td>NaN</td>\n      <td>NaN</td>\n      <td>NaN</td>\n      <td>542.874468</td>\n      <td>...</td>\n      <td>NaN</td>\n      <td>NaN</td>\n      <td>536.788771</td>\n      <td>NaN</td>\n      <td>NaN</td>\n      <td>NaN</td>\n      <td>NaN</td>\n      <td>486.269920</td>\n      <td>NaN</td>\n      <td>NaN</td>\n    </tr>\n    <tr>\n      <th>10</th>\n      <td>northeurope</td>\n      <td>6</td>\n      <td>3</td>\n      <td>2688.555375</td>\n      <td>NaN</td>\n      <td>NaN</td>\n      <td>NaN</td>\n      <td>NaN</td>\n      <td>447.468873</td>\n      <td>NaN</td>\n      <td>...</td>\n      <td>NaN</td>\n      <td>446.920782</td>\n      <td>NaN</td>\n      <td>NaN</td>\n      <td>NaN</td>\n      <td>NaN</td>\n      <td>452.628486</td>\n      <td>NaN</td>\n      <td>NaN</td>\n      <td>NaN</td>\n    </tr>\n    <tr>\n      <th>11</th>\n      <td>centralus</td>\n      <td>6</td>\n      <td>1</td>\n      <td>3411.959607</td>\n      <td>NaN</td>\n      <td>NaN</td>\n      <td>NaN</td>\n      <td>NaN</td>\n      <td>NaN</td>\n      <td>592.750729</td>\n      <td>...</td>\n      <td>NaN</td>\n      <td>NaN</td>\n      <td>NaN</td>\n      <td>566.328974</td>\n      <td>NaN</td>\n      <td>NaN</td>\n      <td>NaN</td>\n      <td>NaN</td>\n      <td>546.049615</td>\n      <td>NaN</td>\n    </tr>\n    <tr>\n      <th>12</th>\n      <td>francesouth</td>\n      <td>10</td>\n      <td>1</td>\n      <td>2231.863457</td>\n      <td>270.945842</td>\n      <td>278.203320</td>\n      <td>220.597089</td>\n      <td>NaN</td>\n      <td>NaN</td>\n      <td>NaN</td>\n      <td>...</td>\n      <td>210.750355</td>\n      <td>NaN</td>\n      <td>NaN</td>\n      <td>NaN</td>\n      <td>200.034235</td>\n      <td>NaN</td>\n      <td>NaN</td>\n      <td>NaN</td>\n      <td>202.264398</td>\n      <td>NaN</td>\n    </tr>\n    <tr>\n      <th>13</th>\n      <td>francecentral</td>\n      <td>10</td>\n      <td>0</td>\n      <td>2185.143443</td>\n      <td>270.945842</td>\n      <td>278.203320</td>\n      <td>220.597089</td>\n      <td>NaN</td>\n      <td>NaN</td>\n      <td>NaN</td>\n      <td>...</td>\n      <td>NaN</td>\n      <td>201.754106</td>\n      <td>NaN</td>\n      <td>NaN</td>\n      <td>NaN</td>\n      <td>194.118635</td>\n      <td>NaN</td>\n      <td>NaN</td>\n      <td>NaN</td>\n      <td>191.170284</td>\n    </tr>\n  </tbody>\n</table>\n<p>14 rows × 36 columns</p>\n</div>"
     },
     "metadata": {},
     "output_type": "display_data"
    },
    {
     "name": "stdout",
     "output_type": "stream",
     "text": [
      "Total training emission: 40347.249208002926\n"
     ]
    }
   ],
   "source": [
    "result = run_benchmark(api, config_for_weighted_selection_3_clients, weighted_client_selection)\n",
    "print(f'Total training emission: {result[\"emissions_total\"].sum()}')"
   ],
   "metadata": {
    "collapsed": false
   }
  },
  {
   "cell_type": "code",
   "execution_count": 22,
   "outputs": [
    {
     "data": {
      "text/plain": "              region  emission_total\n0      westcentralus    63658.334150\n1             ukwest    41113.512764\n2            uksouth    41113.512764\n3         westeurope    42677.740943\n4             westus    39866.445305\n5   australiacentral    76924.188810\n6      australiaeast    76924.188810\n7      swedencentral    62553.110523\n8         norwaywest    61477.951708\n9         norwayeast    61477.951708\n10       northeurope    51027.129095\n11         centralus    65242.558765\n12       francesouth    27734.485089\n13     francecentral    27734.485089",
      "text/html": "<div>\n<style scoped>\n    .dataframe tbody tr th:only-of-type {\n        vertical-align: middle;\n    }\n\n    .dataframe tbody tr th {\n        vertical-align: top;\n    }\n\n    .dataframe thead th {\n        text-align: right;\n    }\n</style>\n<table border=\"1\" class=\"dataframe\">\n  <thead>\n    <tr style=\"text-align: right;\">\n      <th></th>\n      <th>region</th>\n      <th>emission_total</th>\n    </tr>\n  </thead>\n  <tbody>\n    <tr>\n      <th>0</th>\n      <td>westcentralus</td>\n      <td>63658.334150</td>\n    </tr>\n    <tr>\n      <th>1</th>\n      <td>ukwest</td>\n      <td>41113.512764</td>\n    </tr>\n    <tr>\n      <th>2</th>\n      <td>uksouth</td>\n      <td>41113.512764</td>\n    </tr>\n    <tr>\n      <th>3</th>\n      <td>westeurope</td>\n      <td>42677.740943</td>\n    </tr>\n    <tr>\n      <th>4</th>\n      <td>westus</td>\n      <td>39866.445305</td>\n    </tr>\n    <tr>\n      <th>5</th>\n      <td>australiacentral</td>\n      <td>76924.188810</td>\n    </tr>\n    <tr>\n      <th>6</th>\n      <td>australiaeast</td>\n      <td>76924.188810</td>\n    </tr>\n    <tr>\n      <th>7</th>\n      <td>swedencentral</td>\n      <td>62553.110523</td>\n    </tr>\n    <tr>\n      <th>8</th>\n      <td>norwaywest</td>\n      <td>61477.951708</td>\n    </tr>\n    <tr>\n      <th>9</th>\n      <td>norwayeast</td>\n      <td>61477.951708</td>\n    </tr>\n    <tr>\n      <th>10</th>\n      <td>northeurope</td>\n      <td>51027.129095</td>\n    </tr>\n    <tr>\n      <th>11</th>\n      <td>centralus</td>\n      <td>65242.558765</td>\n    </tr>\n    <tr>\n      <th>12</th>\n      <td>francesouth</td>\n      <td>27734.485089</td>\n    </tr>\n    <tr>\n      <th>13</th>\n      <td>francecentral</td>\n      <td>27734.485089</td>\n    </tr>\n  </tbody>\n</table>\n</div>"
     },
     "metadata": {},
     "output_type": "display_data"
    }
   ],
   "source": [
    "benchmark_comparison = run_benchmark_comparison(api, config_for_weighted_selection_3_clients)"
   ],
   "metadata": {
    "collapsed": false
   }
  },
  {
   "cell_type": "code",
   "execution_count": 23,
   "outputs": [
    {
     "data": {
      "text/plain": "<Figure size 1350x450 with 1 Axes>",
      "image/png": "[encoded data removed]"
     },
     "metadata": {},
     "output_type": "display_data"
    }
   ],
   "source": [
    "weighted_learning_result_plot = plt.figure(figsize=(15, 5))\n",
    "weighted_learning_result_plot.set_tight_layout(True)\n",
    "weighted_learning_result_plot_ax1 = weighted_learning_result_plot.add_subplot(1, 1, 1)\n",
    "weighted_learning_result_plot_ax1.set_xlabel('Region')\n",
    "weighted_learning_result_plot_ax1.set_ylabel('Number of Trainings')\n",
    "\n",
    "\n",
    "weighted_learning_result_plot_ax1.bar(result['region'],result['trained']);"
   ],
   "metadata": {
    "collapsed": false
   }
  },
  {
   "cell_type": "code",
   "execution_count": 23,
   "outputs": [],
   "source": [],
   "metadata": {
    "collapsed": false
   }
  },
  {
   "cell_type": "markdown",
   "source": [
    "### 7 Clients (half of all available clients)"
   ],
   "metadata": {
    "collapsed": false
   }
  },
  {
   "cell_type": "code",
   "execution_count": 29,
   "outputs": [],
   "source": [
    "config_for_weighted_selection_7_clients = {\n",
    "    'selected_regions': ['westcentralus', 'ukwest', 'uksouth', 'westeurope', 'westus', 'australiacentral', 'australiaeast', 'swedencentral', 'norwaywest', 'norwayeast', 'northeurope', 'centralus', 'francesouth', 'francecentral'],\n",
    "    'sim_start': datetime(year=2022, day=5, month=10, hour=0, minute=0, second=0),\n",
    "    'sim_end': datetime(year=2022, day=9, month=10, hour=0, minute=0, second=0),\n",
    "    'round_time': 3,   ###scheduling window in hours\n",
    "    'windowSize': 60,   ###workload durating in minutes\n",
    "    'num_clients': 7,\n",
    "}"
   ],
   "metadata": {
    "collapsed": false
   }
  },
  {
   "cell_type": "code",
   "execution_count": 44,
   "outputs": [
    {
     "data": {
      "text/plain": "              region  trained  untrained_since  emissions_total  emissions_1  \\\n0      westcentralus        8                0      3883.185380          NaN   \n1             ukwest       24                1      8311.040698   314.509610   \n2            uksouth       24                1      8311.040698   314.509610   \n3         westeurope       24                1      8982.773198   380.072607   \n4             westus       24                1      8174.433796   375.952476   \n5   australiacentral        8                0      5312.247041          NaN   \n6      australiaeast        8                0      5312.247041          NaN   \n7      swedencentral       12                2      5889.670128          NaN   \n8         norwaywest        8                0      4190.154016          NaN   \n9         norwayeast        8                0      4190.154016          NaN   \n10       northeurope       13                1      5652.668115   439.663304   \n11         centralus        8                0      4433.770918          NaN   \n12       francesouth       31                0      7236.782768   270.945842   \n13     francecentral       24                1      5821.385577   270.945842   \n\n    emissions_2  emissions_3  emissions_4  emissions_5  emissions_6  ...  \\\n0           NaN          NaN   503.411932          NaN          NaN  ...   \n1    361.380821   337.756219          NaN   306.174850   370.414869  ...   \n2    361.380821   337.756219          NaN   306.174850   370.414869  ...   \n3    321.143398   411.767374          NaN   420.083234   366.653832  ...   \n4    366.332538   340.969164          NaN   370.509368   342.386641  ...   \n5           NaN          NaN   639.243947          NaN          NaN  ...   \n6           NaN          NaN   639.243947          NaN          NaN  ...   \n7           NaN          NaN   499.783193   444.804018   419.875337  ...   \n8           NaN          NaN   494.169987          NaN          NaN  ...   \n9           NaN          NaN   494.169987          NaN          NaN  ...   \n10   417.815272   427.510809          NaN          NaN          NaN  ...   \n11          NaN          NaN   554.724569          NaN          NaN  ...   \n12   278.203320   220.597089          NaN   257.111275   249.078910  ...   \n13   278.203320   220.597089          NaN   257.111275   249.078910  ...   \n\n    emissions_23  emissions_24  emissions_25  emissions_26  emissions_27  \\\n0            NaN    465.990561           NaN           NaN           NaN   \n1     362.533702           NaN    303.037503    355.011628    364.348071   \n2     362.533702           NaN    303.037503    355.011628    364.348071   \n3     341.611754           NaN    377.540049    372.267038    376.519466   \n4     321.218997           NaN    371.851245    370.906261    353.461854   \n5            NaN    680.388555           NaN           NaN           NaN   \n6            NaN    680.388555           NaN           NaN           NaN   \n7            NaN           NaN    530.929869           NaN           NaN   \n8            NaN    547.240295           NaN           NaN           NaN   \n9            NaN    547.240295           NaN           NaN           NaN   \n10    435.580973           NaN           NaN    426.017734    424.071067   \n11           NaN    600.140505           NaN           NaN           NaN   \n12    210.750355    201.754106    273.081506    228.156962    200.034235   \n13    210.750355           NaN    273.081506    228.156962    200.034235   \n\n    emissions_28  emissions_29  emissions_30  emissions_31  emissions_32  \n0     503.582029           NaN           NaN           NaN    479.088041  \n1            NaN    311.731356    375.309887    379.146522           NaN  \n2            NaN    311.731356    375.309887    379.146522           NaN  \n3            NaN    439.077414    364.385871    360.322439           NaN  \n4            NaN    372.493834    161.535583    229.990231           NaN  \n5     663.076446           NaN           NaN           NaN    680.388555  \n6     663.076446           NaN           NaN           NaN    680.388555  \n7            NaN    504.678211    493.319502           NaN           NaN  \n8     494.453483           NaN           NaN           NaN    548.034081  \n9     494.453483           NaN           NaN           NaN    548.034081  \n10           NaN           NaN           NaN    438.812819           NaN  \n11    554.157578           NaN           NaN           NaN    584.831762  \n12    194.118635    256.336388    246.130560    202.264398    191.170284  \n13           NaN    256.336388    246.130560    202.264398           NaN  \n\n[14 rows x 36 columns]",
      "text/html": "<div>\n<style scoped>\n    .dataframe tbody tr th:only-of-type {\n        vertical-align: middle;\n    }\n\n    .dataframe tbody tr th {\n        vertical-align: top;\n    }\n\n    .dataframe thead th {\n        text-align: right;\n    }\n</style>\n<table border=\"1\" class=\"dataframe\">\n  <thead>\n    <tr style=\"text-align: right;\">\n      <th></th>\n      <th>region</th>\n      <th>trained</th>\n      <th>untrained_since</th>\n      <th>emissions_total</th>\n      <th>emissions_1</th>\n      <th>emissions_2</th>\n      <th>emissions_3</th>\n      <th>emissions_4</th>\n      <th>emissions_5</th>\n      <th>emissions_6</th>\n      <th>...</th>\n      <th>emissions_23</th>\n      <th>emissions_24</th>\n      <th>emissions_25</th>\n      <th>emissions_26</th>\n      <th>emissions_27</th>\n      <th>emissions_28</th>\n      <th>emissions_29</th>\n      <th>emissions_30</th>\n      <th>emissions_31</th>\n      <th>emissions_32</th>\n    </tr>\n  </thead>\n  <tbody>\n    <tr>\n      <th>0</th>\n      <td>westcentralus</td>\n      <td>8</td>\n      <td>0</td>\n      <td>3883.185380</td>\n      <td>NaN</td>\n      <td>NaN</td>\n      <td>NaN</td>\n      <td>503.411932</td>\n      <td>NaN</td>\n      <td>NaN</td>\n      <td>...</td>\n      <td>NaN</td>\n      <td>465.990561</td>\n      <td>NaN</td>\n      <td>NaN</td>\n      <td>NaN</td>\n      <td>503.582029</td>\n      <td>NaN</td>\n      <td>NaN</td>\n      <td>NaN</td>\n      <td>479.088041</td>\n    </tr>\n    <tr>\n      <th>1</th>\n      <td>ukwest</td>\n      <td>24</td>\n      <td>1</td>\n      <td>8311.040698</td>\n      <td>314.509610</td>\n      <td>361.380821</td>\n      <td>337.756219</td>\n      <td>NaN</td>\n      <td>306.174850</td>\n      <td>370.414869</td>\n      <td>...</td>\n      <td>362.533702</td>\n      <td>NaN</td>\n      <td>303.037503</td>\n      <td>355.011628</td>\n      <td>364.348071</td>\n      <td>NaN</td>\n      <td>311.731356</td>\n      <td>375.309887</td>\n      <td>379.146522</td>\n      <td>NaN</td>\n    </tr>\n    <tr>\n      <th>2</th>\n      <td>uksouth</td>\n      <td>24</td>\n      <td>1</td>\n      <td>8311.040698</td>\n      <td>314.509610</td>\n      <td>361.380821</td>\n      <td>337.756219</td>\n      <td>NaN</td>\n      <td>306.174850</td>\n      <td>370.414869</td>\n      <td>...</td>\n      <td>362.533702</td>\n      <td>NaN</td>\n      <td>303.037503</td>\n      <td>355.011628</td>\n      <td>364.348071</td>\n      <td>NaN</td>\n      <td>311.731356</td>\n      <td>375.309887</td>\n      <td>379.146522</td>\n      <td>NaN</td>\n    </tr>\n    <tr>\n      <th>3</th>\n      <td>westeurope</td>\n      <td>24</td>\n      <td>1</td>\n      <td>8982.773198</td>\n      <td>380.072607</td>\n      <td>321.143398</td>\n      <td>411.767374</td>\n      <td>NaN</td>\n      <td>420.083234</td>\n      <td>366.653832</td>\n      <td>...</td>\n      <td>341.611754</td>\n      <td>NaN</td>\n      <td>377.540049</td>\n      <td>372.267038</td>\n      <td>376.519466</td>\n      <td>NaN</td>\n      <td>439.077414</td>\n      <td>364.385871</td>\n      <td>360.322439</td>\n      <td>NaN</td>\n    </tr>\n    <tr>\n      <th>4</th>\n      <td>westus</td>\n      <td>24</td>\n      <td>1</td>\n      <td>8174.433796</td>\n      <td>375.952476</td>\n      <td>366.332538</td>\n      <td>340.969164</td>\n      <td>NaN</td>\n      <td>370.509368</td>\n      <td>342.386641</td>\n      <td>...</td>\n      <td>321.218997</td>\n      <td>NaN</td>\n      <td>371.851245</td>\n      <td>370.906261</td>\n      <td>353.461854</td>\n      <td>NaN</td>\n      <td>372.493834</td>\n      <td>161.535583</td>\n      <td>229.990231</td>\n      <td>NaN</td>\n    </tr>\n    <tr>\n      <th>5</th>\n      <td>australiacentral</td>\n      <td>8</td>\n      <td>0</td>\n      <td>5312.247041</td>\n      <td>NaN</td>\n      <td>NaN</td>\n      <td>NaN</td>\n      <td>639.243947</td>\n      <td>NaN</td>\n      <td>NaN</td>\n      <td>...</td>\n      <td>NaN</td>\n      <td>680.388555</td>\n      <td>NaN</td>\n      <td>NaN</td>\n      <td>NaN</td>\n      <td>663.076446</td>\n      <td>NaN</td>\n      <td>NaN</td>\n      <td>NaN</td>\n      <td>680.388555</td>\n    </tr>\n    <tr>\n      <th>6</th>\n      <td>australiaeast</td>\n      <td>8</td>\n      <td>0</td>\n      <td>5312.247041</td>\n      <td>NaN</td>\n      <td>NaN</td>\n      <td>NaN</td>\n      <td>639.243947</td>\n      <td>NaN</td>\n      <td>NaN</td>\n      <td>...</td>\n      <td>NaN</td>\n      <td>680.388555</td>\n      <td>NaN</td>\n      <td>NaN</td>\n      <td>NaN</td>\n      <td>663.076446</td>\n      <td>NaN</td>\n      <td>NaN</td>\n      <td>NaN</td>\n      <td>680.388555</td>\n    </tr>\n    <tr>\n      <th>7</th>\n      <td>swedencentral</td>\n      <td>12</td>\n      <td>2</td>\n      <td>5889.670128</td>\n      <td>NaN</td>\n      <td>NaN</td>\n      <td>NaN</td>\n      <td>499.783193</td>\n      <td>444.804018</td>\n      <td>419.875337</td>\n      <td>...</td>\n      <td>NaN</td>\n      <td>NaN</td>\n      <td>530.929869</td>\n      <td>NaN</td>\n      <td>NaN</td>\n      <td>NaN</td>\n      <td>504.678211</td>\n      <td>493.319502</td>\n      <td>NaN</td>\n      <td>NaN</td>\n    </tr>\n    <tr>\n      <th>8</th>\n      <td>norwaywest</td>\n      <td>8</td>\n      <td>0</td>\n      <td>4190.154016</td>\n      <td>NaN</td>\n      <td>NaN</td>\n      <td>NaN</td>\n      <td>494.169987</td>\n      <td>NaN</td>\n      <td>NaN</td>\n      <td>...</td>\n      <td>NaN</td>\n      <td>547.240295</td>\n      <td>NaN</td>\n      <td>NaN</td>\n      <td>NaN</td>\n      <td>494.453483</td>\n      <td>NaN</td>\n      <td>NaN</td>\n      <td>NaN</td>\n      <td>548.034081</td>\n    </tr>\n    <tr>\n      <th>9</th>\n      <td>norwayeast</td>\n      <td>8</td>\n      <td>0</td>\n      <td>4190.154016</td>\n      <td>NaN</td>\n      <td>NaN</td>\n      <td>NaN</td>\n      <td>494.169987</td>\n      <td>NaN</td>\n      <td>NaN</td>\n      <td>...</td>\n      <td>NaN</td>\n      <td>547.240295</td>\n      <td>NaN</td>\n      <td>NaN</td>\n      <td>NaN</td>\n      <td>494.453483</td>\n      <td>NaN</td>\n      <td>NaN</td>\n      <td>NaN</td>\n      <td>548.034081</td>\n    </tr>\n    <tr>\n      <th>10</th>\n      <td>northeurope</td>\n      <td>13</td>\n      <td>1</td>\n      <td>5652.668115</td>\n      <td>439.663304</td>\n      <td>417.815272</td>\n      <td>427.510809</td>\n      <td>NaN</td>\n      <td>NaN</td>\n      <td>NaN</td>\n      <td>...</td>\n      <td>435.580973</td>\n      <td>NaN</td>\n      <td>NaN</td>\n      <td>426.017734</td>\n      <td>424.071067</td>\n      <td>NaN</td>\n      <td>NaN</td>\n      <td>NaN</td>\n      <td>438.812819</td>\n      <td>NaN</td>\n    </tr>\n    <tr>\n      <th>11</th>\n      <td>centralus</td>\n      <td>8</td>\n      <td>0</td>\n      <td>4433.770918</td>\n      <td>NaN</td>\n      <td>NaN</td>\n      <td>NaN</td>\n      <td>554.724569</td>\n      <td>NaN</td>\n      <td>NaN</td>\n      <td>...</td>\n      <td>NaN</td>\n      <td>600.140505</td>\n      <td>NaN</td>\n      <td>NaN</td>\n      <td>NaN</td>\n      <td>554.157578</td>\n      <td>NaN</td>\n      <td>NaN</td>\n      <td>NaN</td>\n      <td>584.831762</td>\n    </tr>\n    <tr>\n      <th>12</th>\n      <td>francesouth</td>\n      <td>31</td>\n      <td>0</td>\n      <td>7236.782768</td>\n      <td>270.945842</td>\n      <td>278.203320</td>\n      <td>220.597089</td>\n      <td>NaN</td>\n      <td>257.111275</td>\n      <td>249.078910</td>\n      <td>...</td>\n      <td>210.750355</td>\n      <td>201.754106</td>\n      <td>273.081506</td>\n      <td>228.156962</td>\n      <td>200.034235</td>\n      <td>194.118635</td>\n      <td>256.336388</td>\n      <td>246.130560</td>\n      <td>202.264398</td>\n      <td>191.170284</td>\n    </tr>\n    <tr>\n      <th>13</th>\n      <td>francecentral</td>\n      <td>24</td>\n      <td>1</td>\n      <td>5821.385577</td>\n      <td>270.945842</td>\n      <td>278.203320</td>\n      <td>220.597089</td>\n      <td>NaN</td>\n      <td>257.111275</td>\n      <td>249.078910</td>\n      <td>...</td>\n      <td>210.750355</td>\n      <td>NaN</td>\n      <td>273.081506</td>\n      <td>228.156962</td>\n      <td>200.034235</td>\n      <td>NaN</td>\n      <td>256.336388</td>\n      <td>246.130560</td>\n      <td>202.264398</td>\n      <td>NaN</td>\n    </tr>\n  </tbody>\n</table>\n<p>14 rows × 36 columns</p>\n</div>"
     },
     "metadata": {},
     "output_type": "display_data"
    },
    {
     "name": "stdout",
     "output_type": "stream",
     "text": [
      "Total training emission: 85701.55339097918\n"
     ]
    }
   ],
   "source": [
    "result = run_benchmark(api, config_for_weighted_selection_7_clients, weighted_client_selection)\n",
    "print(f'Total training emission: {result[\"emissions_total\"].sum()}')"
   ],
   "metadata": {
    "collapsed": false
   }
  },
  {
   "cell_type": "code",
   "execution_count": 45,
   "outputs": [
    {
     "data": {
      "text/plain": "              region  emission_total\n0      westcentralus   149397.229876\n1             ukwest    97060.093371\n2            uksouth    97060.093371\n3         westeurope    98674.524260\n4             westus    92548.576034\n5   australiacentral   173020.635500\n6      australiaeast   173020.635500\n7      swedencentral   142253.806383\n8         norwaywest   142919.932551\n9         norwayeast   142919.932551\n10       northeurope   118949.075744\n11         centralus   149938.582633\n12       francesouth    65014.454492\n13     francecentral    65014.454492",
      "text/html": "<div>\n<style scoped>\n    .dataframe tbody tr th:only-of-type {\n        vertical-align: middle;\n    }\n\n    .dataframe tbody tr th {\n        vertical-align: top;\n    }\n\n    .dataframe thead th {\n        text-align: right;\n    }\n</style>\n<table border=\"1\" class=\"dataframe\">\n  <thead>\n    <tr style=\"text-align: right;\">\n      <th></th>\n      <th>region</th>\n      <th>emission_total</th>\n    </tr>\n  </thead>\n  <tbody>\n    <tr>\n      <th>0</th>\n      <td>westcentralus</td>\n      <td>149397.229876</td>\n    </tr>\n    <tr>\n      <th>1</th>\n      <td>ukwest</td>\n      <td>97060.093371</td>\n    </tr>\n    <tr>\n      <th>2</th>\n      <td>uksouth</td>\n      <td>97060.093371</td>\n    </tr>\n    <tr>\n      <th>3</th>\n      <td>westeurope</td>\n      <td>98674.524260</td>\n    </tr>\n    <tr>\n      <th>4</th>\n      <td>westus</td>\n      <td>92548.576034</td>\n    </tr>\n    <tr>\n      <th>5</th>\n      <td>australiacentral</td>\n      <td>173020.635500</td>\n    </tr>\n    <tr>\n      <th>6</th>\n      <td>australiaeast</td>\n      <td>173020.635500</td>\n    </tr>\n    <tr>\n      <th>7</th>\n      <td>swedencentral</td>\n      <td>142253.806383</td>\n    </tr>\n    <tr>\n      <th>8</th>\n      <td>norwaywest</td>\n      <td>142919.932551</td>\n    </tr>\n    <tr>\n      <th>9</th>\n      <td>norwayeast</td>\n      <td>142919.932551</td>\n    </tr>\n    <tr>\n      <th>10</th>\n      <td>northeurope</td>\n      <td>118949.075744</td>\n    </tr>\n    <tr>\n      <th>11</th>\n      <td>centralus</td>\n      <td>149938.582633</td>\n    </tr>\n    <tr>\n      <th>12</th>\n      <td>francesouth</td>\n      <td>65014.454492</td>\n    </tr>\n    <tr>\n      <th>13</th>\n      <td>francecentral</td>\n      <td>65014.454492</td>\n    </tr>\n  </tbody>\n</table>\n</div>"
     },
     "metadata": {},
     "output_type": "display_data"
    }
   ],
   "source": [
    "benchmark_comparison = run_benchmark_comparison(api, config_for_weighted_selection_7_clients)"
   ],
   "metadata": {
    "collapsed": false
   }
  },
  {
   "cell_type": "code",
   "execution_count": 46,
   "outputs": [
    {
     "data": {
      "text/plain": "<Figure size 1350x450 with 1 Axes>",
      "image/png": "[encoded data removed]"
     },
     "metadata": {},
     "output_type": "display_data"
    }
   ],
   "source": [
    "weighted_learning_result_plot2 = plt.figure(figsize=(15, 5))\n",
    "weighted_learning_result_plot2.set_tight_layout(True)\n",
    "weighted_learning_result_plot_ax1 = weighted_learning_result_plot2.add_subplot(1, 1, 1)\n",
    "weighted_learning_result_plot_ax1.set_xlabel('Region')\n",
    "weighted_learning_result_plot_ax1.set_ylabel('Number of Trainings')\n",
    "\n",
    "\n",
    "weighted_learning_result_plot_ax1.bar(result['region'],result['trained']);"
   ],
   "metadata": {
    "collapsed": false
   }
  },
  {
   "cell_type": "markdown",
   "source": [
    "## Comparison Benchmark\n",
    "**run_benchmark_comparison calculates the emission if the complete workload is done in one region all at once**"
   ],
   "metadata": {
    "collapsed": false
   }
  },
  {
   "cell_type": "code",
   "execution_count": 47,
   "outputs": [
    {
     "data": {
      "text/plain": "              region  emission_total\n0      westcentralus    37258.627463\n1             ukwest    23927.747205\n2            uksouth    23927.747205\n3         westeurope    24973.084421\n4             westus    23345.905792\n5   australiacentral    44946.814437\n6      australiaeast    44946.814437\n7      swedencentral    36353.023996\n8         norwaywest    35739.901509\n9         norwayeast    35739.901509\n10       northeurope    29852.532942\n11         centralus    38338.752693\n12       francesouth    16345.207353\n13     francecentral    16345.207353",
      "text/html": "<div>\n<style scoped>\n    .dataframe tbody tr th:only-of-type {\n        vertical-align: middle;\n    }\n\n    .dataframe tbody tr th {\n        vertical-align: top;\n    }\n\n    .dataframe thead th {\n        text-align: right;\n    }\n</style>\n<table border=\"1\" class=\"dataframe\">\n  <thead>\n    <tr style=\"text-align: right;\">\n      <th></th>\n      <th>region</th>\n      <th>emission_total</th>\n    </tr>\n  </thead>\n  <tbody>\n    <tr>\n      <th>0</th>\n      <td>westcentralus</td>\n      <td>37258.627463</td>\n    </tr>\n    <tr>\n      <th>1</th>\n      <td>ukwest</td>\n      <td>23927.747205</td>\n    </tr>\n    <tr>\n      <th>2</th>\n      <td>uksouth</td>\n      <td>23927.747205</td>\n    </tr>\n    <tr>\n      <th>3</th>\n      <td>westeurope</td>\n      <td>24973.084421</td>\n    </tr>\n    <tr>\n      <th>4</th>\n      <td>westus</td>\n      <td>23345.905792</td>\n    </tr>\n    <tr>\n      <th>5</th>\n      <td>australiacentral</td>\n      <td>44946.814437</td>\n    </tr>\n    <tr>\n      <th>6</th>\n      <td>australiaeast</td>\n      <td>44946.814437</td>\n    </tr>\n    <tr>\n      <th>7</th>\n      <td>swedencentral</td>\n      <td>36353.023996</td>\n    </tr>\n    <tr>\n      <th>8</th>\n      <td>norwaywest</td>\n      <td>35739.901509</td>\n    </tr>\n    <tr>\n      <th>9</th>\n      <td>norwayeast</td>\n      <td>35739.901509</td>\n    </tr>\n    <tr>\n      <th>10</th>\n      <td>northeurope</td>\n      <td>29852.532942</td>\n    </tr>\n    <tr>\n      <th>11</th>\n      <td>centralus</td>\n      <td>38338.752693</td>\n    </tr>\n    <tr>\n      <th>12</th>\n      <td>francesouth</td>\n      <td>16345.207353</td>\n    </tr>\n    <tr>\n      <th>13</th>\n      <td>francecentral</td>\n      <td>16345.207353</td>\n    </tr>\n  </tbody>\n</table>\n</div>"
     },
     "metadata": {},
     "output_type": "display_data"
    }
   ],
   "source": [
    "benchmark_comparison = run_benchmark_comparison(api, config)"
   ],
   "metadata": {
    "collapsed": false
   }
  },
  {
   "cell_type": "markdown",
   "source": [
    "# Single Region Benchmarks"
   ],
   "metadata": {
    "collapsed": false
   }
  },
  {
   "cell_type": "markdown",
   "source": [
    "## Forecast Client Selection"
   ],
   "metadata": {
    "collapsed": false
   }
  },
  {
   "cell_type": "code",
   "execution_count": 48,
   "outputs": [],
   "source": [
    "config_single_region = {\n",
    "    'selected_regions': ['norwayeast'],\n",
    "    'sim_start': datetime(year=2022, day=5, month=10, hour=0, minute=0, second=0),\n",
    "    'sim_end': datetime(year=2022, day=9, month=10, hour=0, minute=0, second=0),\n",
    "    'round_time': 12,   ###scheduling window in hours\n",
    "    'windowSize': 60,   ###workload durating in minutes\n",
    "    'num_clients': 1,\n",
    "}"
   ],
   "metadata": {
    "collapsed": false
   }
  },
  {
   "cell_type": "code",
   "execution_count": 49,
   "outputs": [
    {
     "data": {
      "text/plain": "       region  trained  untrained_since  emissions_total  emissions_1  \\\n0  norwayeast        8                0      4488.523297   543.271361   \n\n   emissions_2  emissions_3  emissions_4  emissions_5  emissions_6  \\\n0   579.086259   570.657001   542.307478   592.731829   581.543218   \n\n   emissions_7  emissions_8  \n0   543.895051     535.0311  ",
      "text/html": "<div>\n<style scoped>\n    .dataframe tbody tr th:only-of-type {\n        vertical-align: middle;\n    }\n\n    .dataframe tbody tr th {\n        vertical-align: top;\n    }\n\n    .dataframe thead th {\n        text-align: right;\n    }\n</style>\n<table border=\"1\" class=\"dataframe\">\n  <thead>\n    <tr style=\"text-align: right;\">\n      <th></th>\n      <th>region</th>\n      <th>trained</th>\n      <th>untrained_since</th>\n      <th>emissions_total</th>\n      <th>emissions_1</th>\n      <th>emissions_2</th>\n      <th>emissions_3</th>\n      <th>emissions_4</th>\n      <th>emissions_5</th>\n      <th>emissions_6</th>\n      <th>emissions_7</th>\n      <th>emissions_8</th>\n    </tr>\n  </thead>\n  <tbody>\n    <tr>\n      <th>0</th>\n      <td>norwayeast</td>\n      <td>8</td>\n      <td>0</td>\n      <td>4488.523297</td>\n      <td>543.271361</td>\n      <td>579.086259</td>\n      <td>570.657001</td>\n      <td>542.307478</td>\n      <td>592.731829</td>\n      <td>581.543218</td>\n      <td>543.895051</td>\n      <td>535.0311</td>\n    </tr>\n  </tbody>\n</table>\n</div>"
     },
     "metadata": {},
     "output_type": "display_data"
    },
    {
     "name": "stdout",
     "output_type": "stream",
     "text": [
      "Total training emission: 4488.523297335\n"
     ]
    }
   ],
   "source": [
    "result = run_benchmark(api, config_single_region, forecast_client_selection)\n",
    "print(f'Total training emission: {result[\"emissions_total\"].sum()}')"
   ],
   "metadata": {
    "collapsed": false
   }
  },
  {
   "cell_type": "code",
   "execution_count": 50,
   "outputs": [
    {
     "data": {
      "text/plain": "       region  emission_total\n0  norwayeast     5103.892746",
      "text/html": "<div>\n<style scoped>\n    .dataframe tbody tr th:only-of-type {\n        vertical-align: middle;\n    }\n\n    .dataframe tbody tr th {\n        vertical-align: top;\n    }\n\n    .dataframe thead th {\n        text-align: right;\n    }\n</style>\n<table border=\"1\" class=\"dataframe\">\n  <thead>\n    <tr style=\"text-align: right;\">\n      <th></th>\n      <th>region</th>\n      <th>emission_total</th>\n    </tr>\n  </thead>\n  <tbody>\n    <tr>\n      <th>0</th>\n      <td>norwayeast</td>\n      <td>5103.892746</td>\n    </tr>\n  </tbody>\n</table>\n</div>"
     },
     "metadata": {},
     "output_type": "display_data"
    }
   ],
   "source": [
    "benchmark_comparison = run_benchmark_comparison(api, config_single_region)"
   ],
   "metadata": {
    "collapsed": false
   }
  },
  {
   "cell_type": "code",
   "execution_count": null,
   "outputs": [],
   "source": [],
   "metadata": {
    "collapsed": false
   }
  }
 ],
 "metadata": {
  "kernelspec": {
   "display_name": "Python 3",
   "language": "python",
   "name": "python3"
  },
  "language_info": {
   "codemirror_mode": {
    "name": "ipython",
    "version": 2
   },
   "file_extension": ".py",
   "mimetype": "text/x-python",
   "name": "python",
   "nbconvert_exporter": "python",
   "pygments_lexer": "ipython2",
   "version": "2.7.6"
  }
 },
 "nbformat": 4,
 "nbformat_minor": 0
}
