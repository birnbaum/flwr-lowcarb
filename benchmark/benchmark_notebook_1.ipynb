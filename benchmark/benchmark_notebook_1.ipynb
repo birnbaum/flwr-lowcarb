{
 "cells": [
  {
   "cell_type": "code",
   "execution_count": 1,
   "outputs": [],
   "source": [
    "from pandas import DataFrame\n",
    "%matplotlib inline\n",
    "from datetime import datetime\n",
    "\n",
    "import numpy as np\n",
    "from matplotlib import pyplot as plt\n",
    "\n",
    "from benchmark import run_benchmark, run_benchmark_comparison\n",
    "from lowcarb.carbon_sdk_webapi import CarbonSDK_WebAPI\n",
    "\n",
    "try:\n",
    "    plt.style.use('./util//matplotlib_stylesheet.mplstyle')\n",
    "except OSError:\n",
    "    pass"
   ],
   "metadata": {
    "collapsed": false
   }
  },
  {
   "cell_type": "markdown",
   "source": [
    "Using the public CarbonSDK_WebAPI from the hackathon. Appears to have the full access to worldwide data"
   ],
   "metadata": {
    "collapsed": false
   }
  },
  {
   "cell_type": "code",
   "execution_count": 2,
   "outputs": [],
   "source": [
    "api = CarbonSDK_WebAPI('https://carbon-aware-api.azurewebsites.net')"
   ],
   "metadata": {
    "collapsed": false
   }
  },
  {
   "cell_type": "markdown",
   "source": [
    "# Multi Region Benchmarks"
   ],
   "metadata": {
    "collapsed": false
   }
  },
  {
   "cell_type": "code",
   "execution_count": 3,
   "outputs": [],
   "source": [
    "config = {\n",
    "    'selected_regions': ['westcentralus', 'ukwest', 'uksouth', 'westeurope', 'westus', 'australiacentral', 'australiaeast', 'swedencentral', 'norwaywest', 'norwayeast', 'northeurope', 'centralus', 'francesouth', 'francecentral'],\n",
    "    'sim_start': datetime(year=2022, day=5, month=10, hour=0, minute=0, second=0),\n",
    "    'sim_end': datetime(year=2022, day=9, month=10, hour=0, minute=0, second=0),\n",
    "    'round_time': 12,   ###scheduling window in hours\n",
    "    'windowSize': 60,   ###workload durating in minutes\n",
    "    'num_clients': 3,\n",
    "}"
   ],
   "metadata": {
    "collapsed": false
   }
  },
  {
   "cell_type": "markdown",
   "source": [
    "## Random Client Selection"
   ],
   "metadata": {
    "collapsed": false
   }
  },
  {
   "cell_type": "code",
   "execution_count": 4,
   "outputs": [],
   "source": [
    "###### this client selector selects random 3 clients\n",
    "def random_select_clients(api, config: dict, i_round: int, round_start_time: datetime, available_clients: DataFrame, num_clients: int) -> DataFrame:\n",
    "    selected_clients = available_clients.sample(num_clients)\n",
    "    selected_clients.loc[:, 'scheduled_time'] = np.zeros(num_clients)\n",
    "    return selected_clients"
   ],
   "metadata": {
    "collapsed": false
   }
  },
  {
   "cell_type": "code",
   "execution_count": 5,
   "outputs": [
    {
     "data": {
      "text/plain": "              region  trained  untrained_since  emissions_total  emissions_1  \\\n0      westcentralus        2                5      1185.709355   593.998108   \n1             ukwest        0                8         0.000000          NaN   \n2            uksouth        2                2       765.115830          NaN   \n3         westeurope        1                1       415.301614          NaN   \n4             westus        0                8         0.000000          NaN   \n5   australiacentral        2                0      1481.527179          NaN   \n6      australiaeast        4                4      2505.871048   735.103135   \n7      swedencentral        2                6      1004.102310   545.293627   \n8         norwaywest        3                0      1746.255026          NaN   \n9         norwayeast        1                3       588.366003          NaN   \n10       northeurope        0                8         0.000000          NaN   \n11         centralus        1                3       660.865183          NaN   \n12       francesouth        4                0      1129.180406          NaN   \n13     francecentral        2                1       581.807813          NaN   \n\n    emissions_2  emissions_3  emissions_4  emissions_5  emissions_6  \\\n0           NaN   591.711247          NaN          NaN          NaN   \n1           NaN          NaN          NaN          NaN          NaN   \n2           NaN          NaN   374.100307          NaN   391.015523   \n3           NaN          NaN          NaN          NaN          NaN   \n4           NaN          NaN          NaN          NaN          NaN   \n5           NaN          NaN   737.994786          NaN          NaN   \n6    508.439247   524.333880   737.994786          NaN          NaN   \n7    458.808682          NaN          NaN          NaN          NaN   \n8           NaN          NaN          NaN   588.366003   583.697781   \n9           NaN          NaN          NaN   588.366003          NaN   \n10          NaN          NaN          NaN          NaN          NaN   \n11          NaN          NaN          NaN   660.865183          NaN   \n12   279.715295          NaN          NaN          NaN   274.102089   \n13          NaN   288.560346          NaN          NaN          NaN   \n\n    emissions_7  emissions_8  \n0           NaN          NaN  \n1           NaN          NaN  \n2           NaN          NaN  \n3    415.301614          NaN  \n4           NaN          NaN  \n5           NaN   743.532393  \n6           NaN          NaN  \n7           NaN          NaN  \n8           NaN   574.191241  \n9           NaN          NaN  \n10          NaN          NaN  \n11          NaN          NaN  \n12   293.247467   282.115554  \n13   293.247467          NaN  ",
      "text/html": "<div>\n<style scoped>\n    .dataframe tbody tr th:only-of-type {\n        vertical-align: middle;\n    }\n\n    .dataframe tbody tr th {\n        vertical-align: top;\n    }\n\n    .dataframe thead th {\n        text-align: right;\n    }\n</style>\n<table border=\"1\" class=\"dataframe\">\n  <thead>\n    <tr style=\"text-align: right;\">\n      <th></th>\n      <th>region</th>\n      <th>trained</th>\n      <th>untrained_since</th>\n      <th>emissions_total</th>\n      <th>emissions_1</th>\n      <th>emissions_2</th>\n      <th>emissions_3</th>\n      <th>emissions_4</th>\n      <th>emissions_5</th>\n      <th>emissions_6</th>\n      <th>emissions_7</th>\n      <th>emissions_8</th>\n    </tr>\n  </thead>\n  <tbody>\n    <tr>\n      <th>0</th>\n      <td>westcentralus</td>\n      <td>2</td>\n      <td>5</td>\n      <td>1185.709355</td>\n      <td>593.998108</td>\n      <td>NaN</td>\n      <td>591.711247</td>\n      <td>NaN</td>\n      <td>NaN</td>\n      <td>NaN</td>\n      <td>NaN</td>\n      <td>NaN</td>\n    </tr>\n    <tr>\n      <th>1</th>\n      <td>ukwest</td>\n      <td>0</td>\n      <td>8</td>\n      <td>0.000000</td>\n      <td>NaN</td>\n      <td>NaN</td>\n      <td>NaN</td>\n      <td>NaN</td>\n      <td>NaN</td>\n      <td>NaN</td>\n      <td>NaN</td>\n      <td>NaN</td>\n    </tr>\n    <tr>\n      <th>2</th>\n      <td>uksouth</td>\n      <td>2</td>\n      <td>2</td>\n      <td>765.115830</td>\n      <td>NaN</td>\n      <td>NaN</td>\n      <td>NaN</td>\n      <td>374.100307</td>\n      <td>NaN</td>\n      <td>391.015523</td>\n      <td>NaN</td>\n      <td>NaN</td>\n    </tr>\n    <tr>\n      <th>3</th>\n      <td>westeurope</td>\n      <td>1</td>\n      <td>1</td>\n      <td>415.301614</td>\n      <td>NaN</td>\n      <td>NaN</td>\n      <td>NaN</td>\n      <td>NaN</td>\n      <td>NaN</td>\n      <td>NaN</td>\n      <td>415.301614</td>\n      <td>NaN</td>\n    </tr>\n    <tr>\n      <th>4</th>\n      <td>westus</td>\n      <td>0</td>\n      <td>8</td>\n      <td>0.000000</td>\n      <td>NaN</td>\n      <td>NaN</td>\n      <td>NaN</td>\n      <td>NaN</td>\n      <td>NaN</td>\n      <td>NaN</td>\n      <td>NaN</td>\n      <td>NaN</td>\n    </tr>\n    <tr>\n      <th>5</th>\n      <td>australiacentral</td>\n      <td>2</td>\n      <td>0</td>\n      <td>1481.527179</td>\n      <td>NaN</td>\n      <td>NaN</td>\n      <td>NaN</td>\n      <td>737.994786</td>\n      <td>NaN</td>\n      <td>NaN</td>\n      <td>NaN</td>\n      <td>743.532393</td>\n    </tr>\n    <tr>\n      <th>6</th>\n      <td>australiaeast</td>\n      <td>4</td>\n      <td>4</td>\n      <td>2505.871048</td>\n      <td>735.103135</td>\n      <td>508.439247</td>\n      <td>524.333880</td>\n      <td>737.994786</td>\n      <td>NaN</td>\n      <td>NaN</td>\n      <td>NaN</td>\n      <td>NaN</td>\n    </tr>\n    <tr>\n      <th>7</th>\n      <td>swedencentral</td>\n      <td>2</td>\n      <td>6</td>\n      <td>1004.102310</td>\n      <td>545.293627</td>\n      <td>458.808682</td>\n      <td>NaN</td>\n      <td>NaN</td>\n      <td>NaN</td>\n      <td>NaN</td>\n      <td>NaN</td>\n      <td>NaN</td>\n    </tr>\n    <tr>\n      <th>8</th>\n      <td>norwaywest</td>\n      <td>3</td>\n      <td>0</td>\n      <td>1746.255026</td>\n      <td>NaN</td>\n      <td>NaN</td>\n      <td>NaN</td>\n      <td>NaN</td>\n      <td>588.366003</td>\n      <td>583.697781</td>\n      <td>NaN</td>\n      <td>574.191241</td>\n    </tr>\n    <tr>\n      <th>9</th>\n      <td>norwayeast</td>\n      <td>1</td>\n      <td>3</td>\n      <td>588.366003</td>\n      <td>NaN</td>\n      <td>NaN</td>\n      <td>NaN</td>\n      <td>NaN</td>\n      <td>588.366003</td>\n      <td>NaN</td>\n      <td>NaN</td>\n      <td>NaN</td>\n    </tr>\n    <tr>\n      <th>10</th>\n      <td>northeurope</td>\n      <td>0</td>\n      <td>8</td>\n      <td>0.000000</td>\n      <td>NaN</td>\n      <td>NaN</td>\n      <td>NaN</td>\n      <td>NaN</td>\n      <td>NaN</td>\n      <td>NaN</td>\n      <td>NaN</td>\n      <td>NaN</td>\n    </tr>\n    <tr>\n      <th>11</th>\n      <td>centralus</td>\n      <td>1</td>\n      <td>3</td>\n      <td>660.865183</td>\n      <td>NaN</td>\n      <td>NaN</td>\n      <td>NaN</td>\n      <td>NaN</td>\n      <td>660.865183</td>\n      <td>NaN</td>\n      <td>NaN</td>\n      <td>NaN</td>\n    </tr>\n    <tr>\n      <th>12</th>\n      <td>francesouth</td>\n      <td>4</td>\n      <td>0</td>\n      <td>1129.180406</td>\n      <td>NaN</td>\n      <td>279.715295</td>\n      <td>NaN</td>\n      <td>NaN</td>\n      <td>NaN</td>\n      <td>274.102089</td>\n      <td>293.247467</td>\n      <td>282.115554</td>\n    </tr>\n    <tr>\n      <th>13</th>\n      <td>francecentral</td>\n      <td>2</td>\n      <td>1</td>\n      <td>581.807813</td>\n      <td>NaN</td>\n      <td>NaN</td>\n      <td>288.560346</td>\n      <td>NaN</td>\n      <td>NaN</td>\n      <td>NaN</td>\n      <td>293.247467</td>\n      <td>NaN</td>\n    </tr>\n  </tbody>\n</table>\n</div>"
     },
     "metadata": {},
     "output_type": "display_data"
    },
    {
     "name": "stdout",
     "output_type": "stream",
     "text": [
      "Total training emission: 12064.101766479587\n"
     ]
    }
   ],
   "source": [
    "result = run_benchmark(api, config, random_select_clients)\n",
    "print(f'Total training emission: {result[\"emissions_total\"].sum()}')"
   ],
   "metadata": {
    "collapsed": false
   }
  },
  {
   "cell_type": "markdown",
   "source": [
    "## Round Robin Client Selection"
   ],
   "metadata": {
    "collapsed": false
   }
  },
  {
   "cell_type": "code",
   "execution_count": 6,
   "outputs": [],
   "source": [
    "####this client selector selects always the 3 least trained clients\n",
    "def round_robin_select_clients(api, config: dict, i_round: int, round_start_time: datetime, available_clients: DataFrame, num_clients: int) -> DataFrame:\n",
    "    selected_clients = available_clients.sort_values(by='untrained_since', ascending=False).iloc[0:num_clients]\n",
    "    selected_clients.loc[:, 'scheduled_time'] = np.zeros(num_clients)\n",
    "    return selected_clients"
   ],
   "metadata": {
    "collapsed": false
   }
  },
  {
   "cell_type": "code",
   "execution_count": 7,
   "outputs": [
    {
     "data": {
      "text/plain": "              region  trained  untrained_since  emissions_total  emissions_1  \\\n0      westcentralus        2                3      1195.631688   593.998108   \n1             ukwest        2                2       735.878022   344.862499   \n2            uksouth        2                2       735.878022   344.862499   \n3         westeurope        2                2       942.092453          NaN   \n4             westus        2                1       821.871575          NaN   \n5   australiacentral        2                1      1216.440238          NaN   \n6      australiaeast        2                1      1232.334871          NaN   \n7      swedencentral        2                0      1102.664152          NaN   \n8         norwaywest        2                0      1145.018339          NaN   \n9         norwayeast        2                0      1119.390370          NaN   \n10       northeurope        1                4       494.812577          NaN   \n11         centralus        1                4       634.594625          NaN   \n12       francesouth        1                3       296.195818          NaN   \n13     francecentral        1                3       296.195818          NaN   \n\n    emissions_2  emissions_3  emissions_4  emissions_5  emissions_6  \\\n0           NaN          NaN          NaN   601.633580          NaN   \n1           NaN          NaN          NaN          NaN   391.015523   \n2           NaN          NaN          NaN          NaN   391.015523   \n3    462.002729          NaN          NaN          NaN   480.089724   \n4    411.748474          NaN          NaN          NaN          NaN   \n5    508.439247          NaN          NaN          NaN          NaN   \n6           NaN   524.333880          NaN          NaN          NaN   \n7           NaN   549.432658          NaN          NaN          NaN   \n8           NaN   570.827098          NaN          NaN          NaN   \n9           NaN          NaN   545.199129          NaN          NaN   \n10          NaN          NaN   494.812577          NaN          NaN   \n11          NaN          NaN   634.594625          NaN          NaN   \n12          NaN          NaN          NaN   296.195818          NaN   \n13          NaN          NaN          NaN   296.195818          NaN   \n\n    emissions_7  emissions_8  \n0           NaN          NaN  \n1           NaN          NaN  \n2           NaN          NaN  \n3           NaN          NaN  \n4    410.123101          NaN  \n5    708.000991          NaN  \n6    708.000991          NaN  \n7           NaN   553.231494  \n8           NaN   574.191241  \n9           NaN   574.191241  \n10          NaN          NaN  \n11          NaN          NaN  \n12          NaN          NaN  \n13          NaN          NaN  ",
      "text/html": "<div>\n<style scoped>\n    .dataframe tbody tr th:only-of-type {\n        vertical-align: middle;\n    }\n\n    .dataframe tbody tr th {\n        vertical-align: top;\n    }\n\n    .dataframe thead th {\n        text-align: right;\n    }\n</style>\n<table border=\"1\" class=\"dataframe\">\n  <thead>\n    <tr style=\"text-align: right;\">\n      <th></th>\n      <th>region</th>\n      <th>trained</th>\n      <th>untrained_since</th>\n      <th>emissions_total</th>\n      <th>emissions_1</th>\n      <th>emissions_2</th>\n      <th>emissions_3</th>\n      <th>emissions_4</th>\n      <th>emissions_5</th>\n      <th>emissions_6</th>\n      <th>emissions_7</th>\n      <th>emissions_8</th>\n    </tr>\n  </thead>\n  <tbody>\n    <tr>\n      <th>0</th>\n      <td>westcentralus</td>\n      <td>2</td>\n      <td>3</td>\n      <td>1195.631688</td>\n      <td>593.998108</td>\n      <td>NaN</td>\n      <td>NaN</td>\n      <td>NaN</td>\n      <td>601.633580</td>\n      <td>NaN</td>\n      <td>NaN</td>\n      <td>NaN</td>\n    </tr>\n    <tr>\n      <th>1</th>\n      <td>ukwest</td>\n      <td>2</td>\n      <td>2</td>\n      <td>735.878022</td>\n      <td>344.862499</td>\n      <td>NaN</td>\n      <td>NaN</td>\n      <td>NaN</td>\n      <td>NaN</td>\n      <td>391.015523</td>\n      <td>NaN</td>\n      <td>NaN</td>\n    </tr>\n    <tr>\n      <th>2</th>\n      <td>uksouth</td>\n      <td>2</td>\n      <td>2</td>\n      <td>735.878022</td>\n      <td>344.862499</td>\n      <td>NaN</td>\n      <td>NaN</td>\n      <td>NaN</td>\n      <td>NaN</td>\n      <td>391.015523</td>\n      <td>NaN</td>\n      <td>NaN</td>\n    </tr>\n    <tr>\n      <th>3</th>\n      <td>westeurope</td>\n      <td>2</td>\n      <td>2</td>\n      <td>942.092453</td>\n      <td>NaN</td>\n      <td>462.002729</td>\n      <td>NaN</td>\n      <td>NaN</td>\n      <td>NaN</td>\n      <td>480.089724</td>\n      <td>NaN</td>\n      <td>NaN</td>\n    </tr>\n    <tr>\n      <th>4</th>\n      <td>westus</td>\n      <td>2</td>\n      <td>1</td>\n      <td>821.871575</td>\n      <td>NaN</td>\n      <td>411.748474</td>\n      <td>NaN</td>\n      <td>NaN</td>\n      <td>NaN</td>\n      <td>NaN</td>\n      <td>410.123101</td>\n      <td>NaN</td>\n    </tr>\n    <tr>\n      <th>5</th>\n      <td>australiacentral</td>\n      <td>2</td>\n      <td>1</td>\n      <td>1216.440238</td>\n      <td>NaN</td>\n      <td>508.439247</td>\n      <td>NaN</td>\n      <td>NaN</td>\n      <td>NaN</td>\n      <td>NaN</td>\n      <td>708.000991</td>\n      <td>NaN</td>\n    </tr>\n    <tr>\n      <th>6</th>\n      <td>australiaeast</td>\n      <td>2</td>\n      <td>1</td>\n      <td>1232.334871</td>\n      <td>NaN</td>\n      <td>NaN</td>\n      <td>524.333880</td>\n      <td>NaN</td>\n      <td>NaN</td>\n      <td>NaN</td>\n      <td>708.000991</td>\n      <td>NaN</td>\n    </tr>\n    <tr>\n      <th>7</th>\n      <td>swedencentral</td>\n      <td>2</td>\n      <td>0</td>\n      <td>1102.664152</td>\n      <td>NaN</td>\n      <td>NaN</td>\n      <td>549.432658</td>\n      <td>NaN</td>\n      <td>NaN</td>\n      <td>NaN</td>\n      <td>NaN</td>\n      <td>553.231494</td>\n    </tr>\n    <tr>\n      <th>8</th>\n      <td>norwaywest</td>\n      <td>2</td>\n      <td>0</td>\n      <td>1145.018339</td>\n      <td>NaN</td>\n      <td>NaN</td>\n      <td>570.827098</td>\n      <td>NaN</td>\n      <td>NaN</td>\n      <td>NaN</td>\n      <td>NaN</td>\n      <td>574.191241</td>\n    </tr>\n    <tr>\n      <th>9</th>\n      <td>norwayeast</td>\n      <td>2</td>\n      <td>0</td>\n      <td>1119.390370</td>\n      <td>NaN</td>\n      <td>NaN</td>\n      <td>NaN</td>\n      <td>545.199129</td>\n      <td>NaN</td>\n      <td>NaN</td>\n      <td>NaN</td>\n      <td>574.191241</td>\n    </tr>\n    <tr>\n      <th>10</th>\n      <td>northeurope</td>\n      <td>1</td>\n      <td>4</td>\n      <td>494.812577</td>\n      <td>NaN</td>\n      <td>NaN</td>\n      <td>NaN</td>\n      <td>494.812577</td>\n      <td>NaN</td>\n      <td>NaN</td>\n      <td>NaN</td>\n      <td>NaN</td>\n    </tr>\n    <tr>\n      <th>11</th>\n      <td>centralus</td>\n      <td>1</td>\n      <td>4</td>\n      <td>634.594625</td>\n      <td>NaN</td>\n      <td>NaN</td>\n      <td>NaN</td>\n      <td>634.594625</td>\n      <td>NaN</td>\n      <td>NaN</td>\n      <td>NaN</td>\n      <td>NaN</td>\n    </tr>\n    <tr>\n      <th>12</th>\n      <td>francesouth</td>\n      <td>1</td>\n      <td>3</td>\n      <td>296.195818</td>\n      <td>NaN</td>\n      <td>NaN</td>\n      <td>NaN</td>\n      <td>NaN</td>\n      <td>296.195818</td>\n      <td>NaN</td>\n      <td>NaN</td>\n      <td>NaN</td>\n    </tr>\n    <tr>\n      <th>13</th>\n      <td>francecentral</td>\n      <td>1</td>\n      <td>3</td>\n      <td>296.195818</td>\n      <td>NaN</td>\n      <td>NaN</td>\n      <td>NaN</td>\n      <td>NaN</td>\n      <td>296.195818</td>\n      <td>NaN</td>\n      <td>NaN</td>\n      <td>NaN</td>\n    </tr>\n  </tbody>\n</table>\n</div>"
     },
     "metadata": {},
     "output_type": "display_data"
    },
    {
     "name": "stdout",
     "output_type": "stream",
     "text": [
      "Total training emission: 11968.99856623625\n"
     ]
    }
   ],
   "source": [
    "result = run_benchmark(api, config, round_robin_select_clients)\n",
    "print(f'Total training emission: {result[\"emissions_total\"].sum()}')"
   ],
   "metadata": {
    "collapsed": false
   }
  },
  {
   "cell_type": "markdown",
   "source": [
    "## Forecast Client Selection"
   ],
   "metadata": {
    "collapsed": false
   }
  },
  {
   "cell_type": "code",
   "execution_count": 8,
   "outputs": [],
   "source": [
    "#### this client selector selects the optimum based on the forecast and gives the optimum delay\n",
    "def forecast_client_selection(api, config: dict, i_round: int, round_start_time: datetime, available_clients: DataFrame, num_clients: int) -> DataFrame:\n",
    "    scheduled_times = api\\\n",
    "        .get_historic_forecast_batch(regions=available_clients.loc[:, 'region'].to_list(),\n",
    "                                     start_time=round_start_time, windowSize=config['windowSize'],\n",
    "                                     roundtime=config['round_time'])\\\n",
    "        .groupby('region', group_keys=True)\\\n",
    "        .apply(lambda df: df.iloc[df['value'].idxmin()][['value', 'timestamp_indv']])\n",
    "\n",
    "    selected_clients = available_clients\\\n",
    "                           .merge(scheduled_times, on='region')\\\n",
    "                           .rename(columns={'timestamp_indv': 'scheduled_time'})\\\n",
    "                           .sort_values('value', ascending=True)\\\n",
    "                           .iloc[0:num_clients][['region', 'scheduled_time']]\n",
    "\n",
    "    return selected_clients"
   ],
   "metadata": {
    "collapsed": false
   }
  },
  {
   "cell_type": "code",
   "execution_count": 9,
   "outputs": [
    {
     "data": {
      "text/plain": "              region  trained  untrained_since  emissions_total  emissions_1  \\\n0      westcentralus        0                8         0.000000          NaN   \n1             ukwest        7                0      2507.666518   332.917900   \n2            uksouth        0                8         0.000000          NaN   \n3         westeurope        0                8         0.000000          NaN   \n4             westus        1                6       386.781994          NaN   \n5   australiacentral        0                8         0.000000          NaN   \n6      australiaeast        0                8         0.000000          NaN   \n7      swedencentral        0                8         0.000000          NaN   \n8         norwaywest        0                8         0.000000          NaN   \n9         norwayeast        0                8         0.000000          NaN   \n10       northeurope        0                8         0.000000          NaN   \n11         centralus        0                8         0.000000          NaN   \n12       francesouth        8                0      1800.761709   242.974313   \n13     francecentral        8                0      1800.761709   242.974313   \n\n    emissions_2  emissions_3  emissions_4  emissions_5  emissions_6  \\\n0           NaN          NaN          NaN          NaN          NaN   \n1           NaN   316.134982   383.398951   370.584966   386.725295   \n2           NaN          NaN          NaN          NaN          NaN   \n3           NaN          NaN          NaN          NaN          NaN   \n4    386.781994          NaN          NaN          NaN          NaN   \n5           NaN          NaN          NaN          NaN          NaN   \n6           NaN          NaN          NaN          NaN          NaN   \n7           NaN          NaN          NaN          NaN          NaN   \n8           NaN          NaN          NaN          NaN          NaN   \n9           NaN          NaN          NaN          NaN          NaN   \n10          NaN          NaN          NaN          NaN          NaN   \n11          NaN          NaN          NaN          NaN          NaN   \n12   228.837351   227.287577   225.700003   230.028031   222.279161   \n13   228.837351   227.287577   225.700003   230.028031   222.279161   \n\n    emissions_7  emissions_8  \n0           NaN          NaN  \n1    374.799595   343.104829  \n2           NaN          NaN  \n3           NaN          NaN  \n4           NaN          NaN  \n5           NaN          NaN  \n6           NaN          NaN  \n7           NaN          NaN  \n8           NaN          NaN  \n9           NaN          NaN  \n10          NaN          NaN  \n11          NaN          NaN  \n12   213.434110   210.221164  \n13   213.434110   210.221164  ",
      "text/html": "<div>\n<style scoped>\n    .dataframe tbody tr th:only-of-type {\n        vertical-align: middle;\n    }\n\n    .dataframe tbody tr th {\n        vertical-align: top;\n    }\n\n    .dataframe thead th {\n        text-align: right;\n    }\n</style>\n<table border=\"1\" class=\"dataframe\">\n  <thead>\n    <tr style=\"text-align: right;\">\n      <th></th>\n      <th>region</th>\n      <th>trained</th>\n      <th>untrained_since</th>\n      <th>emissions_total</th>\n      <th>emissions_1</th>\n      <th>emissions_2</th>\n      <th>emissions_3</th>\n      <th>emissions_4</th>\n      <th>emissions_5</th>\n      <th>emissions_6</th>\n      <th>emissions_7</th>\n      <th>emissions_8</th>\n    </tr>\n  </thead>\n  <tbody>\n    <tr>\n      <th>0</th>\n      <td>westcentralus</td>\n      <td>0</td>\n      <td>8</td>\n      <td>0.000000</td>\n      <td>NaN</td>\n      <td>NaN</td>\n      <td>NaN</td>\n      <td>NaN</td>\n      <td>NaN</td>\n      <td>NaN</td>\n      <td>NaN</td>\n      <td>NaN</td>\n    </tr>\n    <tr>\n      <th>1</th>\n      <td>ukwest</td>\n      <td>7</td>\n      <td>0</td>\n      <td>2507.666518</td>\n      <td>332.917900</td>\n      <td>NaN</td>\n      <td>316.134982</td>\n      <td>383.398951</td>\n      <td>370.584966</td>\n      <td>386.725295</td>\n      <td>374.799595</td>\n      <td>343.104829</td>\n    </tr>\n    <tr>\n      <th>2</th>\n      <td>uksouth</td>\n      <td>0</td>\n      <td>8</td>\n      <td>0.000000</td>\n      <td>NaN</td>\n      <td>NaN</td>\n      <td>NaN</td>\n      <td>NaN</td>\n      <td>NaN</td>\n      <td>NaN</td>\n      <td>NaN</td>\n      <td>NaN</td>\n    </tr>\n    <tr>\n      <th>3</th>\n      <td>westeurope</td>\n      <td>0</td>\n      <td>8</td>\n      <td>0.000000</td>\n      <td>NaN</td>\n      <td>NaN</td>\n      <td>NaN</td>\n      <td>NaN</td>\n      <td>NaN</td>\n      <td>NaN</td>\n      <td>NaN</td>\n      <td>NaN</td>\n    </tr>\n    <tr>\n      <th>4</th>\n      <td>westus</td>\n      <td>1</td>\n      <td>6</td>\n      <td>386.781994</td>\n      <td>NaN</td>\n      <td>386.781994</td>\n      <td>NaN</td>\n      <td>NaN</td>\n      <td>NaN</td>\n      <td>NaN</td>\n      <td>NaN</td>\n      <td>NaN</td>\n    </tr>\n    <tr>\n      <th>5</th>\n      <td>australiacentral</td>\n      <td>0</td>\n      <td>8</td>\n      <td>0.000000</td>\n      <td>NaN</td>\n      <td>NaN</td>\n      <td>NaN</td>\n      <td>NaN</td>\n      <td>NaN</td>\n      <td>NaN</td>\n      <td>NaN</td>\n      <td>NaN</td>\n    </tr>\n    <tr>\n      <th>6</th>\n      <td>australiaeast</td>\n      <td>0</td>\n      <td>8</td>\n      <td>0.000000</td>\n      <td>NaN</td>\n      <td>NaN</td>\n      <td>NaN</td>\n      <td>NaN</td>\n      <td>NaN</td>\n      <td>NaN</td>\n      <td>NaN</td>\n      <td>NaN</td>\n    </tr>\n    <tr>\n      <th>7</th>\n      <td>swedencentral</td>\n      <td>0</td>\n      <td>8</td>\n      <td>0.000000</td>\n      <td>NaN</td>\n      <td>NaN</td>\n      <td>NaN</td>\n      <td>NaN</td>\n      <td>NaN</td>\n      <td>NaN</td>\n      <td>NaN</td>\n      <td>NaN</td>\n    </tr>\n    <tr>\n      <th>8</th>\n      <td>norwaywest</td>\n      <td>0</td>\n      <td>8</td>\n      <td>0.000000</td>\n      <td>NaN</td>\n      <td>NaN</td>\n      <td>NaN</td>\n      <td>NaN</td>\n      <td>NaN</td>\n      <td>NaN</td>\n      <td>NaN</td>\n      <td>NaN</td>\n    </tr>\n    <tr>\n      <th>9</th>\n      <td>norwayeast</td>\n      <td>0</td>\n      <td>8</td>\n      <td>0.000000</td>\n      <td>NaN</td>\n      <td>NaN</td>\n      <td>NaN</td>\n      <td>NaN</td>\n      <td>NaN</td>\n      <td>NaN</td>\n      <td>NaN</td>\n      <td>NaN</td>\n    </tr>\n    <tr>\n      <th>10</th>\n      <td>northeurope</td>\n      <td>0</td>\n      <td>8</td>\n      <td>0.000000</td>\n      <td>NaN</td>\n      <td>NaN</td>\n      <td>NaN</td>\n      <td>NaN</td>\n      <td>NaN</td>\n      <td>NaN</td>\n      <td>NaN</td>\n      <td>NaN</td>\n    </tr>\n    <tr>\n      <th>11</th>\n      <td>centralus</td>\n      <td>0</td>\n      <td>8</td>\n      <td>0.000000</td>\n      <td>NaN</td>\n      <td>NaN</td>\n      <td>NaN</td>\n      <td>NaN</td>\n      <td>NaN</td>\n      <td>NaN</td>\n      <td>NaN</td>\n      <td>NaN</td>\n    </tr>\n    <tr>\n      <th>12</th>\n      <td>francesouth</td>\n      <td>8</td>\n      <td>0</td>\n      <td>1800.761709</td>\n      <td>242.974313</td>\n      <td>228.837351</td>\n      <td>227.287577</td>\n      <td>225.700003</td>\n      <td>230.028031</td>\n      <td>222.279161</td>\n      <td>213.434110</td>\n      <td>210.221164</td>\n    </tr>\n    <tr>\n      <th>13</th>\n      <td>francecentral</td>\n      <td>8</td>\n      <td>0</td>\n      <td>1800.761709</td>\n      <td>242.974313</td>\n      <td>228.837351</td>\n      <td>227.287577</td>\n      <td>225.700003</td>\n      <td>230.028031</td>\n      <td>222.279161</td>\n      <td>213.434110</td>\n      <td>210.221164</td>\n    </tr>\n  </tbody>\n</table>\n</div>"
     },
     "metadata": {},
     "output_type": "display_data"
    },
    {
     "name": "stdout",
     "output_type": "stream",
     "text": [
      "Total training emission: 6495.971929498333\n"
     ]
    }
   ],
   "source": [
    "result = run_benchmark(api, config, forecast_client_selection)\n",
    "print(f'Total training emission: {result[\"emissions_total\"].sum()}')"
   ],
   "metadata": {
    "collapsed": false
   }
  },
  {
   "cell_type": "markdown",
   "source": [
    "## Comparison Benchmark\n",
    "**run_benchmark_comparison calculates the emission if the complete workload is done in one region all at once**"
   ],
   "metadata": {
    "collapsed": false
   }
  },
  {
   "cell_type": "code",
   "execution_count": 10,
   "outputs": [
    {
     "data": {
      "text/plain": "              region  emission_total\n0      westcentralus    15904.384868\n1             ukwest    10249.413092\n2            uksouth    10249.413092\n3         westeurope    10684.017581\n4             westus    10104.824224\n5   australiacentral    19166.595994\n6      australiaeast    19166.595994\n7      swedencentral    15513.289547\n8         norwaywest    15282.387931\n9         norwayeast    15282.387931\n10       northeurope    12822.995401\n11         centralus    16473.286298\n12       francesouth     6948.270721\n13     francecentral     6948.270721",
      "text/html": "<div>\n<style scoped>\n    .dataframe tbody tr th:only-of-type {\n        vertical-align: middle;\n    }\n\n    .dataframe tbody tr th {\n        vertical-align: top;\n    }\n\n    .dataframe thead th {\n        text-align: right;\n    }\n</style>\n<table border=\"1\" class=\"dataframe\">\n  <thead>\n    <tr style=\"text-align: right;\">\n      <th></th>\n      <th>region</th>\n      <th>emission_total</th>\n    </tr>\n  </thead>\n  <tbody>\n    <tr>\n      <th>0</th>\n      <td>westcentralus</td>\n      <td>15904.384868</td>\n    </tr>\n    <tr>\n      <th>1</th>\n      <td>ukwest</td>\n      <td>10249.413092</td>\n    </tr>\n    <tr>\n      <th>2</th>\n      <td>uksouth</td>\n      <td>10249.413092</td>\n    </tr>\n    <tr>\n      <th>3</th>\n      <td>westeurope</td>\n      <td>10684.017581</td>\n    </tr>\n    <tr>\n      <th>4</th>\n      <td>westus</td>\n      <td>10104.824224</td>\n    </tr>\n    <tr>\n      <th>5</th>\n      <td>australiacentral</td>\n      <td>19166.595994</td>\n    </tr>\n    <tr>\n      <th>6</th>\n      <td>australiaeast</td>\n      <td>19166.595994</td>\n    </tr>\n    <tr>\n      <th>7</th>\n      <td>swedencentral</td>\n      <td>15513.289547</td>\n    </tr>\n    <tr>\n      <th>8</th>\n      <td>norwaywest</td>\n      <td>15282.387931</td>\n    </tr>\n    <tr>\n      <th>9</th>\n      <td>norwayeast</td>\n      <td>15282.387931</td>\n    </tr>\n    <tr>\n      <th>10</th>\n      <td>northeurope</td>\n      <td>12822.995401</td>\n    </tr>\n    <tr>\n      <th>11</th>\n      <td>centralus</td>\n      <td>16473.286298</td>\n    </tr>\n    <tr>\n      <th>12</th>\n      <td>francesouth</td>\n      <td>6948.270721</td>\n    </tr>\n    <tr>\n      <th>13</th>\n      <td>francecentral</td>\n      <td>6948.270721</td>\n    </tr>\n  </tbody>\n</table>\n</div>"
     },
     "metadata": {},
     "output_type": "display_data"
    }
   ],
   "source": [
    "benchmark_comparison = run_benchmark_comparison(api, config)"
   ],
   "metadata": {
    "collapsed": false
   }
  },
  {
   "cell_type": "markdown",
   "source": [
    "# Single Region Benchmarks"
   ],
   "metadata": {
    "collapsed": false
   }
  },
  {
   "cell_type": "markdown",
   "source": [
    "## Forecast Client Selection"
   ],
   "metadata": {
    "collapsed": false
   }
  },
  {
   "cell_type": "code",
   "execution_count": 11,
   "outputs": [],
   "source": [
    "config_single_region = {\n",
    "    'selected_regions': ['norwayeast'],\n",
    "    'sim_start': datetime(year=2022, day=5, month=10, hour=0, minute=0, second=0),\n",
    "    'sim_end': datetime(year=2022, day=9, month=10, hour=0, minute=0, second=0),\n",
    "    'round_time': 12,   ###scheduling window in hours\n",
    "    'windowSize': 60,   ###workload durating in minutes\n",
    "    'num_clients': 1,\n",
    "}"
   ],
   "metadata": {
    "collapsed": false
   }
  },
  {
   "cell_type": "code",
   "execution_count": 12,
   "outputs": [
    {
     "data": {
      "text/plain": "       region  trained  untrained_since  emissions_total  emissions_1  \\\n0  norwayeast        8                0      4488.523297   543.271361   \n\n   emissions_2  emissions_3  emissions_4  emissions_5  emissions_6  \\\n0   579.086259   570.657001   542.307478   592.731829   581.543218   \n\n   emissions_7  emissions_8  \n0   543.895051     535.0311  ",
      "text/html": "<div>\n<style scoped>\n    .dataframe tbody tr th:only-of-type {\n        vertical-align: middle;\n    }\n\n    .dataframe tbody tr th {\n        vertical-align: top;\n    }\n\n    .dataframe thead th {\n        text-align: right;\n    }\n</style>\n<table border=\"1\" class=\"dataframe\">\n  <thead>\n    <tr style=\"text-align: right;\">\n      <th></th>\n      <th>region</th>\n      <th>trained</th>\n      <th>untrained_since</th>\n      <th>emissions_total</th>\n      <th>emissions_1</th>\n      <th>emissions_2</th>\n      <th>emissions_3</th>\n      <th>emissions_4</th>\n      <th>emissions_5</th>\n      <th>emissions_6</th>\n      <th>emissions_7</th>\n      <th>emissions_8</th>\n    </tr>\n  </thead>\n  <tbody>\n    <tr>\n      <th>0</th>\n      <td>norwayeast</td>\n      <td>8</td>\n      <td>0</td>\n      <td>4488.523297</td>\n      <td>543.271361</td>\n      <td>579.086259</td>\n      <td>570.657001</td>\n      <td>542.307478</td>\n      <td>592.731829</td>\n      <td>581.543218</td>\n      <td>543.895051</td>\n      <td>535.0311</td>\n    </tr>\n  </tbody>\n</table>\n</div>"
     },
     "metadata": {},
     "output_type": "display_data"
    },
    {
     "name": "stdout",
     "output_type": "stream",
     "text": [
      "Total training emission: 4488.523297335\n"
     ]
    }
   ],
   "source": [
    "result = run_benchmark(api, config_single_region, forecast_client_selection)\n",
    "print(f'Total training emission: {result[\"emissions_total\"].sum()}')"
   ],
   "metadata": {
    "collapsed": false
   }
  },
  {
   "cell_type": "code",
   "execution_count": 13,
   "outputs": [
    {
     "data": {
      "text/plain": "       region  emission_total\n0  norwayeast     5103.892746",
      "text/html": "<div>\n<style scoped>\n    .dataframe tbody tr th:only-of-type {\n        vertical-align: middle;\n    }\n\n    .dataframe tbody tr th {\n        vertical-align: top;\n    }\n\n    .dataframe thead th {\n        text-align: right;\n    }\n</style>\n<table border=\"1\" class=\"dataframe\">\n  <thead>\n    <tr style=\"text-align: right;\">\n      <th></th>\n      <th>region</th>\n      <th>emission_total</th>\n    </tr>\n  </thead>\n  <tbody>\n    <tr>\n      <th>0</th>\n      <td>norwayeast</td>\n      <td>5103.892746</td>\n    </tr>\n  </tbody>\n</table>\n</div>"
     },
     "metadata": {},
     "output_type": "display_data"
    }
   ],
   "source": [
    "benchmark_comparison = run_benchmark_comparison(api, config_single_region)"
   ],
   "metadata": {
    "collapsed": false
   }
  }
 ],
 "metadata": {
  "kernelspec": {
   "display_name": "Python 3",
   "language": "python",
   "name": "python3"
  },
  "language_info": {
   "codemirror_mode": {
    "name": "ipython",
    "version": 2
   },
   "file_extension": ".py",
   "mimetype": "text/x-python",
   "name": "python",
   "nbconvert_exporter": "python",
   "pygments_lexer": "ipython2",
   "version": "2.7.6"
  }
 },
 "nbformat": 4,
 "nbformat_minor": 0
}
