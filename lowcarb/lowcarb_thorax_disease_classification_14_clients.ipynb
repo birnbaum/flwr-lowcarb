{
  "cells": [
    {
      "cell_type": "markdown",
      "metadata": {
        "id": "FLU2v46A66u2"
      },
      "source": [
        "# LowCarb thorax disease classification in Flower"
      ]
    },
    {
      "cell_type": "markdown",
      "metadata": {
        "id": "vHtLCCz2NWC3"
      },
      "source": [
        "## Check GPU availability"
      ]
    },
    {
      "cell_type": "code",
      "execution_count": 27,
      "metadata": {
        "colab": {
          "base_uri": "https://localhost:8080/"
        },
        "id": "4mKwZQyyLwUv",
        "outputId": "f4c5355e-4dfc-42eb-d991-4639285d11f4"
      },
      "outputs": [
        {
          "output_type": "stream",
          "name": "stdout",
          "text": [
            "Fri Oct 21 14:48:42 2022       \n",
            "+-----------------------------------------------------------------------------+\n",
            "| NVIDIA-SMI 460.32.03    Driver Version: 460.32.03    CUDA Version: 11.2     |\n",
            "|-------------------------------+----------------------+----------------------+\n",
            "| GPU  Name        Persistence-M| Bus-Id        Disp.A | Volatile Uncorr. ECC |\n",
            "| Fan  Temp  Perf  Pwr:Usage/Cap|         Memory-Usage | GPU-Util  Compute M. |\n",
            "|                               |                      |               MIG M. |\n",
            "|===============================+======================+======================|\n",
            "|   0  A100-SXM4-40GB      Off  | 00000000:00:04.0 Off |                    0 |\n",
            "| N/A   27C    P0    49W / 400W |      3MiB / 40536MiB |      0%      Default |\n",
            "|                               |                      |             Disabled |\n",
            "+-------------------------------+----------------------+----------------------+\n",
            "                                                                               \n",
            "+-----------------------------------------------------------------------------+\n",
            "| Processes:                                                                  |\n",
            "|  GPU   GI   CI        PID   Type   Process name                  GPU Memory |\n",
            "|        ID   ID                                                   Usage      |\n",
            "|=============================================================================|\n",
            "|  No running processes found                                                 |\n",
            "+-----------------------------------------------------------------------------+\n"
          ]
        }
      ],
      "source": [
        "gpu_info = !nvidia-smi\n",
        "gpu_info = '\\n'.join(gpu_info)\n",
        "if gpu_info.find('failed') >= 0:\n",
        "  print('Not connected to a GPU')\n",
        "else:\n",
        "  print(gpu_info)"
      ]
    },
    {
      "cell_type": "markdown",
      "metadata": {
        "id": "mtoyp-b2NYIe"
      },
      "source": [
        "## Create dirs, get data "
      ]
    },
    {
      "cell_type": "code",
      "execution_count": 2,
      "metadata": {
        "id": "7fODONtR3CgP"
      },
      "outputs": [],
      "source": [
        "!mkdir NIH\n",
        "!mkdir /root/.kaggle/"
      ]
    },
    {
      "cell_type": "markdown",
      "metadata": {
        "id": "NmJd_Jb62xQt"
      },
      "source": [
        "### Copy Kaggle API-key to created directory at '/root/.kaggle'"
      ]
    },
    {
      "cell_type": "code",
      "execution_count": 3,
      "metadata": {
        "id": "vgDZ9Zbqmn9E"
      },
      "outputs": [],
      "source": [
        "!cp '/content/drive/MyDrive/professional/Research_Jobs/UMI/projects/APIs/kaggle.json' '/root/.kaggle'"
      ]
    },
    {
      "cell_type": "code",
      "execution_count": 4,
      "metadata": {
        "id": "ZWLdG0c35F5v",
        "colab": {
          "base_uri": "https://localhost:8080/"
        },
        "outputId": "90103fce-bdf8-4ccb-c9d0-71925d4409e6"
      },
      "outputs": [
        {
          "output_type": "stream",
          "name": "stdout",
          "text": [
            "Downloading data.zip to /content\n",
            "100% 42.0G/42.0G [03:29<00:00, 195MB/s]\n",
            "100% 42.0G/42.0G [03:29<00:00, 215MB/s]\n"
          ]
        }
      ],
      "source": [
        "!kaggle datasets download -d nih-chest-xrays/data"
      ]
    },
    {
      "cell_type": "code",
      "execution_count": 5,
      "metadata": {
        "id": "Q9vB9RBo3GWB"
      },
      "outputs": [],
      "source": [
        "!unzip -q '/content/data.zip' -d '/content/NIH/'"
      ]
    },
    {
      "cell_type": "markdown",
      "metadata": {
        "id": "8CowQiKO63e8"
      },
      "source": [
        "## Install packages"
      ]
    },
    {
      "cell_type": "code",
      "execution_count": 6,
      "metadata": {
        "colab": {
          "base_uri": "https://localhost:8080/",
          "height": 1000
        },
        "id": "lHXOfCIZ6vey",
        "outputId": "c0e429ab-72e6-4915-8e9f-9299a8e84e23"
      },
      "outputs": [
        {
          "output_type": "stream",
          "name": "stdout",
          "text": [
            "Looking in indexes: https://pypi.org/simple, https://us-python.pkg.dev/colab-wheels/public/simple/\n",
            "Collecting flwr[simulation]\n",
            "  Downloading flwr-1.0.0-py3-none-any.whl (90 kB)\n",
            "\u001b[K     |████████████████████████████████| 90 kB 4.0 MB/s \n",
            "\u001b[?25hRequirement already satisfied: grpcio<2.0.0,>=1.43.0 in /usr/local/lib/python3.7/dist-packages (from flwr[simulation]) (1.49.1)\n",
            "Collecting iterators<0.0.3,>=0.0.2\n",
            "  Downloading iterators-0.0.2-py3-none-any.whl (3.9 kB)\n",
            "Requirement already satisfied: numpy<2.0.0,>=1.21.0 in /usr/local/lib/python3.7/dist-packages (from flwr[simulation]) (1.21.6)\n",
            "Requirement already satisfied: importlib-metadata<5.0.0,>=4.0.0 in /usr/local/lib/python3.7/dist-packages (from flwr[simulation]) (4.13.0)\n",
            "Collecting protobuf<4.0.0,>=3.19.0\n",
            "  Downloading protobuf-3.20.3-cp37-cp37m-manylinux_2_5_x86_64.manylinux1_x86_64.whl (1.0 MB)\n",
            "\u001b[K     |████████████████████████████████| 1.0 MB 30.0 MB/s \n",
            "\u001b[?25hCollecting ray[default]<1.14.0,>=1.13.0\n",
            "  Downloading ray-1.13.0-cp37-cp37m-manylinux2014_x86_64.whl (54.5 MB)\n",
            "\u001b[K     |████████████████████████████████| 54.5 MB 91 kB/s \n",
            "\u001b[?25hRequirement already satisfied: six>=1.5.2 in /usr/local/lib/python3.7/dist-packages (from grpcio<2.0.0,>=1.43.0->flwr[simulation]) (1.15.0)\n",
            "Requirement already satisfied: zipp>=0.5 in /usr/local/lib/python3.7/dist-packages (from importlib-metadata<5.0.0,>=4.0.0->flwr[simulation]) (3.9.0)\n",
            "Requirement already satisfied: typing-extensions>=3.6.4 in /usr/local/lib/python3.7/dist-packages (from importlib-metadata<5.0.0,>=4.0.0->flwr[simulation]) (4.1.1)\n",
            "Requirement already satisfied: requests in /usr/local/lib/python3.7/dist-packages (from ray[default]<1.14.0,>=1.13.0->flwr[simulation]) (2.23.0)\n",
            "Collecting virtualenv\n",
            "  Downloading virtualenv-20.16.5-py3-none-any.whl (8.8 MB)\n",
            "\u001b[K     |████████████████████████████████| 8.8 MB 54.5 MB/s \n",
            "\u001b[?25hRequirement already satisfied: attrs in /usr/local/lib/python3.7/dist-packages (from ray[default]<1.14.0,>=1.13.0->flwr[simulation]) (22.1.0)\n",
            "Collecting grpcio<2.0.0,>=1.43.0\n",
            "  Downloading grpcio-1.43.0-cp37-cp37m-manylinux_2_17_x86_64.manylinux2014_x86_64.whl (4.1 MB)\n",
            "\u001b[K     |████████████████████████████████| 4.1 MB 61.4 MB/s \n",
            "\u001b[?25hRequirement already satisfied: click<=8.0.4,>=7.0 in /usr/local/lib/python3.7/dist-packages (from ray[default]<1.14.0,>=1.13.0->flwr[simulation]) (7.1.2)\n",
            "Requirement already satisfied: msgpack<2.0.0,>=1.0.0 in /usr/local/lib/python3.7/dist-packages (from ray[default]<1.14.0,>=1.13.0->flwr[simulation]) (1.0.4)\n",
            "Requirement already satisfied: filelock in /usr/local/lib/python3.7/dist-packages (from ray[default]<1.14.0,>=1.13.0->flwr[simulation]) (3.8.0)\n",
            "Requirement already satisfied: aiosignal in /usr/local/lib/python3.7/dist-packages (from ray[default]<1.14.0,>=1.13.0->flwr[simulation]) (1.2.0)\n",
            "Requirement already satisfied: pyyaml in /usr/local/lib/python3.7/dist-packages (from ray[default]<1.14.0,>=1.13.0->flwr[simulation]) (6.0)\n",
            "Requirement already satisfied: jsonschema in /usr/local/lib/python3.7/dist-packages (from ray[default]<1.14.0,>=1.13.0->flwr[simulation]) (4.3.3)\n",
            "Requirement already satisfied: frozenlist in /usr/local/lib/python3.7/dist-packages (from ray[default]<1.14.0,>=1.13.0->flwr[simulation]) (1.3.1)\n",
            "Collecting opencensus\n",
            "  Downloading opencensus-0.11.0-py2.py3-none-any.whl (128 kB)\n",
            "\u001b[K     |████████████████████████████████| 128 kB 77.1 MB/s \n",
            "\u001b[?25hCollecting py-spy>=0.2.0\n",
            "  Downloading py_spy-0.3.14-py2.py3-none-manylinux_2_5_x86_64.manylinux1_x86_64.whl (3.0 MB)\n",
            "\u001b[K     |████████████████████████████████| 3.0 MB 70.1 MB/s \n",
            "\u001b[?25hRequirement already satisfied: aiohttp>=3.7 in /usr/local/lib/python3.7/dist-packages (from ray[default]<1.14.0,>=1.13.0->flwr[simulation]) (3.8.3)\n",
            "Collecting prometheus-client<0.14.0,>=0.7.1\n",
            "  Downloading prometheus_client-0.13.1-py3-none-any.whl (57 kB)\n",
            "\u001b[K     |████████████████████████████████| 57 kB 5.8 MB/s \n",
            "\u001b[?25hCollecting colorful\n",
            "  Downloading colorful-0.5.4-py2.py3-none-any.whl (201 kB)\n",
            "\u001b[K     |████████████████████████████████| 201 kB 78.1 MB/s \n",
            "\u001b[?25hCollecting gpustat>=1.0.0b1\n",
            "  Downloading gpustat-1.0.0.tar.gz (90 kB)\n",
            "\u001b[K     |████████████████████████████████| 90 kB 11.2 MB/s \n",
            "\u001b[?25hRequirement already satisfied: smart-open in /usr/local/lib/python3.7/dist-packages (from ray[default]<1.14.0,>=1.13.0->flwr[simulation]) (5.2.1)\n",
            "Collecting aiohttp-cors\n",
            "  Downloading aiohttp_cors-0.7.0-py3-none-any.whl (27 kB)\n",
            "Requirement already satisfied: async-timeout<5.0,>=4.0.0a3 in /usr/local/lib/python3.7/dist-packages (from aiohttp>=3.7->ray[default]<1.14.0,>=1.13.0->flwr[simulation]) (4.0.2)\n",
            "Requirement already satisfied: multidict<7.0,>=4.5 in /usr/local/lib/python3.7/dist-packages (from aiohttp>=3.7->ray[default]<1.14.0,>=1.13.0->flwr[simulation]) (6.0.2)\n",
            "Requirement already satisfied: asynctest==0.13.0 in /usr/local/lib/python3.7/dist-packages (from aiohttp>=3.7->ray[default]<1.14.0,>=1.13.0->flwr[simulation]) (0.13.0)\n",
            "Requirement already satisfied: charset-normalizer<3.0,>=2.0 in /usr/local/lib/python3.7/dist-packages (from aiohttp>=3.7->ray[default]<1.14.0,>=1.13.0->flwr[simulation]) (2.1.1)\n",
            "Requirement already satisfied: yarl<2.0,>=1.0 in /usr/local/lib/python3.7/dist-packages (from aiohttp>=3.7->ray[default]<1.14.0,>=1.13.0->flwr[simulation]) (1.8.1)\n",
            "Collecting nvidia-ml-py<=11.495.46,>=11.450.129\n",
            "  Downloading nvidia_ml_py-11.495.46-py3-none-any.whl (25 kB)\n",
            "Collecting psutil>=5.6.0\n",
            "  Downloading psutil-5.9.3-cp37-cp37m-manylinux_2_12_x86_64.manylinux2010_x86_64.manylinux_2_17_x86_64.manylinux2014_x86_64.whl (291 kB)\n",
            "\u001b[K     |████████████████████████████████| 291 kB 78.3 MB/s \n",
            "\u001b[?25hCollecting blessed>=1.17.1\n",
            "  Downloading blessed-1.19.1-py2.py3-none-any.whl (58 kB)\n",
            "\u001b[K     |████████████████████████████████| 58 kB 6.9 MB/s \n",
            "\u001b[?25hRequirement already satisfied: wcwidth>=0.1.4 in /usr/local/lib/python3.7/dist-packages (from blessed>=1.17.1->gpustat>=1.0.0b1->ray[default]<1.14.0,>=1.13.0->flwr[simulation]) (0.2.5)\n",
            "Requirement already satisfied: idna>=2.0 in /usr/local/lib/python3.7/dist-packages (from yarl<2.0,>=1.0->aiohttp>=3.7->ray[default]<1.14.0,>=1.13.0->flwr[simulation]) (2.10)\n",
            "Requirement already satisfied: pyrsistent!=0.17.0,!=0.17.1,!=0.17.2,>=0.14.0 in /usr/local/lib/python3.7/dist-packages (from jsonschema->ray[default]<1.14.0,>=1.13.0->flwr[simulation]) (0.18.1)\n",
            "Requirement already satisfied: importlib-resources>=1.4.0 in /usr/local/lib/python3.7/dist-packages (from jsonschema->ray[default]<1.14.0,>=1.13.0->flwr[simulation]) (5.10.0)\n",
            "Collecting opencensus-context>=0.1.3\n",
            "  Downloading opencensus_context-0.1.3-py2.py3-none-any.whl (5.1 kB)\n",
            "Requirement already satisfied: google-api-core<3.0.0,>=1.0.0 in /usr/local/lib/python3.7/dist-packages (from opencensus->ray[default]<1.14.0,>=1.13.0->flwr[simulation]) (1.31.6)\n",
            "Requirement already satisfied: pytz in /usr/local/lib/python3.7/dist-packages (from google-api-core<3.0.0,>=1.0.0->opencensus->ray[default]<1.14.0,>=1.13.0->flwr[simulation]) (2022.4)\n",
            "Requirement already satisfied: googleapis-common-protos<2.0dev,>=1.6.0 in /usr/local/lib/python3.7/dist-packages (from google-api-core<3.0.0,>=1.0.0->opencensus->ray[default]<1.14.0,>=1.13.0->flwr[simulation]) (1.56.4)\n",
            "Requirement already satisfied: packaging>=14.3 in /usr/local/lib/python3.7/dist-packages (from google-api-core<3.0.0,>=1.0.0->opencensus->ray[default]<1.14.0,>=1.13.0->flwr[simulation]) (21.3)\n",
            "Requirement already satisfied: google-auth<2.0dev,>=1.25.0 in /usr/local/lib/python3.7/dist-packages (from google-api-core<3.0.0,>=1.0.0->opencensus->ray[default]<1.14.0,>=1.13.0->flwr[simulation]) (1.35.0)\n",
            "Requirement already satisfied: setuptools>=40.3.0 in /usr/local/lib/python3.7/dist-packages (from google-api-core<3.0.0,>=1.0.0->opencensus->ray[default]<1.14.0,>=1.13.0->flwr[simulation]) (57.4.0)\n",
            "Requirement already satisfied: cachetools<5.0,>=2.0.0 in /usr/local/lib/python3.7/dist-packages (from google-auth<2.0dev,>=1.25.0->google-api-core<3.0.0,>=1.0.0->opencensus->ray[default]<1.14.0,>=1.13.0->flwr[simulation]) (4.2.4)\n",
            "Requirement already satisfied: pyasn1-modules>=0.2.1 in /usr/local/lib/python3.7/dist-packages (from google-auth<2.0dev,>=1.25.0->google-api-core<3.0.0,>=1.0.0->opencensus->ray[default]<1.14.0,>=1.13.0->flwr[simulation]) (0.2.8)\n",
            "Requirement already satisfied: rsa<5,>=3.1.4 in /usr/local/lib/python3.7/dist-packages (from google-auth<2.0dev,>=1.25.0->google-api-core<3.0.0,>=1.0.0->opencensus->ray[default]<1.14.0,>=1.13.0->flwr[simulation]) (4.9)\n",
            "Requirement already satisfied: pyparsing!=3.0.5,>=2.0.2 in /usr/local/lib/python3.7/dist-packages (from packaging>=14.3->google-api-core<3.0.0,>=1.0.0->opencensus->ray[default]<1.14.0,>=1.13.0->flwr[simulation]) (3.0.9)\n",
            "Requirement already satisfied: pyasn1<0.5.0,>=0.4.6 in /usr/local/lib/python3.7/dist-packages (from pyasn1-modules>=0.2.1->google-auth<2.0dev,>=1.25.0->google-api-core<3.0.0,>=1.0.0->opencensus->ray[default]<1.14.0,>=1.13.0->flwr[simulation]) (0.4.8)\n",
            "Requirement already satisfied: urllib3!=1.25.0,!=1.25.1,<1.26,>=1.21.1 in /usr/local/lib/python3.7/dist-packages (from requests->ray[default]<1.14.0,>=1.13.0->flwr[simulation]) (1.24.3)\n",
            "Requirement already satisfied: certifi>=2017.4.17 in /usr/local/lib/python3.7/dist-packages (from requests->ray[default]<1.14.0,>=1.13.0->flwr[simulation]) (2022.9.24)\n",
            "Requirement already satisfied: chardet<4,>=3.0.2 in /usr/local/lib/python3.7/dist-packages (from requests->ray[default]<1.14.0,>=1.13.0->flwr[simulation]) (3.0.4)\n",
            "Collecting distlib<1,>=0.3.5\n",
            "  Downloading distlib-0.3.6-py2.py3-none-any.whl (468 kB)\n",
            "\u001b[K     |████████████████████████████████| 468 kB 78.8 MB/s \n",
            "\u001b[?25hCollecting platformdirs<3,>=2.4\n",
            "  Downloading platformdirs-2.5.2-py3-none-any.whl (14 kB)\n",
            "Building wheels for collected packages: gpustat\n",
            "  Building wheel for gpustat (setup.py) ... \u001b[?25l\u001b[?25hdone\n",
            "  Created wheel for gpustat: filename=gpustat-1.0.0-py3-none-any.whl size=19889 sha256=3dada07c3595668c8c2f1348669a6697c25d26dd0d65c4dff661d045f1696fbf\n",
            "  Stored in directory: /root/.cache/pip/wheels/d2/31/5c/eb69af6e2285e7d6ec8d7dc26435be7c81c6ad22c45efdcca7\n",
            "Successfully built gpustat\n",
            "Installing collected packages: protobuf, platformdirs, distlib, virtualenv, psutil, opencensus-context, nvidia-ml-py, grpcio, blessed, ray, py-spy, prometheus-client, opencensus, iterators, gpustat, colorful, aiohttp-cors, flwr\n",
            "  Attempting uninstall: protobuf\n",
            "    Found existing installation: protobuf 3.17.3\n",
            "    Uninstalling protobuf-3.17.3:\n",
            "      Successfully uninstalled protobuf-3.17.3\n",
            "  Attempting uninstall: psutil\n",
            "    Found existing installation: psutil 5.4.8\n",
            "    Uninstalling psutil-5.4.8:\n",
            "      Successfully uninstalled psutil-5.4.8\n",
            "  Attempting uninstall: grpcio\n",
            "    Found existing installation: grpcio 1.49.1\n",
            "    Uninstalling grpcio-1.49.1:\n",
            "      Successfully uninstalled grpcio-1.49.1\n",
            "\u001b[31mERROR: pip's dependency resolver does not currently take into account all the packages that are installed. This behaviour is the source of the following dependency conflicts.\n",
            "tensorflow 2.9.2 requires protobuf<3.20,>=3.9.2, but you have protobuf 3.20.3 which is incompatible.\n",
            "tensorboard 2.9.1 requires protobuf<3.20,>=3.9.2, but you have protobuf 3.20.3 which is incompatible.\u001b[0m\n",
            "Successfully installed aiohttp-cors-0.7.0 blessed-1.19.1 colorful-0.5.4 distlib-0.3.6 flwr-1.0.0 gpustat-1.0.0 grpcio-1.43.0 iterators-0.0.2 nvidia-ml-py-11.495.46 opencensus-0.11.0 opencensus-context-0.1.3 platformdirs-2.5.2 prometheus-client-0.13.1 protobuf-3.20.3 psutil-5.9.3 py-spy-0.3.14 ray-1.13.0 virtualenv-20.16.5\n"
          ]
        },
        {
          "output_type": "display_data",
          "data": {
            "application/vnd.colab-display-data+json": {
              "pip_warning": {
                "packages": [
                  "google",
                  "psutil"
                ]
              }
            }
          },
          "metadata": {}
        }
      ],
      "source": [
        "!pip install flwr[simulation]"
      ]
    },
    {
      "cell_type": "markdown",
      "metadata": {
        "id": "grNc2GELvjD3"
      },
      "source": [
        "## Imports"
      ]
    },
    {
      "cell_type": "code",
      "execution_count": 7,
      "metadata": {
        "colab": {
          "base_uri": "https://localhost:8080/"
        },
        "id": "RHQ-3tCTvlPv",
        "outputId": "41ce0e3c-f2b5-4035-f4c6-60a400e1254d"
      },
      "outputs": [
        {
          "output_type": "stream",
          "name": "stdout",
          "text": [
            "Training on cuda:0\n"
          ]
        }
      ],
      "source": [
        "import os\n",
        "import sys\n",
        "import math\n",
        "import time\n",
        "from glob import glob\n",
        "from PIL import Image\n",
        "from collections import OrderedDict\n",
        "from typing import Dict, List, Optional, Tuple\n",
        "\n",
        "import flwr as fl\n",
        "import numpy as np\n",
        "import pandas as pd\n",
        "import matplotlib.pyplot as plt\n",
        "from sklearn.model_selection import train_test_split\n",
        "\n",
        "import torch\n",
        "import torch.nn as nnqunt\n",
        "import torch.nn.functional as F\n",
        "from torch.utils.data import Dataset, DataLoader, random_split\n",
        "\n",
        "from torchvision.utils import make_grid\n",
        "from torchvision.datasets import CIFAR10\n",
        "from torchvision import transforms as T, models\n",
        "\n",
        "DEVICE = torch.device(\"cuda:0\" if torch.cuda.is_available() else \"cpu\")\n",
        "print(f\"Training on {DEVICE}\")"
      ]
    },
    {
      "cell_type": "markdown",
      "metadata": {
        "id": "G5XXXYdm6ic5"
      },
      "source": [
        "## Data"
      ]
    },
    {
      "cell_type": "markdown",
      "metadata": {
        "id": "45ozbtM24s2k"
      },
      "source": [
        "### Preprocess"
      ]
    },
    {
      "cell_type": "code",
      "execution_count": 8,
      "metadata": {
        "id": "Yz34zjmYPihV"
      },
      "outputs": [],
      "source": [
        "root_img_dir = '/content/NIH/'"
      ]
    },
    {
      "cell_type": "code",
      "execution_count": 9,
      "metadata": {
        "colab": {
          "base_uri": "https://localhost:8080/",
          "height": 243
        },
        "id": "OPOdXKySPN2-",
        "outputId": "89d71740-096d-414e-a082-f73fe8a49a26"
      },
      "outputs": [
        {
          "output_type": "stream",
          "name": "stdout",
          "text": [
            "Scans found: 112120 , Total Headers 112120\n"
          ]
        },
        {
          "output_type": "execute_result",
          "data": {
            "text/plain": [
              "            Image Index        Finding Labels  Follow-up #  Patient ID  \\\n",
              "27375  00007125_001.png            No Finding            1        7125   \n",
              "23117  00006109_001.png            No Finding            1        6109   \n",
              "10993  00002856_009.png  Atelectasis|Effusion            9        2856   \n",
              "\n",
              "       Patient Age Patient Gender View Position  OriginalImage[Width  Height]  \\\n",
              "27375           62              F            AP                 2500     2048   \n",
              "23117           79              M            PA                 2500     2048   \n",
              "10993           48              F            AP                 2500     2048   \n",
              "\n",
              "       OriginalImagePixelSpacing[x     y]  Unnamed: 11  \\\n",
              "27375                        0.171  0.171          NaN   \n",
              "23117                        0.171  0.171          NaN   \n",
              "10993                        0.168  0.168          NaN   \n",
              "\n",
              "                                                  path  \n",
              "27375  /content/NIH/images_004/images/00007125_001.png  \n",
              "23117  /content/NIH/images_003/images/00006109_001.png  \n",
              "10993  /content/NIH/images_002/images/00002856_009.png  "
            ],
            "text/html": [
              "\n",
              "  <div id=\"df-8f821af9-58d9-4f4e-8101-06fe3033b34b\">\n",
              "    <div class=\"colab-df-container\">\n",
              "      <div>\n",
              "<style scoped>\n",
              "    .dataframe tbody tr th:only-of-type {\n",
              "        vertical-align: middle;\n",
              "    }\n",
              "\n",
              "    .dataframe tbody tr th {\n",
              "        vertical-align: top;\n",
              "    }\n",
              "\n",
              "    .dataframe thead th {\n",
              "        text-align: right;\n",
              "    }\n",
              "</style>\n",
              "<table border=\"1\" class=\"dataframe\">\n",
              "  <thead>\n",
              "    <tr style=\"text-align: right;\">\n",
              "      <th></th>\n",
              "      <th>Image Index</th>\n",
              "      <th>Finding Labels</th>\n",
              "      <th>Follow-up #</th>\n",
              "      <th>Patient ID</th>\n",
              "      <th>Patient Age</th>\n",
              "      <th>Patient Gender</th>\n",
              "      <th>View Position</th>\n",
              "      <th>OriginalImage[Width</th>\n",
              "      <th>Height]</th>\n",
              "      <th>OriginalImagePixelSpacing[x</th>\n",
              "      <th>y]</th>\n",
              "      <th>Unnamed: 11</th>\n",
              "      <th>path</th>\n",
              "    </tr>\n",
              "  </thead>\n",
              "  <tbody>\n",
              "    <tr>\n",
              "      <th>27375</th>\n",
              "      <td>00007125_001.png</td>\n",
              "      <td>No Finding</td>\n",
              "      <td>1</td>\n",
              "      <td>7125</td>\n",
              "      <td>62</td>\n",
              "      <td>F</td>\n",
              "      <td>AP</td>\n",
              "      <td>2500</td>\n",
              "      <td>2048</td>\n",
              "      <td>0.171</td>\n",
              "      <td>0.171</td>\n",
              "      <td>NaN</td>\n",
              "      <td>/content/NIH/images_004/images/00007125_001.png</td>\n",
              "    </tr>\n",
              "    <tr>\n",
              "      <th>23117</th>\n",
              "      <td>00006109_001.png</td>\n",
              "      <td>No Finding</td>\n",
              "      <td>1</td>\n",
              "      <td>6109</td>\n",
              "      <td>79</td>\n",
              "      <td>M</td>\n",
              "      <td>PA</td>\n",
              "      <td>2500</td>\n",
              "      <td>2048</td>\n",
              "      <td>0.171</td>\n",
              "      <td>0.171</td>\n",
              "      <td>NaN</td>\n",
              "      <td>/content/NIH/images_003/images/00006109_001.png</td>\n",
              "    </tr>\n",
              "    <tr>\n",
              "      <th>10993</th>\n",
              "      <td>00002856_009.png</td>\n",
              "      <td>Atelectasis|Effusion</td>\n",
              "      <td>9</td>\n",
              "      <td>2856</td>\n",
              "      <td>48</td>\n",
              "      <td>F</td>\n",
              "      <td>AP</td>\n",
              "      <td>2500</td>\n",
              "      <td>2048</td>\n",
              "      <td>0.168</td>\n",
              "      <td>0.168</td>\n",
              "      <td>NaN</td>\n",
              "      <td>/content/NIH/images_002/images/00002856_009.png</td>\n",
              "    </tr>\n",
              "  </tbody>\n",
              "</table>\n",
              "</div>\n",
              "      <button class=\"colab-df-convert\" onclick=\"convertToInteractive('df-8f821af9-58d9-4f4e-8101-06fe3033b34b')\"\n",
              "              title=\"Convert this dataframe to an interactive table.\"\n",
              "              style=\"display:none;\">\n",
              "        \n",
              "  <svg xmlns=\"http://www.w3.org/2000/svg\" height=\"24px\"viewBox=\"0 0 24 24\"\n",
              "       width=\"24px\">\n",
              "    <path d=\"M0 0h24v24H0V0z\" fill=\"none\"/>\n",
              "    <path d=\"M18.56 5.44l.94 2.06.94-2.06 2.06-.94-2.06-.94-.94-2.06-.94 2.06-2.06.94zm-11 1L8.5 8.5l.94-2.06 2.06-.94-2.06-.94L8.5 2.5l-.94 2.06-2.06.94zm10 10l.94 2.06.94-2.06 2.06-.94-2.06-.94-.94-2.06-.94 2.06-2.06.94z\"/><path d=\"M17.41 7.96l-1.37-1.37c-.4-.4-.92-.59-1.43-.59-.52 0-1.04.2-1.43.59L10.3 9.45l-7.72 7.72c-.78.78-.78 2.05 0 2.83L4 21.41c.39.39.9.59 1.41.59.51 0 1.02-.2 1.41-.59l7.78-7.78 2.81-2.81c.8-.78.8-2.07 0-2.86zM5.41 20L4 18.59l7.72-7.72 1.47 1.35L5.41 20z\"/>\n",
              "  </svg>\n",
              "      </button>\n",
              "      \n",
              "  <style>\n",
              "    .colab-df-container {\n",
              "      display:flex;\n",
              "      flex-wrap:wrap;\n",
              "      gap: 12px;\n",
              "    }\n",
              "\n",
              "    .colab-df-convert {\n",
              "      background-color: #E8F0FE;\n",
              "      border: none;\n",
              "      border-radius: 50%;\n",
              "      cursor: pointer;\n",
              "      display: none;\n",
              "      fill: #1967D2;\n",
              "      height: 32px;\n",
              "      padding: 0 0 0 0;\n",
              "      width: 32px;\n",
              "    }\n",
              "\n",
              "    .colab-df-convert:hover {\n",
              "      background-color: #E2EBFA;\n",
              "      box-shadow: 0px 1px 2px rgba(60, 64, 67, 0.3), 0px 1px 3px 1px rgba(60, 64, 67, 0.15);\n",
              "      fill: #174EA6;\n",
              "    }\n",
              "\n",
              "    [theme=dark] .colab-df-convert {\n",
              "      background-color: #3B4455;\n",
              "      fill: #D2E3FC;\n",
              "    }\n",
              "\n",
              "    [theme=dark] .colab-df-convert:hover {\n",
              "      background-color: #434B5C;\n",
              "      box-shadow: 0px 1px 3px 1px rgba(0, 0, 0, 0.15);\n",
              "      filter: drop-shadow(0px 1px 2px rgba(0, 0, 0, 0.3));\n",
              "      fill: #FFFFFF;\n",
              "    }\n",
              "  </style>\n",
              "\n",
              "      <script>\n",
              "        const buttonEl =\n",
              "          document.querySelector('#df-8f821af9-58d9-4f4e-8101-06fe3033b34b button.colab-df-convert');\n",
              "        buttonEl.style.display =\n",
              "          google.colab.kernel.accessAllowed ? 'block' : 'none';\n",
              "\n",
              "        async function convertToInteractive(key) {\n",
              "          const element = document.querySelector('#df-8f821af9-58d9-4f4e-8101-06fe3033b34b');\n",
              "          const dataTable =\n",
              "            await google.colab.kernel.invokeFunction('convertToInteractive',\n",
              "                                                     [key], {});\n",
              "          if (!dataTable) return;\n",
              "\n",
              "          const docLinkHtml = 'Like what you see? Visit the ' +\n",
              "            '<a target=\"_blank\" href=https://colab.research.google.com/notebooks/data_table.ipynb>data table notebook</a>'\n",
              "            + ' to learn more about interactive tables.';\n",
              "          element.innerHTML = '';\n",
              "          dataTable['output_type'] = 'display_data';\n",
              "          await google.colab.output.renderOutput(dataTable, element);\n",
              "          const docLink = document.createElement('div');\n",
              "          docLink.innerHTML = docLinkHtml;\n",
              "          element.appendChild(docLink);\n",
              "        }\n",
              "      </script>\n",
              "    </div>\n",
              "  </div>\n",
              "  "
            ]
          },
          "metadata": {},
          "execution_count": 9
        }
      ],
      "source": [
        "all_xray_df = pd.read_csv(\n",
        "    os.path.join(\n",
        "        root_img_dir,\n",
        "        'Data_Entry_2017.csv'\n",
        "        )\n",
        "    )\n",
        "\n",
        "all_image_paths = {\n",
        "    os.path.basename(x): x for x in \n",
        "    glob(os.path.join(root_img_dir, 'images*', '*', '*.png'))\n",
        "    }\n",
        "\n",
        "print('Scans found:', len(all_image_paths), ', Total Headers', all_xray_df.shape[0])\n",
        "all_xray_df['path'] = all_xray_df['Image Index'].map(all_image_paths.get)\n",
        "# all_xray_df['Patient Age'] = all_xray_df['Patient Age'].map(lambda x: int(x[:-1]))\n",
        "\n",
        "all_xray_df.sample(3)"
      ]
    },
    {
      "cell_type": "code",
      "execution_count": 10,
      "metadata": {
        "colab": {
          "base_uri": "https://localhost:8080/",
          "height": 583
        },
        "id": "w6zolca4PN5x",
        "outputId": "2578dcd8-08a1-438f-e96e-1ce3920c5a3c"
      },
      "outputs": [
        {
          "output_type": "display_data",
          "data": {
            "text/plain": [
              "<Figure size 864x576 with 1 Axes>"
            ],
            "image/png": "[encoded data removed]"
          },
          "metadata": {
            "needs_background": "light"
          }
        }
      ],
      "source": [
        "label_counts = all_xray_df['Finding Labels'].value_counts()[:15]\n",
        "fig, ax1 = plt.subplots(1,1,figsize = (12, 8))\n",
        "ax1.bar(np.arange(len(label_counts))+0.5, label_counts)\n",
        "ax1.set_xticks(np.arange(len(label_counts))+0.5)\n",
        "_ = ax1.set_xticklabels(label_counts.index, rotation = 90)"
      ]
    },
    {
      "cell_type": "code",
      "execution_count": 11,
      "metadata": {
        "colab": {
          "base_uri": "https://localhost:8080/",
          "height": 273
        },
        "id": "us8ftKY8PN8b",
        "outputId": "984a5ee2-48dc-4527-f51c-7ce86b65fa8d"
      },
      "outputs": [
        {
          "output_type": "stream",
          "name": "stdout",
          "text": [
            "All Labels (14): ['Atelectasis', 'Cardiomegaly', 'Consolidation', 'Edema', 'Effusion', 'Emphysema', 'Fibrosis', 'Hernia', 'Infiltration', 'Mass', 'Nodule', 'Pleural_Thickening', 'Pneumonia', 'Pneumothorax']\n"
          ]
        },
        {
          "output_type": "execute_result",
          "data": {
            "text/plain": [
              "             Image Index Finding Labels  Follow-up #  Patient ID  Patient Age  \\\n",
              "110908  00030247_006.png                           6       30247           54   \n",
              "28573   00007451_014.png                          14        7451           66   \n",
              "35581   00009368_021.png                          21        9368           84   \n",
              "\n",
              "       Patient Gender View Position  OriginalImage[Width  Height]  \\\n",
              "110908              M            AP                 3056     2544   \n",
              "28573               M            PA                 2992     2825   \n",
              "35581               M            AP                 2500     2048   \n",
              "\n",
              "        OriginalImagePixelSpacing[x  ...  Effusion  Emphysema Fibrosis  \\\n",
              "110908                        0.139  ...       0.0        0.0      0.0   \n",
              "28573                         0.143  ...       0.0        0.0      0.0   \n",
              "35581                         0.168  ...       0.0        0.0      0.0   \n",
              "\n",
              "        Hernia  Infiltration  Mass  Nodule  Pleural_Thickening  Pneumonia  \\\n",
              "110908     0.0           0.0   0.0     0.0                 0.0        0.0   \n",
              "28573      0.0           0.0   0.0     0.0                 0.0        0.0   \n",
              "35581      0.0           0.0   0.0     0.0                 0.0        0.0   \n",
              "\n",
              "        Pneumothorax  \n",
              "110908           0.0  \n",
              "28573            0.0  \n",
              "35581            0.0  \n",
              "\n",
              "[3 rows x 27 columns]"
            ],
            "text/html": [
              "\n",
              "  <div id=\"df-01c22578-2606-4ee1-bf9a-3f43372c9909\">\n",
              "    <div class=\"colab-df-container\">\n",
              "      <div>\n",
              "<style scoped>\n",
              "    .dataframe tbody tr th:only-of-type {\n",
              "        vertical-align: middle;\n",
              "    }\n",
              "\n",
              "    .dataframe tbody tr th {\n",
              "        vertical-align: top;\n",
              "    }\n",
              "\n",
              "    .dataframe thead th {\n",
              "        text-align: right;\n",
              "    }\n",
              "</style>\n",
              "<table border=\"1\" class=\"dataframe\">\n",
              "  <thead>\n",
              "    <tr style=\"text-align: right;\">\n",
              "      <th></th>\n",
              "      <th>Image Index</th>\n",
              "      <th>Finding Labels</th>\n",
              "      <th>Follow-up #</th>\n",
              "      <th>Patient ID</th>\n",
              "      <th>Patient Age</th>\n",
              "      <th>Patient Gender</th>\n",
              "      <th>View Position</th>\n",
              "      <th>OriginalImage[Width</th>\n",
              "      <th>Height]</th>\n",
              "      <th>OriginalImagePixelSpacing[x</th>\n",
              "      <th>...</th>\n",
              "      <th>Effusion</th>\n",
              "      <th>Emphysema</th>\n",
              "      <th>Fibrosis</th>\n",
              "      <th>Hernia</th>\n",
              "      <th>Infiltration</th>\n",
              "      <th>Mass</th>\n",
              "      <th>Nodule</th>\n",
              "      <th>Pleural_Thickening</th>\n",
              "      <th>Pneumonia</th>\n",
              "      <th>Pneumothorax</th>\n",
              "    </tr>\n",
              "  </thead>\n",
              "  <tbody>\n",
              "    <tr>\n",
              "      <th>110908</th>\n",
              "      <td>00030247_006.png</td>\n",
              "      <td></td>\n",
              "      <td>6</td>\n",
              "      <td>30247</td>\n",
              "      <td>54</td>\n",
              "      <td>M</td>\n",
              "      <td>AP</td>\n",
              "      <td>3056</td>\n",
              "      <td>2544</td>\n",
              "      <td>0.139</td>\n",
              "      <td>...</td>\n",
              "      <td>0.0</td>\n",
              "      <td>0.0</td>\n",
              "      <td>0.0</td>\n",
              "      <td>0.0</td>\n",
              "      <td>0.0</td>\n",
              "      <td>0.0</td>\n",
              "      <td>0.0</td>\n",
              "      <td>0.0</td>\n",
              "      <td>0.0</td>\n",
              "      <td>0.0</td>\n",
              "    </tr>\n",
              "    <tr>\n",
              "      <th>28573</th>\n",
              "      <td>00007451_014.png</td>\n",
              "      <td></td>\n",
              "      <td>14</td>\n",
              "      <td>7451</td>\n",
              "      <td>66</td>\n",
              "      <td>M</td>\n",
              "      <td>PA</td>\n",
              "      <td>2992</td>\n",
              "      <td>2825</td>\n",
              "      <td>0.143</td>\n",
              "      <td>...</td>\n",
              "      <td>0.0</td>\n",
              "      <td>0.0</td>\n",
              "      <td>0.0</td>\n",
              "      <td>0.0</td>\n",
              "      <td>0.0</td>\n",
              "      <td>0.0</td>\n",
              "      <td>0.0</td>\n",
              "      <td>0.0</td>\n",
              "      <td>0.0</td>\n",
              "      <td>0.0</td>\n",
              "    </tr>\n",
              "    <tr>\n",
              "      <th>35581</th>\n",
              "      <td>00009368_021.png</td>\n",
              "      <td></td>\n",
              "      <td>21</td>\n",
              "      <td>9368</td>\n",
              "      <td>84</td>\n",
              "      <td>M</td>\n",
              "      <td>AP</td>\n",
              "      <td>2500</td>\n",
              "      <td>2048</td>\n",
              "      <td>0.168</td>\n",
              "      <td>...</td>\n",
              "      <td>0.0</td>\n",
              "      <td>0.0</td>\n",
              "      <td>0.0</td>\n",
              "      <td>0.0</td>\n",
              "      <td>0.0</td>\n",
              "      <td>0.0</td>\n",
              "      <td>0.0</td>\n",
              "      <td>0.0</td>\n",
              "      <td>0.0</td>\n",
              "      <td>0.0</td>\n",
              "    </tr>\n",
              "  </tbody>\n",
              "</table>\n",
              "<p>3 rows × 27 columns</p>\n",
              "</div>\n",
              "      <button class=\"colab-df-convert\" onclick=\"convertToInteractive('df-01c22578-2606-4ee1-bf9a-3f43372c9909')\"\n",
              "              title=\"Convert this dataframe to an interactive table.\"\n",
              "              style=\"display:none;\">\n",
              "        \n",
              "  <svg xmlns=\"http://www.w3.org/2000/svg\" height=\"24px\"viewBox=\"0 0 24 24\"\n",
              "       width=\"24px\">\n",
              "    <path d=\"M0 0h24v24H0V0z\" fill=\"none\"/>\n",
              "    <path d=\"M18.56 5.44l.94 2.06.94-2.06 2.06-.94-2.06-.94-.94-2.06-.94 2.06-2.06.94zm-11 1L8.5 8.5l.94-2.06 2.06-.94-2.06-.94L8.5 2.5l-.94 2.06-2.06.94zm10 10l.94 2.06.94-2.06 2.06-.94-2.06-.94-.94-2.06-.94 2.06-2.06.94z\"/><path d=\"M17.41 7.96l-1.37-1.37c-.4-.4-.92-.59-1.43-.59-.52 0-1.04.2-1.43.59L10.3 9.45l-7.72 7.72c-.78.78-.78 2.05 0 2.83L4 21.41c.39.39.9.59 1.41.59.51 0 1.02-.2 1.41-.59l7.78-7.78 2.81-2.81c.8-.78.8-2.07 0-2.86zM5.41 20L4 18.59l7.72-7.72 1.47 1.35L5.41 20z\"/>\n",
              "  </svg>\n",
              "      </button>\n",
              "      \n",
              "  <style>\n",
              "    .colab-df-container {\n",
              "      display:flex;\n",
              "      flex-wrap:wrap;\n",
              "      gap: 12px;\n",
              "    }\n",
              "\n",
              "    .colab-df-convert {\n",
              "      background-color: #E8F0FE;\n",
              "      border: none;\n",
              "      border-radius: 50%;\n",
              "      cursor: pointer;\n",
              "      display: none;\n",
              "      fill: #1967D2;\n",
              "      height: 32px;\n",
              "      padding: 0 0 0 0;\n",
              "      width: 32px;\n",
              "    }\n",
              "\n",
              "    .colab-df-convert:hover {\n",
              "      background-color: #E2EBFA;\n",
              "      box-shadow: 0px 1px 2px rgba(60, 64, 67, 0.3), 0px 1px 3px 1px rgba(60, 64, 67, 0.15);\n",
              "      fill: #174EA6;\n",
              "    }\n",
              "\n",
              "    [theme=dark] .colab-df-convert {\n",
              "      background-color: #3B4455;\n",
              "      fill: #D2E3FC;\n",
              "    }\n",
              "\n",
              "    [theme=dark] .colab-df-convert:hover {\n",
              "      background-color: #434B5C;\n",
              "      box-shadow: 0px 1px 3px 1px rgba(0, 0, 0, 0.15);\n",
              "      filter: drop-shadow(0px 1px 2px rgba(0, 0, 0, 0.3));\n",
              "      fill: #FFFFFF;\n",
              "    }\n",
              "  </style>\n",
              "\n",
              "      <script>\n",
              "        const buttonEl =\n",
              "          document.querySelector('#df-01c22578-2606-4ee1-bf9a-3f43372c9909 button.colab-df-convert');\n",
              "        buttonEl.style.display =\n",
              "          google.colab.kernel.accessAllowed ? 'block' : 'none';\n",
              "\n",
              "        async function convertToInteractive(key) {\n",
              "          const element = document.querySelector('#df-01c22578-2606-4ee1-bf9a-3f43372c9909');\n",
              "          const dataTable =\n",
              "            await google.colab.kernel.invokeFunction('convertToInteractive',\n",
              "                                                     [key], {});\n",
              "          if (!dataTable) return;\n",
              "\n",
              "          const docLinkHtml = 'Like what you see? Visit the ' +\n",
              "            '<a target=\"_blank\" href=https://colab.research.google.com/notebooks/data_table.ipynb>data table notebook</a>'\n",
              "            + ' to learn more about interactive tables.';\n",
              "          element.innerHTML = '';\n",
              "          dataTable['output_type'] = 'display_data';\n",
              "          await google.colab.output.renderOutput(dataTable, element);\n",
              "          const docLink = document.createElement('div');\n",
              "          docLink.innerHTML = docLinkHtml;\n",
              "          element.appendChild(docLink);\n",
              "        }\n",
              "      </script>\n",
              "    </div>\n",
              "  </div>\n",
              "  "
            ]
          },
          "metadata": {},
          "execution_count": 11
        }
      ],
      "source": [
        "all_xray_df['Finding Labels'] = all_xray_df['Finding Labels'].map(lambda x: x.replace('No Finding', ''))\n",
        "from itertools import chain\n",
        "all_labels = np.unique(list(chain(*all_xray_df['Finding Labels'].map(lambda x: x.split('|')).tolist())))\n",
        "all_labels = [x for x in all_labels if len(x)>0]\n",
        "print('All Labels ({}): {}'.format(len(all_labels), all_labels))\n",
        "for c_label in all_labels:\n",
        "    if len(c_label)>1: # leave out empty labels\n",
        "        all_xray_df[c_label] = all_xray_df['Finding Labels'].map(lambda finding: 1.0 if c_label in finding else 0)\n",
        "all_xray_df.sample(3)"
      ]
    },
    {
      "cell_type": "code",
      "execution_count": 12,
      "metadata": {
        "colab": {
          "base_uri": "https://localhost:8080/"
        },
        "id": "ym5CxJBDTuQZ",
        "outputId": "ec62a7dc-6d21-4c76-cb0b-15196b4fab1f"
      },
      "outputs": [
        {
          "output_type": "stream",
          "name": "stdout",
          "text": [
            "Clean Labels (13) [('Atelectasis', 11559), ('Cardiomegaly', 2776), ('Consolidation', 4667), ('Edema', 2303), ('Effusion', 13317), ('Emphysema', 2516), ('Fibrosis', 1686), ('Infiltration', 19894), ('Mass', 5782), ('Nodule', 6331), ('Pleural_Thickening', 3385), ('Pneumonia', 1431), ('Pneumothorax', 5302)]\n"
          ]
        }
      ],
      "source": [
        "# keep at least 1000 cases\n",
        "MIN_CASES = 1000\n",
        "all_labels = [\n",
        "    c_label for c_label in all_labels if all_xray_df[c_label].sum()>MIN_CASES\n",
        "    ]\n",
        "print('Clean Labels ({})'.format(len(all_labels)), \n",
        "      [(c_label,int(all_xray_df[c_label].sum())) for c_label in all_labels])"
      ]
    },
    {
      "cell_type": "code",
      "execution_count": 13,
      "metadata": {
        "colab": {
          "base_uri": "https://localhost:8080/",
          "height": 583
        },
        "id": "-bMuE8iDT2LT",
        "outputId": "df730b51-9e2d-46a9-b6d4-2dee9d7bf2b4"
      },
      "outputs": [
        {
          "output_type": "display_data",
          "data": {
            "text/plain": [
              "<Figure size 864x576 with 1 Axes>"
            ],
            "image/png": "[encoded data removed]"
          },
          "metadata": {
            "needs_background": "light"
          }
        }
      ],
      "source": [
        "# since the dataset is very unbiased, we can resample it to be a more reasonable collection\n",
        "# weight is 0.1 + number of findings\n",
        "sample_weights = all_xray_df['Finding Labels'].map(lambda x: len(x.split('|')) if len(x)>0 else 0).values + 4e-2\n",
        "sample_weights /= sample_weights.sum()\n",
        "\n",
        "all_xray_df = all_xray_df.sample(112120, weights=sample_weights)\n",
        "\n",
        "label_counts = all_xray_df['Finding Labels'].value_counts()[:15]\n",
        "fig, ax1 = plt.subplots(1,1,figsize = (12, 8))\n",
        "ax1.bar(np.arange(len(label_counts))+0.5, label_counts)\n",
        "ax1.set_xticks(np.arange(len(label_counts))+0.5)\n",
        "_ = ax1.set_xticklabels(label_counts.index, rotation = 90)"
      ]
    },
    {
      "cell_type": "code",
      "execution_count": 14,
      "metadata": {
        "colab": {
          "base_uri": "https://localhost:8080/",
          "height": 583
        },
        "id": "T1zRuIqHT5pF",
        "outputId": "aa6d0d1a-4777-4af2-f7d2-e746c480cfd9"
      },
      "outputs": [
        {
          "output_type": "display_data",
          "data": {
            "text/plain": [
              "<Figure size 864x576 with 1 Axes>"
            ],
            "image/png": "[encoded data removed]"
          },
          "metadata": {
            "needs_background": "light"
          }
        }
      ],
      "source": [
        "label_counts = 100*np.mean(all_xray_df[all_labels].values,0)\n",
        "fig, ax1 = plt.subplots(1,1,figsize = (12, 8))\n",
        "ax1.bar(np.arange(len(label_counts))+0.5, label_counts)\n",
        "ax1.set_xticks(np.arange(len(label_counts))+0.5)\n",
        "ax1.set_xticklabels(all_labels, rotation = 90)\n",
        "ax1.set_title('Adjusted Frequency of Diseases in Patient Group')\n",
        "_ = ax1.set_ylabel('Frequency (%)')"
      ]
    },
    {
      "cell_type": "code",
      "execution_count": 15,
      "metadata": {
        "id": "YGv8mwYIUGQY"
      },
      "outputs": [],
      "source": [
        "all_xray_df['disease_vec'] = all_xray_df.apply(lambda x: [x[all_labels].values], 1).map(lambda x: x[0])"
      ]
    },
    {
      "cell_type": "code",
      "execution_count": 16,
      "metadata": {
        "colab": {
          "base_uri": "https://localhost:8080/",
          "height": 410
        },
        "id": "L-aF9NwEWWr-",
        "outputId": "b0c6b381-500e-4090-9ff4-f2bf725d546f"
      },
      "outputs": [
        {
          "output_type": "execute_result",
          "data": {
            "text/plain": [
              "            Image Index         Finding Labels  Follow-up #  Patient ID  \\\n",
              "23932  00006304_016.png          Consolidation           16        6304   \n",
              "16966  00004547_006.png                                   6        4547   \n",
              "22747  00006011_001.png  Fibrosis|Infiltration            1        6011   \n",
              "\n",
              "       Patient Age Patient Gender View Position  OriginalImage[Width  Height]  \\\n",
              "23932           67              F            AP                 2500     2048   \n",
              "16966           55              M            AP                 2500     2048   \n",
              "22747           51              M            PA                 3056     2544   \n",
              "\n",
              "       OriginalImagePixelSpacing[x  ...  Emphysema  Fibrosis Hernia  \\\n",
              "23932                        0.168  ...        0.0       0.0    0.0   \n",
              "16966                        0.168  ...        0.0       0.0    0.0   \n",
              "22747                        0.139  ...        0.0       1.0    0.0   \n",
              "\n",
              "       Infiltration  Mass  Nodule  Pleural_Thickening  Pneumonia  \\\n",
              "23932           0.0   0.0     0.0                 0.0        0.0   \n",
              "16966           0.0   0.0     0.0                 0.0        0.0   \n",
              "22747           1.0   0.0     0.0                 0.0        0.0   \n",
              "\n",
              "       Pneumothorax                                        disease_vec  \n",
              "23932           0.0  [0.0, 0.0, 1.0, 0.0, 0.0, 0.0, 0.0, 0.0, 0.0, ...  \n",
              "16966           0.0  [0.0, 0.0, 0.0, 0.0, 0.0, 0.0, 0.0, 0.0, 0.0, ...  \n",
              "22747           0.0  [0.0, 0.0, 0.0, 0.0, 0.0, 0.0, 1.0, 1.0, 0.0, ...  \n",
              "\n",
              "[3 rows x 28 columns]"
            ],
            "text/html": [
              "\n",
              "  <div id=\"df-7210b815-e513-42a8-a311-bb668c366dde\">\n",
              "    <div class=\"colab-df-container\">\n",
              "      <div>\n",
              "<style scoped>\n",
              "    .dataframe tbody tr th:only-of-type {\n",
              "        vertical-align: middle;\n",
              "    }\n",
              "\n",
              "    .dataframe tbody tr th {\n",
              "        vertical-align: top;\n",
              "    }\n",
              "\n",
              "    .dataframe thead th {\n",
              "        text-align: right;\n",
              "    }\n",
              "</style>\n",
              "<table border=\"1\" class=\"dataframe\">\n",
              "  <thead>\n",
              "    <tr style=\"text-align: right;\">\n",
              "      <th></th>\n",
              "      <th>Image Index</th>\n",
              "      <th>Finding Labels</th>\n",
              "      <th>Follow-up #</th>\n",
              "      <th>Patient ID</th>\n",
              "      <th>Patient Age</th>\n",
              "      <th>Patient Gender</th>\n",
              "      <th>View Position</th>\n",
              "      <th>OriginalImage[Width</th>\n",
              "      <th>Height]</th>\n",
              "      <th>OriginalImagePixelSpacing[x</th>\n",
              "      <th>...</th>\n",
              "      <th>Emphysema</th>\n",
              "      <th>Fibrosis</th>\n",
              "      <th>Hernia</th>\n",
              "      <th>Infiltration</th>\n",
              "      <th>Mass</th>\n",
              "      <th>Nodule</th>\n",
              "      <th>Pleural_Thickening</th>\n",
              "      <th>Pneumonia</th>\n",
              "      <th>Pneumothorax</th>\n",
              "      <th>disease_vec</th>\n",
              "    </tr>\n",
              "  </thead>\n",
              "  <tbody>\n",
              "    <tr>\n",
              "      <th>23932</th>\n",
              "      <td>00006304_016.png</td>\n",
              "      <td>Consolidation</td>\n",
              "      <td>16</td>\n",
              "      <td>6304</td>\n",
              "      <td>67</td>\n",
              "      <td>F</td>\n",
              "      <td>AP</td>\n",
              "      <td>2500</td>\n",
              "      <td>2048</td>\n",
              "      <td>0.168</td>\n",
              "      <td>...</td>\n",
              "      <td>0.0</td>\n",
              "      <td>0.0</td>\n",
              "      <td>0.0</td>\n",
              "      <td>0.0</td>\n",
              "      <td>0.0</td>\n",
              "      <td>0.0</td>\n",
              "      <td>0.0</td>\n",
              "      <td>0.0</td>\n",
              "      <td>0.0</td>\n",
              "      <td>[0.0, 0.0, 1.0, 0.0, 0.0, 0.0, 0.0, 0.0, 0.0, ...</td>\n",
              "    </tr>\n",
              "    <tr>\n",
              "      <th>16966</th>\n",
              "      <td>00004547_006.png</td>\n",
              "      <td></td>\n",
              "      <td>6</td>\n",
              "      <td>4547</td>\n",
              "      <td>55</td>\n",
              "      <td>M</td>\n",
              "      <td>AP</td>\n",
              "      <td>2500</td>\n",
              "      <td>2048</td>\n",
              "      <td>0.168</td>\n",
              "      <td>...</td>\n",
              "      <td>0.0</td>\n",
              "      <td>0.0</td>\n",
              "      <td>0.0</td>\n",
              "      <td>0.0</td>\n",
              "      <td>0.0</td>\n",
              "      <td>0.0</td>\n",
              "      <td>0.0</td>\n",
              "      <td>0.0</td>\n",
              "      <td>0.0</td>\n",
              "      <td>[0.0, 0.0, 0.0, 0.0, 0.0, 0.0, 0.0, 0.0, 0.0, ...</td>\n",
              "    </tr>\n",
              "    <tr>\n",
              "      <th>22747</th>\n",
              "      <td>00006011_001.png</td>\n",
              "      <td>Fibrosis|Infiltration</td>\n",
              "      <td>1</td>\n",
              "      <td>6011</td>\n",
              "      <td>51</td>\n",
              "      <td>M</td>\n",
              "      <td>PA</td>\n",
              "      <td>3056</td>\n",
              "      <td>2544</td>\n",
              "      <td>0.139</td>\n",
              "      <td>...</td>\n",
              "      <td>0.0</td>\n",
              "      <td>1.0</td>\n",
              "      <td>0.0</td>\n",
              "      <td>1.0</td>\n",
              "      <td>0.0</td>\n",
              "      <td>0.0</td>\n",
              "      <td>0.0</td>\n",
              "      <td>0.0</td>\n",
              "      <td>0.0</td>\n",
              "      <td>[0.0, 0.0, 0.0, 0.0, 0.0, 0.0, 1.0, 1.0, 0.0, ...</td>\n",
              "    </tr>\n",
              "  </tbody>\n",
              "</table>\n",
              "<p>3 rows × 28 columns</p>\n",
              "</div>\n",
              "      <button class=\"colab-df-convert\" onclick=\"convertToInteractive('df-7210b815-e513-42a8-a311-bb668c366dde')\"\n",
              "              title=\"Convert this dataframe to an interactive table.\"\n",
              "              style=\"display:none;\">\n",
              "        \n",
              "  <svg xmlns=\"http://www.w3.org/2000/svg\" height=\"24px\"viewBox=\"0 0 24 24\"\n",
              "       width=\"24px\">\n",
              "    <path d=\"M0 0h24v24H0V0z\" fill=\"none\"/>\n",
              "    <path d=\"M18.56 5.44l.94 2.06.94-2.06 2.06-.94-2.06-.94-.94-2.06-.94 2.06-2.06.94zm-11 1L8.5 8.5l.94-2.06 2.06-.94-2.06-.94L8.5 2.5l-.94 2.06-2.06.94zm10 10l.94 2.06.94-2.06 2.06-.94-2.06-.94-.94-2.06-.94 2.06-2.06.94z\"/><path d=\"M17.41 7.96l-1.37-1.37c-.4-.4-.92-.59-1.43-.59-.52 0-1.04.2-1.43.59L10.3 9.45l-7.72 7.72c-.78.78-.78 2.05 0 2.83L4 21.41c.39.39.9.59 1.41.59.51 0 1.02-.2 1.41-.59l7.78-7.78 2.81-2.81c.8-.78.8-2.07 0-2.86zM5.41 20L4 18.59l7.72-7.72 1.47 1.35L5.41 20z\"/>\n",
              "  </svg>\n",
              "      </button>\n",
              "      \n",
              "  <style>\n",
              "    .colab-df-container {\n",
              "      display:flex;\n",
              "      flex-wrap:wrap;\n",
              "      gap: 12px;\n",
              "    }\n",
              "\n",
              "    .colab-df-convert {\n",
              "      background-color: #E8F0FE;\n",
              "      border: none;\n",
              "      border-radius: 50%;\n",
              "      cursor: pointer;\n",
              "      display: none;\n",
              "      fill: #1967D2;\n",
              "      height: 32px;\n",
              "      padding: 0 0 0 0;\n",
              "      width: 32px;\n",
              "    }\n",
              "\n",
              "    .colab-df-convert:hover {\n",
              "      background-color: #E2EBFA;\n",
              "      box-shadow: 0px 1px 2px rgba(60, 64, 67, 0.3), 0px 1px 3px 1px rgba(60, 64, 67, 0.15);\n",
              "      fill: #174EA6;\n",
              "    }\n",
              "\n",
              "    [theme=dark] .colab-df-convert {\n",
              "      background-color: #3B4455;\n",
              "      fill: #D2E3FC;\n",
              "    }\n",
              "\n",
              "    [theme=dark] .colab-df-convert:hover {\n",
              "      background-color: #434B5C;\n",
              "      box-shadow: 0px 1px 3px 1px rgba(0, 0, 0, 0.15);\n",
              "      filter: drop-shadow(0px 1px 2px rgba(0, 0, 0, 0.3));\n",
              "      fill: #FFFFFF;\n",
              "    }\n",
              "  </style>\n",
              "\n",
              "      <script>\n",
              "        const buttonEl =\n",
              "          document.querySelector('#df-7210b815-e513-42a8-a311-bb668c366dde button.colab-df-convert');\n",
              "        buttonEl.style.display =\n",
              "          google.colab.kernel.accessAllowed ? 'block' : 'none';\n",
              "\n",
              "        async function convertToInteractive(key) {\n",
              "          const element = document.querySelector('#df-7210b815-e513-42a8-a311-bb668c366dde');\n",
              "          const dataTable =\n",
              "            await google.colab.kernel.invokeFunction('convertToInteractive',\n",
              "                                                     [key], {});\n",
              "          if (!dataTable) return;\n",
              "\n",
              "          const docLinkHtml = 'Like what you see? Visit the ' +\n",
              "            '<a target=\"_blank\" href=https://colab.research.google.com/notebooks/data_table.ipynb>data table notebook</a>'\n",
              "            + ' to learn more about interactive tables.';\n",
              "          element.innerHTML = '';\n",
              "          dataTable['output_type'] = 'display_data';\n",
              "          await google.colab.output.renderOutput(dataTable, element);\n",
              "          const docLink = document.createElement('div');\n",
              "          docLink.innerHTML = docLinkHtml;\n",
              "          element.appendChild(docLink);\n",
              "        }\n",
              "      </script>\n",
              "    </div>\n",
              "  </div>\n",
              "  "
            ]
          },
          "metadata": {},
          "execution_count": 16
        }
      ],
      "source": [
        "all_xray_df.sample(3)"
      ]
    },
    {
      "cell_type": "code",
      "execution_count": 17,
      "metadata": {
        "colab": {
          "base_uri": "https://localhost:8080/"
        },
        "id": "uAwaQtgN_4U3",
        "outputId": "91978702-f923-4fe5-9369-31a488d9a712"
      },
      "outputs": [
        {
          "output_type": "execute_result",
          "data": {
            "text/plain": [
              "112120"
            ]
          },
          "metadata": {},
          "execution_count": 17
        }
      ],
      "source": [
        "len(all_xray_df)"
      ]
    },
    {
      "cell_type": "markdown",
      "metadata": {
        "id": "gWddu_dD42zn"
      },
      "source": [
        "### Get DataLoaders"
      ]
    },
    {
      "cell_type": "code",
      "execution_count": 18,
      "metadata": {
        "id": "5Qon97klUzXo"
      },
      "outputs": [],
      "source": [
        "class NIH_Dataset(Dataset):\n",
        "  def __init__(\n",
        "    self, \n",
        "    data_df,\n",
        "    transform=None\n",
        "    ):\n",
        "    self.data_df = data_df\n",
        "    self.transform = transform \n",
        "\n",
        "  def __len__(\n",
        "    self\n",
        "    ):\n",
        "    return len(self.data_df)\n",
        "\n",
        "  def __getitem__(\n",
        "    self, \n",
        "    idx\n",
        "    ):\n",
        "    img_file = self.data_df['path'].iloc[idx]\n",
        "    img = Image.open(img_file).convert('RGB')\n",
        "    label = np.array(self.data_df.iloc[:,-1].iloc[idx], dtype=float)\n",
        "    if self.transform:\n",
        "        img = self.transform(img)\n",
        "\n",
        "    return img, label\n",
        "\n",
        "def get_data_loaders(\n",
        "    data_df: pd.DataFrame,\n",
        "    global_train_frac: float = 0.8,\n",
        "    local_train_frac: float = 0.8,\n",
        "    batch_size: int = 32,\n",
        "    num_clients: int = 10\n",
        "    ):\n",
        "  train_data_transform = T.Compose([\n",
        "    T.RandomRotation((-20,+20)),\n",
        "    # T.Resize((512,512)),\n",
        "    T.Resize((224,224)),\n",
        "    T.ToTensor(),\n",
        "    T.Normalize(mean=[0.485, 0.456, 0.406],\n",
        "                std=[0.229, 0.224, 0.225])\n",
        "                ])\n",
        "\n",
        "  test_data_transform = T.Compose([\n",
        "    T.Resize((512,512)),\n",
        "    T.ToTensor(),\n",
        "    T.Normalize(mean=[0.485, 0.456, 0.406],\n",
        "                std=[0.229, 0.224, 0.225])\n",
        "                ])\n",
        "  \n",
        "  train_df, test_df = train_test_split(\n",
        "      data_df,\n",
        "      test_size = 1 - global_train_frac,\n",
        "      random_state = 42,\n",
        "      stratify = data_df['Finding Labels'].map( lambda x: x[:4])\n",
        "  )\n",
        "\n",
        "  trainset = NIH_Dataset(\n",
        "      train_df,\n",
        "      transform = train_data_transform\n",
        "      )\n",
        "  \n",
        "  testset = NIH_Dataset(\n",
        "      test_df,\n",
        "      transform = test_data_transform\n",
        "      )\n",
        "\n",
        "  # Split training set into `num_clients` partitions to simulate different local datasets\n",
        "  partition_size = len(trainset) // num_clients\n",
        "  lengths = [partition_size] * num_clients\n",
        "  lengths[-1] += len(trainset) - np.sum(lengths)\n",
        "  datasets = random_split(trainset, lengths, torch.Generator().manual_seed(42))\n",
        "\n",
        "  # Split each partition into train/val and create DataLoader\n",
        "  trainloaders = []\n",
        "  valloaders = []\n",
        "  for ds in datasets:      \n",
        "      len_train = math.ceil(len(ds) * local_train_frac)\n",
        "      len_val = len(ds) - math.ceil(len(ds) * local_train_frac)\n",
        "      lengths = [len_train, len_val]\n",
        "      ds_train, ds_val = random_split(ds, lengths, torch.Generator().manual_seed(42))\n",
        "      trainloaders.append(DataLoader(ds_train, batch_size=batch_size, shuffle=True, drop_last = True))\n",
        "      valloaders.append(DataLoader(ds_val, batch_size=batch_size, drop_last = True))\n",
        "  testloader = DataLoader(testset, batch_size=batch_size)\n",
        "\n",
        "  return trainloaders, valloaders, testloader\n",
        "\n",
        "def inv_data_transform(img):\n",
        "    img = img.permute(1,2,0)\n",
        "    img = img * torch.Tensor([0.229, 0.224, 0.225]) + torch.Tensor([0.485, 0.456, 0.406])\n",
        "    return img"
      ]
    },
    {
      "cell_type": "code",
      "execution_count": 19,
      "metadata": {
        "id": "rigzBUI_Wovp"
      },
      "outputs": [],
      "source": [
        "num_clients = 14\n",
        "\n",
        "trainloaders, valloaders, testloader = get_data_loaders(\n",
        "    all_xray_df,\n",
        "    global_train_frac = 0.95,\n",
        "    local_train_frac = 0.9,\n",
        "    num_clients = num_clients,\n",
        "    batch_size = 25\n",
        ")"
      ]
    },
    {
      "cell_type": "code",
      "execution_count": 20,
      "metadata": {
        "colab": {
          "base_uri": "https://localhost:8080/",
          "height": 248
        },
        "id": "H5Oi7dIN3aWP",
        "outputId": "1f527c95-73d3-4561-a283-96a06ca39d5a"
      },
      "outputs": [
        {
          "output_type": "display_data",
          "data": {
            "text/plain": [
              "<Figure size 432x288 with 1 Axes>"
            ],
            "image/png": "[encoded data removed]"
          },
          "metadata": {
            "needs_background": "light"
          }
        }
      ],
      "source": [
        "plt.imshow(\n",
        "    inv_data_transform(\n",
        "        testloader.dataset[0][0]\n",
        "    )\n",
        ")\n",
        "plt.axis('off');"
      ]
    },
    {
      "cell_type": "code",
      "execution_count": 21,
      "metadata": {
        "colab": {
          "base_uri": "https://localhost:8080/"
        },
        "id": "mh6Nm_YzvJpo",
        "outputId": "6cfde6c4-ecf8-4754-e460-7ad89b30ccb4"
      },
      "outputs": [
        {
          "output_type": "execute_result",
          "data": {
            "text/plain": [
              "(6848, 760, 5607)"
            ]
          },
          "metadata": {},
          "execution_count": 21
        }
      ],
      "source": [
        "len(trainloaders[0].dataset), len(valloaders[0].dataset) ,len(testloader.dataset)"
      ]
    },
    {
      "cell_type": "code",
      "execution_count": 22,
      "metadata": {
        "colab": {
          "base_uri": "https://localhost:8080/"
        },
        "id": "aHFmMLT5aZ2h",
        "outputId": "0afdb7c1-f08c-4e23-ba4c-0220a09bd9b1"
      },
      "outputs": [
        {
          "output_type": "execute_result",
          "data": {
            "text/plain": [
              "13"
            ]
          },
          "metadata": {},
          "execution_count": 22
        }
      ],
      "source": [
        "len(all_labels)"
      ]
    },
    {
      "cell_type": "markdown",
      "source": [
        "### Basic FL utils"
      ],
      "metadata": {
        "id": "9o_uC5yi5e83"
      }
    },
    {
      "cell_type": "code",
      "source": [
        "class FlowerClient(fl.client.NumPyClient):\n",
        "    def __init__(self, cid, net, trainloader, valloader):\n",
        "        self.cid = cid\n",
        "        self.net = net\n",
        "        self.trainloader = trainloader\n",
        "        self.valloader = valloader\n",
        "\n",
        "    def get_parameters(self, config):\n",
        "        print(f\"[Client {self.cid}] get_parameters\")\n",
        "        return get_parameters(self.net)\n",
        "\n",
        "    def fit(self, parameters, config):\n",
        "        # Read values from config\n",
        "        server_round = config[\"server_round\"]\n",
        "        local_epochs = config[\"local_epochs\"]\n",
        "\n",
        "        # Use values provided by the config\n",
        "        print(f\"[Client {self.cid}, round {server_round}] fit, config: {config}\")\n",
        "        set_parameters(self.net, parameters)\n",
        "        train(self.net, self.trainloader, epochs=local_epochs)\n",
        "        return get_parameters(self.net), len(self.trainloader), {}\n",
        "\n",
        "    def evaluate(self, parameters, config):\n",
        "        print(f\"[Client {self.cid}] evaluate, config: {config}\")\n",
        "        set_parameters(self.net, parameters)\n",
        "        loss, accuracy = test(self.net, self.valloader)\n",
        "        return float(loss), len(self.valloader), {\"accuracy\": float(accuracy)}\n",
        "\n",
        "def get_parameters(net) -> List[np.ndarray]:\n",
        "    return [val.cpu().numpy() for _, val in net.state_dict().items()]\n",
        "\n",
        "def set_parameters(net, parameters: List[np.ndarray]):\n",
        "    params_dict = zip(net.state_dict().keys(), parameters)\n",
        "    state_dict = OrderedDict({k: torch.Tensor(v) for k, v in params_dict})\n",
        "    net.load_state_dict(state_dict, strict=True)"
      ],
      "metadata": {
        "id": "RYlrQJOH5eRz"
      },
      "execution_count": 23,
      "outputs": []
    },
    {
      "cell_type": "markdown",
      "source": [
        "### FL training utils"
      ],
      "metadata": {
        "id": "UwdUHQgA5qt8"
      }
    },
    {
      "cell_type": "code",
      "execution_count": 24,
      "metadata": {
        "id": "ZpaMF3WiAfkx"
      },
      "outputs": [],
      "source": [
        "def compute_class_freqs(labels):\n",
        "\n",
        "    labels = np.array(labels)\n",
        "    N = labels.shape[0]\n",
        "\n",
        "    positive_frequencies = np.sum(labels, axis = 0) / N\n",
        "    negative_frequencies = 1 - positive_frequencies\n",
        "\n",
        "    return positive_frequencies, negative_frequencies\n",
        "\n",
        "def weighted_loss(pos_weights, neg_weights, y_pred, y_true, epsilon = 1e-7):\n",
        "    y_pred = torch.sigmoid(y_pred)\n",
        "    loss = 0.0\n",
        "    for i in range(len(pos_weights)):\n",
        "        loss_pos = -1 * torch.mean(pos_weights[i] * y_true[:,i] * torch.log(y_pred[:,i] + epsilon))\n",
        "        loss_neg = -1 * torch.mean(neg_weights[i] * (1-y_true[:,i]) * torch.log((1-y_pred[:,i]) + epsilon))\n",
        "        loss += loss_pos + loss_neg\n",
        "    return loss\n",
        "\n",
        "def train(\n",
        "    net,\n",
        "    trainloader,\n",
        "    epochs\n",
        "    ):\n",
        "    print(f'Entered train function, total num. of epochs: {epochs}')\n",
        "    # ToDo: Class weights should be different for each client\n",
        "    freq_pos, freq_neg = compute_class_freqs(all_xray_df.iloc[:,-1])    \n",
        "    pos_weights = freq_neg\n",
        "    neg_weights = freq_pos\n",
        "\n",
        "    valid_loss_min = np.Inf\n",
        "    optimizer = torch.optim.Adam(\n",
        "        net.parameters(),\n",
        "        lr = 1e-4\n",
        "        )\n",
        "    start_time = time.time()\n",
        "    for i in range(epochs):\n",
        "        train_loss = 0.0\n",
        "        valid_loss = 0.0\n",
        "        train_acc = 0.0\n",
        "        valid_acc = 0.0 \n",
        "        net.train()\n",
        "        for j, (images, labels) in enumerate(trainloader):\n",
        "            images = images.to(DEVICE)\n",
        "            labels = labels.to(DEVICE)\n",
        "            ps = net(images)\n",
        "            \n",
        "            loss = weighted_loss(pos_weights, neg_weights, ps, labels)\n",
        "\n",
        "            optimizer.zero_grad()\n",
        "            loss.backward()\n",
        "            optimizer.step()\n",
        "            train_loss += loss.item()\n",
        "        avg_train_loss = train_loss / len(trainloader)\n",
        "        print(\"Epoch : {} Train Loss : {:.6f} \".format(i+1,avg_train_loss))\n",
        "    end_time = time.time()\n",
        "    time_delta = end_time - start_time\n",
        "    print('\\n')\n",
        "    print(f'Time to complete local training round: {time_delta}')\n",
        "    print('\\n')\n",
        "\n",
        "def test(net, testloader, pathology_list):\n",
        "    \n",
        "    # ToDo: Class weights should be different for each client\n",
        "    freq_pos, freq_neg = compute_class_freqs(all_xray_df.iloc[:,-1])    \n",
        "    pos_weights = freq_neg\n",
        "    neg_weights = freq_pos\n",
        "\n",
        "    per_class_accuracy = [0 for i in range(len(pathology_list))]\n",
        "    total = 0.0\n",
        "    loss = 0.0\n",
        "    with torch.no_grad():\n",
        "        for images,labels in testloader:\n",
        "            ps = net(images.to(DEVICE))\n",
        "            labels = labels.to(DEVICE)\n",
        "            loss += weighted_loss( pos_weights, neg_weights, ps, labels)\n",
        "            ps = (ps >= 0.5).float()\n",
        "\n",
        "            for i in range(ps.shape[1]):\n",
        "                x1 = ps[:,i:i+1]\n",
        "                x2 = labels[:,i:i+1]\n",
        "                per_class_accuracy[i] += int((x1 == x2).sum())\n",
        "\n",
        "        per_class_accuracy = [(i/len(testloader.dataset)) * 100.0 for i in per_class_accuracy]\n",
        "\n",
        "    return loss, np.mean(per_class_accuracy)\n",
        "\n",
        "def get_acc_data(\n",
        "    class_names,\n",
        "    acc_list\n",
        "    ):\n",
        "    df = pd.DataFrame(list(zip(class_names, acc_list)), columns =['Labels', 'Class Acc.']) \n",
        "    return df"
      ]
    },
    {
      "cell_type": "code",
      "execution_count": 25,
      "metadata": {
        "id": "FfVrX3hA6kqX"
      },
      "outputs": [],
      "source": [
        "def server_eval(\n",
        "    server_round: int,\n",
        "    parameters: fl.common.NDArrays, \n",
        "    config: Dict[str, fl.common.Scalar]\n",
        "    ):\n",
        "    # ToDo: Class weights should be different for each client\n",
        "    freq_pos, freq_neg = compute_class_freqs(all_xray_df.iloc[:,-1])    \n",
        "    pos_weights = freq_neg\n",
        "    neg_weights = freq_pos\n",
        "\n",
        "    net = init_net().to(DEVICE)\n",
        "\n",
        "    set_parameters(net, parameters)  # Update model with the latest parameters\n",
        "\n",
        "    per_class_accuracy = [0 for i in range(len(all_labels))]\n",
        "    total = 0.0\n",
        "    loss = 0.0\n",
        "    with torch.no_grad():\n",
        "        for images,labels in testloader:\n",
        "          \n",
        "            ps = net(images.to(DEVICE))\n",
        "            labels = labels.to(DEVICE)\n",
        "            ps = (ps >= 0.5).float()\n",
        "\n",
        "            loss += weighted_loss( pos_weights, neg_weights, ps, labels)\n",
        "\n",
        "            for i in range(ps.shape[1]):\n",
        "                x1 = ps[:,i:i+1]\n",
        "                x2 = labels[:,i:i+1]\n",
        "                per_class_accuracy[i] += int((x1 == x2).sum())\n",
        "\n",
        "        per_class_accuracy = [(i/len(testloader.dataset))*100.0 for i in per_class_accuracy]\n",
        "\n",
        "    test_df = get_acc_data(all_labels, per_class_accuracy)\n",
        "    print('\\nServer eval')\n",
        "    print(test_df)\n",
        "    print('\\n')\n",
        "\n",
        "    return loss,  {\"mean_class_acc.\": np.mean(per_class_accuracy)}"
      ]
    },
    {
      "cell_type": "markdown",
      "metadata": {
        "id": "kZByeD1upefu"
      },
      "source": [
        "## Training"
      ]
    },
    {
      "cell_type": "code",
      "source": [
        "def init_net():\n",
        "  net = models.vgg11(\n",
        "    weights=\"IMAGENET1K_V1\"\n",
        "  )\n",
        "  net.classifier[-1] = torch.nn.Linear(\n",
        "      net.classifier[-1].in_features,\n",
        "      len(all_labels)\n",
        "  )\n",
        "  return net\n",
        "\n",
        "def client_fn(cid) -> FlowerClient:\n",
        "    net = init_net().to(DEVICE)\n",
        "    trainloader = trainloaders[int(cid)]\n",
        "    valloader = valloaders[int(cid)]\n",
        "    print(f'Created client: {cid}')\n",
        "    return FlowerClient(cid, net, trainloader, valloader)"
      ],
      "metadata": {
        "id": "S5l-5slg58Nf"
      },
      "execution_count": 26,
      "outputs": []
    },
    {
      "cell_type": "markdown",
      "metadata": {
        "id": "esohU8khStKD"
      },
      "source": [
        "### 4 local epochs take approx 15min. on A100 for each client"
      ]
    },
    {
      "cell_type": "code",
      "execution_count": null,
      "metadata": {
        "id": "ZNEdoe3uSumm",
        "colab": {
          "base_uri": "https://localhost:8080/",
          "height": 1000,
          "referenced_widgets": [
            "69c1953e7cf74a30bb2f73a4d7dba73a",
            "93b56a7020b64d45a5a8472e562d0c03",
            "bc4257b93215492ab60d8aa0df31328c",
            "ef731c31fff649f58a6d4f4345c94764",
            "3cec715d44204f769f8932c15bbaa2b2",
            "2e303c7dd26544a0ac18e8872ecdd126",
            "1636c050483d445cbca38957d752e62d",
            "3747bb557314470bbae6da1199f5ef3b",
            "a9e078a117224ac2b2bc267e6356bf00",
            "2455b30fe2f84c92aebadb2c711ad286",
            "48aa31fe71024770bf7c0d18ae34eae5"
          ]
        },
        "outputId": "80f4917d-519e-438c-cb02-bb6f59333e92"
      },
      "outputs": [
        {
          "metadata": {
            "tags": null
          },
          "name": "stderr",
          "output_type": "stream",
          "text": [
            "Downloading: \"https://download.pytorch.org/models/vgg11-8a719046.pth\" to /root/.cache/torch/hub/checkpoints/vgg11-8a719046.pth\n"
          ]
        },
        {
          "data": {
            "application/vnd.jupyter.widget-view+json": {
              "model_id": "69c1953e7cf74a30bb2f73a4d7dba73a",
              "version_major": 2,
              "version_minor": 0
            },
            "text/plain": [
              "  0%|          | 0.00/507M [00:00<?, ?B/s]"
            ]
          },
          "metadata": {},
          "output_type": "display_data"
        },
        {
          "metadata": {
            "tags": null
          },
          "name": "stderr",
          "output_type": "stream",
          "text": [
            "INFO flower 2022-10-21 14:48:56,060 | app.py:145 | Starting Flower simulation, config: ServerConfig(num_rounds=10, round_timeout=None)\n",
            "INFO:flower:Starting Flower simulation, config: ServerConfig(num_rounds=10, round_timeout=None)\n",
            "INFO flower 2022-10-21 14:48:59,087 | app.py:179 | Flower VCE: Ray initialized with resources: {'CPU': 12.0, 'node:172.28.0.2': 1.0, 'GPU': 1.0, 'memory': 53563509966.0, 'object_store_memory': 26781754982.0}\n",
            "INFO:flower:Flower VCE: Ray initialized with resources: {'CPU': 12.0, 'node:172.28.0.2': 1.0, 'GPU': 1.0, 'memory': 53563509966.0, 'object_store_memory': 26781754982.0}\n",
            "INFO flower 2022-10-21 14:48:59,090 | server.py:86 | Initializing global parameters\n",
            "INFO:flower:Initializing global parameters\n",
            "INFO flower 2022-10-21 14:48:59,093 | server.py:266 | Using initial parameters provided by strategy\n",
            "INFO:flower:Using initial parameters provided by strategy\n",
            "INFO flower 2022-10-21 14:48:59,096 | server.py:88 | Evaluating initial parameters\n",
            "INFO:flower:Evaluating initial parameters\n",
            "INFO flower 2022-10-21 14:52:11,710 | server.py:95 | initial parameters (loss, other metrics): tensor(205.9088, device='cuda:0', dtype=torch.float64), {'mean_class_acc.': 83.3751766336036}\n",
            "INFO:flower:initial parameters (loss, other metrics): tensor(205.9088, device='cuda:0', dtype=torch.float64), {'mean_class_acc.': 83.3751766336036}\n",
            "INFO flower 2022-10-21 14:52:11,739 | server.py:101 | FL starting\n",
            "INFO:flower:FL starting\n",
            "DEBUG flower 2022-10-21 14:52:11,741 | server.py:220 | fit_round 1: strategy sampled 5 clients (out of 14)\n",
            "DEBUG:flower:fit_round 1: strategy sampled 5 clients (out of 14)\n"
          ]
        },
        {
          "metadata": {
            "tags": null
          },
          "name": "stdout",
          "output_type": "stream",
          "text": [
            "\n",
            "Server eval\n",
            "                Labels  Class Acc.\n",
            "0          Atelectasis   81.398252\n",
            "1         Cardiomegaly   97.413947\n",
            "2        Consolidation   65.346888\n",
            "3                Edema   94.471197\n",
            "4             Effusion   88.228999\n",
            "5            Emphysema   96.308186\n",
            "6             Fibrosis   51.293027\n",
            "7         Infiltration   77.010879\n",
            "8                 Mass   94.453362\n",
            "9               Nodule   93.276262\n",
            "10  Pleural_Thickening   85.357589\n",
            "11           Pneumonia   65.275548\n",
            "12        Pneumothorax   94.043160\n",
            "\n",
            "\n",
            "\u001b[2m\u001b[36m(launch_and_fit pid=1115)\u001b[0m Created client: 1\n",
            "\u001b[2m\u001b[36m(launch_and_fit pid=1115)\u001b[0m [Client 1, round 1] fit, config: {'server_round': 1, 'local_epochs': 4}\n",
            "\u001b[2m\u001b[36m(launch_and_fit pid=1115)\u001b[0m Entered train function, total num. of epochs: 4\n",
            "\u001b[2m\u001b[36m(launch_and_fit pid=1115)\u001b[0m Epoch : 1 Train Loss : 0.888080 \n",
            "\u001b[2m\u001b[36m(launch_and_fit pid=1115)\u001b[0m Epoch : 2 Train Loss : 0.835466 \n",
            "\u001b[2m\u001b[36m(launch_and_fit pid=1115)\u001b[0m Epoch : 3 Train Loss : 0.799197 \n",
            "\u001b[2m\u001b[36m(launch_and_fit pid=1115)\u001b[0m Epoch : 4 Train Loss : 0.780529 \n",
            "\u001b[2m\u001b[36m(launch_and_fit pid=1115)\u001b[0m \n",
            "\u001b[2m\u001b[36m(launch_and_fit pid=1115)\u001b[0m \n",
            "\u001b[2m\u001b[36m(launch_and_fit pid=1115)\u001b[0m Time to complete local training round: 844.151697397232\n",
            "\u001b[2m\u001b[36m(launch_and_fit pid=1115)\u001b[0m \n",
            "\u001b[2m\u001b[36m(launch_and_fit pid=1115)\u001b[0m \n",
            "\u001b[2m\u001b[36m(launch_and_fit pid=1439)\u001b[0m Created client: 4\n",
            "\u001b[2m\u001b[36m(launch_and_fit pid=1439)\u001b[0m [Client 4, round 1] fit, config: {'server_round': 1, 'local_epochs': 4}\n",
            "\u001b[2m\u001b[36m(launch_and_fit pid=1439)\u001b[0m Entered train function, total num. of epochs: 4\n",
            "\u001b[2m\u001b[36m(launch_and_fit pid=1439)\u001b[0m Epoch : 1 Train Loss : 0.898206 \n",
            "\u001b[2m\u001b[36m(launch_and_fit pid=1439)\u001b[0m Epoch : 2 Train Loss : 0.867893 \n",
            "\u001b[2m\u001b[36m(launch_and_fit pid=1439)\u001b[0m Epoch : 3 Train Loss : 0.828916 \n",
            "\u001b[2m\u001b[36m(launch_and_fit pid=1439)\u001b[0m Epoch : 4 Train Loss : 0.801467 \n",
            "\u001b[2m\u001b[36m(launch_and_fit pid=1439)\u001b[0m \n",
            "\u001b[2m\u001b[36m(launch_and_fit pid=1439)\u001b[0m \n",
            "\u001b[2m\u001b[36m(launch_and_fit pid=1439)\u001b[0m Time to complete local training round: 844.3521120548248\n",
            "\u001b[2m\u001b[36m(launch_and_fit pid=1439)\u001b[0m \n",
            "\u001b[2m\u001b[36m(launch_and_fit pid=1439)\u001b[0m \n",
            "\u001b[2m\u001b[36m(launch_and_fit pid=1707)\u001b[0m Created client: 11\n",
            "\u001b[2m\u001b[36m(launch_and_fit pid=1707)\u001b[0m [Client 11, round 1] fit, config: {'server_round': 1, 'local_epochs': 4}\n",
            "\u001b[2m\u001b[36m(launch_and_fit pid=1707)\u001b[0m Entered train function, total num. of epochs: 4\n",
            "\u001b[2m\u001b[36m(launch_and_fit pid=1707)\u001b[0m Epoch : 1 Train Loss : 0.883530 \n",
            "\u001b[2m\u001b[36m(launch_and_fit pid=1707)\u001b[0m Epoch : 2 Train Loss : 0.830975 \n",
            "\u001b[2m\u001b[36m(launch_and_fit pid=1707)\u001b[0m Epoch : 3 Train Loss : 0.801451 \n",
            "\u001b[2m\u001b[36m(launch_and_fit pid=1707)\u001b[0m Epoch : 4 Train Loss : 0.784390 \n",
            "\u001b[2m\u001b[36m(launch_and_fit pid=1707)\u001b[0m \n",
            "\u001b[2m\u001b[36m(launch_and_fit pid=1707)\u001b[0m \n",
            "\u001b[2m\u001b[36m(launch_and_fit pid=1707)\u001b[0m Time to complete local training round: 843.376017332077\n",
            "\u001b[2m\u001b[36m(launch_and_fit pid=1707)\u001b[0m \n",
            "\u001b[2m\u001b[36m(launch_and_fit pid=1707)\u001b[0m \n",
            "\u001b[2m\u001b[36m(launch_and_fit pid=1962)\u001b[0m Created client: 8\n",
            "\u001b[2m\u001b[36m(launch_and_fit pid=1962)\u001b[0m [Client 8, round 1] fit, config: {'server_round': 1, 'local_epochs': 4}\n",
            "\u001b[2m\u001b[36m(launch_and_fit pid=1962)\u001b[0m Entered train function, total num. of epochs: 4\n",
            "\u001b[2m\u001b[36m(launch_and_fit pid=1962)\u001b[0m Epoch : 1 Train Loss : 0.862494 \n",
            "\u001b[2m\u001b[36m(launch_and_fit pid=1962)\u001b[0m Epoch : 2 Train Loss : 0.826324 \n",
            "\u001b[2m\u001b[36m(launch_and_fit pid=1962)\u001b[0m Epoch : 3 Train Loss : 0.795620 \n",
            "\u001b[2m\u001b[36m(launch_and_fit pid=1962)\u001b[0m Epoch : 4 Train Loss : 0.781533 \n",
            "\u001b[2m\u001b[36m(launch_and_fit pid=1962)\u001b[0m \n",
            "\u001b[2m\u001b[36m(launch_and_fit pid=1962)\u001b[0m \n",
            "\u001b[2m\u001b[36m(launch_and_fit pid=1962)\u001b[0m Time to complete local training round: 844.4571771621704\n",
            "\u001b[2m\u001b[36m(launch_and_fit pid=1962)\u001b[0m \n",
            "\u001b[2m\u001b[36m(launch_and_fit pid=1962)\u001b[0m \n",
            "\u001b[2m\u001b[36m(launch_and_fit pid=2227)\u001b[0m Created client: 2\n",
            "\u001b[2m\u001b[36m(launch_and_fit pid=2227)\u001b[0m [Client 2, round 1] fit, config: {'server_round': 1, 'local_epochs': 4}\n",
            "\u001b[2m\u001b[36m(launch_and_fit pid=2227)\u001b[0m Entered train function, total num. of epochs: 4\n",
            "\u001b[2m\u001b[36m(launch_and_fit pid=2227)\u001b[0m Epoch : 1 Train Loss : 0.871711 \n",
            "\u001b[2m\u001b[36m(launch_and_fit pid=2227)\u001b[0m Epoch : 2 Train Loss : 0.828807 \n",
            "\u001b[2m\u001b[36m(launch_and_fit pid=2227)\u001b[0m Epoch : 3 Train Loss : 0.802513 \n",
            "\u001b[2m\u001b[36m(launch_and_fit pid=2227)\u001b[0m Epoch : 4 Train Loss : 0.783235 \n",
            "\u001b[2m\u001b[36m(launch_and_fit pid=2227)\u001b[0m \n",
            "\u001b[2m\u001b[36m(launch_and_fit pid=2227)\u001b[0m \n",
            "\u001b[2m\u001b[36m(launch_and_fit pid=2227)\u001b[0m Time to complete local training round: 846.2346954345703\n",
            "\u001b[2m\u001b[36m(launch_and_fit pid=2227)\u001b[0m \n",
            "\u001b[2m\u001b[36m(launch_and_fit pid=2227)\u001b[0m \n"
          ]
        },
        {
          "metadata": {
            "tags": null
          },
          "name": "stderr",
          "output_type": "stream",
          "text": [
            "DEBUG flower 2022-10-21 16:03:31,847 | server.py:234 | fit_round 1 received 5 results and 0 failures\n",
            "DEBUG:flower:fit_round 1 received 5 results and 0 failures\n",
            "WARNING flower 2022-10-21 16:03:40,399 | fedavg.py:243 | No fit_metrics_aggregation_fn provided\n",
            "WARNING:flower:No fit_metrics_aggregation_fn provided\n",
            "INFO flower 2022-10-21 16:06:38,608 | server.py:122 | fit progress: (1, tensor(203.2069, device='cuda:0', dtype=torch.float64), {'mean_class_acc.': 94.46570907245064}, 4466.866817333001)\n",
            "INFO:flower:fit progress: (1, tensor(203.2069, device='cuda:0', dtype=torch.float64), {'mean_class_acc.': 94.46570907245064}, 4466.866817333001)\n",
            "DEBUG flower 2022-10-21 16:06:38,618 | server.py:170 | evaluate_round 1: strategy sampled 5 clients (out of 14)\n",
            "DEBUG:flower:evaluate_round 1: strategy sampled 5 clients (out of 14)\n"
          ]
        },
        {
          "metadata": {
            "tags": null
          },
          "name": "stdout",
          "output_type": "stream",
          "text": [
            "\n",
            "Server eval\n",
            "                Labels  Class Acc.\n",
            "0          Atelectasis   89.709292\n",
            "1         Cardiomegaly   97.556626\n",
            "2        Consolidation   95.951489\n",
            "3                Edema   98.002497\n",
            "4             Effusion   88.246834\n",
            "5            Emphysema   97.538791\n",
            "6             Fibrosis   98.466203\n",
            "7         Infiltration   82.272160\n",
            "8                 Mass   95.184591\n",
            "9               Nodule   94.453362\n",
            "10  Pleural_Thickening   96.682718\n",
            "11           Pneumonia   98.698056\n",
            "12        Pneumothorax   95.291600\n",
            "\n",
            "\n"
          ]
        },
        {
          "metadata": {
            "tags": null
          },
          "name": "stderr",
          "output_type": "stream",
          "text": [
            "DEBUG flower 2022-10-21 16:07:09,808 | server.py:184 | evaluate_round 1 received 0 results and 5 failures\n",
            "DEBUG:flower:evaluate_round 1 received 0 results and 5 failures\n",
            "DEBUG flower 2022-10-21 16:07:09,811 | server.py:220 | fit_round 2: strategy sampled 5 clients (out of 14)\n",
            "DEBUG:flower:fit_round 2: strategy sampled 5 clients (out of 14)\n"
          ]
        },
        {
          "metadata": {
            "tags": null
          },
          "name": "stdout",
          "output_type": "stream",
          "text": [
            "\u001b[2m\u001b[36m(launch_and_fit pid=3020)\u001b[0m Created client: 10\n",
            "\u001b[2m\u001b[36m(launch_and_fit pid=3020)\u001b[0m [Client 10, round 2] fit, config: {'server_round': 2, 'local_epochs': 4}\n",
            "\u001b[2m\u001b[36m(launch_and_fit pid=3020)\u001b[0m Entered train function, total num. of epochs: 4\n",
            "\u001b[2m\u001b[36m(launch_and_fit pid=3020)\u001b[0m Epoch : 1 Train Loss : 0.835185 \n",
            "\u001b[2m\u001b[36m(launch_and_fit pid=3020)\u001b[0m Epoch : 2 Train Loss : 0.798971 \n",
            "\u001b[2m\u001b[36m(launch_and_fit pid=3020)\u001b[0m Epoch : 3 Train Loss : 0.786819 \n",
            "\u001b[2m\u001b[36m(launch_and_fit pid=3020)\u001b[0m Epoch : 4 Train Loss : 0.766328 \n",
            "\u001b[2m\u001b[36m(launch_and_fit pid=3020)\u001b[0m \n",
            "\u001b[2m\u001b[36m(launch_and_fit pid=3020)\u001b[0m \n",
            "\u001b[2m\u001b[36m(launch_and_fit pid=3020)\u001b[0m Time to complete local training round: 850.7281773090363\n",
            "\u001b[2m\u001b[36m(launch_and_fit pid=3020)\u001b[0m \n",
            "\u001b[2m\u001b[36m(launch_and_fit pid=3020)\u001b[0m \n",
            "\u001b[2m\u001b[36m(launch_and_fit pid=3274)\u001b[0m Created client: 5\n",
            "\u001b[2m\u001b[36m(launch_and_fit pid=3274)\u001b[0m [Client 5, round 2] fit, config: {'server_round': 2, 'local_epochs': 4}\n",
            "\u001b[2m\u001b[36m(launch_and_fit pid=3274)\u001b[0m Entered train function, total num. of epochs: 4\n",
            "\u001b[2m\u001b[36m(launch_and_fit pid=3274)\u001b[0m Epoch : 1 Train Loss : 0.810188 \n",
            "\u001b[2m\u001b[36m(launch_and_fit pid=3274)\u001b[0m Epoch : 2 Train Loss : 0.778977 \n",
            "\u001b[2m\u001b[36m(launch_and_fit pid=3274)\u001b[0m Epoch : 3 Train Loss : 0.764787 \n",
            "\u001b[2m\u001b[36m(launch_and_fit pid=3274)\u001b[0m Epoch : 4 Train Loss : 0.739753 \n",
            "\u001b[2m\u001b[36m(launch_and_fit pid=3274)\u001b[0m \n",
            "\u001b[2m\u001b[36m(launch_and_fit pid=3274)\u001b[0m \n",
            "\u001b[2m\u001b[36m(launch_and_fit pid=3274)\u001b[0m Time to complete local training round: 845.0800745487213\n",
            "\u001b[2m\u001b[36m(launch_and_fit pid=3274)\u001b[0m \n",
            "\u001b[2m\u001b[36m(launch_and_fit pid=3274)\u001b[0m \n",
            "\u001b[2m\u001b[36m(launch_and_fit pid=3538)\u001b[0m Created client: 6\n",
            "\u001b[2m\u001b[36m(launch_and_fit pid=3538)\u001b[0m [Client 6, round 2] fit, config: {'server_round': 2, 'local_epochs': 4}\n",
            "\u001b[2m\u001b[36m(launch_and_fit pid=3538)\u001b[0m Entered train function, total num. of epochs: 4\n",
            "\u001b[2m\u001b[36m(launch_and_fit pid=3538)\u001b[0m Epoch : 1 Train Loss : 0.816626 \n",
            "\u001b[2m\u001b[36m(launch_and_fit pid=3538)\u001b[0m Epoch : 2 Train Loss : 0.787457 \n",
            "\u001b[2m\u001b[36m(launch_and_fit pid=3538)\u001b[0m Epoch : 3 Train Loss : 0.769419 \n",
            "\u001b[2m\u001b[36m(launch_and_fit pid=3538)\u001b[0m Epoch : 4 Train Loss : 0.754848 \n",
            "\u001b[2m\u001b[36m(launch_and_fit pid=3538)\u001b[0m \n",
            "\u001b[2m\u001b[36m(launch_and_fit pid=3538)\u001b[0m \n",
            "\u001b[2m\u001b[36m(launch_and_fit pid=3538)\u001b[0m Time to complete local training round: 846.5980291366577\n",
            "\u001b[2m\u001b[36m(launch_and_fit pid=3538)\u001b[0m \n",
            "\u001b[2m\u001b[36m(launch_and_fit pid=3538)\u001b[0m \n"
          ]
        },
        {
          "metadata": {
            "tags": null
          },
          "name": "stderr",
          "output_type": "stream",
          "text": [
            "DEBUG flower 2022-10-21 16:50:17,649 | server.py:234 | fit_round 2 received 3 results and 2 failures\n",
            "DEBUG:flower:fit_round 2 received 3 results and 2 failures\n",
            "INFO flower 2022-10-21 16:53:19,948 | server.py:122 | fit progress: (2, tensor(197.2564, device='cuda:0', dtype=torch.float64), {'mean_class_acc.': 87.9889149552071}, 7268.206241316999)\n",
            "INFO:flower:fit progress: (2, tensor(197.2564, device='cuda:0', dtype=torch.float64), {'mean_class_acc.': 87.9889149552071}, 7268.206241316999)\n",
            "DEBUG flower 2022-10-21 16:53:19,955 | server.py:170 | evaluate_round 2: strategy sampled 5 clients (out of 14)\n",
            "DEBUG:flower:evaluate_round 2: strategy sampled 5 clients (out of 14)\n"
          ]
        },
        {
          "metadata": {
            "tags": null
          },
          "name": "stdout",
          "output_type": "stream",
          "text": [
            "\n",
            "Server eval\n",
            "                Labels  Class Acc.\n",
            "0          Atelectasis   89.548778\n",
            "1         Cardiomegaly   97.003745\n",
            "2        Consolidation   81.879793\n",
            "3                Edema   64.758338\n",
            "4             Effusion   86.302836\n",
            "5            Emphysema   86.962725\n",
            "6             Fibrosis   97.342607\n",
            "7         Infiltration   80.167648\n",
            "8                 Mass   91.831639\n",
            "9               Nodule   94.043160\n",
            "10  Pleural_Thickening   94.275013\n",
            "11           Pneumonia   93.008739\n",
            "12        Pneumothorax   86.730872\n",
            "\n",
            "\n",
            "\u001b[2m\u001b[36m(launch_and_evaluate pid=3942)\u001b[0m Created client: 12\n",
            "\u001b[2m\u001b[36m(launch_and_evaluate pid=3942)\u001b[0m [Client 12] evaluate, config: {}\n",
            "\u001b[2m\u001b[36m(launch_and_evaluate pid=4002)\u001b[0m Created client: 8\n",
            "\u001b[2m\u001b[36m(launch_and_evaluate pid=4002)\u001b[0m [Client 8] evaluate, config: {}\n",
            "\u001b[2m\u001b[36m(launch_and_evaluate pid=4037)\u001b[0m Created client: 5\n",
            "\u001b[2m\u001b[36m(launch_and_evaluate pid=4037)\u001b[0m [Client 5] evaluate, config: {}\n",
            "\u001b[2m\u001b[36m(launch_and_evaluate pid=4072)\u001b[0m Created client: 13\n",
            "\u001b[2m\u001b[36m(launch_and_evaluate pid=4072)\u001b[0m [Client 13] evaluate, config: {}\n",
            "\u001b[2m\u001b[36m(launch_and_evaluate pid=4108)\u001b[0m Created client: 6\n"
          ]
        },
        {
          "metadata": {
            "tags": null
          },
          "name": "stderr",
          "output_type": "stream",
          "text": [
            "DEBUG flower 2022-10-21 16:54:02,113 | server.py:184 | evaluate_round 2 received 0 results and 5 failures\n",
            "DEBUG:flower:evaluate_round 2 received 0 results and 5 failures\n",
            "DEBUG flower 2022-10-21 16:54:02,118 | server.py:220 | fit_round 3: strategy sampled 5 clients (out of 14)\n",
            "DEBUG:flower:fit_round 3: strategy sampled 5 clients (out of 14)\n"
          ]
        },
        {
          "metadata": {
            "tags": null
          },
          "name": "stdout",
          "output_type": "stream",
          "text": [
            "\u001b[2m\u001b[36m(launch_and_evaluate pid=4108)\u001b[0m [Client 6] evaluate, config: {}\n",
            "\u001b[2m\u001b[36m(launch_and_fit pid=4196)\u001b[0m Created client: 12\n",
            "\u001b[2m\u001b[36m(launch_and_fit pid=4196)\u001b[0m [Client 12, round 3] fit, config: {'server_round': 3, 'local_epochs': 4}\n",
            "\u001b[2m\u001b[36m(launch_and_fit pid=4196)\u001b[0m Entered train function, total num. of epochs: 4\n",
            "\u001b[2m\u001b[36m(launch_and_fit pid=4196)\u001b[0m Epoch : 1 Train Loss : 0.792904 \n",
            "\u001b[2m\u001b[36m(launch_and_fit pid=4196)\u001b[0m Epoch : 2 Train Loss : 0.766543 \n",
            "\u001b[2m\u001b[36m(launch_and_fit pid=4196)\u001b[0m Epoch : 3 Train Loss : 0.746725 \n",
            "\u001b[2m\u001b[36m(launch_and_fit pid=4196)\u001b[0m Epoch : 4 Train Loss : 0.730858 \n",
            "\u001b[2m\u001b[36m(launch_and_fit pid=4196)\u001b[0m \n",
            "\u001b[2m\u001b[36m(launch_and_fit pid=4196)\u001b[0m \n",
            "\u001b[2m\u001b[36m(launch_and_fit pid=4196)\u001b[0m Time to complete local training round: 772.0225481987\n",
            "\u001b[2m\u001b[36m(launch_and_fit pid=4196)\u001b[0m \n",
            "\u001b[2m\u001b[36m(launch_and_fit pid=4196)\u001b[0m \n",
            "\u001b[2m\u001b[36m(launch_and_fit pid=4674)\u001b[0m Created client: 8\n",
            "\u001b[2m\u001b[36m(launch_and_fit pid=4674)\u001b[0m [Client 8, round 3] fit, config: {'server_round': 3, 'local_epochs': 4}\n",
            "\u001b[2m\u001b[36m(launch_and_fit pid=4674)\u001b[0m Entered train function, total num. of epochs: 4\n",
            "\u001b[2m\u001b[36m(launch_and_fit pid=4674)\u001b[0m Epoch : 1 Train Loss : 0.779254 \n",
            "\u001b[2m\u001b[36m(launch_and_fit pid=4674)\u001b[0m Epoch : 2 Train Loss : 0.753826 \n",
            "\u001b[2m\u001b[36m(launch_and_fit pid=4674)\u001b[0m Epoch : 3 Train Loss : 0.737440 \n",
            "\u001b[2m\u001b[36m(launch_and_fit pid=4674)\u001b[0m Epoch : 4 Train Loss : 0.717185 \n",
            "\u001b[2m\u001b[36m(launch_and_fit pid=4674)\u001b[0m \n",
            "\u001b[2m\u001b[36m(launch_and_fit pid=4674)\u001b[0m \n",
            "\u001b[2m\u001b[36m(launch_and_fit pid=4674)\u001b[0m Time to complete local training round: 755.7104589939117\n",
            "\u001b[2m\u001b[36m(launch_and_fit pid=4674)\u001b[0m \n",
            "\u001b[2m\u001b[36m(launch_and_fit pid=4674)\u001b[0m \n"
          ]
        },
        {
          "metadata": {
            "tags": null
          },
          "name": "stderr",
          "output_type": "stream",
          "text": [
            "DEBUG flower 2022-10-21 17:20:09,527 | server.py:234 | fit_round 3 received 2 results and 3 failures\n",
            "DEBUG:flower:fit_round 3 received 2 results and 3 failures\n",
            "INFO flower 2022-10-21 17:23:00,205 | server.py:122 | fit progress: (3, tensor(195.0225, device='cuda:0', dtype=torch.float64), {'mean_class_acc.': 81.37492968953643}, 9048.463768504)\n",
            "INFO:flower:fit progress: (3, tensor(195.0225, device='cuda:0', dtype=torch.float64), {'mean_class_acc.': 81.37492968953643}, 9048.463768504)\n",
            "DEBUG flower 2022-10-21 17:23:00,210 | server.py:170 | evaluate_round 3: strategy sampled 5 clients (out of 14)\n",
            "DEBUG:flower:evaluate_round 3: strategy sampled 5 clients (out of 14)\n"
          ]
        },
        {
          "metadata": {
            "tags": null
          },
          "name": "stdout",
          "output_type": "stream",
          "text": [
            "\n",
            "Server eval\n",
            "                Labels  Class Acc.\n",
            "0          Atelectasis   87.907972\n",
            "1         Cardiomegaly   93.222757\n",
            "2        Consolidation   73.140717\n",
            "3                Edema   62.243624\n",
            "4             Effusion   81.737114\n",
            "5            Emphysema   73.978955\n",
            "6             Fibrosis   84.180489\n",
            "7         Infiltration   80.345996\n",
            "8                 Mass   85.714286\n",
            "9               Nodule   90.868557\n",
            "10  Pleural_Thickening   85.696451\n",
            "11           Pneumonia   70.608168\n",
            "12        Pneumothorax   88.228999\n",
            "\n",
            "\n",
            "\u001b[2m\u001b[36m(launch_and_evaluate pid=5248)\u001b[0m Created client: 5\n",
            "\u001b[2m\u001b[36m(launch_and_evaluate pid=5248)\u001b[0m [Client 5] evaluate, config: {}\n",
            "\u001b[2m\u001b[36m(launch_and_evaluate pid=5291)\u001b[0m Created client: 6\n",
            "\u001b[2m\u001b[36m(launch_and_evaluate pid=5291)\u001b[0m [Client 6] evaluate, config: {}\n",
            "\u001b[2m\u001b[36m(launch_and_evaluate pid=5329)\u001b[0m Created client: 11\n",
            "\u001b[2m\u001b[36m(launch_and_evaluate pid=5329)\u001b[0m [Client 11] evaluate, config: {}\n",
            "\u001b[2m\u001b[1m\u001b[36m(scheduler +2h35m34s)\u001b[0m Tip: use `ray status` to view detailed cluster status. To disable these messages, set RAY_SCHEDULER_EVENTS=0.\n",
            "\u001b[2m\u001b[1m\u001b[33m(scheduler +2h35m34s)\u001b[0m Warning: The following resource request cannot be scheduled right now: {'GPU': 1.0, 'CPU': 1.0}. This is likely due to all cluster resources being claimed by actors. Consider creating fewer actors or adding more nodes to this Ray cluster.\n",
            "\u001b[2m\u001b[36m(launch_and_evaluate pid=5366)\u001b[0m Created client: 12\n",
            "\u001b[2m\u001b[36m(launch_and_evaluate pid=5366)\u001b[0m [Client 12] evaluate, config: {}\n",
            "\u001b[2m\u001b[36m(launch_and_evaluate pid=5401)\u001b[0m Created client: 2\n"
          ]
        },
        {
          "metadata": {
            "tags": null
          },
          "name": "stderr",
          "output_type": "stream",
          "text": [
            "DEBUG flower 2022-10-21 17:23:40,455 | server.py:184 | evaluate_round 3 received 0 results and 5 failures\n",
            "DEBUG:flower:evaluate_round 3 received 0 results and 5 failures\n",
            "DEBUG flower 2022-10-21 17:23:40,458 | server.py:220 | fit_round 4: strategy sampled 5 clients (out of 14)\n",
            "DEBUG:flower:fit_round 4: strategy sampled 5 clients (out of 14)\n"
          ]
        },
        {
          "output_type": "stream",
          "name": "stdout",
          "text": [
            "\u001b[2m\u001b[36m(launch_and_evaluate pid=5401)\u001b[0m [Client 2] evaluate, config: {}\n",
            "\u001b[2m\u001b[36m(launch_and_fit pid=5469)\u001b[0m Created client: 4\n",
            "\u001b[2m\u001b[36m(launch_and_fit pid=5469)\u001b[0m [Client 4, round 4] fit, config: {'server_round': 4, 'local_epochs': 4}\n",
            "\u001b[2m\u001b[36m(launch_and_fit pid=5469)\u001b[0m Entered train function, total num. of epochs: 4\n",
            "\u001b[2m\u001b[36m(launch_and_fit pid=5469)\u001b[0m Epoch : 1 Train Loss : 0.767781 \n",
            "\u001b[2m\u001b[36m(launch_and_fit pid=5469)\u001b[0m Epoch : 2 Train Loss : 0.738629 \n",
            "\u001b[2m\u001b[36m(launch_and_fit pid=5469)\u001b[0m Epoch : 3 Train Loss : 0.720147 \n",
            "\u001b[2m\u001b[36m(launch_and_fit pid=5469)\u001b[0m Epoch : 4 Train Loss : 0.698585 \n",
            "\u001b[2m\u001b[36m(launch_and_fit pid=5469)\u001b[0m \n",
            "\u001b[2m\u001b[36m(launch_and_fit pid=5469)\u001b[0m \n",
            "\u001b[2m\u001b[36m(launch_and_fit pid=5469)\u001b[0m Time to complete local training round: 753.5850644111633\n",
            "\u001b[2m\u001b[36m(launch_and_fit pid=5469)\u001b[0m \n",
            "\u001b[2m\u001b[36m(launch_and_fit pid=5469)\u001b[0m \n",
            "\u001b[2m\u001b[36m(launch_and_fit pid=5842)\u001b[0m Created client: 2\n",
            "\u001b[2m\u001b[36m(launch_and_fit pid=5842)\u001b[0m [Client 2, round 4] fit, config: {'server_round': 4, 'local_epochs': 4}\n",
            "\u001b[2m\u001b[36m(launch_and_fit pid=5842)\u001b[0m Entered train function, total num. of epochs: 4\n",
            "\u001b[2m\u001b[36m(launch_and_fit pid=5842)\u001b[0m Epoch : 1 Train Loss : 0.777039 \n",
            "\u001b[2m\u001b[36m(launch_and_fit pid=5842)\u001b[0m Epoch : 2 Train Loss : 0.759132 \n",
            "\u001b[2m\u001b[36m(launch_and_fit pid=5842)\u001b[0m Epoch : 3 Train Loss : 0.739205 \n",
            "\u001b[2m\u001b[36m(launch_and_fit pid=5842)\u001b[0m Epoch : 4 Train Loss : 0.720963 \n",
            "\u001b[2m\u001b[36m(launch_and_fit pid=5842)\u001b[0m \n",
            "\u001b[2m\u001b[36m(launch_and_fit pid=5842)\u001b[0m \n",
            "\u001b[2m\u001b[36m(launch_and_fit pid=5842)\u001b[0m Time to complete local training round: 760.5240893363953\n",
            "\u001b[2m\u001b[36m(launch_and_fit pid=5842)\u001b[0m \n",
            "\u001b[2m\u001b[36m(launch_and_fit pid=5842)\u001b[0m \n",
            "\u001b[2m\u001b[36m(launch_and_fit pid=6090)\u001b[0m Created client: 0\n",
            "\u001b[2m\u001b[36m(launch_and_fit pid=6090)\u001b[0m [Client 0, round 4] fit, config: {'server_round': 4, 'local_epochs': 4}\n",
            "\u001b[2m\u001b[36m(launch_and_fit pid=6090)\u001b[0m Entered train function, total num. of epochs: 4\n",
            "\u001b[2m\u001b[36m(launch_and_fit pid=6090)\u001b[0m Epoch : 1 Train Loss : 0.762629 \n",
            "\u001b[2m\u001b[36m(launch_and_fit pid=6090)\u001b[0m Epoch : 2 Train Loss : 0.740537 \n",
            "\u001b[2m\u001b[36m(launch_and_fit pid=6090)\u001b[0m Epoch : 3 Train Loss : 0.717558 \n",
            "\u001b[2m\u001b[36m(launch_and_fit pid=6090)\u001b[0m Epoch : 4 Train Loss : 0.701573 \n",
            "\u001b[2m\u001b[36m(launch_and_fit pid=6090)\u001b[0m \n",
            "\u001b[2m\u001b[36m(launch_and_fit pid=6090)\u001b[0m \n",
            "\u001b[2m\u001b[36m(launch_and_fit pid=6090)\u001b[0m Time to complete local training round: 755.1952817440033\n",
            "\u001b[2m\u001b[36m(launch_and_fit pid=6090)\u001b[0m \n",
            "\u001b[2m\u001b[36m(launch_and_fit pid=6090)\u001b[0m \n"
          ]
        },
        {
          "output_type": "stream",
          "name": "stderr",
          "text": [
            "DEBUG flower 2022-10-21 18:02:13,610 | server.py:234 | fit_round 4 received 3 results and 2 failures\n",
            "DEBUG:flower:fit_round 4 received 3 results and 2 failures\n",
            "INFO flower 2022-10-21 18:05:04,711 | server.py:122 | fit progress: (4, tensor(195.7310, device='cuda:0', dtype=torch.float64), {'mean_class_acc.': 81.77827166591211}, 11572.969144073999)\n",
            "INFO:flower:fit progress: (4, tensor(195.7310, device='cuda:0', dtype=torch.float64), {'mean_class_acc.': 81.77827166591211}, 11572.969144073999)\n",
            "DEBUG flower 2022-10-21 18:05:04,716 | server.py:170 | evaluate_round 4: strategy sampled 5 clients (out of 14)\n",
            "DEBUG:flower:evaluate_round 4: strategy sampled 5 clients (out of 14)\n"
          ]
        },
        {
          "output_type": "stream",
          "name": "stdout",
          "text": [
            "\n",
            "Server eval\n",
            "                Labels  Class Acc.\n",
            "0          Atelectasis   88.246834\n",
            "1         Cardiomegaly   96.629213\n",
            "2        Consolidation   88.264669\n",
            "3                Edema   86.552524\n",
            "4             Effusion   86.445515\n",
            "5            Emphysema   70.929196\n",
            "6             Fibrosis   59.229535\n",
            "7         Infiltration   81.719279\n",
            "8                 Mass   74.406991\n",
            "9               Nodule   86.606028\n",
            "10  Pleural_Thickening   76.850366\n",
            "11           Pneumonia   86.285001\n",
            "12        Pneumothorax   80.952381\n",
            "\n",
            "\n",
            "\u001b[2m\u001b[36m(launch_and_evaluate pid=6572)\u001b[0m Created client: 9\n",
            "\u001b[2m\u001b[36m(launch_and_evaluate pid=6572)\u001b[0m [Client 9] evaluate, config: {}\n",
            "\u001b[2m\u001b[36m(launch_and_evaluate pid=6607)\u001b[0m Created client: 8\n",
            "\u001b[2m\u001b[36m(launch_and_evaluate pid=6607)\u001b[0m [Client 8] evaluate, config: {}\n",
            "\u001b[2m\u001b[36m(launch_and_evaluate pid=6642)\u001b[0m Created client: 10\n",
            "\u001b[2m\u001b[36m(launch_and_evaluate pid=6642)\u001b[0m [Client 10] evaluate, config: {}\n",
            "\u001b[2m\u001b[36m(launch_and_evaluate pid=6678)\u001b[0m Created client: 7\n"
          ]
        },
        {
          "output_type": "stream",
          "name": "stderr",
          "text": [
            "DEBUG flower 2022-10-21 18:05:42,182 | server.py:184 | evaluate_round 4 received 0 results and 5 failures\n",
            "DEBUG:flower:evaluate_round 4 received 0 results and 5 failures\n",
            "DEBUG flower 2022-10-21 18:05:42,186 | server.py:220 | fit_round 5: strategy sampled 5 clients (out of 14)\n",
            "DEBUG:flower:fit_round 5: strategy sampled 5 clients (out of 14)\n"
          ]
        },
        {
          "output_type": "stream",
          "name": "stdout",
          "text": [
            "\u001b[2m\u001b[36m(launch_and_evaluate pid=6678)\u001b[0m [Client 7] evaluate, config: {}\n",
            "\u001b[2m\u001b[36m(launch_and_fit pid=6767)\u001b[0m Created client: 9\n",
            "\u001b[2m\u001b[36m(launch_and_fit pid=6767)\u001b[0m [Client 9, round 5] fit, config: {'server_round': 5, 'local_epochs': 4}\n",
            "\u001b[2m\u001b[36m(launch_and_fit pid=6767)\u001b[0m Entered train function, total num. of epochs: 4\n",
            "\u001b[2m\u001b[36m(launch_and_fit pid=6767)\u001b[0m Epoch : 1 Train Loss : 0.761519 \n",
            "\u001b[2m\u001b[36m(launch_and_fit pid=6767)\u001b[0m Epoch : 2 Train Loss : 0.734977 \n",
            "\u001b[2m\u001b[36m(launch_and_fit pid=6767)\u001b[0m Epoch : 3 Train Loss : 0.717751 \n",
            "\u001b[2m\u001b[36m(launch_and_fit pid=6767)\u001b[0m Epoch : 4 Train Loss : 0.696333 \n",
            "\u001b[2m\u001b[36m(launch_and_fit pid=6767)\u001b[0m \n",
            "\u001b[2m\u001b[36m(launch_and_fit pid=6767)\u001b[0m \n",
            "\u001b[2m\u001b[36m(launch_and_fit pid=6767)\u001b[0m Time to complete local training round: 770.0740931034088\n",
            "\u001b[2m\u001b[36m(launch_and_fit pid=6767)\u001b[0m \n",
            "\u001b[2m\u001b[36m(launch_and_fit pid=6767)\u001b[0m \n",
            "\u001b[2m\u001b[36m(launch_and_fit pid=7050)\u001b[0m Created client: 6\n",
            "\u001b[2m\u001b[36m(launch_and_fit pid=7050)\u001b[0m [Client 6, round 5] fit, config: {'server_round': 5, 'local_epochs': 4}\n",
            "\u001b[2m\u001b[36m(launch_and_fit pid=7050)\u001b[0m Entered train function, total num. of epochs: 4\n",
            "\u001b[2m\u001b[36m(launch_and_fit pid=7093)\u001b[0m Created client: 7\n",
            "\u001b[2m\u001b[36m(launch_and_fit pid=7093)\u001b[0m [Client 7, round 5] fit, config: {'server_round': 5, 'local_epochs': 4}\n",
            "\u001b[2m\u001b[36m(launch_and_fit pid=7093)\u001b[0m Entered train function, total num. of epochs: 4\n",
            "\u001b[2m\u001b[36m(launch_and_fit pid=7093)\u001b[0m Epoch : 1 Train Loss : 0.761654 \n",
            "\u001b[2m\u001b[36m(launch_and_fit pid=7093)\u001b[0m Epoch : 2 Train Loss : 0.739212 \n",
            "\u001b[2m\u001b[36m(launch_and_fit pid=7093)\u001b[0m Epoch : 3 Train Loss : 0.709864 \n",
            "\u001b[2m\u001b[36m(launch_and_fit pid=7093)\u001b[0m Epoch : 4 Train Loss : 0.700839 \n",
            "\u001b[2m\u001b[36m(launch_and_fit pid=7093)\u001b[0m \n",
            "\u001b[2m\u001b[36m(launch_and_fit pid=7093)\u001b[0m \n",
            "\u001b[2m\u001b[36m(launch_and_fit pid=7093)\u001b[0m Time to complete local training round: 769.1194198131561\n",
            "\u001b[2m\u001b[36m(launch_and_fit pid=7093)\u001b[0m \n",
            "\u001b[2m\u001b[36m(launch_and_fit pid=7093)\u001b[0m \n",
            "\u001b[2m\u001b[36m(launch_and_fit pid=7301)\u001b[0m Created client: 12\n",
            "\u001b[2m\u001b[36m(launch_and_fit pid=7301)\u001b[0m [Client 12, round 5] fit, config: {'server_round': 5, 'local_epochs': 4}\n",
            "\u001b[2m\u001b[36m(launch_and_fit pid=7301)\u001b[0m Entered train function, total num. of epochs: 4\n",
            "\u001b[2m\u001b[36m(launch_and_fit pid=7301)\u001b[0m Epoch : 1 Train Loss : 0.738350 \n",
            "\u001b[2m\u001b[36m(launch_and_fit pid=7301)\u001b[0m Epoch : 2 Train Loss : 0.715031 \n",
            "\u001b[2m\u001b[36m(launch_and_fit pid=7301)\u001b[0m Epoch : 3 Train Loss : 0.698495 \n",
            "\u001b[2m\u001b[36m(launch_and_fit pid=7301)\u001b[0m Epoch : 4 Train Loss : 0.676263 \n",
            "\u001b[2m\u001b[36m(launch_and_fit pid=7301)\u001b[0m \n",
            "\u001b[2m\u001b[36m(launch_and_fit pid=7301)\u001b[0m \n",
            "\u001b[2m\u001b[36m(launch_and_fit pid=7301)\u001b[0m Time to complete local training round: 770.7836318016052\n",
            "\u001b[2m\u001b[36m(launch_and_fit pid=7301)\u001b[0m \n",
            "\u001b[2m\u001b[36m(launch_and_fit pid=7301)\u001b[0m \n",
            "\u001b[2m\u001b[36m(launch_and_fit pid=7526)\u001b[0m Created client: 8\n",
            "\u001b[2m\u001b[36m(launch_and_fit pid=7526)\u001b[0m [Client 8, round 5] fit, config: {'server_round': 5, 'local_epochs': 4}\n",
            "\u001b[2m\u001b[36m(launch_and_fit pid=7526)\u001b[0m Entered train function, total num. of epochs: 4\n",
            "\u001b[2m\u001b[36m(launch_and_fit pid=7526)\u001b[0m Epoch : 1 Train Loss : 0.727919 \n",
            "\u001b[2m\u001b[36m(launch_and_fit pid=7526)\u001b[0m Epoch : 2 Train Loss : 0.703129 \n",
            "\u001b[2m\u001b[36m(launch_and_fit pid=7526)\u001b[0m Epoch : 3 Train Loss : 0.685197 \n",
            "\u001b[2m\u001b[36m(launch_and_fit pid=7526)\u001b[0m Epoch : 4 Train Loss : 0.664909 \n",
            "\u001b[2m\u001b[36m(launch_and_fit pid=7526)\u001b[0m \n",
            "\u001b[2m\u001b[36m(launch_and_fit pid=7526)\u001b[0m \n",
            "\u001b[2m\u001b[36m(launch_and_fit pid=7526)\u001b[0m Time to complete local training round: 766.3513774871826\n",
            "\u001b[2m\u001b[36m(launch_and_fit pid=7526)\u001b[0m \n",
            "\u001b[2m\u001b[36m(launch_and_fit pid=7526)\u001b[0m \n"
          ]
        },
        {
          "output_type": "stream",
          "name": "stderr",
          "text": [
            "DEBUG flower 2022-10-21 18:57:51,717 | server.py:234 | fit_round 5 received 4 results and 1 failures\n",
            "DEBUG:flower:fit_round 5 received 4 results and 1 failures\n",
            "INFO flower 2022-10-21 19:00:49,968 | server.py:122 | fit progress: (5, tensor(195.9808, device='cuda:0', dtype=torch.float64), {'mean_class_acc.': 77.28114582047166}, 14918.226132992999)\n",
            "INFO:flower:fit progress: (5, tensor(195.9808, device='cuda:0', dtype=torch.float64), {'mean_class_acc.': 77.28114582047166}, 14918.226132992999)\n",
            "DEBUG flower 2022-10-21 19:00:49,973 | server.py:170 | evaluate_round 5: strategy sampled 5 clients (out of 14)\n",
            "DEBUG:flower:evaluate_round 5: strategy sampled 5 clients (out of 14)\n"
          ]
        },
        {
          "output_type": "stream",
          "name": "stdout",
          "text": [
            "\n",
            "Server eval\n",
            "                Labels  Class Acc.\n",
            "0          Atelectasis   88.014981\n",
            "1         Cardiomegaly   97.449617\n",
            "2        Consolidation   81.826289\n",
            "3                Edema   87.123239\n",
            "4             Effusion   85.821295\n",
            "5            Emphysema   64.330301\n",
            "6             Fibrosis   55.930087\n",
            "7         Infiltration   81.754949\n",
            "8                 Mass   58.159444\n",
            "9               Nodule   76.279650\n",
            "10  Pleural_Thickening   67.540574\n",
            "11           Pneumonia   81.826289\n",
            "12        Pneumothorax   78.598181\n",
            "\n",
            "\n",
            "\u001b[2m\u001b[36m(launch_and_evaluate pid=8005)\u001b[0m Created client: 1\n",
            "\u001b[2m\u001b[36m(launch_and_evaluate pid=8005)\u001b[0m [Client 1] evaluate, config: {}\n",
            "\u001b[2m\u001b[36m(launch_and_evaluate pid=8040)\u001b[0m Created client: 9\n"
          ]
        },
        {
          "output_type": "stream",
          "name": "stderr",
          "text": [
            "DEBUG flower 2022-10-21 19:01:23,647 | server.py:184 | evaluate_round 5 received 0 results and 5 failures\n",
            "DEBUG:flower:evaluate_round 5 received 0 results and 5 failures\n",
            "DEBUG flower 2022-10-21 19:01:23,651 | server.py:220 | fit_round 6: strategy sampled 5 clients (out of 14)\n",
            "DEBUG:flower:fit_round 6: strategy sampled 5 clients (out of 14)\n"
          ]
        },
        {
          "output_type": "stream",
          "name": "stdout",
          "text": [
            "\u001b[2m\u001b[36m(launch_and_evaluate pid=8040)\u001b[0m [Client 9] evaluate, config: {}\n",
            "\u001b[2m\u001b[36m(launch_and_fit pid=8136)\u001b[0m Created client: 6\n",
            "\u001b[2m\u001b[36m(launch_and_fit pid=8136)\u001b[0m [Client 6, round 6] fit, config: {'server_round': 6, 'local_epochs': 4}\n",
            "\u001b[2m\u001b[36m(launch_and_fit pid=8136)\u001b[0m Entered train function, total num. of epochs: 4\n",
            "\u001b[2m\u001b[1m\u001b[33m(scheduler +4h13m42s)\u001b[0m Warning: The following resource request cannot be scheduled right now: {'GPU': 1.0, 'CPU': 1.0}. This is likely due to all cluster resources being claimed by actors. Consider creating fewer actors or adding more nodes to this Ray cluster.\n",
            "\u001b[2m\u001b[36m(launch_and_fit pid=8238)\u001b[0m Created client: 8\n",
            "\u001b[2m\u001b[36m(launch_and_fit pid=8238)\u001b[0m [Client 8, round 6] fit, config: {'server_round': 6, 'local_epochs': 4}\n",
            "\u001b[2m\u001b[36m(launch_and_fit pid=8238)\u001b[0m Entered train function, total num. of epochs: 4\n",
            "\u001b[2m\u001b[36m(launch_and_fit pid=8275)\u001b[0m Created client: 1\n",
            "\u001b[2m\u001b[36m(launch_and_fit pid=8275)\u001b[0m [Client 1, round 6] fit, config: {'server_round': 6, 'local_epochs': 4}\n",
            "\u001b[2m\u001b[36m(launch_and_fit pid=8275)\u001b[0m Entered train function, total num. of epochs: 4\n",
            "\u001b[2m\u001b[36m(launch_and_fit pid=8275)\u001b[0m Epoch : 1 Train Loss : 0.732122 \n",
            "\u001b[2m\u001b[36m(launch_and_fit pid=8275)\u001b[0m Epoch : 2 Train Loss : 0.704597 \n",
            "\u001b[2m\u001b[36m(launch_and_fit pid=8275)\u001b[0m Epoch : 3 Train Loss : 0.686451 \n",
            "\u001b[2m\u001b[36m(launch_and_fit pid=8275)\u001b[0m Epoch : 4 Train Loss : 0.680981 \n",
            "\u001b[2m\u001b[36m(launch_and_fit pid=8275)\u001b[0m \n",
            "\u001b[2m\u001b[36m(launch_and_fit pid=8275)\u001b[0m \n",
            "\u001b[2m\u001b[36m(launch_and_fit pid=8275)\u001b[0m Time to complete local training round: 771.6008570194244\n",
            "\u001b[2m\u001b[36m(launch_and_fit pid=8275)\u001b[0m \n",
            "\u001b[2m\u001b[36m(launch_and_fit pid=8275)\u001b[0m \n",
            "\u001b[2m\u001b[36m(launch_and_fit pid=8490)\u001b[0m Created client: 2\n",
            "\u001b[2m\u001b[36m(launch_and_fit pid=8490)\u001b[0m [Client 2, round 6] fit, config: {'server_round': 6, 'local_epochs': 4}\n",
            "\u001b[2m\u001b[36m(launch_and_fit pid=8490)\u001b[0m Entered train function, total num. of epochs: 4\n",
            "\u001b[2m\u001b[36m(launch_and_fit pid=8526)\u001b[0m Created client: 12\n",
            "\u001b[2m\u001b[36m(launch_and_fit pid=8526)\u001b[0m [Client 12, round 6] fit, config: {'server_round': 6, 'local_epochs': 4}\n",
            "\u001b[2m\u001b[36m(launch_and_fit pid=8526)\u001b[0m Entered train function, total num. of epochs: 4\n",
            "\u001b[2m\u001b[36m(launch_and_fit pid=8526)\u001b[0m Epoch : 1 Train Loss : 0.713768 \n",
            "\u001b[2m\u001b[36m(launch_and_fit pid=8526)\u001b[0m Epoch : 2 Train Loss : 0.694535 \n",
            "\u001b[2m\u001b[36m(launch_and_fit pid=8526)\u001b[0m Epoch : 3 Train Loss : 0.673765 \n",
            "\u001b[2m\u001b[36m(launch_and_fit pid=8526)\u001b[0m Epoch : 4 Train Loss : 0.644289 \n",
            "\u001b[2m\u001b[36m(launch_and_fit pid=8526)\u001b[0m \n",
            "\u001b[2m\u001b[36m(launch_and_fit pid=8526)\u001b[0m \n",
            "\u001b[2m\u001b[36m(launch_and_fit pid=8526)\u001b[0m Time to complete local training round: 776.1085805892944\n",
            "\u001b[2m\u001b[36m(launch_and_fit pid=8526)\u001b[0m \n",
            "\u001b[2m\u001b[36m(launch_and_fit pid=8526)\u001b[0m \n"
          ]
        },
        {
          "output_type": "stream",
          "name": "stderr",
          "text": [
            "DEBUG flower 2022-10-21 19:27:59,945 | server.py:234 | fit_round 6 received 2 results and 3 failures\n",
            "DEBUG:flower:fit_round 6 received 2 results and 3 failures\n",
            "INFO flower 2022-10-21 19:30:53,138 | server.py:122 | fit progress: (6, tensor(198.1630, device='cuda:0', dtype=torch.float64), {'mean_class_acc.': 83.64269937303646}, 16721.397061171003)\n",
            "INFO:flower:fit progress: (6, tensor(198.1630, device='cuda:0', dtype=torch.float64), {'mean_class_acc.': 83.64269937303646}, 16721.397061171003)\n",
            "DEBUG flower 2022-10-21 19:30:53,144 | server.py:170 | evaluate_round 6: strategy sampled 5 clients (out of 14)\n",
            "DEBUG:flower:evaluate_round 6: strategy sampled 5 clients (out of 14)\n"
          ]
        },
        {
          "output_type": "stream",
          "name": "stdout",
          "text": [
            "\n",
            "Server eval\n",
            "                Labels  Class Acc.\n",
            "0          Atelectasis   85.232745\n",
            "1         Cardiomegaly   97.485286\n",
            "2        Consolidation   87.319422\n",
            "3                Edema   94.150169\n",
            "4             Effusion   88.175495\n",
            "5            Emphysema   46.655966\n",
            "6             Fibrosis   78.241484\n",
            "7         Infiltration   82.325664\n",
            "8                 Mass   91.421437\n",
            "9               Nodule   94.025325\n",
            "10  Pleural_Thickening   86.017478\n",
            "11           Pneumonia   93.365436\n",
            "12        Pneumothorax   62.939183\n",
            "\n",
            "\n",
            "\u001b[2m\u001b[36m(launch_and_evaluate pid=8835)\u001b[0m Created client: 2\n",
            "\u001b[2m\u001b[36m(launch_and_evaluate pid=8835)\u001b[0m [Client 2] evaluate, config: {}\n",
            "\u001b[2m\u001b[36m(launch_and_evaluate pid=8943)\u001b[0m Created client: 4\n",
            "\u001b[2m\u001b[36m(launch_and_evaluate pid=8943)\u001b[0m [Client 4] evaluate, config: {}\n",
            "\u001b[2m\u001b[36m(launch_and_evaluate pid=8978)\u001b[0m Created client: 9\n",
            "\u001b[2m\u001b[36m(launch_and_evaluate pid=8978)\u001b[0m [Client 9] evaluate, config: {}\n",
            "\u001b[2m\u001b[36m(launch_and_evaluate pid=9013)\u001b[0m Created client: 7\n",
            "\u001b[2m\u001b[36m(launch_and_evaluate pid=9013)\u001b[0m [Client 7] evaluate, config: {}\n",
            "\u001b[2m\u001b[36m(launch_and_evaluate pid=9048)\u001b[0m Created client: 5\n"
          ]
        },
        {
          "output_type": "stream",
          "name": "stderr",
          "text": [
            "DEBUG flower 2022-10-21 19:31:33,747 | server.py:184 | evaluate_round 6 received 0 results and 5 failures\n",
            "DEBUG:flower:evaluate_round 6 received 0 results and 5 failures\n",
            "DEBUG flower 2022-10-21 19:31:33,751 | server.py:220 | fit_round 7: strategy sampled 5 clients (out of 14)\n",
            "DEBUG:flower:fit_round 7: strategy sampled 5 clients (out of 14)\n"
          ]
        },
        {
          "output_type": "stream",
          "name": "stdout",
          "text": [
            "\u001b[2m\u001b[36m(launch_and_evaluate pid=9048)\u001b[0m [Client 5] evaluate, config: {}\n",
            "\u001b[2m\u001b[36m(launch_and_fit pid=9198)\u001b[0m Created client: 11\n",
            "\u001b[2m\u001b[36m(launch_and_fit pid=9198)\u001b[0m [Client 11, round 7] fit, config: {'server_round': 7, 'local_epochs': 4}\n",
            "\u001b[2m\u001b[36m(launch_and_fit pid=9198)\u001b[0m Entered train function, total num. of epochs: 4\n",
            "\u001b[2m\u001b[36m(launch_and_fit pid=9198)\u001b[0m Epoch : 1 Train Loss : 0.734423 \n",
            "\u001b[2m\u001b[36m(launch_and_fit pid=9198)\u001b[0m Epoch : 2 Train Loss : 0.709222 \n",
            "\u001b[2m\u001b[36m(launch_and_fit pid=9198)\u001b[0m Epoch : 3 Train Loss : 0.691675 \n",
            "\u001b[2m\u001b[36m(launch_and_fit pid=9198)\u001b[0m Epoch : 4 Train Loss : 0.663987 \n",
            "\u001b[2m\u001b[36m(launch_and_fit pid=9198)\u001b[0m \n",
            "\u001b[2m\u001b[36m(launch_and_fit pid=9198)\u001b[0m \n",
            "\u001b[2m\u001b[36m(launch_and_fit pid=9198)\u001b[0m Time to complete local training round: 786.9469661712646\n",
            "\u001b[2m\u001b[36m(launch_and_fit pid=9198)\u001b[0m \n",
            "\u001b[2m\u001b[36m(launch_and_fit pid=9198)\u001b[0m \n",
            "\u001b[2m\u001b[36m(launch_and_fit pid=9430)\u001b[0m Created client: 4\n",
            "\u001b[2m\u001b[36m(launch_and_fit pid=9430)\u001b[0m [Client 4, round 7] fit, config: {'server_round': 7, 'local_epochs': 4}\n",
            "\u001b[2m\u001b[36m(launch_and_fit pid=9430)\u001b[0m Entered train function, total num. of epochs: 4\n",
            "\u001b[2m\u001b[36m(launch_and_fit pid=9466)\u001b[0m Created client: 5\n",
            "\u001b[2m\u001b[36m(launch_and_fit pid=9466)\u001b[0m [Client 5, round 7] fit, config: {'server_round': 7, 'local_epochs': 4}\n",
            "\u001b[2m\u001b[36m(launch_and_fit pid=9466)\u001b[0m Entered train function, total num. of epochs: 4\n",
            "\u001b[2m\u001b[36m(launch_and_fit pid=9503)\u001b[0m Created client: 3\n",
            "\u001b[2m\u001b[36m(launch_and_fit pid=9503)\u001b[0m [Client 3, round 7] fit, config: {'server_round': 7, 'local_epochs': 4}\n",
            "\u001b[2m\u001b[36m(launch_and_fit pid=9503)\u001b[0m Entered train function, total num. of epochs: 4\n",
            "\u001b[2m\u001b[36m(launch_and_fit pid=9539)\u001b[0m Created client: 12\n",
            "\u001b[2m\u001b[36m(launch_and_fit pid=9539)\u001b[0m [Client 12, round 7] fit, config: {'server_round': 7, 'local_epochs': 4}\n",
            "\u001b[2m\u001b[36m(launch_and_fit pid=9539)\u001b[0m Entered train function, total num. of epochs: 4\n",
            "\u001b[2m\u001b[36m(launch_and_fit pid=9539)\u001b[0m Epoch : 1 Train Loss : 0.675424 \n",
            "\u001b[2m\u001b[36m(launch_and_fit pid=9539)\u001b[0m Epoch : 2 Train Loss : 0.652565 \n",
            "\u001b[2m\u001b[36m(launch_and_fit pid=9539)\u001b[0m Epoch : 3 Train Loss : 0.629601 \n",
            "\u001b[2m\u001b[36m(launch_and_fit pid=9539)\u001b[0m Epoch : 4 Train Loss : 0.615215 \n",
            "\u001b[2m\u001b[36m(launch_and_fit pid=9539)\u001b[0m \n",
            "\u001b[2m\u001b[36m(launch_and_fit pid=9539)\u001b[0m \n",
            "\u001b[2m\u001b[36m(launch_and_fit pid=9539)\u001b[0m Time to complete local training round: 757.2006530761719\n",
            "\u001b[2m\u001b[36m(launch_and_fit pid=9539)\u001b[0m \n",
            "\u001b[2m\u001b[36m(launch_and_fit pid=9539)\u001b[0m \n"
          ]
        },
        {
          "output_type": "stream",
          "name": "stderr",
          "text": [
            "DEBUG flower 2022-10-21 19:58:08,449 | server.py:234 | fit_round 7 received 2 results and 3 failures\n",
            "DEBUG:flower:fit_round 7 received 2 results and 3 failures\n",
            "INFO flower 2022-10-21 20:00:59,851 | server.py:122 | fit progress: (7, tensor(199.3988, device='cuda:0', dtype=torch.float64), {'mean_class_acc.': 84.32179555775063}, 18528.110082381)\n",
            "INFO:flower:fit progress: (7, tensor(199.3988, device='cuda:0', dtype=torch.float64), {'mean_class_acc.': 84.32179555775063}, 18528.110082381)\n",
            "DEBUG flower 2022-10-21 20:00:59,858 | server.py:170 | evaluate_round 7: strategy sampled 5 clients (out of 14)\n",
            "DEBUG:flower:evaluate_round 7: strategy sampled 5 clients (out of 14)\n"
          ]
        },
        {
          "output_type": "stream",
          "name": "stdout",
          "text": [
            "\n",
            "Server eval\n",
            "                Labels  Class Acc.\n",
            "0          Atelectasis   89.513109\n",
            "1         Cardiomegaly   97.538791\n",
            "2        Consolidation   91.581951\n",
            "3                Edema   92.848225\n",
            "4             Effusion   88.318174\n",
            "5            Emphysema   58.498306\n",
            "6             Fibrosis   74.406991\n",
            "7         Infiltration   81.380417\n",
            "8                 Mass   91.938648\n",
            "9               Nodule   87.890137\n",
            "10  Pleural_Thickening   87.907972\n",
            "11           Pneumonia   82.307829\n",
            "12        Pneumothorax   72.052791\n",
            "\n",
            "\n",
            "\u001b[2m\u001b[36m(launch_and_evaluate pid=9853)\u001b[0m Created client: 5\n",
            "\u001b[2m\u001b[36m(launch_and_evaluate pid=9853)\u001b[0m [Client 5] evaluate, config: {}\n",
            "\u001b[2m\u001b[36m(launch_and_evaluate pid=9948)\u001b[0m Created client: 13\n",
            "\u001b[2m\u001b[36m(launch_and_evaluate pid=9948)\u001b[0m [Client 13] evaluate, config: {}\n",
            "\u001b[2m\u001b[36m(launch_and_evaluate pid=9984)\u001b[0m Created client: 9\n",
            "\u001b[2m\u001b[36m(launch_and_evaluate pid=9984)\u001b[0m [Client 9] evaluate, config: {}\n",
            "\u001b[2m\u001b[36m(launch_and_evaluate pid=10019)\u001b[0m Created client: 4\n",
            "\u001b[2m\u001b[36m(launch_and_evaluate pid=10019)\u001b[0m [Client 4] evaluate, config: {}\n",
            "\u001b[2m\u001b[36m(launch_and_evaluate pid=10054)\u001b[0m Created client: 6\n"
          ]
        },
        {
          "output_type": "stream",
          "name": "stderr",
          "text": [
            "DEBUG flower 2022-10-21 20:01:39,175 | server.py:184 | evaluate_round 7 received 0 results and 5 failures\n",
            "DEBUG:flower:evaluate_round 7 received 0 results and 5 failures\n",
            "DEBUG flower 2022-10-21 20:01:39,179 | server.py:220 | fit_round 8: strategy sampled 5 clients (out of 14)\n",
            "DEBUG:flower:fit_round 8: strategy sampled 5 clients (out of 14)\n"
          ]
        },
        {
          "output_type": "stream",
          "name": "stdout",
          "text": [
            "\u001b[2m\u001b[36m(launch_and_evaluate pid=10054)\u001b[0m [Client 6] evaluate, config: {}\n",
            "\u001b[2m\u001b[36m(launch_and_fit pid=10162)\u001b[0m Created client: 4\n",
            "\u001b[2m\u001b[36m(launch_and_fit pid=10162)\u001b[0m [Client 4, round 8] fit, config: {'server_round': 8, 'local_epochs': 4}\n",
            "\u001b[2m\u001b[36m(launch_and_fit pid=10162)\u001b[0m Entered train function, total num. of epochs: 4\n",
            "\u001b[2m\u001b[36m(launch_and_fit pid=10162)\u001b[0m Epoch : 1 Train Loss : 0.730587 \n",
            "\u001b[2m\u001b[36m(launch_and_fit pid=10162)\u001b[0m Epoch : 2 Train Loss : 0.707026 \n",
            "\u001b[2m\u001b[36m(launch_and_fit pid=10162)\u001b[0m Epoch : 3 Train Loss : 0.688020 \n"
          ]
        }
      ],
      "source": [
        "num_rounds = 10\n",
        "local_epochs = 4\n",
        "fraction_fit = 0.05\n",
        "fraction_evaluate = 0.05\n",
        "min_fit_clients = 5\n",
        "min_evaluate_clients = 5\n",
        "\n",
        "client_resources = {\n",
        "    \"num_cpus\": 1,\n",
        "    \"num_gpus\": 1\n",
        "    }\n",
        "\n",
        "def fit_config(server_round: int):    \n",
        "    config = {\n",
        "        \"server_round\": server_round,\n",
        "        \"local_epochs\": local_epochs,\n",
        "    }\n",
        "    return config\n",
        "\n",
        "# Create an instance of the model and get the parameters\n",
        "net = init_net()\n",
        "params = get_parameters(init_net())\n",
        "\n",
        "# Pass parameters to the Strategy for server-side parameter initialization\n",
        "strategy = fl.server.strategy.FedAvg(\n",
        "    fraction_fit=fraction_fit,\n",
        "    fraction_evaluate=fraction_evaluate,\n",
        "    min_fit_clients=min_fit_clients,\n",
        "    min_evaluate_clients=min_evaluate_clients,\n",
        "    min_available_clients=num_clients,\n",
        "    initial_parameters=fl.common.ndarrays_to_parameters(params),\n",
        "    evaluate_fn=server_eval,\n",
        "    on_fit_config_fn=fit_config,\n",
        ")\n",
        "\n",
        "# Start simulation\n",
        "fl.simulation.start_simulation(\n",
        "    client_fn=client_fn,\n",
        "    num_clients=num_clients,\n",
        "    client_resources=client_resources,\n",
        "    config=fl.server.ServerConfig(num_rounds=num_rounds),\n",
        "    strategy=strategy,\n",
        ")"
      ]
    }
  ],
  "metadata": {
    "accelerator": "GPU",
    "colab": {
      "collapsed_sections": [
        "XBYaiOGnS3f9",
        "eScoLyy4_8Ps",
        "KePvFqUujud4"
      ],
      "machine_shape": "hm",
      "provenance": []
    },
    "gpuClass": "premium",
    "kernelspec": {
      "display_name": "Python 3",
      "name": "python3"
    },
    "language_info": {
      "name": "python"
    },
    "widgets": {
      "application/vnd.jupyter.widget-state+json": {
        "69c1953e7cf74a30bb2f73a4d7dba73a": {
          "model_module": "@jupyter-widgets/controls",
          "model_name": "HBoxModel",
          "model_module_version": "1.5.0",
          "state": {
            "_dom_classes": [],
            "_model_module": "@jupyter-widgets/controls",
            "_model_module_version": "1.5.0",
            "_model_name": "HBoxModel",
            "_view_count": null,
            "_view_module": "@jupyter-widgets/controls",
            "_view_module_version": "1.5.0",
            "_view_name": "HBoxView",
            "box_style": "",
            "children": [
              "IPY_MODEL_93b56a7020b64d45a5a8472e562d0c03",
              "IPY_MODEL_bc4257b93215492ab60d8aa0df31328c",
              "IPY_MODEL_ef731c31fff649f58a6d4f4345c94764"
            ],
            "layout": "IPY_MODEL_3cec715d44204f769f8932c15bbaa2b2"
          }
        },
        "93b56a7020b64d45a5a8472e562d0c03": {
          "model_module": "@jupyter-widgets/controls",
          "model_name": "HTMLModel",
          "model_module_version": "1.5.0",
          "state": {
            "_dom_classes": [],
            "_model_module": "@jupyter-widgets/controls",
            "_model_module_version": "1.5.0",
            "_model_name": "HTMLModel",
            "_view_count": null,
            "_view_module": "@jupyter-widgets/controls",
            "_view_module_version": "1.5.0",
            "_view_name": "HTMLView",
            "description": "",
            "description_tooltip": null,
            "layout": "IPY_MODEL_2e303c7dd26544a0ac18e8872ecdd126",
            "placeholder": "​",
            "style": "IPY_MODEL_1636c050483d445cbca38957d752e62d",
            "value": "100%"
          }
        },
        "bc4257b93215492ab60d8aa0df31328c": {
          "model_module": "@jupyter-widgets/controls",
          "model_name": "FloatProgressModel",
          "model_module_version": "1.5.0",
          "state": {
            "_dom_classes": [],
            "_model_module": "@jupyter-widgets/controls",
            "_model_module_version": "1.5.0",
            "_model_name": "FloatProgressModel",
            "_view_count": null,
            "_view_module": "@jupyter-widgets/controls",
            "_view_module_version": "1.5.0",
            "_view_name": "ProgressView",
            "bar_style": "success",
            "description": "",
            "description_tooltip": null,
            "layout": "IPY_MODEL_3747bb557314470bbae6da1199f5ef3b",
            "max": 531460341,
            "min": 0,
            "orientation": "horizontal",
            "style": "IPY_MODEL_a9e078a117224ac2b2bc267e6356bf00",
            "value": 531460341
          }
        },
        "ef731c31fff649f58a6d4f4345c94764": {
          "model_module": "@jupyter-widgets/controls",
          "model_name": "HTMLModel",
          "model_module_version": "1.5.0",
          "state": {
            "_dom_classes": [],
            "_model_module": "@jupyter-widgets/controls",
            "_model_module_version": "1.5.0",
            "_model_name": "HTMLModel",
            "_view_count": null,
            "_view_module": "@jupyter-widgets/controls",
            "_view_module_version": "1.5.0",
            "_view_name": "HTMLView",
            "description": "",
            "description_tooltip": null,
            "layout": "IPY_MODEL_2455b30fe2f84c92aebadb2c711ad286",
            "placeholder": "​",
            "style": "IPY_MODEL_48aa31fe71024770bf7c0d18ae34eae5",
            "value": " 507M/507M [00:08&lt;00:00, 72.3MB/s]"
          }
        },
        "3cec715d44204f769f8932c15bbaa2b2": {
          "model_module": "@jupyter-widgets/base",
          "model_name": "LayoutModel",
          "model_module_version": "1.2.0",
          "state": {
            "_model_module": "@jupyter-widgets/base",
            "_model_module_version": "1.2.0",
            "_model_name": "LayoutModel",
            "_view_count": null,
            "_view_module": "@jupyter-widgets/base",
            "_view_module_version": "1.2.0",
            "_view_name": "LayoutView",
            "align_content": null,
            "align_items": null,
            "align_self": null,
            "border": null,
            "bottom": null,
            "display": null,
            "flex": null,
            "flex_flow": null,
            "grid_area": null,
            "grid_auto_columns": null,
            "grid_auto_flow": null,
            "grid_auto_rows": null,
            "grid_column": null,
            "grid_gap": null,
            "grid_row": null,
            "grid_template_areas": null,
            "grid_template_columns": null,
            "grid_template_rows": null,
            "height": null,
            "justify_content": null,
            "justify_items": null,
            "left": null,
            "margin": null,
            "max_height": null,
            "max_width": null,
            "min_height": null,
            "min_width": null,
            "object_fit": null,
            "object_position": null,
            "order": null,
            "overflow": null,
            "overflow_x": null,
            "overflow_y": null,
            "padding": null,
            "right": null,
            "top": null,
            "visibility": null,
            "width": null
          }
        },
        "2e303c7dd26544a0ac18e8872ecdd126": {
          "model_module": "@jupyter-widgets/base",
          "model_name": "LayoutModel",
          "model_module_version": "1.2.0",
          "state": {
            "_model_module": "@jupyter-widgets/base",
            "_model_module_version": "1.2.0",
            "_model_name": "LayoutModel",
            "_view_count": null,
            "_view_module": "@jupyter-widgets/base",
            "_view_module_version": "1.2.0",
            "_view_name": "LayoutView",
            "align_content": null,
            "align_items": null,
            "align_self": null,
            "border": null,
            "bottom": null,
            "display": null,
            "flex": null,
            "flex_flow": null,
            "grid_area": null,
            "grid_auto_columns": null,
            "grid_auto_flow": null,
            "grid_auto_rows": null,
            "grid_column": null,
            "grid_gap": null,
            "grid_row": null,
            "grid_template_areas": null,
            "grid_template_columns": null,
            "grid_template_rows": null,
            "height": null,
            "justify_content": null,
            "justify_items": null,
            "left": null,
            "margin": null,
            "max_height": null,
            "max_width": null,
            "min_height": null,
            "min_width": null,
            "object_fit": null,
            "object_position": null,
            "order": null,
            "overflow": null,
            "overflow_x": null,
            "overflow_y": null,
            "padding": null,
            "right": null,
            "top": null,
            "visibility": null,
            "width": null
          }
        },
        "1636c050483d445cbca38957d752e62d": {
          "model_module": "@jupyter-widgets/controls",
          "model_name": "DescriptionStyleModel",
          "model_module_version": "1.5.0",
          "state": {
            "_model_module": "@jupyter-widgets/controls",
            "_model_module_version": "1.5.0",
            "_model_name": "DescriptionStyleModel",
            "_view_count": null,
            "_view_module": "@jupyter-widgets/base",
            "_view_module_version": "1.2.0",
            "_view_name": "StyleView",
            "description_width": ""
          }
        },
        "3747bb557314470bbae6da1199f5ef3b": {
          "model_module": "@jupyter-widgets/base",
          "model_name": "LayoutModel",
          "model_module_version": "1.2.0",
          "state": {
            "_model_module": "@jupyter-widgets/base",
            "_model_module_version": "1.2.0",
            "_model_name": "LayoutModel",
            "_view_count": null,
            "_view_module": "@jupyter-widgets/base",
            "_view_module_version": "1.2.0",
            "_view_name": "LayoutView",
            "align_content": null,
            "align_items": null,
            "align_self": null,
            "border": null,
            "bottom": null,
            "display": null,
            "flex": null,
            "flex_flow": null,
            "grid_area": null,
            "grid_auto_columns": null,
            "grid_auto_flow": null,
            "grid_auto_rows": null,
            "grid_column": null,
            "grid_gap": null,
            "grid_row": null,
            "grid_template_areas": null,
            "grid_template_columns": null,
            "grid_template_rows": null,
            "height": null,
            "justify_content": null,
            "justify_items": null,
            "left": null,
            "margin": null,
            "max_height": null,
            "max_width": null,
            "min_height": null,
            "min_width": null,
            "object_fit": null,
            "object_position": null,
            "order": null,
            "overflow": null,
            "overflow_x": null,
            "overflow_y": null,
            "padding": null,
            "right": null,
            "top": null,
            "visibility": null,
            "width": null
          }
        },
        "a9e078a117224ac2b2bc267e6356bf00": {
          "model_module": "@jupyter-widgets/controls",
          "model_name": "ProgressStyleModel",
          "model_module_version": "1.5.0",
          "state": {
            "_model_module": "@jupyter-widgets/controls",
            "_model_module_version": "1.5.0",
            "_model_name": "ProgressStyleModel",
            "_view_count": null,
            "_view_module": "@jupyter-widgets/base",
            "_view_module_version": "1.2.0",
            "_view_name": "StyleView",
            "bar_color": null,
            "description_width": ""
          }
        },
        "2455b30fe2f84c92aebadb2c711ad286": {
          "model_module": "@jupyter-widgets/base",
          "model_name": "LayoutModel",
          "model_module_version": "1.2.0",
          "state": {
            "_model_module": "@jupyter-widgets/base",
            "_model_module_version": "1.2.0",
            "_model_name": "LayoutModel",
            "_view_count": null,
            "_view_module": "@jupyter-widgets/base",
            "_view_module_version": "1.2.0",
            "_view_name": "LayoutView",
            "align_content": null,
            "align_items": null,
            "align_self": null,
            "border": null,
            "bottom": null,
            "display": null,
            "flex": null,
            "flex_flow": null,
            "grid_area": null,
            "grid_auto_columns": null,
            "grid_auto_flow": null,
            "grid_auto_rows": null,
            "grid_column": null,
            "grid_gap": null,
            "grid_row": null,
            "grid_template_areas": null,
            "grid_template_columns": null,
            "grid_template_rows": null,
            "height": null,
            "justify_content": null,
            "justify_items": null,
            "left": null,
            "margin": null,
            "max_height": null,
            "max_width": null,
            "min_height": null,
            "min_width": null,
            "object_fit": null,
            "object_position": null,
            "order": null,
            "overflow": null,
            "overflow_x": null,
            "overflow_y": null,
            "padding": null,
            "right": null,
            "top": null,
            "visibility": null,
            "width": null
          }
        },
        "48aa31fe71024770bf7c0d18ae34eae5": {
          "model_module": "@jupyter-widgets/controls",
          "model_name": "DescriptionStyleModel",
          "model_module_version": "1.5.0",
          "state": {
            "_model_module": "@jupyter-widgets/controls",
            "_model_module_version": "1.5.0",
            "_model_name": "DescriptionStyleModel",
            "_view_count": null,
            "_view_module": "@jupyter-widgets/base",
            "_view_module_version": "1.2.0",
            "_view_name": "StyleView",
            "description_width": ""
          }
        }
      }
    }
  },
  "nbformat": 4,
  "nbformat_minor": 0
}